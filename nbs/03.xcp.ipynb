{
 "cells": [
  {
   "cell_type": "markdown",
   "metadata": {},
   "source": [
    "# XCP\n",
    "\n",
    "> flashing interface for XCP\n",
    "> For now, only support XCP on CAN via Kvaser CAN interface"
   ]
  },
  {
   "cell_type": "code",
   "execution_count": null,
   "metadata": {},
   "outputs": [],
   "source": [
    "#| default_exp xcp"
   ]
  },
  {
   "cell_type": "code",
   "execution_count": null,
   "metadata": {},
   "outputs": [],
   "source": [
    "#| hide\n",
    "from nbdev.showdoc import show_doc\n",
    "from fastcore.test import *\n",
    "import platform "
   ]
  },
  {
   "cell_type": "code",
   "execution_count": null,
   "metadata": {},
   "outputs": [],
   "source": [
    "#| export\n",
    "import os\n",
    "import git\n",
    "import argparse\n",
    "from InquirerPy import inquirer\n",
    "from InquirerPy.validator import EmptyInputValidator\n",
    "from InquirerPy.base.control import Choice\n",
    "from pydantic import ValidationError\n",
    "from pprint import pprint, PrettyPrinter"
   ]
  },
  {
   "cell_type": "code",
   "execution_count": null,
   "metadata": {},
   "outputs": [],
   "source": [
    "#| export\n",
    "import subprocess\n",
    "from multiprocessing import Manager\n",
    "from multiprocessing.managers import DictProxy\n",
    "import cantools\n",
    "from cantools.database import Message as MessagerTpl\n",
    "from cantools.database.can.database import Database"
   ]
  },
  {
   "cell_type": "code",
   "execution_count": null,
   "metadata": {},
   "outputs": [],
   "source": [
    "#| export\n",
    "import pandas as pd\n",
    "import numpy as np\n",
    "import struct"
   ]
  },
  {
   "cell_type": "code",
   "execution_count": null,
   "metadata": {},
   "outputs": [],
   "source": [
    "# #|export\n",
    "# from candycan.data_link_socketcan import done, send_msg"
   ]
  },
  {
   "cell_type": "code",
   "execution_count": null,
   "metadata": {},
   "outputs": [],
   "source": [
    "#| export \n",
    "from candycan.a2l import (\n",
    "    list_of_strings,\n",
    "    XCPCalib,\n",
    "    XCPData,\n",
    "    XCPConfig,\n",
    "    Get_XCPCalib_From_XCPJSon,\n",
    "    Generate_Init_XCPData_From_A2L,\n",
    ")\n"
   ]
  },
  {
   "cell_type": "code",
   "execution_count": null,
   "metadata": {},
   "outputs": [],
   "source": [
    "#| hide\n",
    "# running on a physical linux machine (blue pill), otherwise red pill\n",
    "blue_pill = False if os.getenv(\"GITHUB_ACTIONS\") else True"
   ]
  },
  {
   "cell_type": "code",
   "execution_count": null,
   "metadata": {},
   "outputs": [],
   "source": [
    "#| export\n",
    "pp = PrettyPrinter(indent=4, width=80, compact=True)"
   ]
  },
  {
   "cell_type": "code",
   "execution_count": null,
   "metadata": {},
   "outputs": [],
   "source": [
    "#| export \n",
    "repo = git.Repo(\"./\", search_parent_directories=True)  # get the Repo object of tspace\n",
    "if os.path.basename(repo.working_dir) != \"candycan\":  # I'm in the parent repo!\n",
    "    repo = repo.submodule(\"candycan\").module()\n",
    "pprint(repo.working_dir)"
   ]
  },
  {
   "cell_type": "code",
   "execution_count": null,
   "metadata": {},
   "outputs": [],
   "source": [
    "#| export\n",
    "def get_argparser() -> argparse.ArgumentParser:\n",
    "\t\"\"\"Summary\n",
    "\tGet argument parser for command line arguments\n",
    "\n",
    "\tReturns:\n",
    "\t\targparse.ArgumentParser: _description_\n",
    "\t\"\"\"\n",
    "\tparser = argparse.ArgumentParser(description='XCP Processing')\n",
    "\n",
    "\tparser.add_argument(\n",
    "\t\t'--protocol',\n",
    "\t\ttype=str,\n",
    "\t\tchoices=['ccp', 'xcp'],\n",
    "\t\tdefault='ccp',\n",
    "\t\thelp='Protocol to use: ccp/xcp',\n",
    "\t)\n",
    "\n",
    "\tparser.add_argument(\n",
    "\t\t'--download',\n",
    "\t\tdefault=False,\n",
    "\t\thelp='Download or upload: default is download(host->target)',\n",
    "\t\taction='store_true',\n",
    "\t)\n",
    "\n",
    "\tparser.add_argument(\n",
    "\t\t'--diff_flashing',\n",
    "\t\tdefault=True,\n",
    "\t\thelp='use differential flashing',\n",
    "\t\taction='store_false',\n",
    "\t)\n",
    "\n",
    "\tparser.add_argument(\n",
    "\t\t'--a2l', \n",
    "\t\ttype=str,\n",
    "        default=repo.working_dir+'/res/VBU_AI.json',\n",
    "\t\thelp='a2l json file path')\n",
    "\t\t\n",
    "\tparser.add_argument(\n",
    "\t\t\"--node-path\",\n",
    "\t\ttype=str,\n",
    "\t\tdefault=r\"/PROJECT/MODULE[]\",\n",
    "\t\thelp=\"node path to search for calibration parameters\",\n",
    "\t)\n",
    "\n",
    "\tparser.add_argument(\n",
    "\t\t\"--leaves\",\n",
    "\t\ttype=list_of_strings,\n",
    "\t\tdefault=r\"TQD_trqTrqSetNormal_MAP_v, \" \n",
    "\t\t\t\tr\"VBU_L045A_CWP_05_09T_AImode_CM_single, \" \n",
    "\t\t\t\tr\"Lookup2D_FLOAT32_IEEE, \" \n",
    "\t\t\t\tr\"Lookup2D_X_FLOAT32_IEEE, \" \n",
    "\t\t\t\tr\"Scalar_FLOAT32_IEEE, \" \n",
    "\t\t\t\tr\"TQD_vVehSpd, \"\n",
    "\t\t\t\tr\"TQD_vSgndSpd_MAP_y, \"\n",
    "\t\t\t\tr\"TQD_pctAccPedPosFlt, \"\n",
    "\t\t\t\tr\"TQD_pctAccPdl_MAP_x\",\n",
    "\t\t\thelp=\"leaf nodes to search for\",\n",
    "\t)\n",
    "\n",
    "\tparser.add_argument(\n",
    "\t\t'--channel', \n",
    "\t\ttype=int,\n",
    "\t\tdefault=3,\n",
    "\t\thelp='CAN channel for flashing')\n",
    "\t\t\n",
    "\tparser.add_argument(\n",
    "\t\t'--download_id', \n",
    "\t\ttype=int,\n",
    "\t\tdefault=630,\n",
    "\t\thelp='CAN message ID for downloading')\n",
    "\t\t\n",
    "\tparser.add_argument(\n",
    "\t\t'--upload_id', \n",
    "\t\ttype=int,\n",
    "\t\tdefault=631,\n",
    "\t\thelp='CAN message ID for downloading')\n",
    "\t\t\n",
    "\tparser.add_argument(\n",
    "\t\t'--input', \n",
    "\t\ttype=str,\n",
    "        default=repo.working_dir+'/res/download.json',\n",
    "\t\thelp='Input file path')\n",
    "\t\n",
    "\tparser.add_argument(\n",
    "\t\t'--output', \n",
    "\t\ttype=str, \n",
    "        default=repo.working_dir+'/res/output.json',\n",
    "\t\thelp='Output file path')\n",
    "\treturn parser"
   ]
  },
  {
   "cell_type": "code",
   "execution_count": null,
   "metadata": {},
   "outputs": [],
   "source": [
    "show_doc(get_argparser)"
   ]
  },
  {
   "cell_type": "code",
   "execution_count": null,
   "metadata": {},
   "outputs": [],
   "source": [
    "parser = get_argparser()\n",
    "args = parser.parse_args(\n",
    "    args=[\n",
    "        '--protocol', 'xcp',\n",
    "        '--download',\n",
    "        '--a2l', repo.working_dir+'/res/VBU_AI.json',\n",
    "        '--node-path', r'/PROJECT/MODULE[]',\n",
    "        '--leaves', r'TQD_trqTrqSetNormal_MAP_v, VBU_L045A_CWP_05_09T_AImode_CM_single, Lookup2D_FLOAT32_IEEE, Lookup2D_X_FLOAT32_IEEE, Scalar_FLOAT32_IEEE, TQD_vVehSpd, TQD_vSgndSpd_MAP_y, TQD_pctAccPedPosFlt, TQD_pctAccPdl_MAP_x',\n",
    "        '--channel', '3',\n",
    "        '--download_id', '630',\n",
    "        '--upload_id', '631',\n",
    "        '--input', repo.working_dir+'/res/download.json',\n",
    "        '--output', repo.working_dir+'/res/output.json',\n",
    "    ]\n",
    ")"
   ]
  },
  {
   "cell_type": "code",
   "execution_count": null,
   "metadata": {},
   "outputs": [],
   "source": [
    "xcp_calib_from_xcpjson = Get_XCPCalib_From_XCPJSon(args.input)\n",
    "\n",
    "xcp_data = Generate_Init_XCPData_From_A2L(\n",
    "    a2l=args.a2l, keys=args.leaves, node_path=args.node_path\n",
    ")\n",
    "\n",
    "#  address from xcp data file should align with the address from xcp calib file\n",
    "test_eq(xcp_data.address, xcp_calib_from_xcpjson.data[0].address)\n",
    "\n",
    "# validate the model\n",
    "try:\n",
    "    XCPData.model_validate(xcp_data)\n",
    "except ValidationError as exc:\n",
    "    print(exc)"
   ]
  },
  {
   "cell_type": "code",
   "execution_count": null,
   "metadata": {},
   "outputs": [],
   "source": [
    "# type(args.channel), type(args.download_id), args.upload_id, args.download, args.diff_flashing"
   ]
  },
  {
   "cell_type": "code",
   "execution_count": null,
   "metadata": {},
   "outputs": [],
   "source": [
    "xcp_data.value = xcp_calib_from_xcpjson.data[0].value\n",
    "pprint(xcp_data)\n",
    "\n",
    "xcp_calib = XCPCalib(\n",
    "    config=XCPConfig(\n",
    "        channel=args.channel, download=str(args.download_id), upload=str(args.upload_id)\n",
    "    ),\n",
    "    data=[xcp_data],\n",
    ")\n",
    "pprint(xcp_calib)"
   ]
  },
  {
   "cell_type": "code",
   "execution_count": null,
   "metadata": {},
   "outputs": [],
   "source": [
    "npa =  xcp_calib.data[0].value_array_view\n",
    "npa"
   ]
  },
  {
   "cell_type": "code",
   "execution_count": null,
   "metadata": {},
   "outputs": [],
   "source": [
    "# buffer = [i.hex() for x in npa for i in x]\n",
    "# # buffer[::-1]\n",
    "# len(buffer)\n",
    "# buffer"
   ]
  },
  {
   "cell_type": "code",
   "execution_count": null,
   "metadata": {},
   "outputs": [],
   "source": [
    "\n",
    "# buffer = npa.tobytes()\n",
    "\n",
    "# pprint(buffer), len(buffer)\n",
    "# xcp_calib.data[0].value, len(xcp_calib.data[0].value)"
   ]
  },
  {
   "cell_type": "code",
   "execution_count": null,
   "metadata": {},
   "outputs": [],
   "source": [
    "addr = bytes('7000aa2a', 'utf-8')\n",
    "a = 0x7000aa2a\n",
    "a"
   ]
  },
  {
   "cell_type": "code",
   "execution_count": null,
   "metadata": {},
   "outputs": [],
   "source": [
    "npb = npa[::-1]\n",
    "# npb\n",
    "buffer = [struct.pack(\"<f\", x) for x in np.nditer(npa)]\n",
    "# buffer\n",
    "len(buffer)"
   ]
  },
  {
   "cell_type": "code",
   "execution_count": null,
   "metadata": {},
   "outputs": [],
   "source": [
    "#| export\n",
    "def npa_to_packed_buffer(a: np.ndarray) -> str:\n",
    "    \"\"\" convert a numpy array to a packed string buffer for flashing\n",
    "    TODO: implementation as numpy ufunc\n",
    "\n",
    "    Args:\n",
    "        a (np.ndarray): input numpy array for flashing\n",
    "\n",
    "    Returns:\n",
    "        str: packed string buffer for flashing\n",
    "    \"\"\"\n",
    "    b = [struct.pack(\"<f\", x).hex() for x in np.nditer(a)]\n",
    "    return ''.join(b)"
   ]
  },
  {
   "cell_type": "code",
   "execution_count": null,
   "metadata": {},
   "outputs": [],
   "source": [
    "\n",
    "# buffer = [struct.pack(\"<f\", x).hex() for x in np.nditer(npa)]\n",
    "# buffer[::-1]\n",
    "# len(buffer)\n",
    "# buffer\n",
    "# data = ''.join(buffer)\n",
    "data = npa_to_packed_buffer(npa)\n",
    "test_eq(data, xcp_calib.data[0].value)\n",
    "# data"
   ]
  },
  {
   "cell_type": "code",
   "execution_count": null,
   "metadata": {},
   "outputs": [],
   "source": [
    "# npa.astype(np.float32).tobytes().hex()\n",
    "buffer = npa.astype(np.float32).tobytes().hex()  ## == npa_to_packed_buffer(npa)\n",
    "buffer, len(buffer)\n",
    "test_eq(buffer, xcp_calib.data[0].value)"
   ]
  },
  {
   "cell_type": "code",
   "execution_count": null,
   "metadata": {},
   "outputs": [],
   "source": [
    "#| export\n",
    "def flash_xcp(xcp_calib: XCPCalib, data: pd.DataFrame, diff_flashing: bool=False, download: bool=True):\n",
    "    \"\"\"Summary\n",
    "    Flash XCP data to target\n",
    "\n",
    "    Args:\n",
    "        xcp_calib (XCPCalib): XCP calibration as template, contains all the meta information except for data\n",
    "        xcp_data (pd.DataFrame): input XCP data to be flashed, replace the value in xcp_calib\n",
    "        diff_flashing (bool): Use differential flashing\n",
    "        download (bool): Download or upload\n",
    "    \n",
    "    \"\"\"\n",
    "    \n",
    "    # convert dataframe to a hex string to be flashed and assigned to XCPCalib field data\n",
    "    xcp_calib.data = data.astype(np.float32).tobytes().hex()\n",
    "\n",
    "    if download:\n",
    "        if diff_flashing:\n",
    "            raise NotImplementedError(\"Differential flashing not implemented yet\")\n",
    "        else:\n",
    "            pass\n",
    "        \n",
    "\n",
    "    "
   ]
  },
  {
   "cell_type": "code",
   "execution_count": null,
   "metadata": {},
   "outputs": [],
   "source": [
    "#| export\n",
    "from scapy.all import *"
   ]
  },
  {
   "cell_type": "code",
   "execution_count": null,
   "metadata": {},
   "outputs": [],
   "source": [
    "pkt = IP()\n",
    "pkt.canvas_dump()"
   ]
  },
  {
   "cell_type": "code",
   "execution_count": null,
   "metadata": {},
   "outputs": [],
   "source": [
    "IP()\n",
    "a = IP(dst=\"10.10.10.28\")\n",
    "a.dst\n",
    "a.ttl\n",
    "ls(IP)"
   ]
  },
  {
   "cell_type": "code",
   "execution_count": null,
   "metadata": {},
   "outputs": [],
   "source": [
    "a = IP(ttl=10)\n",
    "a.src\n",
    "a.dst=\"192.168.1.1\"\n",
    "a\n",
    "Ether()/IP()/TCP()\n",
    "raw(IP())\n",
    "# IP(_)\n",
    "# a = Ether()/IP(dst=\"www.slashdot.org\")/TCP()/\"GET /index.html HTTP \\n\\n\"\n",
    "a = Ether()/IP(dst=\"www.baidu.com\")/TCP()/\"GET /index.html HTTP \\n\\n\"\n",
    "hexdump(a)\n",
    "b=raw(a)\n",
    "b\n",
    "c = Ether(b)\n",
    "c\n",
    "c.hide_defaults()\n",
    "c"
   ]
  },
  {
   "cell_type": "code",
   "execution_count": null,
   "metadata": {},
   "outputs": [],
   "source": [
    "os.getcwd()\n",
    "a = rdpcap('../res/pcaps/ipfix.pcap')\n",
    "a\n",
    "# a[0].pdfdump(layer_shift=1)\n",
    "a[1].psdump(\"/tmp/ipfix.eps\", layer_shift=1)"
   ]
  },
  {
   "cell_type": "code",
   "execution_count": null,
   "metadata": {},
   "outputs": [],
   "source": [
    "a=IP(dst=\"www.baidu.com/30\")\n",
    "a\n",
    "[p for p in a]"
   ]
  },
  {
   "cell_type": "markdown",
   "metadata": {},
   "source": [
    "# Caution\n",
    "\n",
    "set the python3 of the virtualenv with the CAP_NET_RAW capability!\n",
    "\n",
    "```bash\n",
    "sudo setcap 'CAP_NET_RAW+eip CAP_NET_ADMIN+eip' /dpt/.pyenv/versions/miniconda3-3.11-24.1.2-0/envs/can/bin/python3.11\n",
    "```"
   ]
  },
  {
   "cell_type": "code",
   "execution_count": null,
   "metadata": {},
   "outputs": [],
   "source": [
    "# sniff(filter=\"icmp and host 10.10.10.28\", count=2)"
   ]
  },
  {
   "cell_type": "code",
   "execution_count": null,
   "metadata": {},
   "outputs": [],
   "source": [
    "if blue_pill:  # not a virtual machine\n",
    "    # install vcan interface with encrypted password to sudo \n",
    "    os.system(\"gpg -d -q ~/.sshpasswd.gpg | sshpass -v sudo modprobe vcan\")\n",
    "    # sshpass -v -p asdf sudo ip link add dev vcan0 type vcan\n",
    "    os.system(\"gpg -d -q ~/.sshpasswd.gpg | sshpass -v sudo ip link add dev vcan0 type vcan\")\n",
    "    os.system(\"ip link show vcan0\")\n",
    "    # !gpg -d -q ~/.sshpasswd.gpg | sshpass -v sudo ip link set vcan0 type vcan bitrate 500000  # vcan does not support set bitrate on command line!\n",
    "    # !sshpass -p asdf sudo ip link add dev vcan0 type vcan\n",
    "    os.system(\"gpg -d -q ~/.sshpasswd.gpg | sshpass -v sudo ip link set up vcan0\")\n",
    "    # !sshpass -v -p asdf sudo ip link set up vcan0\n",
    "else:  # in a virtual machine (Github workflow)\n",
    "    os.system(\"sudo modprobe vcan\")\n",
    "    # sshpass -v -p asdf sudo ip link add dev vcan0 type vcan\n",
    "    os.system(\"sudo ip link add dev vcan0 type vcan\")\n",
    "    os.system(\"ip link show vcan0\")\n",
    "    # !gpg -d -q ~/.sshpasswd.gpg | sshpass -v sudo ip link set vcan0 type vcan bitrate 500000  # vcan does not support set bitrate on command line!\n",
    "    # !sshpass -p asdf sudo ip link add dev vcan0 type vcan\n",
    "    os.system(\"sudo ip link set up vcan0\")\n",
    "    "
   ]
  },
  {
   "cell_type": "code",
   "execution_count": null,
   "metadata": {},
   "outputs": [],
   "source": [
    "load_layer(\"can\")\n",
    "conf.contribs['CANSocket'] = {'use-python-can': False}\n",
    "load_contrib(\"cansocket\")\n",
    "\n",
    "socket = CANSocket(channel='vcan0',\n",
    "                receive_own_messages=True)"
   ]
  },
  {
   "cell_type": "code",
   "execution_count": null,
   "metadata": {},
   "outputs": [],
   "source": [
    "packet = CAN(identifier=0x123, data=b'12345678')\n",
    "packet.show2()"
   ]
  },
  {
   "cell_type": "code",
   "execution_count": null,
   "metadata": {},
   "outputs": [],
   "source": [
    "\n",
    "socket.send(packet)\n",
    "rx_packet = socket.recv()\n",
    "rx_packet.show2()\n"
   ]
  },
  {
   "cell_type": "markdown",
   "metadata": {},
   "source": [
    "# CCP via Scapy"
   ]
  },
  {
   "cell_type": "code",
   "execution_count": null,
   "metadata": {},
   "outputs": [],
   "source": [
    "load_contrib(\"automotive.ccp\")\n"
   ]
  },
  {
   "cell_type": "code",
   "execution_count": null,
   "metadata": {},
   "outputs": [],
   "source": [
    "pkt = CCP(identifier=0x700)/CRO(ctr=1)/CONNECT(station_address=0x02)\n",
    "pkt.show2()"
   ]
  },
  {
   "cell_type": "code",
   "execution_count": null,
   "metadata": {},
   "outputs": [],
   "source": [
    "pkt = CCP(identifier=0x711)/CRO(ctr=2)/GET_SEED(resource=2)\n",
    "pkt.show2()"
   ]
  },
  {
   "cell_type": "code",
   "execution_count": null,
   "metadata": {},
   "outputs": [],
   "source": [
    "pkt = CCP(identifier=0x711)/CRO(ctr=3)/UNLOCK(key=b\"123456\")\n",
    "pkt.show2()"
   ]
  },
  {
   "cell_type": "code",
   "execution_count": null,
   "metadata": {},
   "outputs": [],
   "source": [
    "pkt = CCP(identifier=0x711)/CRO(ctr=1)/GET_DAQ_SIZE()\n",
    "sock = CANSocket(bustype='socketcan', channel='vcan0', receive_own_messages=True)"
   ]
  },
  {
   "cell_type": "code",
   "execution_count": null,
   "metadata": {},
   "outputs": [],
   "source": [
    "## another socket in the same process cannot receive the packet sent by the first socket\n",
    "# socket2 = CANSocket(channel='vcan0')"
   ]
  },
  {
   "cell_type": "code",
   "execution_count": null,
   "metadata": {},
   "outputs": [],
   "source": [
    "## same socket cannot receive the packet sent by itself\n",
    "# rx_packet = socket2.recv()"
   ]
  },
  {
   "cell_type": "code",
   "execution_count": null,
   "metadata": {},
   "outputs": [],
   "source": []
  },
  {
   "cell_type": "code",
   "execution_count": null,
   "metadata": {},
   "outputs": [],
   "source": [
    "# rx_packet.show2()"
   ]
  },
  {
   "cell_type": "code",
   "execution_count": null,
   "metadata": {},
   "outputs": [],
   "source": [
    "# socket.sr1(packet, timeout=1)"
   ]
  },
  {
   "cell_type": "code",
   "execution_count": null,
   "metadata": {},
   "outputs": [],
   "source": [
    "# rx_packet = socket.recv()\n",
    "wrpcap(\"./scapypcaptest.pcap\", packet)"
   ]
  },
  {
   "cell_type": "code",
   "execution_count": null,
   "metadata": {},
   "outputs": [],
   "source": [
    "\n",
    "if blue_pill:\n",
    "    # close and remove vcan0\n",
    "    os.system(\"gpg -d -q ~/.sshpasswd.gpg | sshpass -v sudo ip link set down vcan0\")\n",
    "    # delete vcan0\n",
    "    os.system(\"gpg -d -q ~/.sshpasswd.gpg | sshpass -v sudo ip link delete vcan0\")    \n",
    "else:\n",
    "    # close and remove vcan0\n",
    "    os.system(\"sudo ip link set down vcan0\")\n",
    "    # delete vcan0\n",
    "    os.system(\"sudo ip link delete vcan0\")    "
   ]
  },
  {
   "cell_type": "code",
   "execution_count": null,
   "metadata": {},
   "outputs": [],
   "source": [
    "#| export\n",
    "if __name__ == \"__main__\" and \"__file__\" in globals():  # only run if this file is called directly\n",
    "\n",
    "    protocol = inquirer.select(\n",
    "        message=\"What's the protocol?\",\n",
    "        choices=[\n",
    "            Choice(value=\"ccp\", name=\"CCP\"),\n",
    "            Choice(value=\"xcp\", name=\"XCP\"),\n",
    "        ],\n",
    "        default=\"ccp\",\n",
    "    ).execute()\n",
    "\n",
    "    download = inquirer.confirm(\n",
    "        message=\"Downloading(host->target)?\",\n",
    "        confirm_letter=\"y\",\n",
    "        reject_letter=\"n\",\n",
    "        default=True,\n",
    "    ).execute()\n",
    "\n",
    "    differential_flashing = inquirer.confirm(\n",
    "        message=\"Differential Flashing?\",\n",
    "        confirm_letter=\"y\",\n",
    "        reject_letter=\"n\",\n",
    "        default=False,\n",
    "    ).execute()\n",
    "\n",
    "    a2l_file_path = inquirer.text(\n",
    "        message=\"a2l file path\",\n",
    "        validate=EmptyInputValidator(),\n",
    "        default='/res/vbu_ai.json'\n",
    "    ).execute()\n",
    "\n",
    "    # node_path = inquirer.text(\n",
    "    #     message=\"node path\",\n",
    "    #     validate=EmptyInputValidator(),\n",
    "    # \tdefault=r\"/PROJECT/MODULE[]\",\n",
    "    # ).execute()\n",
    "\n",
    "    # leaves = inquirer.text(\n",
    "    #     message=\"leaves\",\n",
    "    #     validate=EmptyInputValidator(),\n",
    "    # \tdefault=r\"TQD_trqTrqSetNormal_MAP_v, VBU_L045A_CWP_05_09T_AImode_CM_single, Lookup2D_FLOAT32_IEEE, Lookup2D_X_FLOAT32_IEEE, Scalar_FLOAT32_IEEE, TQD_vVehSpd, TQD_vSgndSpd_MAP_y, TQD_pctAccPedPosFlt, TQD_pctAccPdl_MAP_x\"\n",
    "    # ).execute()\n",
    "\n",
    "    can_channel = inquirer.number(\n",
    "        message=\"CAN channel for flashing\",\n",
    "        min_allowed=0,\n",
    "        max_allowed=32,\n",
    "        validate=EmptyInputValidator(),\n",
    "        default=3,\n",
    "    ).execute()\n",
    "\n",
    "    download_id = inquirer.number(\n",
    "        message=\"CAN ID for downloading\",\n",
    "        min_allowed=0,\n",
    "        max_allowed=9999,\n",
    "        validate=EmptyInputValidator(),\n",
    "        default=630,\n",
    "    ).execute()\n",
    "\n",
    "    upload_id = inquirer.number(\n",
    "        message=\"CAN ID for uploading\",\n",
    "        min_allowed=0,\n",
    "        max_allowed=9999,\n",
    "        validate=EmptyInputValidator(),\n",
    "        default=631,\n",
    "    ).execute()\n",
    "\n",
    "    input_file_path = inquirer.text(\n",
    "        message=\"Input file path\",\n",
    "        validate=EmptyInputValidator(),\n",
    "        default=\"/res/download.json\",\n",
    "    ).execute()\n",
    "\n",
    "    output_file_path = inquirer.text(\n",
    "        message=\"Output file path\",\n",
    "        validate=EmptyInputValidator(),\n",
    "        default=\"/res/output.json\",\n",
    "    ).execute()\n",
    "\n",
    "    args = get_argparser().parse_args()\n",
    "    args.protocol = protocol\n",
    "    args.download = download\n",
    "    args.diff_flashing = differential_flashing\n",
    "    # args.a2l = a2l_file_path\n",
    "    # args.node_path = node_path\n",
    "    # args.leaves = leaves\n",
    "    args.channel = can_channel\n",
    "    args.download_id = download_id\n",
    "    args.upload_id = upload_id\n",
    "    args.input = repo.working_dir+input_file_path\n",
    "    args.output = repo.working_dir+output_file_path\n",
    "    pprint(args)\n",
    "\n",
    "    xcp_calib_from_xcpjson = Get_XCPCalib_From_XCPJSon(args.input)\n",
    "    xcp_data = Generate_Init_XCPData_From_A2L(\n",
    "        a2l=args.a2l, keys=args.leaves, node_path=args.node_path\n",
    "    )\n",
    "    try:\n",
    "        XCPData.model_validate(xcp_data)\n",
    "    except ValidationError as exc:\n",
    "        print(exc)\n",
    "\n",
    "    xcp_data.value = xcp_calib_from_xcpjson.data[0].value\n",
    "    pprint(xcp_data)\n",
    "\n",
    "    xcp_calib = XCPCalib(\n",
    "        config=XCPConfig(\n",
    "            channel=args.channel, download=args.download_id, upload=args.upload_id\n",
    "        ),\n",
    "        data=[xcp_data],\n",
    "    )\n",
    "    pprint(xcp_calib)"
   ]
  },
  {
   "cell_type": "code",
   "execution_count": null,
   "metadata": {},
   "outputs": [],
   "source": [
    "#| hide\n",
    "import nbdev; nbdev.nbdev_export()"
   ]
  }
 ],
 "metadata": {
  "kernelspec": {
   "display_name": "python3",
   "language": "python",
   "name": "python3"
  }
 },
 "nbformat": 4,
 "nbformat_minor": 4
}
