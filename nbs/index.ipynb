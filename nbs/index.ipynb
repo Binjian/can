{
 "cells": [
  {
   "cell_type": "code",
   "execution_count": 1,
   "metadata": {},
   "outputs": [],
   "source": [
    "#| hide\n",
    "from candycan.core import *"
   ]
  },
  {
   "cell_type": "markdown",
   "metadata": {},
   "source": [
    "<img src=\"res/bard_can_2.jpeg\" alt=\"Designed by Bard\" width=\"30%\">"
   ]
  },
  {
   "cell_type": "markdown",
   "metadata": {},
   "source": [
    "# candycan\n",
    "\n",
    "> Python CAN Application Wrapper"
   ]
  },
  {
   "cell_type": "markdown",
   "metadata": {},
   "source": [
    "Features:\n",
    "\n",
    "+ Support both native SocketCAN and Python-CAN (SocketCAN, Kvaser, Vector, etc.)\n",
    "+ Production level data encapsulation with cached properties\n",
    "+ Message parsing with DBC file\n",
    "+ Automatic data validation via Pydantic\n",
    "+ Virtual CAN testing inside Jupyter notebook with multiprocessing support\n",
    "+ Highly efficient a2l file handling with lazy loading and dynamic properties\n",
    "+ Fast file loading by streaming json processing \n",
    "\n",
    "\n",
    "It's based on Python-CAN, Scapy, cantools and dbc-editor"
   ]
  },
  {
   "cell_type": "markdown",
   "metadata": {},
   "source": [
    "## Install"
   ]
  },
  {
   "cell_type": "markdown",
   "metadata": {},
   "source": [
    "Install all the dependencies listed in can-env.yaml and then install candycan\n",
    "\n",
    "```sh\n",
    "pip install candycan\n",
    "```"
   ]
  },
  {
   "cell_type": "markdown",
   "metadata": {},
   "source": [
    "## [Data link layer (ISO 11898-1)](https://en.wikipedia.org/wiki/CAN_bus)"
   ]
  },
  {
   "cell_type": "markdown",
   "metadata": {},
   "source": [
    "+ Frame sending and receiving \n",
    "+ conversion from Python dict object to json and CAN frame\n",
    "+ message parsing with given dbc\n",
    "+ Multiprocessing support for testing inside the notebook\n",
    "+ Secure CAN device add/remove with password proctected gpg encryption \n",
    "+ Flexible arguments setting with argparse and subprocess pipes\n",
    "+ on native [SocketCan](https://www.kernel.org/doc/html/next/networking/can.html) or [Python-CAN](https://python-can.readthedocs.io/en/stable/) virtual CAN channel\n",
    "+ Options with Python-CAN or [Scapy](https://scapy.readthedocs.io/en/latest/introduction.html) backends\n",
    "- integrate [can-utils](https://github.com/linux-can/can-utils), scapy [sniff](https://scapy.readthedocs.io/en/latest/usage.html) for large scale testing (tbd)\n",
    "- extend to Kvaser, Vector, etc. (tbd)\n"
   ]
  },
  {
   "cell_type": "markdown",
   "metadata": {},
   "source": [
    "\n",
    "## [CCP](https://en.wikipedia.org/wiki/XCP_(protocol))"
   ]
  },
  {
   "cell_type": "markdown",
   "metadata": {},
   "source": [
    "+ on physical CAN device (Kvaser) with Scapy application interface\n",
    "+ on physical CAN device with Python-CAN and CCP logic\n",
    "+ context manager for CCP functions\n",
    "+ CCP/XCP data codecs and data processing in Numpy array\n",
    "+ Bytes codecs (raw binary, hex, numeric) with endianess handling\n",
    "+ Flexible arguments setting with argparse and interactive InquirerPy\n",
    "+ Encapsulation of CAN specs in unified [Pydantic](https://docs.pydantic.dev/latest/) models (serialization, schema, validation, annotation, etc.)\n",
    "+ Self incremental command counter inside CAN specs object\n",
    "+ Type systems for CAN (native SocketCAN, Python-CAN) and bus (SocketCAN, virtual CAN, Kvaser, Vector, etc.)\n",
    "\n"
   ]
  },
  {
   "cell_type": "markdown",
   "metadata": {},
   "source": [
    "## A2L"
   ]
  },
  {
   "cell_type": "markdown",
   "metadata": {},
   "source": [
    "+ a2l checking and fixing with [pya2l](https://github.com/christoph2/pyA2L.git) and [a2ltool](https://github.com/DanielT/a2ltool)\n",
    "+ conversion a2l file to legit json files\n",
    "+ al2 tree node, path and path segment definitions for positioning semantics\n",
    "+ searching of calibration terms\n",
    "+ Calibration object with dynamic properties for easy access of class attributes\n",
    "+ Cached properties for automatic data conversion and derivative properties like data size for corresponding data type\n",
    "+ Exception handling with missing calibration properties\n",
    "+ Unified processing of measurement, axis, conversion method and data layouts\n",
    "+ Lazy loading and streaming json file processing with events based [ijson](https://github.com/ICRAR/ijson) \n",
    "+ Encapsulation of calibration properties and values in Pydantic objects (automatic validation, serialization, schemes, etc.)\n",
    "+ Type systems for CCP/XCP data types\n",
    "+ XCPConfig for CCP/XCP configuration\n",
    "+ XCPData for encapsulating calibration data with automatic dimension, data size validation, automatic codecs of hex, raw and numeric values\n",
    "+ array view of table data as cached property with automatic type conversion and validation\n",
    "+ Create calibration data object from a2l file\n",
    "+ Get calibration data from downloaded json file\n"
   ]
  },
  {
   "cell_type": "markdown",
   "metadata": {},
   "source": [
    "## DBC"
   ]
  },
  {
   "cell_type": "markdown",
   "metadata": {},
   "source": [
    "+ load dbc files with [cantools](https://github.com/cantools/cantools)\n",
    "+ append new messages and signals to dbc files\n",
    "+ GUI for interactively modifying dbc on the command line with [dbc-editor](https://gitlab.com/erzo/dbc-editor)"
   ]
  },
  {
   "cell_type": "markdown",
   "metadata": {},
   "source": [
    "## XCP (tbd)"
   ]
  }
 ],
 "metadata": {
  "kernelspec": {
   "display_name": "python3",
   "language": "python",
   "name": "python3"
  },
  "language_info": {
   "codemirror_mode": {
    "name": "ipython",
    "version": 3
   },
   "file_extension": ".py",
   "mimetype": "text/x-python",
   "name": "python",
   "nbconvert_exporter": "python",
   "pygments_lexer": "ipython3",
   "version": "3.11.8"
  }
 },
 "nbformat": 4,
 "nbformat_minor": 4
}
