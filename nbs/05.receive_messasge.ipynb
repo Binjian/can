{
 "cells": [
  {
   "cell_type": "markdown",
   "metadata": {},
   "source": [
    "# receive_message\n",
    "\n",
    "> Receiving a CAN message from a bus\n",
    "> using the python-can library\n",
    "> testing on vcan interface"
   ]
  },
  {
   "cell_type": "code",
   "execution_count": 1,
   "metadata": {},
   "outputs": [],
   "source": [
    "#| default_exp receive_message"
   ]
  },
  {
   "cell_type": "code",
   "execution_count": 2,
   "metadata": {},
   "outputs": [],
   "source": [
    "#| hide\n",
    "from __future__ import annotations\n",
    "from nbdev.showdoc import *\n",
    "from fastcore.test import *\n",
    "from pprint import pprint"
   ]
  },
  {
   "cell_type": "code",
   "execution_count": 3,
   "metadata": {},
   "outputs": [],
   "source": [
    "#| export\n",
    "import subprocess\n",
    "import os\n",
    "import signal\n",
    "import time\n",
    "import sys\n",
    "import io\n",
    "# from multiprocessing import Process, Event\n",
    "# from multiprocessing import synchronize, Manager\n",
    "# from multiprocessing.managers import DictProxy\n",
    "from typing import Optional\n",
    "from datetime import datetime\n",
    "import json"
   ]
  },
  {
   "cell_type": "code",
   "execution_count": 4,
   "metadata": {},
   "outputs": [],
   "source": [
    "#| export\n",
    "import can\n",
    "from can.interface import Bus\n",
    "from can import Message \n",
    "import cantools\n",
    "from cantools.database import Message as MessageTpl"
   ]
  },
  {
   "cell_type": "code",
   "execution_count": 5,
   "metadata": {},
   "outputs": [
    {
     "data": {
      "text/plain": [
       "[message('ExampleMessage', 0x1f0, False, 8, {None: 'Example message used as template in MotoHawk models.'}),\n",
       " message('NewMessage', 0x254, False, 8, {None: 'self made message'})]"
      ]
     },
     "execution_count": 5,
     "metadata": {},
     "output_type": "execute_result"
    },
    {
     "name": "stdout",
     "output_type": "stream",
     "text": [
      "[signal('Enable', 7, 1, 'big_endian', False, None, 1, 0, None, None, '-', False, None, {0: 'Disabled', 1: 'Enabled'}, None, None),\n",
      " signal('AverageRadius', 6, 6, 'big_endian', False, None, 0.1, 0, 0, 5, 'm', False, None, None, None, None),\n",
      " signal('Temperature', 0, 12, 'big_endian', True, None, 0.01, 250, 229.52, 270.47, 'degK', False, None, None, None, None)]\n"
     ]
    },
    {
     "data": {
      "text/plain": [
       "496"
      ]
     },
     "execution_count": 5,
     "metadata": {},
     "output_type": "execute_result"
    }
   ],
   "source": [
    "db = cantools.database.load_file('../res/motohawk_new.dbc')\n",
    "db.messages\n",
    "example_message: MessageTpl = db.get_message_by_name('ExampleMessage')\n",
    "pprint(example_message.signals)\n",
    "# pprint(example_message.__dict__)\n",
    "example_message.frame_id"
   ]
  },
  {
   "cell_type": "code",
   "execution_count": 6,
   "metadata": {},
   "outputs": [
    {
     "name": "stdout",
     "output_type": "stream",
     "text": [
      "SSHPASS: searching for password prompt using match \"assword\"\n",
      "SSHPASS: read: [sudo] password for n: \n",
      "SSHPASS: detected prompt. Sending password.\n"
     ]
    },
    {
     "name": "stdout",
     "output_type": "stream",
     "text": [
      "SSHPASS: read: \n",
      "\n",
      "SSHPASS: searching for password prompt using match \"assword\"\n",
      "SSHPASS: read: [sudo] password for n: \n",
      "SSHPASS: detected prompt. Sending password.\n",
      "SSHPASS: read: \n",
      "\n",
      "14: vcan0: <NOARP> mtu 72 qdisc noop state DOWN mode DEFAULT group default qlen 1000\n",
      "    link/can \n",
      "SSHPASS: searching for password prompt using match \"assword\"\n",
      "SSHPASS: read: [sudo] password for n: \n",
      "SSHPASS: detected prompt. Sending password.\n",
      "SSHPASS: read: \n",
      "\n"
     ]
    }
   ],
   "source": [
    "!gpg -d -q ~/.sshpasswd.gpg | sshpass -v sudo modprobe vcan\n",
    "!gpg -d -q ~/.sshpasswd.gpg | sshpass -v sudo ip link add dev vcan0 type vcan\n",
    "# sshpass -v -p asdf sudo ip link add dev vcan0 type vcan\n",
    "!ip link show vcan0\n",
    "# !gpg -d -q ~/.sshpasswd.gpg | sshpass -v sudo ip link set vcan0 type vcan bitrate 500000  # vcan Does not SUPPORT set bitrate on command line!\n",
    "# !sshpass -p asdf sudo ip link add dev vcan0 type vcan\n",
    "!gpg -d -q ~/.sshpasswd.gpg | sshpass -v sudo ip link set up vcan0\n",
    "# !sshpass -v -p asdf sudo ip link set up vcan0"
   ]
  },
  {
   "cell_type": "code",
   "execution_count": 7,
   "metadata": {},
   "outputs": [
    {
     "data": {
      "text/plain": [
       "b'{\"Temperature\": 250.1, \"AverageRadius\": 3.2, \"Enable\": 1}'"
      ]
     },
     "execution_count": 7,
     "metadata": {},
     "output_type": "execute_result"
    },
    {
     "data": {
      "text/plain": [
       "{'Temperature': 250.1, 'AverageRadius': 3.2, 'Enable': 1}"
      ]
     },
     "execution_count": 7,
     "metadata": {},
     "output_type": "execute_result"
    },
    {
     "data": {
      "text/plain": [
       "{'Enable': 'Enabled', 'AverageRadius': 3.2, 'Temperature': 250.1}"
      ]
     },
     "execution_count": 7,
     "metadata": {},
     "output_type": "execute_result"
    }
   ],
   "source": [
    "data_dict ={'Temperature': 250.1, 'AverageRadius': 3.2, 'Enable': 1}\n",
    "data_json_bytes = json.dumps(data_dict).encode('utf-8')\n",
    "data_json_bytes\n",
    "json.loads(data_json_bytes.decode())\n",
    "\n",
    "can_data = example_message.encode({'Temperature': 250.1, 'AverageRadius': 3.2, 'Enable': 1})\n",
    "example_message.decode(can_data)"
   ]
  },
  {
   "cell_type": "code",
   "execution_count": 8,
   "metadata": {},
   "outputs": [],
   "source": [
    "f = io.BytesIO(data_json_bytes)"
   ]
  },
  {
   "cell_type": "code",
   "execution_count": 9,
   "metadata": {},
   "outputs": [],
   "source": [
    "bus = Bus(bustype='socketcan', channel='vcan0', bitrate=250000)\n",
    "data = example_message.encode({'Temperature': 250.1, 'AverageRadius': 3.2, 'Enable': 1})\n",
    "message_to_send = Message(arbitration_id=example_message.frame_id, data=data, is_extended_id=False) \t\n",
    "# can_bus.send(message)"
   ]
  },
  {
   "cell_type": "code",
   "execution_count": 10,
   "metadata": {},
   "outputs": [
    {
     "ename": "NameError",
     "evalue": "name 'Manager' is not defined",
     "output_type": "error",
     "traceback": [
      "\u001b[0;31m---------------------------------------------------------------------------\u001b[0m",
      "\u001b[0;31mNameError\u001b[0m                                 Traceback (most recent call last)",
      "Cell \u001b[0;32mIn[10], line 1\u001b[0m\n\u001b[0;32m----> 1\u001b[0m manager \u001b[38;5;241m=\u001b[39m \u001b[43mManager\u001b[49m()\n\u001b[1;32m      2\u001b[0m message_proxy \u001b[38;5;241m=\u001b[39m manager\u001b[38;5;241m.\u001b[39mdict()\n",
      "\u001b[0;31mNameError\u001b[0m: name 'Manager' is not defined"
     ]
    }
   ],
   "source": [
    "manager = Manager()\n",
    "message_proxy = manager.dict()"
   ]
  },
  {
   "cell_type": "code",
   "execution_count": null,
   "metadata": {},
   "outputs": [],
   "source": [
    "#| export\n",
    "def receive_message(message_proxy: DictProxy,bus: Bus)->None:\n",
    "\tprint('waiting for message')\n",
    "\tmsg:Message = bus.recv()\n",
    "\tprint('message received')\n",
    "\tmessage_proxy['timestamp'] = msg.timestamp\n",
    "\tmessage_proxy['arbitration_id'] = msg.arbitration_id\n",
    "\tmessage_proxy['data']=msg.data"
   ]
  },
  {
   "cell_type": "code",
   "execution_count": null,
   "metadata": {},
   "outputs": [
    {
     "data": {
      "text/plain": [
       "'/home/n/devel/anting_remote/eos/tspace/can/nbs'"
      ]
     },
     "execution_count": 11,
     "metadata": {},
     "output_type": "execute_result"
    }
   ],
   "source": [
    "\n",
    "os.getcwd()"
   ]
  },
  {
   "cell_type": "code",
   "execution_count": null,
   "metadata": {},
   "outputs": [
    {
     "name": "stdout",
     "output_type": "stream",
     "text": [
      "PARENT: 1871341 before signaling child\n"
     ]
    }
   ],
   "source": [
    "proc = subprocess.Popen(['python', 'message_send.py'], stdout=subprocess.PIPE, stderr=subprocess.PIPE, stdin=subprocess.PIPE)\n",
    "print(f'PARENT: {proc.pid} before signaling child')\n",
    "sys.stdout.flush()\n",
    "# time.sleep(1)\n"
   ]
  },
  {
   "cell_type": "code",
   "execution_count": null,
   "metadata": {},
   "outputs": [
    {
     "name": "stdout",
     "output_type": "stream",
     "text": [
      "waiting for message\n"
     ]
    }
   ],
   "source": [
    "\n",
    "receive_message(message_proxy, bus)"
   ]
  },
  {
   "cell_type": "code",
   "execution_count": null,
   "metadata": {},
   "outputs": [
    {
     "name": "stdout",
     "output_type": "stream",
     "text": [
      "PARENT: 803919 signaling child\n",
      "stdout: 'Signal received after 0.007 seconds\\n'\n"
     ]
    }
   ],
   "source": [
    "print(f'PARENT: {proc.pid} signaling child')\n",
    "sys.stdout.flush()\n",
    "os.kill(proc.pid, signal.SIGUSR1)\n",
    "stdout_value = proc.communicate()[0].decode('utf-8')\n",
    "print(f'stdout: {repr(stdout_value)}')"
   ]
  },
  {
   "cell_type": "code",
   "execution_count": null,
   "metadata": {},
   "outputs": [
    {
     "data": {
      "text/plain": [
       "(datetime.datetime(2024, 2, 6, 17, 39, 15, 270933),\n",
       " {'Enable': 'Enabled', 'AverageRadius': 3.2, 'Temperature': 250.1})"
      ]
     },
     "execution_count": 18,
     "metadata": {},
     "output_type": "execute_result"
    }
   ],
   "source": [
    "datetime.fromtimestamp(message_proxy['timestamp']),db.decode_message(message_proxy['arbitration_id'],message_proxy['data'])"
   ]
  },
  {
   "cell_type": "code",
   "execution_count": null,
   "metadata": {},
   "outputs": [
    {
     "name": "stdout",
     "output_type": "stream",
     "text": [
      "SSHPASS: searching for password prompt using match \"assword\"\n",
      "SSHPASS: read: [sudo] password for n: \n",
      "SSHPASS: detected prompt. Sending password.\n"
     ]
    },
    {
     "name": "stdout",
     "output_type": "stream",
     "text": [
      "SSHPASS: read: \n",
      "\n"
     ]
    }
   ],
   "source": [
    "# close and remove vcan0\n",
    "# !sshpass -v -p  asdf sudo ip link delete vcan0 \n",
    "\n",
    "!gpg -d -q ~/.sshpasswd.gpg | sshpass -v sudo ip link set down vcan0"
   ]
  },
  {
   "cell_type": "code",
   "execution_count": null,
   "metadata": {},
   "outputs": [
    {
     "name": "stdout",
     "output_type": "stream",
     "text": [
      "SSHPASS: searching for password prompt using match \"assword\"\n",
      "SSHPASS: read: [sudo] password for n: \n",
      "SSHPASS: detected prompt. Sending password.\n",
      "SSHPASS: read: \n",
      "\n"
     ]
    }
   ],
   "source": [
    "\n",
    "!gpg -d -q ~/.sshpasswd.gpg | sshpass -v sudo ip link delete vcan0 "
   ]
  }
 ],
 "metadata": {
  "kernelspec": {
   "display_name": "scapy",
   "language": "python",
   "name": "python3"
  },
  "language_info": {
   "codemirror_mode": {
    "name": "ipython",
    "version": 3
   },
   "file_extension": ".py",
   "mimetype": "text/x-python",
   "name": "python",
   "nbconvert_exporter": "python",
   "pygments_lexer": "ipython3",
   "version": "3.12.1"
  }
 },
 "nbformat": 4,
 "nbformat_minor": 2
}
