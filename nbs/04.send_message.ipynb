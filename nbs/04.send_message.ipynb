{
 "cells": [
  {
   "cell_type": "markdown",
   "metadata": {},
   "source": [
    "# send_message\n",
    "\n",
    "> sending a CAN message to a bus\n",
    "> using the python-can library\n",
    "> testing on vcan interface"
   ]
  },
  {
   "cell_type": "code",
   "execution_count": 1,
   "metadata": {},
   "outputs": [],
   "source": [
    "#| default_exp send_message"
   ]
  },
  {
   "cell_type": "code",
   "execution_count": 2,
   "metadata": {},
   "outputs": [],
   "source": [
    "#| hide\n",
    "from __future__ import annotations\n",
    "from nbdev.showdoc import *\n",
    "from fastcore.test import *"
   ]
  },
  {
   "cell_type": "code",
   "execution_count": 3,
   "metadata": {},
   "outputs": [],
   "source": [
    "from pprint import pprint\n",
    "import subprocess"
   ]
  },
  {
   "cell_type": "code",
   "execution_count": 4,
   "metadata": {},
   "outputs": [],
   "source": [
    "#| export\n",
    "# from multiprocessing import Process, Event\n",
    "# from multiprocessing import synchronize, Manager\n",
    "# from multiprocessing.managers import DictProxy\n",
    "from typing import Optional\n",
    "import threading\n",
    "from datetime import datetime\n",
    "import json\n",
    "import argparse\n",
    "import os\n",
    "import sys\n",
    "import signal\n",
    "import time\n",
    "from multiprocessing import synchronize, Manager\n",
    "from multiprocessing.managers import DictProxy"
   ]
  },
  {
   "cell_type": "code",
   "execution_count": 5,
   "metadata": {},
   "outputs": [],
   "source": [
    "#| export\n",
    "import can\n",
    "# from can.interface import Bus\n",
    "# from can import Message \n",
    "import cantools\n",
    "from cantools.database import Message as MessageTpl\n",
    "from cantools.database.can.database import Database"
   ]
  },
  {
   "cell_type": "code",
   "execution_count": 6,
   "metadata": {},
   "outputs": [],
   "source": [
    "#| export\n",
    "def get_argparser() -> argparse.ArgumentParser:\n",
    "    \"\"\"_summary_ get CAN bus, dbc config and the message to send\n",
    "\n",
    "    Returns:\n",
    "        argparse.ArgumentParser: _description_\n",
    "    \"\"\"\n",
    "\n",
    "    parser = argparse.ArgumentParser(\"Get the CAN Bus channel, bitrate and dbc path\")\n",
    "\n",
    "    parser.add_argument(\n",
    "        \"-t\",\n",
    "        \"--type\",\n",
    "        type=str,\n",
    "        default=\"socketcan\",\n",
    "        help=\"The type of the CAN bus\",\n",
    "    )\n",
    "\n",
    "    parser.add_argument(\n",
    "        \"-c\",\n",
    "        \"--channel\",\n",
    "        type=str,\n",
    "        default=\"vcan0\",\n",
    "        help=\"The CAN bus channel to connect to\",\n",
    "    )\n",
    "\n",
    "    parser.add_argument(\n",
    "        \"-b\", \"--bitrate\", type=int, default=250000, help=\"The bitrate of the CAN bus\"\n",
    "    )\n",
    "\n",
    "    parser.add_argument(\n",
    "        \"-d\",\n",
    "        \"--dbc\",\n",
    "        type=str,\n",
    "        default=\"../res/motohawk_new.dbc\",\n",
    "        help=\"The path to the dbc file\",\n",
    "    )\n",
    "\n",
    "    parser.add_argument(\n",
    "        \"-m\",\n",
    "        \"--message\",\n",
    "        type=str,\n",
    "        default=\"ExampleMessage\",\n",
    "        help=\"The message to send\",\n",
    "    )\n",
    "\n",
    "    parser.add_argument(\n",
    "        \"-e\",\n",
    "        \"--extended\",\n",
    "        action=\"store_true\",\n",
    "        help=\"If the arbitration id is extended\",\n",
    "    )\n",
    "\n",
    "    return parser\n"
   ]
  },
  {
   "cell_type": "code",
   "execution_count": 7,
   "metadata": {},
   "outputs": [],
   "source": [
    "#| export\n",
    "done = threading.Event()\n",
    "def signal_usr1(signum, frame):\n",
    "    \"\"\"Handle USR1 signal as an event to set the received flag.\"\"\"\n",
    "    # global received\n",
    "    # received = True\n",
    "\n",
    "    done.set()\n",
    "    # print(\"received signal, sending done!\")"
   ]
  },
  {
   "cell_type": "code",
   "execution_count": 8,
   "metadata": {},
   "outputs": [],
   "source": [
    "#| export\n",
    "def send_msg(db:Database, message:str, payload:bytes, channel:str, bitrate:int, bus_type: str) -> None:\n",
    "\n",
    "    message_definition = db.get_message_by_name(message)\n",
    "    data_dict = json.loads(payload.decode())\n",
    "\n",
    "    # print(\"Prepare sending message\")\n",
    "    sys.stdout.flush()\n",
    "    can_data = message_definition.encode(data_dict)\n",
    "    message = can.Message(\n",
    "        arbitration_id=message_definition.frame_id,\n",
    "        data=can_data,\n",
    "        is_extended_id=args.extended,\n",
    "    )\n",
    "    # print(message)\n",
    "    # print(\"Before sending message\")\n",
    "    with can.interface.Bus(bustype=bus_type, channel=channel, bitrate=bitrate) as bus:\n",
    "        bus.send(message)\n"
   ]
  },
  {
   "cell_type": "code",
   "execution_count": 9,
   "metadata": {},
   "outputs": [
    {
     "data": {
      "text/plain": [
       "[message('ExampleMessage', 0x1f0, False, 8, {None: 'Example message used as template in MotoHawk models.'}),\n",
       " message('NewMessage', 0x254, False, 8, {None: 'self made message'})]"
      ]
     },
     "execution_count": 9,
     "metadata": {},
     "output_type": "execute_result"
    },
    {
     "name": "stdout",
     "output_type": "stream",
     "text": [
      "[signal('Enable', 7, 1, 'big_endian', False, None, 1, 0, None, None, '-', False, None, {0: 'Disabled', 1: 'Enabled'}, None, None),\n",
      " signal('AverageRadius', 6, 6, 'big_endian', False, None, 0.1, 0, 0, 5, 'm', False, None, None, None, None),\n",
      " signal('Temperature', 0, 12, 'big_endian', True, None, 0.01, 250, 229.52, 270.47, 'degK', False, None, None, None, None)]\n",
      "{'_autosar': None,\n",
      " '_bus_name': None,\n",
      " '_codecs': {'formats': Formats(big_endian=<bitstruct.c.CompiledFormatDict object at 0x7fc102ae73c0>, little_endian=<bitstruct.c.CompiledFormatDict object at 0x7fc102ae7240>, padding_mask=35184372088831),\n",
      "             'multiplexers': {},\n",
      "             'signals': [signal('Enable', 7, 1, 'big_endian', False, None, 1, 0, None, None, '-', False, None, {0: 'Disabled', 1: 'Enabled'}, None, None),\n",
      "                         signal('AverageRadius', 6, 6, 'big_endian', False, None, 0.1, 0, 0, 5, 'm', False, None, None, None, None),\n",
      "                         signal('Temperature', 0, 12, 'big_endian', True, None, 0.01, 250, 229.52, 270.47, 'degK', False, None, None, None, None)]},\n",
      " '_comments': {None: 'Example message used as template in MotoHawk models.'},\n",
      " '_contained_messages': None,\n",
      " '_cycle_time': None,\n",
      " '_dbc': <cantools.database.can.formats.dbc_specifics.DbcSpecifics object at 0x7fc102b01290>,\n",
      " '_frame_id': 496,\n",
      " '_header_byte_order': 'big_endian',\n",
      " '_header_id': None,\n",
      " '_is_extended_frame': False,\n",
      " '_is_fd': False,\n",
      " '_length': 8,\n",
      " '_name': 'ExampleMessage',\n",
      " '_protocol': None,\n",
      " '_send_type': None,\n",
      " '_senders': ['PCM1'],\n",
      " '_signal_dict': {'AverageRadius': signal('AverageRadius', 6, 6, 'big_endian', False, None, 0.1, 0, 0, 5, 'm', False, None, None, None, None),\n",
      "                  'Enable': signal('Enable', 7, 1, 'big_endian', False, None, 1, 0, None, None, '-', False, None, {0: 'Disabled', 1: 'Enabled'}, None, None),\n",
      "                  'Temperature': signal('Temperature', 0, 12, 'big_endian', True, None, 0.01, 250, 229.52, 270.47, 'degK', False, None, None, None, None)},\n",
      " '_signal_groups': [],\n",
      " '_signal_tree': ['Enable', 'AverageRadius', 'Temperature'],\n",
      " '_signals': [signal('Enable', 7, 1, 'big_endian', False, None, 1, 0, None, None, '-', False, None, {0: 'Disabled', 1: 'Enabled'}, None, None),\n",
      "              signal('AverageRadius', 6, 6, 'big_endian', False, None, 0.1, 0, 0, 5, 'm', False, None, None, None, None),\n",
      "              signal('Temperature', 0, 12, 'big_endian', True, None, 0.01, 250, 229.52, 270.47, 'degK', False, None, None, None, None)],\n",
      " '_strict': True,\n",
      " '_unused_bit_pattern': 255}\n"
     ]
    },
    {
     "data": {
      "text/plain": [
       "496"
      ]
     },
     "execution_count": 9,
     "metadata": {},
     "output_type": "execute_result"
    }
   ],
   "source": [
    "db_can = cantools.database.load_file('../res/motohawk_new.dbc')\n",
    "db_can.messages\n",
    "example_message: MessageTpl = db_can.get_message_by_name('ExampleMessage')\n",
    "pprint(example_message.signals)\n",
    "pprint(example_message.__dict__)\n",
    "example_message.frame_id"
   ]
  },
  {
   "cell_type": "code",
   "execution_count": 10,
   "metadata": {},
   "outputs": [
    {
     "name": "stdout",
     "output_type": "stream",
     "text": [
      "SSHPASS: searching for password prompt using match \"assword\"\n",
      "SSHPASS: read: [sudo] password for n: \n",
      "SSHPASS: detected prompt. Sending password.\n"
     ]
    },
    {
     "name": "stdout",
     "output_type": "stream",
     "text": [
      "SSHPASS: read: \n",
      "\n",
      "SSHPASS: searching for password prompt using match \"assword\"\n",
      "SSHPASS: read: [sudo] password for n: \n",
      "SSHPASS: detected prompt. Sending password.\n",
      "SSHPASS: read: \n",
      "\n",
      "15: vcan0: <NOARP> mtu 72 qdisc noop state DOWN mode DEFAULT group default qlen 1000\n",
      "    link/can \n",
      "SSHPASS: searching for password prompt using match \"assword\"\n",
      "SSHPASS: read: [sudo] password for n: \n",
      "SSHPASS: detected prompt. Sending password.\n",
      "SSHPASS: read: \n",
      "\n"
     ]
    }
   ],
   "source": [
    "# install vcan interface with encrypted password to sudo \n",
    "!gpg -d -q ~/.sshpasswd.gpg | sshpass -v sudo modprobe vcan\n",
    "# sshpass -v -p asdf sudo ip link add dev vcan0 type vcan\n",
    "!gpg -d -q ~/.sshpasswd.gpg | sshpass -v sudo ip link add dev vcan0 type vcan\n",
    "!ip link show vcan0\n",
    "# !gpg -d -q ~/.sshpasswd.gpg | sshpass -v sudo ip link set vcan0 type vcan bitrate 500000  # vcan Does not SUPPORT set bitrate on command line!\n",
    "# !sshpass -p asdf sudo ip link add dev vcan0 type vcan\n",
    "!gpg -d -q ~/.sshpasswd.gpg | sshpass -v sudo ip link set up vcan0\n",
    "# !sshpass -v -p asdf sudo ip link set up vcan0"
   ]
  },
  {
   "cell_type": "code",
   "execution_count": 11,
   "metadata": {},
   "outputs": [
    {
     "data": {
      "text/plain": [
       "b'{\"Temperature\": 250.1, \"AverageRadius\": 3.2, \"Enable\": 1}'"
      ]
     },
     "execution_count": 11,
     "metadata": {},
     "output_type": "execute_result"
    },
    {
     "data": {
      "text/plain": [
       "{'Temperature': 250.1, 'AverageRadius': 3.2, 'Enable': 1}"
      ]
     },
     "execution_count": 11,
     "metadata": {},
     "output_type": "execute_result"
    },
    {
     "data": {
      "text/plain": [
       "{'Enable': 'Enabled', 'AverageRadius': 3.2, 'Temperature': 250.1}"
      ]
     },
     "execution_count": 11,
     "metadata": {},
     "output_type": "execute_result"
    }
   ],
   "source": [
    "data_dict ={'Temperature': 250.1, 'AverageRadius': 3.2, 'Enable': 1}\n",
    "data_json_bytes = json.dumps(data_dict).encode('utf-8')\n",
    "data_json_bytes\n",
    "json.loads(data_json_bytes.decode())\n",
    "\n",
    "can_data = example_message.encode({'Temperature': 250.1, 'AverageRadius': 3.2, 'Enable': 1})\n",
    "example_message.decode(can_data)"
   ]
  },
  {
   "cell_type": "code",
   "execution_count": 12,
   "metadata": {},
   "outputs": [],
   "source": [
    "bus = can.interface.Bus(bustype='socketcan', channel='vcan0', bitrate=250000)\n",
    "message_to_send = can.Message(arbitration_id=example_message.frame_id, data=can_data, is_extended_id=False) \t\n",
    "# can_bus.send(message)"
   ]
  },
  {
   "cell_type": "code",
   "execution_count": 13,
   "metadata": {},
   "outputs": [],
   "source": [
    "manager = Manager()\n",
    "message_proxy = manager.dict()"
   ]
  },
  {
   "cell_type": "code",
   "execution_count": 14,
   "metadata": {},
   "outputs": [],
   "source": [
    "def receive_message(message_proxy: DictProxy,bus: can.interface.Bus)->None:\n",
    "\tprint('waiting for message')\n",
    "\tmsg:can.Message = bus.recv()\n",
    "\tprint('message received')\n",
    "\tmessage_proxy['timestamp'] = msg.timestamp\n",
    "\tmessage_proxy['arbitration_id'] = msg.arbitration_id\n",
    "\tmessage_proxy['data']=msg.data"
   ]
  },
  {
   "cell_type": "code",
   "execution_count": 15,
   "metadata": {},
   "outputs": [
    {
     "name": "stdout",
     "output_type": "stream",
     "text": [
      "PARENT: 2325554 before signaling child\n"
     ]
    }
   ],
   "source": [
    "proc = subprocess.Popen(\n",
    "\t['python', \n",
    "        '../can/send_message.py', \n",
    "\t\t'-t', 'socketcan', \n",
    "\t\t'-c' , 'vcan0', \n",
    "\t\t'-b', '25000',\n",
    "\t\t'-d', '../res/motohawk_new.dbc',\n",
    "\t\t'-m', 'ExampleMessage',\n",
    "\t\t], \n",
    "\tstdout=subprocess.PIPE, \n",
    "\tstderr=subprocess.PIPE, \n",
    "\tstdin=subprocess.PIPE\n",
    "\t)\n",
    "print(f'PARENT: {proc.pid} before signaling child')\n"
   ]
  },
  {
   "cell_type": "code",
   "execution_count": 16,
   "metadata": {},
   "outputs": [
    {
     "data": {
      "text/plain": [
       "b'{\"Temperature\": 250.1, \"AverageRadius\": 3.2, \"Enable\": 1}'"
      ]
     },
     "execution_count": 16,
     "metadata": {},
     "output_type": "execute_result"
    },
    {
     "data": {
      "text/plain": [
       "'{\"Temperature\": 250.1, \"AverageRadius\": 3.2, \"Enable\": 1}'"
      ]
     },
     "execution_count": 16,
     "metadata": {},
     "output_type": "execute_result"
    },
    {
     "data": {
      "text/plain": [
       "{'Temperature': 250.1, 'AverageRadius': 3.2, 'Enable': 1}"
      ]
     },
     "execution_count": 16,
     "metadata": {},
     "output_type": "execute_result"
    }
   ],
   "source": [
    "data_json_bytes\n",
    "data_json_bytes.decode()\n",
    "json.loads(data_json_bytes.decode())"
   ]
  },
  {
   "cell_type": "code",
   "execution_count": 17,
   "metadata": {},
   "outputs": [
    {
     "name": "stdout",
     "output_type": "stream",
     "text": [
      "PARENT: 2325554; TimeoutExpired\n"
     ]
    }
   ],
   "source": [
    "try:\n",
    "\touts, errs = proc.communicate(data_json_bytes, timeout=1)\n",
    "except subprocess.TimeoutExpired:\n",
    "\tprint(f'PARENT: {proc.pid}; TimeoutExpired')\n",
    "\t# outs, errs = proc.communicate()\n",
    "\t# print(f'PARENT: {proc.pid}; outs: {outs}; errs: {errs} TimeoutExpired')\n",
    "# sys.stdout.flush()\n",
    "# time.sleep(1)\n"
   ]
  },
  {
   "cell_type": "code",
   "execution_count": 18,
   "metadata": {},
   "outputs": [
    {
     "name": "stdout",
     "output_type": "stream",
     "text": [
      "waiting for message\n",
      "message received\n"
     ]
    }
   ],
   "source": [
    "\n",
    "receive_message(message_proxy, bus)"
   ]
  },
  {
   "cell_type": "code",
   "execution_count": 19,
   "metadata": {},
   "outputs": [
    {
     "name": "stdout",
     "output_type": "stream",
     "text": [
      "PARENT: 2325554 signaling child\n"
     ]
    }
   ],
   "source": [
    "print(f'PARENT: {proc.pid} signaling child')\n",
    "sys.stdout.flush()\n",
    "os.kill(proc.pid, signal.SIGUSR1)\n"
   ]
  },
  {
   "cell_type": "code",
   "execution_count": 20,
   "metadata": {},
   "outputs": [],
   "source": [
    "stdout_raw, stderr_raw = proc.communicate()\n",
    "stdout_value = stdout_raw.decode('utf-8')\n",
    "stderr_value = stderr_raw.decode('utf-8')\n",
    "# [0].decode('utf-8')\n"
   ]
  },
  {
   "cell_type": "code",
   "execution_count": 21,
   "metadata": {},
   "outputs": [
    {
     "name": "stdout",
     "output_type": "stream",
     "text": [
      "stdout: 'Signal received after 0.893 seconds\\n'; stderr: ''\n"
     ]
    }
   ],
   "source": [
    "print(f'stdout: {repr(stdout_value)}; stderr: {repr(stderr_value)}')"
   ]
  },
  {
   "cell_type": "code",
   "execution_count": 22,
   "metadata": {},
   "outputs": [
    {
     "data": {
      "text/plain": [
       "496"
      ]
     },
     "execution_count": 22,
     "metadata": {},
     "output_type": "execute_result"
    },
    {
     "data": {
      "text/plain": [
       "bytearray(b'\\xc0\\x01@\\x00\\x00\\x00\\x00\\x00')"
      ]
     },
     "execution_count": 22,
     "metadata": {},
     "output_type": "execute_result"
    },
    {
     "data": {
      "text/plain": [
       "datetime.datetime(2024, 2, 9, 8, 45, 36, 45330)"
      ]
     },
     "execution_count": 22,
     "metadata": {},
     "output_type": "execute_result"
    }
   ],
   "source": [
    "message_proxy['arbitration_id']\n",
    "message_proxy['data']\n",
    "datetime.fromtimestamp(message_proxy['timestamp'])"
   ]
  },
  {
   "cell_type": "code",
   "execution_count": 23,
   "metadata": {
    "notebookRunGroups": {
     "groupValue": "2"
    }
   },
   "outputs": [
    {
     "data": {
      "text/plain": [
       "(datetime.datetime(2024, 2, 9, 8, 45, 36, 45330),\n",
       " {'Enable': 'Enabled', 'AverageRadius': 3.2, 'Temperature': 250.1})"
      ]
     },
     "execution_count": 23,
     "metadata": {},
     "output_type": "execute_result"
    }
   ],
   "source": [
    "datetime.fromtimestamp(message_proxy['timestamp']),db_can.decode_message(message_proxy['arbitration_id'],message_proxy['data'])"
   ]
  },
  {
   "cell_type": "code",
   "execution_count": 24,
   "metadata": {},
   "outputs": [
    {
     "name": "stdout",
     "output_type": "stream",
     "text": [
      "SSHPASS: searching for password prompt using match \"assword\"\n",
      "SSHPASS: read: [sudo] password for n: \n",
      "SSHPASS: detected prompt. Sending password.\n"
     ]
    },
    {
     "name": "stdout",
     "output_type": "stream",
     "text": [
      "SSHPASS: read: \n",
      "\n"
     ]
    }
   ],
   "source": [
    "# close and remove vcan0\n",
    "# !sshpass -v -p  asdf sudo ip link delete vcan0 \n",
    "\n",
    "!gpg -d -q ~/.sshpasswd.gpg | sshpass -v sudo ip link set down vcan0"
   ]
  },
  {
   "cell_type": "code",
   "execution_count": 25,
   "metadata": {},
   "outputs": [
    {
     "name": "stdout",
     "output_type": "stream",
     "text": [
      "SSHPASS: searching for password prompt using match \"assword\"\n",
      "SSHPASS: read: [sudo] password for n: \n",
      "SSHPASS: detected prompt. Sending password.\n",
      "SSHPASS: read: \n",
      "\n"
     ]
    }
   ],
   "source": [
    "# delete vcan0\n",
    "!gpg -d -q ~/.sshpasswd.gpg | sshpass -v sudo ip link delete vcan0"
   ]
  },
  {
   "cell_type": "code",
   "execution_count": 26,
   "metadata": {},
   "outputs": [],
   "source": [
    "#| export\n",
    "if __name__ == \"__main__\" and \"__file__\" in globals():   # in order to be compatible for both script and notebnook\n",
    "\n",
    "    # print(os.getcwd())\n",
    "    p = get_argparser()\n",
    "    args = p.parse_args()\n",
    "    # args = p.parse_args(\n",
    "    #     [\n",
    "    #         \"--type\",\n",
    "    #         \"socketcan\",\n",
    "    #         \"--channel\",\n",
    "    #         \"vcan0\",\n",
    "    #         \"--bitrate\",\n",
    "    #         \"250000\",\n",
    "    #         \"--dbc\",\n",
    "    #         \"./examples/motohawk_new.dbc\",\n",
    "    #         \"--message\",\n",
    "    #         \"ExampleMessage\",\n",
    "    #     ]\n",
    "    # )\n",
    "    # print(args)\n",
    "\n",
    "    try:\n",
    "        db: Database = cantools.database.load_file(args.dbc)\n",
    "    except FileNotFoundError as e:\n",
    "        print(f\"File not found: {e}\")\n",
    "\n",
    "\n",
    "    payload = sys.stdin.buffer.read()\n",
    "    \n",
    "    send_msg(db=db,message=args.message,payload=payload,channel=args.channel,bitrate=args.bitrate,bus_type=args.type)\n",
    "\n",
    "\n",
    "    signal.signal(signal.SIGUSR1, signal_usr1)\n",
    "    # print(\"set message handler and sleep\")\n",
    "    sys.stdout.flush()\n",
    "    now = time.time()\n",
    "    done.wait()\n",
    "    time_lapsed = time.time() - now\n",
    "    print(f\"Signal received after {time_lapsed:.3f} seconds\")\n",
    "\n"
   ]
  },
  {
   "cell_type": "code",
   "execution_count": 27,
   "metadata": {},
   "outputs": [],
   "source": [
    "#| hide \n",
    "import nbdev; nbdev.nbdev_export()"
   ]
  }
 ],
 "metadata": {
  "kernelspec": {
   "display_name": "scapy",
   "language": "python",
   "name": "python3"
  },
  "language_info": {
   "codemirror_mode": {
    "name": "ipython",
    "version": 3
   },
   "file_extension": ".py",
   "mimetype": "text/x-python",
   "name": "python",
   "nbconvert_exporter": "python",
   "pygments_lexer": "ipython3",
   "version": "3.11.7"
  }
 },
 "nbformat": 4,
 "nbformat_minor": 2
}
