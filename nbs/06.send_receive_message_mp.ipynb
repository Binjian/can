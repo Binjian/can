{
 "cells": [
  {
   "cell_type": "code",
   "execution_count": 1,
   "metadata": {},
   "outputs": [],
   "source": [
    "from IPython.core.interactiveshell import InteractiveShell\n",
    "InteractiveShell.ast_node_interactivity = \"all\""
   ]
  },
  {
   "cell_type": "code",
   "execution_count": 2,
   "metadata": {},
   "outputs": [],
   "source": [
    "from datetime import datetime\n",
    "import time\n",
    "import os\n",
    "import sys\n",
    "from multiprocessing import Process, Event, shared_memory\n",
    "from multiprocessing import synchronize, Manager\n",
    "from multiprocessing.managers import DictProxy\n",
    "from typing import Optional\n",
    "# import threading"
   ]
  },
  {
   "cell_type": "code",
   "execution_count": 3,
   "metadata": {},
   "outputs": [],
   "source": [
    "import cantools\n",
    "from pprint import pprint\n",
    "import can\n",
    "# from can import Message\n",
    "from cantools.database import Message\n",
    "from can.interface import Bus  # virtual interface for testing\n",
    "# from can.interfaces.udp_multicast.bus import GeneralPurposeUdpMulticastBus as GPUDPMCBus\n",
    "# from can.interfaces.udp_multicast import UdpMulticastBus"
   ]
  },
  {
   "cell_type": "code",
   "execution_count": 4,
   "metadata": {},
   "outputs": [
    {
     "data": {
      "text/plain": [
       "[message('ExampleMessage', 0x1f0, False, 8, {None: 'Example message used as template in MotoHawk models.'})]"
      ]
     },
     "execution_count": 4,
     "metadata": {},
     "output_type": "execute_result"
    },
    {
     "data": {
      "text/plain": [
       "[signal('Enable', 7, 1, 'big_endian', False, None, 1, 0, None, None, '-', False, None, {0: 'Disabled', 1: 'Enabled'}, None, None),\n",
       " signal('AverageRadius', 6, 6, 'big_endian', False, None, 0.1, 0, 0, 5, 'm', False, None, None, None, None),\n",
       " signal('Temperature', 0, 12, 'big_endian', True, None, 0.01, 250, 229.52, 270.47, 'degK', False, None, None, None, None)]"
      ]
     },
     "execution_count": 4,
     "metadata": {},
     "output_type": "execute_result"
    },
    {
     "data": {
      "text/plain": [
       "496"
      ]
     },
     "execution_count": 4,
     "metadata": {},
     "output_type": "execute_result"
    },
    {
     "data": {
      "text/plain": [
       "[]"
      ]
     },
     "execution_count": 4,
     "metadata": {},
     "output_type": "execute_result"
    },
    {
     "data": {
      "text/plain": [
       "['Enable', 'AverageRadius', 'Temperature']"
      ]
     },
     "execution_count": 4,
     "metadata": {},
     "output_type": "execute_result"
    }
   ],
   "source": [
    "db = cantools.database.load_file('../tests/files/dbc/motohawk.dbc')\n",
    "db.messages\n",
    "example_message = db.get_message_by_name('ExampleMessage')\n",
    "example_message.signals\n",
    "# pprint(example_message.__dict__)\n",
    "example_message.frame_id\n",
    "example_message.signal_groups\n",
    "example_message.signal_tree"
   ]
  },
  {
   "cell_type": "code",
   "execution_count": 5,
   "metadata": {},
   "outputs": [
    {
     "name": "stdout",
     "output_type": "stream",
     "text": [
      "SSHPASS: searching for password prompt using match \"assword\"\n",
      "SSHPASS: read: [sudo] password for n: \n",
      "SSHPASS: detected prompt. Sending password.\n",
      "SSHPASS: read: \n",
      "\n"
     ]
    }
   ],
   "source": [
    "!gpg -d -q ~/.sshpasswd.gpg | sshpass -v sudo modprobe vcan"
   ]
  },
  {
   "cell_type": "code",
   "execution_count": 6,
   "metadata": {},
   "outputs": [
    {
     "name": "stdout",
     "output_type": "stream",
     "text": [
      "SSHPASS: searching for password prompt using match \"assword\"\n",
      "SSHPASS: read: [sudo] password for n: \n",
      "SSHPASS: detected prompt. Sending password.\n",
      "SSHPASS: read: \n",
      "\n"
     ]
    }
   ],
   "source": [
    "!gpg -d -q ~/.sshpasswd.gpg | sshpass -v sudo ip link add dev vcan0 type vcan\n",
    "# sshpass -v -p asdf sudo ip link add dev vcan0 type vcan"
   ]
  },
  {
   "cell_type": "code",
   "execution_count": 7,
   "metadata": {},
   "outputs": [
    {
     "name": "stdout",
     "output_type": "stream",
     "text": [
      "9: vcan0: <NOARP> mtu 72 qdisc noop state DOWN mode DEFAULT group default qlen 1000\n",
      "    link/can \n"
     ]
    }
   ],
   "source": [
    "!ip link show vcan0"
   ]
  },
  {
   "cell_type": "code",
   "execution_count": 8,
   "metadata": {},
   "outputs": [],
   "source": [
    "# !gpg -d -q ~/.sshpasswd.gpg | sshpass -v sudo ip link set vcan0 type vcan bitrate 500000  # vcan Does not SUPPORT set bitrate on command line!\n",
    "# !sshpass -p asdf sudo ip link add dev vcan0 type vcan"
   ]
  },
  {
   "cell_type": "code",
   "execution_count": 9,
   "metadata": {},
   "outputs": [
    {
     "name": "stdout",
     "output_type": "stream",
     "text": [
      "SSHPASS: searching for password prompt using match \"assword\"\n",
      "SSHPASS: read: [sudo] password for n: \n",
      "SSHPASS: detected prompt. Sending password.\n"
     ]
    },
    {
     "name": "stdout",
     "output_type": "stream",
     "text": [
      "SSHPASS: read: \n",
      "\n"
     ]
    }
   ],
   "source": [
    "# !gpg -d -q ~/.sshpasswd.gpg | sshpass -v sudo ip link set up vcan0\n",
    "!gpg -d -q ~/.sshpasswd.gpg | sshpass -v sudo ip link set vcan0 up type vcan\n",
    "# !gpg -d -q ~/.sshpasswd.gpg | sshpass -v sudo ip link set vcan0 up type vcan  bitrate 500000  # vcan Does not SUPPORT set bitrate on command line!\n",
    "# !sshpass -v -p asdf sudo ip link set up vcan0"
   ]
  },
  {
   "cell_type": "code",
   "execution_count": 10,
   "metadata": {},
   "outputs": [
    {
     "data": {
      "text/plain": [
       "can.Message(timestamp=0.0, arbitration_id=0x1f0, is_extended_id=False, dlc=8, data=[0xc0, 0x1, 0x40, 0x0, 0x0, 0x0, 0x0, 0x0])"
      ]
     },
     "execution_count": 10,
     "metadata": {},
     "output_type": "execute_result"
    },
    {
     "data": {
      "text/plain": [
       "<can.interfaces.socketcan.socketcan.SocketcanBus at 0x7f6f3408c810>"
      ]
     },
     "execution_count": 10,
     "metadata": {},
     "output_type": "execute_result"
    },
    {
     "data": {
      "text/plain": [
       "60"
      ]
     },
     "execution_count": 10,
     "metadata": {},
     "output_type": "execute_result"
    },
    {
     "data": {
      "text/plain": [
       "bytearray(b'\\xc0\\x01@\\x00\\x00\\x00\\x00\\x00')"
      ]
     },
     "execution_count": 10,
     "metadata": {},
     "output_type": "execute_result"
    },
    {
     "data": {
      "text/plain": [
       "496"
      ]
     },
     "execution_count": 10,
     "metadata": {},
     "output_type": "execute_result"
    }
   ],
   "source": [
    "bus = Bus(bustype='socketcan', channel='vcan0', bitrate=250000) # interface='virtual'\n",
    "# bus = GPUDPMCBus(group=UdpMulticastBus.DEFAULT_GROUP_IPv6, port=43113, hop_limit=1)\n",
    "# bus = UdpMulticastBus(group=UdpMulticastBus.DEFAULT_GROUP_IPv6)\n",
    "data = example_message.encode({'Temperature': 250.1, 'AverageRadius': 3.2, 'Enable': 1})\n",
    "message_to_send = can.Message(arbitration_id=example_message.frame_id, data=data, is_extended_id=False) \t\n",
    "message_to_send\n",
    "bus\n",
    "bus.fileno()\n",
    "# bus.protocol\n",
    "message_to_send.data\n",
    "message_to_send.arbitration_id\n"
   ]
  },
  {
   "cell_type": "code",
   "execution_count": 11,
   "metadata": {},
   "outputs": [],
   "source": [
    "manager = Manager()\n",
    "message_proxy = manager.dict()"
   ]
  },
  {
   "cell_type": "code",
   "execution_count": 12,
   "metadata": {},
   "outputs": [],
   "source": [
    "# def receive_message(message_proxy: DictProxy, bus_channel:str='vcan0', bitrate:int=25000):\n",
    "def receive_message(message_proxy: DictProxy, bus:Bus):\n",
    "\tprint('entering receive subprocess')\n",
    "\t# bus = Bus(bustype='socketcan', channel=bus_channel, bitrate=bitrate)\n",
    "\t# os.setsid()\n",
    "\tprint(f'bus: {bus.fileno()} {bus}')\n",
    "\tmsg:Message = bus.recv()\n",
    "\tprint(f'message received: {msg}')\n",
    "\tmessage_proxy['timestamp'] = msg.timestamp\n",
    "\tmessage_proxy['arbitration_id'] = msg.arbitration_id\n",
    "\tmessage_proxy['data']=msg.data"
   ]
  },
  {
   "cell_type": "code",
   "execution_count": 13,
   "metadata": {},
   "outputs": [],
   "source": [
    "# def send_message(message: can.Message, done: synchronize.Event, bus_channel:str='vcan0', bitrate:int=25000, timeout: Optional[float]=None)->None:\n",
    "def send_message(message: can.Message, done: synchronize.Event, bus:Bus, timeout: Optional[float]=None)->None:\n",
    "\tprint(\"entering send subprocess\")\n",
    "\t# os.setsid()  # create new process group, become session leader, otherwise a process in a same session could not receive signal from the main process\n",
    "\tos.setpgrp()\n",
    "\tprint((os.getpid(), os.getsid(os.getpid())))\n",
    "\t# bus = Bus(bustype='socketcan', channel=bus_channel, bitrate=bitrate)\n",
    "\tprint(f'bus: {bus.fileno()}, {bus}')\n",
    "\tbus.send(message)\n",
    "\tprint('message sent and waiting')\n",
    "\tstart = time.time_ns()\n",
    "\tdone.wait()\n",
    "\telapsed = (time.time_ns()-start)//1e6\n",
    "\tprint(f'elapsed time: {elapsed:.3f}ms')"
   ]
  },
  {
   "cell_type": "code",
   "execution_count": 14,
   "metadata": {},
   "outputs": [
    {
     "data": {
      "text/plain": [
       "'/vlt/devel/misc/cantools/examples'"
      ]
     },
     "execution_count": 14,
     "metadata": {},
     "output_type": "execute_result"
    },
    {
     "data": {
      "text/plain": [
       "60"
      ]
     },
     "execution_count": 14,
     "metadata": {},
     "output_type": "execute_result"
    },
    {
     "data": {
      "text/plain": [
       "<can.interfaces.socketcan.socketcan.SocketcanBus at 0x7f6f3408c810>"
      ]
     },
     "execution_count": 14,
     "metadata": {},
     "output_type": "execute_result"
    },
    {
     "data": {
      "text/plain": [
       "(738697, 6221)"
      ]
     },
     "execution_count": 14,
     "metadata": {},
     "output_type": "execute_result"
    }
   ],
   "source": [
    "\n",
    "os.getcwd()\n",
    "bus.fileno()\n",
    "bus\n",
    "os.getpid(),os.getsid(os.getpid())"
   ]
  },
  {
   "cell_type": "code",
   "execution_count": 15,
   "metadata": {},
   "outputs": [],
   "source": [
    "# shm = shared_memory.SharedMemory(create=True, size=1024)\t"
   ]
  },
  {
   "cell_type": "code",
   "execution_count": null,
   "metadata": {},
   "outputs": [
    {
     "name": "stdout",
     "output_type": "stream",
     "text": [
      "before\n"
     ]
    },
    {
     "data": {
      "text/plain": [
       "(738929,\n",
       " <Process name='Sending CAN messasge' pid=738929 parent=738697 started>)"
      ]
     },
     "execution_count": 16,
     "metadata": {},
     "output_type": "execute_result"
    },
    {
     "name": "stdout",
     "output_type": "stream",
     "text": [
      "entering send subprocess\n"
     ]
    },
    {
     "name": "stdout",
     "output_type": "stream",
     "text": [
      "(738929, 6221)\n",
      "bus: 60, socketcan channel 'vcan0'\n",
      "message sent and waiting\n"
     ]
    }
   ],
   "source": [
    "# def send_message_wrapper(message: Message, bus: Bus)->None:\n",
    "timeout = None\n",
    "done = Event()\n",
    "# message_to_send\n",
    "print(\"before\")\n",
    "process_send = Process(target=send_message, name=\"Sending CAN messasge\", args=(message_to_send, done, bus))\n",
    "process_send.start()\n",
    "process_send.pid, process_send\n",
    "# message_to_send"
   ]
  },
  {
   "cell_type": "code",
   "execution_count": 17,
   "metadata": {},
   "outputs": [
    {
     "name": "stdout",
     "output_type": "stream",
     "text": [
      "entering receive subprocess\n",
      "bus: 60 socketcan channel 'vcan0'\n"
     ]
    },
    {
     "ename": "KeyboardInterrupt",
     "evalue": "",
     "output_type": "error",
     "traceback": [
      "\u001b[0;31m---------------------------------------------------------------------------\u001b[0m",
      "\u001b[0;31mKeyboardInterrupt\u001b[0m                         Traceback (most recent call last)",
      "Cell \u001b[0;32mIn[17], line 1\u001b[0m\n\u001b[0;32m----> 1\u001b[0m \u001b[43mreceive_message\u001b[49m\u001b[43m(\u001b[49m\u001b[43mmessage_proxy\u001b[49m\u001b[43m,\u001b[49m\u001b[43m \u001b[49m\u001b[43mbus\u001b[49m\u001b[43m)\u001b[49m\n\u001b[1;32m      2\u001b[0m \u001b[38;5;66;03m# process_receive = Process(target=receive_message, name=\"Receiving CAN message\", args=(message_proxy,bus))\u001b[39;00m\n\u001b[1;32m      3\u001b[0m \u001b[38;5;66;03m# process_receive.start()\u001b[39;00m\n\u001b[1;32m      4\u001b[0m \u001b[38;5;66;03m# process_receive\u001b[39;00m\n",
      "Cell \u001b[0;32mIn[12], line 7\u001b[0m, in \u001b[0;36mreceive_message\u001b[0;34m(message_proxy, bus)\u001b[0m\n\u001b[1;32m      4\u001b[0m \u001b[38;5;66;03m# bus = Bus(bustype='socketcan', channel=bus_channel, bitrate=bitrate)\u001b[39;00m\n\u001b[1;32m      5\u001b[0m \u001b[38;5;66;03m# os.setsid()\u001b[39;00m\n\u001b[1;32m      6\u001b[0m \u001b[38;5;28mprint\u001b[39m(\u001b[38;5;124mf\u001b[39m\u001b[38;5;124m'\u001b[39m\u001b[38;5;124mbus: \u001b[39m\u001b[38;5;132;01m{\u001b[39;00mbus\u001b[38;5;241m.\u001b[39mfileno()\u001b[38;5;132;01m}\u001b[39;00m\u001b[38;5;124m \u001b[39m\u001b[38;5;132;01m{\u001b[39;00mbus\u001b[38;5;132;01m}\u001b[39;00m\u001b[38;5;124m'\u001b[39m)\n\u001b[0;32m----> 7\u001b[0m msg:Message \u001b[38;5;241m=\u001b[39m \u001b[43mbus\u001b[49m\u001b[38;5;241;43m.\u001b[39;49m\u001b[43mrecv\u001b[49m\u001b[43m(\u001b[49m\u001b[43m)\u001b[49m\n\u001b[1;32m      8\u001b[0m \u001b[38;5;28mprint\u001b[39m(\u001b[38;5;124mf\u001b[39m\u001b[38;5;124m'\u001b[39m\u001b[38;5;124mmessage received: \u001b[39m\u001b[38;5;132;01m{\u001b[39;00mmsg\u001b[38;5;132;01m}\u001b[39;00m\u001b[38;5;124m'\u001b[39m)\n\u001b[1;32m      9\u001b[0m message_proxy[\u001b[38;5;124m'\u001b[39m\u001b[38;5;124mtimestamp\u001b[39m\u001b[38;5;124m'\u001b[39m] \u001b[38;5;241m=\u001b[39m msg\u001b[38;5;241m.\u001b[39mtimestamp\n",
      "File \u001b[0;32m/dpt/.pyenv/versions/3.11.7/envs/scapy/lib/python3.11/site-packages/can/bus.py:121\u001b[0m, in \u001b[0;36mBusABC.recv\u001b[0;34m(self, timeout)\u001b[0m\n\u001b[1;32m    117\u001b[0m time_left \u001b[38;5;241m=\u001b[39m timeout\n\u001b[1;32m    119\u001b[0m \u001b[38;5;28;01mwhile\u001b[39;00m \u001b[38;5;28;01mTrue\u001b[39;00m:\n\u001b[1;32m    120\u001b[0m     \u001b[38;5;66;03m# try to get a message\u001b[39;00m\n\u001b[0;32m--> 121\u001b[0m     msg, already_filtered \u001b[38;5;241m=\u001b[39m \u001b[38;5;28;43mself\u001b[39;49m\u001b[38;5;241;43m.\u001b[39;49m\u001b[43m_recv_internal\u001b[49m\u001b[43m(\u001b[49m\u001b[43mtimeout\u001b[49m\u001b[38;5;241;43m=\u001b[39;49m\u001b[43mtime_left\u001b[49m\u001b[43m)\u001b[49m\n\u001b[1;32m    123\u001b[0m     \u001b[38;5;66;03m# return it, if it matches\u001b[39;00m\n\u001b[1;32m    124\u001b[0m     \u001b[38;5;28;01mif\u001b[39;00m msg \u001b[38;5;129;01mand\u001b[39;00m (already_filtered \u001b[38;5;129;01mor\u001b[39;00m \u001b[38;5;28mself\u001b[39m\u001b[38;5;241m.\u001b[39m_matches_filters(msg)):\n",
      "File \u001b[0;32m/dpt/.pyenv/versions/3.11.7/envs/scapy/lib/python3.11/site-packages/can/interfaces/socketcan/socketcan.py:735\u001b[0m, in \u001b[0;36mSocketcanBus._recv_internal\u001b[0;34m(self, timeout)\u001b[0m\n\u001b[1;32m    729\u001b[0m \u001b[38;5;28;01mdef\u001b[39;00m \u001b[38;5;21m_recv_internal\u001b[39m(\n\u001b[1;32m    730\u001b[0m     \u001b[38;5;28mself\u001b[39m, timeout: Optional[\u001b[38;5;28mfloat\u001b[39m]\n\u001b[1;32m    731\u001b[0m ) \u001b[38;5;241m-\u001b[39m\u001b[38;5;241m>\u001b[39m Tuple[Optional[Message], \u001b[38;5;28mbool\u001b[39m]:\n\u001b[1;32m    732\u001b[0m     \u001b[38;5;28;01mtry\u001b[39;00m:\n\u001b[1;32m    733\u001b[0m         \u001b[38;5;66;03m# get all sockets that are ready (can be a list with a single value\u001b[39;00m\n\u001b[1;32m    734\u001b[0m         \u001b[38;5;66;03m# being self.socket or an empty list if self.socket is not ready)\u001b[39;00m\n\u001b[0;32m--> 735\u001b[0m         ready_receive_sockets, _, _ \u001b[38;5;241m=\u001b[39m \u001b[43mselect\u001b[49m\u001b[38;5;241;43m.\u001b[39;49m\u001b[43mselect\u001b[49m\u001b[43m(\u001b[49m\u001b[43m[\u001b[49m\u001b[38;5;28;43mself\u001b[39;49m\u001b[38;5;241;43m.\u001b[39;49m\u001b[43msocket\u001b[49m\u001b[43m]\u001b[49m\u001b[43m,\u001b[49m\u001b[43m \u001b[49m\u001b[43m[\u001b[49m\u001b[43m]\u001b[49m\u001b[43m,\u001b[49m\u001b[43m \u001b[49m\u001b[43m[\u001b[49m\u001b[43m]\u001b[49m\u001b[43m,\u001b[49m\u001b[43m \u001b[49m\u001b[43mtimeout\u001b[49m\u001b[43m)\u001b[49m\n\u001b[1;32m    736\u001b[0m     \u001b[38;5;28;01mexcept\u001b[39;00m \u001b[38;5;167;01mOSError\u001b[39;00m \u001b[38;5;28;01mas\u001b[39;00m error:\n\u001b[1;32m    737\u001b[0m         \u001b[38;5;66;03m# something bad happened (e.g. the interface went down)\u001b[39;00m\n\u001b[1;32m    738\u001b[0m         \u001b[38;5;28;01mraise\u001b[39;00m can\u001b[38;5;241m.\u001b[39mCanOperationError(\n\u001b[1;32m    739\u001b[0m             \u001b[38;5;124mf\u001b[39m\u001b[38;5;124m\"\u001b[39m\u001b[38;5;124mFailed to receive: \u001b[39m\u001b[38;5;132;01m{\u001b[39;00merror\u001b[38;5;241m.\u001b[39mstrerror\u001b[38;5;132;01m}\u001b[39;00m\u001b[38;5;124m\"\u001b[39m, error\u001b[38;5;241m.\u001b[39merrno\n\u001b[1;32m    740\u001b[0m         )\n",
      "\u001b[0;31mKeyboardInterrupt\u001b[0m: "
     ]
    }
   ],
   "source": [
    "receive_message(message_proxy, bus)\n",
    "# process_receive = Process(target=receive_message, name=\"Receiving CAN message\", args=(message_proxy,bus))\n",
    "# process_receive.start()\n",
    "# process_receive"
   ]
  },
  {
   "cell_type": "code",
   "execution_count": 19,
   "metadata": {},
   "outputs": [],
   "source": [
    "done.set()"
   ]
  },
  {
   "cell_type": "code",
   "execution_count": 20,
   "metadata": {},
   "outputs": [
    {
     "data": {
      "text/plain": [
       "<Process name='Sending CAN messasge' pid=82679 parent=79930 stopped exitcode=0>"
      ]
     },
     "execution_count": 20,
     "metadata": {},
     "output_type": "execute_result"
    }
   ],
   "source": [
    "process_send"
   ]
  },
  {
   "cell_type": "code",
   "execution_count": 22,
   "metadata": {},
   "outputs": [
    {
     "ename": "KeyError",
     "evalue": "'timestamp'",
     "output_type": "error",
     "traceback": [
      "\u001b[0;31m---------------------------------------------------------------------------\u001b[0m",
      "\u001b[0;31mKeyError\u001b[0m                                  Traceback (most recent call last)",
      "Cell \u001b[0;32mIn[22], line 1\u001b[0m\n\u001b[0;32m----> 1\u001b[0m datetime\u001b[38;5;241m.\u001b[39mfromtimestamp(\u001b[43mmessage_proxy\u001b[49m\u001b[43m[\u001b[49m\u001b[38;5;124;43m'\u001b[39;49m\u001b[38;5;124;43mtimestamp\u001b[39;49m\u001b[38;5;124;43m'\u001b[39;49m\u001b[43m]\u001b[49m),db\u001b[38;5;241m.\u001b[39mdecode_message(message_proxy[\u001b[38;5;124m'\u001b[39m\u001b[38;5;124marbitration_id\u001b[39m\u001b[38;5;124m'\u001b[39m],message_proxy[\u001b[38;5;124m'\u001b[39m\u001b[38;5;124mdata\u001b[39m\u001b[38;5;124m'\u001b[39m])\n",
      "File \u001b[0;32m<string>:2\u001b[0m, in \u001b[0;36m__getitem__\u001b[0;34m(self, *args, **kwds)\u001b[0m\n",
      "File \u001b[0;32m/dpt/.pyenv/versions/3.11.7/lib/python3.11/multiprocessing/managers.py:837\u001b[0m, in \u001b[0;36mBaseProxy._callmethod\u001b[0;34m(self, methodname, args, kwds)\u001b[0m\n\u001b[1;32m    835\u001b[0m     dispatch(conn, \u001b[38;5;28;01mNone\u001b[39;00m, \u001b[38;5;124m'\u001b[39m\u001b[38;5;124mdecref\u001b[39m\u001b[38;5;124m'\u001b[39m, (token\u001b[38;5;241m.\u001b[39mid,))\n\u001b[1;32m    836\u001b[0m     \u001b[38;5;28;01mreturn\u001b[39;00m proxy\n\u001b[0;32m--> 837\u001b[0m \u001b[38;5;28;01mraise\u001b[39;00m convert_to_error(kind, result)\n",
      "\u001b[0;31mKeyError\u001b[0m: 'timestamp'"
     ]
    }
   ],
   "source": [
    "datetime.fromtimestamp(message_proxy['timestamp']),db.decode_message(message_proxy['arbitration_id'],message_proxy['data'])"
   ]
  },
  {
   "cell_type": "code",
   "execution_count": null,
   "metadata": {},
   "outputs": [],
   "source": [
    "Process(target=receive_message, args=(message_proxy, bus, done, timeout)).start()"
   ]
  },
  {
   "cell_type": "code",
   "execution_count": null,
   "metadata": {},
   "outputs": [],
   "source": [
    "try:\n",
    "\trecv_message = Message(arbitration_id=recv_message_proxy['arbitration_id'], data=recv_message_proxy['data'], is_extended_id=False)\n",
    "except KeyError:\n",
    "\tprint('KeyError')"
   ]
  },
  {
   "cell_type": "code",
   "execution_count": null,
   "metadata": {},
   "outputs": [],
   "source": [
    "message = bus.recv(timeout=2)\n",
    "if message is not None:\n",
    "\tmessage = can.Message(arbitration_id=example_message.frame_id, data=data, is_extended_id=False) \t\n",
    "\tdb.decode_message(message.arbitration_id, message.data)\n",
    "else:\n",
    "\tprint('no message received')"
   ]
  },
  {
   "cell_type": "code",
   "execution_count": null,
   "metadata": {},
   "outputs": [],
   "source": [
    "done.set()"
   ]
  },
  {
   "cell_type": "code",
   "execution_count": null,
   "metadata": {},
   "outputs": [],
   "source": [
    "# import time\n",
    "# import can\n",
    "# from can.interfaces.udp_multicast import UdpMulticastBus\n",
    "\n",
    "# # The bus can be created using the can.Bus wrapper class or using UdpMulticastBus directly\n",
    "# with can.Bus(channel=UdpMulticastBus.DEFAULT_GROUP_IPv4, interface='udp_multicast') as bus_1:\n",
    "                \n",
    "# \t# bus_2 = can.Bus(channel=UdpMulticastBus.DEFAULT_GROUP_IPv6, interface='udp_multicast')\n",
    "# \tbus_2 = UdpMulticastBus(channel=UdpMulticastBus.DEFAULT_GROUP_IPv4)\n",
    "\n",
    "#     # register a callback on the second bus that prints messages to the standard out\n",
    "# \tnotifier = can.Notifier(bus_2, [can.Printer()])\n",
    "\t\n",
    "# \tmessage = can.Message(arbitration_id=0x123, data=[1, 2, 3])\n",
    "# \tbus_1.send(message)\n",
    "# \t# time.sleep(2.0)\n",
    "# \t# notifier\n",
    "# \t# msg = bus_2.recv(timeout=1)\n",
    "# \t# print(msg)\n",
    "\n",
    "\n",
    "#     # create and send a message with the first bus, which should arrive at the second one\n",
    "#     # give the notifier enough time to get triggered by the second bus\n",
    "    \n",
    "# \ttime.sleep(2.0)\n",
    "\n",
    "#     # msg = bus_2.recv(timeout=2)\n",
    "#     # give the notifier enough time to get triggered by the second bus\n",
    "#     # print(msg)\n",
    "# \tbus_2.shutdown()"
   ]
  },
  {
   "cell_type": "code",
   "execution_count": null,
   "metadata": {},
   "outputs": [],
   "source": [
    "# close and remove vcan0\n",
    "# !sshpass -v -p  asdf sudo ip link delete vcan0 \n",
    "\n",
    "!gpg -d -q ~/.sshpasswd.gpg | sshpass -v sudo ip link set down vcan0"
   ]
  },
  {
   "cell_type": "code",
   "execution_count": null,
   "metadata": {},
   "outputs": [],
   "source": [
    "\n",
    "!gpg -d -q ~/.sshpasswd.gpg | sshpass -v sudo ip link delete vcan0 "
   ]
  }
 ],
 "metadata": {
  "kernelspec": {
   "display_name": "scapy",
   "language": "python",
   "name": "python3"
  },
  "language_info": {
   "codemirror_mode": {
    "name": "ipython",
    "version": 3
   },
   "file_extension": ".py",
   "mimetype": "text/x-python",
   "name": "python",
   "nbconvert_exporter": "python",
   "pygments_lexer": "ipython3",
   "version": "3.11.7"
  }
 },
 "nbformat": 4,
 "nbformat_minor": 2
}
