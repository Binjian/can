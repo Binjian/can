{
 "cells": [
  {
   "cell_type": "markdown",
   "metadata": {},
   "source": [
    "# data link layer with scapy wrapper \n",
    "\n",
    "> send or receive a CAN message to a bus, ISO11898-1\n",
    "> using the python-can library\n",
    "> testing on vcan interface"
   ]
  },
  {
   "cell_type": "code",
   "execution_count": null,
   "metadata": {},
   "outputs": [],
   "source": [
    "#| default_exp data_link_scapy"
   ]
  },
  {
   "cell_type": "code",
   "execution_count": null,
   "metadata": {},
   "outputs": [],
   "source": [
    "#| hide\n",
    "from __future__ import annotations\n",
    "from nbdev.showdoc import *\n",
    "from fastcore.test import *"
   ]
  },
  {
   "cell_type": "code",
   "execution_count": null,
   "metadata": {},
   "outputs": [],
   "source": [
    "#| export\n",
    "# from multiprocessing import Process, Event\n",
    "# from multiprocessing import synchronize, Manager\n",
    "# from multiprocessing.managers import DictProxy\n",
    "from pprint import pprint, PrettyPrinter\n",
    "import subprocess\n",
    "import threading\n",
    "from datetime import datetime\n",
    "import json\n",
    "import argparse\n",
    "import os\n",
    "import git\n",
    "import sys\n",
    "import signal\n",
    "import time\n",
    "from multiprocessing import Manager\n",
    "from multiprocessing.managers import DictProxy"
   ]
  },
  {
   "cell_type": "code",
   "execution_count": null,
   "metadata": {},
   "outputs": [],
   "source": [
    "#| export\n",
    "import can\n",
    "# from can.interface import Bus\n",
    "# from can import Message \n",
    "import cantools\n",
    "from cantools.database import Message as MessageTpl\n",
    "from cantools.database.can.database import Database"
   ]
  },
  {
   "cell_type": "code",
   "execution_count": null,
   "metadata": {},
   "outputs": [],
   "source": [
    "#| export\n",
    "pp = PrettyPrinter(indent=4, width=80, compact=True)"
   ]
  },
  {
   "cell_type": "code",
   "execution_count": null,
   "metadata": {},
   "outputs": [
    {
     "name": "stdout",
     "output_type": "stream",
     "text": [
      "'/home/n/devel/anting_remote/eos/tspace/candycan'\n"
     ]
    }
   ],
   "source": [
    "#| export \n",
    "repo = git.Repo(\"./\", search_parent_directories=True)  # get the Repo object of tspace\n",
    "if os.path.basename(repo.working_dir) != \"candycan\":  # I'm in the parent repo!\n",
    "    repo = repo.submodule(\"candycan\").module()\n",
    "pprint(repo.working_dir)"
   ]
  },
  {
   "cell_type": "code",
   "execution_count": null,
   "metadata": {},
   "outputs": [],
   "source": [
    "#| export\n",
    "def get_argparser() -> argparse.ArgumentParser:\n",
    "    \"\"\"_summary_ get CAN bus, dbc config and the message to send\n",
    "\n",
    "    Returns:\n",
    "        argparse.ArgumentParser: _description_\n",
    "    \"\"\"\n",
    "\n",
    "    parser = argparse.ArgumentParser(\"Get the CAN Bus channel, bitrate and dbc path\")\n",
    "\n",
    "    parser.add_argument(\n",
    "        \"-t\",\n",
    "        \"--type\",\n",
    "        type=str,\n",
    "        default=\"socketcan\",\n",
    "        help=\"The type of the CAN bus\",\n",
    "    )\n",
    "\n",
    "    parser.add_argument(\n",
    "        \"-c\",\n",
    "        \"--channel\",\n",
    "        type=str,\n",
    "        default=\"vcan1\",\n",
    "        help=\"The CAN bus channel to connect to\",\n",
    "    )\n",
    "\n",
    "    parser.add_argument(\n",
    "        \"-b\", \"--bitrate\", type=int, default=250000, help=\"The bitrate of the CAN bus\"\n",
    "    )\n",
    "\n",
    "    parser.add_argument(\n",
    "        \"-d\",\n",
    "        \"--dbc\",\n",
    "        type=str,\n",
    "        default=\"../../res/motohawk_new.dbc\",\n",
    "        help=\"The path to the dbc file\",\n",
    "    )\n",
    "\n",
    "    parser.add_argument(\n",
    "        \"-m\",\n",
    "        \"--message\",\n",
    "        type=str,\n",
    "        default=\"ExampleMessage\",\n",
    "        help=\"The message to send\",\n",
    "    )\n",
    "\n",
    "    parser.add_argument(\n",
    "        \"-e\",\n",
    "        \"--extended\",\n",
    "        action=\"store_true\",\n",
    "        help=\"If the arbitration id is extended\",\n",
    "    )\n",
    "\n",
    "    return parser\n"
   ]
  },
  {
   "cell_type": "code",
   "execution_count": null,
   "metadata": {},
   "outputs": [],
   "source": [
    "#| export\n",
    "done = threading.Event()\n",
    "def signal_usr1(signum, frame):\n",
    "    \"\"\"Handle USR1 signal as an event to set the received flag.\"\"\"\n",
    "    # global received\n",
    "    # received = True\n",
    "\n",
    "    done.set()\n",
    "    # print(\"received signal, sending done!\")"
   ]
  },
  {
   "cell_type": "code",
   "execution_count": null,
   "metadata": {},
   "outputs": [],
   "source": [
    "#| export\n",
    "def send_msg(db:Database, message:str, payload:bytes, channel:str, bitrate:int, bus_type: str, is_extended: bool) -> None:\n",
    "\n",
    "    message_definition = db.get_message_by_name(message)\n",
    "    data_dict = json.loads(payload.decode())\n",
    "\n",
    "    # print(\"Prepare sending message\")\n",
    "    sys.stdout.flush()\n",
    "    can_data = message_definition.encode(data_dict)\n",
    "    message = can.Message(\n",
    "        arbitration_id=message_definition.frame_id,\n",
    "        data=can_data,\n",
    "        is_extended_id=is_extended,\n",
    "    )\n",
    "    # print(message)\n",
    "    # print(\"Before sending message\")\n",
    "    with can.interface.Bus(bustype=bus_type, channel=channel, bitrate=bitrate) as bus:\n",
    "        bus.send(message)\n"
   ]
  },
  {
   "cell_type": "code",
   "execution_count": null,
   "metadata": {},
   "outputs": [
    {
     "data": {
      "text/plain": [
       "[message('ExampleMessage', 0x1f0, False, 8, {None: 'Example message used as template in MotoHawk models.'}),\n",
       " message('NewMessage', 0x254, False, 8, {None: 'self made message'})]"
      ]
     },
     "execution_count": null,
     "metadata": {},
     "output_type": "execute_result"
    }
   ],
   "source": [
    "db_can = cantools.database.load_file(repo.working_dir+'/res/motohawk_new.dbc')\n",
    "db_can.messages\n"
   ]
  },
  {
   "cell_type": "code",
   "execution_count": null,
   "metadata": {},
   "outputs": [
    {
     "name": "stdout",
     "output_type": "stream",
     "text": [
      "[signal('Enable', 7, 1, 'big_endian', False, None, 1, 0, None, None, '-', False, None, {0: 'Disabled', 1: 'Enabled'}, None, None),\n",
      " signal('AverageRadius', 6, 6, 'big_endian', False, None, 0.1, 0, 0, 5, 'm', False, None, None, None, None),\n",
      " signal('Temperature', 0, 12, 'big_endian', True, None, 0.01, 250, 229.52, 270.47, 'degK', False, None, None, None, None)]\n",
      "{'_autosar': None,\n",
      " '_bus_name': None,\n",
      " '_codecs': {'formats': Formats(big_endian=<bitstruct.c.CompiledFormatDict object>, little_endian=<bitstruct.c.CompiledFormatDict object>, padding_mask=35184372088831),\n",
      "             'multiplexers': {},\n",
      "             'signals': [signal('Enable', 7, 1, 'big_endian', False, None, 1, 0, None, None, '-', False, None, {0: 'Disabled', 1: 'Enabled'}, None, None),\n",
      "                         signal('AverageRadius', 6, 6, 'big_endian', False, None, 0.1, 0, 0, 5, 'm', False, None, None, None, None),\n",
      "                         signal('Temperature', 0, 12, 'big_endian', True, None, 0.01, 250, 229.52, 270.47, 'degK', False, None, None, None, None)]},\n",
      " '_comments': {None: 'Example message used as template in MotoHawk models.'},\n",
      " '_contained_messages': None,\n",
      " '_cycle_time': None,\n",
      " '_dbc': <cantools.database.can.formats.dbc_specifics.DbcSpecifics object>,\n",
      " '_frame_id': 496,\n",
      " '_header_byte_order': 'big_endian',\n",
      " '_header_id': None,\n",
      " '_is_extended_frame': False,\n",
      " '_is_fd': False,\n",
      " '_length': 8,\n",
      " '_name': 'ExampleMessage',\n",
      " '_protocol': None,\n",
      " '_send_type': None,\n",
      " '_senders': ['PCM1'],\n",
      " '_signal_dict': {'AverageRadius': signal('AverageRadius', 6, 6, 'big_endian', False, None, 0.1, 0, 0, 5, 'm', False, None, None, None, None),\n",
      "                  'Enable': signal('Enable', 7, 1, 'big_endian', False, None, 1, 0, None, None, '-', False, None, {0: 'Disabled', 1: 'Enabled'}, None, None),\n",
      "                  'Temperature': signal('Temperature', 0, 12, 'big_endian', True, None, 0.01, 250, 229.52, 270.47, 'degK', False, None, None, None, None)},\n",
      " '_signal_groups': [],\n",
      " '_signal_tree': ['Enable', 'AverageRadius', 'Temperature'],\n",
      " '_signals': [signal('Enable', 7, 1, 'big_endian', False, None, 1, 0, None, None, '-', False, None, {0: 'Disabled', 1: 'Enabled'}, None, None),\n",
      "              signal('AverageRadius', 6, 6, 'big_endian', False, None, 0.1, 0, 0, 5, 'm', False, None, None, None, None),\n",
      "              signal('Temperature', 0, 12, 'big_endian', True, None, 0.01, 250, 229.52, 270.47, 'degK', False, None, None, None, None)],\n",
      " '_strict': True,\n",
      " '_unused_bit_pattern': 255}\n"
     ]
    },
    {
     "data": {
      "text/plain": [
       "496"
      ]
     },
     "execution_count": null,
     "metadata": {},
     "output_type": "execute_result"
    }
   ],
   "source": [
    "example_message: MessageTpl = db_can.get_message_by_name('ExampleMessage')\n",
    "pprint(example_message.signals)\n",
    "pprint(example_message.__dict__)\n",
    "example_message.frame_id"
   ]
  },
  {
   "cell_type": "code",
   "execution_count": null,
   "metadata": {},
   "outputs": [
    {
     "name": "stderr",
     "output_type": "stream",
     "text": [
      "SSHPASS: searching for password prompt using match \"assword\"\n",
      "SSHPASS: read: [sudo] password for n: \n",
      "SSHPASS: detected prompt. Sending password.\n"
     ]
    },
    {
     "name": "stderr",
     "output_type": "stream",
     "text": [
      "SSHPASS: read: \n",
      "\n"
     ]
    },
    {
     "data": {
      "text/plain": [
       "0"
      ]
     },
     "execution_count": null,
     "metadata": {},
     "output_type": "execute_result"
    },
    {
     "name": "stderr",
     "output_type": "stream",
     "text": [
      "SSHPASS: searching for password prompt using match \"assword\"\n",
      "SSHPASS: read: [sudo] password for n: \n",
      "SSHPASS: detected prompt. Sending password.\n",
      "SSHPASS: read: \n",
      "\n"
     ]
    },
    {
     "data": {
      "text/plain": [
       "0"
      ]
     },
     "execution_count": null,
     "metadata": {},
     "output_type": "execute_result"
    },
    {
     "name": "stdout",
     "output_type": "stream",
     "text": [
      "16: vcan0: <NOARP> mtu 72 qdisc noop state DOWN mode DEFAULT group default qlen 1000\n",
      "    link/can \n"
     ]
    },
    {
     "data": {
      "text/plain": [
       "0"
      ]
     },
     "execution_count": null,
     "metadata": {},
     "output_type": "execute_result"
    },
    {
     "name": "stderr",
     "output_type": "stream",
     "text": [
      "SSHPASS: searching for password prompt using match \"assword\"\n",
      "SSHPASS: read: [sudo] password for n: \n",
      "SSHPASS: detected prompt. Sending password.\n",
      "SSHPASS: read: \n",
      "\n"
     ]
    },
    {
     "data": {
      "text/plain": [
       "0"
      ]
     },
     "execution_count": null,
     "metadata": {},
     "output_type": "execute_result"
    }
   ],
   "source": [
    "# install vcan interface with encrypted password to sudo \n",
    "os.system(\"gpg -d -q ~/.sshpasswd.gpg | sshpass -v sudo modprobe vcan\")\n",
    "# sshpass -v -p asdf sudo ip link add dev vcan0 type vcan\n",
    "os.system(\"gpg -d -q ~/.sshpasswd.gpg | sshpass -v sudo ip link add dev vcan0 type vcan\")\n",
    "os.system(\"ip link show vcan0\")\n",
    "# !gpg -d -q ~/.sshpasswd.gpg | sshpass -v sudo ip link set vcan0 type vcan bitrate 500000  # vcan does not support set bitrate on command line!\n",
    "# !sshpass -p asdf sudo ip link add dev vcan0 type vcan\n",
    "os.system(\"gpg -d -q ~/.sshpasswd.gpg | sshpass -v sudo ip link set up vcan0\")\n",
    "# !sshpass -v -p asdf sudo ip link set up vcan0"
   ]
  },
  {
   "cell_type": "code",
   "execution_count": null,
   "metadata": {},
   "outputs": [],
   "source": [
    "# # install vcan interface with encrypted password to sudo \n",
    "# !gpg -d -q ~/.sshpasswd.gpg | sshpass -v sudo modprobe vcan\n",
    "# # sshpass -v -p asdf sudo ip link add dev vcan0 type vcan\n",
    "# !gpg -d -q ~/.sshpasswd.gpg | sshpass -v sudo ip link add dev vcan0 type vcan\n",
    "# !ip link show vcan0\n",
    "# # !gpg -d -q ~/.sshpasswd.gpg | sshpass -v sudo ip link set vcan0 type vcan bitrate 500000  # vcan does not support set bitrate on command line!\n",
    "# # !sshpass -p asdf sudo ip link add dev vcan0 type vcan\n",
    "# !gpg -d -q ~/.sshpasswd.gpg | sshpass -v sudo ip link set up vcan0\n",
    "# # !sshpass -v -p asdf sudo ip link set up vcan0"
   ]
  },
  {
   "cell_type": "code",
   "execution_count": null,
   "metadata": {},
   "outputs": [
    {
     "data": {
      "text/plain": [
       "b'{\"Temperature\": 250.1, \"AverageRadius\": 3.2, \"Enable\": 1}'"
      ]
     },
     "execution_count": null,
     "metadata": {},
     "output_type": "execute_result"
    },
    {
     "data": {
      "text/plain": [
       "{'Temperature': 250.1, 'AverageRadius': 3.2, 'Enable': 1}"
      ]
     },
     "execution_count": null,
     "metadata": {},
     "output_type": "execute_result"
    },
    {
     "data": {
      "text/plain": [
       "{'Enable': 'Enabled', 'AverageRadius': 3.2, 'Temperature': 250.1}"
      ]
     },
     "execution_count": null,
     "metadata": {},
     "output_type": "execute_result"
    }
   ],
   "source": [
    "data_dict ={'Temperature': 250.1, 'AverageRadius': 3.2, 'Enable': 1}\n",
    "data_json_bytes = json.dumps(data_dict).encode('utf-8')\n",
    "data_json_bytes\n",
    "json.loads(data_json_bytes.decode())\n",
    "\n",
    "can_data = example_message.encode({'Temperature': 250.1, 'AverageRadius': 3.2, 'Enable': 1})\n",
    "example_message.decode(can_data)"
   ]
  },
  {
   "cell_type": "code",
   "execution_count": null,
   "metadata": {},
   "outputs": [],
   "source": [
    "bus = can.interface.Bus(bustype='socketcan', channel='vcan0', bitrate=250000)\n",
    "message_to_send = can.Message(arbitration_id=example_message.frame_id, data=can_data, is_extended_id=False) \t\n",
    "# can_bus.send(message)"
   ]
  },
  {
   "cell_type": "code",
   "execution_count": null,
   "metadata": {},
   "outputs": [],
   "source": [
    "manager = Manager()\n",
    "message_proxy = manager.dict()"
   ]
  },
  {
   "cell_type": "code",
   "execution_count": null,
   "metadata": {},
   "outputs": [],
   "source": [
    "#| export\n",
    "def receive_message(message_proxy: DictProxy,bus: can.interface.Bus)->None:\n",
    "\tprint('waiting for message')\n",
    "\tmsg:can.Message = bus.recv()\n",
    "\tprint('message received')\n",
    "\tmessage_proxy['timestamp'] = msg.timestamp\n",
    "\tmessage_proxy['arbitration_id'] = msg.arbitration_id\n",
    "\tmessage_proxy['data']=msg.data"
   ]
  },
  {
   "cell_type": "code",
   "execution_count": null,
   "metadata": {},
   "outputs": [
    {
     "name": "stdout",
     "output_type": "stream",
     "text": [
      "PARENT: 357230 before signaling child\n"
     ]
    }
   ],
   "source": [
    "proc = subprocess.Popen(\n",
    "\t['python', \n",
    "        repo.working_dir+'/candycan/data_link_scapy.py', \n",
    "\t\t'-t', 'socketcan', \n",
    "\t\t'-c' , 'vcan0', \n",
    "\t\t'-b', '25000',\n",
    "\t\t'-d', repo.working_dir+'/res/motohawk_new.dbc',\n",
    "\t\t'-m', 'ExampleMessage',\n",
    "\t\t], \n",
    "\tstdout=subprocess.PIPE, \n",
    "\tstderr=subprocess.PIPE, \n",
    "\tstdin=subprocess.PIPE\n",
    "\t)\n",
    "print(f'PARENT: {proc.pid} before signaling child')\n"
   ]
  },
  {
   "cell_type": "code",
   "execution_count": null,
   "metadata": {},
   "outputs": [
    {
     "data": {
      "text/plain": [
       "b'{\"Temperature\": 250.1, \"AverageRadius\": 3.2, \"Enable\": 1}'"
      ]
     },
     "execution_count": null,
     "metadata": {},
     "output_type": "execute_result"
    },
    {
     "data": {
      "text/plain": [
       "'{\"Temperature\": 250.1, \"AverageRadius\": 3.2, \"Enable\": 1}'"
      ]
     },
     "execution_count": null,
     "metadata": {},
     "output_type": "execute_result"
    },
    {
     "data": {
      "text/plain": [
       "{'Temperature': 250.1, 'AverageRadius': 3.2, 'Enable': 1}"
      ]
     },
     "execution_count": null,
     "metadata": {},
     "output_type": "execute_result"
    }
   ],
   "source": [
    "data_json_bytes\n",
    "data_json_bytes.decode()\n",
    "json.loads(data_json_bytes.decode())"
   ]
  },
  {
   "cell_type": "code",
   "execution_count": null,
   "metadata": {},
   "outputs": [],
   "source": [
    "try:\n",
    "\touts, errs = proc.communicate(data_json_bytes, timeout=1)\n",
    "except subprocess.TimeoutExpired:\n",
    "\tprint(f'PARENT: {proc.pid}; TimeoutExpired')\n",
    "\t# outs, errs = proc.communicate()\n",
    "\t# print(f'PARENT: {proc.pid}; outs: {outs}; errs: {errs} TimeoutExpired')\n",
    "# sys.stdout.flush()\n",
    "# time.sleep(1)\n"
   ]
  },
  {
   "cell_type": "code",
   "execution_count": null,
   "metadata": {},
   "outputs": [
    {
     "name": "stdout",
     "output_type": "stream",
     "text": [
      "waiting for message\n"
     ]
    },
    {
     "ename": "KeyboardInterrupt",
     "evalue": "",
     "output_type": "error",
     "traceback": [
      "\u001b[0;31m---------------------------------------------------------------------------\u001b[0m",
      "\u001b[0;31mKeyboardInterrupt\u001b[0m                         Traceback (most recent call last)",
      "Cell \u001b[0;32mIn[21], line 1\u001b[0m\n\u001b[0;32m----> 1\u001b[0m \u001b[43mreceive_message\u001b[49m\u001b[43m(\u001b[49m\u001b[43mmessage_proxy\u001b[49m\u001b[43m,\u001b[49m\u001b[43m \u001b[49m\u001b[43mbus\u001b[49m\u001b[43m)\u001b[49m\n\u001b[1;32m      2\u001b[0m \u001b[38;5;66;03m# proc_receive = subprocess.Popen(\u001b[39;00m\n\u001b[1;32m      3\u001b[0m \u001b[38;5;66;03m# \t['python', \u001b[39;00m\n\u001b[1;32m      4\u001b[0m \u001b[38;5;66;03m#         '../candycan/receive_message.py', \u001b[39;00m\n\u001b[0;32m   (...)\u001b[0m\n\u001b[1;32m     21\u001b[0m \u001b[38;5;66;03m# stdout_value\u001b[39;00m\n\u001b[1;32m     22\u001b[0m \u001b[38;5;66;03m# stderr_value\u001b[39;00m\n",
      "Cell \u001b[0;32mIn[17], line 4\u001b[0m, in \u001b[0;36mreceive_message\u001b[0;34m(message_proxy, bus)\u001b[0m\n\u001b[1;32m      2\u001b[0m \u001b[38;5;28;01mdef\u001b[39;00m \u001b[38;5;21mreceive_message\u001b[39m(message_proxy: DictProxy,bus: can\u001b[38;5;241m.\u001b[39minterface\u001b[38;5;241m.\u001b[39mBus)\u001b[38;5;241m-\u001b[39m\u001b[38;5;241m>\u001b[39m\u001b[38;5;28;01mNone\u001b[39;00m:\n\u001b[1;32m      3\u001b[0m \t\u001b[38;5;28mprint\u001b[39m(\u001b[38;5;124m'\u001b[39m\u001b[38;5;124mwaiting for message\u001b[39m\u001b[38;5;124m'\u001b[39m)\n\u001b[0;32m----> 4\u001b[0m \tmsg:can\u001b[38;5;241m.\u001b[39mMessage \u001b[38;5;241m=\u001b[39m \u001b[43mbus\u001b[49m\u001b[38;5;241;43m.\u001b[39;49m\u001b[43mrecv\u001b[49m\u001b[43m(\u001b[49m\u001b[43m)\u001b[49m\n\u001b[1;32m      5\u001b[0m \t\u001b[38;5;28mprint\u001b[39m(\u001b[38;5;124m'\u001b[39m\u001b[38;5;124mmessage received\u001b[39m\u001b[38;5;124m'\u001b[39m)\n\u001b[1;32m      6\u001b[0m \tmessage_proxy[\u001b[38;5;124m'\u001b[39m\u001b[38;5;124mtimestamp\u001b[39m\u001b[38;5;124m'\u001b[39m] \u001b[38;5;241m=\u001b[39m msg\u001b[38;5;241m.\u001b[39mtimestamp\n",
      "File \u001b[0;32m/dpt/.pyenv/versions/miniconda3-3.11-24.1.2-0/envs/can/lib/python3.11/site-packages/can/bus.py:121\u001b[0m, in \u001b[0;36mBusABC.recv\u001b[0;34m(self, timeout)\u001b[0m\n\u001b[1;32m    117\u001b[0m time_left \u001b[38;5;241m=\u001b[39m timeout\n\u001b[1;32m    119\u001b[0m \u001b[38;5;28;01mwhile\u001b[39;00m \u001b[38;5;28;01mTrue\u001b[39;00m:\n\u001b[1;32m    120\u001b[0m     \u001b[38;5;66;03m# try to get a message\u001b[39;00m\n\u001b[0;32m--> 121\u001b[0m     msg, already_filtered \u001b[38;5;241m=\u001b[39m \u001b[38;5;28;43mself\u001b[39;49m\u001b[38;5;241;43m.\u001b[39;49m\u001b[43m_recv_internal\u001b[49m\u001b[43m(\u001b[49m\u001b[43mtimeout\u001b[49m\u001b[38;5;241;43m=\u001b[39;49m\u001b[43mtime_left\u001b[49m\u001b[43m)\u001b[49m\n\u001b[1;32m    123\u001b[0m     \u001b[38;5;66;03m# return it, if it matches\u001b[39;00m\n\u001b[1;32m    124\u001b[0m     \u001b[38;5;28;01mif\u001b[39;00m msg \u001b[38;5;129;01mand\u001b[39;00m (already_filtered \u001b[38;5;129;01mor\u001b[39;00m \u001b[38;5;28mself\u001b[39m\u001b[38;5;241m.\u001b[39m_matches_filters(msg)):\n",
      "File \u001b[0;32m/dpt/.pyenv/versions/miniconda3-3.11-24.1.2-0/envs/can/lib/python3.11/site-packages/can/interfaces/socketcan/socketcan.py:735\u001b[0m, in \u001b[0;36mSocketcanBus._recv_internal\u001b[0;34m(self, timeout)\u001b[0m\n\u001b[1;32m    729\u001b[0m \u001b[38;5;28;01mdef\u001b[39;00m \u001b[38;5;21m_recv_internal\u001b[39m(\n\u001b[1;32m    730\u001b[0m     \u001b[38;5;28mself\u001b[39m, timeout: Optional[\u001b[38;5;28mfloat\u001b[39m]\n\u001b[1;32m    731\u001b[0m ) \u001b[38;5;241m-\u001b[39m\u001b[38;5;241m>\u001b[39m Tuple[Optional[Message], \u001b[38;5;28mbool\u001b[39m]:\n\u001b[1;32m    732\u001b[0m     \u001b[38;5;28;01mtry\u001b[39;00m:\n\u001b[1;32m    733\u001b[0m         \u001b[38;5;66;03m# get all sockets that are ready (can be a list with a single value\u001b[39;00m\n\u001b[1;32m    734\u001b[0m         \u001b[38;5;66;03m# being self.socket or an empty list if self.socket is not ready)\u001b[39;00m\n\u001b[0;32m--> 735\u001b[0m         ready_receive_sockets, _, _ \u001b[38;5;241m=\u001b[39m \u001b[43mselect\u001b[49m\u001b[38;5;241;43m.\u001b[39;49m\u001b[43mselect\u001b[49m\u001b[43m(\u001b[49m\u001b[43m[\u001b[49m\u001b[38;5;28;43mself\u001b[39;49m\u001b[38;5;241;43m.\u001b[39;49m\u001b[43msocket\u001b[49m\u001b[43m]\u001b[49m\u001b[43m,\u001b[49m\u001b[43m \u001b[49m\u001b[43m[\u001b[49m\u001b[43m]\u001b[49m\u001b[43m,\u001b[49m\u001b[43m \u001b[49m\u001b[43m[\u001b[49m\u001b[43m]\u001b[49m\u001b[43m,\u001b[49m\u001b[43m \u001b[49m\u001b[43mtimeout\u001b[49m\u001b[43m)\u001b[49m\n\u001b[1;32m    736\u001b[0m     \u001b[38;5;28;01mexcept\u001b[39;00m \u001b[38;5;167;01mOSError\u001b[39;00m \u001b[38;5;28;01mas\u001b[39;00m error:\n\u001b[1;32m    737\u001b[0m         \u001b[38;5;66;03m# something bad happened (e.g. the interface went down)\u001b[39;00m\n\u001b[1;32m    738\u001b[0m         \u001b[38;5;28;01mraise\u001b[39;00m can\u001b[38;5;241m.\u001b[39mCanOperationError(\n\u001b[1;32m    739\u001b[0m             \u001b[38;5;124mf\u001b[39m\u001b[38;5;124m\"\u001b[39m\u001b[38;5;124mFailed to receive: \u001b[39m\u001b[38;5;132;01m{\u001b[39;00merror\u001b[38;5;241m.\u001b[39mstrerror\u001b[38;5;132;01m}\u001b[39;00m\u001b[38;5;124m\"\u001b[39m, error\u001b[38;5;241m.\u001b[39merrno\n\u001b[1;32m    740\u001b[0m         )\n",
      "\u001b[0;31mKeyboardInterrupt\u001b[0m: "
     ]
    }
   ],
   "source": [
    "\n",
    "receive_message(message_proxy, bus)\n",
    "# proc_receive = subprocess.Popen(\n",
    "# \t['python', \n",
    "#         '../candycan/receive_message.py', \n",
    "# \t\t'-t', 'socketcan', \n",
    "# \t\t'-c' , 'vcan0', \n",
    "# \t\t'-b', '25000',\n",
    "# \t\t'-d', '../res/motohawk_new.dbc',\n",
    "# \t\t'-m', 'ExampleMessage',\n",
    "# \t\t], \n",
    "# \t# stdout=subprocess.PIPE, \n",
    "# \t# stderr=subprocess.PIPE, \n",
    "# \t# stdin=subprocess.PIPE\n",
    "# \t)\n",
    "# print(f'PARENT: {proc.pid} before signaling child')\n",
    "\n",
    "# stdout_raw, stderr_raw = proc_receive.communicate()\n",
    "# stdout_value = stdout_raw.decode('utf-8')\n",
    "# stderr_value = stderr_raw.decode('utf-8')\n",
    "# # [0].decode('utf-8')\n",
    "# stdout_value\n",
    "# stderr_value"
   ]
  },
  {
   "cell_type": "code",
   "execution_count": null,
   "metadata": {},
   "outputs": [
    {
     "name": "stdout",
     "output_type": "stream",
     "text": [
      "PARENT: 1284069 signaling child\n"
     ]
    },
    {
     "ename": "ProcessLookupError",
     "evalue": "[Errno 3] No such process",
     "output_type": "error",
     "traceback": [
      "\u001b[0;31m---------------------------------------------------------------------------\u001b[0m",
      "\u001b[0;31mProcessLookupError\u001b[0m                        Traceback (most recent call last)",
      "Cell \u001b[0;32mIn[23], line 3\u001b[0m\n\u001b[1;32m      1\u001b[0m \u001b[38;5;28mprint\u001b[39m(\u001b[38;5;124mf\u001b[39m\u001b[38;5;124m'\u001b[39m\u001b[38;5;124mPARENT: \u001b[39m\u001b[38;5;132;01m{\u001b[39;00mproc\u001b[38;5;241m.\u001b[39mpid\u001b[38;5;132;01m}\u001b[39;00m\u001b[38;5;124m signaling child\u001b[39m\u001b[38;5;124m'\u001b[39m)\n\u001b[1;32m      2\u001b[0m \u001b[38;5;66;03m# sys.stdout.flush()\u001b[39;00m\n\u001b[0;32m----> 3\u001b[0m \u001b[43mos\u001b[49m\u001b[38;5;241;43m.\u001b[39;49m\u001b[43mkill\u001b[49m\u001b[43m(\u001b[49m\u001b[43mproc\u001b[49m\u001b[38;5;241;43m.\u001b[39;49m\u001b[43mpid\u001b[49m\u001b[43m,\u001b[49m\u001b[43m \u001b[49m\u001b[43msignal\u001b[49m\u001b[38;5;241;43m.\u001b[39;49m\u001b[43mSIGUSR1\u001b[49m\u001b[43m)\u001b[49m\n",
      "\u001b[0;31mProcessLookupError\u001b[0m: [Errno 3] No such process"
     ]
    }
   ],
   "source": [
    "print(f'PARENT: {proc.pid} signaling child')\n",
    "# sys.stdout.flush()\n",
    "os.kill(proc.pid, signal.SIGUSR1)\n"
   ]
  },
  {
   "cell_type": "code",
   "execution_count": null,
   "metadata": {},
   "outputs": [
    {
     "name": "stdout",
     "output_type": "stream",
     "text": [
      "stdout: ''; stderr: \"python: can't open file '/home/n/devel/anting_remote/eos/tspace/candycan/nbs/../../candycan/send_message.py': [Errno 2] No such file or directory\\n\"\n"
     ]
    }
   ],
   "source": [
    "stdout_raw, stderr_raw = proc.communicate()\n",
    "stdout_value = stdout_raw.decode('utf-8')\n",
    "stderr_value = stderr_raw.decode('utf-8')\n",
    "\n",
    "print(f'stdout: {repr(stdout_value)}; stderr: {repr(stderr_value)}')\n",
    "# [0].decode('utf-8')\n"
   ]
  },
  {
   "cell_type": "code",
   "execution_count": null,
   "metadata": {},
   "outputs": [
    {
     "data": {
      "text/plain": [
       "(datetime.datetime(2024, 2, 9, 13, 56, 32, 491982),\n",
       " {'Enable': 'Enabled', 'AverageRadius': 3.2, 'Temperature': 250.1})"
      ]
     },
     "execution_count": null,
     "metadata": {},
     "output_type": "execute_result"
    }
   ],
   "source": [
    "datetime.fromtimestamp(message_proxy['timestamp']),db_can.decode_message(message_proxy['arbitration_id'],message_proxy['data'])"
   ]
  },
  {
   "cell_type": "code",
   "execution_count": null,
   "metadata": {},
   "outputs": [
    {
     "name": "stderr",
     "output_type": "stream",
     "text": [
      "SSHPASS: searching for password prompt using match \"assword\"\n",
      "SSHPASS: read: [sudo] password for n: \n",
      "SSHPASS: detected prompt. Sending password.\n",
      "SSHPASS: read: \n",
      "\n"
     ]
    },
    {
     "data": {
      "text/plain": [
       "0"
      ]
     },
     "execution_count": null,
     "metadata": {},
     "output_type": "execute_result"
    }
   ],
   "source": [
    "# close and remove vcan0\n",
    "# !sshpass -v -p  asdf sudo ip link delete vcan0 \n",
    "\n",
    "os.system(\"gpg -d -q ~/.sshpasswd.gpg | sshpass -v sudo ip link set down vcan0\")\n"
   ]
  },
  {
   "cell_type": "code",
   "execution_count": null,
   "metadata": {},
   "outputs": [
    {
     "name": "stderr",
     "output_type": "stream",
     "text": [
      "SSHPASS: searching for password prompt using match \"assword\"\n",
      "SSHPASS: read: [sudo] password for n: \n",
      "SSHPASS: detected prompt. Sending password.\n",
      "SSHPASS: read: \n",
      "\n"
     ]
    },
    {
     "data": {
      "text/plain": [
       "0"
      ]
     },
     "execution_count": null,
     "metadata": {},
     "output_type": "execute_result"
    }
   ],
   "source": [
    "# delete vcan0\n",
    "os.system(\"gpg -d -q ~/.sshpasswd.gpg | sshpass -v sudo ip link delete vcan0\")"
   ]
  },
  {
   "cell_type": "code",
   "execution_count": null,
   "metadata": {},
   "outputs": [],
   "source": [
    "#| export\n",
    "if __name__ == \"__main__\" and \"__file__\" in globals():   # in order to be compatible for both script and notebnook\n",
    "\n",
    "    # print(os.getcwd())\n",
    "    p = get_argparser()\n",
    "    args = p.parse_args()\n",
    "    # args = p.parse_args(\n",
    "    #     [\n",
    "    #         \"--type\",\n",
    "    #         \"socketcan\",\n",
    "    #         \"--channel\",\n",
    "    #         \"vcan0\",\n",
    "    #         \"--bitrate\",\n",
    "    #         \"250000\",\n",
    "    #         \"--dbc\",\n",
    "    #         \"./examples/motohawk_new.dbc\",\n",
    "    #         \"--message\",\n",
    "    #         \"ExampleMessage\",\n",
    "    #     ]\n",
    "    # )\n",
    "    # print(args)\n",
    "\n",
    "    try:\n",
    "        db: Database = cantools.database.load_file(args.dbc)\n",
    "    except FileNotFoundError as e:\n",
    "        print(f\"File not found: {e}\")\n",
    "\n",
    "\n",
    "    payload = sys.stdin.buffer.read()\n",
    "    \n",
    "    send_msg(db=db,message=args.message,payload=payload,channel=args.channel,bitrate=args.bitrate,bus_type=args.type,is_extended=args.extended)\n",
    "\n",
    "\n",
    "    signal.signal(signal.SIGUSR1, signal_usr1)\n",
    "    # print(\"set message handler and sleep\")\n",
    "    sys.stdout.flush()\n",
    "    now = time.time()\n",
    "    done.wait()\n",
    "    time_lapsed = time.time() - now\n",
    "    print(f\"Signal received after {time_lapsed:.3f} seconds\")\n",
    "\n"
   ]
  },
  {
   "cell_type": "code",
   "execution_count": null,
   "metadata": {},
   "outputs": [],
   "source": [
    "#| hide \n",
    "import nbdev; nbdev.nbdev_export()"
   ]
  }
 ],
 "metadata": {
  "kernelspec": {
   "display_name": "python3",
   "language": "python",
   "name": "python3"
  }
 },
 "nbformat": 4,
 "nbformat_minor": 2
}
