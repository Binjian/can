{
 "cells": [
  {
   "cell_type": "markdown",
   "metadata": {},
   "source": [
    "# dbc\n",
    "\n",
    "> dbc manipulation: editing and creating dbc files\n",
    "\n",
    "## Usage\n",
    "\n",
    "install dbc-editor and cantools\n",
    "\n",
    "```bash\n",
    "pip install dbc-editor\n",
    "pip install cantools\n",
    "```\n",
    "\n",
    "for editing the dbc file in a GUI interface, use dbc-editor\n",
    "```bash\n",
    "dbc-editor file.dbc\n",
    "```\n",
    "\n",
    "for creating or modifying the dbc file in a python script, use cantools\n",
    "```python\n",
    "import cantools\n",
    "db = cantools.db.load_file('file.dbc')\n",
    "```"
   ]
  },
  {
   "cell_type": "code",
   "execution_count": null,
   "metadata": {},
   "outputs": [],
   "source": [
    "#| default_exp dbc"
   ]
  },
  {
   "cell_type": "code",
   "execution_count": null,
   "metadata": {},
   "outputs": [],
   "source": [
    "#| hide\n",
    "from __future__ import annotations\n",
    "from nbdev.showdoc import *\n",
    "from pprint import pprint"
   ]
  },
  {
   "cell_type": "code",
   "execution_count": null,
   "metadata": {},
   "outputs": [],
   "source": [
    "#| export#| export"
   ]
  },
  {
   "cell_type": "code",
   "execution_count": null,
   "metadata": {},
   "outputs": [],
   "source": [
    "#| export\n",
    "import cantools\n",
    "from cantools.database import Message as MessageTpl\n",
    "# from can.interface import Bus\n",
    "# from can import Message "
   ]
  },
  {
   "cell_type": "code",
   "execution_count": null,
   "metadata": {},
   "outputs": [
    {
     "data": {
      "text/plain": [
       "[message('ExampleMessage', 0x1f0, False, 8, {None: 'Example message used as template in MotoHawk models.'}),\n",
       " message('NewMessage', 0x254, False, 8, {None: 'self made message'})]"
      ]
     },
     "execution_count": null,
     "metadata": {},
     "output_type": "execute_result"
    },
    {
     "name": "stdout",
     "output_type": "stream",
     "text": [
      "[signal('Enable', 7, 1, 'big_endian', False, None, 1, 0, None, None, '-', False, None, {0: 'Disabled', 1: 'Enabled'}, None, None),\n",
      " signal('AverageRadius', 6, 6, 'big_endian', False, None, 0.1, 0, 0, 5, 'm', False, None, None, None, None),\n",
      " signal('Temperature', 0, 12, 'big_endian', True, None, 0.01, 250, 229.52, 270.47, 'degK', False, None, None, None, None)]\n",
      "{'_autosar': None,\n",
      " '_bus_name': None,\n",
      " '_codecs': {'formats': Formats(big_endian=<bitstruct.c.CompiledFormatDict object>, little_endian=<bitstruct.c.CompiledFormatDict object>, padding_mask=35184372088831),\n",
      "             'multiplexers': {},\n",
      "             'signals': [signal('Enable', 7, 1, 'big_endian', False, None, 1, 0, None, None, '-', False, None, {0: 'Disabled', 1: 'Enabled'}, None, None),\n",
      "                         signal('AverageRadius', 6, 6, 'big_endian', False, None, 0.1, 0, 0, 5, 'm', False, None, None, None, None),\n",
      "                         signal('Temperature', 0, 12, 'big_endian', True, None, 0.01, 250, 229.52, 270.47, 'degK', False, None, None, None, None)]},\n",
      " '_comments': {None: 'Example message used as template in MotoHawk models.'},\n",
      " '_contained_messages': None,\n",
      " '_cycle_time': None,\n",
      " '_dbc': <cantools.database.can.formats.dbc_specifics.DbcSpecifics object>,\n",
      " '_frame_id': 496,\n",
      " '_header_byte_order': 'big_endian',\n",
      " '_header_id': None,\n",
      " '_is_extended_frame': False,\n",
      " '_is_fd': False,\n",
      " '_length': 8,\n",
      " '_name': 'ExampleMessage',\n",
      " '_protocol': None,\n",
      " '_send_type': None,\n",
      " '_senders': ['PCM1'],\n",
      " '_signal_dict': {'AverageRadius': signal('AverageRadius', 6, 6, 'big_endian', False, None, 0.1, 0, 0, 5, 'm', False, None, None, None, None),\n",
      "                  'Enable': signal('Enable', 7, 1, 'big_endian', False, None, 1, 0, None, None, '-', False, None, {0: 'Disabled', 1: 'Enabled'}, None, None),\n",
      "                  'Temperature': signal('Temperature', 0, 12, 'big_endian', True, None, 0.01, 250, 229.52, 270.47, 'degK', False, None, None, None, None)},\n",
      " '_signal_groups': [],\n",
      " '_signal_tree': ['Enable', 'AverageRadius', 'Temperature'],\n",
      " '_signals': [signal('Enable', 7, 1, 'big_endian', False, None, 1, 0, None, None, '-', False, None, {0: 'Disabled', 1: 'Enabled'}, None, None),\n",
      "              signal('AverageRadius', 6, 6, 'big_endian', False, None, 0.1, 0, 0, 5, 'm', False, None, None, None, None),\n",
      "              signal('Temperature', 0, 12, 'big_endian', True, None, 0.01, 250, 229.52, 270.47, 'degK', False, None, None, None, None)],\n",
      " '_strict': True,\n",
      " '_unused_bit_pattern': 255}\n"
     ]
    },
    {
     "data": {
      "text/plain": [
       "496"
      ]
     },
     "execution_count": null,
     "metadata": {},
     "output_type": "execute_result"
    }
   ],
   "source": [
    "db = cantools.database.load_file('../res/motohawk_new.dbc')\n",
    "db.messages\n",
    "example_message: MessageTpl = db.get_message_by_name('ExampleMessage')\n",
    "pprint(example_message.signals)\n",
    "pprint(example_message.__dict__)\n",
    "example_message.frame_id"
   ]
  },
  {
   "cell_type": "markdown",
   "metadata": {},
   "source": [
    "# Following show how to create a new dbc file from scratch using cantools"
   ]
  },
  {
   "cell_type": "code",
   "execution_count": null,
   "metadata": {},
   "outputs": [
    {
     "data": {
      "text/plain": [
       "506"
      ]
     },
     "execution_count": null,
     "metadata": {},
     "output_type": "execute_result"
    }
   ],
   "source": [
    "can_id = example_message.frame_id + 10\n",
    "can_id"
   ]
  },
  {
   "cell_type": "code",
   "execution_count": null,
   "metadata": {},
   "outputs": [],
   "source": [
    "can_db = cantools.db\n",
    "db_new = cantools.database.Database(version='0.1')\n",
    "sig = can_db.Signal(name=\"torque_table\", \n",
    "\t\t\t\t\tstart=0, \n",
    "\t\t\t\t\tlength=8, \n",
    "\t\t\t\t\tbyte_order='big_endian', \n",
    "\t\t\t\t\tis_signed=False, \n",
    "\t\t\t\t\tminimum=0, \n",
    "\t\t\t\t\tmaximum=255, \n",
    "\t\t\t\t\tunit='Nm',\n",
    "\t\t\t\t\tcomment=\"self made signal\",\n",
    "\t\t\t\t\tis_multiplexer=False)\n",
    "\n",
    "msg = can_db.Message(frame_id=can_id,\n",
    "\t\t\t\t\tname=\"NewMessage\",\n",
    "\t\t\t\t\tsignals=[sig],\n",
    "\t\t\t\t\tlength=8,\n",
    "\t\t\t\t\tis_extended_frame=False,\n",
    "\t\t\t\t\tis_fd=False,\n",
    "\t\t\t\t\tcomment=\"self made message\",\n",
    "\t\t\t\t\tsend_type=0,\n",
    "\t\t\t\t\tcycle_time=0,\n",
    "\t\t\t\t\tbus_name=\"PT\",\n",
    "\t\t\t\t\t)\n",
    "\n",
    "db_new.messages.append(msg)\n",
    "# can_db.add_message(msg)\n",
    "cantools.database.dump_file(database=db_new,filename='test.dbc')\n",
    "# db.dump('test.dbc')\n"
   ]
  },
  {
   "cell_type": "markdown",
   "metadata": {},
   "source": [
    "# Following show how to append a new message to an existing dbc using cantools"
   ]
  },
  {
   "cell_type": "code",
   "execution_count": null,
   "metadata": {},
   "outputs": [],
   "source": [
    "can_id = example_message.frame_id + 200\n",
    "can_db = cantools.db\n",
    "db.version = '1.1'\n",
    "sig = can_db.Signal(name=\"eco_table\", \n",
    "\t\t\t\t\tstart=0, \n",
    "\t\t\t\t\tlength=8, \n",
    "\t\t\t\t\tbyte_order='big_endian', \n",
    "\t\t\t\t\tis_signed=False, \n",
    "\t\t\t\t\tminimum=0, \n",
    "\t\t\t\t\tmaximum=255, \n",
    "\t\t\t\t\tunit='Nm',\n",
    "\t\t\t\t\tcomment=\"self made signal\",\n",
    "\t\t\t\t\tis_multiplexer=False)\n",
    "\n",
    "msg = can_db.Message(frame_id=can_id,\n",
    "\t\t\t\t\tname=\"AppendedMessage\",\n",
    "\t\t\t\t\tsignals=[sig],\n",
    "\t\t\t\t\tlength=8,\n",
    "\t\t\t\t\tis_extended_frame=False,\n",
    "\t\t\t\t\tis_fd=False,\n",
    "\t\t\t\t\tcomment=\"self made message\",\n",
    "\t\t\t\t\tsend_type=0,\n",
    "\t\t\t\t\tcycle_time=0,\n",
    "\t\t\t\t\tbus_name=\"PT\",\n",
    "\t\t\t\t\t)\n",
    "\n",
    "db.messages.append(msg)\n",
    "# can_db.add_message(msg)\n",
    "cantools.database.dump_file(database=db,filename='../res/motohawk_appended.dbc')\n",
    "# db.dump('test.dbc')\n"
   ]
  },
  {
   "cell_type": "code",
   "execution_count": null,
   "metadata": {},
   "outputs": [],
   "source": [
    "#| hide\n",
    "import nbdev; nbdev.nbdev_export()"
   ]
  }
 ],
 "metadata": {
  "kernelspec": {
   "display_name": "python3",
   "language": "python",
   "name": "python3"
  },
  "language_info": {
   "name": "python",
   "version": "3.11.8"
  }
 },
 "nbformat": 4,
 "nbformat_minor": 2
}
