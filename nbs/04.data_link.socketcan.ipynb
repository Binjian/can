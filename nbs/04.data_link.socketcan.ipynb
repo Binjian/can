{
 "cells": [
  {
   "cell_type": "markdown",
   "metadata": {},
   "source": [
    "# data link layer with socket can \n",
    "\n",
    "> send or receive a CAN message to a bus, ISO11898-1\n",
    "> using the python-can library\n",
    "> testing on vcan interface"
   ]
  },
  {
   "cell_type": "code",
   "execution_count": null,
   "metadata": {},
   "outputs": [],
   "source": [
    "#| default_exp data_link.socketcan"
   ]
  },
  {
   "cell_type": "code",
   "execution_count": null,
   "metadata": {},
   "outputs": [],
   "source": [
    "#| hide\n",
    "from __future__ import annotations\n",
    "from nbdev.showdoc import *\n",
    "from fastcore.test import *\n",
    "import platform"
   ]
  },
  {
   "cell_type": "code",
   "execution_count": null,
   "metadata": {},
   "outputs": [],
   "source": [
    "#| export\n",
    "# from multiprocessing import Process, Event\n",
    "# from multiprocessing import synchronize, Manager\n",
    "# from multiprocessing.managers import DictProxy\n",
    "from pprint import pprint, PrettyPrinter\n",
    "import subprocess\n",
    "import threading\n",
    "from datetime import datetime\n",
    "import json\n",
    "import argparse\n",
    "import os\n",
    "import git\n",
    "import sys\n",
    "import signal\n",
    "import time\n",
    "from multiprocessing import Manager\n",
    "from multiprocessing.managers import DictProxy"
   ]
  },
  {
   "cell_type": "code",
   "execution_count": null,
   "metadata": {},
   "outputs": [],
   "source": [
    "#| export\n",
    "import can\n",
    "# from can.interface import Bus\n",
    "# from can import Message \n",
    "import cantools\n",
    "from cantools.database import Message as MessageTpl\n",
    "from cantools.database.can.database import Database"
   ]
  },
  {
   "cell_type": "code",
   "execution_count": null,
   "metadata": {},
   "outputs": [],
   "source": [
    "#| export\n",
    "pp = PrettyPrinter(indent=4, width=80, compact=True)"
   ]
  },
  {
   "cell_type": "code",
   "execution_count": null,
   "metadata": {},
   "outputs": [],
   "source": [
    "#| hide\n",
    "# running on a physical linux machine (blue pill), otherwise red pill\n",
    "blue_pill = False if os.getenv(\"GITHUB_ACTIONS\") else True"
   ]
  },
  {
   "cell_type": "code",
   "execution_count": null,
   "metadata": {},
   "outputs": [],
   "source": [
    "#| export \n",
    "repo = git.Repo(\"./\", search_parent_directories=True)  # get the Repo object of tspace\n",
    "if os.path.basename(repo.working_dir) != \"candycan\":  # I'm in the parent repo!\n",
    "    repo = repo.submodule(\"candycan\").module()\n",
    "pprint(repo.working_dir)"
   ]
  },
  {
   "cell_type": "code",
   "execution_count": null,
   "metadata": {},
   "outputs": [],
   "source": [
    "#| export\n",
    "def get_argparser() -> argparse.ArgumentParser:\n",
    "    \"\"\"_summary_ get CAN bus, dbc config and the message to send\n",
    "\n",
    "    Returns:\n",
    "        argparse.ArgumentParser: _description_\n",
    "    \"\"\"\n",
    "\n",
    "    parser = argparse.ArgumentParser(\"Get the CAN Bus channel, bitrate and dbc path\")\n",
    "\n",
    "    parser.add_argument(\n",
    "        \"-t\",\n",
    "        \"--type\",\n",
    "        type=str,\n",
    "        default=\"socketcan\",\n",
    "        help=\"The type of the CAN bus\",\n",
    "    )\n",
    "\n",
    "    parser.add_argument(\n",
    "        \"-c\",\n",
    "        \"--channel\",\n",
    "        type=str,\n",
    "        default=\"vcan0\",\n",
    "        help=\"The CAN bus channel to connect to\",\n",
    "    )\n",
    "\n",
    "    parser.add_argument(\n",
    "        \"-b\", \"--bitrate\", type=int, default=250000, help=\"The bitrate of the CAN bus\"\n",
    "    )\n",
    "\n",
    "    parser.add_argument(\n",
    "        \"-d\",\n",
    "        \"--dbc\",\n",
    "        type=str,\n",
    "        default=\"../../res/motohawk_new.dbc\",\n",
    "        help=\"The path to the dbc file\",\n",
    "    )\n",
    "\n",
    "    parser.add_argument(\n",
    "        \"-m\",\n",
    "        \"--message\",\n",
    "        type=str,\n",
    "        default=\"ExampleMessage\",\n",
    "        help=\"The message to send\",\n",
    "    )\n",
    "\n",
    "    parser.add_argument(\n",
    "        \"-e\",\n",
    "        \"--extended\",\n",
    "        action=\"store_true\",\n",
    "        help=\"If the arbitration id is extended\",\n",
    "    )\n",
    "\n",
    "    return parser\n"
   ]
  },
  {
   "cell_type": "code",
   "execution_count": null,
   "metadata": {},
   "outputs": [],
   "source": [
    "#| export\n",
    "done = threading.Event()\n",
    "def signal_usr1(signum, frame):\n",
    "    \"\"\"Handle USR1 signal as an event to set the received flag.\"\"\"\n",
    "    # global received\n",
    "    # received = True\n",
    "\n",
    "    done.set()\n",
    "    # print(\"received signal, sending done!\")"
   ]
  },
  {
   "cell_type": "code",
   "execution_count": null,
   "metadata": {},
   "outputs": [],
   "source": [
    "#| export\n",
    "def send_msg(db:Database, message:str, payload:bytes, channel:str, bitrate:int, bus_type: str, is_extended: bool) -> None:\n",
    "    \"\"\"\n",
    "    send a CAN frame with bytes interface, the multiprocessing interface has to use PIPE which is character based.\n",
    "    \"\"\"\n",
    "    message_definition = db.get_message_by_name(message)\n",
    "    data_dict = json.loads(payload.decode())\n",
    "\n",
    "    # print(\"Prepare sending message\")\n",
    "    sys.stdout.flush()\n",
    "    can_data = message_definition.encode(data_dict)\n",
    "    message = can.Message(\n",
    "        arbitration_id=message_definition.frame_id,\n",
    "        data=can_data,\n",
    "        is_extended_id=is_extended,\n",
    "    )\n",
    "    # print(message)\n",
    "    # print(\"Before sending message\")\n",
    "    with can.interface.Bus(bustype=bus_type, channel=channel, bitrate=bitrate) as bus:\n",
    "        bus.send(message)\n"
   ]
  },
  {
   "cell_type": "code",
   "execution_count": null,
   "metadata": {},
   "outputs": [],
   "source": [
    "db_can = cantools.database.load_file(repo.working_dir+'/res/motohawk_new.dbc')\n",
    "db_can.messages\n"
   ]
  },
  {
   "cell_type": "code",
   "execution_count": null,
   "metadata": {},
   "outputs": [],
   "source": [
    "example_message: MessageTpl = db_can.get_message_by_name('ExampleMessage')\n",
    "pprint(example_message.signals)\n",
    "pprint(example_message.__dict__)\n",
    "example_message.frame_id"
   ]
  },
  {
   "cell_type": "code",
   "execution_count": null,
   "metadata": {},
   "outputs": [],
   "source": [
    "if blue_pill:\n",
    "    # install vcan interface with encrypted password to sudo \n",
    "    os.system(\"gpg -d -q ~/.sshpasswd.gpg | sshpass -v sudo modprobe vcan\")\n",
    "    # sshpass -v -p asdf sudo ip link add dev vcan0 type vcan\n",
    "    os.system(\"gpg -d -q ~/.sshpasswd.gpg | sshpass -v sudo ip link add dev vcan0 type vcan\")\n",
    "    os.system(\"ip link show vcan0\")\n",
    "    # !gpg -d -q ~/.sshpasswd.gpg | sshpass -v sudo ip link set vcan0 type vcan bitrate 500000  # vcan does not support set bitrate on command line!\n",
    "    # !sshpass -p asdf sudo ip link add dev vcan0 type vcan\n",
    "    os.system(\"gpg -d -q ~/.sshpasswd.gpg | sshpass -v sudo ip link set up vcan0\")\n",
    "    # !sshpass -v -p asdf sudo ip link set up vcan0\n",
    "else:\n",
    "    os.system(\"sudo modprobe vcan\")\n",
    "    os.system(\"sudo ip link add dev vcan0 type vcan\")\n",
    "    os.system(\"ip link show vcan0\")\n",
    "    os.system(\"sudo ip link set up vcan0\")"
   ]
  },
  {
   "cell_type": "code",
   "execution_count": null,
   "metadata": {},
   "outputs": [],
   "source": [
    "data_dict ={'Temperature': 250.1, 'AverageRadius': 3.2, 'Enable': 1}\n",
    "data_json_bytes = json.dumps(data_dict).encode('utf-8')\n",
    "data_json_bytes, len(data_json_bytes)\n",
    "json.loads(data_json_bytes.decode())\n",
    "\n",
    "can_data = example_message.encode({'Temperature': 250.1, 'AverageRadius': 3.2, 'Enable': 1})\n",
    "can_data\n",
    "example_message.decode(can_data)"
   ]
  },
  {
   "cell_type": "code",
   "execution_count": null,
   "metadata": {},
   "outputs": [],
   "source": [
    "bus = can.interface.Bus(bustype='socketcan', channel='vcan0', bitrate=250000)\n",
    "message_to_send = can.Message(arbitration_id=example_message.frame_id, data=can_data, is_extended_id=False) \t\n",
    "# can_bus.send(message)"
   ]
  },
  {
   "cell_type": "code",
   "execution_count": null,
   "metadata": {},
   "outputs": [],
   "source": [
    "manager = Manager()\n",
    "message_proxy = manager.dict()"
   ]
  },
  {
   "cell_type": "code",
   "execution_count": null,
   "metadata": {},
   "outputs": [],
   "source": [
    "#| export\n",
    "def receive_message(message_proxy: DictProxy,bus: can.interface.Bus)->None:\n",
    "\tprint('waiting for message')\n",
    "\tmsg:can.Message = bus.recv()\n",
    "\tprint('message received')\n",
    "\tmessage_proxy['timestamp'] = msg.timestamp\n",
    "\tmessage_proxy['arbitration_id'] = msg.arbitration_id\n",
    "\tmessage_proxy['data']=msg.data"
   ]
  },
  {
   "cell_type": "code",
   "execution_count": null,
   "metadata": {},
   "outputs": [],
   "source": [
    "proc = subprocess.Popen(\n",
    "\t['python', \n",
    "        repo.working_dir+'/candycan/data_link/socketcan.py', \n",
    "\t\t'-t', 'socketcan', \n",
    "\t\t'-c' , 'vcan0', \n",
    "\t\t'-b', '25000',\n",
    "\t\t'-d', repo.working_dir+'/res/motohawk_new.dbc',\n",
    "\t\t'-m', 'ExampleMessage',\n",
    "\t\t], \n",
    "\tstdout=subprocess.PIPE, \n",
    "\tstderr=subprocess.PIPE, \n",
    "\tstdin=subprocess.PIPE\n",
    "\t)\n",
    "print(f'PARENT: {proc.pid} before signaling child')\n"
   ]
  },
  {
   "cell_type": "code",
   "execution_count": null,
   "metadata": {},
   "outputs": [],
   "source": [
    "data_json_bytes\n",
    "data_json_bytes.decode()\n",
    "json.loads(data_json_bytes.decode())"
   ]
  },
  {
   "cell_type": "code",
   "execution_count": null,
   "metadata": {},
   "outputs": [],
   "source": [
    "try:\n",
    "\touts, errs = proc.communicate(data_json_bytes, timeout=1)\n",
    "except subprocess.TimeoutExpired:\n",
    "\tprint(f'PARENT: {proc.pid}; TimeoutExpired')\n",
    "\t# outs, errs = proc.communicate()\n",
    "\t# print(f'PARENT: {proc.pid}; outs: {outs}; errs: {errs} TimeoutExpired')\n",
    "# sys.stdout.flush()\n",
    "# time.sleep(1)\n"
   ]
  },
  {
   "cell_type": "code",
   "execution_count": null,
   "metadata": {},
   "outputs": [],
   "source": [
    "\n",
    "receive_message(message_proxy, bus)\n",
    "# proc_receive = subprocess.Popen(\n",
    "# \t['python', \n",
    "#         '../candycan/receive_message.py', \n",
    "# \t\t'-t', 'socketcan', \n",
    "# \t\t'-c' , 'vcan0', \n",
    "# \t\t'-b', '25000',\n",
    "# \t\t'-d', '../res/motohawk_new.dbc',\n",
    "# \t\t'-m', 'ExampleMessage',\n",
    "# \t\t], \n",
    "# \t# stdout=subprocess.PIPE, \n",
    "# \t# stderr=subprocess.PIPE, \n",
    "# \t# stdin=subprocess.PIPE\n",
    "# \t)\n",
    "# print(f'PARENT: {proc.pid} before signaling child')\n",
    "\n",
    "# stdout_raw, stderr_raw = proc_receive.communicate()\n",
    "# stdout_value = stdout_raw.decode('utf-8')\n",
    "# stderr_value = stderr_raw.decode('utf-8')\n",
    "# # [0].decode('utf-8')\n",
    "# stdout_value\n",
    "# stderr_value"
   ]
  },
  {
   "cell_type": "code",
   "execution_count": null,
   "metadata": {},
   "outputs": [],
   "source": [
    "print(f'PARENT: {proc.pid} signaling child')\n",
    "# sys.stdout.flush()\n",
    "os.kill(proc.pid, signal.SIGUSR1)\n"
   ]
  },
  {
   "cell_type": "code",
   "execution_count": null,
   "metadata": {},
   "outputs": [],
   "source": [
    "stdout_raw, stderr_raw = proc.communicate()\n",
    "stdout_value = stdout_raw.decode('utf-8')\n",
    "stderr_value = stderr_raw.decode('utf-8')\n",
    "\n",
    "print(f'stdout: {repr(stdout_value)}; stderr: {repr(stderr_value)}')\n",
    "# [0].decode('utf-8')\n"
   ]
  },
  {
   "cell_type": "code",
   "execution_count": null,
   "metadata": {},
   "outputs": [],
   "source": [
    "datetime.fromtimestamp(message_proxy['timestamp']),db_can.decode_message(message_proxy['arbitration_id'],message_proxy['data'])"
   ]
  },
  {
   "cell_type": "code",
   "execution_count": null,
   "metadata": {},
   "outputs": [],
   "source": [
    "if blue_pill:\n",
    "    # close and remove vcan0\n",
    "    os.system(\"gpg -d -q ~/.sshpasswd.gpg | sshpass -v sudo ip link set down vcan0\")\n",
    "    # delete vcan0\n",
    "    os.system(\"gpg -d -q ~/.sshpasswd.gpg | sshpass -v sudo ip link delete vcan0\")\n",
    "else:\n",
    "    # close and remove vcan0\n",
    "    os.system(\"sudo ip link set down vcan0\")\n",
    "    # delete vcan0\n",
    "    os.system(\"sudo ip link delete vcan0\")\n"
   ]
  },
  {
   "cell_type": "code",
   "execution_count": null,
   "metadata": {},
   "outputs": [],
   "source": [
    "#| export\n",
    "if __name__ == \"__main__\" and \"__file__\" in globals():   # in order to be compatible for both script and notebnook\n",
    "\n",
    "    # print(os.getcwd())\n",
    "    p = get_argparser()\n",
    "    args = p.parse_args()\n",
    "    # args = p.parse_args(\n",
    "    #     [\n",
    "    #         \"--type\",\n",
    "    #         \"socketcan\",\n",
    "    #         \"--channel\",\n",
    "    #         \"vcan0\",\n",
    "    #         \"--bitrate\",\n",
    "    #         \"250000\",\n",
    "    #         \"--dbc\",\n",
    "    #         \"./examples/motohawk_new.dbc\",\n",
    "    #         \"--message\",\n",
    "    #         \"ExampleMessage\",\n",
    "    #     ]\n",
    "    # )\n",
    "    # print(args)\n",
    "\n",
    "    try:\n",
    "        db: Database = cantools.database.load_file(args.dbc)\n",
    "    except FileNotFoundError as e:\n",
    "        print(f\"File not found: {e}\")\n",
    "\n",
    "\n",
    "    payload = sys.stdin.buffer.read()\n",
    "    \n",
    "    send_msg(db=db,message=args.message,payload=payload,channel=args.channel,bitrate=args.bitrate,bus_type=args.type,is_extended=args.extended)\n",
    "\n",
    "\n",
    "    signal.signal(signal.SIGUSR1, signal_usr1)\n",
    "    # print(\"set message handler and sleep\")\n",
    "    sys.stdout.flush()\n",
    "    now = time.time()\n",
    "    done.wait()\n",
    "    time_lapsed = time.time() - now\n",
    "    print(f\"Signal received after {time_lapsed:.3f} seconds\")\n",
    "\n"
   ]
  },
  {
   "cell_type": "code",
   "execution_count": null,
   "metadata": {},
   "outputs": [],
   "source": [
    "#| hide \n",
    "import nbdev; nbdev.nbdev_export()"
   ]
  }
 ],
 "metadata": {
  "kernelspec": {
   "display_name": "python3",
   "language": "python",
   "name": "python3"
  }
 },
 "nbformat": 4,
 "nbformat_minor": 2
}
