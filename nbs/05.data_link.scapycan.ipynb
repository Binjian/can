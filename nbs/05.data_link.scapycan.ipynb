{
 "cells": [
  {
   "cell_type": "markdown",
   "metadata": {},
   "source": [
    "# data link layer with scapy wrapper \n",
    "\n",
    "> send or receive a CAN message to a bus, ISO11898-1\n",
    "> using the python-can library\n",
    "> testing on vcan interface"
   ]
  },
  {
   "cell_type": "code",
   "execution_count": null,
   "metadata": {},
   "outputs": [],
   "source": [
    "#| default_exp data_link.scapycan"
   ]
  },
  {
   "cell_type": "code",
   "execution_count": null,
   "metadata": {},
   "outputs": [],
   "source": [
    "#| hide\n",
    "from __future__ import annotations\n",
    "from nbdev.showdoc import *\n",
    "from fastcore.test import *"
   ]
  },
  {
   "cell_type": "code",
   "execution_count": null,
   "metadata": {},
   "outputs": [],
   "source": [
    "#| export\n",
    "# from multiprocessing import Process, Event\n",
    "# from multiprocessing import synchronize, Manager\n",
    "# from multiprocessing.managers import DictProxy\n",
    "from pprint import pprint, PrettyPrinter\n",
    "import subprocess\n",
    "import threading\n",
    "from datetime import datetime\n",
    "import json\n",
    "import argparse\n",
    "import os\n",
    "import git\n",
    "import sys\n",
    "import signal\n",
    "import time\n",
    "from multiprocessing import Manager\n",
    "from multiprocessing.managers import DictProxy"
   ]
  },
  {
   "cell_type": "code",
   "execution_count": null,
   "metadata": {},
   "outputs": [],
   "source": [
    "#| export\n",
    "import can\n",
    "# from can.interface import Bus\n",
    "# from can import Message \n",
    "import cantools\n",
    "from cantools.database import Message as MessageTpl\n",
    "from cantools.database.can.database import Database"
   ]
  },
  {
   "cell_type": "code",
   "execution_count": null,
   "metadata": {},
   "outputs": [],
   "source": [
    "#| export \n",
    "from scapy.all import *"
   ]
  },
  {
   "cell_type": "code",
   "execution_count": null,
   "metadata": {},
   "outputs": [],
   "source": [
    "#| export\n",
    "pp = PrettyPrinter(indent=4, width=80, compact=True)"
   ]
  },
  {
   "cell_type": "code",
   "execution_count": null,
   "metadata": {},
   "outputs": [],
   "source": [
    "#| export \n",
    "repo = git.Repo(\"./\", search_parent_directories=True)  # get the Repo object of tspace\n",
    "if os.path.basename(repo.working_dir) != \"candycan\":  # I'm in the parent repo!\n",
    "    repo = repo.submodule(\"candycan\").module()\n",
    "pprint(repo.working_dir)"
   ]
  },
  {
   "cell_type": "code",
   "execution_count": null,
   "metadata": {},
   "outputs": [],
   "source": [
    "#| export\n",
    "def get_argparser() -> argparse.ArgumentParser:\n",
    "    \"\"\"_summary_ get CAN bus, dbc config and the message to send\n",
    "\n",
    "    Returns:\n",
    "        argparse.ArgumentParser: _description_\n",
    "    \"\"\"\n",
    "\n",
    "    parser = argparse.ArgumentParser(\"Get the CAN Bus channel, bitrate and dbc path\")\n",
    "\n",
    "    parser.add_argument(\n",
    "        \"-t\",\n",
    "        \"--type\",\n",
    "        type=str,\n",
    "        default=\"socketcan\",\n",
    "        help=\"The type of the CAN bus\",\n",
    "    )\n",
    "\n",
    "    parser.add_argument(\n",
    "        \"-c\",\n",
    "        \"--channel\",\n",
    "        type=str,\n",
    "        default=\"vcan0\",\n",
    "        help=\"The CAN bus channel to connect to\",\n",
    "    )\n",
    "\n",
    "    parser.add_argument(\n",
    "        \"-b\", \"--bitrate\", type=int, default=250000, help=\"The bitrate of the CAN bus\"\n",
    "    )\n",
    "\n",
    "    parser.add_argument(\n",
    "        \"-d\",\n",
    "        \"--dbc\",\n",
    "        type=str,\n",
    "        default=\"../../res/motohawk_new.dbc\",\n",
    "        help=\"The path to the dbc file\",\n",
    "    )\n",
    "\n",
    "    parser.add_argument(\n",
    "        \"-m\",\n",
    "        \"--message\",\n",
    "        type=str,\n",
    "        default=\"ExampleMessage\",\n",
    "        help=\"The message to send\",\n",
    "    )\n",
    "\n",
    "    parser.add_argument(\n",
    "        \"-e\",\n",
    "        \"--extended\",\n",
    "        action=\"store_true\",\n",
    "        help=\"If the arbitration id is extended\",\n",
    "    )\n",
    "\n",
    "    return parser\n"
   ]
  },
  {
   "cell_type": "code",
   "execution_count": null,
   "metadata": {},
   "outputs": [],
   "source": [
    "#| export\n",
    "done = threading.Event()\n",
    "def signal_usr1(signum, frame):\n",
    "    \"\"\"Handle USR1 signal as an event to set the received flag.\"\"\"\n",
    "    # global received\n",
    "    # received = True\n",
    "\n",
    "    done.set()\n",
    "    # print(\"received signal, sending done!\")"
   ]
  },
  {
   "cell_type": "code",
   "execution_count": null,
   "metadata": {},
   "outputs": [],
   "source": [
    "#| export\n",
    "def send_msg(db:Database, \n",
    "            message:str, \n",
    "            payload:bytes, \n",
    "            channel:str, \n",
    "            bitrate:int, \n",
    "            bus_type: str, \n",
    "            can_filters: list[dict], \n",
    "            is_extended:bool\n",
    "            ) -> int:\n",
    "    \"\"\"\n",
    "    send a message to the CAN bus\n",
    "\n",
    "    return the bytes sent to the bus (default 16 bytes for a struct of CAN frame, payload 8 bytes)\n",
    "    \"\"\"\n",
    "\n",
    "    # decode payload based on dbc\n",
    "    message_definition = db.get_message_by_name(message)\n",
    "    data_dict = json.loads(payload.decode())\n",
    "\n",
    "    # print(\"Prepare sending message\")\n",
    "    sys.stdout.flush()\n",
    "    # generate can frame\n",
    "    can_data = message_definition.encode(data_dict)\n",
    "    packet = CAN(identifier=message_definition.frame_id, data=can_data)\n",
    "    # create socket\n",
    "    socket = CANSocket(bustype=bus_type, \n",
    "                    channel=channel, \n",
    "                    can_filters=can_filters, \n",
    "                    bitrate=bitrate, \n",
    "                    is_extended=is_extended)\n",
    "    # send can message through the socket\n",
    "    ret = socket.send(packet)\n",
    "    \n",
    "    return ret\n",
    "    # message = can.Message(\n",
    "    #     arbitration_id=message_definition.frame_id,\n",
    "    #     data=can_data,\n",
    "    #     is_extended_id=is_extended,\n",
    "    # )\n",
    "    # print(message)\n",
    "    # print(\"Before sending message\")\n",
    "    # with can.interface.Bus(bustype=bus_type, channel=channel, bitrate=bitrate) as bus:\n",
    "    #     bus.send(message)\n"
   ]
  },
  {
   "cell_type": "code",
   "execution_count": null,
   "metadata": {},
   "outputs": [],
   "source": [
    "db_can = cantools.database.load_file(repo.working_dir+'/res/motohawk_new.dbc')\n",
    "db_can.messages\n"
   ]
  },
  {
   "cell_type": "code",
   "execution_count": null,
   "metadata": {},
   "outputs": [],
   "source": [
    "example_message: MessageTpl = db_can.get_message_by_name('ExampleMessage')\n",
    "pprint(example_message.signals)\n",
    "pprint(example_message.__dict__)\n",
    "example_message.frame_id"
   ]
  },
  {
   "cell_type": "code",
   "execution_count": null,
   "metadata": {},
   "outputs": [],
   "source": [
    "# install vcan interface with encrypted password to sudo \n",
    "os.system(\"gpg -d -q ~/.sshpasswd.gpg | sshpass -v sudo modprobe vcan\")\n",
    "# sshpass -v -p asdf sudo ip link add dev vcan0 type vcan\n",
    "os.system(\"gpg -d -q ~/.sshpasswd.gpg | sshpass -v sudo ip link add dev vcan0 type vcan\")\n",
    "os.system(\"ip link show vcan0\")\n",
    "# !gpg -d -q ~/.sshpasswd.gpg | sshpass -v sudo ip link set vcan0 type vcan bitrate 500000  # vcan does not support set bitrate on command line!\n",
    "# !sshpass -p asdf sudo ip link add dev vcan0 type vcan\n",
    "os.system(\"gpg -d -q ~/.sshpasswd.gpg | sshpass -v sudo ip link set up vcan0\")\n",
    "# !sshpass -v -p asdf sudo ip link set up vcan0"
   ]
  },
  {
   "cell_type": "code",
   "execution_count": null,
   "metadata": {},
   "outputs": [],
   "source": [
    "# # install vcan interface with encrypted password to sudo \n",
    "# !gpg -d -q ~/.sshpasswd.gpg | sshpass -v sudo modprobe vcan\n",
    "# # sshpass -v -p asdf sudo ip link add dev vcan0 type vcan\n",
    "# !gpg -d -q ~/.sshpasswd.gpg | sshpass -v sudo ip link add dev vcan0 type vcan\n",
    "# !ip link show vcan0\n",
    "# # !gpg -d -q ~/.sshpasswd.gpg | sshpass -v sudo ip link set vcan0 type vcan bitrate 500000  # vcan does not support set bitrate on command line!\n",
    "# # !sshpass -p asdf sudo ip link add dev vcan0 type vcan\n",
    "# !gpg -d -q ~/.sshpasswd.gpg | sshpass -v sudo ip link set up vcan0\n",
    "# # !sshpass -v -p asdf sudo ip link set up vcan0"
   ]
  },
  {
   "cell_type": "code",
   "execution_count": null,
   "metadata": {},
   "outputs": [],
   "source": [
    "data_dict ={'Temperature': 250.1, 'AverageRadius': 3.2, 'Enable': 1}\n",
    "data_json_bytes = json.dumps(data_dict).encode('utf-8')\n",
    "data_json_bytes\n",
    "json.loads(data_json_bytes.decode())\n",
    "\n",
    "can_data = example_message.encode({'Temperature': 250.1, 'AverageRadius': 3.2, 'Enable': 1})\n",
    "example_message.decode(can_data)\n",
    "can_data"
   ]
  },
  {
   "cell_type": "code",
   "execution_count": null,
   "metadata": {},
   "outputs": [],
   "source": [
    "#| export\n",
    "load_layer(\"can\")\n",
    "# use native cansocket (SocketCAN)\n",
    "conf.contribs['CANSocket'] = {'use_python_can': False}\n",
    "load_contrib('cansocket')\n"
   ]
  },
  {
   "cell_type": "code",
   "execution_count": null,
   "metadata": {},
   "outputs": [],
   "source": [
    "#create can frame\n",
    "packet = CAN(identifier=example_message.frame_id, data=can_data)\n",
    "packet.show2()"
   ]
  },
  {
   "cell_type": "code",
   "execution_count": null,
   "metadata": {},
   "outputs": [],
   "source": [
    "\n",
    "# create socket\n",
    "socket = CANSocket(bustype='socketcan', \n",
    "                channel='vcan0', \n",
    "                can_filters=None, \n",
    "                bitrate=25000, \n",
    "                is_extended=False)\n",
    "socket\n",
    "# bus = can.interface.Bus(bustype='socketcan', channel='vcan0', bitrate=250000)\n",
    "# message_to_send = can.Message(arbitration_id=example_message.frame_id, data=can_data, is_extended_id=False) \t\n",
    "# # can_bus.send(message)"
   ]
  },
  {
   "cell_type": "code",
   "execution_count": null,
   "metadata": {},
   "outputs": [],
   "source": [
    "proc = subprocess.Popen(\n",
    "\t['python', \n",
    "        repo.working_dir+'/candycan/data_link/scapycan.py', \n",
    "\t\t'-t', 'socketcan', \n",
    "\t\t'-c' , 'vcan0', \n",
    "\t\t'-b', '25000',\n",
    "\t\t'-d', repo.working_dir+'/res/motohawk_new.dbc',\n",
    "\t\t'-m', 'ExampleMessage',\n",
    "\t\t], \n",
    "\tstdout=subprocess.PIPE, \n",
    "\tstderr=subprocess.PIPE, \n",
    "\tstdin=subprocess.PIPE\n",
    "\t)\n",
    "print(f'PARENT: {proc.pid} before signaling child')\n"
   ]
  },
  {
   "cell_type": "code",
   "execution_count": null,
   "metadata": {},
   "outputs": [],
   "source": [
    "data_json_bytes\n",
    "data_json_bytes.decode()\n",
    "json.loads(data_json_bytes.decode())"
   ]
  },
  {
   "cell_type": "code",
   "execution_count": null,
   "metadata": {},
   "outputs": [],
   "source": [
    "try:\n",
    "\touts, errs = proc.communicate(data_json_bytes, timeout=1)\n",
    "except subprocess.TimeoutExpired:\n",
    "\tprint(f'PARENT: {proc.pid}; TimeoutExpired')\n",
    "\t# outs, errs = proc.communicate()\n",
    "\t# print(f'PARENT: {proc.pid}; outs: {outs}; errs: {errs} TimeoutExpired')\n",
    "# sys.stdout.flush()\n",
    "# time.sleep(1)\n"
   ]
  },
  {
   "cell_type": "code",
   "execution_count": null,
   "metadata": {},
   "outputs": [],
   "source": [
    "rx_packet = socket.recv()\n",
    "rx_packet.show2()\n",
    "# receive_message(message_proxy, bus)\n",
    "# proc_receive = subprocess.Popen(\n",
    "# \t['python', \n",
    "#         '../candycan/receive_message.py', \n",
    "# \t\t'-t', 'socketcan', \n",
    "# \t\t'-c' , 'vcan0', \n",
    "# \t\t'-b', '25000',\n",
    "# \t\t'-d', '../res/motohawk_new.dbc',\n",
    "# \t\t'-m', 'ExampleMessage',\n",
    "# \t\t], \n",
    "# \t# stdout=subprocess.PIPE, \n",
    "# \t# stderr=subprocess.PIPE, \n",
    "# \t# stdin=subprocess.PIPE\n",
    "# \t)\n",
    "# print(f'PARENT: {proc.pid} before signaling child')\n",
    "\n",
    "# stdout_raw, stderr_raw = proc_receive.communicate()\n",
    "# stdout_value = stdout_raw.decode('utf-8')\n",
    "# stderr_value = stderr_raw.decode('utf-8')\n",
    "# # [0].decode('utf-8')\n",
    "# stdout_value\n",
    "# stderr_value"
   ]
  },
  {
   "cell_type": "code",
   "execution_count": null,
   "metadata": {},
   "outputs": [],
   "source": [
    "print(f'PARENT: {proc.pid} signaling child')\n",
    "# sys.stdout.flush()\n",
    "os.kill(proc.pid, signal.SIGUSR1)\n"
   ]
  },
  {
   "cell_type": "code",
   "execution_count": null,
   "metadata": {},
   "outputs": [],
   "source": [
    "stdout_raw, stderr_raw = proc.communicate()\n",
    "stdout_value = stdout_raw.decode('utf-8')\n",
    "stderr_value = stderr_raw.decode('utf-8')\n",
    "\n",
    "print(f'stdout: {repr(stdout_value)}; stderr: {repr(stderr_value)}')\n",
    "# [0].decode('utf-8')\n"
   ]
  },
  {
   "cell_type": "code",
   "execution_count": null,
   "metadata": {},
   "outputs": [],
   "source": [
    "hexdump(rx_packet)\n",
    "hexdump(packet)\n"
   ]
  },
  {
   "cell_type": "code",
   "execution_count": null,
   "metadata": {},
   "outputs": [],
   "source": [
    "# datetime.fromtimestamp(message_proxy['timestamp']),db_can.decode_message(message_proxy['arbitration_id'],message_proxy['data'])\n",
    "datetime.fromtimestamp(rx_packet.time), db_can.decode_message(rx_packet.identifier, rx_packet.data)"
   ]
  },
  {
   "cell_type": "markdown",
   "metadata": {},
   "source": [
    "# create native CANSocket with loopback"
   ]
  },
  {
   "cell_type": "code",
   "execution_count": null,
   "metadata": {},
   "outputs": [],
   "source": [
    "# install vcan1 interface with encrypted password to sudo \n",
    "# sshpass -v -p asdf sudo ip link add dev vcan0 type vcan\n",
    "os.system(\"gpg -d -q ~/.sshpasswd.gpg | sshpass -v sudo ip link add dev vcan1 type vcan\")\n",
    "os.system(\"gpg -d -q ~/.sshpasswd.gpg | sshpass -v sudo ip link set up vcan1\")\n",
    "os.system(\"ip link show vcan1\")"
   ]
  },
  {
   "cell_type": "code",
   "execution_count": null,
   "metadata": {},
   "outputs": [],
   "source": [
    "\n",
    "# create socket\n",
    "socket1 = CANSocket(bustype='socketcan', \n",
    "                channel='vcan1', \n",
    "                receive_own_messages=True,\n",
    "                can_filters=None, \n",
    "                bitrate=25000, \n",
    "                is_extended=False)\n",
    "socket1"
   ]
  },
  {
   "cell_type": "code",
   "execution_count": null,
   "metadata": {},
   "outputs": [],
   "source": [
    "packet.show2()"
   ]
  },
  {
   "cell_type": "code",
   "execution_count": null,
   "metadata": {},
   "outputs": [],
   "source": [
    "sent_bytes = socket1.send(packet)\n",
    "sent_bytes"
   ]
  },
  {
   "cell_type": "code",
   "execution_count": null,
   "metadata": {},
   "outputs": [],
   "source": [
    "rx_packet1 = socket1.recv()\n",
    "rx_packet1.show2()"
   ]
  },
  {
   "cell_type": "code",
   "execution_count": null,
   "metadata": {},
   "outputs": [],
   "source": [
    "# close and remove vcan0\n",
    "# !sshpass -v -p  asdf sudo ip link delete vcan0 \n",
    "\n",
    "os.system(\"gpg -d -q ~/.sshpasswd.gpg | sshpass -v sudo ip link set down vcan0\")\n"
   ]
  },
  {
   "cell_type": "code",
   "execution_count": null,
   "metadata": {},
   "outputs": [],
   "source": [
    "# delete vcan0\n",
    "os.system(\"gpg -d -q ~/.sshpasswd.gpg | sshpass -v sudo ip link delete vcan0\")"
   ]
  },
  {
   "cell_type": "code",
   "execution_count": null,
   "metadata": {},
   "outputs": [],
   "source": [
    "#| export\n",
    "if __name__ == \"__main__\" and \"__file__\" in globals():   # in order to be compatible for both script and notebnook\n",
    "\n",
    "    # print(os.getcwd())\n",
    "    p = get_argparser()\n",
    "    args = p.parse_args()\n",
    "    # as exported python script, path of res/motohawk_new.dbc is relative to the script\n",
    "    args.dbc = repo.working_dir + '/res/motohawk_new.dbc'\n",
    "    # args = p.parse_args(\n",
    "    #     [\n",
    "    #         \"--type\",\n",
    "    #         \"socketcan\",\n",
    "    #         \"--channel\",\n",
    "    #         \"vcan0\",\n",
    "    #         \"--bitrate\",\n",
    "    #         \"250000\",\n",
    "    #         \"--dbc\",\n",
    "    #         \"./examples/motohawk_new.dbc\",\n",
    "    #         \"--message\",\n",
    "    #         \"ExampleMessage\",\n",
    "    #     ]\n",
    "    # )\n",
    "    # print(args)\n",
    "\n",
    "    try:\n",
    "        db: Database = cantools.database.load_file(args.dbc)\n",
    "    except FileNotFoundError as e:\n",
    "        print(f\"File not found: {e}\")\n",
    "\n",
    "\n",
    "    payload = sys.stdin.buffer.read()\n",
    "    \n",
    "    ret_bytes = send_msg(db=db,\n",
    "            message=args.message,\n",
    "            payload=payload,\n",
    "            channel=args.channel,\n",
    "            bitrate=args.bitrate,\n",
    "            bus_type=args.type,\n",
    "            can_filters=None,\n",
    "            is_extended=args.extended)\n",
    "    print(f\"sent bytes: {ret_bytes}\")\n",
    "\n",
    "\n",
    "    signal.signal(signal.SIGUSR1, signal_usr1)\n",
    "    # print(\"set message handler and sleep\")\n",
    "    sys.stdout.flush()\n",
    "    now = time.time()\n",
    "    done.wait()\n",
    "    time_lapsed = time.time() - now\n",
    "    print(f\"Signal received after {time_lapsed:.3f} seconds\")\n",
    "\n"
   ]
  },
  {
   "cell_type": "code",
   "execution_count": null,
   "metadata": {},
   "outputs": [],
   "source": [
    "#| hide \n",
    "import nbdev; nbdev.nbdev_export()"
   ]
  }
 ],
 "metadata": {
  "kernelspec": {
   "display_name": "python3",
   "language": "python",
   "name": "python3"
  }
 },
 "nbformat": 4,
 "nbformat_minor": 2
}
