{
 "cells": [
  {
   "cell_type": "markdown",
   "metadata": {},
   "source": [
    "# A2L\n",
    "\n",
    "> A2L parsing and writing library\n",
    "\n",
    "[![Build Status](https://travis-ci.org/mborn319/a2l.svg?branch=master)](https://travis-ci.org/mborn319/a2l)\n",
    "[![Coverage Status](https://coveralls.io/repos/github/mborn319/a2l/badge.svg?branch=master)](https://coveralls.io/github/mborn319/a2l?branch=master)\n",
    "[![PyPI version](https://badge.fury.io/py/a2l.svg)](https://badge.fury.io/py/a2l)\n",
    "[![Documentation Status](https://readthedocs.org/projects/a2l/badge/?version=latest)](https://a2l.readthedocs.io/en/latest/?badge=latest)\n",
    "\n",
    "## Installation\n",
    "\n",
    "1. Install pya2l \n",
    "\n",
    "from PyPI (recommended): \n",
    "```python\n",
    "pip install pya2l\n",
    "```\n",
    "\n",
    "or from the forked repository with extra resource a2l example files:\n",
    "```bash\n",
    "pip install git+https://github.com/binjian/pya2l.git@master\n",
    "```\n",
    "\n",
    "2. Install a2ltool (need rust and cargo tool)\n",
    "by cloning \n",
    "```bash\n",
    "git clone https://github.com/DanielT/a2ltool.git\n",
    "```\n",
    "and then run\n",
    "```bash\n",
    "cargo build --release\n",
    "```\n",
    "\n",
    "3. Fix the faulty VBU.a2l file and get the VBU.json file\n",
    "\t- open the VBU.a2l file with a text editor\n",
    "\t- Find 4 0x lines by running a2ltool and change them to 0xFFFFFFFF \n",
    "\t\t```bash\n",
    "\t \t./a2ltool VBU.a2l -a 1.6.1    \n",
    "\t \t```\n",
    "\t- Find lines with missing included a2l file (EEPROM.a2l) by running a2ltool like previously and remove\n",
    "\t- Fine  faulty lines with DISPLAY_IDENTIFIER, RAM, RAM_INIT_BY_ECU and remove by running pya2l\n",
    "\t\t```bash\n",
    " \t\tpya2l -v res/VBU.a2l to_json -o res/VBU.json -i 2 \n",
    "\t\t```\n",
    "\t- When no error is reported, the VBU.json file is ready to use"
   ]
  },
  {
   "cell_type": "code",
   "execution_count": null,
   "metadata": {},
   "outputs": [],
   "source": [
    "#| default_exp a2l"
   ]
  },
  {
   "cell_type": "code",
   "execution_count": null,
   "metadata": {},
   "outputs": [],
   "source": [
    "#| hide\n",
    "from __future__ import annotations\n",
    "from nbdev.showdoc import *\n",
    "from fastcore.test import *"
   ]
  },
  {
   "cell_type": "code",
   "execution_count": null,
   "metadata": {},
   "outputs": [],
   "source": [
    "#| hide\n",
    "from IPython.core.interactiveshell import InteractiveShell"
   ]
  },
  {
   "cell_type": "code",
   "execution_count": null,
   "metadata": {},
   "outputs": [],
   "source": [
    "InteractiveShell.ast_node_interactivity = \"all\""
   ]
  },
  {
   "cell_type": "code",
   "execution_count": null,
   "metadata": {},
   "outputs": [],
   "source": [
    "#| export\n",
    "import ijson\n",
    "import json\n",
    "import inspect\n",
    "from typing import Optional, Union, List\n",
    "from functools import cached_property, cache\n",
    "import re\n",
    "from enum import Enum\n",
    "from pathlib import Path\n",
    "from pprint import pprint, pformat\n",
    "import argparse\n",
    "from InquirerPy import inquirer\n",
    "from InquirerPy.validator import NumberValidator, EmptyInputValidator, PathValidator\n",
    "from InquirerPy.base.control import Choice\n",
    "from pydantic import BaseModel, Field, validator, conlist, model_serializer\n",
    "from typing_extensions import Annotated"
   ]
  },
  {
   "cell_type": "code",
   "execution_count": null,
   "metadata": {},
   "outputs": [],
   "source": [
    "#| export\n",
    "def list_of_strings(strings: str)->list[str]:\n",
    "\t\"\"\" split a string separated by ',', ';', or '\\s' to a list of strings.\n",
    "\tDescripttion: split a long string to a list of strings.\n",
    "\n",
    "\tArgs:\n",
    "\t\tstrings (str): The string to split.\n",
    "\n",
    "\tReturns:\n",
    "\t\tlist: The list of strings.\n",
    "\t\"\"\"\n",
    "\treturn re.split(r',\\s*|;\\s*|\\s+', strings)\t\n"
   ]
  },
  {
   "cell_type": "code",
   "execution_count": null,
   "metadata": {},
   "outputs": [
    {
     "data": {
      "text/plain": [
       "['\"/PROJECT/MODULE[0]/MOD_COMMON',\n",
       " '/PROJECT/IF_DATA[0]/Blob[0]/',\n",
       " '/PROJECT/MODULE[0]/CHARACTERISTIC',\n",
       " 'TQD_trqTrqSetNormal_MAP_v\"']"
      ]
     },
     "execution_count": null,
     "metadata": {},
     "output_type": "execute_result"
    }
   ],
   "source": [
    "test_eq(list_of_strings(r'foo;123, bar ebi'), ['foo','123','bar','ebi'])\n",
    "list_of_strings(r'\"/PROJECT/MODULE[0]/MOD_COMMON, /PROJECT/IF_DATA[0]/Blob[0]/, /PROJECT/MODULE[0]/CHARACTERISTIC, TQD_trqTrqSetNormal_MAP_v\"')"
   ]
  },
  {
   "cell_type": "code",
   "execution_count": null,
   "metadata": {},
   "outputs": [],
   "source": [
    "#| export\n",
    "class JsonNodePathSegment:\n",
    "\t\"\"\"result of parsing json node path segment\n",
    "\t\n",
    "\tArgs:\n",
    "\t\tname (str): name of the node\n",
    "\t\tindices (list[int]): indices of the node\n",
    "\t\tindex_range (list[int]): index range of the node\n",
    "\n",
    "\t\tif both indices and index_range are None, then the node is a dict, otherwise it is a list\n",
    "\n",
    "\t\"\"\"\n",
    "\tdef __init__(self, name: str, indices: list[int]=None, index_range: list[int]=None):\n",
    "\t\tself.name = name\n",
    "\t\tself.indices = indices\n",
    "\t\tself.index_range = index_range\n",
    "\t\tassert (\n",
    "\t\t\t(indices is None and index_range is None)\n",
    "\t\t\tor (indices is [] and index_range is None)  # empty list is valid for lazy loading\n",
    "\t\t\tor (indices is not None and index_range is None) \n",
    "\t\t\tor (indices is None and index_range is not None)\n",
    "\t\t), 'Invalid JsonNodePathSegment'\n",
    "\n",
    "\tdef __repr__(self):\n",
    "\t\tif self.indices is None and self.index_range is None:\n",
    "\t\t\treturn f'<{self.name} dict>'\n",
    "\t\telif self.indices == []:\n",
    "\t\t\treturn f'<{self.name}[] list>'\n",
    "\t\telif self.indices is not None:\n",
    "\t\t\treturn f'<{self.name}[{\",\".join([str(i) for i in self.indices])}] list>'\n",
    "\t\telif len(self.index_range)==2:  #self.index_range is not None:\n",
    "\t\t\treturn f'<{self.name}[{self.index_range[0]}:{self.index_range[1]}] list>'\n",
    "\t\telif len(self.index_range)==3:  #self.index_range is not None:\n",
    "\t\t\treturn f'<{self.name}[{self.index_range[0]}:{self.index_range[1]}:{self.index_range[2]}] list>'\n",
    "\t\telse:\n",
    "\t\t\traise ValueError(f'Invalid index range {self.index_range}')\n",
    "\n",
    "\t@property\t\n",
    "\tdef is_dict(self):\n",
    "\t\treturn self.indices is None and self.index_range is None"
   ]
  },
  {
   "cell_type": "code",
   "execution_count": null,
   "metadata": {},
   "outputs": [],
   "source": [
    "#| export\n",
    "class JsonNodePath:\n",
    "\t\"\"\"result of parsing json node path\n",
    "\t\n",
    "\tArgs:\n",
    "\t\tsegments (list[JsonNodePathSegment]): list of JsonNodePathSegment\n",
    "\n",
    "\t\"\"\"\n",
    "\tdef __init__(self, node_path: str):\n",
    "\t\t\"\"\" Parse the json data to get the node specified by the node path.\n",
    "\t\tDescripttion: Parse the json data to get the node specified by the node path.\n",
    "\n",
    "\t\tArgs:\n",
    "\t\t\tnode_path (str): The node path to the node.\n",
    "\t\t\tjson_data (dict): The json data to parse.\n",
    "\n",
    "\t\tReturns:\n",
    "\t\t\tdict: The node specified by the node path.\n",
    "\t\t\"\"\"\n",
    "\t\tself.node_path_str = node_path\n",
    "\t\tpath_segments = re.split(r'/\\s*', node_path)[1:]\n",
    "\t\tself.node_path_segments = []\n",
    "\t\tfor s in path_segments:\n",
    "\t\t\tname = re.search(r'(\\w+)', s).group(1)\n",
    "\t\t\t# res = re.search('(?:\\[(\\d+)((?:(,?\\s*(\\d*))*)|(?:(:?\\s*(\\d*))*))\\])', s)  # regex with \\d+ for mandatory digit in [] pair\n",
    "\t\t\tres = re.search('(?:\\[(\\d*)((?:(,?\\s*(\\d*))*)|(?:(:?\\s*(\\d*))*))\\])', s)  # regex with \\d* for optional empyt [] pair\n",
    "\t\t\tif res:\n",
    "\t\t\t\tr = res.groups()\n",
    "\t\t\t\tif r[0]=='' and r[1]=='':\n",
    "\t\t\t\t\t# print(f'{name} is a list : index: {r[0]}')\n",
    "\t\t\t\t\tself.node_path_segments.append(JsonNodePathSegment(name=name,indices=[]))  # append empty list for lazy finding and loading\n",
    "\t\t\t\telif r[0]!='' and r[1]=='':\n",
    "\t\t\t\t\t# print(f'{name} is a list : index: {r[0]}')\n",
    "\t\t\t\t\tself.node_path_segments.append(JsonNodePathSegment(name=name,indices=[int(r[0])]))\n",
    "\t\t\t\telif ',' in r[1]:\n",
    "\t\t\t\t\tindices = re.split(r',\\s*', r[1])\n",
    "\t\t\t\t\tindices[0] = r[0]\n",
    "\t\t\t\t\t# print(f'{name} is a list : indices {indices}')\n",
    "\t\t\t\t\tself.node_path_segments.append(JsonNodePathSegment(name=name,indices=indices))\n",
    "\t\t\t\telif ':' in r[1]:\n",
    "\t\t\t\t\tindex_range = re.split(r':\\s*', r[1])\n",
    "\t\t\t\t\tindex_range[0] = r[0]\n",
    "\t\t\t\t\t# if len(index_range)==2:\n",
    "\t\t\t\t\t# \tprint(f'{name} is a list : index range [{index_range[0]}:{index_range[1]}]')\n",
    "\t\t\t\t\t# elif len(index_range)==3:\n",
    "\t\t\t\t\t# \tprint(f'{name} is a list : index range [{index_range[0]}:{index_range[1]}:{index_range[2]}]')\n",
    "\t\t\t\t\t# else:\n",
    "\t\t\t\t\t# \traise ValueError(f'Invalid index range {index_range}')\n",
    "\t\t\t\t\tself.node_path_segments.append(JsonNodePathSegment(name=name,index_range=index_range))\n",
    "\t\t\t\telse:\n",
    "\t\t\t\t\traise ValueError(f'Invalid index spec in {s}')\n",
    "\t\t\telse:\n",
    "\t\t\t\t# print(f'{name} is a dict')\n",
    "\t\t\t\tself.node_path_segments.append(JsonNodePathSegment(name=name))\n",
    "\tdef __repr__(self):\n",
    "\t\treturn f'<JsonNodePath {self.node_path_segments}>'\n",
    "\n",
    "\tdef __iter__(self):\n",
    "\t\treturn (s for s in self.node_path_segments)\t\n",
    "\n",
    "\t@property\n",
    "\tdef leaf(self):\n",
    "\t\t\"\"\"return the leaf of the node path\"\"\"\n",
    "\t\treturn self.node_path_segments[-1]\n",
    "\n",
    "\t@property\n",
    "\tdef lazy_path(self):\n",
    "\t\t\"\"\"return the lazy path of the node path\"\"\"\n",
    "\t\treturn '.'.join([f'{s.name}' if s.is_dict else f'{s.name}.item' for s in self.node_path_segments])"
   ]
  },
  {
   "cell_type": "code",
   "execution_count": null,
   "metadata": {},
   "outputs": [
    {
     "name": "stdout",
     "output_type": "stream",
     "text": [
      "<JsonNodePath [<PROJECT[0] list>, <MODULE[0,3,5] list>, <IF_DATA[3:2:8] list>, <CHARACTERISTIC[3:5] list>, <TQD_trqTrqSetNormal_MAP_v dict>]>\n",
      "<PROJECT[0] list>\n",
      "<MODULE[0,3,5] list>\n",
      "<IF_DATA[3:2:8] list>\n",
      "<CHARACTERISTIC[3:5] list>\n",
      "<TQD_trqTrqSetNormal_MAP_v dict>\n"
     ]
    }
   ],
   "source": [
    "node_path = r\"/PROJECT[0]/MODULE[0,3,5]/IF_DATA[3:2:8]/CHARACTERISTIC[3:5]/TQD_trqTrqSetNormal_MAP_v\"\n",
    "jnode_path = JsonNodePath(node_path)\n",
    "print(jnode_path)\n",
    "res = ['<PROJECT[0] list>', '<MODULE[0,3,5] list>', '<IF_DATA[3:2:8] list>', '<CHARACTERISTIC[3:5] list>', '<TQD_trqTrqSetNormal_MAP_v dict>'] \n",
    "for (s,r) in zip(jnode_path,res):\n",
    "\tprint(s)\n",
    "\ttest_eq(s.__str__(), r)"
   ]
  },
  {
   "cell_type": "code",
   "execution_count": null,
   "metadata": {},
   "outputs": [],
   "source": [
    "#| export\n",
    "def get_argparser()->argparse.ArgumentParser:\n",
    "\t\"\"\" Get the argument parser for the command line interface.\n",
    "\tDescripttion: Get the argument parser for the command line interface.\n",
    "\n",
    "\tReturns:\n",
    "\t\targparse.ArgumentParser: The argument parser for the command line interface.\n",
    "\t\"\"\"\n",
    "\timport re\n",
    "\n",
    "\tparser = argparse.ArgumentParser(\n",
    "        \"Get the A2L file path and the desired configuration for CCP/XCP.\",\n",
    "    )\n",
    "\n",
    "\tparser.add_argument(\n",
    "        \"-p\",\n",
    "        \"--path\",\n",
    "        type=str,\n",
    "        default=r\"../res/vbu_sample.json\",\n",
    "        help=\"path to the A2L file\",\n",
    "    )\n",
    "\n",
    "\tparser.add_argument(\n",
    "\t\t\"-n\",\n",
    "\t\t\"--node-path\",\n",
    "\t\ttype=JsonNodePath,\n",
    "\t\tdefault=r\"/PROJECT/MODULE[]\",\n",
    "\t\t# default=r\"/PROJECT/MODULE[]/CHARACTERISTIC[], \"\n",
    "\t\t# \t\tr\"/PROJECT/MODULE[]/MEASUREMENT[], \"\n",
    "\t\t# \t\tr\"/PROJECT/MODULE[]/AXIS_PTS[], \"\n",
    "\t\t# \t\tr\"/PROJECT/MODULE[]/COMPU_METHOD[], \",\n",
    "\t\thelp=\"node path to search for calibration parameters\",\n",
    "\t)\n",
    "\n",
    "\tparser.add_argument(\n",
    "\t\t\"-l\",\n",
    "\t\t\"--leaves\",\n",
    "\t\ttype=list_of_strings,\n",
    "\t\tdefault=r\"TQD_trqTrqSetNormal_MAP_v, \" \n",
    "\t\t\t\tr\"VBU_L045A_CWP_05_09T_AImode_CM_single, \" \n",
    "\t\t\t\tr\"Lookup2D_FLOAT32_IEEE, \" \n",
    "\t\t\t\tr\"Lookup2D_X_FLOAT32_IEEE, \" \n",
    "\t\t\t\tr\"Scalar_FLOAT32_IEEE, \" \n",
    "\t\t\t\tr\"TQD_vVehSpd, \"\n",
    "\t\t\t\tr\"TQD_vSgndSpd_MAP_y, \"\n",
    "\t\t\t\tr\"TQD_pctAccPedPosFlt, \"\n",
    "\t\t\t\tr\"TQD_pctAccPdl_MAP_x\",\n",
    "\t\t\thelp=\"leaf nodes to search for\",\n",
    "\t)\n",
    "\n",
    "\treturn parser"
   ]
  },
  {
   "cell_type": "code",
   "execution_count": null,
   "metadata": {},
   "outputs": [
    {
     "data": {
      "text/plain": [
       "{'path': '../res/vbu_sample.json',\n",
       " 'node_path': <JsonNodePath [<PROJECT dict>, <MODULE[] list>]>,\n",
       " 'leaves': ['TQD_trqTrqSetNormal_MAP_v',\n",
       "  'VBU_L045A_CWP_05_09T_AImode_CM_single',\n",
       "  'Lookup2D_FLOAT32_IEEE',\n",
       "  'Lookup2D_X_FLOAT32_IEEE',\n",
       "  'Scalar_FLOAT32_IEEE',\n",
       "  'TQD_vVehSpd',\n",
       "  'TQD_vSgndSpd_MAP_y',\n",
       "  'TQD_pctAccPedPosFlt',\n",
       "  'TQD_pctAccPdl_MAP_x']}"
      ]
     },
     "execution_count": null,
     "metadata": {},
     "output_type": "execute_result"
    }
   ],
   "source": [
    "#| export\n",
    "parser = get_argparser()\n",
    "args = parser.parse_args(\n",
    "\t[\n",
    "\t\t\"-p\",\n",
    "\t\t# r\"../res/VBU_AI.json\",\n",
    "\t\tr\"../res/vbu_sample.json\",\n",
    "\t\t\"-n\",\n",
    "\t\tr\"/PROJECT/MODULE[], \",\n",
    "\t\t# r\"/PROJECT/MODULE[]/CHARACTERISTIC[], \"\n",
    "\t\t# \tr\"/PROJECT/MODULE[]/MEASUREMENT[], \"\n",
    "\t\t# \tr\"/PROJECT/MODULE[]/AXIS_PTS[], \"\n",
    "\t\t# \tr\"/PROJECT/MODULE[]/COMPU_METHOD[]\",\n",
    "\t\t\"-l\",\n",
    "\t\tr\"TQD_trqTrqSetNormal_MAP_v, \" \n",
    "\t\t\t\tr\"VBU_L045A_CWP_05_09T_AImode_CM_single, \" \n",
    "\t\t\t\tr\"Lookup2D_FLOAT32_IEEE, \" \n",
    "\t\t\t\tr\"Lookup2D_X_FLOAT32_IEEE, \" \n",
    "\t\t\t\tr\"Scalar_FLOAT32_IEEE, \" \n",
    "\t\t\t\tr\"TQD_vVehSpd, \"\n",
    "\t\t\t\tr\"TQD_vSgndSpd_MAP_y, \"\n",
    "\t\t\t\tr\"TQD_pctAccPedPosFlt, \"\n",
    "\t\t\t\tr\"TQD_pctAccPdl_MAP_x\",\n",
    "\t]\n",
    ")\n",
    "args.__dict__"
   ]
  },
  {
   "cell_type": "code",
   "execution_count": null,
   "metadata": {},
   "outputs": [
    {
     "name": "stdout",
     "output_type": "stream",
     "text": [
      "<JsonNodePath [<PROJECT dict>, <MODULE[] list>]>\n",
      "'PROJECT.MODULE.item'\n",
      "['PROJECT', 'MODULE', 'item']\n",
      "'MODULE'\n",
      "\n",
      "<PROJECT dict>\n",
      "<MODULE[] list>\n"
     ]
    }
   ],
   "source": [
    "# jnode_paths = []\n",
    "# for p in args.node_paths:\n",
    "# \tprint(p)\n",
    "# \tjnode_path = JsonNodePath(p)\n",
    "# \tprint(jnode_path)\n",
    "# \tjnode_paths.append(jnode_path)\n",
    "# \tpprint(jnode_path.lazy_path)\n",
    "# \tpprint(re.split(r'\\.', jnode_path.lazy_path)) \n",
    "# \tpprint(jnode_path.leaf.name)\n",
    "# \tprint()\n",
    "print(args.node_path)\n",
    "# jnode_path = JsonNodePath(args.node_path)\n",
    "# print(jnode_path)\n",
    "pprint(args.node_path.lazy_path)\n",
    "pprint(re.split(r'\\.', args.node_path.lazy_path)) \n",
    "pprint(args.node_path.leaf.name)\n",
    "print()\n",
    "# node_path = r\"/PROJECT/MODULE[]/CHARACTERISTIC[]\"\n",
    "# node_path = args.node_path\n",
    "# jnode_path = JsonNodePath(node_path)\n",
    "# res = ['<PROJECT[0] list>', '<MODULE[0,3,5] list>', '<IF_DATA[3:2:8] list>', '<CHARACTERISTIC[3:5] list>', '<TQD_trqTrqSetNormal_MAP_v dict>'] \n",
    "for s in args.node_path:\n",
    "\tprint(s)"
   ]
  },
  {
   "cell_type": "code",
   "execution_count": null,
   "metadata": {},
   "outputs": [
    {
     "data": {
      "text/plain": [
       "['', 'PROJECT', 'MODULE[]', 'CHARACTERISTIC[]']"
      ]
     },
     "execution_count": null,
     "metadata": {},
     "output_type": "execute_result"
    },
    {
     "data": {
      "text/plain": [
       "['foo, a', ', bar']"
      ]
     },
     "execution_count": null,
     "metadata": {},
     "output_type": "execute_result"
    }
   ],
   "source": [
    "node_path = r\"/PROJECT/MODULE[]/CHARACTERISTIC[]\"\n",
    "re.split(r',\\s*|;\\s*|/\\s*|\\s+', node_path)\t\n",
    "re.split('(?:\\[\\d\\])',  'foo, a[0], bar')"
   ]
  },
  {
   "cell_type": "code",
   "execution_count": null,
   "metadata": {},
   "outputs": [
    {
     "name": "stdout",
     "output_type": "stream",
     "text": [
      "[0]\n"
     ]
    }
   ],
   "source": [
    "prog = re.compile('(\\[\\d\\])')\n",
    "result = prog.search('/PROJECT/MODULE[0]/CHARACTERISTIC[0]').group(1)\n",
    "print(result)"
   ]
  },
  {
   "cell_type": "code",
   "execution_count": null,
   "metadata": {},
   "outputs": [
    {
     "data": {
      "text/plain": [
       "('0',)"
      ]
     },
     "execution_count": null,
     "metadata": {},
     "output_type": "execute_result"
    },
    {
     "data": {
      "text/plain": [
       "('0, 4',)"
      ]
     },
     "execution_count": null,
     "metadata": {},
     "output_type": "execute_result"
    }
   ],
   "source": [
    "re.search('(?:\\[(\\d)\\])',  'foo, a[0], bar').groups()\n",
    "re.search('(?:\\[(\\d,?\\s*\\d*)\\])',  'foo, a[0, 4], bar').groups()"
   ]
  },
  {
   "cell_type": "code",
   "execution_count": null,
   "metadata": {},
   "outputs": [
    {
     "name": "stdout",
     "output_type": "stream",
     "text": [
      "('0', '24')\n"
     ]
    }
   ],
   "source": [
    "try:\n",
    "\tres = re.search('(?:\\[(\\d+),?\\s*(\\d*)\\])',  'foo, a[0, 24], bar').groups()\n",
    "\tprint(res)\n",
    "\t# re.search('(?:\\[(\\d,?\\s*\\d*)\\])', 'foo, a[0, 4], bar').groups()\n",
    "except AttributeError as exc:\n",
    "\tprint(exc)"
   ]
  },
  {
   "cell_type": "code",
   "execution_count": null,
   "metadata": {},
   "outputs": [
    {
     "name": "stdout",
     "output_type": "stream",
     "text": [
      "'NoneType' object has no attribute 'groups'\n"
     ]
    }
   ],
   "source": [
    "try:\n",
    "\tres = re.search('(?:\\[(\\d+),?\\s*(\\d*)\\])',  'foo, bar').groups()\n",
    "\tprint(res)\n",
    "\t# re.search('(?:\\[(\\d,?\\d*)\\])',  'foo').groups()\n",
    "except AttributeError as exc:\n",
    "\tprint(exc)"
   ]
  },
  {
   "cell_type": "code",
   "execution_count": null,
   "metadata": {},
   "outputs": [
    {
     "name": "stdout",
     "output_type": "stream",
     "text": [
      "['PROJECT[0]', 'MODULE[0,3,5]', 'IF_DATA[3:2:8]', 'CHARACTERISTIC[3:5]', 'TQD_trqTrqSetNormal_MAP_v']\n"
     ]
    }
   ],
   "source": [
    "# node_path = args.node_paths[0]\n",
    "test_node_path = r\"/PROJECT[0]/MODULE[0,3,5]/IF_DATA[3:2:8]/CHARACTERISTIC[3:5]/TQD_trqTrqSetNormal_MAP_v\"\n",
    "path_segments = re.split(r'/\\s*', test_node_path)[1:]\n",
    "print(path_segments)\n"
   ]
  },
  {
   "cell_type": "code",
   "execution_count": null,
   "metadata": {},
   "outputs": [
    {
     "data": {
      "text/plain": [
       "('../res/vbu_sample.json', 'PROJECT.MODULE.item')"
      ]
     },
     "execution_count": null,
     "metadata": {},
     "output_type": "execute_result"
    },
    {
     "name": "stdout",
     "output_type": "stream",
     "text": [
      "{'Value': 'TQD_trqTrqSetNormal_MAP_v'}\n",
      "\n",
      "\n",
      "{'AXIS_PTS_REF': {'AxisPoints': {'Value': 'TQD_vSgndSpd_MAP_y'}},\n",
      " 'Attribute': 'COM_AXIS',\n",
      " 'Conversion': {'Value': 'VBU_L045A_CWP_05_09T_AImode_CM_single'},\n",
      " 'InputQuantity': {'Value': 'TQD_vVehSpd'},\n",
      " 'LowerLimit': {'DecimalSize': 5,\n",
      "                'IntegralSign': '-',\n",
      "                'IntegralSize': 1,\n",
      "                'Value': Decimal('-3.4E+38')},\n",
      " 'MaxAxisPoints': {'Base': 10, 'Size': 2, 'Value': 14},\n",
      " 'UpperLimit': {'DecimalSize': 5,\n",
      "                'IntegralSize': 1,\n",
      "                'Value': Decimal('3.4E+38')}}\n"
     ]
    }
   ],
   "source": [
    "# prefix = '.'.join(jnode_path.lazy_path.split('.')[:-1])\n",
    "prefix = args.node_path.lazy_path\n",
    "args.path, prefix\n",
    "objects = ijson.items(open(args.path, 'r'), prefix)\n",
    "module_items = list(objects)[0]\n",
    "# pprint(module_items)\n",
    "pprint(module_items['CHARACTERISTIC'][0]['Name'])\n",
    "print('\\n')\n",
    "l = {k:v for k,v in module_items['CHARACTERISTIC'][0]['AXIS_DESCR'][0].items()}\n",
    "pprint(l)\n"
   ]
  },
  {
   "cell_type": "code",
   "execution_count": null,
   "metadata": {},
   "outputs": [
    {
     "data": {
      "text/plain": [
       "('../res/vbu_sample.json',\n",
       " <JsonNodePath [<PROJECT dict>, <MODULE[] list>]>,\n",
       " ['TQD_trqTrqSetNormal_MAP_v',\n",
       "  'VBU_L045A_CWP_05_09T_AImode_CM_single',\n",
       "  'Lookup2D_FLOAT32_IEEE',\n",
       "  'Lookup2D_X_FLOAT32_IEEE',\n",
       "  'Scalar_FLOAT32_IEEE',\n",
       "  'TQD_vVehSpd',\n",
       "  'TQD_vSgndSpd_MAP_y',\n",
       "  'TQD_pctAccPedPosFlt',\n",
       "  'TQD_pctAccPdl_MAP_x'])"
      ]
     },
     "execution_count": null,
     "metadata": {},
     "output_type": "execute_result"
    }
   ],
   "source": [
    "args.path, args.node_path, args.leaves"
   ]
  },
  {
   "cell_type": "code",
   "execution_count": null,
   "metadata": {},
   "outputs": [
    {
     "name": "stdout",
     "output_type": "stream",
     "text": [
      "{'Address': {'Base': 16, 'Size': 8, 'Value': '1879071450'},\n",
      " 'Conversion': {'Value': 'VBU_L045A_CWP_05_09T_AImode_CM_single'},\n",
      " 'DepositR': {'Value': 'Lookup2D_X_FLOAT32_IEEE'},\n",
      " 'InputQuantity': {'Value': 'TQD_vVehSpd'},\n",
      " 'LongIdentifier': {},\n",
      " 'LowerLimit': {'DecimalSize': 5,\n",
      "                'IntegralSign': '-',\n",
      "                'IntegralSize': 1,\n",
      "                'Value': Decimal('-3.4E+38')},\n",
      " 'MaxAxisPoints': {'Base': 10, 'Size': 2, 'Value': 14},\n",
      " 'MaxDiff': {},\n",
      " 'Name': {'Value': 'TQD_vSgndSpd_MAP_y'},\n",
      " 'UpperLimit': {'DecimalSize': 5,\n",
      "                'IntegralSize': 1,\n",
      "                'Value': Decimal('3.4E+38')}}\n"
     ]
    }
   ],
   "source": [
    "calibs = []\n",
    "node_paths = [r\"/PROJECT/MODULE[]/CHARACTERISTIC[]\",\n",
    "\t\t\tr\"/PROJECT/MODULE[]/MEASUREMENT[]\",\n",
    "\t\t\tr\"/PROJECT/MODULE[]/AXIS_PTS[]\",\n",
    "\t\t\tr\"/PROJECT/MODULE[]/COMPU_METHOD[]\"]\n",
    "jnode_paths = [JsonNodePath(p) for p in node_paths]\n",
    "\n",
    "for jp in jnode_paths:\n",
    "\tprefix = jp.lazy_path\n",
    "\tobjects = ijson.items(open(args.path, \"r\"), prefix)\n",
    "\t# calib = [o for o in objects for k, v in o.items() if k == 'Name']\n",
    "\t# pprint(calib)\n",
    "\t# len(calib)\n",
    "\t# print(prefix)\n",
    "\tfor o in objects:\n",
    "\t\tfor k, v in o.items():\n",
    "\t\t\tif k == 'Name':\n",
    "\t\t\t\tif v['Value'] in args.leaves:\n",
    "\t\t\t\t\tcalibs.append(o)\n",
    "\n",
    "pprint(calibs[3])\n",
    "# calib['LowerLimit']['Value'], calib['UpperLimit']['Value']\n",
    "\t\n",
    "# for c in calibs:\n",
    "# \tpprint(c)"
   ]
  },
  {
   "cell_type": "code",
   "execution_count": null,
   "metadata": {},
   "outputs": [],
   "source": [
    "#| export\n",
    "class Bunch(object):\n",
    "\t\"\"\"collector of a bunch of named stuff into one object; a generic record/struct type, indexed by keys\"\"\"\n",
    "\tbunch_registry = {} \n",
    "\tdef __init__(self, key, **kwargs):\n",
    "\t\t\"\"\"Bunch object self contains no 'key' attribute, but adict could have.\"\"\"\n",
    "\t\tself.key = key\n",
    "\t\tself.__dict__.update(kwargs)\n",
    "\t\tself.__class__.bunch_registry.update({key: self})\n",
    "\t\n",
    "\tdef __repr__(self):\n",
    "\t\treturn f'<{self.__class__.__name__}.{self.key}>'\n",
    "\t\n",
    "\tdef __hash__(self) -> int:\n",
    "\t\treturn hash(tuple(sorted(self.__dict__.items())))\n",
    "\t\n",
    "\tdef __eq__(self, other) -> bool: \n",
    "\t\treturn self.__dict__ == other.__dict__\n",
    "\t\n",
    "\t@staticmethod\n",
    "\tdef fetch(key):\n",
    "\t\treturn Bunch.__index[key]\n",
    "\t\n",
    "\t# @classmethod\n",
    "\t# def register(cls, key: str, value: bunch):\n",
    "\t# \t\"\"\"manual registration of a bunch object with a key\n",
    "\t\t\n",
    "\t# \targs:\n",
    "\t# \t\tkey: jnode_path string\n",
    "\t# \t\tvalue: bunch object\n",
    "\t\t\t\n",
    "\t# \t\"\"\"\n",
    "\t# \tcls.bunch_registry.update({key: value})\n",
    "\t"
   ]
  },
  {
   "cell_type": "code",
   "execution_count": null,
   "metadata": {},
   "outputs": [],
   "source": [
    "#| export\n",
    "class Record:\n",
    "\t\"\"\"object with dynamic attributes\"\"\"\n",
    "\trecord_registry = None\n",
    "\t__RecordCats = None\n",
    "\t__cat = None \n",
    "\tsubclass_registry = {}\n",
    "\n",
    "\tdef __init__(self, **kwargs):\n",
    "\t\tself.__dict__.update(kwargs)\n",
    "\n",
    "\tdef __repr__(self):\n",
    "\t\treturn f'<{self.__class__.__name__}: {self.Name!r}>'\n",
    "\n",
    "\t@staticmethod\n",
    "\tdef fetch(key: str) -> Union[Record, str]:\n",
    "\t\ttry:\n",
    "\t\t\trec = Record.record_registry[key]\n",
    "\t\texcept KeyError:\n",
    "\t\t\trec = key.split('.')[-1]\n",
    "\n",
    "\t\treturn rec \n",
    "\t\n",
    "\t@classmethod\n",
    "\tdef load_types(cls, path: Path, jnode_path: Optional[JsonNodePath] = JsonNodePath('/PROJECT/MODULE[]')) -> None:\n",
    "\t\t\"\"\"\n",
    "\t\tLoad types for the Record class.\n",
    "\n",
    "\t\tArgs:\n",
    "\t\t\tpath (Path): The path to the file.\n",
    "\t\t\tjnode_path (Optional[JsonNodePath], optional): The JSON node path. Defaults to JsonNodePath('/PROJECT/MODULE[]').\n",
    "\t\t\"\"\"\n",
    "\t\tcls.__RecordCats = load_class_type_a2l_lazy(path, jnode_path)\n",
    "\n",
    "\t@classmethod\n",
    "\tdef load_records(cls, path: Path, keys: list[str], jnode_path: Optional[JsonNodePath] = JsonNodePath('/PROJECT/MODULE[]')) -> None:\n",
    "\t\t\"\"\"\n",
    "\t\tLoad records for the Record class.\n",
    "\n",
    "\t\tArgs:\n",
    "\t\t\tpath (Path): The path to the file.\n",
    "\t\t\tkeys (list[str]): The list of keys.\n",
    "\t\t\tjnode_path (Optional[JsonNodePath], optional): The JSON node path. Defaults to JsonNodePath('/PROJECT/MODULE[]').\n",
    "\t\t\"\"\"\n",
    "\t\tcls.load_types(path, jnode_path)\n",
    "\t\tcls.record_registry = load_records_lazy(path, keys, jnode_path)"
   ]
  },
  {
   "cell_type": "code",
   "execution_count": null,
   "metadata": {},
   "outputs": [],
   "source": [
    "#| export \n",
    "class Calibration(Record):\n",
    "\t\"\"\"Target calibration object for torque map; a2l section [\"PROJECT\"][\"MODULE\"][\"CHARACTERISTIC\"]\n",
    "\t\n",
    "\tFirst level keys will be turned into attributes of the object, encoded registered values will be replaced with the corresponding objects.\n",
    "\tOtherwiese the key-value pairs will be kept as is. \n",
    "\t\"\"\" \n",
    "\t__cat = 'CHARACTERISTIC'\n",
    "\tRecord.subclass_registry[__cat] = 'Calibration'\n",
    "\n",
    "\tdef __init__(self, **kwargs):\n",
    "\t\t# update the dict with the kwargs\n",
    "\t\tsuper().__init__(**kwargs)\n",
    "\t\t# TODO (optionally) add check for the class existence of the keys with ijson parser event handler\n",
    "\n",
    "\n",
    "\tdef __repr__(self):\n",
    "\t\ttry:\n",
    "\t\t\treturn f'<{self.__class__.__name__}: {self.Name!r}>'\n",
    "\t\texcept AttributeError:\n",
    "\t\t\treturn super().__repr__() \n",
    "\n",
    "\t@cached_property\n",
    "\tdef data_conversion(self):\n",
    "\t\ttry:\n",
    "\t\t\tkey = self.__dict__['Conversion']['Value']  # define the key for the axis for future fetch\n",
    "\t\texcept KeyError:\n",
    "\t\t\traise KeyError(f'The key \"Conversion\" is not found in the calibration description or '\n",
    "\t\t\t\t\t\tf'the key \"Value\" is not found in the \"Conversion\" dict.')\n",
    "\t\tcat = 'COMPU_METHOD'\n",
    "\t\tkey = f\"{super().subclass_registry[cat]}.{key}\"  # define the key for the axis for future fetch\n",
    "\t\treturn self.__class__.fetch(key)\n",
    "\n",
    "\t@cached_property\n",
    "\tdef record_type(self):\n",
    "\t\ttry:\n",
    "\t\t\tkey = self.__dict__['Deposit']['Value']  # define the key for the axis for future fetch\n",
    "\t\texcept KeyError:\n",
    "\t\t\traise KeyError(f'The key \"Deposit\" is not found in the calibration description or '\n",
    "\t\t\t\t\t\tf'the key \"Value\" is not found in the \"Deposit\" dict.')\n",
    "\t\tcat = 'RECORD_LAYOUT'\n",
    "\t\tkey = f\"{super().subclass_registry[cat]}.{key}\"  # define the key for the axis for future fetch\n",
    "\t\trtype = self.__class__.fetch(key)\n",
    "\t\tif type(rtype) is str:  # if the key is not found in the registry, then it is a scalar\n",
    "\t\t\tkey = f\"{super().subclass_registry[cat]}.{'Scalar_' + rtype}\"  # construct the new key for the scalar as defined in a2l\n",
    "\t\t\trtype = self.__class__.fetch(key)\n",
    "\t\t\n",
    "\t\treturn rtype\n",
    "\n",
    "\t@cached_property\n",
    "\tdef address(self):\n",
    "\t\treturn hex(int(self.__dict__['Address']['Value']))[2:]   # transform Ecu address to hex string without '0x'\n",
    "\n",
    "\t@cached_property\n",
    "\tdef axes(self):  # y axis\n",
    "\t\t\"\"\"_summary_\n",
    "\n",
    "\t\t\tfor axes[0/1]['InputQuantity']['Value] == 'TQD_vVehSpd' or 'TQD_pctAccPedPosFlt':\n",
    "\t\tRaises:\n",
    "\t\t\tValueError: _description_\n",
    "\t\t\tKeyError: _description_\n",
    "\t\t\tKeyError: _description_\n",
    "\t\t\tKeyError: _description_\n",
    "\n",
    "\t\tReturns:\n",
    "\t\t\t_type_: _description_\n",
    "\t\t\"\"\"\n",
    "\t\ttry:\n",
    "\t\t\taxes = []\n",
    "\t\t\tfor axis in self.__dict__['AXIS_DESCR']: # 'AXIS_DESCR' is a list of dicts 2 axes for 2D map \n",
    "\t\t\t\ttry:\n",
    "\t\t\t\t\tif axis['Attribute'] != 'COM_AXIS':\n",
    "\t\t\t\t\t\traise ValueError(f'The value of \"Attribute\" {axis[\"Attribute\"]} is not \"COM_AXIS\".')\n",
    "\t\t\t\texcept KeyError:\n",
    "\t\t\t\t\traise KeyError('The key \"Attribute\" is not found in the axis description.')\n",
    "\t\t\t\ttry:\n",
    "\t\t\t\t\tkey = axis['InputQuantity']['Value']  # define the key for the axis for future fetch\n",
    "\t\t\t\texcept KeyError:\n",
    "\t\t\t\t\traise KeyError(f'The key \"InputQuantity\" is not found in the axis description or '\n",
    "\t\t\t\t\t\t\t\tf'the key \"Value\" is not found in the \"InputQuantity\" dict.')\n",
    "\t\t\t\t# get the MEASUREMENT object from the registry\t\t\t\t\n",
    "\t\t\t\tcat = 'MEASUREMENT'\n",
    "\t\t\t\tkey = f\"{super().subclass_registry[cat]}.{key}\"\n",
    "\t\t\t\taxis['measurement'] = self.__class__.fetch(key) # replace value with the object\n",
    "\n",
    "\t\t\t\ttry:\n",
    "\t\t\t\t\tkey = axis['AXIS_PTS_REF']['AxisPoints']['Value']  # define the key for the axis for future fetch\n",
    "\t\t\t\texcept KeyError:\n",
    "\t\t\t\t\traise KeyError(f'The key \"AXIS_PTS_REF \" is not found in the axis description or '\n",
    "\t\t\t\t\t\t\t\tf'the key \"AxisPoins\" is not found in the \"AXIS_PTS_REF\" dict.'\n",
    "\t\t\t\t\t\t\t\tf'the key \"Value\" is not found in the \"AxisPoints\" dict.')\n",
    "\t\t\t\t# get the AXIS_PTS object from the registry\t\t\t\t\n",
    "\t\t\t\tcat = 'AXIS_PTS'\n",
    "\t\t\t\tkey = f\"{super().subclass_registry[cat]}.{key}\"\n",
    "\t\t\t\taxis['axis_scale']= self.__class__.fetch(key)  # replace value with object \n",
    "\n",
    "\t\t\t\ttry:\n",
    "\t\t\t\t\tkey = axis['Conversion']['Value']  # define the key for the axis for future fetch\n",
    "\t\t\t\texcept KeyError:\n",
    "\t\t\t\t\traise KeyError(f'The key \"Conversion\" is not found in the axis description or '\n",
    "\t\t\t\t\t\t\t\tf'the key \"Value\" is not found in the \"Conversion\" dict.')\n",
    "\t\t\t\t# get the AXIS_PTS object from the registry\t\t\t\t\n",
    "\t\t\t\tcat = 'COMPU_METHOD'\n",
    "\t\t\t\tkey = f\"{super().subclass_registry[cat]}.{key}\"\n",
    "\t\t\t\taxis['data_conversion'] = self.__class__.fetch(key)  # replace value with object\n",
    "\n",
    "\t\t\t\tbunch_register_key = f'{self.__class__.__name__}.{self.Name}.{axis[\"InputQuantity\"][\"Value\"]}' \n",
    "\t\t\t\tbunch = Bunch(bunch_register_key,**axis)\n",
    "\t\t\t\taxes.append(bunch)\n",
    "\t\t\t\t# Bunch.register(bunch_register_key,bunch)\n",
    "\t\t\t\n",
    "\t\t\treturn axes\n",
    "\t\texcept KeyError:\n",
    "\t\t\traise KeyError('The key \"AXIS_DESCR\" is not found in the calibration object.')"
   ]
  },
  {
   "cell_type": "code",
   "execution_count": null,
   "metadata": {},
   "outputs": [],
   "source": [
    "#| export\n",
    "class Measurement(Record):\n",
    "\t\"\"\"Measurement object like speed,  acc pedal position, etc; a2l section [\"PROJECT\"][\"MODULE\"][\"MEAUREMENT\"]]\"\"\" \n",
    "\t__CAT = 'MEASUREMENT'\n",
    "\tRecord.subclass_registry[__CAT] = 'Measurement'\n",
    "\n",
    "\tdef __repr__(self):\n",
    "\t\ttry:\n",
    "\t\t\treturn f'<{self.__class__.__name__}: {self.Name!r}>'\n",
    "\t\texcept AttributeError:\n",
    "\t\t\treturn super().__repr__() \n",
    "\t\n",
    "\t@cached_property\n",
    "\tdef data_conversion(self):\n",
    "\t\ttry:\n",
    "\t\t\tkey = self.__dict__['Conversion']['Value']  # define the key for the axis for future fetch\n",
    "\t\texcept KeyError:\n",
    "\t\t\traise KeyError(f'The key \"Conversion\" is not found in the calibration description or '\n",
    "\t\t\t\t\t\tf'the key \"Value\" is not found in the \"Conversion\" dict.')\n",
    "\t\tcat = 'COMPU_METHOD'\n",
    "\t\tkey = f\"{super().subclass_registry[cat]}.{key}\"\n",
    "\t\treturn self.__class__.fetch(key)\n",
    "\n",
    "\t@cached_property\n",
    "\tdef record_type(self):\n",
    "\t\ttry:\n",
    "\t\t\tkey = self.__dict__['DataType']['Value']  # define the key for the axis for future fetch\n",
    "\t\texcept KeyError:\n",
    "\t\t\traise KeyError(f'The key \"Deposit\" is not found in the calibration description or '\n",
    "\t\t\t\t\t\tf'the key \"Value\" is not found in the \"Deposit\" dict.')\n",
    "\t\tcat = 'RECORD_LAYOUT'\n",
    "\t\tkey = f\"{super().subclass_registry[cat]}.{key}\"  # define the key for the axis for future fetch\n",
    "\t\t# print(key)\n",
    "\t\trtype = self.__class__.fetch(key)\n",
    "\t\tif type(rtype) is str:  # if the key is not found in the registry, then it is a scalar\n",
    "\t\t\tkey = f\"{super().subclass_registry[cat]}.{'Scalar_' + rtype}\"  # construct the new key for the scalar as defined in a2l\n",
    "\t\t\trtype = self.__class__.fetch(key)\n",
    "\t\t\n",
    "\t\treturn rtype\n",
    "\n",
    "\t@cached_property\n",
    "\tdef address(self):\n",
    "\t\treturn hex(int(self.__dict__['ECU_ADDRESS']['Address']['Value']))[2:]   # transform Ecu address to hex string without '0x'"
   ]
  },
  {
   "cell_type": "code",
   "execution_count": null,
   "metadata": {},
   "outputs": [],
   "source": [
    "#| export\n",
    "class AxisScale(Record):\n",
    "\t\"\"\"Target calibration object for torque map; a2l section [\"PROJECT\"][\"MODULE\"][\"AXIS_PTS\"]\"\"\" \n",
    "\t__CAT = 'AXIS_PTS'\n",
    "\tRecord.subclass_registry[__CAT] = 'AxisScale'\n",
    "\n",
    "\tdef __repr__(self):\n",
    "\t\ttry:\n",
    "\t\t\treturn f'<{self.__class__.__name__}: {self.Name!r}>'\n",
    "\t\texcept AttributeError:\n",
    "\t\t\treturn super().__repr__() \n",
    "\t\n",
    "\t@cached_property\n",
    "\tdef data_conversion(self):\n",
    "\t\ttry:\n",
    "\t\t\tkey = self.__dict__['Conversion']['Value']  # define the key for the axis for future fetch\n",
    "\t\texcept KeyError:\n",
    "\t\t\traise KeyError(f'The key \"Conversion\" is not found in the calibration description or '\n",
    "\t\t\t\t\t\tf'the key \"Value\" is not found in the \"Conversion\" dict.')\n",
    "\t\tcat = 'COMPU_METHOD'\n",
    "\t\tkey = f\"{super().subclass_registry[cat]}.{key}\"\n",
    "\t\treturn self.__class__.fetch(key)\n",
    "\t\n",
    "\t@cached_property\n",
    "\tdef record_type(self):\n",
    "\t\ttry:\n",
    "\t\t\tkey = self.__dict__['DepositR']['Value']  # define the key for the axis for future fetch\n",
    "\t\texcept KeyError:\n",
    "\t\t\traise KeyError(f'The key \"DepositR\" is not found in the calibration description or '\n",
    "\t\t\t\t\t\tf'the key \"Value\" is not found in the \"DepositR\" dict.')\n",
    "\t\tcat = 'RECORD_LAYOUT'\n",
    "\t\tkey = f\"{super().subclass_registry[cat]}.{key}\"  # define the key for the axis for future fetch\n",
    "\t\trtype = self.__class__.fetch(key)\n",
    "\t\tif type(rtype) is str:  # if the key is not found in the registry, then it is a scalar\n",
    "\t\t\tkey = f\"{super().subclass_registry[cat]}.{'Scalar_' + rtype}\"  # construct the new key for the scalar as defined in a2l\n",
    "\t\t\trtype = self.__class__.fetch(key)\n",
    "\t\t# if type(rtype) is str:  # if the key is not found in the registry, then it is a scalar\n",
    "\t\t# \tkey = 'Scalar_' + rtype  # construct the new key for the scalar as defined in a2l\n",
    "\t\t# \tcat = 'RECORD_LAYOUT'\n",
    "\t\t# \trtype = self.__class__.fetch(key)\n",
    "\t\t\n",
    "\t\treturn rtype\n",
    "\n",
    "\t@cached_property\n",
    "\tdef address(self):\n",
    "\t\treturn hex(int(self.__dict__['Address']['Value']))[2:]   # transform Ecu address to hex string without '0x'\n",
    "\n",
    "\t@cached_property\n",
    "\tdef input(self):\n",
    "\t\ttry:\n",
    "\t\t\tkey = self.__dict__['InputQuantity']['Value']  # define the key for the axis for future fetch\n",
    "\t\texcept KeyError:\n",
    "\t\t\traise KeyError(f'The key \"Conversion\" is not found in the calibration description or '\n",
    "\t\t\t\t\t\tf'the key \"Value\" is not found in the \"Conversion\" dict.')\n",
    "\t\tcat = 'MEASUREMENT'\n",
    "\t\tkey = f\"{super().subclass_registry[cat]}.{key}\"\n",
    "\t\treturn self.__class__.fetch(key)"
   ]
  },
  {
   "cell_type": "code",
   "execution_count": null,
   "metadata": {},
   "outputs": [],
   "source": [
    "#| export\n",
    "class DataConversion(Record):\n",
    "\t\"\"\"Data conversion object for calibration; a2l section [\"PROJECT\"][\"MODULE\"][\"COMPU_METHOD\"]]\"\"\" \n",
    "\t__CAT = 'COMPU_METHOD'\n",
    "\tRecord.subclass_registry[__CAT] = 'DataConversion'\n",
    "\n",
    "\tdef __repr__(self):\n",
    "\t\ttry:\n",
    "\t\t\treturn f'<{self.__class__.__name__}: {self.Name!r}>'\n",
    "\t\texcept AttributeError:\n",
    "\t\t\treturn super().__repr__() "
   ]
  },
  {
   "cell_type": "code",
   "execution_count": null,
   "metadata": {},
   "outputs": [],
   "source": [
    "#| export\n",
    "class DataLayout(Record):\n",
    "\t\"\"\"Data type object for calibration; a2l section [\"PROJECT\"][\"MODULE\"][\"RECORD_LAYOUT\"]\"\"\" \n",
    "\t__CAT = 'RECORD_LAYOUT'\n",
    "\tRecord.subclass_registry[__CAT] = 'DataLayout'\n",
    "\t# size: int=Field(default=4, description='size of the data in bytes')\n",
    "\n",
    "\tdef __repr__(self):\n",
    "\t\ttry:\n",
    "\t\t\treturn f'<{self.__class__.__name__}: {self.Name!r}>'\n",
    "\t\texcept AttributeError:\n",
    "\t\t\treturn super().__repr__() \n",
    "\t\n",
    "\n",
    "\t@property\n",
    "\tdef data_type(self):\n",
    "\t\ttry:\n",
    "\t\t\tdtype = self.__dict__['FNC_VALUES']['DataType']['Value']  # define the key for the axis for future fetch\n",
    "\t\texcept KeyError:\n",
    "\t\t\ttry:\n",
    "\t\t\t\tdtype = self.__dict__['AXIS_PTS_X']['DataType']['Value']  # define the key for the axis for future fetch\n",
    "\t\t\texcept KeyError:\n",
    "\t\t\t\traise KeyError(f'The key \"DataType\" is not found in the RECORD_LAYOUT \"FNC_VALUES\" or \"AXIS_PTS_X\" section'\n",
    "\t\t\t\t\t\t\tf'or the key \"Value\" is not found in the \"DataType\" dict.')\n",
    "\t\treturn dtype\n",
    "\n",
    "\t@cached_property\n",
    "\tdef type_size(self):\n",
    "\t\tmatch(self.data_type):\n",
    "\t\t\tcase 'UBYTE' | 'SBYTE' | 'CHAR':\n",
    "\t\t\t\treturn 1\n",
    "\t\t\tcase 'UWORD' | 'SWORD':\n",
    "\t\t\t\treturn 2\n",
    "\t\t\tcase 'ULONG' | 'SLONG' | 'FLOAT32_IEEE':\n",
    "\t\t\t\treturn 4\n",
    "\t\t\t# case 'UINT64' | 'INT64' | 'FLOAT64_IEEE':\n",
    "\t\t\t# \treturn 8\n",
    "\t\t\tcase _:\n",
    "\t\t\t\traise ValueError(f'Invalid data type {self.data_type}')"
   ]
  },
  {
   "cell_type": "code",
   "execution_count": null,
   "metadata": {},
   "outputs": [
    {
     "data": {
      "text/plain": [
       "{'CHARACTERISTIC': 'Calibration',\n",
       " 'MEASUREMENT': 'Measurement',\n",
       " 'AXIS_PTS': 'AxisScale',\n",
       " 'COMPU_METHOD': 'DataConversion',\n",
       " 'RECORD_LAYOUT': 'DataLayout'}"
      ]
     },
     "execution_count": null,
     "metadata": {},
     "output_type": "execute_result"
    }
   ],
   "source": [
    "Record.subclass_registry"
   ]
  },
  {
   "cell_type": "code",
   "execution_count": null,
   "metadata": {},
   "outputs": [],
   "source": [
    "#| export\n",
    "def load_class_type_a2l_lazy(path: Path, jnode_path: Optional[JsonNodePath]=JsonNodePath('/PROJECT/MODULE[]'))->type(Enum):  # return a class type\n",
    "\t\"\"\" Search for the calibration key in the A2L file.\n",
    "\tDescripttion: Load the A2L file as a dictionary.\n",
    "\t\n",
    "\tCreate record type (enum class) for the calibration parameter for the given a2l json file\n",
    "\n",
    "\tArgs:\n",
    "\t\tpath (str): The path to the A2L file.\n",
    "\t\tsection_key (str): The section key to search for the calibration type.\n",
    "\n",
    "\tReturns:\n",
    "\t\tdict: The A2L file as a dictionary.\n",
    "\t\"\"\"\n",
    "\trecord_type_keys = []\n",
    "\twith open(path, \"r\") as f:\n",
    "\t\tfor object in ijson.items(f, jnode_path.lazy_path):\n",
    "\t\t\t# print(list(object.keys()))\n",
    "\t\t\trecord_type_keys += object.keys()\n",
    "\t\t# keys = [k for k, v in ijson.kvitems(f, prefix) if type(v) is list]t]\n",
    "\t\t# record_type_key.append(keys)\n",
    "\n",
    "\tRecordTypes = Enum('RecordType', record_type_keys)\n",
    "\treturn RecordTypes"
   ]
  },
  {
   "cell_type": "code",
   "execution_count": null,
   "metadata": {},
   "outputs": [
    {
     "name": "stdout",
     "output_type": "stream",
     "text": [
      "<enum 'RecordType'>\n"
     ]
    },
    {
     "data": {
      "text/plain": [
       "{'AXIS_PTS',\n",
       " 'CHARACTERISTIC',\n",
       " 'COMPU_METHOD',\n",
       " 'GROUP',\n",
       " 'IF_DATA',\n",
       " 'LongIdentifier',\n",
       " 'MEASUREMENT',\n",
       " 'MOD_COMMON',\n",
       " 'MOD_PAR',\n",
       " 'Name',\n",
       " 'RECORD_LAYOUT'}"
      ]
     },
     "execution_count": null,
     "metadata": {},
     "output_type": "execute_result"
    }
   ],
   "source": [
    "RecordTypes = load_class_type_a2l_lazy(args.path)\n",
    "pprint(RecordTypes)\n",
    "set(RecordTypes.__members__.keys())\n",
    "Record.record_registry"
   ]
  },
  {
   "cell_type": "code",
   "execution_count": null,
   "metadata": {},
   "outputs": [],
   "source": [
    "#| export\n",
    "def load_records_lazy(path: Path, leaves: list[str], jnode_path: Optional[JsonNodePath]=JsonNodePath('/PROJECT/MODULE[]'))->dict[Record]:\n",
    "\t\"\"\"load records from a json file lazily\n",
    "\n",
    "\tArgs:\n",
    "\t\tpath (Path): path to the json file\n",
    "\t\t# use ijson no need for  jnode_paths, though sacrificing a little bit efficiency (list[JsonNodePath]): list of JsonNodePath to the leaves\n",
    "\t\tleaves (list[str]): list of leaf indices to the records, needs to be unique and in the first item of the a2l json file\n",
    "\n",
    "\tReturns:\n",
    "\t\tdict[str, Record]: dict of Records and its subclasses, indexed by the leaf indices\n",
    "\t\"\"\"\n",
    "\tregistry = {}\n",
    "\tRecord.load_types(path, jnode_path= jnode_path)  # init subclass_registry in  Record\n",
    "\tprefix = '' \n",
    "\tevent = ''\n",
    "\tleaf = ''\n",
    "\tmap_array_levels = []\n",
    "\tleaves = list(leaves)  # make a shallow copy, so that no new leaves will be added, only referencs to leaves will be removed \n",
    "\t# Find the record\n",
    "\twith open(path, \"r\") as f:\n",
    "\t\t\n",
    "\t\tparse_events = ijson.parse(f)\n",
    "\t\twhile leaves:\n",
    "\t\t\twhile True:\n",
    "\t\t\t\ttry:\n",
    "\t\t\t\t\tprefix, event, value = next(parse_events)\n",
    "\t\t\t\t\t# print(f'prefix: {prefix}, event: {event}, value: {value}')\n",
    "\t\t\t\t\tmatch(event):\n",
    "\t\t\t\t\t\tcase 'start_map':\n",
    "\t\t\t\t\t\t\tmap_array_levels.append('m')\n",
    "\t\t\t\t\t\tcase 'end_map':\n",
    "\t\t\t\t\t\t\tm = map_array_levels.pop()\n",
    "\t\t\t\t\t\t\tassert m == 'm', f'Invalid map level {m}'\n",
    "\t\t\t\t\t\tcase 'start_array':\n",
    "\t\t\t\t\t\t\tmap_array_levels.append('a')\n",
    "\t\t\t\t\t\tcase 'end_array':\n",
    "\t\t\t\t\t\t\ta = map_array_levels.pop() \n",
    "\t\t\t\t\t\t\tassert a == 'a', f'Invalid array level {a}'\n",
    "\t\t\t\t\t\tcase 'map_key':\n",
    "\t\t\t\t\t\t\tpass\n",
    "\t\t\t\t\t\tcase 'string':\n",
    "\t\t\t\t\t\t\tif value in leaves \\\n",
    "\t\t\t\t\t\t\t\tand prefix.split('.')[-2] == 'Name' \\\n",
    "\t\t\t\t\t\t\t\tand ''.join(map_array_levels) == 'mmamamm':\n",
    "\t\t\t\t\t\t\t\t# and map_level==4 \\\n",
    "\t\t\t\t\t\t\t\t# and array_level==1:  # find the leaf with the key \"Name\", is the index of  an a2l record\n",
    "\t\t\t\t\t\t\t\t# print(f'prefix: {prefix}, event: {event}, value: {value}, map_array_levels: {\"\".join(map_array_levels)}')\n",
    "\t\t\t\t\t\t\t\tleaf = value\n",
    "\t\t\t\t\t\t\t\tleaves.remove(leaf)\n",
    "\t\t\t\t\t\t\t\tbreak  # leaf must be located at the 4th level of the map, and 1st level of the array\n",
    "\t\t\t\t\t\tcase _:\n",
    "\t\t\t\t\t\t\tcontinue\n",
    "\t\t\t\texcept StopIteration as exc:\n",
    "\t\t\t\t\traise ValueError(f'leaves {leaves} not found in {path}') from exc\n",
    "\n",
    "\t\t\t# Extract the record, Name shoulb be gone as the first key\n",
    "\t\t\t# prefix = \".\".join(prefix.split('.')[:-2])  # remove the last two segments \"Name\" and \"Value\", return to the root of  the item\n",
    "\t\t\t# map_array_levels.pop()  # remove the last level \"m\", return to the rest of record\n",
    "\t\t\n",
    "\t\t\tprefix, event, value = next(parse_events)  # get the end map event\n",
    "\t\t\tcurrent_prefix = \".\".join(prefix.split('.')[:-1])  # remove the last segment \"Value\", return to the root of  the item\n",
    "\t\t\tif event != 'end_map':\n",
    "\t\t\t\traise ValueError(f'Invalid event {event} after the leaf {leaf} is found!')\n",
    "\t\t\telse:\n",
    "\t\t\t\tm = map_array_levels.pop()  # remove the last level \"m\", return to the rest of record\n",
    "\t\t\t\tassert m == 'm', f'Invalid map level {m}'\n",
    "\t\t\t\tpeer_level = \"\".join(map_array_levels)\n",
    "\t\t\t\tending_level = \"\".join(map_array_levels)[:-1]\n",
    "\t\t\n",
    "\t\t\t# Init the record and the captured\n",
    "\t\t\trecord = {}\n",
    "\t\t\trecord['Name'] = leaf   # add the calibration key as name back to the record\n",
    "\t\t\tname = leaf  # init name for the record is the current map key where the leaf is found\n",
    "\t\t\tlast_event = event\n",
    "\t\t\tn = None  # current node\n",
    "\t\t\twhile True:\n",
    "\t\t\t\ttry:\n",
    "\t\t\t\t\tprefix, event, value = next(parse_events)\n",
    "\t\t\t\t\trecord_path = prefix.replace(current_prefix, \"\").split('.')\n",
    "\t\t\t\t\trecord_path.pop(0)\n",
    "\t\t\t\t\t# if record_path[0] == '':  # remove the first empty string\n",
    "\t\t\t\t\t# record_path.pop(0)\n",
    "\t\t\t\t\t# print(f'prefix: {record_path}, event: {event}, value: {value}')\n",
    "\t\t\t\t\tmatch(event):\n",
    "\t\t\t\t\t\tcase 'start_map':  # open up a new map on the current nested level\n",
    "\t\t\t\t\t\t\tmap_array_levels.append('m')\n",
    "\t\t\t\t\t\t\t# start nested map\n",
    "\t\t\t\t\t\t\tif last_event == 'map_key':  # if last event is map_key, then the current node is a map\n",
    "\t\t\t\t\t\t\t\tassert record_path[-1]==name, f'Invalid record path {record_path} for {value}!'  # confirm map key is the last part of the prefixeee\n",
    "\t\t\t\t\t\t\t\tn.update({name:{}})  # add the nested map\n",
    "\t\t\t\t\t\t\t\tn = n[name]  # get down the nested map \n",
    "\t\t\t\t\t\t\telif last_event == 'start_array':  # if last event is array, then the current node is an array\n",
    "\t\t\t\t\t\t\t\tassert record_path[-1]=='item', f'Invalid record path {record_path} for {value}!'  # confirm map key is the last part of the prefixeee\n",
    "\t\t\t\t\t\t\t\tn.append({})  # append another map to the array\n",
    "\t\t\t\t\t\t\t\tn = n[-1]  # move to the newly created last item  in the  nested array\n",
    "\t\t\t\t\t\t\telif last_event == 'end_map':  # if last event is array, then the current node is an array\n",
    "\t\t\t\t\t\t\t\tassert record_path[-1]=='item', f'Invalid record path {record_path} for {value}!'  # confirm map key is the last part of the prefixeee\n",
    "\t\t\t\t\t\t\t\t# have to update n, because the last event is not map_key, where n is updated\n",
    "\t\t\t\t\t\t\t\tn = record\n",
    "\t\t\t\t\t\t\t\tfor k in record_path[:-1]:\n",
    "\t\t\t\t\t\t\t\t\tif k != 'item':\n",
    "\t\t\t\t\t\t\t\t\t\tn = n[k]\n",
    "\t\t\t\t\t\t\t\t\telse:  # k == 'item', array  \t\t\t\t\t\t\t\t\t\t\tassert len(d)>0, f'Invalid array {d}'\n",
    "\t\t\t\t\t\t\t\t\t\tassert len(n)>0, f'Invalid array {n}'\n",
    "\t\t\t\t\t\t\t\t\t\tn = n[-1]  # get the last item, when generating, fill the items in order\n",
    "\t\t\t\t\t\t\t\tn.append({})  # append another map to the array\n",
    "\t\t\t\t\t\t\t\tn = n[-1]  # move to the newly created last item  in the  nested array\n",
    "\t\t\t\t\t\t\telse:\n",
    "\t\t\t\t\t\t\t\traise ValueError(f'{event} should not follow {last_event}!')\n",
    "\t\t\t\t\t\tcase 'end_map':\n",
    "\t\t\t\t\t\t\tm = map_array_levels.pop()\n",
    "\t\t\t\t\t\t\tassert m == 'm', f'Invalid map level {m}'\n",
    "\t\t\t\t\t\t\t# if last_event == 'start_map':  #  empty map, no value\n",
    "\t\t\t\t\t\t\t# \t# last_value[name]={}\n",
    "\t\t\t\t\t\t\t# \tpass\n",
    "\t\t\t\t\t\t\tname = ''  # reset map key\n",
    "\n",
    "\t\t\t\t\t\t\tif \"\".join(map_array_levels)==ending_level:  # 'mmama':\n",
    "\t\t\t\t\t\t\t\tbreak\n",
    "\t\t\t\t\t\t\t# elif \".\".join(map_array_levels)==peer_level:\n",
    "\t\t\t\t\t\t\t# \trecord.update(captured)  # absorb the captured into the record\n",
    "\t\t\t\t\t\t\t# \tcaptured = None  # reset the captured\n",
    "\t\t\t\t\t\t\t# else:  # deeper than peer level\n",
    "\t\t\t\t\t\t\t# \tcaptured = record\n",
    "\n",
    "\t\t\t\t\t\tcase 'start_array':\n",
    "\t\t\t\t\t\t\tmap_array_levels.append('a')\n",
    "\t\t\t\t\t\t\tassert last_event == 'map_key', f'{event} should not follow {last_event}!'  # confirm you have the key\n",
    "\t\t\t\t\t\t\tassert record_path[-1]==name, f'Invalid record path {record_path} for {value}! Data corrupted!'  # confirm map key is the last part of the prefixeee\n",
    "\t\t\t\t\t\t\tassert n[name]=='', f'Invalid init map {n[name]}!'  # confirm map key is the last part of the prefixeee \n",
    "\t\t\t\t\t\t\tn.update({name:[]})  # update default nested dict to default nested array\n",
    "\t\t\t\t\t\t\tn = n[name]  # get down the nested array\n",
    "\t\t\t\t\t\tcase 'end_array':\n",
    "\t\t\t\t\t\t\ta = map_array_levels.pop() \n",
    "\t\t\t\t\t\t\tassert a == 'a', f'Invalid array level {a}'\n",
    "\t\t\t\t\t\t\tname = ''\n",
    "\n",
    "\t\t\t\t\t\t\tif \".\".join(map_array_levels)==ending_level: # if we want to extract an array, then we need to go to the peer level \n",
    "\t\t\t\t\t\t\t\tbreak\n",
    "\t\t\t\t\t\tcase 'map_key':\n",
    "\t\t\t\t\t\t\tname = value \n",
    "\t\t\t\t\t\t\tn = record\n",
    "\t\t\t\t\t\t\tfor k in record_path:\n",
    "\t\t\t\t\t\t\t\tif k != 'item':\n",
    "\t\t\t\t\t\t\t\t\tn = n[k]\n",
    "\t\t\t\t\t\t\t\telse:  # k == 'item', array  \t\t\t\t\t\t\t\t\t\t\tassert len(d)>0, f'Invalid array {d}'\n",
    "\t\t\t\t\t\t\t\t\tassert len(n)>0, f'Invalid array {n}'\n",
    "\t\t\t\t\t\t\t\t\tn = n[-1]  # get the last item, when generating, fill the items in order\n",
    "\t\t\t\t\t\t\tn.update({name:''})  # add the key to the map\n",
    "\n",
    "\t\t\t\t\t\tcase 'null' |'boolean' | 'integer' | 'double' | 'number' | 'string':\n",
    "\t\t\t\t\t\t\tassert name!='', f'map key not available!'\n",
    "\t\t\t\t\t\t\tif map_array_levels[-1]=='m':   # last_event=''start_map' is volatile!\n",
    "\t\t\t\t\t\t\t\tn[name]=value  # single key-value pair in the same map \n",
    "\t\t\t\t\t\t\telse:  # map_array_levels[-1] == 'a':\n",
    "\t\t\t\t\t\t\t\tn[name].append(value)\n",
    "\t\t\t\t\t\tcase _:\n",
    "\t\t\t\t\t\t\traise ValueError(f'{event} should not occur! Data corrupted!')\n",
    "\n",
    "\t\t\t\t\tlast_event = event\n",
    "\t\t\t\texcept StopIteration as exc:\n",
    "\t\t\t\t\traise ValueError(f'{leaf} data corrupted!') from exc\n",
    "\t\t\t# for k,v in ijson.kvitems(parse_events, prefix):\n",
    "\t\t\t# \tif k == 'Name': \n",
    "\t\t\t# \t\tif v['Value'] == leaf:\n",
    "\t\t\t# \t\t\tbreak\n",
    "\t\t\t# rec = {k:v for k,v in ijson.kvitems(parse_events, prefix)}\n",
    "\t\t\n",
    "\t\t\trecord_type = set(re.split(r'\\.', prefix)).intersection(set(RecordTypes.__members__.keys()))\n",
    "\t\t\tassert len(record_type)==1, f'Invalid record type/s {record_type}'\n",
    "\t\t\tcategory = record_type.pop()\n",
    "\t\t\tcls_name = Record.subclass_registry.get(category, 'Record')\n",
    "\t\t\tcls = globals().get(cls_name, Record)\n",
    "\n",
    "\t\t\tif inspect.isclass(cls) and issubclass(cls, Record):\n",
    "\t\t\t\tfactory = cls\n",
    "\t\t\telse:\n",
    "\t\t\t\tfactory = Record\n",
    "\t\t\n",
    "\t\t\tkey = f'{cls_name}.{leaf}'\n",
    "\t\t\tregistry[key] = factory(**record)  # create the record object and add it to the record registry\n",
    "\t\t\t\n",
    "\treturn registry"
   ]
  },
  {
   "cell_type": "code",
   "execution_count": null,
   "metadata": {},
   "outputs": [
    {
     "data": {
      "text/plain": [
       "('../res/vbu_sample.json',\n",
       " ['TQD_trqTrqSetNormal_MAP_v',\n",
       "  'VBU_L045A_CWP_05_09T_AImode_CM_single',\n",
       "  'Lookup2D_FLOAT32_IEEE',\n",
       "  'Lookup2D_X_FLOAT32_IEEE',\n",
       "  'Scalar_FLOAT32_IEEE',\n",
       "  'TQD_vVehSpd',\n",
       "  'TQD_vSgndSpd_MAP_y',\n",
       "  'TQD_pctAccPedPosFlt',\n",
       "  'TQD_pctAccPdl_MAP_x'],\n",
       " <JsonNodePath [<PROJECT dict>, <MODULE[] list>]>)"
      ]
     },
     "execution_count": null,
     "metadata": {},
     "output_type": "execute_result"
    }
   ],
   "source": [
    "# jnode_path = '.'.join(jnode_paths[0].lazy_path.split('.')[:-2])\n",
    "args.path, args.leaves, args.node_path"
   ]
  },
  {
   "cell_type": "code",
   "execution_count": null,
   "metadata": {},
   "outputs": [
    {
     "data": {
      "text/plain": [
       "{'CHARACTERISTIC': 'Calibration',\n",
       " 'MEASUREMENT': 'Measurement',\n",
       " 'AXIS_PTS': 'AxisScale',\n",
       " 'COMPU_METHOD': 'DataConversion',\n",
       " 'RECORD_LAYOUT': 'DataLayout'}"
      ]
     },
     "execution_count": null,
     "metadata": {},
     "output_type": "execute_result"
    },
    {
     "data": {
      "text/plain": [
       "['AxisScale.TQD_pctAccPdl_MAP_x',\n",
       " 'AxisScale.TQD_vSgndSpd_MAP_y',\n",
       " 'Calibration.TQD_trqTrqSetNormal_MAP_v',\n",
       " 'DataConversion.VBU_L045A_CWP_05_09T_AImode_CM_single',\n",
       " 'DataLayout.Lookup2D_FLOAT32_IEEE',\n",
       " 'DataLayout.Lookup2D_X_FLOAT32_IEEE',\n",
       " 'DataLayout.Scalar_FLOAT32_IEEE',\n",
       " 'Measurement.TQD_pctAccPedPosFlt',\n",
       " 'Measurement.TQD_vVehSpd']"
      ]
     },
     "execution_count": null,
     "metadata": {},
     "output_type": "execute_result"
    }
   ],
   "source": [
    "Record.load_records(args.path, args.leaves, args.node_path) #, jnode_path= args.node_path.lazy_path)\n",
    "Record.subclass_registry\n",
    "sorted(Record.record_registry)"
   ]
  },
  {
   "cell_type": "code",
   "execution_count": null,
   "metadata": {},
   "outputs": [
    {
     "data": {
      "text/plain": [
       "['TQD_trqTrqSetNormal_MAP_v',\n",
       " 'VBU_L045A_CWP_05_09T_AImode_CM_single',\n",
       " 'Lookup2D_FLOAT32_IEEE',\n",
       " 'Lookup2D_X_FLOAT32_IEEE',\n",
       " 'Scalar_FLOAT32_IEEE',\n",
       " 'TQD_vVehSpd',\n",
       " 'TQD_vSgndSpd_MAP_y',\n",
       " 'TQD_pctAccPedPosFlt',\n",
       " 'TQD_pctAccPdl_MAP_x']"
      ]
     },
     "execution_count": null,
     "metadata": {},
     "output_type": "execute_result"
    }
   ],
   "source": [
    "args.leaves"
   ]
  },
  {
   "cell_type": "code",
   "execution_count": null,
   "metadata": {},
   "outputs": [
    {
     "name": "stdout",
     "output_type": "stream",
     "text": [
      "['Calibration.TQD_trqTrqSetNormal_MAP_v',\n",
      " 'Measurement.TQD_vVehSpd',\n",
      " 'Measurement.TQD_pctAccPedPosFlt',\n",
      " 'AxisScale.TQD_vSgndSpd_MAP_y',\n",
      " 'AxisScale.TQD_pctAccPdl_MAP_x',\n",
      " 'DataConversion.VBU_L045A_CWP_05_09T_AImode_CM_single',\n",
      " 'DataLayout.Scalar_FLOAT32_IEEE',\n",
      " 'DataLayout.Lookup2D_FLOAT32_IEEE',\n",
      " 'DataLayout.Lookup2D_X_FLOAT32_IEEE']\n"
     ]
    },
    {
     "data": {
      "text/plain": [
       "9"
      ]
     },
     "execution_count": null,
     "metadata": {},
     "output_type": "execute_result"
    },
    {
     "name": "stdout",
     "output_type": "stream",
     "text": [
      "AxisScale.TQD_vSgndSpd_MAP_y\n"
     ]
    },
    {
     "data": {
      "text/plain": [
       "(<AxisScale: 'TQD_vSgndSpd_MAP_y'>, <DataLayout: 'Lookup2D_X_FLOAT32_IEEE'>)"
      ]
     },
     "execution_count": null,
     "metadata": {},
     "output_type": "execute_result"
    },
    {
     "data": {
      "text/plain": [
       "{'Name': 'TQD_vSgndSpd_MAP_y',\n",
       " 'LongIdentifier': {},\n",
       " 'Address': {'Value': '1879071450', 'Base': 16, 'Size': 8},\n",
       " 'InputQuantity': {'Value': 'TQD_vVehSpd'},\n",
       " 'DepositR': {'Value': 'Lookup2D_X_FLOAT32_IEEE'},\n",
       " 'MaxDiff': {},\n",
       " 'Conversion': {'Value': 'VBU_L045A_CWP_05_09T_AImode_CM_single'},\n",
       " 'MaxAxisPoints': {'Value': 14, 'Base': 10, 'Size': 2},\n",
       " 'LowerLimit': {'Value': Decimal('-3.4E+38'),\n",
       "  'IntegralSign': '-',\n",
       "  'IntegralSize': 1,\n",
       "  'DecimalSize': 5},\n",
       " 'UpperLimit': {'Value': Decimal('3.4E+38'),\n",
       "  'IntegralSize': 1,\n",
       "  'DecimalSize': 5},\n",
       " 'record_type': <DataLayout: 'Lookup2D_X_FLOAT32_IEEE'>}"
      ]
     },
     "execution_count": null,
     "metadata": {},
     "output_type": "execute_result"
    },
    {
     "name": "stdout",
     "output_type": "stream",
     "text": [
      "AxisScale.TQD_pctAccPdl_MAP_x\n"
     ]
    },
    {
     "data": {
      "text/plain": [
       "(<AxisScale: 'TQD_pctAccPdl_MAP_x'>, <DataLayout: 'Lookup2D_X_FLOAT32_IEEE'>)"
      ]
     },
     "execution_count": null,
     "metadata": {},
     "output_type": "execute_result"
    },
    {
     "data": {
      "text/plain": [
       "{'Name': 'TQD_pctAccPdl_MAP_x',\n",
       " 'LongIdentifier': {},\n",
       " 'Address': {'Value': '1879073310', 'Base': 16, 'Size': 8},\n",
       " 'InputQuantity': {'Value': 'TQD_pctAccPedPosFlt'},\n",
       " 'DepositR': {'Value': 'Lookup2D_X_FLOAT32_IEEE'},\n",
       " 'MaxDiff': {},\n",
       " 'Conversion': {'Value': 'VBU_L045A_CWP_05_09T_AImode_CM_single'},\n",
       " 'MaxAxisPoints': {'Value': 17, 'Base': 10, 'Size': 2},\n",
       " 'LowerLimit': {'Value': Decimal('-3.4E+38'),\n",
       "  'IntegralSign': '-',\n",
       "  'IntegralSize': 1,\n",
       "  'DecimalSize': 5},\n",
       " 'UpperLimit': {'Value': Decimal('3.4E+38'),\n",
       "  'IntegralSize': 1,\n",
       "  'DecimalSize': 5},\n",
       " 'record_type': <DataLayout: 'Lookup2D_X_FLOAT32_IEEE'>}"
      ]
     },
     "execution_count": null,
     "metadata": {},
     "output_type": "execute_result"
    }
   ],
   "source": [
    "records = load_records_lazy(args.path, args.leaves, args.node_path)\n",
    "pprint(list(records.keys()))\n",
    "len(records)\n",
    "key = 'AxisScale.' + args.leaves[6]\n",
    "print(key)\n",
    "measurement = records[key]\n",
    "measurement, measurement.record_type, \n",
    "measurement.__dict__\n",
    "key = 'AxisScale.' + args.leaves[8]\n",
    "print(key)\n",
    "measurement = records[key]\n",
    "measurement, measurement.record_type, \n",
    "measurement.__dict__"
   ]
  },
  {
   "cell_type": "code",
   "execution_count": null,
   "metadata": {},
   "outputs": [
    {
     "name": "stdout",
     "output_type": "stream",
     "text": [
      "Measurement.TQD_vVehSpd\n"
     ]
    },
    {
     "data": {
      "text/plain": [
       "(<Measurement: 'TQD_vVehSpd'>, <DataLayout: 'Scalar_FLOAT32_IEEE'>)"
      ]
     },
     "execution_count": null,
     "metadata": {},
     "output_type": "execute_result"
    },
    {
     "data": {
      "text/plain": [
       "{'Name': 'TQD_vVehSpd',\n",
       " 'LongIdentifier': {},\n",
       " 'DataType': {'Value': 'FLOAT32_IEEE'},\n",
       " 'Conversion': {'Value': 'VBU_L045A_CWP_05_09T_AImode_CM_single'},\n",
       " 'Resolution': {'Base': 10, 'Size': 1},\n",
       " 'Accuracy': {},\n",
       " 'LowerLimit': {'Value': Decimal('-3.4E+38'),\n",
       "  'IntegralSign': '-',\n",
       "  'IntegralSize': 1,\n",
       "  'DecimalSize': 5},\n",
       " 'UpperLimit': {'Value': Decimal('3.4E+38'),\n",
       "  'IntegralSize': 1,\n",
       "  'DecimalSize': 5},\n",
       " 'ECU_ADDRESS': {'Address': {'Value': '1879113976', 'Base': 16, 'Size': 8}},\n",
       " 'record_type': <DataLayout: 'Scalar_FLOAT32_IEEE'>}"
      ]
     },
     "execution_count": null,
     "metadata": {},
     "output_type": "execute_result"
    },
    {
     "name": "stdout",
     "output_type": "stream",
     "text": [
      "Measurement.TQD_pctAccPedPosFlt\n"
     ]
    },
    {
     "data": {
      "text/plain": [
       "(<Measurement: 'TQD_pctAccPedPosFlt'>, <DataLayout: 'Scalar_FLOAT32_IEEE'>)"
      ]
     },
     "execution_count": null,
     "metadata": {},
     "output_type": "execute_result"
    },
    {
     "data": {
      "text/plain": [
       "{'Name': 'TQD_pctAccPedPosFlt',\n",
       " 'LongIdentifier': {},\n",
       " 'DataType': {'Value': 'FLOAT32_IEEE'},\n",
       " 'Conversion': {'Value': 'VBU_L045A_CWP_05_09T_AImode_CM_single'},\n",
       " 'Resolution': {'Base': 10, 'Size': 1},\n",
       " 'Accuracy': {},\n",
       " 'LowerLimit': {'Value': Decimal('-3.4E+38'),\n",
       "  'IntegralSign': '-',\n",
       "  'IntegralSize': 1,\n",
       "  'DecimalSize': 5},\n",
       " 'UpperLimit': {'Value': Decimal('3.4E+38'),\n",
       "  'IntegralSize': 1,\n",
       "  'DecimalSize': 5},\n",
       " 'ECU_ADDRESS': {'Address': {'Value': '1879113888', 'Base': 16, 'Size': 8}},\n",
       " 'record_type': <DataLayout: 'Scalar_FLOAT32_IEEE'>}"
      ]
     },
     "execution_count": null,
     "metadata": {},
     "output_type": "execute_result"
    }
   ],
   "source": [
    "key = 'Measurement.' + args.leaves[5]\n",
    "print(key)\n",
    "measurement = records[key]\n",
    "measurement, measurement.record_type, \n",
    "measurement.__dict__\n",
    "key = 'Measurement.' + args.leaves[7]\n",
    "print(key)\n",
    "measurement = records[key]\n",
    "measurement, measurement.record_type, \n",
    "measurement.__dict__"
   ]
  },
  {
   "cell_type": "code",
   "execution_count": null,
   "metadata": {},
   "outputs": [
    {
     "name": "stdout",
     "output_type": "stream",
     "text": [
      "DataLayout.Scalar_FLOAT32_IEEE\n"
     ]
    },
    {
     "data": {
      "text/plain": [
       "(<DataLayout: 'Scalar_FLOAT32_IEEE'>, 'FLOAT32_IEEE')"
      ]
     },
     "execution_count": null,
     "metadata": {},
     "output_type": "execute_result"
    },
    {
     "data": {
      "text/plain": [
       "{'Name': 'Scalar_FLOAT32_IEEE',\n",
       " 'FNC_VALUES': {'Position': {'Value': 1, 'Base': 10, 'Size': 1},\n",
       "  'DataType': {'Value': 'FLOAT32_IEEE'},\n",
       "  'IndexMode': 'COLUMN_DIR',\n",
       "  'AddressType': {'Value': 'DIRECT'}}}"
      ]
     },
     "execution_count": null,
     "metadata": {},
     "output_type": "execute_result"
    },
    {
     "name": "stdout",
     "output_type": "stream",
     "text": [
      "DataLayout.Lookup2D_X_FLOAT32_IEEE\n"
     ]
    },
    {
     "data": {
      "text/plain": [
       "(<DataLayout: 'Lookup2D_X_FLOAT32_IEEE'>, 'FLOAT32_IEEE')"
      ]
     },
     "execution_count": null,
     "metadata": {},
     "output_type": "execute_result"
    },
    {
     "data": {
      "text/plain": [
       "{'Name': 'Lookup2D_X_FLOAT32_IEEE',\n",
       " 'AXIS_PTS_X': {'Position': {'Value': 1, 'Base': 10, 'Size': 1},\n",
       "  'DataType': {'Value': 'FLOAT32_IEEE'},\n",
       "  'IndexIncr': {'Value': 'INDEX_INCR'},\n",
       "  'Addressing': {'Value': 'DIRECT'}}}"
      ]
     },
     "execution_count": null,
     "metadata": {},
     "output_type": "execute_result"
    }
   ],
   "source": [
    "key = 'DataLayout.' + args.leaves[4]\n",
    "print(key)\n",
    "record_type = records[key]\n",
    "record_type, record_type.data_type, \n",
    "record_type.__dict__\n",
    "key = 'DataLayout.' + args.leaves[3]\n",
    "print(key)\n",
    "record_type = records[key]\n",
    "record_type, record_type.data_type, \n",
    "record_type.__dict__"
   ]
  },
  {
   "cell_type": "code",
   "execution_count": null,
   "metadata": {},
   "outputs": [
    {
     "name": "stdout",
     "output_type": "stream",
     "text": [
      "Calibration.TQD_trqTrqSetNormal_MAP_v\n"
     ]
    },
    {
     "data": {
      "text/plain": [
       "<Calibration: 'TQD_trqTrqSetNormal_MAP_v'>"
      ]
     },
     "execution_count": null,
     "metadata": {},
     "output_type": "execute_result"
    }
   ],
   "source": [
    "key = 'Calibration.' + args.leaves[0]\n",
    "print(key)\n",
    "records[key]"
   ]
  },
  {
   "cell_type": "code",
   "execution_count": null,
   "metadata": {},
   "outputs": [
    {
     "name": "stdout",
     "output_type": "stream",
     "text": [
      "<Calibration: 'TQD_trqTrqSetNormal_MAP_v'>\n"
     ]
    },
    {
     "data": {
      "text/plain": [
       "<Measurement: 'TQD_vVehSpd'>"
      ]
     },
     "execution_count": null,
     "metadata": {},
     "output_type": "execute_result"
    },
    {
     "data": {
      "text/plain": [
       "<DataLayout: 'Scalar_FLOAT32_IEEE'>"
      ]
     },
     "execution_count": null,
     "metadata": {},
     "output_type": "execute_result"
    },
    {
     "data": {
      "text/plain": [
       "4"
      ]
     },
     "execution_count": null,
     "metadata": {},
     "output_type": "execute_result"
    }
   ],
   "source": [
    "calib = Record.fetch(key)\n",
    "pprint(calib)\n",
    "\n",
    "calib.axes[0].axis_scale.input\n",
    "calib.axes[0].axis_scale.input.record_type\n",
    "calib.axes[0].axis_scale.input.record_type.type_size\n",
    "\n"
   ]
  },
  {
   "cell_type": "code",
   "execution_count": null,
   "metadata": {},
   "outputs": [
    {
     "data": {
      "text/plain": [
       "<DataLayout: 'Lookup2D_FLOAT32_IEEE'>"
      ]
     },
     "execution_count": null,
     "metadata": {},
     "output_type": "execute_result"
    },
    {
     "data": {
      "text/plain": [
       "'FLOAT32_IEEE'"
      ]
     },
     "execution_count": null,
     "metadata": {},
     "output_type": "execute_result"
    },
    {
     "data": {
      "text/plain": [
       "4"
      ]
     },
     "execution_count": null,
     "metadata": {},
     "output_type": "execute_result"
    },
    {
     "data": {
      "text/plain": [
       "4"
      ]
     },
     "execution_count": null,
     "metadata": {},
     "output_type": "execute_result"
    }
   ],
   "source": [
    "calib.record_type\n",
    "calib.record_type.data_type\n",
    "calib.record_type.type_size\n",
    "calib.axes[0].axis_scale.record_type.type_size"
   ]
  },
  {
   "cell_type": "code",
   "execution_count": null,
   "metadata": {},
   "outputs": [
    {
     "data": {
      "text/plain": [
       "<DataLayout: 'Scalar_FLOAT32_IEEE'>"
      ]
     },
     "execution_count": null,
     "metadata": {},
     "output_type": "execute_result"
    },
    {
     "data": {
      "text/plain": [
       "4"
      ]
     },
     "execution_count": null,
     "metadata": {},
     "output_type": "execute_result"
    },
    {
     "data": {
      "text/plain": [
       "<DataConversion: 'VBU_L045A_CWP_05_09T_AImode_CM_single'>"
      ]
     },
     "execution_count": null,
     "metadata": {},
     "output_type": "execute_result"
    },
    {
     "data": {
      "text/plain": [
       "{'Value': '%8.6'}"
      ]
     },
     "execution_count": null,
     "metadata": {},
     "output_type": "execute_result"
    }
   ],
   "source": [
    "calib.axes[0].axis_scale.input.record_type\n",
    "calib.axes[0].axis_scale.input.record_type.type_size\n",
    "calib.axes[0].axis_scale.data_conversion\n",
    "calib.axes[0].data_conversion.Format"
   ]
  },
  {
   "cell_type": "code",
   "execution_count": null,
   "metadata": {},
   "outputs": [
    {
     "name": "stdout",
     "output_type": "stream",
     "text": [
      "<Calibration: 'TQD_trqTrqSetNormal_MAP_v'>\n",
      "<Measurement: 'TQD_vVehSpd'>\n",
      "<Measurement: 'TQD_pctAccPedPosFlt'>\n",
      "<AxisScale: 'TQD_vSgndSpd_MAP_y'>\n",
      "<AxisScale: 'TQD_pctAccPdl_MAP_x'>\n",
      "<DataConversion: 'VBU_L045A_CWP_05_09T_AImode_CM_single'>\n",
      "<DataLayout: 'Scalar_FLOAT32_IEEE'>\n",
      "<DataLayout: 'Lookup2D_FLOAT32_IEEE'>\n",
      "<DataLayout: 'Lookup2D_X_FLOAT32_IEEE'>\n",
      "'VBU_L045A_CWP_05_09T_AImode_CM_single'\n"
     ]
    }
   ],
   "source": [
    "\n",
    "for k,v in records.items():\n",
    "\tpprint(v)\n",
    "\n",
    "pprint(records['Calibration.TQD_trqTrqSetNormal_MAP_v'].axes[0].measurement.data_conversion.Name)"
   ]
  },
  {
   "cell_type": "code",
   "execution_count": null,
   "metadata": {},
   "outputs": [
    {
     "data": {
      "text/plain": [
       "True"
      ]
     },
     "execution_count": null,
     "metadata": {},
     "output_type": "execute_result"
    }
   ],
   "source": [
    "'0' < '1'"
   ]
  },
  {
   "cell_type": "code",
   "execution_count": null,
   "metadata": {},
   "outputs": [],
   "source": [
    "#| export\n",
    "class XCPConfig(BaseModel):\n",
    "\t\"\"\"XCP configuration for the calibration parameter\"\"\"\n",
    "\tchannel: int = Field(default=3, ge=0, le=10000, description='XCP channel')\n",
    "\tdownload_can_id: str = Field(default='630', ge='0', alias='download', validate_default=True, description='CAN ID for download')\n",
    "\tupload_can_id: str = Field(default='631', ge='0', alias='upload', validate_default=True, description='CAN ID for upload')\n"
   ]
  },
  {
   "cell_type": "code",
   "execution_count": null,
   "metadata": {},
   "outputs": [
    {
     "name": "stdout",
     "output_type": "stream",
     "text": [
      "{'channel': 3, 'download_can_id': '630', 'upload_can_id': '631'}\n"
     ]
    },
    {
     "data": {
      "text/plain": [
       "{'channel': 3, 'download_can_id': '630', 'upload_can_id': '631'}"
      ]
     },
     "execution_count": null,
     "metadata": {},
     "output_type": "execute_result"
    }
   ],
   "source": [
    "\n",
    "config = XCPConfig(channel=3, download='630', upload='631')\n",
    "c = config.model_dump()\n",
    "pprint(c)\n",
    "{**c}"
   ]
  },
  {
   "cell_type": "code",
   "execution_count": null,
   "metadata": {},
   "outputs": [],
   "source": [
    "#| export\n",
    "class XCPData(BaseModel):\n",
    "\t\"\"\"XCP data for the calibration parameter\"\"\"\n",
    "\tname: str = Field(default='TQD_trqTrqSetNormal_MAP_v', description='XCP calibration name')\n",
    "\taddress: Optional[str] = Field(default='7000aa2a',pattern=r'^[0-9A-Fa-f]{8}$', description='Target Ecu address')\n",
    "\tdim: conlist(Annotated[int,Field(gt=0,lt=50)],min_length=2,max_length=2)\n",
    "\tvalue_type: str = Field(default='FLOAT32_IEEE', description='XCP data type')\n",
    "\tvalue_length: int = Field(default=4,multiple_of=2,gt=0,description='XCP data type length in Bytes')\n",
    "\tvalue: str = Field(pattern=r'^[0-9A-Fa-f]{0,3000}$',  min_length=1, max_length=3000, description='XCP calbiration data')\n",
    "\n",
    "\tdef __repr__(self) -> str:\n",
    "\t\treturn pformat(self.__dict__)"
   ]
  },
  {
   "cell_type": "code",
   "execution_count": null,
   "metadata": {},
   "outputs": [],
   "source": [
    "#| export\n",
    "def Get_Init_XCPData(path: Path=Path('../res/init_value_17rows.json'))->List[XCPData]:\n",
    "\n",
    "\txcp_data = []\n",
    "\twith open(path) as f:   \n",
    "\t\tinit_values = json.load(f)\n",
    "\t\tdata = init_values['data']\n",
    "\t\tfor v in data:\n",
    "\t\t\txcp_data.append(XCPData(**v))\n",
    "\t\n",
    "\treturn xcp_data"
   ]
  },
  {
   "cell_type": "code",
   "execution_count": null,
   "metadata": {},
   "outputs": [
    {
     "data": {
      "text/plain": [
       "2"
      ]
     },
     "execution_count": null,
     "metadata": {},
     "output_type": "execute_result"
    },
    {
     "data": {
      "text/plain": [
       "({'address': '7000aa2a',\n",
       "  'dim': [21, 17],\n",
       "  'name': 'TQD_trqTrqSetNormal_MAP_v',\n",
       "  'value': '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',\n",
       "  'value_length': 4,\n",
       "  'value_type': 'FLOAT32_IEEE'},\n",
       " 'value byte length: 2856')"
      ]
     },
     "execution_count": null,
     "metadata": {},
     "output_type": "execute_result"
    },
    {
     "data": {
      "text/plain": [
       "({'address': '7000aa2a',\n",
       "  'dim': [21, 17],\n",
       "  'name': 'TQD_trqTrqSetECO_MAP_v',\n",
       "  'value': '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',\n",
       "  'value_length': 4,\n",
       "  'value_type': 'FLOAT32_IEEE'},\n",
       " 'value byte length: 2856')"
      ]
     },
     "execution_count": null,
     "metadata": {},
     "output_type": "execute_result"
    },
    {
     "data": {
      "text/plain": [
       "{'data': {'name': 'TQD_trqTrqSetNormal_MAP_v',\n",
       "  'address': '7000aa2a',\n",
       "  'dim': [21, 17],\n",
       "  'value_type': 'FLOAT32_IEEE',\n",
       "  'value_length': 4,\n",
       "  'value': '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'}}"
      ]
     },
     "execution_count": null,
     "metadata": {},
     "output_type": "execute_result"
    }
   ],
   "source": [
    "xcp_data = Get_Init_XCPData('../res/init_value_17rows.json')\n",
    "len(xcp_data)\n",
    "xcp_data[0], f'value byte length: {len(xcp_data[0].value)}'\n",
    "xcp_data[1], f'value byte length: {len(xcp_data[1].value)}'\n",
    "{'data': xcp_data[0].model_dump()}"
   ]
  },
  {
   "cell_type": "code",
   "execution_count": null,
   "metadata": {},
   "outputs": [],
   "source": [
    "#| export\n",
    "class XCPCalib(BaseModel):\n",
    "\t\"\"\"XCP calibration parameter\"\"\"\n",
    "\tconfig: XCPConfig = Field(default_factory=XCPConfig, description='XCP configuration')\n",
    "\tdata: List[XCPData] = Field(default_factory=List[XCPData], description='list of XCP calibration data')\n",
    "\n",
    "\t# @model_serializer\n",
    "\t# def ser_model(self):\n",
    "\t# \tdata = [d.model_dump() for d in self.data]\n",
    "\t# \tres = self.config.model_dump(), \n",
    "\t# \tres.update({'data': data})\n",
    "\t\t# return res"
   ]
  },
  {
   "cell_type": "code",
   "execution_count": null,
   "metadata": {},
   "outputs": [],
   "source": [
    "#| export\n",
    "def Get_XCPCalib_From_XCP(path: Path=Path('../res/download.json'))->List[XCPData]:\n",
    "\n",
    "\twith open(path) as f:   \n",
    "\t\td = json.load(f)\n",
    "\t\tdata = d['data']\n",
    "\t\txcp_data = []\n",
    "\t\tfor v in data:\n",
    "\t\t\txcp_data.append(XCPData(**v))\n",
    "\n",
    "\t\tconfig =d['config']\n",
    "\t\txcp_config = XCPConfig(config=config)\n",
    "\t\n",
    "\txcp_calib = XCPCalib(config=xcp_config, data=xcp_data)\n",
    "\t\n",
    "\treturn xcp_calib"
   ]
  },
  {
   "cell_type": "code",
   "execution_count": null,
   "metadata": {},
   "outputs": [],
   "source": [
    "#| export\n",
    "def Generate_XCPData(\n",
    "\t\ta2l: Path=Path('../res/vbu_sample.json'), \n",
    "\t\tkeys: List[str]=['TQD_trqTrqSetNormal_MAP_v',\n",
    "\t\t\t\t\t\"VBU_L045A_CWP_05_09T_AImode_CM_single\",\n",
    "\t\t\t\t\t\"Lookup2D_FLOAT32_IEEE\",\n",
    "\t\t\t\t\t\"Lookup2D_X_FLOAT32_IEEE, \" \n",
    "\t\t\t\t\t\"TQD_vVehSpd\",\n",
    "\t\t\t\t\t\"TQD_vSgndSpd_MAP_y\",\n",
    "\t\t\t\t\t\"TQD_pctAccPedPosFlt\",\n",
    "\t\t\t\t\t\"TQD_pctAccPdl_MAP_x\"],\n",
    "\t\tnode_path: str='/PROJECT/MODULE[]',\n",
    "\t\tdefault_xcpdata: str=2856*'0')->XCPCalib:\n",
    "\t\"\"\"Generate XCP calibration parameter from A2L file and calibration parameter name\n",
    "\n",
    "\tArgs:\n",
    "\t\ta2l (Path): path to the A2L file\n",
    "\t\tcalib (str): calibration parameter name\n",
    "\n",
    "\tReturns:\n",
    "\t\tXCPCalib: XCP calibration parameter\n",
    "\t\"\"\"\n",
    "\n",
    "\t# load calibration parameter from A2L file\n",
    "\tcalibs = load_records_lazy(a2l, keys, JsonNodePath(node_path))\n",
    "\tidx = 'Calibration.' + keys[0]\n",
    "\tcalib = calibs[idx]\n",
    "\n",
    "\t# create XCP calibration parameter\n",
    "\txcp_data = XCPData(name=calib.Name, \n",
    "\t\t\t\t\taddress=calib.address, \n",
    "\t\t\t\t\tdim=[calib.axes[0].MaxAxisPoints['Value'],\n",
    "\t\t\t\t\t\tcalib.axes[1].MaxAxisPoints['Value']], \n",
    "\t\t\t\t\tvalue_type=calib.record_type.data_type,\n",
    "\t\t\t\t\tvalue_length=calib.record_type.type_size,\n",
    "\t\t\t\t\tvalue=default_xcpdata)\n",
    "\n",
    "\treturn xcp_data"
   ]
  },
  {
   "cell_type": "code",
   "execution_count": null,
   "metadata": {},
   "outputs": [
    {
     "data": {
      "text/plain": [
       "(['TQD_trqTrqSetNormal_MAP_v',\n",
       "  'VBU_L045A_CWP_05_09T_AImode_CM_single',\n",
       "  'Lookup2D_FLOAT32_IEEE',\n",
       "  'Lookup2D_X_FLOAT32_IEEE',\n",
       "  'Scalar_FLOAT32_IEEE',\n",
       "  'TQD_vVehSpd',\n",
       "  'TQD_vSgndSpd_MAP_y',\n",
       "  'TQD_pctAccPedPosFlt',\n",
       "  'TQD_pctAccPdl_MAP_x'],\n",
       " '/PROJECT/MODULE[], ')"
      ]
     },
     "execution_count": null,
     "metadata": {},
     "output_type": "execute_result"
    }
   ],
   "source": [
    "args.leaves, args.node_path.node_path_str"
   ]
  },
  {
   "cell_type": "code",
   "execution_count": null,
   "metadata": {},
   "outputs": [],
   "source": [
    "\n",
    "init_xcpdata = Get_Init_XCPData('../res/init_value_17rows.json')\n",
    "# xcp_data[0].name, xcp_data[0].dim, xcp_data[0].value_type, xcp_data[0].value_length, len(xcp_data[0].value)\n",
    "xcp_data = Generate_XCPData(a2l=Path('../res/VBU_AI.json'),\n",
    "\t\t\t\t\t\t\tkeys=args.leaves,\n",
    "\t\t\t\t\t\t\tnode_path=args.node_path.node_path_str,\n",
    "\t\t\t\t\t\t\tdefault_xcpdata=init_xcpdata[0].value)"
   ]
  },
  {
   "cell_type": "code",
   "execution_count": null,
   "metadata": {},
   "outputs": [
    {
     "name": "stdout",
     "output_type": "stream",
     "text": [
      "{'address': '7000aa2a',\n",
      " 'dim': [14, 17],\n",
      " 'name': 'TQD_trqTrqSetNormal_MAP_v',\n",
      " 'value': '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',\n",
      " 'value_length': 4,\n",
      " 'value_type': 'FLOAT32_IEEE'}\n"
     ]
    }
   ],
   "source": [
    "pprint(xcp_data.__dict__)"
   ]
  },
  {
   "cell_type": "code",
   "execution_count": null,
   "metadata": {},
   "outputs": [
    {
     "data": {
      "text/plain": [
       "{'Calibration.TQD_trqTrqSetNormal_MAP_v': <Calibration: 'TQD_trqTrqSetNormal_MAP_v'>,\n",
       " 'Measurement.TQD_vVehSpd': <Measurement: 'TQD_vVehSpd'>,\n",
       " 'Measurement.TQD_pctAccPedPosFlt': <Measurement: 'TQD_pctAccPedPosFlt'>,\n",
       " 'AxisScale.TQD_vSgndSpd_MAP_y': <AxisScale: 'TQD_vSgndSpd_MAP_y'>,\n",
       " 'AxisScale.TQD_pctAccPdl_MAP_x': <AxisScale: 'TQD_pctAccPdl_MAP_x'>,\n",
       " 'DataConversion.VBU_L045A_CWP_05_09T_AImode_CM_single': <DataConversion: 'VBU_L045A_CWP_05_09T_AImode_CM_single'>,\n",
       " 'DataLayout.Scalar_FLOAT32_IEEE': <DataLayout: 'Scalar_FLOAT32_IEEE'>,\n",
       " 'DataLayout.Lookup2D_FLOAT32_IEEE': <DataLayout: 'Lookup2D_FLOAT32_IEEE'>,\n",
       " 'DataLayout.Lookup2D_X_FLOAT32_IEEE': <DataLayout: 'Lookup2D_X_FLOAT32_IEEE'>}"
      ]
     },
     "execution_count": null,
     "metadata": {},
     "output_type": "execute_result"
    }
   ],
   "source": [
    "Record.record_registry"
   ]
  },
  {
   "cell_type": "code",
   "execution_count": null,
   "metadata": {},
   "outputs": [
    {
     "data": {
      "text/plain": [
       "'FLOAT32_IEEE'"
      ]
     },
     "execution_count": null,
     "metadata": {},
     "output_type": "execute_result"
    }
   ],
   "source": [
    "key = 'DataLayout.FLOAT32_IEEE'\n",
    "key.split('.')[-1]"
   ]
  },
  {
   "cell_type": "code",
   "execution_count": null,
   "metadata": {},
   "outputs": [
    {
     "name": "stdout",
     "output_type": "stream",
     "text": [
      "<Calibration: 'TQD_trqTrqSetNormal_MAP_v'>\n"
     ]
    },
    {
     "data": {
      "text/plain": [
       "<DataLayout: 'Lookup2D_FLOAT32_IEEE'>"
      ]
     },
     "execution_count": null,
     "metadata": {},
     "output_type": "execute_result"
    },
    {
     "data": {
      "text/plain": [
       "<DataLayout: 'Lookup2D_X_FLOAT32_IEEE'>"
      ]
     },
     "execution_count": null,
     "metadata": {},
     "output_type": "execute_result"
    },
    {
     "data": {
      "text/plain": [
       "'FLOAT32_IEEE'"
      ]
     },
     "execution_count": null,
     "metadata": {},
     "output_type": "execute_result"
    }
   ],
   "source": [
    "calib = Record.fetch('Calibration.TQD_trqTrqSetNormal_MAP_v')\n",
    "pprint(calib)\n",
    "\n",
    "calib.record_type\n",
    "calib.axes[0].axis_scale.record_type\n",
    "calib.axes[0].axis_scale.record_type.data_type"
   ]
  },
  {
   "cell_type": "code",
   "execution_count": null,
   "metadata": {},
   "outputs": [
    {
     "data": {
      "text/plain": [
       "<Measurement: 'TQD_vVehSpd'>"
      ]
     },
     "execution_count": null,
     "metadata": {},
     "output_type": "execute_result"
    },
    {
     "data": {
      "text/plain": [
       "'700100f8'"
      ]
     },
     "execution_count": null,
     "metadata": {},
     "output_type": "execute_result"
    },
    {
     "data": {
      "text/plain": [
       "<DataLayout: 'Scalar_FLOAT32_IEEE'>"
      ]
     },
     "execution_count": null,
     "metadata": {},
     "output_type": "execute_result"
    },
    {
     "data": {
      "text/plain": [
       "'FLOAT32_IEEE'"
      ]
     },
     "execution_count": null,
     "metadata": {},
     "output_type": "execute_result"
    },
    {
     "data": {
      "text/plain": [
       "<DataLayout: 'Lookup2D_X_FLOAT32_IEEE'>"
      ]
     },
     "execution_count": null,
     "metadata": {},
     "output_type": "execute_result"
    },
    {
     "data": {
      "text/plain": [
       "<DataConversion: 'VBU_L045A_CWP_05_09T_AImode_CM_single'>"
      ]
     },
     "execution_count": null,
     "metadata": {},
     "output_type": "execute_result"
    },
    {
     "data": {
      "text/plain": [
       "{'Value': '%8.6'}"
      ]
     },
     "execution_count": null,
     "metadata": {},
     "output_type": "execute_result"
    }
   ],
   "source": [
    "calib.axes[0].axis_scale.input\n",
    "calib.axes[0].axis_scale.input.address\n",
    "calib.axes[0].axis_scale.input.record_type\n",
    "calib.axes[0].axis_scale.input.record_type.data_type\n",
    "calib.axes[0].axis_scale.record_type\n",
    "calib.axes[0].axis_scale.data_conversion\n",
    "calib.axes[0].data_conversion.Format\n"
   ]
  },
  {
   "cell_type": "code",
   "execution_count": null,
   "metadata": {},
   "outputs": [
    {
     "data": {
      "text/plain": [
       "<Measurement: 'TQD_pctAccPedPosFlt'>"
      ]
     },
     "execution_count": null,
     "metadata": {},
     "output_type": "execute_result"
    },
    {
     "data": {
      "text/plain": [
       "'700100a0'"
      ]
     },
     "execution_count": null,
     "metadata": {},
     "output_type": "execute_result"
    },
    {
     "data": {
      "text/plain": [
       "<DataLayout: 'Scalar_FLOAT32_IEEE'>"
      ]
     },
     "execution_count": null,
     "metadata": {},
     "output_type": "execute_result"
    },
    {
     "data": {
      "text/plain": [
       "'FLOAT32_IEEE'"
      ]
     },
     "execution_count": null,
     "metadata": {},
     "output_type": "execute_result"
    },
    {
     "data": {
      "text/plain": [
       "<DataLayout: 'Lookup2D_X_FLOAT32_IEEE'>"
      ]
     },
     "execution_count": null,
     "metadata": {},
     "output_type": "execute_result"
    },
    {
     "data": {
      "text/plain": [
       "<DataConversion: 'VBU_L045A_CWP_05_09T_AImode_CM_single'>"
      ]
     },
     "execution_count": null,
     "metadata": {},
     "output_type": "execute_result"
    },
    {
     "data": {
      "text/plain": [
       "{'Value': '%8.6'}"
      ]
     },
     "execution_count": null,
     "metadata": {},
     "output_type": "execute_result"
    }
   ],
   "source": [
    "calib.axes[1].axis_scale.input\n",
    "calib.axes[1].axis_scale.input.address\n",
    "calib.axes[1].axis_scale.input.record_type\n",
    "calib.axes[1].axis_scale.input.record_type.data_type\n",
    "calib.axes[1].axis_scale.record_type\n",
    "calib.axes[1].axis_scale.data_conversion\n",
    "calib.axes[1].data_conversion.Format"
   ]
  },
  {
   "cell_type": "code",
   "execution_count": null,
   "metadata": {},
   "outputs": [],
   "source": [
    "#| export\n",
    "def load_a2l_lazy(path: Path, leaves: list[str])->dict:\n",
    "\t\"\"\" Search for the calibration key in the A2L file.\n",
    "\tDescripttion: Load the A2L file as a dictionary.\n",
    "\n",
    "\tArgs:\n",
    "\t\tpath (str): The path to the A2L file.\n",
    "\t\tcalib_key (str): The node path to the calibration parameters.\n",
    "\n",
    "\tReturns:\n",
    "\t\tdict: The A2L file as a dictionary.\n",
    "\t\"\"\"\n",
    "\trecords = []\n",
    "\tfor leaf in leaves:\n",
    "\t\tprefix = ''\n",
    "\t\twith open(path, \"r\") as f:\n",
    "\t\t\tparser = ijson.parse(f)\n",
    "\t\t\twhile True:\n",
    "\t\t\t\tprefix, event, value = next(parser)\n",
    "\t\t\t\tif value == leaf:\n",
    "\t\t\t\t\tbreak\n",
    "\t\t\telse:\n",
    "\t\t\t\traise ValueError(f'Key {key} not found in the A2L file.')\n",
    "\t\t\t\n",
    "\t\t\tprefix = \".\".join(prefix.split('.')[:-2])  # remove the last two segments \"Name\" and \"Value\", return to the root of  the item\n",
    "\t\t\tobjects =  ijson.kvitems(parser, prefix)\n",
    "\t\t\trecord  = {k:v for k,v in objects}\n",
    "\t\t\trecord['Name'] = leaf   # add the calibration key as name back to the record\n",
    "\t\t\trecords.append(record)\n",
    "\n",
    "\treturn records"
   ]
  },
  {
   "cell_type": "code",
   "execution_count": null,
   "metadata": {},
   "outputs": [
    {
     "data": {
      "text/plain": [
       "('../res/VBU_AI.json',\n",
       " ['TQD_trqTrqSetNormal_MAP_v',\n",
       "  'VBU_L045A_CWP_05_09T_AImode_CM_single',\n",
       "  'Lookup2D_FLOAT32_IEEE',\n",
       "  'Lookup2D_X_FLOAT32_IEEE',\n",
       "  'TQD_vVehSpd',\n",
       "  'TQD_vSgndSpd_MAP_y',\n",
       "  'TQD_pctAccPedPosFlt',\n",
       "  'TQD_pctAccPdl_MAP_x'],\n",
       " <JsonNodePath [<PROJECT dict>, <MODULE[] list>]>)"
      ]
     },
     "execution_count": null,
     "metadata": {},
     "output_type": "execute_result"
    }
   ],
   "source": [
    "# parser = get_argparser()\n",
    "args = parser.parse_args(\n",
    "\t[\n",
    "\t\t\"-p\",\n",
    "\t\t# r\"../res/VBU_AI.json\",\n",
    "\t\tr\"../res/VBU_AI.json\",\n",
    "\t\t\"-n\",\n",
    "\t\tr\"/PROJECT/MODULE[], \",\n",
    "\t\t# r\"/PROJECT/MODULE[]/CHARACTERISTIC[], \"\n",
    "\t\t# \tr\"/PROJECT/MODULE[]/MEASUREMENT[], \"\n",
    "\t\t# \tr\"/PROJECT/MODULE[]/AXIS_PTS[], \"\n",
    "\t\t# \tr\"/PROJECT/MODULE[]/COMPU_METHOD[]\",\n",
    "\t\t\"-l\",\n",
    "\t\tr\"TQD_trqTrqSetNormal_MAP_v, \" \n",
    "\t\t\t\tr\"VBU_L045A_CWP_05_09T_AImode_CM_single, \" \n",
    "\t\t\t\tr\"Lookup2D_FLOAT32_IEEE, \"\n",
    "\t\t\t\tr\"Lookup2D_X_FLOAT32_IEEE, \"\n",
    "\t\t\t\tr\"TQD_vVehSpd, \"\n",
    "\t\t\t\tr\"TQD_vSgndSpd_MAP_y, \"\n",
    "\t\t\t\tr\"TQD_pctAccPedPosFlt, \"\n",
    "\t\t\t\tr\"TQD_pctAccPdl_MAP_x\",\n",
    "\t]\n",
    ")\n",
    "# args.__dict__\n",
    "args.path, args.leaves, args.node_path"
   ]
  },
  {
   "cell_type": "code",
   "execution_count": null,
   "metadata": {},
   "outputs": [],
   "source": [
    "#| export\n",
    "def load_a2l_eager(path: Path, jnode_path: JsonNodePath=JsonNodePath('/PROJECT/MODULE[]'))->dict:\n",
    "\t\"\"\" Load the A2L file as a dictionary.\n",
    "\tDescripttion: Load the A2L file as a dictionary.\n",
    "\n",
    "\tArgs:\n",
    "\t\tpath (Path): The path to the A2L file.\n",
    "\t\tnode (str): The node to search for, e.g. \"/PROJECT/MODULE[0]/CHARACTERISTIC\".\n",
    "\n",
    "\tReturns:\n",
    "\t\tdict: The A2L file as a dictionary.\n",
    "\t\"\"\"\n",
    "\trecords = {}\n",
    "\tpath_list = re.split(r'\\.', jnode_path.lazy_path)[:-1]\n",
    "\twith open(path, \"r\") as f:\n",
    "\t\tn = json.load(f)\n",
    "\t\tfor p in path_list:\n",
    "\t\t\tn = n[p] \n",
    "\t\t# only the first module is used\n",
    "\t\t# sections = ['CHARACTERISTIC', 'MEASUREMENT', 'AXIS_PTS', 'COMPU_METHOD']\n",
    "\t\t# for s in sections:\n",
    "\t\t# \tfor key, value in n[s].items():\n",
    "\t\t# \t\tprint(key, value)\n",
    "\t\t\t\t# if prefix.endswith(\".ECU_ADDRESS\"):\n",
    "\t\t\t\t# \tyield value\n",
    "\t\t\t# a2l = json.load(f)\n",
    "\treturn n"
   ]
  },
  {
   "cell_type": "code",
   "execution_count": null,
   "metadata": {},
   "outputs": [
    {
     "data": {
      "text/plain": [
       "('../res/VBU_AI.json',\n",
       " <JsonNodePath [<PROJECT dict>, <MODULE[] list>]>,\n",
       " ['TQD_trqTrqSetNormal_MAP_v',\n",
       "  'VBU_L045A_CWP_05_09T_AImode_CM_single',\n",
       "  'Lookup2D_FLOAT32_IEEE',\n",
       "  'Lookup2D_X_FLOAT32_IEEE',\n",
       "  'TQD_vVehSpd',\n",
       "  'TQD_vSgndSpd_MAP_y',\n",
       "  'TQD_pctAccPedPosFlt',\n",
       "  'TQD_pctAccPdl_MAP_x'])"
      ]
     },
     "execution_count": null,
     "metadata": {},
     "output_type": "execute_result"
    }
   ],
   "source": [
    "args.path, args.node_path, args.leaves"
   ]
  },
  {
   "cell_type": "code",
   "execution_count": null,
   "metadata": {},
   "outputs": [
    {
     "name": "stdout",
     "output_type": "stream",
     "text": [
      "178 ms ± 0 ns per loop (mean ± std. dev. of 1 run, 1 loop each)\n"
     ]
    }
   ],
   "source": [
    "%%timeit -n 1 -r 1\n",
    "records = load_records_lazy(args.path, args.leaves, args.node_path)"
   ]
  },
  {
   "cell_type": "code",
   "execution_count": null,
   "metadata": {},
   "outputs": [
    {
     "name": "stdout",
     "output_type": "stream",
     "text": [
      "764 ms ± 0 ns per loop (mean ± std. dev. of 1 run, 1 loop each)\n"
     ]
    }
   ],
   "source": [
    "%%timeit -n 1 -r 1\n",
    "records = load_a2l_lazy(args.path, args.leaves)"
   ]
  },
  {
   "cell_type": "code",
   "execution_count": null,
   "metadata": {},
   "outputs": [],
   "source": [
    "# %%timeit -n 1 -r 1\n",
    "calibs = load_a2l_eager(args.path, args.node_path)"
   ]
  },
  {
   "cell_type": "code",
   "execution_count": null,
   "metadata": {},
   "outputs": [
    {
     "data": {
      "text/plain": [
       "{'Name': {'Value': 'INP_pVacPres_CUR_v'},\n",
       " 'LongIdentifier': {},\n",
       " 'Type': 'CURVE',\n",
       " 'Address': {'Value': '1879065574', 'Base': 16, 'Size': 8},\n",
       " 'Deposit': {'Value': 'Lookup1D_FLOAT32_IEEE'},\n",
       " 'MaxDiff': {},\n",
       " 'Conversion': {'Value': 'VBU_L045A_CWP_05_09T_AImode_CM_single'},\n",
       " 'LowerLimit': {'Value': -3.4e+38,\n",
       "  'IntegralSign': '-',\n",
       "  'IntegralSize': 1,\n",
       "  'DecimalSize': 5},\n",
       " 'UpperLimit': {'Value': 3.4e+38, 'IntegralSize': 1, 'DecimalSize': 5},\n",
       " 'AXIS_DESCR': [{'Attribute': 'COM_AXIS',\n",
       "   'InputQuantity': {'Value': 'NO_INPUT_QUANTITY'},\n",
       "   'Conversion': {'Value': 'VBU_L045A_CWP_05_09T_AImode_CM_single'},\n",
       "   'MaxAxisPoints': {'Value': 6, 'Base': 10, 'Size': 1},\n",
       "   'LowerLimit': {'Value': -3.4e+38,\n",
       "    'IntegralSign': '-',\n",
       "    'IntegralSize': 1,\n",
       "    'DecimalSize': 5},\n",
       "   'UpperLimit': {'Value': 3.4e+38, 'IntegralSize': 1, 'DecimalSize': 5},\n",
       "   'AXIS_PTS_REF': {'AxisPoints': {'Value': 'INP_uVacPres_CUR_x'}}}]}"
      ]
     },
     "execution_count": null,
     "metadata": {},
     "output_type": "execute_result"
    }
   ],
   "source": [
    "calibs[0]['CHARACTERISTIC'][0]"
   ]
  },
  {
   "cell_type": "code",
   "execution_count": null,
   "metadata": {},
   "outputs": [],
   "source": [
    "#| hide\n",
    "import nbdev; nbdev.nbdev_export()"
   ]
  }
 ],
 "metadata": {
  "kernelspec": {
   "display_name": "python3",
   "language": "python",
   "name": "python3"
  }
 },
 "nbformat": 4,
 "nbformat_minor": 4
}
