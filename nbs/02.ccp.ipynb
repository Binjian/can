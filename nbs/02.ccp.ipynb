{
 "cells": [
  {
   "cell_type": "markdown",
   "metadata": {},
   "source": [
    "# CCP\n",
    "\n",
    "> flashing interface for CCP\n",
    "> For now, only support CCP on CAN via VCAN or Kvaser CAN interface"
   ]
  },
  {
   "cell_type": "code",
   "execution_count": null,
   "metadata": {},
   "outputs": [],
   "source": [
    "#| default_exp ccp"
   ]
  },
  {
   "cell_type": "code",
   "execution_count": null,
   "metadata": {},
   "outputs": [],
   "source": [
    "#| hide\n",
    "from nbdev.showdoc import show_doc\n",
    "from fastcore.test import *"
   ]
  },
  {
   "cell_type": "code",
   "execution_count": null,
   "metadata": {},
   "outputs": [],
   "source": [
    "#| export\n",
    "import os\n",
    "import sys\n",
    "import git\n",
    "import argparse\n",
    "from InquirerPy import inquirer\n",
    "from InquirerPy.validator import EmptyInputValidator\n",
    "from InquirerPy.base.control import Choice\n",
    "from pydantic import BaseModel, Field,  ConfigDict, model_validator, conlist, conint, computed_field, confloat, ValidationError\n",
    "from pydantic.functional_validators import AfterValidator\n",
    "from typing import Optional, TypedDict, Union, Literal\n",
    "from typing_extensions import Annotated\n",
    "from enum import StrEnum\n",
    "from pprint import pprint, PrettyPrinter"
   ]
  },
  {
   "cell_type": "code",
   "execution_count": null,
   "metadata": {},
   "outputs": [],
   "source": [
    "#| export\n",
    "import subprocess\n",
    "from multiprocessing import Manager\n",
    "from multiprocessing.managers import DictProxy\n",
    "import cantools\n",
    "from cantools.database import Message as MessagerTpl\n",
    "from cantools.database.can.database import Database\n",
    "import contextlib"
   ]
  },
  {
   "cell_type": "code",
   "execution_count": null,
   "metadata": {},
   "outputs": [],
   "source": [
    "#| export\n",
    "import pandas as pd\n",
    "import numpy as np\n",
    "import struct"
   ]
  },
  {
   "cell_type": "code",
   "execution_count": null,
   "metadata": {},
   "outputs": [],
   "source": [
    "# #|export\n",
    "# from candycan.data_link_socketcan import done, send_msg"
   ]
  },
  {
   "cell_type": "code",
   "execution_count": null,
   "metadata": {},
   "outputs": [
    {
     "name": "stdout",
     "output_type": "stream",
     "text": [
      "'/home/n/devel/candycan'\n"
     ]
    }
   ],
   "source": [
    "#| export \n",
    "from candycan.a2l import (\n",
    "    list_of_strings,\n",
    "    XCPCalib,\n",
    "    XCPData,\n",
    "    XCPConfig,\n",
    "    Get_XCPCalib_From_XCPJSon,\n",
    "    Generate_Init_XCPData_From_A2L,\n",
    ")\n"
   ]
  },
  {
   "cell_type": "code",
   "execution_count": null,
   "metadata": {},
   "outputs": [],
   "source": [
    "#| export\n",
    "from scapy.all import (\n",
    "    raw, rdpcap, wrpcap, load_contrib, hexdump,\n",
    "    ls, conf, load_layer, IP, Ether, TCP\n",
    ")\n",
    "# Ether, TCP, hexdump, raw, rdpcap, load_contrib, conf, load_layer, \n",
    "# CANSocket, CAN, wrpcap, CCP, CRO, CONNECT, GET_SEED, UNLOCK, GET_DAQ_SIZE"
   ]
  },
  {
   "cell_type": "code",
   "execution_count": null,
   "metadata": {},
   "outputs": [],
   "source": [
    "#| export\n",
    "load_layer(\"can\")  # CAN\n",
    "conf.contribs['CANSocket'] = {'use-python-can': False}\n",
    "load_contrib(\"cansocket\") # CANSocket\n",
    "load_contrib(\"automotive.ccp\")  # CCP, CRO, CONNECT, DISCONNECT, GET_SEED, UNLOCK, GET_DAQ_SIZE"
   ]
  },
  {
   "cell_type": "code",
   "execution_count": null,
   "metadata": {},
   "outputs": [],
   "source": [
    "#| export\n",
    "pp = PrettyPrinter(indent=4, width=80, compact=True)"
   ]
  },
  {
   "cell_type": "code",
   "execution_count": null,
   "metadata": {},
   "outputs": [
    {
     "name": "stdout",
     "output_type": "stream",
     "text": [
      "'/home/n/devel/candycan'\n"
     ]
    }
   ],
   "source": [
    "#| export \n",
    "repo = git.Repo(\"./\", search_parent_directories=True)  # get the Repo object of tspace\n",
    "if os.path.basename(repo.working_dir) != \"candycan\":  # I'm in the parent repo!\n",
    "    repo = repo.submodule(\"candycan\").module()\n",
    "pprint(repo.working_dir)"
   ]
  },
  {
   "cell_type": "code",
   "execution_count": null,
   "metadata": {},
   "outputs": [],
   "source": [
    "#| export\n",
    "def get_argparser() -> argparse.ArgumentParser:\n",
    "\t\"\"\"Summary\n",
    "\tGet argument parser for command line arguments\n",
    "\n",
    "\tReturns:\n",
    "\t\targparse.ArgumentParser: _description_\n",
    "\t\"\"\"\n",
    "\tparser = argparse.ArgumentParser(description='XCP Processing')\n",
    "\n",
    "\tparser.add_argument(\n",
    "\t\t'--protocol',\n",
    "\t\ttype=str,\n",
    "\t\tchoices=['ccp', 'xcp'],\n",
    "\t\tdefault='ccp',\n",
    "\t\thelp='Protocol to use: ccp/xcp',\n",
    "\t)\n",
    "\n",
    "\tparser.add_argument(\n",
    "\t\t'--download',\n",
    "\t\tdefault=False,\n",
    "\t\thelp='Download or upload: default is download(host->target)',\n",
    "\t\taction='store_true',\n",
    "\t)\n",
    "\n",
    "\tparser.add_argument(\n",
    "\t\t'--diff_flashing',\n",
    "\t\tdefault=True,\n",
    "\t\thelp='use differential flashing',\n",
    "\t\taction='store_false',\n",
    "\t)\n",
    "\n",
    "\tparser.add_argument(\n",
    "\t\t'--a2l', \n",
    "\t\ttype=str,\n",
    "        default=repo.working_dir+'/res/VBU_AI.json',\n",
    "\t\thelp='a2l json file path')\n",
    "\t\t\n",
    "\tparser.add_argument(\n",
    "\t\t\"--node-path\",\n",
    "\t\ttype=str,\n",
    "\t\tdefault=r\"/PROJECT/MODULE[]\",\n",
    "\t\thelp=\"node path to search for calibration parameters\",\n",
    "\t)\n",
    "\n",
    "\tparser.add_argument(\n",
    "\t\t\"--leaves\",\n",
    "\t\ttype=list_of_strings,\n",
    "\t\tdefault=r\"TQD_trqTrqSetNormal_MAP_v, \" \n",
    "\t\t\t\tr\"VBU_L045A_CWP_05_09T_AImode_CM_single, \" \n",
    "\t\t\t\tr\"Lookup2D_FLOAT32_IEEE, \" \n",
    "\t\t\t\tr\"Lookup2D_X_FLOAT32_IEEE, \" \n",
    "\t\t\t\tr\"Scalar_FLOAT32_IEEE, \" \n",
    "\t\t\t\tr\"TQD_vVehSpd, \"\n",
    "\t\t\t\tr\"TQD_vSgndSpd_MAP_y, \"\n",
    "\t\t\t\tr\"TQD_pctAccPedPosFlt, \"\n",
    "\t\t\t\tr\"TQD_pctAccPdl_MAP_x\",\n",
    "\t\t\thelp=\"leaf nodes to search for\",\n",
    "\t)\n",
    "\n",
    "\tparser.add_argument(\n",
    "\t\t'--channel', \n",
    "\t\ttype=int,\n",
    "\t\tdefault=3,\n",
    "\t\thelp='CAN channel for flashing')\n",
    "\t\t\n",
    "\tparser.add_argument(\n",
    "\t\t'--download_id', \n",
    "\t\ttype=int,\n",
    "\t\tdefault=630,\n",
    "\t\thelp='CAN message ID for downloading')\n",
    "\t\t\n",
    "\tparser.add_argument(\n",
    "\t\t'--upload_id', \n",
    "\t\ttype=int,\n",
    "\t\tdefault=631,\n",
    "\t\thelp='CAN message ID for downloading')\n",
    "\t\t\n",
    "\tparser.add_argument(\n",
    "\t\t'--input', \n",
    "\t\ttype=str,\n",
    "        default=repo.working_dir+'/res/download.json',\n",
    "\t\thelp='Input file path')\n",
    "\t\n",
    "\tparser.add_argument(\n",
    "\t\t'--output', \n",
    "\t\ttype=str, \n",
    "        default=repo.working_dir+'/res/output.json',\n",
    "\t\thelp='Output file path')\n",
    "\treturn parser"
   ]
  },
  {
   "cell_type": "code",
   "execution_count": null,
   "metadata": {},
   "outputs": [
    {
     "data": {
      "text/markdown": [
       "---\n",
       "\n",
       "[source](https://github.com/Binjian/candycan/blob/main/candycan/xcp.py#L50){target=\"_blank\" style=\"float:right; font-size:smaller\"}\n",
       "\n",
       "### get_argparser\n",
       "\n",
       ">      get_argparser ()\n",
       "\n",
       "Summary\n",
       "Get argument parser for command line arguments\n",
       "\n",
       "Returns:\n",
       "        argparse.ArgumentParser: _description_"
      ],
      "text/plain": [
       "---\n",
       "\n",
       "[source](https://github.com/Binjian/candycan/blob/main/candycan/xcp.py#L50){target=\"_blank\" style=\"float:right; font-size:smaller\"}\n",
       "\n",
       "### get_argparser\n",
       "\n",
       ">      get_argparser ()\n",
       "\n",
       "Summary\n",
       "Get argument parser for command line arguments\n",
       "\n",
       "Returns:\n",
       "        argparse.ArgumentParser: _description_"
      ]
     },
     "execution_count": null,
     "metadata": {},
     "output_type": "execute_result"
    }
   ],
   "source": [
    "show_doc(get_argparser)"
   ]
  },
  {
   "cell_type": "code",
   "execution_count": null,
   "metadata": {},
   "outputs": [],
   "source": [
    "parser = get_argparser()\n",
    "args = parser.parse_args(\n",
    "    args=[\n",
    "        '--protocol', 'xcp',\n",
    "        '--download',\n",
    "        '--a2l', repo.working_dir+'/res/VBU_AI.json',\n",
    "        '--node-path', r'/PROJECT/MODULE[]',\n",
    "        '--leaves', r'TQD_trqTrqSetNormal_MAP_v, VBU_L045A_CWP_05_09T_AImode_CM_single, Lookup2D_FLOAT32_IEEE, Lookup2D_X_FLOAT32_IEEE, Scalar_FLOAT32_IEEE, TQD_vVehSpd, TQD_vSgndSpd_MAP_y, TQD_pctAccPedPosFlt, TQD_pctAccPdl_MAP_x',\n",
    "        '--channel', '3',\n",
    "        '--download_id', '630',\n",
    "        '--upload_id', '631',\n",
    "        '--input', repo.working_dir+'/res/download.json',\n",
    "        '--output', repo.working_dir+'/res/output.json',\n",
    "    ]\n",
    ")"
   ]
  },
  {
   "cell_type": "code",
   "execution_count": null,
   "metadata": {},
   "outputs": [
    {
     "data": {
      "text/plain": [
       "(630, 3, 631)"
      ]
     },
     "execution_count": null,
     "metadata": {},
     "output_type": "execute_result"
    }
   ],
   "source": [
    "args.download_id, args.channel, args.upload_id"
   ]
  },
  {
   "cell_type": "code",
   "execution_count": null,
   "metadata": {},
   "outputs": [
    {
     "data": {
      "text/plain": [
       "XCPCalib(config=XCPConfig(channel=3, download_can_id=630, upload_can_id=631), data=[{   'address': '7000aa2a',\n",
       "    'dim': [14, 17],\n",
       "    'name': 'TQD_trqTrqSetNormal_MAP_v',\n",
       "    'type_size': 4,\n",
       "    'value': '0000000025...344',\n",
       "    'value_array_view': array([[    0.   ,  1135.317,  1135.317, ...,  4436.   ,  4436.   ,\n",
       "         4436.   ],\n",
       "       [    0.   ,   148.09 ,   148.09 , ...,  4436.   ,  4436.   ,\n",
       "         4436.   ],\n",
       "       [-1338.534,  -833.344,  -328.155, ...,  4436.   ,  4436.   ,\n",
       "         4436.   ],\n",
       "       ...,\n",
       "       [-1316.842, -1086.408,  -855.974, ...,  2034.368,  2034.368,\n",
       "         2034.368],\n",
       "       [-1141.171,  -926.042,  -710.912, ...,  1859.521,  1859.521,\n",
       "         1859.521],\n",
       "       [ -286.008,  -135.973,    14.062, ...,  1690.249,  1690.249,\n",
       "         1690.249]], dtype=float32),\n",
       "    'value_length': 4,\n",
       "    'value_type': 'FLOAT32_IEEE'}])"
      ]
     },
     "execution_count": null,
     "metadata": {},
     "output_type": "execute_result"
    }
   ],
   "source": [
    "xcp_calib_from_xcpjson = Get_XCPCalib_From_XCPJSon(args.input)\n",
    "xcp_calib_from_xcpjson"
   ]
  },
  {
   "cell_type": "code",
   "execution_count": null,
   "metadata": {},
   "outputs": [
    {
     "data": {
      "text/plain": [
       "{   'address': '7000aa2a',\n",
       "    'dim': [14, 17],\n",
       "    'name': 'TQD_trqTrqSetNormal_MAP_v',\n",
       "    'type_size': 4,\n",
       "    'value': '0000000000...000',\n",
       "    'value_array_view': array([[0., 0., 0., ..., 0., 0., 0.],\n",
       "       [0., 0., 0., ..., 0., 0., 0.],\n",
       "       [0., 0., 0., ..., 0., 0., 0.],\n",
       "       ...,\n",
       "       [0., 0., 0., ..., 0., 0., 0.],\n",
       "       [0., 0., 0., ..., 0., 0., 0.],\n",
       "       [0., 0., 0., ..., 0., 0., 0.]], dtype=float32),\n",
       "    'value_length': 4,\n",
       "    'value_type': 'FLOAT32_IEEE'}"
      ]
     },
     "execution_count": null,
     "metadata": {},
     "output_type": "execute_result"
    }
   ],
   "source": [
    "\n",
    "xcp_data = Generate_Init_XCPData_From_A2L(\n",
    "    a2l=args.a2l, keys=args.leaves, node_path=args.node_path\n",
    ")\n",
    "\n",
    "#  address from xcp data file should align with the address from xcp calib file\n",
    "test_eq(xcp_data.address, xcp_calib_from_xcpjson.data[0].address)\n",
    "\n",
    "# validate the model\n",
    "try:\n",
    "    XCPData.model_validate(xcp_data)\n",
    "except ValidationError as exc:\n",
    "    print(exc)"
   ]
  },
  {
   "cell_type": "code",
   "execution_count": null,
   "metadata": {},
   "outputs": [],
   "source": [
    "# type(args.channel), type(args.download_id), args.upload_id, args.download, args.diff_flashing"
   ]
  },
  {
   "cell_type": "code",
   "execution_count": null,
   "metadata": {},
   "outputs": [
    {
     "name": "stdout",
     "output_type": "stream",
     "text": [
      "{   'address': '7000aa2a',\n",
      "    'dim': [14, 17],\n",
      "    'name': 'TQD_trqTrqSetNormal_MAP_v',\n",
      "    'type_size': 4,\n",
      "    'value': '0000000025...344',\n",
      "    'value_array_view': array([[    0.   ,  1135.317,  1135.317, ...,  4436.   ,  4436.   ,\n",
      "         4436.   ],\n",
      "       [    0.   ,   148.09 ,   148.09 , ...,  4436.   ,  4436.   ,\n",
      "         4436.   ],\n",
      "       [-1338.534,  -833.344,  -328.155, ...,  4436.   ,  4436.   ,\n",
      "         4436.   ],\n",
      "       ...,\n",
      "       [-1316.842, -1086.408,  -855.974, ...,  2034.368,  2034.368,\n",
      "         2034.368],\n",
      "       [-1141.171,  -926.042,  -710.912, ...,  1859.521,  1859.521,\n",
      "         1859.521],\n",
      "       [ -286.008,  -135.973,    14.062, ...,  1690.249,  1690.249,\n",
      "         1690.249]], dtype=float32),\n",
      "    'value_length': 4,\n",
      "    'value_type': 'FLOAT32_IEEE'}\n"
     ]
    },
    {
     "data": {
      "text/plain": [
       "(1135.317, -1338.5337)"
      ]
     },
     "execution_count": null,
     "metadata": {},
     "output_type": "execute_result"
    }
   ],
   "source": [
    "xcp_data.value = xcp_calib_from_xcpjson.data[0].value\n",
    "pprint(xcp_data)\n",
    "xcp_data.value_array_view[0,2], xcp_data.value_array_view[2,0]"
   ]
  },
  {
   "cell_type": "code",
   "execution_count": null,
   "metadata": {},
   "outputs": [],
   "source": [
    "\n",
    "xcp_calib = XCPCalib(\n",
    "    config=XCPConfig(\n",
    "        channel=args.channel, download=args.download_id, upload=args.upload_id\n",
    "    ),\n",
    "    data=[xcp_data],\n",
    ")"
   ]
  },
  {
   "cell_type": "code",
   "execution_count": null,
   "metadata": {},
   "outputs": [
    {
     "name": "stdout",
     "output_type": "stream",
     "text": [
      "XCPCalib(config=XCPConfig(channel=3, download_can_id=630, upload_can_id=631), data=[{   'address': '7000aa2a',\n",
      "    'dim': [14, 17],\n",
      "    'name': 'TQD_trqTrqSetNormal_MAP_v',\n",
      "    'type_size': 4,\n",
      "    'value': '0000000025...344',\n",
      "    'value_array_view': array([[    0.   ,  1135.317,  1135.317, ...,  4436.   ,  4436.   ,\n",
      "         4436.   ],\n",
      "       [    0.   ,   148.09 ,   148.09 , ...,  4436.   ,  4436.   ,\n",
      "         4436.   ],\n",
      "       [-1338.534,  -833.344,  -328.155, ...,  4436.   ,  4436.   ,\n",
      "         4436.   ],\n",
      "       ...,\n",
      "       [-1316.842, -1086.408,  -855.974, ...,  2034.368,  2034.368,\n",
      "         2034.368],\n",
      "       [-1141.171,  -926.042,  -710.912, ...,  1859.521,  1859.521,\n",
      "         1859.521],\n",
      "       [ -286.008,  -135.973,    14.062, ...,  1690.249,  1690.249,\n",
      "         1690.249]], dtype=float32),\n",
      "    'value_length': 4,\n",
      "    'value_type': 'FLOAT32_IEEE'}])\n"
     ]
    }
   ],
   "source": [
    "pprint(xcp_calib)"
   ]
  },
  {
   "cell_type": "code",
   "execution_count": null,
   "metadata": {},
   "outputs": [
    {
     "data": {
      "text/plain": [
       "((14, 17),\n",
       " dtype('float32'),\n",
       " array([[    0.   ,  1135.317,  1135.317, ...,  4436.   ,  4436.   ,\n",
       "          4436.   ],\n",
       "        [    0.   ,   148.09 ,   148.09 , ...,  4436.   ,  4436.   ,\n",
       "          4436.   ],\n",
       "        [-1338.534,  -833.344,  -328.155, ...,  4436.   ,  4436.   ,\n",
       "          4436.   ],\n",
       "        ...,\n",
       "        [-1316.842, -1086.408,  -855.974, ...,  2034.368,  2034.368,\n",
       "          2034.368],\n",
       "        [-1141.171,  -926.042,  -710.912, ...,  1859.521,  1859.521,\n",
       "          1859.521],\n",
       "        [ -286.008,  -135.973,    14.062, ...,  1690.249,  1690.249,\n",
       "          1690.249]], dtype=float32))"
      ]
     },
     "execution_count": null,
     "metadata": {},
     "output_type": "execute_result"
    },
    {
     "data": {
      "text/plain": [
       "(952,\n",
       " b'\\x00\\x00\\x00\\x00%\\xea\\x8dD%\\xea\\x8dD%\\xea\\x8dD%\\xea\\x8dD\\xdb4\\x95D\\xb3\\x1e\\xb6D\\x8c\\x08\\xd7Dd\\xf2\\xf7D\\x1en\\x0cE\\x81\\x1d%E\\xe3\\xcc=EF|VE\\x85\\xed\\x83E\\x00\\xa0\\x8aE\\x00\\xa0\\x8aE\\x00\\xa0\\x8aE\\x00\\x00\\x00\\x00\\xed\\x16\\x14C\\xed\\x16\\x14CN\\xba\\x8dC\\x1ay\\x1eD\\xcbL`D>\\x10\\x91D\\x17\\xfa\\xb1D\\xef\\xe3\\xd2D\\xc8\\xcd\\xf3DF\\x96\\x12E\\xa9E+E\\x0b\\xf5CE\\xd0SuE\\x00\\xa0\\x8aE\\x00\\xa0\\x8aE\\x00\\xa0\\x8aE\\x14Q\\xa7\\xc4\\x0bVP\\xc4\\xdd\\x13\\xa4\\xc3\\xb8\\x081CM\\xa9\\xf9CV%AD\\x84|\\x81D\\\\f\\xa2D5P\\xc3D\\r:\\xe4Di\\xcc\\nE\\xcb{#E.+<E\\xf3\\x89mE\\x00\\xa0\\x8aE\\x00\\xa0\\x8aE\\x00\\xa0\\x8aE\\xff\\xfc\\x0f\\xc5\\xa4\\xfc\\xd0\\xc4K\\xff\\x81\\xc4\\xc8\\x07\\xcc\\xc39\\xdb_Cv\\xa0\\tD\\xf8\\xd7GD\\xbd\\x07\\x83D\\x7f#\\xa2D@?\\xc1D\\xe2\\xe8\\xefDBI\\x0fE\\x13\\x9e&E\\xb5GUE\\xab\\xf8\\x81E\\x00\\xa0\\x8aE\\x00\\xa0\\x8aEw\\x1f\\r\\xc5\\x9fj\\xda\\xc4Q\\x96\\x9a\\xc4\\x07\\x845\\xc4\\xabmW\\xc3b\\x9a\\x93C\\xeb\\x8d\\x18D?)SDJ\\xe2\\x86D\\xf4/\\xa4Dt$\\xd0D\\xf3\\x18\\xfcD\\xb9\\x06\\x14E9\\xfb?E\\xb8\\xefkE\\x00\\xa0\\x8aE\\x00\\xa0\\x8aEH>\\t\\xc5\\x1d\\xd0\\xdc\\xc4\\xa9#\\xa7\\xc4l\\xeeb\\xc4\\n+\\xef\\xc3\\xdc\\xc9C\\xc2\\x938\\xbeC\\xbe\\x14)D\\xe4\\x13`D\\x85\\x89\\x8bD\\xe1\\xc8\\xb4D>\\x08\\xdeD\\xcd\\xa3\\x03E*\\xe3,E\\x86\"VE\\xe3a\\x7fE\\x00\\xa0\\x8aEsY\\x04\\xc5\\xaa$\\xda\\xc4l\\x96\\xab\\xc4_\\x10z\\xc4\\xe5\\xf3\\x1c\\xc4\\xac]\\x7f\\xc3y(\\xeaB\\x12\\xc3\\xf4C\\xff\\x0b>D\\xf7nqD\\xb5A\\x9fD\\xef\\xcb\\xc5D(V\\xecDN\\xb5\\x1cE\\x87?CE\\xc1\\xc9iE\\xf17\\x83E\\xef\\xe1\\xfc\\xc4\\xba\\xc2\\xd3\\xc4\\x85\\xa3\\xaa\\xc4O\\x84\\x81\\xc44\\xca0\\xc4\\x91\\x17\\xbd\\xc3\\xdd\\xd5D\\xc2\\x1a\\xe2\\x8bCx/\\x18D\\xd5\\xcaTD\\x82:\\x8eD\\x99\\x0f\\xb2D\\xb0\\xe4\\xd5Do\\xc7\\x0eE\\x86\\x9c2E\\x9eqVE\\xd5,WE\\xab\\t\\xef\\xc4\\xbe\\r\\xca\\xc4\\xd1\\x11\\xa5\\xc4\\xe3\\x15\\x80\\xc4\\xeb36\\xc4!x\\xd8\\xc3\\xd8\\x10\\t\\xc3\\x93\\xce\\x1eC\\xffV\\xe3CZ\\xa3;D\\x99\\xf0\\x82D\\x8d\\x10\\xa4D\\x810\\xc5D5\\xb8\\x03E)\\xd8$EvB5EvB5E\\x1a*\\xdf\\xc4\\x84l\\xbc\\xc4\\xee\\xae\\x99\\xc4\\xb0\\xe2m\\xc4\\x84g(\\xc4\\xaf\\xd8\\xc5\\xc3[\\x89\\xeb\\xc2\\x03( CZ\\n\\xdbCY\\x003D\\x85{xD\\x94\\xa8\\x9aDe\\x13\\xb9D\\x08\\xe9\\xf5DU_\\x19E\\x15G\\x1eE\\x15G\\x1eE<C\\xcd\\xc4\\xc4\\xf8\\xac\\xc4M\\xae\\x8c\\xc4\\xab\\xc7X\\xc4\\xbc2\\x18\\xc4\\x9b;\\xaf\\xc3\\xf6F\\xb8\\xc2@0&C\\xfdA\\xd4C\\xee\\xb5*D\\xdcJkD\\xcc\\xe6\\x96D{\\x9c\\xb2D\\xd8\\x07\\xeaD\\xef&\\x0eE\\xef&\\x0eE\\xef&\\x0eE\\xf4\\x9a\\xa4\\xc4\\x0f\\xcd\\x87\\xc4U\\xfeU\\xc4\\x8cb\\x1c\\xc4\\x86\\x8d\\xc5\\xc3\\xe8\\xab$\\xc3y\\x86\\x83B0\\x19\\x94Ca\\xa8\\x03D*D=D\\xf3\\xdfvD\\xde=\\x98Dk>\\xb1D\\x83?\\xe3D\\xc4K\\xfeD\\xc4K\\xfeD\\xc4K\\xfeD{\\xa5\\x8e\\xc4\\xae\\x82g\\xc4f\\xba1\\xc4<\\xe4\\xf7\\xc3\\xacS\\x8c\\xc3p\\x0c\\x83\\xc2\\xe8\\x9a\\x15C\\x04^\\xb6CJ\\xf7\\x10D\\x92\\xbfFD\\xda\\x87|D\\x11(\\x99D\\x14\\x9a\\xb4D\\xe70\\xe1D\\xabp\\xe8D\\xabp\\xe8D\\xabp\\xe8D\\x0b\\x01\\x8f\\xc3)\\xf9\\x07\\xc3Y\\xfc`A\\xb4\\x18$C\\xd1\\x10\\x9dCH\\x15\\xe8C\\xe0\\x8c\\x19D\\x1b\\x0f?DW\\x91dD\\xc9\\t\\x85D\\xe7\\xca\\x97D\\x05\\x8c\\xaaD\"M\\xbdD\\xf6G\\xd3D\\xf6G\\xd3D\\xf6G\\xd3D\\xf6G\\xd3D')"
      ]
     },
     "execution_count": null,
     "metadata": {},
     "output_type": "execute_result"
    },
    {
     "data": {
      "text/plain": [
       "(952,\n",
       " b'\\x00\\x00\\x00\\x00%\\xea\\x8dD%\\xea\\x8dD%\\xea\\x8dD%\\xea\\x8dD\\xdb4\\x95D\\xb3\\x1e\\xb6D\\x8c\\x08\\xd7Dd\\xf2\\xf7D\\x1en\\x0cE\\x81\\x1d%E\\xe3\\xcc=EF|VE\\x85\\xed\\x83E\\x00\\xa0\\x8aE\\x00\\xa0\\x8aE\\x00\\xa0\\x8aE\\x00\\x00\\x00\\x00\\xed\\x16\\x14C\\xed\\x16\\x14CN\\xba\\x8dC\\x1ay\\x1eD\\xcbL`D>\\x10\\x91D\\x17\\xfa\\xb1D\\xef\\xe3\\xd2D\\xc8\\xcd\\xf3DF\\x96\\x12E\\xa9E+E\\x0b\\xf5CE\\xd0SuE\\x00\\xa0\\x8aE\\x00\\xa0\\x8aE\\x00\\xa0\\x8aE\\x14Q\\xa7\\xc4\\x0bVP\\xc4\\xdd\\x13\\xa4\\xc3\\xb8\\x081CM\\xa9\\xf9CV%AD\\x84|\\x81D\\\\f\\xa2D5P\\xc3D\\r:\\xe4Di\\xcc\\nE\\xcb{#E.+<E\\xf3\\x89mE\\x00\\xa0\\x8aE\\x00\\xa0\\x8aE\\x00\\xa0\\x8aE\\xff\\xfc\\x0f\\xc5\\xa4\\xfc\\xd0\\xc4K\\xff\\x81\\xc4\\xc8\\x07\\xcc\\xc39\\xdb_Cv\\xa0\\tD\\xf8\\xd7GD\\xbd\\x07\\x83D\\x7f#\\xa2D@?\\xc1D\\xe2\\xe8\\xefDBI\\x0fE\\x13\\x9e&E\\xb5GUE\\xab\\xf8\\x81E\\x00\\xa0\\x8aE\\x00\\xa0\\x8aEw\\x1f\\r\\xc5\\x9fj\\xda\\xc4Q\\x96\\x9a\\xc4\\x07\\x845\\xc4\\xabmW\\xc3b\\x9a\\x93C\\xeb\\x8d\\x18D?)SDJ\\xe2\\x86D\\xf4/\\xa4Dt$\\xd0D\\xf3\\x18\\xfcD\\xb9\\x06\\x14E9\\xfb?E\\xb8\\xefkE\\x00\\xa0\\x8aE\\x00\\xa0\\x8aEH>\\t\\xc5\\x1d\\xd0\\xdc\\xc4\\xa9#\\xa7\\xc4l\\xeeb\\xc4\\n+\\xef\\xc3\\xdc\\xc9C\\xc2\\x938\\xbeC\\xbe\\x14)D\\xe4\\x13`D\\x85\\x89\\x8bD\\xe1\\xc8\\xb4D>\\x08\\xdeD\\xcd\\xa3\\x03E*\\xe3,E\\x86\"VE\\xe3a\\x7fE\\x00\\xa0\\x8aEsY\\x04\\xc5\\xaa$\\xda\\xc4l\\x96\\xab\\xc4_\\x10z\\xc4\\xe5\\xf3\\x1c\\xc4\\xac]\\x7f\\xc3y(\\xeaB\\x12\\xc3\\xf4C\\xff\\x0b>D\\xf7nqD\\xb5A\\x9fD\\xef\\xcb\\xc5D(V\\xecDN\\xb5\\x1cE\\x87?CE\\xc1\\xc9iE\\xf17\\x83E\\xef\\xe1\\xfc\\xc4\\xba\\xc2\\xd3\\xc4\\x85\\xa3\\xaa\\xc4O\\x84\\x81\\xc44\\xca0\\xc4\\x91\\x17\\xbd\\xc3\\xdd\\xd5D\\xc2\\x1a\\xe2\\x8bCx/\\x18D\\xd5\\xcaTD\\x82:\\x8eD\\x99\\x0f\\xb2D\\xb0\\xe4\\xd5Do\\xc7\\x0eE\\x86\\x9c2E\\x9eqVE\\xd5,WE\\xab\\t\\xef\\xc4\\xbe\\r\\xca\\xc4\\xd1\\x11\\xa5\\xc4\\xe3\\x15\\x80\\xc4\\xeb36\\xc4!x\\xd8\\xc3\\xd8\\x10\\t\\xc3\\x93\\xce\\x1eC\\xffV\\xe3CZ\\xa3;D\\x99\\xf0\\x82D\\x8d\\x10\\xa4D\\x810\\xc5D5\\xb8\\x03E)\\xd8$EvB5EvB5E\\x1a*\\xdf\\xc4\\x84l\\xbc\\xc4\\xee\\xae\\x99\\xc4\\xb0\\xe2m\\xc4\\x84g(\\xc4\\xaf\\xd8\\xc5\\xc3[\\x89\\xeb\\xc2\\x03( CZ\\n\\xdbCY\\x003D\\x85{xD\\x94\\xa8\\x9aDe\\x13\\xb9D\\x08\\xe9\\xf5DU_\\x19E\\x15G\\x1eE\\x15G\\x1eE<C\\xcd\\xc4\\xc4\\xf8\\xac\\xc4M\\xae\\x8c\\xc4\\xab\\xc7X\\xc4\\xbc2\\x18\\xc4\\x9b;\\xaf\\xc3\\xf6F\\xb8\\xc2@0&C\\xfdA\\xd4C\\xee\\xb5*D\\xdcJkD\\xcc\\xe6\\x96D{\\x9c\\xb2D\\xd8\\x07\\xeaD\\xef&\\x0eE\\xef&\\x0eE\\xef&\\x0eE\\xf4\\x9a\\xa4\\xc4\\x0f\\xcd\\x87\\xc4U\\xfeU\\xc4\\x8cb\\x1c\\xc4\\x86\\x8d\\xc5\\xc3\\xe8\\xab$\\xc3y\\x86\\x83B0\\x19\\x94Ca\\xa8\\x03D*D=D\\xf3\\xdfvD\\xde=\\x98Dk>\\xb1D\\x83?\\xe3D\\xc4K\\xfeD\\xc4K\\xfeD\\xc4K\\xfeD{\\xa5\\x8e\\xc4\\xae\\x82g\\xc4f\\xba1\\xc4<\\xe4\\xf7\\xc3\\xacS\\x8c\\xc3p\\x0c\\x83\\xc2\\xe8\\x9a\\x15C\\x04^\\xb6CJ\\xf7\\x10D\\x92\\xbfFD\\xda\\x87|D\\x11(\\x99D\\x14\\x9a\\xb4D\\xe70\\xe1D\\xabp\\xe8D\\xabp\\xe8D\\xabp\\xe8D\\x0b\\x01\\x8f\\xc3)\\xf9\\x07\\xc3Y\\xfc`A\\xb4\\x18$C\\xd1\\x10\\x9dCH\\x15\\xe8C\\xe0\\x8c\\x19D\\x1b\\x0f?DW\\x91dD\\xc9\\t\\x85D\\xe7\\xca\\x97D\\x05\\x8c\\xaaD\"M\\xbdD\\xf6G\\xd3D\\xf6G\\xd3D\\xf6G\\xd3D\\xf6G\\xd3D')"
      ]
     },
     "execution_count": null,
     "metadata": {},
     "output_type": "execute_result"
    },
    {
     "data": {
      "text/plain": [
       "'0000000025ea8d4425ea8d4425ea8d4425ea8d44db349544b31eb6448c08d74464f2f7441e6e0c45811d2545e3cc3d45467c564585ed834500a08a4500a08a4500a08a4500000000ed161443ed1614434eba8d431a791e44cb4c60443e10914417fab144efe3d244c8cdf34446961245a9452b450bf54345d053754500a08a4500a08a4500a08a451451a7c40b5650c4dd13a4c3b80831434da9f94356254144847c81445c66a2443550c3440d3ae44469cc0a45cb7b23452e2b3c45f3896d4500a08a4500a08a4500a08a45fffc0fc5a4fcd0c44bff81c4c807ccc339db5f4376a00944f8d74744bd0783447f23a244403fc144e2e8ef4442490f45139e2645b5475545abf8814500a08a4500a08a45771f0dc59f6adac451969ac4078435c4ab6d57c3629a9343eb8d18443f2953444ae28644f42fa4447424d044f318fc44b906144539fb3f45b8ef6b4500a08a4500a08a45483e09c51dd0dcc4a923a7c46cee62c40a2befc3dcc943c29338be43be142944e413604485898b44e1c8b4443e08de44cda303452ae32c4586225645e3617f4500a08a45735904c5aa24dac46c96abc45f107ac4e5f31cc4ac5d7fc37928ea4212c3f443ff0b3e44f76e7144b5419f44efcbc5442856ec444eb51c45873f4345c1c96945f1378345efe1fcc4bac2d3c485a3aac44f8481c434ca30c49117bdc3ddd544c21ae28b43782f1844d5ca5444823a8e44990fb244b0e4d5446fc70e45869c32459e715645d52c5745ab09efc4be0dcac4d111a5c4e31580c4eb3336c42178d8c3d81009c393ce1e43ff56e3435aa33b4499f082448d10a4448130c54435b8034529d8244576423545764235451a2adfc4846cbcc4eeae99c4b0e26dc4846728c4afd8c5c35b89ebc2032820435a0adb4359003344857b784494a89a446513b94408e9f544555f194515471e4515471e453c43cdc4c4f8acc44dae8cc4abc758c4bc3218c49b3bafc3f646b8c240302643fd41d443eeb52a44dc4a6b44cce696447b9cb244d807ea44ef260e45ef260e45ef260e45f49aa4c40fcd87c455fe55c48c621cc4868dc5c3e8ab24c3798683423019944361a803442a443d44f3df7644de3d98446b3eb144833fe344c44bfe44c44bfe44c44bfe447ba58ec4ae8267c466ba31c43ce4f7c3ac538cc3700c83c2e89a1543045eb6434af7104492bf4644da877c4411289944149ab444e730e144ab70e844ab70e844ab70e8440b018fc329f907c359fc6041b4182443d1109d434815e843e08c19441b0f3f4457916444c9098544e7ca9744058caa44224dbd44f647d344f647d344f647d344f647d344'"
      ]
     },
     "execution_count": null,
     "metadata": {},
     "output_type": "execute_result"
    }
   ],
   "source": [
    "npa =  xcp_calib.data[0].value_array_view\n",
    "npa.shape, npa.dtype, npa\n",
    "len(xcp_calib.data[0].value_bytes), xcp_calib.data[0].value_bytes\n",
    "\n",
    "len(npa.tobytes()), npa.tobytes()\n",
    "test_eq(npa.tobytes(), xcp_calib.data[0].value_bytes)\n",
    "xcp_calib.data[0].value"
   ]
  },
  {
   "cell_type": "code",
   "execution_count": null,
   "metadata": {},
   "outputs": [],
   "source": [
    "# buffer = [i.hex() for x in npa for i in x]\n",
    "# # buffer[::-1]\n",
    "# len(buffer)\n",
    "# buffer"
   ]
  },
  {
   "cell_type": "code",
   "execution_count": null,
   "metadata": {},
   "outputs": [],
   "source": [
    "\n",
    "# buffer = npa.tobytes()\n",
    "\n",
    "# pprint(buffer), len(buffer)\n",
    "# xcp_calib.data[0].value, len(xcp_calib.data[0].value)"
   ]
  },
  {
   "cell_type": "code",
   "execution_count": null,
   "metadata": {},
   "outputs": [
    {
     "data": {
      "text/plain": [
       "1879091754"
      ]
     },
     "execution_count": null,
     "metadata": {},
     "output_type": "execute_result"
    }
   ],
   "source": [
    "addr = bytes('7000aa2a', 'utf-8')\n",
    "a = 0x7000aa2a\n",
    "a"
   ]
  },
  {
   "cell_type": "code",
   "execution_count": null,
   "metadata": {},
   "outputs": [
    {
     "data": {
      "text/plain": [
       "238"
      ]
     },
     "execution_count": null,
     "metadata": {},
     "output_type": "execute_result"
    }
   ],
   "source": [
    "npb = npa[::-1]\n",
    "# npb\n",
    "buffer = [struct.pack(\"<f\", x) for x in np.nditer(npa)]\n",
    "# buffer\n",
    "len(buffer)"
   ]
  },
  {
   "cell_type": "markdown",
   "metadata": {},
   "source": [
    "### investigate int type and type size"
   ]
  },
  {
   "cell_type": "code",
   "execution_count": null,
   "metadata": {},
   "outputs": [
    {
     "data": {
      "text/plain": [
       "('7000aa2a', 1879091754)"
      ]
     },
     "execution_count": null,
     "metadata": {},
     "output_type": "execute_result"
    },
    {
     "data": {
      "text/plain": [
       "('0x7000aa2a', int, 32)"
      ]
     },
     "execution_count": null,
     "metadata": {},
     "output_type": "execute_result"
    },
    {
     "data": {
      "text/plain": [
       "(2, 4, 8, 8)"
      ]
     },
     "execution_count": null,
     "metadata": {},
     "output_type": "execute_result"
    },
    {
     "data": {
      "text/plain": [
       "(str, 8)"
      ]
     },
     "execution_count": null,
     "metadata": {},
     "output_type": "execute_result"
    }
   ],
   "source": [
    "d = xcp_calib.data[0]\n",
    "add = int(d.address, base=16)\n",
    "d.address, add\n",
    "hex(add), type(add), sys.getsizeof(add)\n",
    "struct.calcsize('h'), struct.calcsize('i'), struct.calcsize('l'), struct.calcsize('L')\n",
    "type(d.address),len(d.address)"
   ]
  },
  {
   "cell_type": "code",
   "execution_count": null,
   "metadata": {},
   "outputs": [],
   "source": [
    "#| export\n",
    "def npa_to_packed_buffer(a: np.ndarray) -> str:\n",
    "    \"\"\" convert a numpy array to a packed string buffer for flashing\n",
    "    TODO: implementation as numpy ufunc\n",
    "\n",
    "    Args:\n",
    "        a (np.ndarray): input numpy array for flashing\n",
    "\n",
    "    Returns:\n",
    "        str: packed string buffer for flashing\n",
    "    \"\"\"\n",
    "    b = [struct.pack(\"<f\", x).hex() for x in np.nditer(a)]\n",
    "    return ''.join(b)"
   ]
  },
  {
   "cell_type": "code",
   "execution_count": null,
   "metadata": {},
   "outputs": [],
   "source": [
    "\n",
    "# buffer = [struct.pack(\"<f\", x).hex() for x in np.nditer(npa)]\n",
    "# buffer[::-1]\n",
    "# len(buffer)\n",
    "# buffer\n",
    "# data = ''.join(buffer)\n",
    "data = npa_to_packed_buffer(npa)\n",
    "test_eq(data, xcp_calib.data[0].value)\n",
    "# data"
   ]
  },
  {
   "cell_type": "code",
   "execution_count": null,
   "metadata": {},
   "outputs": [
    {
     "data": {
      "text/plain": [
       "('0000000025ea8d4425ea8d4425ea8d4425ea8d44db349544b31eb6448c08d74464f2f7441e6e0c45811d2545e3cc3d45467c564585ed834500a08a4500a08a4500a08a4500000000ed161443ed1614434eba8d431a791e44cb4c60443e10914417fab144efe3d244c8cdf34446961245a9452b450bf54345d053754500a08a4500a08a4500a08a451451a7c40b5650c4dd13a4c3b80831434da9f94356254144847c81445c66a2443550c3440d3ae44469cc0a45cb7b23452e2b3c45f3896d4500a08a4500a08a4500a08a45fffc0fc5a4fcd0c44bff81c4c807ccc339db5f4376a00944f8d74744bd0783447f23a244403fc144e2e8ef4442490f45139e2645b5475545abf8814500a08a4500a08a45771f0dc59f6adac451969ac4078435c4ab6d57c3629a9343eb8d18443f2953444ae28644f42fa4447424d044f318fc44b906144539fb3f45b8ef6b4500a08a4500a08a45483e09c51dd0dcc4a923a7c46cee62c40a2befc3dcc943c29338be43be142944e413604485898b44e1c8b4443e08de44cda303452ae32c4586225645e3617f4500a08a45735904c5aa24dac46c96abc45f107ac4e5f31cc4ac5d7fc37928ea4212c3f443ff0b3e44f76e7144b5419f44efcbc5442856ec444eb51c45873f4345c1c96945f1378345efe1fcc4bac2d3c485a3aac44f8481c434ca30c49117bdc3ddd544c21ae28b43782f1844d5ca5444823a8e44990fb244b0e4d5446fc70e45869c32459e715645d52c5745ab09efc4be0dcac4d111a5c4e31580c4eb3336c42178d8c3d81009c393ce1e43ff56e3435aa33b4499f082448d10a4448130c54435b8034529d8244576423545764235451a2adfc4846cbcc4eeae99c4b0e26dc4846728c4afd8c5c35b89ebc2032820435a0adb4359003344857b784494a89a446513b94408e9f544555f194515471e4515471e453c43cdc4c4f8acc44dae8cc4abc758c4bc3218c49b3bafc3f646b8c240302643fd41d443eeb52a44dc4a6b44cce696447b9cb244d807ea44ef260e45ef260e45ef260e45f49aa4c40fcd87c455fe55c48c621cc4868dc5c3e8ab24c3798683423019944361a803442a443d44f3df7644de3d98446b3eb144833fe344c44bfe44c44bfe44c44bfe447ba58ec4ae8267c466ba31c43ce4f7c3ac538cc3700c83c2e89a1543045eb6434af7104492bf4644da877c4411289944149ab444e730e144ab70e844ab70e844ab70e8440b018fc329f907c359fc6041b4182443d1109d434815e843e08c19441b0f3f4457916444c9098544e7ca9744058caa44224dbd44f647d344f647d344f647d344f647d344',\n",
       " 1904)"
      ]
     },
     "execution_count": null,
     "metadata": {},
     "output_type": "execute_result"
    }
   ],
   "source": [
    "# npa.astype(np.float32).tobytes().hex()\n",
    "buffer = npa.astype(np.float32).tobytes().hex()  ## == npa_to_packed_buffer(npa)\n",
    "buffer, len(buffer)\n",
    "test_eq(buffer, xcp_calib.data[0].value)"
   ]
  },
  {
   "cell_type": "code",
   "execution_count": null,
   "metadata": {},
   "outputs": [],
   "source": [
    "#| export\n",
    "def flash_xcp(xcp_calib: XCPCalib, data: pd.DataFrame, diff_flashing: bool=False, download: bool=True):\n",
    "    \"\"\"Summary\n",
    "    Flash XCP data to target\n",
    "\n",
    "    Args:\n",
    "        xcp_calib (XCPCalib): XCP calibration as template, contains all the meta information except for data\n",
    "        xcp_data (pd.DataFrame): input XCP data to be flashed, replace the value in xcp_calib\n",
    "        diff_flashing (bool): Use differential flashing\n",
    "        download (bool): Download or upload\n",
    "    \n",
    "    \"\"\"\n",
    "    \n",
    "    # convert dataframe to a hex string to be flashed and assigned to XCPCalib field data\n",
    "    xcp_calib.data = data.astype(np.float32).tobytes().hex()\n",
    "\n",
    "    if download:\n",
    "        if diff_flashing:\n",
    "            raise NotImplementedError(\"Differential flashing not implemented yet\")\n",
    "        else:\n",
    "            pass\n",
    "        \n",
    "\n",
    "    "
   ]
  },
  {
   "cell_type": "code",
   "execution_count": null,
   "metadata": {},
   "outputs": [
    {
     "data": {
      "image/png": "[encoded data removed]",
      "image/svg+xml": [
       "<?xml version=\"1.0\" encoding=\"utf-8\"?>\n",
       "<svg xmlns=\"http://www.w3.org/2000/svg\" fill=\"none\" version=\"1.1\" viewBox=\"25.3465 -166.828 504.738 164.65\" x=\"25.3465pt\" y=\"-166.828pt\" width=\"504.738pt\" height=\"164.65pt\" stroke-width=\"0.566929\" stroke-miterlimit=\"10.000000\">\n",
       " <path d=\"M26.3465 -151.071L39.4789 -151.071L39.4789 -161.989L26.3465 -161.989Z\" stroke=\"#000\" fill=\"#9cc\"/>\n",
       " <g transform=\"matrix(1.000000,0.000000,0.000000,1.000000,28.346457,-153.070866)\">\n",
       "  <path d=\"M0.936488 -0M1.82316 -6.91407L0.936488 -6.91407L0.936488 -0L1.82316 -0ZM1.82316 -0M3.71606 -0M6.2665 -2.8792C7.50187 -2.8792 8.55791 -3.7858 8.55791 -4.90162C8.55791 -5.96762 7.57161 -6.91407 6.19676 -6.91407L3.71606 -6.91407L3.71606 -0L4.60274 -0L4.60274 -2.8792ZM4.60274 -2.8792M5.97758 -6.35616C7.07347 -6.35616 7.75093 -5.74844 7.75093 -4.90162C7.75093 -4.11457 7.12329 -3.45704 5.97758 -3.45704L4.57285 -3.45704L4.57285 -6.35616ZM4.57285 -6.35616\" fill=\"black\"/>\n",
       " </g>\n",
       " <g transform=\"matrix(1.000000,0.000000,0.000000,1.000000,28.346457,-141.732283)\">\n",
       "  <path d=\"M0.139477 -0M4.44334 -4.42341L3.69614 -4.42341L2.90909 -2.35118C2.69988 -1.80324 2.39103 -0.996264 2.31133 -0.52802L2.30137 -0.52802C2.24159 -0.886675 1.98257 -1.5741 1.88294 -1.84309L0.916563 -4.42341L0.139477 -4.42341L1.85305 -0L2.72976 -0ZM2.72976 -0M4.94147 -0M8.71731 -2.18182C8.71731 -2.52055 8.70735 -3.26775 8.3188 -3.8655C7.91034 -4.48319 7.30262 -4.59278 6.94396 -4.59278C5.83811 -4.59278 4.94147 -3.53674 4.94147 -2.25156C4.94147 -0.936488 5.89788 0.109589 7.0934 0.109589C7.72105 0.109589 8.28892 -0.129514 8.67746 -0.408468L8.61768 -1.05604C7.99004 -0.537983 7.3325 -0.498132 7.10336 -0.498132C6.30635 -0.498132 5.66874 -1.20548 5.63885 -2.18182ZM5.63885 -2.18182M5.68867 -2.72976C5.84807 -3.48692 6.37609 -3.98506 6.94396 -3.98506C7.46202 -3.98506 8.01993 -3.64633 8.14944 -2.72976ZM8.14944 -2.72976M9.83313 -0M10.5803 -2.132C10.5803 -3.12827 11.2976 -3.84558 12.274 -3.8655L12.274 -4.533C11.3873 -4.52304 10.8394 -4.03487 10.5305 -3.57659L10.5305 -4.48319L9.83313 -4.48319L9.83313 -0L10.5803 -0ZM10.5803 -0M12.6924 -0M15.8306 -4.27397C15.3126 -4.51308 14.9041 -4.59278 14.396 -4.59278C14.1469 -4.59278 12.7422 -4.59278 12.7422 -3.28767C12.7422 -2.7995 13.0311 -2.4807 13.2802 -2.29141C13.589 -2.07223 13.8082 -2.03238 14.3562 -1.92279C14.7148 -1.85305 15.2927 -1.7335 15.2927 -1.20548C15.2927 -0.518057 14.5056 -0.518057 14.3562 -0.518057C13.5492 -0.518057 12.9913 -0.886675 12.812 -1.00623L12.6924 -0.328767C13.0112 -0.169365 13.5592 0.109589 14.3661 0.109589C14.5455 0.109589 15.0934 0.109589 15.5218 -0.209215C15.8306 -0.448319 16 -0.846824 16 -1.27522C16 -1.82316 15.6314 -2.16189 15.6115 -2.19178C15.2229 -2.54047 14.9539 -2.60025 14.4558 -2.68991C13.9078 -2.7995 13.4496 -2.89913 13.4496 -3.3873C13.4496 -4.00498 14.1669 -4.00498 14.2964 -4.00498C14.6152 -4.00498 15.1432 -3.96513 15.7111 -3.6264ZM15.7111 -3.6264M16.9664 -0M17.8531 -6.7746L16.9664 -6.7746L16.9664 -5.88792L17.8531 -5.88792ZM17.8531 -5.88792M17.7833 -4.42341L17.0361 -4.42341L17.0361 -0L17.7833 -0ZM17.7833 -0M18.8991 -0M23.2727 -2.19178C23.2727 -3.52677 22.2765 -4.59278 21.0909 -4.59278C19.8655 -4.59278 18.8991 -3.49689 18.8991 -2.19178C18.8991 -0.876712 19.9153 0.109589 21.0809 0.109589C22.2765 0.109589 23.2727 -0.896638 23.2727 -2.19178ZM23.2727 -2.19178M21.0809 -0.52802C20.3935 -0.52802 19.6762 -1.08593 19.6762 -2.29141C19.6762 -3.49689 20.4334 -3.98506 21.0809 -3.98506C21.7783 -3.98506 22.4956 -3.467 22.4956 -2.29141C22.4956 -1.11582 21.8182 -0.52802 21.0809 -0.52802ZM21.0809 -0.52802M24.3885 -0M27.9153 -2.96887C27.9153 -3.6264 27.7659 -4.533 26.5504 -4.533C25.6538 -4.533 25.1656 -3.85554 25.1059 -3.77584L25.1059 -4.48319L24.3885 -4.48319L24.3885 -0L25.1656 -0L25.1656 -2.44085C25.1656 -3.09838 25.4147 -3.92528 26.1719 -3.92528C27.1283 -3.92528 27.1382 -3.21793 27.1382 -2.89913L27.1382 -0L27.9153 -0ZM27.9153 -0\" fill=\"black\"/>\n",
       " </g>\n",
       " <g transform=\"matrix(1.000000,0.000000,0.000000,1.000000,124.724409,-141.732283)\">\n",
       "  <path d=\"M-6.45649 -0M-6.40867 -1.56613C-6.45649 -1.47646 -6.45649 -1.45853 -6.45649 -1.35093L-6.45649 -1.20149C-6.45649 -1.01021 -6.41465 -0.91457 -6.16957 -0.91457L-4.82461 -0.91457L-4.82461 -0.286924C-4.82461 -0.0956413 -4.78277 -0 -4.53769 -0L-4.37031 -0C-4.14317 -0 -4.08339 -0.0777086 -4.08339 -0.286924L-4.08339 -0.91457L-3.83233 -0.91457C-3.64703 -0.91457 -3.54541 -0.956413 -3.54541 -1.19552C-3.54541 -1.41669 -3.62312 -1.47646 -3.83233 -1.47646L-4.08339 -1.47646L-4.08339 -3.86152C-4.08339 -4.07671 -4.14914 -4.14844 -4.37031 -4.14844L-4.80668 -4.14844C-4.92025 -4.14844 -5.00992 -4.14844 -5.08165 -4.01096ZM-5.08165 -4.01096M-5.83482 -1.47646C-4.87841 -3.23387 -4.82461 -3.41918 -4.79472 -3.5208L-4.78874 -3.5208L-4.78874 -1.47646ZM-4.78874 -1.47646M-2.98949 -0M-2.19447 -3.86152C-2.19447 -4.0528 -2.23632 -4.14844 -2.4814 -4.14844L-2.70257 -4.14844C-2.91776 -4.14844 -2.98949 -4.08269 -2.98949 -3.86152L-2.98949 -0.286924C-2.98949 -0.071731 -2.92374 -0 -2.70257 -0L-2.46346 -0C-2.36185 -0 -2.18252 -0 -2.17654 -0.233126C-1.90157 0.0657534 -1.59671 0.0657534 -1.50107 0.0657534C-0.227848 0.0657534 -0.227848 -1.08194 -0.227848 -1.38082C-0.227848 -1.66775 -0.227848 -2.80349 -1.35163 -2.80349C-1.8418 -2.80349 -2.14067 -2.52852 -2.19447 -2.46874ZM-2.19447 -2.46874M-2.17654 -2.16389C-2.09883 -2.23562 -1.9195 -2.3731 -1.64454 -2.3731C-1.0408 -2.3731 -1.0408 -1.82316 -1.0408 -1.37484C-1.0408 -0.932503 -1.0408 -0.364633 -1.71029 -0.364633C-1.96135 -0.364633 -2.11079 -0.514072 -2.17654 -0.597758ZM-2.17654 -0.597758\" fill=\"black\"/>\n",
       " </g>\n",
       " <g transform=\"matrix(1.000000,0.000000,0.000000,1.000000,127.559055,-141.732283)\">\n",
       "  <path d=\"M0.278954 -0M3.7061 -1.70361L4.6924 -1.70361L4.6924 -2.31133L3.7061 -2.31133L3.7061 -6.53549L2.7995 -6.53549L0.278954 -2.31133L0.278954 -1.70361L2.91905 -1.70361L2.91905 -0L3.7061 -0ZM3.7061 -0M1.05604 -2.31133C1.5741 -3.16812 2.97883 -5.52927 2.97883 -6.09714L2.97883 -2.31133ZM2.97883 -2.31133\" fill=\"black\"/>\n",
       " </g>\n",
       " <g stroke-width=\"0.400879\">\n",
       "  <path d=\"M132.54 -133.642C193.184 -132.796 282.199 -102.043 288.357 -155.616\" stroke=\"#3cc\"/>\n",
       "  <g stroke-linecap=\"butt\" stroke-dasharray=\"none\">\n",
       "   <path d=\"M286.632 -154.992C287.323 -156.168 287.985 -157.417 288.617 -158.74C289.106 -157.358 289.521 -156.007 289.864 -154.686L288.357 -155.616Z\" fill=\"#3cc\"/>\n",
       "  </g>\n",
       " </g>\n",
       " <g stroke-width=\"1.133858\">\n",
       "  <path d=\"M282.465 -157.74L294.925 -157.74L294.925 -165.828L282.465 -165.828Z\" stroke=\"#3cc\" fill=\"#9cc\"/>\n",
       " </g>\n",
       " <g transform=\"matrix(1.000000,0.000000,0.000000,1.000000,283.464567,-158.740157)\">\n",
       "  <path d=\"M0.288917 -0M0.37858 -2.43088C0.288917 -2.30137 0.288917 -2.28144 0.288917 -2.08219C0.288917 -1.75342 0.37858 -1.68369 0.687422 -1.68369L3.19801 -1.68369L3.19801 -0.607721L2.58032 -0.607721C2.42092 -0.607721 2.18182 -0.607721 2.18182 -0.298879C2.18182 -0 2.43088 -0 2.58032 -0L4.3736 -0C4.52304 -0 4.7721 -0 4.7721 -0.298879C4.7721 -0.607721 4.533 -0.607721 4.3736 -0.607721L3.75592 -0.607721L3.75592 -1.68369L4.533 -1.68369C4.68244 -1.68369 4.93151 -1.68369 4.93151 -1.98257C4.93151 -2.29141 4.6924 -2.29141 4.533 -2.29141L3.75592 -2.29141L3.75592 -5.79826C3.75592 -6.12702 3.68618 -6.20672 3.34745 -6.20672L3.06849 -6.20672C2.82939 -6.20672 2.77958 -6.19676 2.65006 -5.99751ZM2.65006 -5.99751M0.986301 -2.29141L3.19801 -5.76837L3.19801 -2.29141ZM3.19801 -2.29141M5.74844 -0M7.99004 -3.87547C7.64134 -3.87547 7.20299 -3.80573 6.79452 -3.58655L6.79452 -5.47945L9.18555 -5.47945C9.33499 -5.47945 9.58406 -5.47945 9.58406 -5.77833C9.58406 -6.08717 9.34496 -6.08717 9.18555 -6.08717L6.5056 -6.08717C6.17684 -6.08717 6.1071 -5.99751 6.1071 -5.6787L6.1071 -3.02864C6.1071 -2.84932 6.1071 -2.62017 6.4259 -2.62017C6.60523 -2.62017 6.64508 -2.66999 6.72478 -2.76961C6.99377 -3.08842 7.40224 -3.26775 7.98007 -3.26775C8.79701 -3.26775 9.24533 -2.54047 9.24533 -1.8929C9.24533 -1.09589 8.53798 -0.498132 7.70112 -0.498132C7.42217 -0.498132 6.78456 -0.577833 6.5056 -1.12578C6.55542 -1.17559 6.63512 -1.24533 6.63512 -1.44458C6.63512 -1.7335 6.40598 -1.8929 6.19676 -1.8929C6.04732 -1.8929 5.74844 -1.80324 5.74844 -1.41469C5.74844 -0.587796 6.58531 0.109589 7.70112 0.109589C8.94645 0.109589 9.93275 -0.787049 9.93275 -1.8929C9.93275 -2.89913 9.16563 -3.87547 7.99004 -3.87547ZM7.99004 -3.87547\" fill=\"black\"/>\n",
       " </g>\n",
       " <g transform=\"matrix(1.000000,0.000000,0.000000,1.000000,28.346457,-130.393701)\">\n",
       "  <path d=\"M0.737235 -0M1.62391 -6.7746L0.737235 -6.7746L0.737235 -5.88792L1.62391 -5.88792ZM1.62391 -5.88792M1.55417 -4.42341L0.806974 -4.42341L0.806974 -0L1.55417 -0ZM1.55417 -0M3.17808 -0M6.70486 -2.96887C6.70486 -3.6264 6.55542 -4.533 5.33998 -4.533C4.72229 -4.533 4.24408 -4.22416 3.92528 -3.81569L3.92528 -6.91407L3.17808 -6.91407L3.17808 -0L3.95517 -0L3.95517 -2.44085C3.95517 -3.09838 4.20423 -3.92528 4.96139 -3.92528C5.91781 -3.92528 5.92777 -3.21793 5.92777 -2.89913L5.92777 -0L6.70486 -0ZM6.70486 -0M8.3188 -0M9.066 -6.91407L8.3188 -6.91407L8.3188 -0L9.066 -0ZM9.066 -0\" fill=\"black\"/>\n",
       " </g>\n",
       " <g transform=\"matrix(1.000000,0.000000,0.000000,1.000000,124.724409,-130.393701)\">\n",
       "  <path d=\"M-6.45649 -0M-6.40867 -1.56613C-6.45649 -1.47646 -6.45649 -1.45853 -6.45649 -1.35093L-6.45649 -1.20149C-6.45649 -1.01021 -6.41465 -0.91457 -6.16957 -0.91457L-4.82461 -0.91457L-4.82461 -0.286924C-4.82461 -0.0956413 -4.78277 -0 -4.53769 -0L-4.37031 -0C-4.14317 -0 -4.08339 -0.0777086 -4.08339 -0.286924L-4.08339 -0.91457L-3.83233 -0.91457C-3.64703 -0.91457 -3.54541 -0.956413 -3.54541 -1.19552C-3.54541 -1.41669 -3.62312 -1.47646 -3.83233 -1.47646L-4.08339 -1.47646L-4.08339 -3.86152C-4.08339 -4.07671 -4.14914 -4.14844 -4.37031 -4.14844L-4.80668 -4.14844C-4.92025 -4.14844 -5.00992 -4.14844 -5.08165 -4.01096ZM-5.08165 -4.01096M-5.83482 -1.47646C-4.87841 -3.23387 -4.82461 -3.41918 -4.79472 -3.5208L-4.78874 -3.5208L-4.78874 -1.47646ZM-4.78874 -1.47646M-2.98949 -0M-2.19447 -3.86152C-2.19447 -4.0528 -2.23632 -4.14844 -2.4814 -4.14844L-2.70257 -4.14844C-2.91776 -4.14844 -2.98949 -4.08269 -2.98949 -3.86152L-2.98949 -0.286924C-2.98949 -0.071731 -2.92374 -0 -2.70257 -0L-2.46346 -0C-2.36185 -0 -2.18252 -0 -2.17654 -0.233126C-1.90157 0.0657534 -1.59671 0.0657534 -1.50107 0.0657534C-0.227848 0.0657534 -0.227848 -1.08194 -0.227848 -1.38082C-0.227848 -1.66775 -0.227848 -2.80349 -1.35163 -2.80349C-1.8418 -2.80349 -2.14067 -2.52852 -2.19447 -2.46874ZM-2.19447 -2.46874M-2.17654 -2.16389C-2.09883 -2.23562 -1.9195 -2.3731 -1.64454 -2.3731C-1.0408 -2.3731 -1.0408 -1.82316 -1.0408 -1.37484C-1.0408 -0.932503 -1.0408 -0.364633 -1.71029 -0.364633C-1.96135 -0.364633 -2.11079 -0.514072 -2.17654 -0.597758ZM-2.17654 -0.597758\" fill=\"black\"/>\n",
       " </g>\n",
       " <g transform=\"matrix(1.000000,0.000000,0.000000,1.000000,127.559055,-130.393701)\">\n",
       "  <path d=\"M0.388543 -0M1.52428 -5.89788L4.14446 -5.89788L4.14446 -6.53549L0.806974 -6.53549L0.806974 -2.85928L1.46451 -2.85928C1.63387 -3.25778 2.00249 -3.64633 2.58032 -3.64633C3.04857 -3.64633 3.58655 -3.23786 3.58655 -2.04234C3.58655 -0.388543 2.37111 -0.388543 2.28144 -0.388543C1.61395 -0.388543 1.00623 -0.777086 0.71731 -1.31507L0.388543 -0.757161C0.797011 -0.18929 1.48443 0.219178 2.29141 0.219178C3.47696 0.219178 4.47323 -0.767123 4.47323 -2.02242C4.47323 -3.26775 3.61644 -4.25405 2.59029 -4.25405C2.19178 -4.25405 1.8132 -4.10461 1.52428 -3.84558ZM1.52428 -3.84558\" fill=\"black\"/>\n",
       " </g>\n",
       " <g stroke-width=\"0.400879\">\n",
       "  <path d=\"M142.116 -122.221C207.488 -120.501 298.096 -97.8796 303.983 -155.613\" stroke=\"#7f7f33\"/>\n",
       "  <g stroke-linecap=\"butt\" stroke-dasharray=\"none\">\n",
       "   <path d=\"M302.269 -154.971C302.945 -156.166 303.594 -157.421 304.215 -158.74C304.708 -157.369 305.137 -156.022 305.504 -154.699L303.983 -155.613Z\" fill=\"#7f7f33\"/>\n",
       "  </g>\n",
       " </g>\n",
       " <g stroke-width=\"1.133858\">\n",
       "  <path d=\"M298.055 -157.74L310.516 -157.74L310.516 -165.828L298.055 -165.828Z\" stroke=\"#7f7f33\" fill=\"#9cc\"/>\n",
       " </g>\n",
       " <g transform=\"matrix(1.000000,0.000000,0.000000,1.000000,299.055118,-158.740157)\">\n",
       "  <path d=\"M0.498132 -0M4.72229 -3.03861C4.72229 -4.89166 3.7061 -6.19676 2.61021 -6.19676C1.4944 -6.19676 0.498132 -4.86177 0.498132 -3.04857C0.498132 -1.19552 1.51432 0.109589 2.61021 0.109589C3.72603 0.109589 4.72229 -1.2254 4.72229 -3.03861ZM4.72229 -3.03861M2.61021 -0.498132C1.83313 -0.498132 1.18555 -1.67372 1.18555 -3.14819C1.18555 -4.60274 1.87298 -5.58904 2.61021 -5.58904C3.33748 -5.58904 4.03487 -4.6127 4.03487 -3.14819C4.03487 -1.67372 3.3873 -0.498132 2.61021 -0.498132ZM2.61021 -0.498132M5.72852 -0M9.95268 -3.03861C9.95268 -4.89166 8.93649 -6.19676 7.8406 -6.19676C6.72478 -6.19676 5.72852 -4.86177 5.72852 -3.04857C5.72852 -1.19552 6.74471 0.109589 7.8406 0.109589C8.95641 0.109589 9.95268 -1.2254 9.95268 -3.03861ZM9.95268 -3.03861M7.8406 -0.498132C7.06351 -0.498132 6.41594 -1.67372 6.41594 -3.14819C6.41594 -4.60274 7.10336 -5.58904 7.8406 -5.58904C8.56787 -5.58904 9.26526 -4.6127 9.26526 -3.14819C9.26526 -1.67372 8.61768 -0.498132 7.8406 -0.498132ZM7.8406 -0.498132\" fill=\"black\"/>\n",
       " </g>\n",
       " <g transform=\"matrix(1.000000,0.000000,0.000000,1.000000,28.346457,-119.055118)\">\n",
       "  <path d=\"M0.18929 -0M1.74346 -3.84558L3.14819 -3.84558L3.14819 -4.42341L1.74346 -4.42341L1.74346 -5.68867L1.05604 -5.68867L1.05604 -4.42341L0.18929 -4.42341L0.18929 -3.84558L1.02615 -3.84558L1.02615 -1.18555C1.02615 -0.587796 1.16563 0.109589 1.85305 0.109589C2.55044 0.109589 3.05853 -0.139477 3.3076 -0.268991L3.14819 -0.856787C2.88917 -0.647572 2.57036 -0.52802 2.25156 -0.52802C1.88294 -0.52802 1.74346 -0.826899 1.74346 -1.35492ZM1.74346 -1.35492M3.89539 -0M8.26899 -2.19178C8.26899 -3.52677 7.27273 -4.59278 6.08717 -4.59278C4.86177 -4.59278 3.89539 -3.49689 3.89539 -2.19178C3.89539 -0.876712 4.91158 0.109589 6.07721 0.109589C7.27273 0.109589 8.26899 -0.896638 8.26899 -2.19178ZM8.26899 -2.19178M6.07721 -0.52802C5.38979 -0.52802 4.67248 -1.08593 4.67248 -2.29141C4.67248 -3.49689 5.42964 -3.98506 6.07721 -3.98506C6.7746 -3.98506 7.49191 -3.467 7.49191 -2.29141C7.49191 -1.11582 6.81445 -0.52802 6.07721 -0.52802ZM6.07721 -0.52802M8.85679 -0M11.995 -4.27397C11.477 -4.51308 11.0685 -4.59278 10.5604 -4.59278C10.3113 -4.59278 8.9066 -4.59278 8.9066 -3.28767C8.9066 -2.7995 9.19552 -2.4807 9.44458 -2.29141C9.75342 -2.07223 9.9726 -2.03238 10.5205 -1.92279C10.8792 -1.85305 11.457 -1.7335 11.457 -1.20548C11.457 -0.518057 10.67 -0.518057 10.5205 -0.518057C9.71357 -0.518057 9.15567 -0.886675 8.97634 -1.00623L8.85679 -0.328767C9.17559 -0.169365 9.72354 0.109589 10.5305 0.109589C10.7098 0.109589 11.2578 0.109589 11.6862 -0.209215C11.995 -0.448319 12.1644 -0.846824 12.1644 -1.27522C12.1644 -1.82316 11.7958 -2.16189 11.7758 -2.19178C11.3873 -2.54047 11.1183 -2.60025 10.6202 -2.68991C10.0722 -2.7995 9.61395 -2.89913 9.61395 -3.3873C9.61395 -4.00498 10.3313 -4.00498 10.4608 -4.00498C10.7796 -4.00498 11.3076 -3.96513 11.8755 -3.6264ZM11.8755 -3.6264\" fill=\"black\"/>\n",
       " </g>\n",
       " <g transform=\"matrix(1.000000,0.000000,0.000000,1.000000,124.724409,-119.055118)\">\n",
       "  <path d=\"M-7.21698 -0M-5.54923 -3.99303C-5.54923 -4.1066 -5.54923 -4.27995 -5.81225 -4.27995C-5.9318 -4.27995 -5.95571 -4.268 -6.02744 -4.19626C-6.13504 -4.10062 -6.36218 -3.87945 -6.95397 -3.8675C-7.06156 -3.8675 -7.21698 -3.82565 -7.21698 -3.6523C-7.21698 -3.43711 -7.00776 -3.43711 -6.93006 -3.43711C-6.75073 -3.43711 -6.54151 -3.467 -6.36816 -3.51482L-6.36816 -0.430386L-6.83441 -0.430386C-6.91212 -0.430386 -7.12134 -0.430386 -7.12134 -0.215193C-7.12134 -0 -6.91212 -0 -6.83441 -0L-5.1308 -0C-5.06505 -0 -4.84388 -0 -4.84388 -0.215193C-4.84388 -0.430386 -5.06505 -0.430386 -5.1308 -0.430386L-5.54923 -0.430386ZM-5.54923 -0.430386M-3.83964 -0M-3.55272 -4.14844C-3.76791 -4.14844 -3.83964 -4.08269 -3.83964 -3.86152L-3.83964 -0.286924C-3.83964 -0.071731 -3.77389 -0 -3.55272 -0L-1.91486 -0C-1.47252 -0 -0.372645 -0.0777086 -0.372645 -1.15965C-0.372645 -2.00249 -1.20353 -2.134 -1.4247 -2.16986C-0.874762 -2.29539 -0.55795 -2.60623 -0.55795 -3.07248C-0.55795 -4.14844 -1.83118 -4.14844 -2.08223 -4.14844ZM-2.08223 -4.14844M-2.9968 -2.3731L-2.9968 -3.63437L-2.29743 -3.63437C-2.0643 -3.63437 -1.3709 -3.61644 -1.3709 -3.05455C-1.3709 -2.3731 -2.15397 -2.3731 -2.3034 -2.3731ZM-2.3034 -2.3731M-2.9968 -0.514072L-2.9968 -1.94271L-2.24363 -1.94271C-2.03441 -1.94271 -1.20353 -1.94271 -1.20353 -1.17161C-1.20353 -0.555915 -1.84313 -0.514072 -2.13006 -0.514072ZM-2.13006 -0.514072\" fill=\"black\"/>\n",
       " </g>\n",
       " <g transform=\"matrix(1.000000,0.000000,0.000000,1.000000,127.559055,-119.055118)\">\n",
       "  <path d=\"M0.418431 -0M4.55293 -3.24782C4.55293 -4.03487 4.51308 -4.96139 4.09465 -5.76837C3.68618 -6.51557 2.99875 -6.75467 2.49066 -6.75467C1.90286 -6.75467 1.20548 -6.48568 0.797011 -5.599C0.468244 -4.87173 0.418431 -4.04483 0.418431 -3.24782C0.418431 -2.46077 0.458281 -1.7335 0.757161 -1.00623C1.15567 -0.0498132 1.91283 0.219178 2.4807 0.219178C3.20797 0.219178 3.83562 -0.18929 4.15442 -0.876712C4.4533 -1.52428 4.55293 -2.18182 4.55293 -3.24782ZM4.55293 -3.24782M2.49066 -0.388543C1.9726 -0.388543 1.56413 -0.767123 1.36488 -1.48443C1.20548 -2.0523 1.19552 -2.59029 1.19552 -3.36737C1.19552 -3.99502 1.19552 -4.59278 1.36488 -5.14072C1.42466 -5.33001 1.67372 -6.14695 2.4807 -6.14695C3.25778 -6.14695 3.51681 -5.38979 3.58655 -5.21046C3.77584 -4.65255 3.77584 -3.98506 3.77584 -3.36737C3.77584 -2.70984 3.77584 -2.08219 3.59651 -1.45455C3.33748 -0.547945 2.80946 -0.388543 2.49066 -0.388543ZM2.49066 -0.388543M4.98132 -0M7.57161 -2.28144L9.39477 -4.42341L8.57783 -4.42341L7.24284 -2.77958L5.868 -4.42341L5.0411 -4.42341L6.91407 -2.28144L4.98132 -0L5.79826 -0L7.24284 -1.87298L8.73724 -0L9.56413 -0ZM9.56413 -0M9.99253 -0M14.127 -3.24782C14.127 -4.03487 14.0872 -4.96139 13.6687 -5.76837C13.2603 -6.51557 12.5729 -6.75467 12.0648 -6.75467C11.477 -6.75467 10.7796 -6.48568 10.3711 -5.599C10.0423 -4.87173 9.99253 -4.04483 9.99253 -3.24782C9.99253 -2.46077 10.0324 -1.7335 10.3313 -1.00623C10.7298 -0.0498132 11.4869 0.219178 12.0548 0.219178C12.7821 0.219178 13.4097 -0.18929 13.7285 -0.876712C14.0274 -1.52428 14.127 -2.18182 14.127 -3.24782ZM14.127 -3.24782M12.0648 -0.388543C11.5467 -0.388543 11.1382 -0.767123 10.939 -1.48443C10.7796 -2.0523 10.7696 -2.59029 10.7696 -3.36737C10.7696 -3.99502 10.7696 -4.59278 10.939 -5.14072C10.9988 -5.33001 11.2478 -6.14695 12.0548 -6.14695C12.8319 -6.14695 13.0909 -5.38979 13.1606 -5.21046C13.3499 -4.65255 13.3499 -3.98506 13.3499 -3.36737C13.3499 -2.70984 13.3499 -2.08219 13.1706 -1.45455C12.9116 -0.547945 12.3836 -0.388543 12.0648 -0.388543ZM12.0648 -0.388543\" fill=\"black\"/>\n",
       " </g>\n",
       " <g stroke-width=\"0.400879\">\n",
       "  <path d=\"M137.522 -110.947C213.842 -109.894 321.552 -86.1449 327.467 -155.611\" stroke=\"#7fcc7f\"/>\n",
       "  <g stroke-linecap=\"butt\" stroke-dasharray=\"none\">\n",
       "   <path d=\"M325.767 -154.945C326.422 -156.159 327.054 -157.424 327.662 -158.74C328.162 -157.38 328.61 -156.039 329.006 -154.717L327.467 -155.611Z\" fill=\"#7fcc7f\"/>\n",
       "  </g>\n",
       " </g>\n",
       " <g stroke-width=\"1.133858\">\n",
       "  <path d=\"M313.646 -157.74L341.797 -157.74L341.797 -165.828L313.646 -165.828Z\" stroke=\"#7fcc7f\" fill=\"#9cc\"/>\n",
       " </g>\n",
       " <g transform=\"matrix(1.000000,0.000000,0.000000,1.000000,314.645669,-158.740157)\">\n",
       "  <path d=\"M0.498132 -0M4.72229 -3.03861C4.72229 -4.89166 3.7061 -6.19676 2.61021 -6.19676C1.4944 -6.19676 0.498132 -4.86177 0.498132 -3.04857C0.498132 -1.19552 1.51432 0.109589 2.61021 0.109589C3.72603 0.109589 4.72229 -1.2254 4.72229 -3.03861ZM4.72229 -3.03861M2.61021 -0.498132C1.83313 -0.498132 1.18555 -1.67372 1.18555 -3.14819C1.18555 -4.60274 1.87298 -5.58904 2.61021 -5.58904C3.33748 -5.58904 4.03487 -4.6127 4.03487 -3.14819C4.03487 -1.67372 3.3873 -0.498132 2.61021 -0.498132ZM2.61021 -0.498132M5.72852 -0M9.95268 -3.03861C9.95268 -4.89166 8.93649 -6.19676 7.8406 -6.19676C6.72478 -6.19676 5.72852 -4.86177 5.72852 -3.04857C5.72852 -1.19552 6.74471 0.109589 7.8406 0.109589C8.95641 0.109589 9.95268 -1.2254 9.95268 -3.03861ZM9.95268 -3.03861M7.8406 -0.498132C7.06351 -0.498132 6.41594 -1.67372 6.41594 -3.14819C6.41594 -4.60274 7.10336 -5.58904 7.8406 -5.58904C8.56787 -5.58904 9.26526 -4.6127 9.26526 -3.14819C9.26526 -1.67372 8.61768 -0.498132 7.8406 -0.498132ZM7.8406 -0.498132\" fill=\"black\"/>\n",
       "  <path d=\"M16.7371 -0M18.7894 -5.78829C18.7894 -5.9477 18.7894 -6.19676 18.4905 -6.19676C18.3012 -6.19676 18.2415 -6.07721 18.1916 -5.95766C17.8131 -5.11083 17.295 -5.00125 17.1057 -4.98132C16.9463 -4.97136 16.7371 -4.95143 16.7371 -4.67248C16.7371 -4.42341 16.9164 -4.3736 17.0659 -4.3736C17.2552 -4.3736 17.6636 -4.43337 18.102 -4.81196L18.102 -0.607721L17.1954 -0.607721C17.036 -0.607721 16.7969 -0.607721 16.7969 -0.298879C16.7969 -0 17.0459 -0 17.1954 -0L19.696 -0C19.8454 -0 20.0945 -0 20.0945 -0.298879C20.0945 -0.607721 19.8554 -0.607721 19.696 -0.607721L18.7894 -0.607721ZM18.7894 -0.607721M21.2103 -0M21.3 -2.43088C21.2103 -2.30137 21.2103 -2.28144 21.2103 -2.08219C21.2103 -1.75342 21.3 -1.68369 21.6088 -1.68369L24.1194 -1.68369L24.1194 -0.607721L23.5017 -0.607721C23.3423 -0.607721 23.1032 -0.607721 23.1032 -0.298879C23.1032 -0 23.3523 -0 23.5017 -0L25.295 -0C25.4444 -0 25.6935 -0 25.6935 -0.298879C25.6935 -0.607721 25.4544 -0.607721 25.295 -0.607721L24.6773 -0.607721L24.6773 -1.68369L25.4544 -1.68369C25.6038 -1.68369 25.8529 -1.68369 25.8529 -1.98257C25.8529 -2.29141 25.6138 -2.29141 25.4544 -2.29141L24.6773 -2.29141L24.6773 -5.79826C24.6773 -6.12702 24.6076 -6.20672 24.2689 -6.20672L23.9899 -6.20672C23.7508 -6.20672 23.701 -6.19676 23.5715 -5.99751ZM23.5715 -5.99751M21.9077 -2.29141L24.1194 -5.76837L24.1194 -2.29141ZM24.1194 -2.29141\" fill=\"black\"/>\n",
       " </g>\n",
       " <g transform=\"matrix(1.000000,0.000000,0.000000,1.000000,28.346457,-107.716535)\">\n",
       "  <path d=\"M0.806974 -0M1.55417 -6.91407L0.806974 -6.91407L0.806974 -0L1.55417 -0ZM1.55417 -0M2.7198 -0M6.49564 -2.18182C6.49564 -2.52055 6.48568 -3.26775 6.09714 -3.8655C5.68867 -4.48319 5.08095 -4.59278 4.72229 -4.59278C3.61644 -4.59278 2.7198 -3.53674 2.7198 -2.25156C2.7198 -0.936488 3.67621 0.109589 4.87173 0.109589C5.49938 0.109589 6.06725 -0.129514 6.45579 -0.408468L6.39601 -1.05604C5.76837 -0.537983 5.11083 -0.498132 4.88169 -0.498132C4.08468 -0.498132 3.44707 -1.20548 3.41719 -2.18182ZM3.41719 -2.18182M3.467 -2.72976C3.6264 -3.48692 4.15442 -3.98506 4.72229 -3.98506C5.24035 -3.98506 5.79826 -3.64633 5.92777 -2.72976ZM5.92777 -2.72976M7.60149 -0M11.1283 -2.96887C11.1283 -3.6264 10.9788 -4.533 9.76339 -4.533C8.86675 -4.533 8.37858 -3.85554 8.3188 -3.77584L8.3188 -4.48319L7.60149 -4.48319L7.60149 -0L8.37858 -0L8.37858 -2.44085C8.37858 -3.09838 8.62765 -3.92528 9.38481 -3.92528C10.3412 -3.92528 10.3512 -3.21793 10.3512 -2.89913L10.3512 -0L11.1283 -0ZM11.1283 -0\" fill=\"black\"/>\n",
       " </g>\n",
       " <g transform=\"matrix(1.000000,0.000000,0.000000,1.000000,124.724409,-107.716535)\">\n",
       "  <path d=\"M-7.39631 -0M-7.28273 -0.508095C-7.34251 -0.448319 -7.34251 -0.436364 -7.34251 -0.334745L-7.34251 -0.286924C-7.34251 -0.071731 -7.27675 -0 -7.05558 -0L-5.00527 -0C-4.77812 -0 -4.71835 -0.0777086 -4.71835 -0.286924L-4.71835 -0.358655C-4.71835 -0.454296 -4.71835 -0.56787 -4.84388 -0.621669C-4.88572 -0.645579 -5.077 -0.645579 -5.19656 -0.645579C-5.32806 -0.645579 -5.47152 -0.639601 -5.60303 -0.639601L-6.5714 -0.639601L-5.78236 -1.3868C-5.6927 -1.46451 -5.46555 -1.64981 -5.37588 -1.7335C-5.04712 -2.05629 -4.71835 -2.3731 -4.71835 -2.90511C-4.71835 -3.63437 -5.24438 -4.27995 -6.12308 -4.27995C-6.3323 -4.27995 -6.67302 -4.25006 -6.95994 -4.01694C-7.01374 -3.97509 -7.28871 -3.7599 -7.39631 -3.3594L-7.09743 -2.97684C-7.06156 -2.92902 -7.04363 -2.90511 -7.00179 -2.90511C-6.94799 -2.90511 -6.93603 -2.94695 -6.9181 -3.01868C-6.79855 -3.43113 -6.59531 -3.68219 -6.21274 -3.68219C-5.74649 -3.68219 -5.55521 -3.25778 -5.55521 -2.89315C-5.55521 -2.51059 -5.78236 -2.11009 -6.14101 -1.72752ZM-6.14101 -1.72752M-3.83964 -0M-3.55272 -4.14844C-3.76791 -4.14844 -3.83964 -4.08269 -3.83964 -3.86152L-3.83964 -0.286924C-3.83964 -0.071731 -3.77389 -0 -3.55272 -0L-1.91486 -0C-1.47252 -0 -0.372645 -0.0777086 -0.372645 -1.15965C-0.372645 -2.00249 -1.20353 -2.134 -1.4247 -2.16986C-0.874762 -2.29539 -0.55795 -2.60623 -0.55795 -3.07248C-0.55795 -4.14844 -1.83118 -4.14844 -2.08223 -4.14844ZM-2.08223 -4.14844M-2.9968 -2.3731L-2.9968 -3.63437L-2.29743 -3.63437C-2.0643 -3.63437 -1.3709 -3.61644 -1.3709 -3.05455C-1.3709 -2.3731 -2.15397 -2.3731 -2.3034 -2.3731ZM-2.3034 -2.3731M-2.9968 -0.514072L-2.9968 -1.94271L-2.24363 -1.94271C-2.03441 -1.94271 -1.20353 -1.94271 -1.20353 -1.17161C-1.20353 -0.555915 -1.84313 -0.514072 -2.13006 -0.514072ZM-2.13006 -0.514072\" fill=\"black\"/>\n",
       " </g>\n",
       " <g transform=\"matrix(1.000000,0.000000,0.000000,1.000000,127.559055,-107.716535)\">\n",
       "  <path d=\"M0.418431 -0M1.7335 -1.87298L0.498132 -0.637609L0.498132 -0L4.47323 -0L4.47323 -0.707347L2.66002 -0.707347C2.54047 -0.707347 2.42092 -0.697385 2.30137 -0.697385L1.21544 -0.697385C1.53425 -0.976339 2.29141 -1.72354 2.60025 -2.01245C2.78954 -2.19178 3.29763 -2.61021 3.48692 -2.78954C3.93524 -3.23786 4.47323 -3.76588 4.47323 -4.6127C4.47323 -5.75841 3.66625 -6.75467 2.35118 -6.75467C1.21544 -6.75467 0.657534 -5.97758 0.418431 -5.1208C0.537983 -4.95143 0.587796 -4.89166 0.607721 -4.86177C0.627646 -4.84184 0.727273 -4.71233 0.826899 -4.57285C1.02615 -5.33998 1.30511 -6.11706 2.21171 -6.11706C3.14819 -6.11706 3.65629 -5.36986 3.65629 -4.59278C3.65629 -3.74595 3.08842 -3.17808 2.50062 -2.58032ZM2.50062 -2.58032M5.39975 -0M9.53425 -3.24782C9.53425 -4.03487 9.4944 -4.96139 9.07597 -5.76837C8.6675 -6.51557 7.98007 -6.75467 7.47198 -6.75467C6.88418 -6.75467 6.1868 -6.48568 5.77833 -5.599C5.44956 -4.87173 5.39975 -4.04483 5.39975 -3.24782C5.39975 -2.46077 5.4396 -1.7335 5.73848 -1.00623C6.13699 -0.0498132 6.89415 0.219178 7.46202 0.219178C8.18929 0.219178 8.81694 -0.18929 9.13574 -0.876712C9.43462 -1.52428 9.53425 -2.18182 9.53425 -3.24782ZM9.53425 -3.24782M7.47198 -0.388543C6.95392 -0.388543 6.54545 -0.767123 6.3462 -1.48443C6.1868 -2.0523 6.17684 -2.59029 6.17684 -3.36737C6.17684 -3.99502 6.17684 -4.59278 6.3462 -5.14072C6.40598 -5.33001 6.65504 -6.14695 7.46202 -6.14695C8.2391 -6.14695 8.49813 -5.38979 8.56787 -5.21046C8.75716 -4.65255 8.75716 -3.98506 8.75716 -3.36737C8.75716 -2.70984 8.75716 -2.08219 8.57783 -1.45455C8.3188 -0.547945 7.79078 -0.388543 7.47198 -0.388543ZM7.47198 -0.388543\" fill=\"black\"/>\n",
       " </g>\n",
       " <g stroke-width=\"0.400879\">\n",
       "  <path d=\"M132.54 -99.6363C222.821 -99.123 352.721 -71.4538 358.689 -155.609\" stroke=\"#7f33cc\"/>\n",
       "  <g stroke-linecap=\"butt\" stroke-dasharray=\"none\">\n",
       "   <path d=\"M357.002 -154.923C357.638 -156.154 358.255 -157.426 358.852 -158.74C359.359 -157.389 359.823 -156.053 360.243 -154.732L358.689 -155.609Z\" fill=\"#7f33cc\"/>\n",
       "  </g>\n",
       " </g>\n",
       " <g stroke-width=\"1.133858\">\n",
       "  <path d=\"M344.827 -157.74L372.978 -157.74L372.978 -165.828L344.827 -165.828Z\" stroke=\"#7f33cc\" fill=\"#9cc\"/>\n",
       " </g>\n",
       " <g transform=\"matrix(1.000000,0.000000,0.000000,1.000000,345.826772,-158.740157)\">\n",
       "  <path d=\"M0.498132 -0M4.72229 -3.03861C4.72229 -4.89166 3.7061 -6.19676 2.61021 -6.19676C1.4944 -6.19676 0.498132 -4.86177 0.498132 -3.04857C0.498132 -1.19552 1.51432 0.109589 2.61021 0.109589C3.72603 0.109589 4.72229 -1.2254 4.72229 -3.03861ZM4.72229 -3.03861M2.61021 -0.498132C1.83313 -0.498132 1.18555 -1.67372 1.18555 -3.14819C1.18555 -4.60274 1.87298 -5.58904 2.61021 -5.58904C3.33748 -5.58904 4.03487 -4.6127 4.03487 -3.14819C4.03487 -1.67372 3.3873 -0.498132 2.61021 -0.498132ZM2.61021 -0.498132M5.72852 -0M9.95268 -3.03861C9.95268 -4.89166 8.93649 -6.19676 7.8406 -6.19676C6.72478 -6.19676 5.72852 -4.86177 5.72852 -3.04857C5.72852 -1.19552 6.74471 0.109589 7.8406 0.109589C8.95641 0.109589 9.95268 -1.2254 9.95268 -3.03861ZM9.95268 -3.03861M7.8406 -0.498132C7.06351 -0.498132 6.41594 -1.67372 6.41594 -3.14819C6.41594 -4.60274 7.10336 -5.58904 7.8406 -5.58904C8.56787 -5.58904 9.26526 -4.6127 9.26526 -3.14819C9.26526 -1.67372 8.61768 -0.498132 7.8406 -0.498132ZM7.8406 -0.498132\" fill=\"black\"/>\n",
       "  <path d=\"M16.1892 -0M20.4133 -3.03861C20.4133 -4.89166 19.3971 -6.19676 18.3012 -6.19676C17.1854 -6.19676 16.1892 -4.86177 16.1892 -3.04857C16.1892 -1.19552 17.2053 0.109589 18.3012 0.109589C19.417 0.109589 20.4133 -1.2254 20.4133 -3.03861ZM20.4133 -3.03861M18.3012 -0.498132C17.5241 -0.498132 16.8766 -1.67372 16.8766 -3.14819C16.8766 -4.60274 17.564 -5.58904 18.3012 -5.58904C19.0285 -5.58904 19.7259 -4.6127 19.7259 -3.14819C19.7259 -1.67372 19.0783 -0.498132 18.3012 -0.498132ZM18.3012 -0.498132M21.9675 -0M24.0198 -5.78829C24.0198 -5.9477 24.0198 -6.19676 23.7209 -6.19676C23.5316 -6.19676 23.4718 -6.07721 23.422 -5.95766C23.0434 -5.11083 22.5254 -5.00125 22.3361 -4.98132C22.1767 -4.97136 21.9675 -4.95143 21.9675 -4.67248C21.9675 -4.42341 22.1468 -4.3736 22.2963 -4.3736C22.4855 -4.3736 22.894 -4.43337 23.3324 -4.81196L23.3324 -0.607721L22.4258 -0.607721C22.2664 -0.607721 22.0273 -0.607721 22.0273 -0.298879C22.0273 -0 22.2763 -0 22.4258 -0L24.9264 -0C25.0758 -0 25.3249 -0 25.3249 -0.298879C25.3249 -0.607721 25.0858 -0.607721 24.9264 -0.607721L24.0198 -0.607721ZM24.0198 -0.607721\" fill=\"black\"/>\n",
       " </g>\n",
       " <g transform=\"matrix(1.000000,0.000000,0.000000,1.000000,28.346457,-96.377953)\">\n",
       "  <path d=\"M0.737235 -0M1.62391 -6.7746L0.737235 -6.7746L0.737235 -5.88792L1.62391 -5.88792ZM1.62391 -5.88792M1.55417 -4.42341L0.806974 -4.42341L0.806974 -0L1.55417 -0ZM1.55417 -0M2.72976 -0M6.69489 -6.91407L5.9477 -6.91407L5.9477 -3.98506C5.41968 -4.42341 4.86177 -4.533 4.49315 -4.533C3.50685 -4.533 2.72976 -3.49689 2.72976 -2.21171C2.72976 -0.9066 3.49689 0.109589 4.44334 0.109589C4.7721 0.109589 5.3599 0.0199253 5.91781 -0.518057L5.91781 -0L6.69489 -0ZM6.69489 -0M5.91781 -1.38481C5.91781 -1.24533 5.90785 -1.066 5.58904 -0.777086C5.3599 -0.577833 5.11083 -0.498132 4.85181 -0.498132C4.23412 -0.498132 3.50685 -0.966376 3.50685 -2.20174C3.50685 -3.51681 4.36364 -3.92528 4.95143 -3.92528C5.39975 -3.92528 5.69863 -3.69614 5.91781 -3.37733ZM5.91781 -3.37733\" fill=\"black\"/>\n",
       " </g>\n",
       " <g transform=\"matrix(1.000000,0.000000,0.000000,1.000000,124.724409,-96.377953)\">\n",
       "  <path d=\"M-7.39631 -0M-7.28273 -0.508095C-7.34251 -0.448319 -7.34251 -0.436364 -7.34251 -0.334745L-7.34251 -0.286924C-7.34251 -0.071731 -7.27675 -0 -7.05558 -0L-5.00527 -0C-4.77812 -0 -4.71835 -0.0777086 -4.71835 -0.286924L-4.71835 -0.358655C-4.71835 -0.454296 -4.71835 -0.56787 -4.84388 -0.621669C-4.88572 -0.645579 -5.077 -0.645579 -5.19656 -0.645579C-5.32806 -0.645579 -5.47152 -0.639601 -5.60303 -0.639601L-6.5714 -0.639601L-5.78236 -1.3868C-5.6927 -1.46451 -5.46555 -1.64981 -5.37588 -1.7335C-5.04712 -2.05629 -4.71835 -2.3731 -4.71835 -2.90511C-4.71835 -3.63437 -5.24438 -4.27995 -6.12308 -4.27995C-6.3323 -4.27995 -6.67302 -4.25006 -6.95994 -4.01694C-7.01374 -3.97509 -7.28871 -3.7599 -7.39631 -3.3594L-7.09743 -2.97684C-7.06156 -2.92902 -7.04363 -2.90511 -7.00179 -2.90511C-6.94799 -2.90511 -6.93603 -2.94695 -6.9181 -3.01868C-6.79855 -3.43113 -6.59531 -3.68219 -6.21274 -3.68219C-5.74649 -3.68219 -5.55521 -3.25778 -5.55521 -2.89315C-5.55521 -2.51059 -5.78236 -2.11009 -6.14101 -1.72752ZM-6.14101 -1.72752M-3.83964 -0M-3.55272 -4.14844C-3.76791 -4.14844 -3.83964 -4.08269 -3.83964 -3.86152L-3.83964 -0.286924C-3.83964 -0.071731 -3.77389 -0 -3.55272 -0L-1.91486 -0C-1.47252 -0 -0.372645 -0.0777086 -0.372645 -1.15965C-0.372645 -2.00249 -1.20353 -2.134 -1.4247 -2.16986C-0.874762 -2.29539 -0.55795 -2.60623 -0.55795 -3.07248C-0.55795 -4.14844 -1.83118 -4.14844 -2.08223 -4.14844ZM-2.08223 -4.14844M-2.9968 -2.3731L-2.9968 -3.63437L-2.29743 -3.63437C-2.0643 -3.63437 -1.3709 -3.61644 -1.3709 -3.05455C-1.3709 -2.3731 -2.15397 -2.3731 -2.3034 -2.3731ZM-2.3034 -2.3731M-2.9968 -0.514072L-2.9968 -1.94271L-2.24363 -1.94271C-2.03441 -1.94271 -1.20353 -1.94271 -1.20353 -1.17161C-1.20353 -0.555915 -1.84313 -0.514072 -2.13006 -0.514072ZM-2.13006 -0.514072\" fill=\"black\"/>\n",
       " </g>\n",
       " <g transform=\"matrix(1.000000,0.000000,0.000000,1.000000,127.559055,-96.377953)\">\n",
       "  <path d=\"M0.886675 -0M2.97883 -6.75467L2.77958 -6.75467C2.19178 -6.14695 1.36488 -6.11706 0.886675 -6.09714L0.886675 -5.5193C1.21544 -5.52927 1.69365 -5.54919 2.19178 -5.75841L2.19178 -0.577833L0.946451 -0.577833L0.946451 -0L4.22416 -0L4.22416 -0.577833L2.97883 -0.577833ZM2.97883 -0.577833\" fill=\"black\"/>\n",
       " </g>\n",
       " <g transform=\"matrix(1.000000,0.000000,0.000000,1.000000,28.346457,-85.039370)\">\n",
       "  <path d=\"M0.268991 -0M1.75342 -3.84558L2.92902 -3.84558L2.92902 -4.42341L1.72354 -4.42341L1.72354 -5.62889C1.72354 -6.2665 2.08219 -6.41594 2.33126 -6.41594C2.53051 -6.41594 2.74969 -6.35616 2.92902 -6.24658L2.92902 -6.91407C2.86924 -6.934 2.62017 -7.02366 2.33126 -7.02366C1.59402 -7.02366 1.00623 -6.32628 1.00623 -5.33001L1.00623 -4.42341L0.268991 -4.42341L0.268991 -3.84558L1.00623 -3.84558L1.00623 -0L1.75342 -0ZM1.75342 -0M4.51308 -6.91407L3.76588 -6.91407L3.76588 -0L4.51308 -0ZM4.51308 -0M5.77833 -0M9.31507 -2.8792C9.31507 -3.89539 8.5878 -4.59278 7.67123 -4.59278C7.02366 -4.59278 6.57534 -4.43337 6.1071 -4.16438L6.16687 -3.50685C6.68493 -3.87547 7.18306 -4.00498 7.67123 -4.00498C8.13948 -4.00498 8.53798 -3.60648 8.53798 -2.86924L8.53798 -2.44085C7.04359 -2.42092 5.77833 -2.00249 5.77833 -1.12578C5.77833 -0.697385 6.04732 0.109589 6.91407 0.109589C7.05355 0.109589 7.99004 0.0896638 8.56787 -0.358655L8.56787 -0L9.31507 -0ZM9.31507 -0M8.53798 -1.31507C8.53798 -1.12578 8.53798 -0.876712 8.19925 -0.687422C7.91034 -0.508095 7.53176 -0.498132 7.42217 -0.498132C6.94396 -0.498132 6.49564 -0.727273 6.49564 -1.1457C6.49564 -1.84309 8.10959 -1.91283 8.53798 -1.93275ZM8.53798 -1.93275M10.401 -0M13.6289 -3.89539C13.8481 -3.89539 14.127 -3.93524 14.3661 -3.93524C14.5455 -3.93524 14.934 -3.90535 14.9539 -3.90535L14.8443 -4.533C14.1469 -4.533 13.5691 -4.34371 13.2702 -4.2142C13.061 -4.38356 12.7223 -4.533 12.3238 -4.533C11.467 -4.533 10.7397 -3.81569 10.7397 -2.90909C10.7397 -2.54047 10.8692 -2.18182 11.0685 -1.92279C10.7796 -1.51432 10.7796 -1.12578 10.7796 -1.07597C10.7796 -0.816936 10.8692 -0.52802 11.0386 -0.318804C10.5205 -0.00996264 10.401 0.448319 10.401 0.707347C10.401 1.45455 11.3873 2.0523 12.6027 2.0523C13.8281 2.0523 14.8144 1.46451 14.8144 0.697385C14.8144 -0.687422 13.1507 -0.687422 12.7621 -0.687422L11.8854 -0.687422C11.7559 -0.687422 11.3076 -0.687422 11.3076 -1.21544C11.3076 -1.32503 11.3474 -1.48443 11.4172 -1.5741C11.6264 -1.42466 11.9552 -1.28518 12.3238 -1.28518C13.2204 -1.28518 13.9178 -2.02242 13.9178 -2.90909C13.9178 -3.3873 13.6986 -3.75592 13.589 -3.90535ZM13.589 -3.90535M12.3238 -1.85305C11.9552 -1.85305 11.4371 -2.08219 11.4371 -2.90909C11.4371 -3.73599 11.9552 -3.96513 12.3238 -3.96513C12.7522 -3.96513 13.2204 -3.68618 13.2204 -2.90909C13.2204 -2.132 12.7522 -1.85305 12.3238 -1.85305ZM12.3238 -1.85305M12.7721 0.0298879C12.9913 0.0298879 14.1171 0.0298879 14.1171 0.71731C14.1171 1.15567 13.4296 1.48443 12.6127 1.48443C11.8057 1.48443 11.0984 1.17559 11.0984 0.707347C11.0984 0.67746 11.0984 0.0298879 11.8755 0.0298879ZM11.8755 0.0298879M15.3823 -0M18.5205 -4.27397C18.0025 -4.51308 17.594 -4.59278 17.0859 -4.59278C16.8369 -4.59278 15.4321 -4.59278 15.4321 -3.28767C15.4321 -2.7995 15.721 -2.4807 15.9701 -2.29141C16.279 -2.07223 16.4981 -2.03238 17.0461 -1.92279C17.4047 -1.85305 17.9826 -1.7335 17.9826 -1.20548C17.9826 -0.518057 17.1955 -0.518057 17.0461 -0.518057C16.2391 -0.518057 15.6812 -0.886675 15.5019 -1.00623L15.3823 -0.328767C15.7011 -0.169365 16.2491 0.109589 17.056 0.109589C17.2354 0.109589 17.7833 0.109589 18.2117 -0.209215C18.5205 -0.448319 18.6899 -0.846824 18.6899 -1.27522C18.6899 -1.82316 18.3213 -2.16189 18.3014 -2.19178C17.9128 -2.54047 17.6438 -2.60025 17.1457 -2.68991C16.5978 -2.7995 16.1395 -2.89913 16.1395 -3.3873C16.1395 -4.00498 16.8568 -4.00498 16.9863 -4.00498C17.3051 -4.00498 17.8331 -3.96513 18.401 -3.6264ZM18.401 -3.6264\" fill=\"black\"/>\n",
       " </g>\n",
       " <g transform=\"matrix(1.000000,0.000000,0.000000,1.000000,124.724409,-85.039370)\">\n",
       "  <path d=\"M-7.41424 -0M-4.64662 -2.05031C-4.64662 -2.86924 -4.64662 -4.27995 -6.02744 -4.27995C-7.41424 -4.27995 -7.41424 -2.8812 -7.41424 -2.05031C-7.41424 -1.23138 -7.41424 0.131507 -6.03342 0.131507C-4.64662 0.131507 -4.64662 -1.21943 -4.64662 -2.05031ZM-4.64662 -2.05031M-6.03342 -0.298879C-6.47576 -0.298879 -6.54151 -0.848817 -6.55944 -1.01021C-6.60129 -1.32702 -6.60129 -1.88892 -6.60129 -2.134C-6.60129 -2.48667 -6.60129 -2.86924 -6.56542 -3.16214C-6.54749 -3.32354 -6.48771 -3.84956 -6.03342 -3.84956C-5.59108 -3.84956 -5.51935 -3.34745 -5.50141 -3.2279C-5.45957 -2.92304 -5.45957 -2.45081 -5.45957 -2.134C-5.45957 -1.79328 -5.45957 -1.32702 -5.50141 -0.998257C-5.51935 -0.842839 -5.5851 -0.298879 -6.03342 -0.298879ZM-6.03342 -0.298879M-3.83964 -0M-3.55272 -4.14844C-3.76791 -4.14844 -3.83964 -4.08269 -3.83964 -3.86152L-3.83964 -0.286924C-3.83964 -0.071731 -3.77389 -0 -3.55272 -0L-1.91486 -0C-1.47252 -0 -0.372645 -0.0777086 -0.372645 -1.15965C-0.372645 -2.00249 -1.20353 -2.134 -1.4247 -2.16986C-0.874762 -2.29539 -0.55795 -2.60623 -0.55795 -3.07248C-0.55795 -4.14844 -1.83118 -4.14844 -2.08223 -4.14844ZM-2.08223 -4.14844M-2.9968 -2.3731L-2.9968 -3.63437L-2.29743 -3.63437C-2.0643 -3.63437 -1.3709 -3.61644 -1.3709 -3.05455C-1.3709 -2.3731 -2.15397 -2.3731 -2.3034 -2.3731ZM-2.3034 -2.3731M-2.9968 -0.514072L-2.9968 -1.94271L-2.24363 -1.94271C-2.03441 -1.94271 -1.20353 -1.94271 -1.20353 -1.17161C-1.20353 -0.555915 -1.84313 -0.514072 -2.13006 -0.514072ZM-2.13006 -0.514072\" fill=\"black\"/>\n",
       " </g>\n",
       " <g stroke-width=\"0.400879\">\n",
       "  <path d=\"M132.54 -76.9624C236.969 -76.6415 384.085 -56.7565 389.905 -155.607\" stroke=\"#cc337f\"/>\n",
       "  <g stroke-linecap=\"butt\" stroke-dasharray=\"none\">\n",
       "   <path d=\"M388.228 -154.905C388.85 -156.15 389.454 -157.429 390.041 -158.74C390.554 -157.398 391.03 -156.066 391.472 -154.746L389.905 -155.607Z\" fill=\"#cc337f\"/>\n",
       "  </g>\n",
       " </g>\n",
       " <g stroke-width=\"1.133858\">\n",
       "  <path d=\"M376.008 -157.74L404.16 -157.74L404.16 -165.828L376.008 -165.828Z\" stroke=\"#cc337f\" fill=\"#9cc\"/>\n",
       " </g>\n",
       " <g transform=\"matrix(1.000000,0.000000,0.000000,1.000000,377.007874,-158.740157)\">\n",
       "  <path d=\"M0.498132 -0M4.72229 -3.03861C4.72229 -4.89166 3.7061 -6.19676 2.61021 -6.19676C1.4944 -6.19676 0.498132 -4.86177 0.498132 -3.04857C0.498132 -1.19552 1.51432 0.109589 2.61021 0.109589C3.72603 0.109589 4.72229 -1.2254 4.72229 -3.03861ZM4.72229 -3.03861M2.61021 -0.498132C1.83313 -0.498132 1.18555 -1.67372 1.18555 -3.14819C1.18555 -4.60274 1.87298 -5.58904 2.61021 -5.58904C3.33748 -5.58904 4.03487 -4.6127 4.03487 -3.14819C4.03487 -1.67372 3.3873 -0.498132 2.61021 -0.498132ZM2.61021 -0.498132M5.72852 -0M9.95268 -3.03861C9.95268 -4.89166 8.93649 -6.19676 7.8406 -6.19676C6.72478 -6.19676 5.72852 -4.86177 5.72852 -3.04857C5.72852 -1.19552 6.74471 0.109589 7.8406 0.109589C8.95641 0.109589 9.95268 -1.2254 9.95268 -3.03861ZM9.95268 -3.03861M7.8406 -0.498132C7.06351 -0.498132 6.41594 -1.67372 6.41594 -3.14819C6.41594 -4.60274 7.10336 -5.58904 7.8406 -5.58904C8.56787 -5.58904 9.26526 -4.6127 9.26526 -3.14819C9.26526 -1.67372 8.61768 -0.498132 7.8406 -0.498132ZM7.8406 -0.498132\" fill=\"black\"/>\n",
       "  <path d=\"M16.1892 -0M20.4133 -3.03861C20.4133 -4.89166 19.3971 -6.19676 18.3012 -6.19676C17.1854 -6.19676 16.1892 -4.86177 16.1892 -3.04857C16.1892 -1.19552 17.2053 0.109589 18.3012 0.109589C19.417 0.109589 20.4133 -1.2254 20.4133 -3.03861ZM20.4133 -3.03861M18.3012 -0.498132C17.5241 -0.498132 16.8766 -1.67372 16.8766 -3.14819C16.8766 -4.60274 17.564 -5.58904 18.3012 -5.58904C19.0285 -5.58904 19.7259 -4.6127 19.7259 -3.14819C19.7259 -1.67372 19.0783 -0.498132 18.3012 -0.498132ZM18.3012 -0.498132M21.4195 -0M25.6437 -3.03861C25.6437 -4.89166 24.6275 -6.19676 23.5316 -6.19676C22.4158 -6.19676 21.4195 -4.86177 21.4195 -3.04857C21.4195 -1.19552 22.4357 0.109589 23.5316 0.109589C24.6474 0.109589 25.6437 -1.2254 25.6437 -3.03861ZM25.6437 -3.03861M23.5316 -0.498132C22.7545 -0.498132 22.107 -1.67372 22.107 -3.14819C22.107 -4.60274 22.7944 -5.58904 23.5316 -5.58904C24.2589 -5.58904 24.9563 -4.6127 24.9563 -3.14819C24.9563 -1.67372 24.3087 -0.498132 23.5316 -0.498132ZM23.5316 -0.498132\" fill=\"black\"/>\n",
       " </g>\n",
       " <g transform=\"matrix(1.000000,0.000000,0.000000,1.000000,28.346457,-73.700787)\">\n",
       "  <path d=\"M0.268991 -0M1.75342 -3.84558L2.84932 -3.84558L2.84932 -4.42341L1.72354 -4.42341L1.72354 -5.60897C1.72354 -6.3462 2.39103 -6.41594 2.65006 -6.41594C2.84932 -6.41594 3.11831 -6.39601 3.45704 -6.24658L3.45704 -6.91407C3.33748 -6.94396 3.02864 -7.02366 2.66002 -7.02366C1.72354 -7.02366 1.00623 -6.31631 1.00623 -5.32005L1.00623 -4.42341L0.268991 -4.42341L0.268991 -3.84558L1.00623 -3.84558L1.00623 -0L1.75342 -0ZM1.75342 -0M3.85554 -0M4.60274 -2.132C4.60274 -3.12827 5.32005 -3.84558 6.29639 -3.8655L6.29639 -4.533C5.40971 -4.52304 4.86177 -4.03487 4.55293 -3.57659L4.55293 -4.48319L3.85554 -4.48319L3.85554 -0L4.60274 -0ZM4.60274 -0M6.87422 -0M10.411 -2.8792C10.411 -3.89539 9.68369 -4.59278 8.76712 -4.59278C8.11955 -4.59278 7.67123 -4.43337 7.20299 -4.16438L7.26276 -3.50685C7.78082 -3.87547 8.27895 -4.00498 8.76712 -4.00498C9.23537 -4.00498 9.63387 -3.60648 9.63387 -2.86924L9.63387 -2.44085C8.13948 -2.42092 6.87422 -2.00249 6.87422 -1.12578C6.87422 -0.697385 7.14321 0.109589 8.00996 0.109589C8.14944 0.109589 9.08593 0.0896638 9.66376 -0.358655L9.66376 -0L10.411 -0ZM10.411 -0M9.63387 -1.31507C9.63387 -1.12578 9.63387 -0.876712 9.29514 -0.687422C9.00623 -0.508095 8.62765 -0.498132 8.51806 -0.498132C8.03985 -0.498132 7.59153 -0.727273 7.59153 -1.1457C7.59153 -1.84309 9.20548 -1.91283 9.63387 -1.93275ZM9.63387 -1.93275M11.4969 -0M14.7248 -3.89539C14.944 -3.89539 15.2229 -3.93524 15.462 -3.93524C15.6413 -3.93524 16.0299 -3.90535 16.0498 -3.90535L15.9402 -4.533C15.2428 -4.533 14.665 -4.34371 14.3661 -4.2142C14.1569 -4.38356 13.8182 -4.533 13.4197 -4.533C12.5629 -4.533 11.8356 -3.81569 11.8356 -2.90909C11.8356 -2.54047 11.9651 -2.18182 12.1644 -1.92279C11.8755 -1.51432 11.8755 -1.12578 11.8755 -1.07597C11.8755 -0.816936 11.9651 -0.52802 12.1345 -0.318804C11.6164 -0.00996264 11.4969 0.448319 11.4969 0.707347C11.4969 1.45455 12.4832 2.0523 13.6986 2.0523C14.924 2.0523 15.9103 1.46451 15.9103 0.697385C15.9103 -0.687422 14.2466 -0.687422 13.858 -0.687422L12.9813 -0.687422C12.8518 -0.687422 12.4035 -0.687422 12.4035 -1.21544C12.4035 -1.32503 12.4433 -1.48443 12.5131 -1.5741C12.7223 -1.42466 13.0511 -1.28518 13.4197 -1.28518C14.3163 -1.28518 15.0137 -2.02242 15.0137 -2.90909C15.0137 -3.3873 14.7945 -3.75592 14.6849 -3.90535ZM14.6849 -3.90535M13.4197 -1.85305C13.0511 -1.85305 12.533 -2.08219 12.533 -2.90909C12.533 -3.73599 13.0511 -3.96513 13.4197 -3.96513C13.8481 -3.96513 14.3163 -3.68618 14.3163 -2.90909C14.3163 -2.132 13.8481 -1.85305 13.4197 -1.85305ZM13.4197 -1.85305M13.868 0.0298879C14.0872 0.0298879 15.213 0.0298879 15.213 0.71731C15.213 1.15567 14.5255 1.48443 13.7086 1.48443C12.9016 1.48443 12.1943 1.17559 12.1943 0.707347C12.1943 0.67746 12.1943 0.0298879 12.9714 0.0298879ZM12.9714 0.0298879\" fill=\"black\"/>\n",
       " </g>\n",
       " <g transform=\"matrix(1.000000,0.000000,0.000000,1.000000,124.724409,-73.700787)\">\n",
       "  <path d=\"M-9.47519 -0M-7.80744 -3.99303C-7.80744 -4.1066 -7.80744 -4.27995 -8.07046 -4.27995C-8.19001 -4.27995 -8.21392 -4.268 -8.28565 -4.19626C-8.39325 -4.10062 -8.62039 -3.87945 -9.21217 -3.8675C-9.31977 -3.8675 -9.47519 -3.82565 -9.47519 -3.6523C-9.47519 -3.43711 -9.26597 -3.43711 -9.18826 -3.43711C-9.00894 -3.43711 -8.79972 -3.467 -8.62637 -3.51482L-8.62637 -0.430386L-9.09262 -0.430386C-9.17033 -0.430386 -9.37955 -0.430386 -9.37955 -0.215193C-9.37955 -0 -9.17033 -0 -9.09262 -0L-7.38901 -0C-7.32326 -0 -7.10209 -0 -7.10209 -0.215193C-7.10209 -0.430386 -7.32326 -0.430386 -7.38901 -0.430386L-7.80744 -0.430386ZM-7.80744 -0.430386M-6.36684 -0M-6.06797 -3.31756C-6.02015 -3.24583 -5.99026 -3.24583 -5.9783 -3.24583C-5.93646 -3.24583 -5.9245 -3.26974 -5.89462 -3.31158C-5.58976 -3.74795 -5.16535 -3.74795 -5.08764 -3.74795C-4.70508 -3.74795 -4.65128 -3.55068 -4.65128 -3.25778C-4.65128 -3.1741 -4.65128 -2.88717 -4.83658 -2.66002C-4.98005 -2.49265 -5.12949 -2.4807 -5.30881 -2.46874C-5.37457 -2.46276 -5.48814 -2.45679 -5.50607 -2.44483C-5.54792 -2.4269 -5.54792 -2.39103 -5.54792 -2.29539L-5.54792 -2.1878C-5.54792 -2.03238 -5.54194 -2.0264 -5.38652 -2.0264L-5.12351 -2.0264C-4.57955 -2.0264 -4.51379 -1.68568 -4.51379 -1.2254C-4.51379 -0.824907 -4.55564 -0.430386 -5.0996 -0.430386C-5.29088 -0.430386 -5.73322 -0.472229 -6.13372 -0.848817C-6.18752 -0.902615 -6.19349 -0.908593 -6.21741 -0.908593C-6.27718 -0.908593 -6.28914 -0.854795 -6.29511 -0.842839C-6.29511 -0.836862 -6.36684 -0.460274 -6.36684 -0.430386C-6.36684 -0.352677 -5.85277 0.131507 -5.06971 0.131507C-4.04156 0.131507 -3.63509 -0.418431 -3.63509 -1.21345C-3.63509 -1.75143 -3.92201 -2.11606 -4.46 -2.25355C-3.97581 -2.51656 -3.81442 -2.90511 -3.81442 -3.24583C-3.81442 -4.20224 -4.66921 -4.27995 -5.05775 -4.27995C-5.87668 -4.27995 -6.27718 -3.69415 -6.27718 -3.64633C-6.27718 -3.61046 -6.24132 -3.56264 -6.23534 -3.55666ZM-6.23534 -3.55666M-2.98951 -0M-2.19449 -3.86152C-2.19449 -4.0528 -2.23633 -4.14844 -2.48142 -4.14844L-2.70259 -4.14844C-2.91778 -4.14844 -2.98951 -4.08269 -2.98951 -3.86152L-2.98951 -0.286924C-2.98951 -0.071731 -2.92376 -0 -2.70259 -0L-2.46348 -0C-2.36186 -0 -2.18254 -0 -2.17656 -0.233126C-1.90159 0.0657534 -1.59673 0.0657534 -1.50109 0.0657534C-0.227866 0.0657534 -0.227866 -1.08194 -0.227866 -1.38082C-0.227866 -1.66775 -0.227866 -2.80349 -1.35165 -2.80349C-1.84181 -2.80349 -2.14069 -2.52852 -2.19449 -2.46874ZM-2.19449 -2.46874M-2.17656 -2.16389C-2.09885 -2.23562 -1.91952 -2.3731 -1.64455 -2.3731C-1.04082 -2.3731 -1.04082 -1.82316 -1.04082 -1.37484C-1.04082 -0.932503 -1.04082 -0.364633 -1.71031 -0.364633C-1.96137 -0.364633 -2.11081 -0.514072 -2.17656 -0.597758ZM-2.17656 -0.597758\" fill=\"black\"/>\n",
       " </g>\n",
       " <g transform=\"matrix(1.000000,0.000000,0.000000,1.000000,127.559055,-73.700787)\">\n",
       "  <path d=\"M0.418431 -0M4.55293 -3.24782C4.55293 -4.03487 4.51308 -4.96139 4.09465 -5.76837C3.68618 -6.51557 2.99875 -6.75467 2.49066 -6.75467C1.90286 -6.75467 1.20548 -6.48568 0.797011 -5.599C0.468244 -4.87173 0.418431 -4.04483 0.418431 -3.24782C0.418431 -2.46077 0.458281 -1.7335 0.757161 -1.00623C1.15567 -0.0498132 1.91283 0.219178 2.4807 0.219178C3.20797 0.219178 3.83562 -0.18929 4.15442 -0.876712C4.4533 -1.52428 4.55293 -2.18182 4.55293 -3.24782ZM4.55293 -3.24782M2.49066 -0.388543C1.9726 -0.388543 1.56413 -0.767123 1.36488 -1.48443C1.20548 -2.0523 1.19552 -2.59029 1.19552 -3.36737C1.19552 -3.99502 1.19552 -4.59278 1.36488 -5.14072C1.42466 -5.33001 1.67372 -6.14695 2.4807 -6.14695C3.25778 -6.14695 3.51681 -5.38979 3.58655 -5.21046C3.77584 -4.65255 3.77584 -3.98506 3.77584 -3.36737C3.77584 -2.70984 3.77584 -2.08219 3.59651 -1.45455C3.33748 -0.547945 2.80946 -0.388543 2.49066 -0.388543ZM2.49066 -0.388543\" fill=\"black\"/>\n",
       " </g>\n",
       " <g stroke-width=\"0.400879\">\n",
       "  <path d=\"M137.522 -65.6162C250.87 -65.1052 407.521 -48.2881 413.257 -155.607\" stroke=\"#cc7fcc\"/>\n",
       "  <g stroke-linecap=\"butt\" stroke-dasharray=\"none\">\n",
       "   <path d=\"M411.585 -154.897C412.199 -156.148 412.798 -157.429 413.381 -158.74C413.895 -157.401 414.378 -156.072 414.829 -154.753L413.257 -155.607Z\" fill=\"#cc7fcc\"/>\n",
       "  </g>\n",
       " </g>\n",
       " <g stroke-width=\"1.133858\">\n",
       "  <path d=\"M407.189 -157.74L419.65 -157.74L419.65 -165.828L407.189 -165.828Z\" stroke=\"#cc7fcc\" fill=\"#9cc\"/>\n",
       " </g>\n",
       " <g transform=\"matrix(1.000000,0.000000,0.000000,1.000000,408.188976,-158.740157)\">\n",
       "  <path d=\"M0.288917 -0M0.37858 -2.43088C0.288917 -2.30137 0.288917 -2.28144 0.288917 -2.08219C0.288917 -1.75342 0.37858 -1.68369 0.687422 -1.68369L3.19801 -1.68369L3.19801 -0.607721L2.58032 -0.607721C2.42092 -0.607721 2.18182 -0.607721 2.18182 -0.298879C2.18182 -0 2.43088 -0 2.58032 -0L4.3736 -0C4.52304 -0 4.7721 -0 4.7721 -0.298879C4.7721 -0.607721 4.533 -0.607721 4.3736 -0.607721L3.75592 -0.607721L3.75592 -1.68369L4.533 -1.68369C4.68244 -1.68369 4.93151 -1.68369 4.93151 -1.98257C4.93151 -2.29141 4.6924 -2.29141 4.533 -2.29141L3.75592 -2.29141L3.75592 -5.79826C3.75592 -6.12702 3.68618 -6.20672 3.34745 -6.20672L3.06849 -6.20672C2.82939 -6.20672 2.77958 -6.19676 2.65006 -5.99751ZM2.65006 -5.99751M0.986301 -2.29141L3.19801 -5.76837L3.19801 -2.29141ZM3.19801 -2.29141M5.72852 -0M9.95268 -3.03861C9.95268 -4.89166 8.93649 -6.19676 7.8406 -6.19676C6.72478 -6.19676 5.72852 -4.86177 5.72852 -3.04857C5.72852 -1.19552 6.74471 0.109589 7.8406 0.109589C8.95641 0.109589 9.95268 -1.2254 9.95268 -3.03861ZM9.95268 -3.03861M7.8406 -0.498132C7.06351 -0.498132 6.41594 -1.67372 6.41594 -3.14819C6.41594 -4.60274 7.10336 -5.58904 7.8406 -5.58904C8.56787 -5.58904 9.26526 -4.6127 9.26526 -3.14819C9.26526 -1.67372 8.61768 -0.498132 7.8406 -0.498132ZM7.8406 -0.498132\" fill=\"black\"/>\n",
       " </g>\n",
       " <g transform=\"matrix(1.000000,0.000000,0.000000,1.000000,28.346457,-62.362205)\">\n",
       "  <path d=\"M0.18929 -0M1.74346 -3.84558L3.14819 -3.84558L3.14819 -4.42341L1.74346 -4.42341L1.74346 -5.68867L1.05604 -5.68867L1.05604 -4.42341L0.18929 -4.42341L0.18929 -3.84558L1.02615 -3.84558L1.02615 -1.18555C1.02615 -0.587796 1.16563 0.109589 1.85305 0.109589C2.55044 0.109589 3.05853 -0.139477 3.3076 -0.268991L3.14819 -0.856787C2.88917 -0.647572 2.57036 -0.52802 2.25156 -0.52802C1.88294 -0.52802 1.74346 -0.826899 1.74346 -1.35492ZM1.74346 -1.35492M3.7858 -0M5.33998 -3.84558L6.74471 -3.84558L6.74471 -4.42341L5.33998 -4.42341L5.33998 -5.68867L4.65255 -5.68867L4.65255 -4.42341L3.7858 -4.42341L3.7858 -3.84558L4.62267 -3.84558L4.62267 -1.18555C4.62267 -0.587796 4.76214 0.109589 5.44956 0.109589C6.14695 0.109589 6.65504 -0.139477 6.90411 -0.268991L6.74471 -0.856787C6.48568 -0.647572 6.16687 -0.52802 5.84807 -0.52802C5.47945 -0.52802 5.33998 -0.826899 5.33998 -1.35492ZM5.33998 -1.35492M8 -0M8.7472 -6.91407L8 -6.91407L8 -0L8.7472 -0ZM8.7472 -0\" fill=\"black\"/>\n",
       " </g>\n",
       " <g transform=\"matrix(1.000000,0.000000,0.000000,1.000000,124.724409,-62.362205)\">\n",
       "  <path d=\"M-7.21698 -0M-5.54923 -3.99303C-5.54923 -4.1066 -5.54923 -4.27995 -5.81225 -4.27995C-5.9318 -4.27995 -5.95571 -4.268 -6.02744 -4.19626C-6.13504 -4.10062 -6.36218 -3.87945 -6.95397 -3.8675C-7.06156 -3.8675 -7.21698 -3.82565 -7.21698 -3.6523C-7.21698 -3.43711 -7.00776 -3.43711 -6.93006 -3.43711C-6.75073 -3.43711 -6.54151 -3.467 -6.36816 -3.51482L-6.36816 -0.430386L-6.83441 -0.430386C-6.91212 -0.430386 -7.12134 -0.430386 -7.12134 -0.215193C-7.12134 -0 -6.91212 -0 -6.83441 -0L-5.1308 -0C-5.06505 -0 -4.84388 -0 -4.84388 -0.215193C-4.84388 -0.430386 -5.06505 -0.430386 -5.1308 -0.430386L-5.54923 -0.430386ZM-5.54923 -0.430386M-3.83964 -0M-3.55272 -4.14844C-3.76791 -4.14844 -3.83964 -4.08269 -3.83964 -3.86152L-3.83964 -0.286924C-3.83964 -0.071731 -3.77389 -0 -3.55272 -0L-1.91486 -0C-1.47252 -0 -0.372645 -0.0777086 -0.372645 -1.15965C-0.372645 -2.00249 -1.20353 -2.134 -1.4247 -2.16986C-0.874762 -2.29539 -0.55795 -2.60623 -0.55795 -3.07248C-0.55795 -4.14844 -1.83118 -4.14844 -2.08223 -4.14844ZM-2.08223 -4.14844M-2.9968 -2.3731L-2.9968 -3.63437L-2.29743 -3.63437C-2.0643 -3.63437 -1.3709 -3.61644 -1.3709 -3.05455C-1.3709 -2.3731 -2.15397 -2.3731 -2.3034 -2.3731ZM-2.3034 -2.3731M-2.9968 -0.514072L-2.9968 -1.94271L-2.24363 -1.94271C-2.03441 -1.94271 -1.20353 -1.94271 -1.20353 -1.17161C-1.20353 -0.555915 -1.84313 -0.514072 -2.13006 -0.514072ZM-2.13006 -0.514072\" fill=\"black\"/>\n",
       " </g>\n",
       " <g transform=\"matrix(1.000000,0.000000,0.000000,1.000000,127.559055,-62.362205)\">\n",
       "  <path d=\"M0.418431 -0M4.1345 -6.55542C3.6264 -6.75467 3.21793 -6.75467 3.07846 -6.75467C1.67372 -6.75467 0.418431 -5.34994 0.418431 -3.20797C0.418431 -0.388543 1.6538 0.219178 2.50062 0.219178C3.09838 0.219178 3.52677 -0.00996264 3.91532 -0.458281C4.36364 -0.966376 4.55293 -1.42466 4.55293 -2.21171C4.55293 -3.48692 3.89539 -4.60274 2.93898 -4.60274C2.62017 -4.60274 1.86301 -4.52304 1.25529 -3.77584C1.38481 -5.37983 2.17186 -6.17684 3.08842 -6.17684C3.467 -6.17684 3.7858 -6.1071 4.1345 -5.96762ZM4.1345 -5.96762M1.26526 -2.18182C1.26526 -2.3213 1.26526 -2.34122 1.27522 -2.46077C1.27522 -3.19801 1.72354 -3.99502 2.55044 -3.99502C3.02864 -3.99502 3.3076 -3.74595 3.50685 -3.37733C3.71606 -3.00872 3.73599 -2.66002 3.73599 -2.21171C3.73599 -1.87298 3.73599 -1.41469 3.49689 -1.00623C3.32752 -0.727273 3.06849 -0.388543 2.50062 -0.388543C1.44458 -0.388543 1.29514 -1.85305 1.26526 -2.18182ZM1.26526 -2.18182M5.26027 -0M8.68742 -1.70361L9.67372 -1.70361L9.67372 -2.31133L8.68742 -2.31133L8.68742 -6.53549L7.78082 -6.53549L5.26027 -2.31133L5.26027 -1.70361L7.90037 -1.70361L7.90037 -0L8.68742 -0ZM8.68742 -0M6.03736 -2.31133C6.55542 -3.16812 7.96015 -5.52927 7.96015 -6.09714L7.96015 -2.31133ZM7.96015 -2.31133\" fill=\"black\"/>\n",
       " </g>\n",
       " <g stroke-width=\"0.400879\">\n",
       "  <path d=\"M156.838 -53.4688C272.779 -52.8298 423.385 -47.2408 428.856 -155.607\" stroke=\"#7f337f\"/>\n",
       "  <g stroke-linecap=\"butt\" stroke-dasharray=\"none\">\n",
       "   <path d=\"M427.187 -154.892C427.797 -156.148 428.393 -157.43 428.973 -158.74C429.489 -157.404 429.975 -156.076 430.431 -154.756L428.856 -155.607Z\" fill=\"#7f337f\"/>\n",
       "  </g>\n",
       " </g>\n",
       " <g stroke-width=\"1.133858\">\n",
       "  <path d=\"M422.78 -157.74L435.24 -157.74L435.24 -165.828L422.78 -165.828Z\" stroke=\"#7f337f\" fill=\"#9cc\"/>\n",
       " </g>\n",
       " <g transform=\"matrix(1.000000,0.000000,0.000000,1.000000,423.779528,-158.740157)\">\n",
       "  <path d=\"M0.498132 -0M4.72229 -3.03861C4.72229 -4.89166 3.7061 -6.19676 2.61021 -6.19676C1.4944 -6.19676 0.498132 -4.86177 0.498132 -3.04857C0.498132 -1.19552 1.51432 0.109589 2.61021 0.109589C3.72603 0.109589 4.72229 -1.2254 4.72229 -3.03861ZM4.72229 -3.03861M2.61021 -0.498132C1.83313 -0.498132 1.18555 -1.67372 1.18555 -3.14819C1.18555 -4.60274 1.87298 -5.58904 2.61021 -5.58904C3.33748 -5.58904 4.03487 -4.6127 4.03487 -3.14819C4.03487 -1.67372 3.3873 -0.498132 2.61021 -0.498132ZM2.61021 -0.498132M5.72852 -0M9.95268 -3.03861C9.95268 -4.89166 8.93649 -6.19676 7.8406 -6.19676C6.72478 -6.19676 5.72852 -4.86177 5.72852 -3.04857C5.72852 -1.19552 6.74471 0.109589 7.8406 0.109589C8.95641 0.109589 9.95268 -1.2254 9.95268 -3.03861ZM9.95268 -3.03861M7.8406 -0.498132C7.06351 -0.498132 6.41594 -1.67372 6.41594 -3.14819C6.41594 -4.60274 7.10336 -5.58904 7.8406 -5.58904C8.56787 -5.58904 9.26526 -4.6127 9.26526 -3.14819C9.26526 -1.67372 8.61768 -0.498132 7.8406 -0.498132ZM7.8406 -0.498132\" fill=\"black\"/>\n",
       " </g>\n",
       " <g transform=\"matrix(1.000000,0.000000,0.000000,1.000000,28.346457,-51.023622)\">\n",
       "  <path d=\"M0.816936 -0M1.59402 -0.458281C1.90286 -0.169365 2.34122 0.109589 2.93898 0.109589C3.90535 0.109589 4.78207 -0.86675 4.78207 -2.22167C4.78207 -3.41719 4.15442 -4.533 3.19801 -4.533C2.60025 -4.533 2.02242 -4.32379 1.56413 -3.93524L1.56413 -4.42341L0.816936 -4.42341L0.816936 1.93275L1.59402 1.93275ZM1.59402 1.93275M1.59402 -3.31756C1.83313 -3.66625 2.22167 -3.89539 2.65006 -3.89539C3.40722 -3.89539 4.00498 -3.13823 4.00498 -2.22167C4.00498 -1.19552 3.29763 -0.498132 2.55044 -0.498132C2.16189 -0.498132 1.8929 -0.697385 1.69365 -0.966376C1.59402 -1.11582 1.59402 -1.13574 1.59402 -1.31507ZM1.59402 -1.31507\" fill=\"black\"/>\n",
       "  <path d=\"M5.68756 -0M6.43476 -2.132C6.43476 -3.12827 7.15207 -3.84558 8.1284 -3.8655L8.1284 -4.533C7.24173 -4.52304 6.69378 -4.03487 6.38494 -3.57659L6.38494 -4.48319L5.68756 -4.48319L5.68756 -0L6.43476 -0ZM6.43476 -0M8.56676 -0M12.9404 -2.19178C12.9404 -3.52677 11.9441 -4.59278 10.7585 -4.59278C9.53314 -4.59278 8.56676 -3.49689 8.56676 -2.19178C8.56676 -0.876712 9.58295 0.109589 10.7486 0.109589C11.9441 0.109589 12.9404 -0.896638 12.9404 -2.19178ZM12.9404 -2.19178M10.7486 -0.52802C10.0612 -0.52802 9.34385 -1.08593 9.34385 -2.29141C9.34385 -3.49689 10.101 -3.98506 10.7486 -3.98506C11.446 -3.98506 12.1633 -3.467 12.1633 -2.29141C12.1633 -1.11582 11.4858 -0.52802 10.7486 -0.52802ZM10.7486 -0.52802M13.4385 -0M14.9927 -3.84558L16.3974 -3.84558L16.3974 -4.42341L14.9927 -4.42341L14.9927 -5.68867L14.3052 -5.68867L14.3052 -4.42341L13.4385 -4.42341L13.4385 -3.84558L14.2754 -3.84558L14.2754 -1.18555C14.2754 -0.587796 14.4148 0.109589 15.1023 0.109589C15.7996 0.109589 16.3077 -0.139477 16.5568 -0.268991L16.3974 -0.856787C16.1384 -0.647572 15.8196 -0.52802 15.5008 -0.52802C15.1321 -0.52802 14.9927 -0.826899 14.9927 -1.35492ZM14.9927 -1.35492M17.1446 -0M21.5182 -2.19178C21.5182 -3.52677 20.5219 -4.59278 19.3364 -4.59278C18.111 -4.59278 17.1446 -3.49689 17.1446 -2.19178C17.1446 -0.876712 18.1608 0.109589 19.3264 0.109589C20.5219 0.109589 21.5182 -0.896638 21.5182 -2.19178ZM21.5182 -2.19178M19.3264 -0.52802C18.639 -0.52802 17.9217 -1.08593 17.9217 -2.29141C17.9217 -3.49689 18.6788 -3.98506 19.3264 -3.98506C20.0238 -3.98506 20.7411 -3.467 20.7411 -2.29141C20.7411 -1.11582 20.0636 -0.52802 19.3264 -0.52802ZM19.3264 -0.52802\" fill=\"black\"/>\n",
       " </g>\n",
       " <g transform=\"matrix(1.000000,0.000000,0.000000,1.000000,124.724409,-51.023622)\">\n",
       "  <path d=\"M-7.21698 -0M-5.54923 -3.99303C-5.54923 -4.1066 -5.54923 -4.27995 -5.81225 -4.27995C-5.9318 -4.27995 -5.95571 -4.268 -6.02744 -4.19626C-6.13504 -4.10062 -6.36218 -3.87945 -6.95397 -3.8675C-7.06156 -3.8675 -7.21698 -3.82565 -7.21698 -3.6523C-7.21698 -3.43711 -7.00776 -3.43711 -6.93006 -3.43711C-6.75073 -3.43711 -6.54151 -3.467 -6.36816 -3.51482L-6.36816 -0.430386L-6.83441 -0.430386C-6.91212 -0.430386 -7.12134 -0.430386 -7.12134 -0.215193C-7.12134 -0 -6.91212 -0 -6.83441 -0L-5.1308 -0C-5.06505 -0 -4.84388 -0 -4.84388 -0.215193C-4.84388 -0.430386 -5.06505 -0.430386 -5.1308 -0.430386L-5.54923 -0.430386ZM-5.54923 -0.430386M-3.83964 -0M-3.55272 -4.14844C-3.76791 -4.14844 -3.83964 -4.08269 -3.83964 -3.86152L-3.83964 -0.286924C-3.83964 -0.071731 -3.77389 -0 -3.55272 -0L-1.91486 -0C-1.47252 -0 -0.372645 -0.0777086 -0.372645 -1.15965C-0.372645 -2.00249 -1.20353 -2.134 -1.4247 -2.16986C-0.874762 -2.29539 -0.55795 -2.60623 -0.55795 -3.07248C-0.55795 -4.14844 -1.83118 -4.14844 -2.08223 -4.14844ZM-2.08223 -4.14844M-2.9968 -2.3731L-2.9968 -3.63437L-2.29743 -3.63437C-2.0643 -3.63437 -1.3709 -3.61644 -1.3709 -3.05455C-1.3709 -2.3731 -2.15397 -2.3731 -2.3034 -2.3731ZM-2.3034 -2.3731M-2.9968 -0.514072L-2.9968 -1.94271L-2.24363 -1.94271C-2.03441 -1.94271 -1.20353 -1.94271 -1.20353 -1.17161C-1.20353 -0.555915 -1.84313 -0.514072 -2.13006 -0.514072ZM-2.13006 -0.514072\" fill=\"black\"/>\n",
       " </g>\n",
       " <g transform=\"matrix(1.000000,0.000000,0.000000,1.000000,127.559055,-51.023622)\">\n",
       "  <path d=\"M0.806974 -0M4.33375 -2.96887C4.33375 -3.6264 4.18431 -4.533 2.96887 -4.533C2.35118 -4.533 1.87298 -4.22416 1.55417 -3.81569L1.55417 -6.91407L0.806974 -6.91407L0.806974 -0L1.58406 -0L1.58406 -2.44085C1.58406 -3.09838 1.83313 -3.92528 2.59029 -3.92528C3.5467 -3.92528 3.55666 -3.21793 3.55666 -2.89913L3.55666 -0L4.33375 -0ZM4.33375 -0M5.4396 -0M9.8132 -2.19178C9.8132 -3.52677 8.81694 -4.59278 7.63138 -4.59278C6.40598 -4.59278 5.4396 -3.49689 5.4396 -2.19178C5.4396 -0.876712 6.45579 0.109589 7.62142 0.109589C8.81694 0.109589 9.8132 -0.896638 9.8132 -2.19178ZM9.8132 -2.19178M7.62142 -0.52802C6.934 -0.52802 6.21669 -1.08593 6.21669 -2.29141C6.21669 -3.49689 6.97385 -3.98506 7.62142 -3.98506C8.3188 -3.98506 9.03611 -3.467 9.03611 -2.29141C9.03611 -1.11582 8.35866 -0.52802 7.62142 -0.52802ZM7.62142 -0.52802M10.939 -0M11.7161 -0.458281C12.0249 -0.169365 12.4633 0.109589 13.061 0.109589C14.0274 0.109589 14.9041 -0.86675 14.9041 -2.22167C14.9041 -3.41719 14.2765 -4.533 13.32 -4.533C12.7223 -4.533 12.1445 -4.32379 11.6862 -3.93524L11.6862 -4.42341L10.939 -4.42341L10.939 1.93275L11.7161 1.93275ZM11.7161 1.93275M11.7161 -3.31756C11.9552 -3.66625 12.3437 -3.89539 12.7721 -3.89539C13.5293 -3.89539 14.127 -3.13823 14.127 -2.22167C14.127 -1.19552 13.4197 -0.498132 12.6725 -0.498132C12.2839 -0.498132 12.0149 -0.697385 11.8157 -0.966376C11.7161 -1.11582 11.7161 -1.13574 11.7161 -1.31507ZM11.7161 -1.31507\" fill=\"black\"/>\n",
       "  <path d=\"M15.8517 -0M20.2253 -2.19178C20.2253 -3.52677 19.229 -4.59278 18.0435 -4.59278C16.8181 -4.59278 15.8517 -3.49689 15.8517 -2.19178C15.8517 -0.876712 16.8679 0.109589 18.0335 0.109589C19.229 0.109589 20.2253 -0.896638 20.2253 -2.19178ZM20.2253 -2.19178M18.0335 -0.52802C17.3461 -0.52802 16.6288 -1.08593 16.6288 -2.29141C16.6288 -3.49689 17.3859 -3.98506 18.0335 -3.98506C18.7309 -3.98506 19.4482 -3.467 19.4482 -2.29141C19.4482 -1.11582 18.7708 -0.52802 18.0335 -0.52802ZM18.0335 -0.52802M21.3511 -0M22.1282 -0.458281C22.437 -0.169365 22.8754 0.109589 23.4731 0.109589C24.4395 0.109589 25.3162 -0.86675 25.3162 -2.22167C25.3162 -3.41719 24.6886 -4.533 23.7321 -4.533C23.1344 -4.533 22.5566 -4.32379 22.0983 -3.93524L22.0983 -4.42341L21.3511 -4.42341L21.3511 1.93275L22.1282 1.93275ZM22.1282 1.93275M22.1282 -3.31756C22.3673 -3.66625 22.7558 -3.89539 23.1842 -3.89539C23.9414 -3.89539 24.5391 -3.13823 24.5391 -2.22167C24.5391 -1.19552 23.8318 -0.498132 23.0846 -0.498132C22.696 -0.498132 22.427 -0.697385 22.2278 -0.966376C22.1282 -1.11582 22.1282 -1.13574 22.1282 -1.31507ZM22.1282 -1.31507M25.8642 -0M27.4183 -3.84558L28.8231 -3.84558L28.8231 -4.42341L27.4183 -4.42341L27.4183 -5.68867L26.7309 -5.68867L26.7309 -4.42341L25.8642 -4.42341L25.8642 -3.84558L26.701 -3.84558L26.701 -1.18555C26.701 -0.587796 26.8405 0.109589 27.5279 0.109589C28.2253 0.109589 28.7334 -0.139477 28.9825 -0.268991L28.8231 -0.856787C28.564 -0.647572 28.2452 -0.52802 27.9264 -0.52802C27.5578 -0.52802 27.4183 -0.826899 27.4183 -1.35492ZM27.4183 -1.35492\" fill=\"black\"/>\n",
       " </g>\n",
       " <g stroke-width=\"0.400879\">\n",
       "  <path d=\"M155.953 -42.9153C282.128 -42.3579 446.821 -36.911 452.305 -155.606\" stroke=\"#7f7fcc\"/>\n",
       "  <g stroke-linecap=\"butt\" stroke-dasharray=\"none\">\n",
       "   <path d=\"M450.639 -154.886C451.244 -156.146 451.835 -157.431 452.412 -158.74C452.93 -157.406 453.421 -156.08 453.884 -154.761L452.305 -155.606Z\" fill=\"#7f7fcc\"/>\n",
       "  </g>\n",
       " </g>\n",
       " <g stroke-width=\"1.133858\">\n",
       "  <path d=\"M438.37 -157.74L466.522 -157.74L466.522 -165.828L438.37 -165.828Z\" stroke=\"#7f7fcc\" fill=\"#9cc\"/>\n",
       " </g>\n",
       " <g transform=\"matrix(1.000000,0.000000,0.000000,1.000000,439.370079,-158.740157)\">\n",
       "  <path d=\"M0.438356 -0M3.75592 -5.47945C2.03238 -3.64633 1.69365 -1.45455 1.69365 -0.358655C1.69365 -0.219178 1.69365 0.109589 2.04234 0.109589C2.21171 0.109589 2.38107 -0 2.38107 -0.288917C2.43088 -3.11831 3.95517 -4.85181 4.56289 -5.4396C4.76214 -5.61893 4.78207 -5.63885 4.78207 -5.77833C4.78207 -6.08717 4.54296 -6.08717 4.38356 -6.08717L1.09589 -6.08717C1.03611 -6.24658 0.856787 -6.24658 0.777086 -6.24658C0.438356 -6.24658 0.438356 -6.0274 0.438356 -5.83811L0.438356 -5.41968C0.438356 -5.23039 0.438356 -5.01121 0.777086 -5.01121C1.12578 -5.01121 1.12578 -5.2005 1.12578 -5.47945ZM1.12578 -5.47945M5.95766 -0M9.87298 -1.08593C9.87298 -1.36488 9.58406 -1.36488 9.52428 -1.36488C9.36488 -1.36488 9.26526 -1.34496 9.19552 -1.1457C9.13574 -1.01619 8.94645 -0.547945 8.20922 -0.547945C7.36239 -0.547945 6.64508 -1.24533 6.64508 -2.15193C6.64508 -2.63014 6.92403 -3.77584 8.26899 -3.77584C8.47821 -3.77584 8.86675 -3.77584 8.86675 -3.68618C8.87671 -3.33748 9.066 -3.19801 9.30511 -3.19801C9.54421 -3.19801 9.75342 -3.36737 9.75342 -3.65629C9.75342 -4.38356 8.71731 -4.38356 8.26899 -4.38356C6.55542 -4.38356 5.95766 -3.02864 5.95766 -2.15193C5.95766 -0.956413 6.89415 0.0597758 8.14944 0.0597758C9.53425 0.0597758 9.87298 -0.916563 9.87298 -1.08593ZM9.87298 -1.08593\" fill=\"black\"/>\n",
       "  <path d=\"M16.239 -0M19.9152 -1.90286C20.1244 -1.90286 20.3137 -1.90286 20.3137 -2.27148C20.3137 -3.40722 19.6761 -4.38356 18.3809 -4.38356C17.1954 -4.38356 16.239 -3.3873 16.239 -2.16189C16.239 -0.946451 17.2452 0.0597758 18.5304 0.0597758C19.8454 0.0597758 20.3137 -0.836862 20.3137 -1.08593C20.3137 -1.36488 20.0248 -1.36488 19.965 -1.36488C19.7857 -1.36488 19.706 -1.33499 19.6362 -1.1457C19.417 -0.637609 18.8791 -0.547945 18.6001 -0.547945C17.8529 -0.547945 17.1057 -1.04608 16.9463 -1.90286ZM16.9463 -1.90286M16.9563 -2.50062C17.0958 -3.2279 17.6835 -3.77584 18.3809 -3.77584C18.899 -3.77584 19.5167 -3.52677 19.6063 -2.50062ZM19.6063 -2.50062M21.3598 -0M24.6773 -5.47945C22.9538 -3.64633 22.6151 -1.45455 22.6151 -0.358655C22.6151 -0.219178 22.6151 0.109589 22.9637 0.109589C23.1331 0.109589 23.3025 -0 23.3025 -0.288917C23.3523 -3.11831 24.8766 -4.85181 25.4843 -5.4396C25.6835 -5.61893 25.7035 -5.63885 25.7035 -5.77833C25.7035 -6.08717 25.4644 -6.08717 25.305 -6.08717L22.0173 -6.08717C21.9575 -6.24658 21.7782 -6.24658 21.6985 -6.24658C21.3598 -6.24658 21.3598 -6.0274 21.3598 -5.83811L21.3598 -5.41968C21.3598 -5.23039 21.3598 -5.01121 21.6985 -5.01121C22.0472 -5.01121 22.0472 -5.2005 22.0472 -5.47945ZM22.0472 -5.47945\" fill=\"black\"/>\n",
       " </g>\n",
       " <g transform=\"matrix(1.000000,0.000000,0.000000,1.000000,28.346457,-39.685039)\">\n",
       "  <path d=\"M0.358655 -0M4.08468 -4.16438C3.49689 -4.50311 3.15816 -4.59278 2.55044 -4.59278C1.16563 -4.59278 0.358655 -3.3873 0.358655 -2.21171C0.358655 -0.976339 1.26526 0.109589 2.51059 0.109589C3.04857 0.109589 3.59651 -0.0298879 4.1345 -0.398506L4.07472 -1.066C3.56663 -0.667497 3.02864 -0.52802 2.52055 -0.52802C1.69365 -0.52802 1.13574 -1.24533 1.13574 -2.22167C1.13574 -2.99875 1.50436 -3.95517 2.5604 -3.95517C3.07846 -3.95517 3.41719 -3.87547 3.96513 -3.51681ZM3.96513 -3.51681M5.23039 -0M8.75716 -2.96887C8.75716 -3.6264 8.60772 -4.533 7.39228 -4.533C6.7746 -4.533 6.29639 -4.22416 5.97758 -3.81569L5.97758 -6.91407L5.23039 -6.91407L5.23039 -0L6.00747 -0L6.00747 -2.44085C6.00747 -3.09838 6.25654 -3.92528 7.0137 -3.92528C7.97011 -3.92528 7.98007 -3.21793 7.98007 -2.89913L7.98007 -0L8.75716 -0ZM8.75716 -0M10.401 -0M12.3636 -2.70984L14.0374 -4.42341L13.1407 -4.42341L11.1183 -2.35118L11.1183 -6.91407L10.401 -6.91407L10.401 -0L11.0884 -0L11.0884 -1.40473L11.8854 -2.23163L13.4396 -0L14.2565 -0ZM14.2565 -0M14.7049 -0M17.8431 -4.27397C17.325 -4.51308 16.9166 -4.59278 16.4085 -4.59278C16.1594 -4.59278 14.7547 -4.59278 14.7547 -3.28767C14.7547 -2.7995 15.0436 -2.4807 15.2927 -2.29141C15.6015 -2.07223 15.8207 -2.03238 16.3686 -1.92279C16.7273 -1.85305 17.3051 -1.7335 17.3051 -1.20548C17.3051 -0.518057 16.5181 -0.518057 16.3686 -0.518057C15.5616 -0.518057 15.0037 -0.886675 14.8244 -1.00623L14.7049 -0.328767C15.0237 -0.169365 15.5716 0.109589 16.3786 0.109589C16.5579 0.109589 17.1059 0.109589 17.5342 -0.209215C17.8431 -0.448319 18.0125 -0.846824 18.0125 -1.27522C18.0125 -1.82316 17.6438 -2.16189 17.6239 -2.19178C17.2354 -2.54047 16.9664 -2.60025 16.4682 -2.68991C15.9203 -2.7995 15.462 -2.89913 15.462 -3.3873C15.462 -4.00498 16.1793 -4.00498 16.3088 -4.00498C16.6276 -4.00498 17.1557 -3.96513 17.7235 -3.6264ZM17.7235 -3.6264M19.0486 -0M22.5753 -4.42341L21.7983 -4.42341L21.7983 -1.53425C21.7983 -0.787049 21.2403 -0.438356 20.6027 -0.438356C19.8954 -0.438356 19.8257 -0.697385 19.8257 -1.12578L19.8257 -4.42341L19.0486 -4.42341L19.0486 -1.08593C19.0486 -0.368618 19.2777 0.109589 20.1046 0.109589C20.6326 0.109589 21.34 -0.0498132 21.8281 -0.478207L21.8281 -0L22.5753 -0ZM22.5753 -0M24.1893 -0M30.4857 -2.96887C30.4857 -3.63636 30.3263 -4.533 29.1208 -4.533C28.523 -4.533 28.005 -4.25405 27.6364 -3.71606C27.3773 -4.47323 26.68 -4.533 26.3611 -4.533C25.6438 -4.533 25.1756 -4.12453 24.9066 -3.76588L24.9066 -4.48319L24.1893 -4.48319L24.1893 -0L24.9664 -0L24.9664 -2.44085C24.9664 -3.11831 25.2354 -3.92528 25.9726 -3.92528C26.8991 -3.92528 26.9489 -3.27771 26.9489 -2.89913L26.9489 -0L27.726 -0L27.726 -2.44085C27.726 -3.11831 27.995 -3.92528 28.7323 -3.92528C29.6588 -3.92528 29.7086 -3.27771 29.7086 -2.89913L29.7086 -0L30.4857 -0ZM30.4857 -0\" fill=\"black\"/>\n",
       " </g>\n",
       " <g transform=\"matrix(1.000000,0.000000,0.000000,1.000000,124.724409,-39.685039)\">\n",
       "  <path d=\"M-7.39631 -0M-7.28273 -0.508095C-7.34251 -0.448319 -7.34251 -0.436364 -7.34251 -0.334745L-7.34251 -0.286924C-7.34251 -0.071731 -7.27675 -0 -7.05558 -0L-5.00527 -0C-4.77812 -0 -4.71835 -0.0777086 -4.71835 -0.286924L-4.71835 -0.358655C-4.71835 -0.454296 -4.71835 -0.56787 -4.84388 -0.621669C-4.88572 -0.645579 -5.077 -0.645579 -5.19656 -0.645579C-5.32806 -0.645579 -5.47152 -0.639601 -5.60303 -0.639601L-6.5714 -0.639601L-5.78236 -1.3868C-5.6927 -1.46451 -5.46555 -1.64981 -5.37588 -1.7335C-5.04712 -2.05629 -4.71835 -2.3731 -4.71835 -2.90511C-4.71835 -3.63437 -5.24438 -4.27995 -6.12308 -4.27995C-6.3323 -4.27995 -6.67302 -4.25006 -6.95994 -4.01694C-7.01374 -3.97509 -7.28871 -3.7599 -7.39631 -3.3594L-7.09743 -2.97684C-7.06156 -2.92902 -7.04363 -2.90511 -7.00179 -2.90511C-6.94799 -2.90511 -6.93603 -2.94695 -6.9181 -3.01868C-6.79855 -3.43113 -6.59531 -3.68219 -6.21274 -3.68219C-5.74649 -3.68219 -5.55521 -3.25778 -5.55521 -2.89315C-5.55521 -2.51059 -5.78236 -2.11009 -6.14101 -1.72752ZM-6.14101 -1.72752M-3.83964 -0M-3.55272 -4.14844C-3.76791 -4.14844 -3.83964 -4.08269 -3.83964 -3.86152L-3.83964 -0.286924C-3.83964 -0.071731 -3.77389 -0 -3.55272 -0L-1.91486 -0C-1.47252 -0 -0.372645 -0.0777086 -0.372645 -1.15965C-0.372645 -2.00249 -1.20353 -2.134 -1.4247 -2.16986C-0.874762 -2.29539 -0.55795 -2.60623 -0.55795 -3.07248C-0.55795 -4.14844 -1.83118 -4.14844 -2.08223 -4.14844ZM-2.08223 -4.14844M-2.9968 -2.3731L-2.9968 -3.63437L-2.29743 -3.63437C-2.0643 -3.63437 -1.3709 -3.61644 -1.3709 -3.05455C-1.3709 -2.3731 -2.15397 -2.3731 -2.3034 -2.3731ZM-2.3034 -2.3731M-2.9968 -0.514072L-2.9968 -1.94271L-2.24363 -1.94271C-2.03441 -1.94271 -1.20353 -1.94271 -1.20353 -1.17161C-1.20353 -0.555915 -1.84313 -0.514072 -2.13006 -0.514072ZM-2.13006 -0.514072\" fill=\"black\"/>\n",
       " </g>\n",
       " <g transform=\"matrix(1.000000,0.000000,0.000000,1.000000,127.559055,-39.685039)\">\n",
       "  <path d=\"M0.418431 -0M4.55293 -3.24782C4.55293 -4.03487 4.51308 -4.96139 4.09465 -5.76837C3.68618 -6.51557 2.99875 -6.75467 2.49066 -6.75467C1.90286 -6.75467 1.20548 -6.48568 0.797011 -5.599C0.468244 -4.87173 0.418431 -4.04483 0.418431 -3.24782C0.418431 -2.46077 0.458281 -1.7335 0.757161 -1.00623C1.15567 -0.0498132 1.91283 0.219178 2.4807 0.219178C3.20797 0.219178 3.83562 -0.18929 4.15442 -0.876712C4.4533 -1.52428 4.55293 -2.18182 4.55293 -3.24782ZM4.55293 -3.24782M2.49066 -0.388543C1.9726 -0.388543 1.56413 -0.767123 1.36488 -1.48443C1.20548 -2.0523 1.19552 -2.59029 1.19552 -3.36737C1.19552 -3.99502 1.19552 -4.59278 1.36488 -5.14072C1.42466 -5.33001 1.67372 -6.14695 2.4807 -6.14695C3.25778 -6.14695 3.51681 -5.38979 3.58655 -5.21046C3.77584 -4.65255 3.77584 -3.98506 3.77584 -3.36737C3.77584 -2.70984 3.77584 -2.08219 3.59651 -1.45455C3.33748 -0.547945 2.80946 -0.388543 2.49066 -0.388543ZM2.49066 -0.388543M4.98132 -0M7.57161 -2.28144L9.39477 -4.42341L8.57783 -4.42341L7.24284 -2.77958L5.868 -4.42341L5.0411 -4.42341L6.91407 -2.28144L4.98132 -0L5.79826 -0L7.24284 -1.87298L8.73724 -0L9.56413 -0ZM9.56413 -0M9.99253 -0M11.8854 -5.82814C12.005 -5.82814 12.1245 -5.83811 12.2441 -5.83811L13.4496 -5.83811C11.9751 -4.2142 11.0884 -2.22167 11.0884 0.109589L11.9253 0.109589C11.9253 -2.8792 13.3499 -5.01121 14.127 -5.88792L14.127 -6.53549L9.99253 -6.53549L9.99253 -5.82814ZM9.99253 -5.82814M14.9141 -0M18.6401 -4.16438C18.0523 -4.50311 17.7136 -4.59278 17.1059 -4.59278C15.721 -4.59278 14.9141 -3.3873 14.9141 -2.21171C14.9141 -0.976339 15.8207 0.109589 17.066 0.109589C17.604 0.109589 18.1519 -0.0298879 18.6899 -0.398506L18.6301 -1.066C18.122 -0.667497 17.5841 -0.52802 17.076 -0.52802C16.2491 -0.52802 15.6912 -1.24533 15.6912 -2.22167C15.6912 -2.99875 16.0598 -3.95517 17.1158 -3.95517C17.6339 -3.95517 17.9726 -3.87547 18.5205 -3.51681ZM18.5205 -3.51681M19.3275 -0M23.1034 -2.18182C23.1034 -2.52055 23.0934 -3.26775 22.7049 -3.8655C22.2964 -4.48319 21.6887 -4.59278 21.33 -4.59278C20.2242 -4.59278 19.3275 -3.53674 19.3275 -2.25156C19.3275 -0.936488 20.2839 0.109589 21.4795 0.109589C22.1071 0.109589 22.675 -0.129514 23.0635 -0.408468L23.0037 -1.05604C22.3761 -0.537983 21.7186 -0.498132 21.4894 -0.498132C20.6924 -0.498132 20.0548 -1.20548 20.0249 -2.18182ZM20.0249 -2.18182M20.0747 -2.72976C20.2341 -3.48692 20.7621 -3.98506 21.33 -3.98506C21.8481 -3.98506 22.406 -3.64633 22.5355 -2.72976ZM22.5355 -2.72976M23.8207 -0M25.7136 -5.82814C25.8331 -5.82814 25.9527 -5.83811 26.0722 -5.83811L27.2777 -5.83811C25.8032 -4.2142 24.9166 -2.22167 24.9166 0.109589L25.7534 0.109589C25.7534 -2.8792 27.1781 -5.01121 27.9552 -5.88792L27.9552 -6.53549L23.8207 -6.53549L23.8207 -5.82814ZM23.8207 -5.82814\" fill=\"black\"/>\n",
       " </g>\n",
       " <g stroke-width=\"0.400879\">\n",
       "  <path d=\"M165.749 -31.536C308.335 -30.5205 493.697 -21.7071 499.193 -155.606\" stroke=\"#7fcc33\"/>\n",
       "  <g stroke-linecap=\"butt\" stroke-dasharray=\"none\">\n",
       "   <path d=\"M497.532 -154.878C498.129 -156.143 498.715 -157.431 499.288 -158.74C499.809 -157.409 500.305 -156.085 500.777 -154.767L499.193 -155.606Z\" fill=\"#7fcc33\"/>\n",
       "  </g>\n",
       " </g>\n",
       " <g stroke-width=\"1.133858\">\n",
       "  <path d=\"M469.551 -157.74L529.085 -157.74L529.085 -165.828L469.551 -165.828Z\" stroke=\"#7fcc33\" fill=\"#9cc\"/>\n",
       " </g>\n",
       " <g transform=\"matrix(1.000000,0.000000,0.000000,1.000000,470.551181,-158.740157)\">\n",
       "  <path d=\"M0.438356 -0M3.75592 -5.47945C2.03238 -3.64633 1.69365 -1.45455 1.69365 -0.358655C1.69365 -0.219178 1.69365 0.109589 2.04234 0.109589C2.21171 0.109589 2.38107 -0 2.38107 -0.288917C2.43088 -3.11831 3.95517 -4.85181 4.56289 -5.4396C4.76214 -5.61893 4.78207 -5.63885 4.78207 -5.77833C4.78207 -6.08717 4.54296 -6.08717 4.38356 -6.08717L1.09589 -6.08717C1.03611 -6.24658 0.856787 -6.24658 0.777086 -6.24658C0.438356 -6.24658 0.438356 -6.0274 0.438356 -5.83811L0.438356 -5.41968C0.438356 -5.23039 0.438356 -5.01121 0.777086 -5.01121C1.12578 -5.01121 1.12578 -5.2005 1.12578 -5.47945ZM1.12578 -5.47945M5.64882 -0M7.75093 -3.68618L8.96638 -3.68618C9.11582 -3.68618 9.36488 -3.68618 9.36488 -3.98506C9.36488 -4.2939 9.12578 -4.2939 8.96638 -4.2939L7.75093 -4.2939L7.75093 -4.76214C7.75093 -5.53923 8.41843 -5.53923 8.71731 -5.53923C8.71731 -5.49938 8.80697 -5.11083 9.15567 -5.11083C9.35492 -5.11083 9.58406 -5.27024 9.58406 -5.54919C9.58406 -6.14695 8.78705 -6.14695 8.62765 -6.14695C7.83064 -6.14695 7.06351 -5.68867 7.06351 -4.82192L7.06351 -4.2939L6.06725 -4.2939C5.90785 -4.2939 5.65878 -4.2939 5.65878 -3.98506C5.65878 -3.68618 5.90785 -3.68618 6.05729 -3.68618L7.06351 -3.68618L7.06351 -0.607721L6.05729 -0.607721C5.90785 -0.607721 5.64882 -0.607721 5.64882 -0.308842C5.64882 -0 5.90785 -0 6.05729 -0L8.75716 -0C8.9066 -0 9.16563 -0 9.16563 -0.298879C9.16563 -0.607721 8.9066 -0.607721 8.75716 -0.607721L7.75093 -0.607721ZM7.75093 -0.607721\" fill=\"black\"/>\n",
       "  <path d=\"M16.1892 -0M20.4133 -3.03861C20.4133 -4.89166 19.3971 -6.19676 18.3012 -6.19676C17.1854 -6.19676 16.1892 -4.86177 16.1892 -3.04857C16.1892 -1.19552 17.2053 0.109589 18.3012 0.109589C19.417 0.109589 20.4133 -1.2254 20.4133 -3.03861ZM20.4133 -3.03861M18.3012 -0.498132C17.5241 -0.498132 16.8766 -1.67372 16.8766 -3.14819C16.8766 -4.60274 17.564 -5.58904 18.3012 -5.58904C19.0285 -5.58904 19.7259 -4.6127 19.7259 -3.14819C19.7259 -1.67372 19.0783 -0.498132 18.3012 -0.498132ZM18.3012 -0.498132M21.4195 -0M25.6437 -3.03861C25.6437 -4.89166 24.6275 -6.19676 23.5316 -6.19676C22.4158 -6.19676 21.4195 -4.86177 21.4195 -3.04857C21.4195 -1.19552 22.4357 0.109589 23.5316 0.109589C24.6474 0.109589 25.6437 -1.2254 25.6437 -3.03861ZM25.6437 -3.03861M23.5316 -0.498132C22.7545 -0.498132 22.107 -1.67372 22.107 -3.14819C22.107 -4.60274 22.7944 -5.58904 23.5316 -5.58904C24.2589 -5.58904 24.9563 -4.6127 24.9563 -3.14819C24.9563 -1.67372 24.3087 -0.498132 23.5316 -0.498132ZM23.5316 -0.498132\" fill=\"black\"/>\n",
       "  <path d=\"M31.8802 -0M36.1043 -3.03861C36.1043 -4.89166 35.0881 -6.19676 33.9923 -6.19676C32.8764 -6.19676 31.8802 -4.86177 31.8802 -3.04857C31.8802 -1.19552 32.8964 0.109589 33.9923 0.109589C35.1081 0.109589 36.1043 -1.2254 36.1043 -3.03861ZM36.1043 -3.03861M33.9923 -0.498132C33.2152 -0.498132 32.5676 -1.67372 32.5676 -3.14819C32.5676 -4.60274 33.255 -5.58904 33.9923 -5.58904C34.7195 -5.58904 35.4169 -4.6127 35.4169 -3.14819C35.4169 -1.67372 34.7693 -0.498132 33.9923 -0.498132ZM33.9923 -0.498132M37.1106 -0M41.3347 -3.03861C41.3347 -4.89166 40.3185 -6.19676 39.2226 -6.19676C38.1068 -6.19676 37.1106 -4.86177 37.1106 -3.04857C37.1106 -1.19552 38.1268 0.109589 39.2226 0.109589C40.3385 0.109589 41.3347 -1.2254 41.3347 -3.03861ZM41.3347 -3.03861M39.2226 -0.498132C38.4456 -0.498132 37.798 -1.67372 37.798 -3.14819C37.798 -4.60274 38.4854 -5.58904 39.2226 -5.58904C39.9499 -5.58904 40.6473 -4.6127 40.6473 -3.14819C40.6473 -1.67372 39.9997 -0.498132 39.2226 -0.498132ZM39.2226 -0.498132\" fill=\"black\"/>\n",
       "  <path d=\"M47.5712 -0M51.7954 -3.03861C51.7954 -4.89166 50.7792 -6.19676 49.6833 -6.19676C48.5675 -6.19676 47.5712 -4.86177 47.5712 -3.04857C47.5712 -1.19552 48.5874 0.109589 49.6833 0.109589C50.7991 0.109589 51.7954 -1.2254 51.7954 -3.03861ZM51.7954 -3.03861M49.6833 -0.498132C48.9062 -0.498132 48.2586 -1.67372 48.2586 -3.14819C48.2586 -4.60274 48.946 -5.58904 49.6833 -5.58904C50.4105 -5.58904 51.1079 -4.6127 51.1079 -3.14819C51.1079 -1.67372 50.4604 -0.498132 49.6833 -0.498132ZM49.6833 -0.498132M53.3495 -0M55.4018 -5.78829C55.4018 -5.9477 55.4018 -6.19676 55.103 -6.19676C54.9137 -6.19676 54.8539 -6.07721 54.8041 -5.95766C54.4255 -5.11083 53.9074 -5.00125 53.7181 -4.98132C53.5587 -4.97136 53.3495 -4.95143 53.3495 -4.67248C53.3495 -4.42341 53.5289 -4.3736 53.6783 -4.3736C53.8676 -4.3736 54.2761 -4.43337 54.7144 -4.81196L54.7144 -0.607721L53.8078 -0.607721C53.6484 -0.607721 53.4093 -0.607721 53.4093 -0.298879C53.4093 -0 53.6584 -0 53.8078 -0L56.3084 -0C56.4579 -0 56.7069 -0 56.7069 -0.298879C56.7069 -0.607721 56.4678 -0.607721 56.3084 -0.607721L55.4018 -0.607721ZM55.4018 -0.607721\" fill=\"black\"/>\n",
       " </g>\n",
       " <g transform=\"matrix(1.000000,0.000000,0.000000,1.000000,28.346457,-28.346457)\">\n",
       "  <path d=\"M0.278954 -0M3.41719 -4.27397C2.89913 -4.51308 2.49066 -4.59278 1.98257 -4.59278C1.7335 -4.59278 0.328767 -4.59278 0.328767 -3.28767C0.328767 -2.7995 0.617684 -2.4807 0.86675 -2.29141C1.17559 -2.07223 1.39477 -2.03238 1.94271 -1.92279C2.30137 -1.85305 2.8792 -1.7335 2.8792 -1.20548C2.8792 -0.518057 2.09215 -0.518057 1.94271 -0.518057C1.13574 -0.518057 0.577833 -0.886675 0.398506 -1.00623L0.278954 -0.328767C0.597758 -0.169365 1.1457 0.109589 1.95268 0.109589C2.132 0.109589 2.67995 0.109589 3.10834 -0.209215C3.41719 -0.448319 3.58655 -0.846824 3.58655 -1.27522C3.58655 -1.82316 3.21793 -2.16189 3.19801 -2.19178C2.80946 -2.54047 2.54047 -2.60025 2.04234 -2.68991C1.4944 -2.7995 1.03611 -2.89913 1.03611 -3.3873C1.03611 -4.00498 1.75342 -4.00498 1.88294 -4.00498C2.20174 -4.00498 2.72976 -3.96513 3.29763 -3.6264ZM3.29763 -3.6264M4.63263 -0M5.37983 -2.132C5.37983 -3.12827 6.09714 -3.84558 7.07347 -3.8655L7.07347 -4.533C6.1868 -4.52304 5.63885 -4.03487 5.33001 -3.57659L5.33001 -4.48319L4.63263 -4.48319L4.63263 -0L5.37983 -0ZM5.37983 -0M7.57161 -0M11.2976 -4.16438C10.7098 -4.50311 10.3711 -4.59278 9.76339 -4.59278C8.37858 -4.59278 7.57161 -3.3873 7.57161 -2.21171C7.57161 -0.976339 8.47821 0.109589 9.72354 0.109589C10.2615 0.109589 10.8095 -0.0298879 11.3474 -0.398506L11.2877 -1.066C10.7796 -0.667497 10.2416 -0.52802 9.7335 -0.52802C8.9066 -0.52802 8.34869 -1.24533 8.34869 -2.22167C8.34869 -2.99875 8.71731 -3.95517 9.77335 -3.95517C10.2914 -3.95517 10.6301 -3.87547 11.1781 -3.51681ZM11.1781 -3.51681\" fill=\"black\"/>\n",
       " </g>\n",
       " <g transform=\"matrix(1.000000,0.000000,0.000000,1.000000,124.724409,-28.346457)\">\n",
       "  <path d=\"M-7.48597 -0M-7.43815 -1.56613C-7.48597 -1.47646 -7.48597 -1.45853 -7.48597 -1.35093L-7.48597 -1.20149C-7.48597 -1.01021 -7.44413 -0.91457 -7.19905 -0.91457L-5.85409 -0.91457L-5.85409 -0.286924C-5.85409 -0.0956413 -5.81225 -0 -5.56717 -0L-5.39979 -0C-5.17265 -0 -5.11287 -0.0777086 -5.11287 -0.286924L-5.11287 -0.91457L-4.86181 -0.91457C-4.67651 -0.91457 -4.57489 -0.956413 -4.57489 -1.19552C-4.57489 -1.41669 -4.6526 -1.47646 -4.86181 -1.47646L-5.11287 -1.47646L-5.11287 -3.86152C-5.11287 -4.07671 -5.17862 -4.14844 -5.39979 -4.14844L-5.83616 -4.14844C-5.94973 -4.14844 -6.03939 -4.14844 -6.11113 -4.01096ZM-6.11113 -4.01096M-6.8643 -1.47646C-5.90789 -3.23387 -5.85409 -3.41918 -5.8242 -3.5208L-5.81822 -3.5208L-5.81822 -1.47646ZM-5.81822 -1.47646M-3.83964 -0M-3.55272 -4.14844C-3.76791 -4.14844 -3.83964 -4.08269 -3.83964 -3.86152L-3.83964 -0.286924C-3.83964 -0.071731 -3.77389 -0 -3.55272 -0L-1.91486 -0C-1.47252 -0 -0.372645 -0.0777086 -0.372645 -1.15965C-0.372645 -2.00249 -1.20353 -2.134 -1.4247 -2.16986C-0.874762 -2.29539 -0.55795 -2.60623 -0.55795 -3.07248C-0.55795 -4.14844 -1.83118 -4.14844 -2.08223 -4.14844ZM-2.08223 -4.14844M-2.9968 -2.3731L-2.9968 -3.63437L-2.29743 -3.63437C-2.0643 -3.63437 -1.3709 -3.61644 -1.3709 -3.05455C-1.3709 -2.3731 -2.15397 -2.3731 -2.3034 -2.3731ZM-2.3034 -2.3731M-2.9968 -0.514072L-2.9968 -1.94271L-2.24363 -1.94271C-2.03441 -1.94271 -1.20353 -1.94271 -1.20353 -1.17161C-1.20353 -0.555915 -1.84313 -0.514072 -2.13006 -0.514072ZM-2.13006 -0.514072\" fill=\"black\"/>\n",
       " </g>\n",
       " <g transform=\"matrix(1.000000,0.000000,0.000000,1.000000,127.559055,-28.346457)\">\n",
       "  <path d=\"M0.886675 -0M2.97883 -6.75467L2.77958 -6.75467C2.19178 -6.14695 1.36488 -6.11706 0.886675 -6.09714L0.886675 -5.5193C1.21544 -5.52927 1.69365 -5.54919 2.19178 -5.75841L2.19178 -0.577833L0.946451 -0.577833L0.946451 -0L4.22416 -0L4.22416 -0.577833L2.97883 -0.577833ZM2.97883 -0.577833M5.39975 -0M6.71482 -1.87298L5.47945 -0.637609L5.47945 -0L9.45455 -0L9.45455 -0.707347L7.64134 -0.707347C7.52179 -0.707347 7.40224 -0.697385 7.28269 -0.697385L6.19676 -0.697385C6.51557 -0.976339 7.27273 -1.72354 7.58157 -2.01245C7.77086 -2.19178 8.27895 -2.61021 8.46824 -2.78954C8.91656 -3.23786 9.45455 -3.76588 9.45455 -4.6127C9.45455 -5.75841 8.64757 -6.75467 7.3325 -6.75467C6.19676 -6.75467 5.63885 -5.97758 5.39975 -5.1208C5.5193 -4.95143 5.56912 -4.89166 5.58904 -4.86177C5.60897 -4.84184 5.70859 -4.71233 5.80822 -4.57285C6.00747 -5.33998 6.28643 -6.11706 7.19303 -6.11706C8.12951 -6.11706 8.63761 -5.36986 8.63761 -4.59278C8.63761 -3.74595 8.06974 -3.17808 7.48194 -2.58032ZM7.48194 -2.58032M10.3811 -0M12.274 -5.82814C12.3935 -5.82814 12.5131 -5.83811 12.6326 -5.83811L13.8381 -5.83811C12.3636 -4.2142 11.477 -2.22167 11.477 0.109589L12.3138 0.109589C12.3138 -2.8792 13.7385 -5.01121 14.5156 -5.88792L14.5156 -6.53549L10.3811 -6.53549L10.3811 -5.82814ZM10.3811 -5.82814M15.9103 -0M16.7372 -0.826899L15.9103 -0.826899L15.9103 -0L16.7372 -0ZM16.7372 -0M18.122 -0M22.2565 -3.24782C22.2565 -4.03487 22.2167 -4.96139 21.7983 -5.76837C21.3898 -6.51557 20.7024 -6.75467 20.1943 -6.75467C19.6065 -6.75467 18.9091 -6.48568 18.5006 -5.599C18.1719 -4.87173 18.122 -4.04483 18.122 -3.24782C18.122 -2.46077 18.1619 -1.7335 18.4608 -1.00623C18.8593 -0.0498132 19.6164 0.219178 20.1843 0.219178C20.9116 0.219178 21.5392 -0.18929 21.858 -0.876712C22.1569 -1.52428 22.2565 -2.18182 22.2565 -3.24782ZM22.2565 -3.24782M20.1943 -0.388543C19.6762 -0.388543 19.2677 -0.767123 19.0685 -1.48443C18.9091 -2.0523 18.8991 -2.59029 18.8991 -3.36737C18.8991 -3.99502 18.8991 -4.59278 19.0685 -5.14072C19.1283 -5.33001 19.3773 -6.14695 20.1843 -6.14695C20.9614 -6.14695 21.2204 -5.38979 21.2902 -5.21046C21.4795 -4.65255 21.4795 -3.98506 21.4795 -3.36737C21.4795 -2.70984 21.4795 -2.08219 21.3001 -1.45455C21.0411 -0.547945 20.5131 -0.388543 20.1943 -0.388543ZM20.1943 -0.388543M23.6513 -0M24.4782 -0.826899L23.6513 -0.826899L23.6513 -0L24.4782 -0ZM24.4782 -0M25.863 -0M29.9975 -3.24782C29.9975 -4.03487 29.9577 -4.96139 29.5392 -5.76837C29.1308 -6.51557 28.4433 -6.75467 27.9352 -6.75467C27.3474 -6.75467 26.6501 -6.48568 26.2416 -5.599C25.9128 -4.87173 25.863 -4.04483 25.863 -3.24782C25.863 -2.46077 25.9029 -1.7335 26.2017 -1.00623C26.6002 -0.0498132 27.3574 0.219178 27.9253 0.219178C28.6526 0.219178 29.2802 -0.18929 29.599 -0.876712C29.8979 -1.52428 29.9975 -2.18182 29.9975 -3.24782ZM29.9975 -3.24782M27.9352 -0.388543C27.4172 -0.388543 27.0087 -0.767123 26.8095 -1.48443C26.6501 -2.0523 26.6401 -2.59029 26.6401 -3.36737C26.6401 -3.99502 26.6401 -4.59278 26.8095 -5.14072C26.8692 -5.33001 27.1183 -6.14695 27.9253 -6.14695C28.7024 -6.14695 28.9614 -5.38979 29.0311 -5.21046C29.2204 -4.65255 29.2204 -3.98506 29.2204 -3.36737C29.2204 -2.70984 29.2204 -2.08219 29.0411 -1.45455C28.7821 -0.547945 28.254 -0.388543 27.9352 -0.388543ZM27.9352 -0.388543M31.3923 -0M32.2192 -0.826899L31.3923 -0.826899L31.3923 -0L32.2192 -0ZM32.2192 -0M34.0722 -0M36.1644 -6.75467L35.9651 -6.75467C35.3773 -6.14695 34.5504 -6.11706 34.0722 -6.09714L34.0722 -5.5193C34.401 -5.52927 34.8792 -5.54919 35.3773 -5.75841L35.3773 -0.577833L34.132 -0.577833L34.132 -0L37.4097 -0L37.4097 -0.577833L36.1644 -0.577833ZM36.1644 -0.577833\" fill=\"black\"/>\n",
       " </g>\n",
       " <g stroke-width=\"0.400879\">\n",
       "  <path d=\"M165.749 -21.1336C239.162 -27.7419 308.328 -72.1368 312.072 -144.268\" stroke=\"#cc7f7f\"/>\n",
       "  <g stroke-linecap=\"butt\" stroke-dasharray=\"none\">\n",
       "   <path d=\"M310.402 -143.556C311.018 -144.819 311.615 -146.1 312.193 -147.402C312.704 -146.073 313.188 -144.744 313.645 -143.416L312.072 -144.268Z\" fill=\"#cc7f7f\"/>\n",
       "  </g>\n",
       " </g>\n",
       " <g stroke-width=\"1.133858\">\n",
       "  <path d=\"M282.465 -146.402L341.998 -146.402L341.998 -154.49L282.465 -154.49Z\" stroke=\"#cc7f7f\" fill=\"#9cc\"/>\n",
       " </g>\n",
       " <g transform=\"matrix(1.000000,0.000000,0.000000,1.000000,283.464567,-147.401575)\">\n",
       "  <path d=\"M0.438356 -0M3.75592 -5.47945C2.03238 -3.64633 1.69365 -1.45455 1.69365 -0.358655C1.69365 -0.219178 1.69365 0.109589 2.04234 0.109589C2.21171 0.109589 2.38107 -0 2.38107 -0.288917C2.43088 -3.11831 3.95517 -4.85181 4.56289 -5.4396C4.76214 -5.61893 4.78207 -5.63885 4.78207 -5.77833C4.78207 -6.08717 4.54296 -6.08717 4.38356 -6.08717L1.09589 -6.08717C1.03611 -6.24658 0.856787 -6.24658 0.777086 -6.24658C0.438356 -6.24658 0.438356 -6.0274 0.438356 -5.83811L0.438356 -5.41968C0.438356 -5.23039 0.438356 -5.01121 0.777086 -5.01121C1.12578 -5.01121 1.12578 -5.2005 1.12578 -5.47945ZM1.12578 -5.47945M5.64882 -0M7.75093 -3.68618L8.96638 -3.68618C9.11582 -3.68618 9.36488 -3.68618 9.36488 -3.98506C9.36488 -4.2939 9.12578 -4.2939 8.96638 -4.2939L7.75093 -4.2939L7.75093 -4.76214C7.75093 -5.53923 8.41843 -5.53923 8.71731 -5.53923C8.71731 -5.49938 8.80697 -5.11083 9.15567 -5.11083C9.35492 -5.11083 9.58406 -5.27024 9.58406 -5.54919C9.58406 -6.14695 8.78705 -6.14695 8.62765 -6.14695C7.83064 -6.14695 7.06351 -5.68867 7.06351 -4.82192L7.06351 -4.2939L6.06725 -4.2939C5.90785 -4.2939 5.65878 -4.2939 5.65878 -3.98506C5.65878 -3.68618 5.90785 -3.68618 6.05729 -3.68618L7.06351 -3.68618L7.06351 -0.607721L6.05729 -0.607721C5.90785 -0.607721 5.64882 -0.607721 5.64882 -0.308842C5.64882 -0 5.90785 -0 6.05729 -0L8.75716 -0C8.9066 -0 9.16563 -0 9.16563 -0.298879C9.16563 -0.607721 8.9066 -0.607721 8.75716 -0.607721L7.75093 -0.607721ZM7.75093 -0.607721\" fill=\"black\"/>\n",
       "  <path d=\"M16.1892 -0M20.4133 -3.03861C20.4133 -4.89166 19.3971 -6.19676 18.3012 -6.19676C17.1854 -6.19676 16.1892 -4.86177 16.1892 -3.04857C16.1892 -1.19552 17.2053 0.109589 18.3012 0.109589C19.417 0.109589 20.4133 -1.2254 20.4133 -3.03861ZM20.4133 -3.03861M18.3012 -0.498132C17.5241 -0.498132 16.8766 -1.67372 16.8766 -3.14819C16.8766 -4.60274 17.564 -5.58904 18.3012 -5.58904C19.0285 -5.58904 19.7259 -4.6127 19.7259 -3.14819C19.7259 -1.67372 19.0783 -0.498132 18.3012 -0.498132ZM18.3012 -0.498132M21.4195 -0M25.6437 -3.03861C25.6437 -4.89166 24.6275 -6.19676 23.5316 -6.19676C22.4158 -6.19676 21.4195 -4.86177 21.4195 -3.04857C21.4195 -1.19552 22.4357 0.109589 23.5316 0.109589C24.6474 0.109589 25.6437 -1.2254 25.6437 -3.03861ZM25.6437 -3.03861M23.5316 -0.498132C22.7545 -0.498132 22.107 -1.67372 22.107 -3.14819C22.107 -4.60274 22.7944 -5.58904 23.5316 -5.58904C24.2589 -5.58904 24.9563 -4.6127 24.9563 -3.14819C24.9563 -1.67372 24.3087 -0.498132 23.5316 -0.498132ZM23.5316 -0.498132\" fill=\"black\"/>\n",
       "  <path d=\"M31.8802 -0M36.1043 -3.03861C36.1043 -4.89166 35.0881 -6.19676 33.9923 -6.19676C32.8764 -6.19676 31.8802 -4.86177 31.8802 -3.04857C31.8802 -1.19552 32.8964 0.109589 33.9923 0.109589C35.1081 0.109589 36.1043 -1.2254 36.1043 -3.03861ZM36.1043 -3.03861M33.9923 -0.498132C33.2152 -0.498132 32.5676 -1.67372 32.5676 -3.14819C32.5676 -4.60274 33.255 -5.58904 33.9923 -5.58904C34.7195 -5.58904 35.4169 -4.6127 35.4169 -3.14819C35.4169 -1.67372 34.7693 -0.498132 33.9923 -0.498132ZM33.9923 -0.498132M37.1106 -0M41.3347 -3.03861C41.3347 -4.89166 40.3185 -6.19676 39.2226 -6.19676C38.1068 -6.19676 37.1106 -4.86177 37.1106 -3.04857C37.1106 -1.19552 38.1268 0.109589 39.2226 0.109589C40.3385 0.109589 41.3347 -1.2254 41.3347 -3.03861ZM41.3347 -3.03861M39.2226 -0.498132C38.4456 -0.498132 37.798 -1.67372 37.798 -3.14819C37.798 -4.60274 38.4854 -5.58904 39.2226 -5.58904C39.9499 -5.58904 40.6473 -4.6127 40.6473 -3.14819C40.6473 -1.67372 39.9997 -0.498132 39.2226 -0.498132ZM39.2226 -0.498132\" fill=\"black\"/>\n",
       "  <path d=\"M47.5712 -0M51.7954 -3.03861C51.7954 -4.89166 50.7792 -6.19676 49.6833 -6.19676C48.5675 -6.19676 47.5712 -4.86177 47.5712 -3.04857C47.5712 -1.19552 48.5874 0.109589 49.6833 0.109589C50.7991 0.109589 51.7954 -1.2254 51.7954 -3.03861ZM51.7954 -3.03861M49.6833 -0.498132C48.9062 -0.498132 48.2586 -1.67372 48.2586 -3.14819C48.2586 -4.60274 48.946 -5.58904 49.6833 -5.58904C50.4105 -5.58904 51.1079 -4.6127 51.1079 -3.14819C51.1079 -1.67372 50.4604 -0.498132 49.6833 -0.498132ZM49.6833 -0.498132M53.3495 -0M55.4018 -5.78829C55.4018 -5.9477 55.4018 -6.19676 55.103 -6.19676C54.9137 -6.19676 54.8539 -6.07721 54.8041 -5.95766C54.4255 -5.11083 53.9074 -5.00125 53.7181 -4.98132C53.5587 -4.97136 53.3495 -4.95143 53.3495 -4.67248C53.3495 -4.42341 53.5289 -4.3736 53.6783 -4.3736C53.8676 -4.3736 54.2761 -4.43337 54.7144 -4.81196L54.7144 -0.607721L53.8078 -0.607721C53.6484 -0.607721 53.4093 -0.607721 53.4093 -0.298879C53.4093 -0 53.6584 -0 53.8078 -0L56.3084 -0C56.4579 -0 56.7069 -0 56.7069 -0.298879C56.7069 -0.607721 56.4678 -0.607721 56.3084 -0.607721L55.4018 -0.607721ZM55.4018 -0.607721\" fill=\"black\"/>\n",
       " </g>\n",
       " <g transform=\"matrix(1.000000,0.000000,0.000000,1.000000,28.346457,-17.007874)\">\n",
       "  <path d=\"M0.358655 -0M4.32379 -6.91407L3.57659 -6.91407L3.57659 -3.98506C3.04857 -4.42341 2.49066 -4.533 2.12204 -4.533C1.13574 -4.533 0.358655 -3.49689 0.358655 -2.21171C0.358655 -0.9066 1.12578 0.109589 2.07223 0.109589C2.401 0.109589 2.98879 0.0199253 3.5467 -0.518057L3.5467 -0L4.32379 -0ZM4.32379 -0M3.5467 -1.38481C3.5467 -1.24533 3.53674 -1.066 3.21793 -0.777086C2.98879 -0.577833 2.73973 -0.498132 2.4807 -0.498132C1.86301 -0.498132 1.13574 -0.966376 1.13574 -2.20174C1.13574 -3.51681 1.99253 -3.92528 2.58032 -3.92528C3.02864 -3.92528 3.32752 -3.69614 3.5467 -3.37733ZM3.5467 -3.37733M5.41968 -0M8.55791 -4.27397C8.03985 -4.51308 7.63138 -4.59278 7.12329 -4.59278C6.87422 -4.59278 5.46949 -4.59278 5.46949 -3.28767C5.46949 -2.7995 5.75841 -2.4807 6.00747 -2.29141C6.31631 -2.07223 6.53549 -2.03238 7.08344 -1.92279C7.44209 -1.85305 8.01993 -1.7335 8.01993 -1.20548C8.01993 -0.518057 7.23288 -0.518057 7.08344 -0.518057C6.27646 -0.518057 5.71856 -0.886675 5.53923 -1.00623L5.41968 -0.328767C5.73848 -0.169365 6.28643 0.109589 7.0934 0.109589C7.27273 0.109589 7.82067 0.109589 8.24907 -0.209215C8.55791 -0.448319 8.72727 -0.846824 8.72727 -1.27522C8.72727 -1.82316 8.35866 -2.16189 8.33873 -2.19178C7.95019 -2.54047 7.6812 -2.60025 7.18306 -2.68991C6.63512 -2.7995 6.17684 -2.89913 6.17684 -3.3873C6.17684 -4.00498 6.89415 -4.00498 7.02366 -4.00498C7.34247 -4.00498 7.87049 -3.96513 8.43836 -3.6264ZM8.43836 -3.6264M9.1457 -0M10.6999 -3.84558L12.1046 -3.84558L12.1046 -4.42341L10.6999 -4.42341L10.6999 -5.68867L10.0125 -5.68867L10.0125 -4.42341L9.1457 -4.42341L9.1457 -3.84558L9.98257 -3.84558L9.98257 -1.18555C9.98257 -0.587796 10.122 0.109589 10.8095 0.109589C11.5068 0.109589 12.0149 -0.139477 12.264 -0.268991L12.1046 -0.856787C11.8456 -0.647572 11.5268 -0.52802 11.208 -0.52802C10.8394 -0.52802 10.6999 -0.826899 10.6999 -1.35492ZM10.6999 -1.35492\" fill=\"black\"/>\n",
       " </g>\n",
       " <g transform=\"matrix(1.000000,0.000000,0.000000,1.000000,124.724409,-17.007874)\">\n",
       "  <path d=\"M-7.48597 -0M-7.43815 -1.56613C-7.48597 -1.47646 -7.48597 -1.45853 -7.48597 -1.35093L-7.48597 -1.20149C-7.48597 -1.01021 -7.44413 -0.91457 -7.19905 -0.91457L-5.85409 -0.91457L-5.85409 -0.286924C-5.85409 -0.0956413 -5.81225 -0 -5.56717 -0L-5.39979 -0C-5.17265 -0 -5.11287 -0.0777086 -5.11287 -0.286924L-5.11287 -0.91457L-4.86181 -0.91457C-4.67651 -0.91457 -4.57489 -0.956413 -4.57489 -1.19552C-4.57489 -1.41669 -4.6526 -1.47646 -4.86181 -1.47646L-5.11287 -1.47646L-5.11287 -3.86152C-5.11287 -4.07671 -5.17862 -4.14844 -5.39979 -4.14844L-5.83616 -4.14844C-5.94973 -4.14844 -6.03939 -4.14844 -6.11113 -4.01096ZM-6.11113 -4.01096M-6.8643 -1.47646C-5.90789 -3.23387 -5.85409 -3.41918 -5.8242 -3.5208L-5.81822 -3.5208L-5.81822 -1.47646ZM-5.81822 -1.47646M-3.83964 -0M-3.55272 -4.14844C-3.76791 -4.14844 -3.83964 -4.08269 -3.83964 -3.86152L-3.83964 -0.286924C-3.83964 -0.071731 -3.77389 -0 -3.55272 -0L-1.91486 -0C-1.47252 -0 -0.372645 -0.0777086 -0.372645 -1.15965C-0.372645 -2.00249 -1.20353 -2.134 -1.4247 -2.16986C-0.874762 -2.29539 -0.55795 -2.60623 -0.55795 -3.07248C-0.55795 -4.14844 -1.83118 -4.14844 -2.08223 -4.14844ZM-2.08223 -4.14844M-2.9968 -2.3731L-2.9968 -3.63437L-2.29743 -3.63437C-2.0643 -3.63437 -1.3709 -3.61644 -1.3709 -3.05455C-1.3709 -2.3731 -2.15397 -2.3731 -2.3034 -2.3731ZM-2.3034 -2.3731M-2.9968 -0.514072L-2.9968 -1.94271L-2.24363 -1.94271C-2.03441 -1.94271 -1.20353 -1.94271 -1.20353 -1.17161C-1.20353 -0.555915 -1.84313 -0.514072 -2.13006 -0.514072ZM-2.13006 -0.514072\" fill=\"black\"/>\n",
       " </g>\n",
       " <g transform=\"matrix(1.000000,0.000000,0.000000,1.000000,127.559055,-17.007874)\">\n",
       "  <path d=\"M0.886675 -0M2.97883 -6.75467L2.77958 -6.75467C2.19178 -6.14695 1.36488 -6.11706 0.886675 -6.09714L0.886675 -5.5193C1.21544 -5.52927 1.69365 -5.54919 2.19178 -5.75841L2.19178 -0.577833L0.946451 -0.577833L0.946451 -0L4.22416 -0L4.22416 -0.577833L2.97883 -0.577833ZM2.97883 -0.577833M5.39975 -0M6.71482 -1.87298L5.47945 -0.637609L5.47945 -0L9.45455 -0L9.45455 -0.707347L7.64134 -0.707347C7.52179 -0.707347 7.40224 -0.697385 7.28269 -0.697385L6.19676 -0.697385C6.51557 -0.976339 7.27273 -1.72354 7.58157 -2.01245C7.77086 -2.19178 8.27895 -2.61021 8.46824 -2.78954C8.91656 -3.23786 9.45455 -3.76588 9.45455 -4.6127C9.45455 -5.75841 8.64757 -6.75467 7.3325 -6.75467C6.19676 -6.75467 5.63885 -5.97758 5.39975 -5.1208C5.5193 -4.95143 5.56912 -4.89166 5.58904 -4.86177C5.60897 -4.84184 5.70859 -4.71233 5.80822 -4.57285C6.00747 -5.33998 6.28643 -6.11706 7.19303 -6.11706C8.12951 -6.11706 8.63761 -5.36986 8.63761 -4.59278C8.63761 -3.74595 8.06974 -3.17808 7.48194 -2.58032ZM7.48194 -2.58032M10.3811 -0M12.274 -5.82814C12.3935 -5.82814 12.5131 -5.83811 12.6326 -5.83811L13.8381 -5.83811C12.3636 -4.2142 11.477 -2.22167 11.477 0.109589L12.3138 0.109589C12.3138 -2.8792 13.7385 -5.01121 14.5156 -5.88792L14.5156 -6.53549L10.3811 -6.53549L10.3811 -5.82814ZM10.3811 -5.82814M15.9103 -0M16.7372 -0.826899L15.9103 -0.826899L15.9103 -0L16.7372 -0ZM16.7372 -0M18.122 -0M22.2565 -3.24782C22.2565 -4.03487 22.2167 -4.96139 21.7983 -5.76837C21.3898 -6.51557 20.7024 -6.75467 20.1943 -6.75467C19.6065 -6.75467 18.9091 -6.48568 18.5006 -5.599C18.1719 -4.87173 18.122 -4.04483 18.122 -3.24782C18.122 -2.46077 18.1619 -1.7335 18.4608 -1.00623C18.8593 -0.0498132 19.6164 0.219178 20.1843 0.219178C20.9116 0.219178 21.5392 -0.18929 21.858 -0.876712C22.1569 -1.52428 22.2565 -2.18182 22.2565 -3.24782ZM22.2565 -3.24782M20.1943 -0.388543C19.6762 -0.388543 19.2677 -0.767123 19.0685 -1.48443C18.9091 -2.0523 18.8991 -2.59029 18.8991 -3.36737C18.8991 -3.99502 18.8991 -4.59278 19.0685 -5.14072C19.1283 -5.33001 19.3773 -6.14695 20.1843 -6.14695C20.9614 -6.14695 21.2204 -5.38979 21.2902 -5.21046C21.4795 -4.65255 21.4795 -3.98506 21.4795 -3.36737C21.4795 -2.70984 21.4795 -2.08219 21.3001 -1.45455C21.0411 -0.547945 20.5131 -0.388543 20.1943 -0.388543ZM20.1943 -0.388543M23.6513 -0M24.4782 -0.826899L23.6513 -0.826899L23.6513 -0L24.4782 -0ZM24.4782 -0M25.863 -0M29.9975 -3.24782C29.9975 -4.03487 29.9577 -4.96139 29.5392 -5.76837C29.1308 -6.51557 28.4433 -6.75467 27.9352 -6.75467C27.3474 -6.75467 26.6501 -6.48568 26.2416 -5.599C25.9128 -4.87173 25.863 -4.04483 25.863 -3.24782C25.863 -2.46077 25.9029 -1.7335 26.2017 -1.00623C26.6002 -0.0498132 27.3574 0.219178 27.9253 0.219178C28.6526 0.219178 29.2802 -0.18929 29.599 -0.876712C29.8979 -1.52428 29.9975 -2.18182 29.9975 -3.24782ZM29.9975 -3.24782M27.9352 -0.388543C27.4172 -0.388543 27.0087 -0.767123 26.8095 -1.48443C26.6501 -2.0523 26.6401 -2.59029 26.6401 -3.36737C26.6401 -3.99502 26.6401 -4.59278 26.8095 -5.14072C26.8692 -5.33001 27.1183 -6.14695 27.9253 -6.14695C28.7024 -6.14695 28.9614 -5.38979 29.0311 -5.21046C29.2204 -4.65255 29.2204 -3.98506 29.2204 -3.36737C29.2204 -2.70984 29.2204 -2.08219 29.0411 -1.45455C28.7821 -0.547945 28.254 -0.388543 27.9352 -0.388543ZM27.9352 -0.388543M31.3923 -0M32.2192 -0.826899L31.3923 -0.826899L31.3923 -0L32.2192 -0ZM32.2192 -0M34.0722 -0M36.1644 -6.75467L35.9651 -6.75467C35.3773 -6.14695 34.5504 -6.11706 34.0722 -6.09714L34.0722 -5.5193C34.401 -5.52927 34.8792 -5.54919 35.3773 -5.75841L35.3773 -0.577833L34.132 -0.577833L34.132 -0L37.4097 -0L37.4097 -0.577833L36.1644 -0.577833ZM36.1644 -0.577833\" fill=\"black\"/>\n",
       " </g>\n",
       " <g transform=\"matrix(1.000000,0.000000,0.000000,1.000000,28.346457,-5.669291)\">\n",
       "  <path d=\"M0.298879 -0M4.67248 -2.19178C4.67248 -3.52677 3.67621 -4.59278 2.49066 -4.59278C1.26526 -4.59278 0.298879 -3.49689 0.298879 -2.19178C0.298879 -0.876712 1.31507 0.109589 2.4807 0.109589C3.67621 0.109589 4.67248 -0.896638 4.67248 -2.19178ZM4.67248 -2.19178M2.4807 -0.52802C1.79328 -0.52802 1.07597 -1.08593 1.07597 -2.29141C1.07597 -3.49689 1.83313 -3.98506 2.4807 -3.98506C3.17808 -3.98506 3.89539 -3.467 3.89539 -2.29141C3.89539 -1.11582 3.21793 -0.52802 2.4807 -0.52802ZM2.4807 -0.52802M5.79826 -0M6.57534 -0.458281C6.88418 -0.169365 7.32254 0.109589 7.9203 0.109589C8.88667 0.109589 9.76339 -0.86675 9.76339 -2.22167C9.76339 -3.41719 9.13574 -4.533 8.17933 -4.533C7.58157 -4.533 7.00374 -4.32379 6.54545 -3.93524L6.54545 -4.42341L5.79826 -4.42341L5.79826 1.93275L6.57534 1.93275ZM6.57534 1.93275M6.57534 -3.31756C6.81445 -3.66625 7.20299 -3.89539 7.63138 -3.89539C8.38854 -3.89539 8.9863 -3.13823 8.9863 -2.22167C8.9863 -1.19552 8.27895 -0.498132 7.53176 -0.498132C7.14321 -0.498132 6.87422 -0.697385 6.67497 -0.966376C6.57534 -1.11582 6.57534 -1.13574 6.57534 -1.31507ZM6.57534 -1.31507M10.3113 -0M11.8655 -3.84558L13.2702 -3.84558L13.2702 -4.42341L11.8655 -4.42341L11.8655 -5.68867L11.1781 -5.68867L11.1781 -4.42341L10.3113 -4.42341L10.3113 -3.84558L11.1482 -3.84558L11.1482 -1.18555C11.1482 -0.587796 11.2877 0.109589 11.9751 0.109589C12.6725 0.109589 13.1806 -0.139477 13.4296 -0.268991L13.2702 -0.856787C13.0112 -0.647572 12.6924 -0.52802 12.3736 -0.52802C12.005 -0.52802 11.8655 -0.826899 11.8655 -1.35492ZM11.8655 -1.35492M14.4558 -0M15.3425 -6.7746L14.4558 -6.7746L14.4558 -5.88792L15.3425 -5.88792ZM15.3425 -5.88792M15.2727 -4.42341L14.5255 -4.42341L14.5255 -0L15.2727 -0ZM15.2727 -0M16.3885 -0M20.7621 -2.19178C20.7621 -3.52677 19.7659 -4.59278 18.5803 -4.59278C17.3549 -4.59278 16.3885 -3.49689 16.3885 -2.19178C16.3885 -0.876712 17.4047 0.109589 18.5704 0.109589C19.7659 0.109589 20.7621 -0.896638 20.7621 -2.19178ZM20.7621 -2.19178M18.5704 -0.52802C17.8829 -0.52802 17.1656 -1.08593 17.1656 -2.29141C17.1656 -3.49689 17.9228 -3.98506 18.5704 -3.98506C19.2677 -3.98506 19.9851 -3.467 19.9851 -2.29141C19.9851 -1.11582 19.3076 -0.52802 18.5704 -0.52802ZM18.5704 -0.52802M21.878 -0M25.4047 -2.96887C25.4047 -3.6264 25.2553 -4.533 24.0399 -4.533C23.1432 -4.533 22.655 -3.85554 22.5953 -3.77584L22.5953 -4.48319L21.878 -4.48319L21.878 -0L22.655 -0L22.655 -2.44085C22.655 -3.09838 22.9041 -3.92528 23.6613 -3.92528C24.6177 -3.92528 24.6276 -3.21793 24.6276 -2.89913L24.6276 -0L25.4047 -0ZM25.4047 -0M26.4907 -0M29.6289 -4.27397C29.1108 -4.51308 28.7024 -4.59278 28.1943 -4.59278C27.9452 -4.59278 26.5405 -4.59278 26.5405 -3.28767C26.5405 -2.7995 26.8294 -2.4807 27.0785 -2.29141C27.3873 -2.07223 27.6065 -2.03238 28.1544 -1.92279C28.5131 -1.85305 29.0909 -1.7335 29.0909 -1.20548C29.0909 -0.518057 28.3039 -0.518057 28.1544 -0.518057C27.3474 -0.518057 26.7895 -0.886675 26.6102 -1.00623L26.4907 -0.328767C26.8095 -0.169365 27.3574 0.109589 28.1644 0.109589C28.3437 0.109589 28.8917 0.109589 29.32 -0.209215C29.6289 -0.448319 29.7983 -0.846824 29.7983 -1.27522C29.7983 -1.82316 29.4296 -2.16189 29.4097 -2.19178C29.0212 -2.54047 28.7522 -2.60025 28.254 -2.68991C27.7061 -2.7995 27.2478 -2.89913 27.2478 -3.3873C27.2478 -4.00498 27.9651 -4.00498 28.0946 -4.00498C28.4134 -4.00498 28.9415 -3.96513 29.5093 -3.6264ZM29.5093 -3.6264\" fill=\"black\"/>\n",
       " </g>\n",
       " <g transform=\"matrix(1.000000,0.000000,0.000000,1.000000,124.724409,-5.669291)\">\n",
       "  <path d=\"M-7.41424 -0M-4.64662 -2.05031C-4.64662 -2.86924 -4.64662 -4.27995 -6.02744 -4.27995C-7.41424 -4.27995 -7.41424 -2.8812 -7.41424 -2.05031C-7.41424 -1.23138 -7.41424 0.131507 -6.03342 0.131507C-4.64662 0.131507 -4.64662 -1.21943 -4.64662 -2.05031ZM-4.64662 -2.05031M-6.03342 -0.298879C-6.47576 -0.298879 -6.54151 -0.848817 -6.55944 -1.01021C-6.60129 -1.32702 -6.60129 -1.88892 -6.60129 -2.134C-6.60129 -2.48667 -6.60129 -2.86924 -6.56542 -3.16214C-6.54749 -3.32354 -6.48771 -3.84956 -6.03342 -3.84956C-5.59108 -3.84956 -5.51935 -3.34745 -5.50141 -3.2279C-5.45957 -2.92304 -5.45957 -2.45081 -5.45957 -2.134C-5.45957 -1.79328 -5.45957 -1.32702 -5.50141 -0.998257C-5.51935 -0.842839 -5.5851 -0.298879 -6.03342 -0.298879ZM-6.03342 -0.298879M-3.83964 -0M-3.55272 -4.14844C-3.76791 -4.14844 -3.83964 -4.08269 -3.83964 -3.86152L-3.83964 -0.286924C-3.83964 -0.071731 -3.77389 -0 -3.55272 -0L-1.91486 -0C-1.47252 -0 -0.372645 -0.0777086 -0.372645 -1.15965C-0.372645 -2.00249 -1.20353 -2.134 -1.4247 -2.16986C-0.874762 -2.29539 -0.55795 -2.60623 -0.55795 -3.07248C-0.55795 -4.14844 -1.83118 -4.14844 -2.08223 -4.14844ZM-2.08223 -4.14844M-2.9968 -2.3731L-2.9968 -3.63437L-2.29743 -3.63437C-2.0643 -3.63437 -1.3709 -3.61644 -1.3709 -3.05455C-1.3709 -2.3731 -2.15397 -2.3731 -2.3034 -2.3731ZM-2.3034 -2.3731M-2.9968 -0.514072L-2.9968 -1.94271L-2.24363 -1.94271C-2.03441 -1.94271 -1.20353 -1.94271 -1.20353 -1.17161C-1.20353 -0.555915 -1.84313 -0.514072 -2.13006 -0.514072ZM-2.13006 -0.514072\" fill=\"black\"/>\n",
       " </g>\n",
       " <g transform=\"matrix(1.000000,0.000000,0.000000,1.000000,127.559055,-5.669291)\">\n",
       "  <path d=\"M1.01619 -0M2.65006 2.49066L2.65006 1.88294L1.7335 1.88294L1.7335 -6.86426L2.65006 -6.86426L2.65006 -7.47198L1.01619 -7.47198L1.01619 2.49066ZM1.01619 2.49066M3.08842 -0M4.72229 -7.47198L3.08842 -7.47198L3.08842 -6.86426L4.00498 -6.86426L4.00498 1.88294L3.08842 1.88294L3.08842 2.49066L4.72229 2.49066ZM4.72229 2.49066\" fill=\"black\"/>\n",
       " </g>\n",
       "</svg>\n"
      ],
      "text/plain": [
       "<pyx.canvas.canvas>"
      ]
     },
     "execution_count": null,
     "metadata": {},
     "output_type": "execute_result"
    }
   ],
   "source": [
    "pkt = IP()\n",
    "pkt.canvas_dump()"
   ]
  },
  {
   "cell_type": "code",
   "execution_count": null,
   "metadata": {},
   "outputs": [
    {
     "data": {
      "text/plain": [
       "<IP  |>"
      ]
     },
     "execution_count": null,
     "metadata": {},
     "output_type": "execute_result"
    },
    {
     "data": {
      "text/plain": [
       "'10.10.10.28'"
      ]
     },
     "execution_count": null,
     "metadata": {},
     "output_type": "execute_result"
    },
    {
     "data": {
      "text/plain": [
       "64"
      ]
     },
     "execution_count": null,
     "metadata": {},
     "output_type": "execute_result"
    },
    {
     "name": "stdout",
     "output_type": "stream",
     "text": [
      "version    : BitField  (4 bits)                  = ('4')\n",
      "ihl        : BitField  (4 bits)                  = ('None')\n",
      "tos        : XByteField                          = ('0')\n",
      "len        : ShortField                          = ('None')\n",
      "id         : ShortField                          = ('1')\n",
      "flags      : FlagsField                          = ('<Flag 0 ()>')\n",
      "frag       : BitField  (13 bits)                 = ('0')\n",
      "ttl        : ByteField                           = ('64')\n",
      "proto      : ByteEnumField                       = ('0')\n",
      "chksum     : XShortField                         = ('None')\n",
      "src        : SourceIPField                       = ('None')\n",
      "dst        : DestIPField                         = ('None')\n",
      "options    : PacketListField                     = ('[]')\n"
     ]
    }
   ],
   "source": [
    "IP()\n",
    "a = IP(dst=\"10.10.10.28\")\n",
    "a.dst\n",
    "a.ttl\n",
    "ls(IP)"
   ]
  },
  {
   "cell_type": "code",
   "execution_count": null,
   "metadata": {},
   "outputs": [
    {
     "data": {
      "text/plain": [
       "'/home/n/devel/candycan/nbs'"
      ]
     },
     "execution_count": null,
     "metadata": {},
     "output_type": "execute_result"
    },
    {
     "data": {
      "text/plain": [
       "<ipfix.pcap: TCP:0 UDP:3 ICMP:0 Other:0>"
      ]
     },
     "execution_count": null,
     "metadata": {},
     "output_type": "execute_result"
    },
    {
     "name": "stdout",
     "output_type": "stream",
     "text": [
      "\n"
     ]
    }
   ],
   "source": [
    "os.getcwd()\n",
    "a = rdpcap('../res/pcaps/ipfix.pcap')\n",
    "a\n",
    "# a[0].pdfdump(layer_shift=1)\n",
    "a[1].psdump(\"/tmp/ipfix.eps\", layer_shift=1)"
   ]
  },
  {
   "cell_type": "markdown",
   "metadata": {},
   "source": [
    "# Caution\n",
    "\n",
    "set the python3 of the virtualenv with the CAP_NET_RAW capability!\n",
    "\n",
    "```bash\n",
    "sudo setcap 'CAP_NET_RAW+eip CAP_NET_ADMIN+eip' /dpt/.pyenv/versions/miniconda3-3.11-24.1.2-0/envs/can/bin/python3.11\n",
    "```"
   ]
  },
  {
   "cell_type": "code",
   "execution_count": null,
   "metadata": {},
   "outputs": [],
   "source": [
    "# sniff(filter=\"icmp and host 10.10.10.28\", count=2)"
   ]
  },
  {
   "cell_type": "code",
   "execution_count": null,
   "metadata": {},
   "outputs": [
    {
     "name": "stderr",
     "output_type": "stream",
     "text": [
      "SSHPASS: searching for password prompt using match \"assword\"\n",
      "SSHPASS: read: [sudo] password for n: \n",
      "SSHPASS: detected prompt. Sending password.\n",
      "SSHPASS: read: \n",
      "\n"
     ]
    },
    {
     "data": {
      "text/plain": [
       "0"
      ]
     },
     "execution_count": null,
     "metadata": {},
     "output_type": "execute_result"
    },
    {
     "name": "stderr",
     "output_type": "stream",
     "text": [
      "SSHPASS: searching for password prompt using match \"assword\"\n",
      "SSHPASS: read: [sudo] password for n: \n",
      "SSHPASS: detected prompt. Sending password.\n",
      "SSHPASS: read: \n",
      "\n"
     ]
    },
    {
     "data": {
      "text/plain": [
       "0"
      ]
     },
     "execution_count": null,
     "metadata": {},
     "output_type": "execute_result"
    },
    {
     "name": "stdout",
     "output_type": "stream",
     "text": [
      "26: vcan0: <NOARP> mtu 72 qdisc noop state DOWN mode DEFAULT group default qlen 1000\n",
      "    link/can \n"
     ]
    },
    {
     "data": {
      "text/plain": [
       "0"
      ]
     },
     "execution_count": null,
     "metadata": {},
     "output_type": "execute_result"
    },
    {
     "name": "stderr",
     "output_type": "stream",
     "text": [
      "SSHPASS: searching for password prompt using match \"assword\"\n",
      "SSHPASS: read: [sudo] password for n: \n",
      "SSHPASS: detected prompt. Sending password.\n",
      "SSHPASS: read: \n",
      "\n"
     ]
    },
    {
     "data": {
      "text/plain": [
       "0"
      ]
     },
     "execution_count": null,
     "metadata": {},
     "output_type": "execute_result"
    }
   ],
   "source": [
    "# install vcan interface with encrypted password to sudo \n",
    "os.system(\"gpg -d -q ~/.sshpasswd.gpg | sshpass -v sudo modprobe vcan\")\n",
    "# sshpass -v -p asdf sudo ip link add dev vcan0 type vcan\n",
    "os.system(\"gpg -d -q ~/.sshpasswd.gpg | sshpass -v sudo ip link add dev vcan0 type vcan\")\n",
    "os.system(\"ip link show vcan0\")\n",
    "# !gpg -d -q ~/.sshpasswd.gpg | sshpass -v sudo ip link set vcan0 type vcan bitrate 500000  # vcan does not support set bitrate on command line!\n",
    "# !sshpass -p asdf sudo ip link add dev vcan0 type vcan\n",
    "os.system(\"gpg -d -q ~/.sshpasswd.gpg | sshpass -v sudo ip link set up vcan0\")\n",
    "# !sshpass -v -p asdf sudo ip link set up vcan0"
   ]
  },
  {
   "cell_type": "code",
   "execution_count": null,
   "metadata": {},
   "outputs": [],
   "source": [
    "socket = CANSocket(channel='vcan0',\n",
    "                receive_own_messages=True)"
   ]
  },
  {
   "cell_type": "code",
   "execution_count": null,
   "metadata": {},
   "outputs": [
    {
     "name": "stdout",
     "output_type": "stream",
     "text": [
      "###[ CAN ]### \n",
      "  flags     = \n",
      "  identifier= 0x123\n",
      "  length    = 8\n",
      "  reserved  = 0\n",
      "  data      = '12345678'\n",
      "\n"
     ]
    }
   ],
   "source": [
    "packet = CAN(identifier=0x123, data=b'12345678')\n",
    "packet.show2()"
   ]
  },
  {
   "cell_type": "code",
   "execution_count": null,
   "metadata": {},
   "outputs": [
    {
     "data": {
      "text/plain": [
       "16"
      ]
     },
     "execution_count": null,
     "metadata": {},
     "output_type": "execute_result"
    },
    {
     "name": "stdout",
     "output_type": "stream",
     "text": [
      "###[ CAN ]### \n",
      "  flags     = \n",
      "  identifier= 0x123\n",
      "  length    = 8\n",
      "  reserved  = 0\n",
      "  data      = '12345678'\n",
      "\n"
     ]
    }
   ],
   "source": [
    "\n",
    "socket.send(packet)\n",
    "rx_packet = socket.recv()\n",
    "rx_packet.show2()\n"
   ]
  },
  {
   "cell_type": "code",
   "execution_count": null,
   "metadata": {},
   "outputs": [],
   "source": [
    "# rx_packet = socket.recv()\n",
    "wrpcap(\"./scapypcaptest.pcap\", packet)"
   ]
  },
  {
   "cell_type": "code",
   "execution_count": null,
   "metadata": {},
   "outputs": [],
   "source": [
    "## another socket in the same process cannot receive the packet sent by the first socket\n",
    "# socket2 = CANSocket(channel='vcan0')"
   ]
  },
  {
   "cell_type": "code",
   "execution_count": null,
   "metadata": {},
   "outputs": [],
   "source": [
    "## same socket cannot receive the packet sent by itself\n",
    "# rx_packet = socket2.recv()"
   ]
  },
  {
   "cell_type": "code",
   "execution_count": null,
   "metadata": {},
   "outputs": [],
   "source": []
  },
  {
   "cell_type": "markdown",
   "metadata": {},
   "source": [
    "# CCP via Scapy"
   ]
  },
  {
   "cell_type": "code",
   "execution_count": null,
   "metadata": {},
   "outputs": [
    {
     "name": "stdout",
     "output_type": "stream",
     "text": [
      "###[ CAN Calibration Protocol ]### \n",
      "  flags     = \n",
      "  identifier= 0x700\n",
      "  length    = 8\n",
      "  reserved  = 0\n",
      "###[ DTO ]### \n",
      "     packet_id = 0x1\n",
      "     return_code= DAQ processor overload\n",
      "     ctr       = 2\n",
      "###[ DEFAULT_DTO ]### \n",
      "        load      = '\\x00\\\\xff\\\\xff\\\\xff\\\\xff'\n",
      "\n"
     ]
    }
   ],
   "source": [
    "pkt = CCP(identifier=0x700)/CRO(ctr=1)/CONNECT(station_address=0x02)\n",
    "pkt.show2()"
   ]
  },
  {
   "cell_type": "code",
   "execution_count": null,
   "metadata": {},
   "outputs": [
    {
     "data": {
      "text/plain": [
       "16"
      ]
     },
     "execution_count": null,
     "metadata": {},
     "output_type": "execute_result"
    },
    {
     "name": "stdout",
     "output_type": "stream",
     "text": [
      "###[ CAN ]### \n",
      "  flags     = \n",
      "  identifier= 0x700\n",
      "  length    = 8\n",
      "  reserved  = 0\n",
      "  data      = '\\x01\\x01\\x02\\x00\\\\xff\\\\xff\\\\xff\\\\xff'\n",
      "\n"
     ]
    }
   ],
   "source": [
    "\n",
    "sock = CANSocket(channel='vcan0',\n",
    "                receive_own_messages=True)\n",
    "sock.send(pkt)\n",
    "rx_pkt = sock.recv()\n",
    "rx_pkt.show2()"
   ]
  },
  {
   "cell_type": "markdown",
   "metadata": {},
   "source": [
    "## CRO for connection"
   ]
  },
  {
   "cell_type": "code",
   "execution_count": null,
   "metadata": {},
   "outputs": [
    {
     "data": {
      "text/plain": [
       "630"
      ]
     },
     "execution_count": null,
     "metadata": {},
     "output_type": "execute_result"
    },
    {
     "data": {
      "text/plain": [
       "'0x276'"
      ]
     },
     "execution_count": null,
     "metadata": {},
     "output_type": "execute_result"
    }
   ],
   "source": [
    "xcp_calib.config.download_can_id\n",
    "hex(xcp_calib.config.download_can_id)"
   ]
  },
  {
   "cell_type": "code",
   "execution_count": null,
   "metadata": {},
   "outputs": [
    {
     "data": {
      "text/plain": [
       "'can3'"
      ]
     },
     "execution_count": null,
     "metadata": {},
     "output_type": "execute_result"
    }
   ],
   "source": [
    "channel = 'can' + str(xcp_calib.config.channel)\n",
    "channel"
   ]
  },
  {
   "cell_type": "code",
   "execution_count": null,
   "metadata": {},
   "outputs": [
    {
     "name": "stdout",
     "output_type": "stream",
     "text": [
      "###[ CAN Calibration Protocol ]### \n",
      "  flags     = \n",
      "  identifier= 0x276\n",
      "  length    = 8\n",
      "  reserved  = 0\n",
      "###[ DTO ]### \n",
      "     packet_id = 0x1\n",
      "     return_code= DAQ processor overload\n",
      "     ctr       = 0\n",
      "###[ DEFAULT_DTO ]### \n",
      "        load      = '\\x00\\\\xff\\\\xff\\\\xff\\\\xff'\n",
      "\n"
     ]
    }
   ],
   "source": [
    "ctr = 0\n",
    "ctr += 1\n",
    "cro = CCP(identifier=xcp_calib.config.download_can_id)/CRO(ctr=ctr)/CONNECT()\n",
    "cro.show2()\n",
    "\n"
   ]
  },
  {
   "cell_type": "code",
   "execution_count": null,
   "metadata": {},
   "outputs": [
    {
     "data": {
      "text/plain": [
       "16"
      ]
     },
     "execution_count": null,
     "metadata": {},
     "output_type": "execute_result"
    },
    {
     "name": "stdout",
     "output_type": "stream",
     "text": [
      "###[ CAN ]### \n",
      "  flags     = \n",
      "  identifier= 0x276\n",
      "  length    = 8\n",
      "  reserved  = 0\n",
      "  data      = '\\x01\\x01\\x00\\x00\\\\xff\\\\xff\\\\xff\\\\xff'\n",
      "\n"
     ]
    }
   ],
   "source": [
    "\n",
    "sock.send(cro)\n",
    "rx_cro = sock.recv()\n",
    "rx_cro.show2()\n",
    "\n",
    "# dto = sock.sr1(cro)\n",
    "# dto.show2()\n",
    "# assert dto.return_code == 0x00"
   ]
  },
  {
   "cell_type": "markdown",
   "metadata": {},
   "source": [
    "## Download from target"
   ]
  },
  {
   "cell_type": "code",
   "execution_count": null,
   "metadata": {},
   "outputs": [
    {
     "data": {
      "text/plain": [
       "[{   'address': '7000aa2a',\n",
       "     'dim': [14, 17],\n",
       "     'name': 'TQD_trqTrqSetNormal_MAP_v',\n",
       "     'type_size': 4,\n",
       "     'value': '0000000025...344',\n",
       "     'value_array_view': array([[    0.   ,  1135.317,  1135.317, ...,  4436.   ,  4436.   ,\n",
       "          4436.   ],\n",
       "        [    0.   ,   148.09 ,   148.09 , ...,  4436.   ,  4436.   ,\n",
       "          4436.   ],\n",
       "        [-1338.534,  -833.344,  -328.155, ...,  4436.   ,  4436.   ,\n",
       "          4436.   ],\n",
       "        ...,\n",
       "        [-1316.842, -1086.408,  -855.974, ...,  2034.368,  2034.368,\n",
       "          2034.368],\n",
       "        [-1141.171,  -926.042,  -710.912, ...,  1859.521,  1859.521,\n",
       "          1859.521],\n",
       "        [ -286.008,  -135.973,    14.062, ...,  1690.249,  1690.249,\n",
       "          1690.249]], dtype=float32),\n",
       "     'value_bytes': b'\\x00\\x00\\x00\\x00%\\xea\\x8dD%\\xea\\x8dD%\\xea\\x8dD%\\xea\\x8dD'\n",
       "                    b'\\xdb4\\x95D\\xb3\\x1e\\xb6D\\x8c\\x08\\xd7Dd\\xf2\\xf7D\\x1en\\x0cE'\n",
       "                    b'\\x81\\x1d%E\\xe3\\xcc=EF|VE\\x85\\xed\\x83E\\x00\\xa0\\x8aE'\n",
       "                    b'\\x00\\xa0\\x8aE\\x00\\xa0\\x8aE\\x00\\x00\\x00\\x00\\xed\\x16\\x14C'\n",
       "                    b'\\xed\\x16\\x14CN\\xba\\x8dC\\x1ay\\x1eD\\xcbL`D>\\x10\\x91D'\n",
       "                    b'\\x17\\xfa\\xb1D\\xef\\xe3\\xd2D\\xc8\\xcd\\xf3DF\\x96\\x12E\\xa9E+E'\n",
       "                    b'\\x0b\\xf5CE\\xd0SuE\\x00\\xa0\\x8aE\\x00\\xa0\\x8aE\\x00\\xa0\\x8aE'\n",
       "                    b'\\x14Q\\xa7\\xc4\\x0bVP\\xc4\\xdd\\x13\\xa4\\xc3\\xb8\\x081C'\n",
       "                    b'M\\xa9\\xf9CV%AD\\x84|\\x81D\\\\f\\xa2D5P\\xc3D\\r:\\xe4Di\\xcc\\nE'\n",
       "                    b'\\xcb{#E.+<E\\xf3\\x89mE\\x00\\xa0\\x8aE\\x00\\xa0\\x8aE'\n",
       "                    b'\\x00\\xa0\\x8aE\\xff\\xfc\\x0f\\xc5\\xa4\\xfc\\xd0\\xc4K\\xff\\x81\\xc4'\n",
       "                    b'\\xc8\\x07\\xcc\\xc39\\xdb_Cv\\xa0\\tD\\xf8\\xd7GD\\xbd\\x07\\x83D'\n",
       "                    b'\\x7f#\\xa2D@?\\xc1D\\xe2\\xe8\\xefDBI\\x0fE\\x13\\x9e&E\\xb5GUE'\n",
       "                    b'\\xab\\xf8\\x81E\\x00\\xa0\\x8aE\\x00\\xa0\\x8aEw\\x1f\\r\\xc5'\n",
       "                    b'\\x9fj\\xda\\xc4Q\\x96\\x9a\\xc4\\x07\\x845\\xc4\\xabmW\\xc3'\n",
       "                    b'b\\x9a\\x93C\\xeb\\x8d\\x18D?)SDJ\\xe2\\x86D\\xf4/\\xa4Dt$\\xd0D'\n",
       "                    b'\\xf3\\x18\\xfcD\\xb9\\x06\\x14E9\\xfb?E\\xb8\\xefkE\\x00\\xa0\\x8aE'\n",
       "                    b'\\x00\\xa0\\x8aEH>\\t\\xc5\\x1d\\xd0\\xdc\\xc4\\xa9#\\xa7\\xc4'\n",
       "                    b'l\\xeeb\\xc4\\n+\\xef\\xc3\\xdc\\xc9C\\xc2\\x938\\xbeC\\xbe\\x14)D'\n",
       "                    b'\\xe4\\x13`D\\x85\\x89\\x8bD\\xe1\\xc8\\xb4D>\\x08\\xdeD'\n",
       "                    b'\\xcd\\xa3\\x03E*\\xe3,E\\x86\"VE\\xe3a\\x7fE\\x00\\xa0\\x8aE'\n",
       "                    b'sY\\x04\\xc5\\xaa$\\xda\\xc4l\\x96\\xab\\xc4_\\x10z\\xc4'\n",
       "                    b'\\xe5\\xf3\\x1c\\xc4\\xac]\\x7f\\xc3y(\\xeaB\\x12\\xc3\\xf4C'\n",
       "                    b'\\xff\\x0b>D\\xf7nqD\\xb5A\\x9fD\\xef\\xcb\\xc5D(V\\xecDN\\xb5\\x1cE'\n",
       "                    b'\\x87?CE\\xc1\\xc9iE\\xf17\\x83E\\xef\\xe1\\xfc\\xc4'\n",
       "                    b'\\xba\\xc2\\xd3\\xc4\\x85\\xa3\\xaa\\xc4O\\x84\\x81\\xc44\\xca0\\xc4'\n",
       "                    b'\\x91\\x17\\xbd\\xc3\\xdd\\xd5D\\xc2\\x1a\\xe2\\x8bCx/\\x18D'\n",
       "                    b'\\xd5\\xcaTD\\x82:\\x8eD\\x99\\x0f\\xb2D\\xb0\\xe4\\xd5Do\\xc7\\x0eE'\n",
       "                    b'\\x86\\x9c2E\\x9eqVE\\xd5,WE\\xab\\t\\xef\\xc4\\xbe\\r\\xca\\xc4'\n",
       "                    b'\\xd1\\x11\\xa5\\xc4\\xe3\\x15\\x80\\xc4\\xeb36\\xc4!x\\xd8\\xc3'\n",
       "                    b'\\xd8\\x10\\t\\xc3\\x93\\xce\\x1eC\\xffV\\xe3CZ\\xa3;D\\x99\\xf0\\x82D'\n",
       "                    b'\\x8d\\x10\\xa4D\\x810\\xc5D5\\xb8\\x03E)\\xd8$EvB5EvB5E'\n",
       "                    b'\\x1a*\\xdf\\xc4\\x84l\\xbc\\xc4\\xee\\xae\\x99\\xc4\\xb0\\xe2m\\xc4'\n",
       "                    b'\\x84g(\\xc4\\xaf\\xd8\\xc5\\xc3[\\x89\\xeb\\xc2\\x03( CZ\\n\\xdbC'\n",
       "                    b'Y\\x003D\\x85{xD\\x94\\xa8\\x9aDe\\x13\\xb9D\\x08\\xe9\\xf5DU_\\x19E'\n",
       "                    b'\\x15G\\x1eE\\x15G\\x1eE<C\\xcd\\xc4\\xc4\\xf8\\xac\\xc4'\n",
       "                    b'M\\xae\\x8c\\xc4\\xab\\xc7X\\xc4\\xbc2\\x18\\xc4\\x9b;\\xaf\\xc3'\n",
       "                    b'\\xf6F\\xb8\\xc2@0&C\\xfdA\\xd4C\\xee\\xb5*D\\xdcJkD\\xcc\\xe6\\x96D'\n",
       "                    b'{\\x9c\\xb2D\\xd8\\x07\\xeaD\\xef&\\x0eE\\xef&\\x0eE\\xef&\\x0eE'\n",
       "                    b'\\xf4\\x9a\\xa4\\xc4\\x0f\\xcd\\x87\\xc4U\\xfeU\\xc4\\x8cb\\x1c\\xc4'\n",
       "                    b'\\x86\\x8d\\xc5\\xc3\\xe8\\xab$\\xc3y\\x86\\x83B0\\x19\\x94C'\n",
       "                    b'a\\xa8\\x03D*D=D\\xf3\\xdfvD\\xde=\\x98Dk>\\xb1D\\x83?\\xe3D'\n",
       "                    b'\\xc4K\\xfeD\\xc4K\\xfeD\\xc4K\\xfeD{\\xa5\\x8e\\xc4\\xae\\x82g\\xc4'\n",
       "                    b'f\\xba1\\xc4<\\xe4\\xf7\\xc3\\xacS\\x8c\\xc3p\\x0c\\x83\\xc2'\n",
       "                    b'\\xe8\\x9a\\x15C\\x04^\\xb6CJ\\xf7\\x10D\\x92\\xbfFD\\xda\\x87|D'\n",
       "                    b'\\x11(\\x99D\\x14\\x9a\\xb4D\\xe70\\xe1D\\xabp\\xe8D\\xabp\\xe8D'\n",
       "                    b'\\xabp\\xe8D\\x0b\\x01\\x8f\\xc3)\\xf9\\x07\\xc3Y\\xfc`A\\xb4\\x18$C'\n",
       "                    b'\\xd1\\x10\\x9dCH\\x15\\xe8C\\xe0\\x8c\\x19D\\x1b\\x0f?DW\\x91dD'\n",
       "                    b'\\xc9\\t\\x85D\\xe7\\xca\\x97D\\x05\\x8c\\xaaD\"M\\xbdD\\xf6G\\xd3D'\n",
       "                    b'\\xf6G\\xd3D\\xf6G\\xd3D\\xf6G\\xd3D',\n",
       "     'value_length': 4,\n",
       "     'value_type': 'FLOAT32_IEEE'}]"
      ]
     },
     "execution_count": null,
     "metadata": {},
     "output_type": "execute_result"
    }
   ],
   "source": [
    "xcp_calib.data"
   ]
  },
  {
   "cell_type": "code",
   "execution_count": null,
   "metadata": {},
   "outputs": [
    {
     "data": {
      "text/plain": [
       "('7000aa2a',\n",
       " 4,\n",
       " [14, 17],\n",
       " array([[    0.   ,  1135.317,  1135.317, ...,  4436.   ,  4436.   ,\n",
       "          4436.   ],\n",
       "        [    0.   ,   148.09 ,   148.09 , ...,  4436.   ,  4436.   ,\n",
       "          4436.   ],\n",
       "        [-1338.534,  -833.344,  -328.155, ...,  4436.   ,  4436.   ,\n",
       "          4436.   ],\n",
       "        ...,\n",
       "        [-1316.842, -1086.408,  -855.974, ...,  2034.368,  2034.368,\n",
       "          2034.368],\n",
       "        [-1141.171,  -926.042,  -710.912, ...,  1859.521,  1859.521,\n",
       "          1859.521],\n",
       "        [ -286.008,  -135.973,    14.062, ...,  1690.249,  1690.249,\n",
       "          1690.249]], dtype=float32),\n",
       " b'\\x00\\x00\\x00\\x00%\\xea\\x8dD%\\xea\\x8dD%\\xea\\x8dD%\\xea\\x8dD\\xdb4\\x95D\\xb3\\x1e\\xb6D\\x8c\\x08\\xd7Dd\\xf2\\xf7D\\x1en\\x0cE\\x81\\x1d%E\\xe3\\xcc=EF|VE\\x85\\xed\\x83E\\x00\\xa0\\x8aE\\x00\\xa0\\x8aE\\x00\\xa0\\x8aE\\x00\\x00\\x00\\x00\\xed\\x16\\x14C\\xed\\x16\\x14CN\\xba\\x8dC\\x1ay\\x1eD\\xcbL`D>\\x10\\x91D\\x17\\xfa\\xb1D\\xef\\xe3\\xd2D\\xc8\\xcd\\xf3DF\\x96\\x12E\\xa9E+E\\x0b\\xf5CE\\xd0SuE\\x00\\xa0\\x8aE\\x00\\xa0\\x8aE\\x00\\xa0\\x8aE\\x14Q\\xa7\\xc4\\x0bVP\\xc4\\xdd\\x13\\xa4\\xc3\\xb8\\x081CM\\xa9\\xf9CV%AD\\x84|\\x81D\\\\f\\xa2D5P\\xc3D\\r:\\xe4Di\\xcc\\nE\\xcb{#E.+<E\\xf3\\x89mE\\x00\\xa0\\x8aE\\x00\\xa0\\x8aE\\x00\\xa0\\x8aE\\xff\\xfc\\x0f\\xc5\\xa4\\xfc\\xd0\\xc4K\\xff\\x81\\xc4\\xc8\\x07\\xcc\\xc39\\xdb_Cv\\xa0\\tD\\xf8\\xd7GD\\xbd\\x07\\x83D\\x7f#\\xa2D@?\\xc1D\\xe2\\xe8\\xefDBI\\x0fE\\x13\\x9e&E\\xb5GUE\\xab\\xf8\\x81E\\x00\\xa0\\x8aE\\x00\\xa0\\x8aEw\\x1f\\r\\xc5\\x9fj\\xda\\xc4Q\\x96\\x9a\\xc4\\x07\\x845\\xc4\\xabmW\\xc3b\\x9a\\x93C\\xeb\\x8d\\x18D?)SDJ\\xe2\\x86D\\xf4/\\xa4Dt$\\xd0D\\xf3\\x18\\xfcD\\xb9\\x06\\x14E9\\xfb?E\\xb8\\xefkE\\x00\\xa0\\x8aE\\x00\\xa0\\x8aEH>\\t\\xc5\\x1d\\xd0\\xdc\\xc4\\xa9#\\xa7\\xc4l\\xeeb\\xc4\\n+\\xef\\xc3\\xdc\\xc9C\\xc2\\x938\\xbeC\\xbe\\x14)D\\xe4\\x13`D\\x85\\x89\\x8bD\\xe1\\xc8\\xb4D>\\x08\\xdeD\\xcd\\xa3\\x03E*\\xe3,E\\x86\"VE\\xe3a\\x7fE\\x00\\xa0\\x8aEsY\\x04\\xc5\\xaa$\\xda\\xc4l\\x96\\xab\\xc4_\\x10z\\xc4\\xe5\\xf3\\x1c\\xc4\\xac]\\x7f\\xc3y(\\xeaB\\x12\\xc3\\xf4C\\xff\\x0b>D\\xf7nqD\\xb5A\\x9fD\\xef\\xcb\\xc5D(V\\xecDN\\xb5\\x1cE\\x87?CE\\xc1\\xc9iE\\xf17\\x83E\\xef\\xe1\\xfc\\xc4\\xba\\xc2\\xd3\\xc4\\x85\\xa3\\xaa\\xc4O\\x84\\x81\\xc44\\xca0\\xc4\\x91\\x17\\xbd\\xc3\\xdd\\xd5D\\xc2\\x1a\\xe2\\x8bCx/\\x18D\\xd5\\xcaTD\\x82:\\x8eD\\x99\\x0f\\xb2D\\xb0\\xe4\\xd5Do\\xc7\\x0eE\\x86\\x9c2E\\x9eqVE\\xd5,WE\\xab\\t\\xef\\xc4\\xbe\\r\\xca\\xc4\\xd1\\x11\\xa5\\xc4\\xe3\\x15\\x80\\xc4\\xeb36\\xc4!x\\xd8\\xc3\\xd8\\x10\\t\\xc3\\x93\\xce\\x1eC\\xffV\\xe3CZ\\xa3;D\\x99\\xf0\\x82D\\x8d\\x10\\xa4D\\x810\\xc5D5\\xb8\\x03E)\\xd8$EvB5EvB5E\\x1a*\\xdf\\xc4\\x84l\\xbc\\xc4\\xee\\xae\\x99\\xc4\\xb0\\xe2m\\xc4\\x84g(\\xc4\\xaf\\xd8\\xc5\\xc3[\\x89\\xeb\\xc2\\x03( CZ\\n\\xdbCY\\x003D\\x85{xD\\x94\\xa8\\x9aDe\\x13\\xb9D\\x08\\xe9\\xf5DU_\\x19E\\x15G\\x1eE\\x15G\\x1eE<C\\xcd\\xc4\\xc4\\xf8\\xac\\xc4M\\xae\\x8c\\xc4\\xab\\xc7X\\xc4\\xbc2\\x18\\xc4\\x9b;\\xaf\\xc3\\xf6F\\xb8\\xc2@0&C\\xfdA\\xd4C\\xee\\xb5*D\\xdcJkD\\xcc\\xe6\\x96D{\\x9c\\xb2D\\xd8\\x07\\xeaD\\xef&\\x0eE\\xef&\\x0eE\\xef&\\x0eE\\xf4\\x9a\\xa4\\xc4\\x0f\\xcd\\x87\\xc4U\\xfeU\\xc4\\x8cb\\x1c\\xc4\\x86\\x8d\\xc5\\xc3\\xe8\\xab$\\xc3y\\x86\\x83B0\\x19\\x94Ca\\xa8\\x03D*D=D\\xf3\\xdfvD\\xde=\\x98Dk>\\xb1D\\x83?\\xe3D\\xc4K\\xfeD\\xc4K\\xfeD\\xc4K\\xfeD{\\xa5\\x8e\\xc4\\xae\\x82g\\xc4f\\xba1\\xc4<\\xe4\\xf7\\xc3\\xacS\\x8c\\xc3p\\x0c\\x83\\xc2\\xe8\\x9a\\x15C\\x04^\\xb6CJ\\xf7\\x10D\\x92\\xbfFD\\xda\\x87|D\\x11(\\x99D\\x14\\x9a\\xb4D\\xe70\\xe1D\\xabp\\xe8D\\xabp\\xe8D\\xabp\\xe8D\\x0b\\x01\\x8f\\xc3)\\xf9\\x07\\xc3Y\\xfc`A\\xb4\\x18$C\\xd1\\x10\\x9dCH\\x15\\xe8C\\xe0\\x8c\\x19D\\x1b\\x0f?DW\\x91dD\\xc9\\t\\x85D\\xe7\\xca\\x97D\\x05\\x8c\\xaaD\"M\\xbdD\\xf6G\\xd3D\\xf6G\\xd3D\\xf6G\\xd3D\\xf6G\\xd3D')"
      ]
     },
     "execution_count": null,
     "metadata": {},
     "output_type": "execute_result"
    },
    {
     "data": {
      "text/plain": [
       "952"
      ]
     },
     "execution_count": null,
     "metadata": {},
     "output_type": "execute_result"
    },
    {
     "data": {
      "text/plain": [
       "'0000000025ea8d4425ea8d4425ea8d4425ea8d44db349544b31eb6448c08d74464f2f7441e6e0c45811d2545e3cc3d45467c564585ed834500a08a4500a08a4500a08a4500000000ed161443ed1614434eba8d431a791e44cb4c60443e10914417fab144efe3d244c8cdf34446961245a9452b450bf54345d053754500a08a4500a08a4500a08a451451a7c40b5650c4dd13a4c3b80831434da9f94356254144847c81445c66a2443550c3440d3ae44469cc0a45cb7b23452e2b3c45f3896d4500a08a4500a08a4500a08a45fffc0fc5a4fcd0c44bff81c4c807ccc339db5f4376a00944f8d74744bd0783447f23a244403fc144e2e8ef4442490f45139e2645b5475545abf8814500a08a4500a08a45771f0dc59f6adac451969ac4078435c4ab6d57c3629a9343eb8d18443f2953444ae28644f42fa4447424d044f318fc44b906144539fb3f45b8ef6b4500a08a4500a08a45483e09c51dd0dcc4a923a7c46cee62c40a2befc3dcc943c29338be43be142944e413604485898b44e1c8b4443e08de44cda303452ae32c4586225645e3617f4500a08a45735904c5aa24dac46c96abc45f107ac4e5f31cc4ac5d7fc37928ea4212c3f443ff0b3e44f76e7144b5419f44efcbc5442856ec444eb51c45873f4345c1c96945f1378345efe1fcc4bac2d3c485a3aac44f8481c434ca30c49117bdc3ddd544c21ae28b43782f1844d5ca5444823a8e44990fb244b0e4d5446fc70e45869c32459e715645d52c5745ab09efc4be0dcac4d111a5c4e31580c4eb3336c42178d8c3d81009c393ce1e43ff56e3435aa33b4499f082448d10a4448130c54435b8034529d8244576423545764235451a2adfc4846cbcc4eeae99c4b0e26dc4846728c4afd8c5c35b89ebc2032820435a0adb4359003344857b784494a89a446513b94408e9f544555f194515471e4515471e453c43cdc4c4f8acc44dae8cc4abc758c4bc3218c49b3bafc3f646b8c240302643fd41d443eeb52a44dc4a6b44cce696447b9cb244d807ea44ef260e45ef260e45ef260e45f49aa4c40fcd87c455fe55c48c621cc4868dc5c3e8ab24c3798683423019944361a803442a443d44f3df7644de3d98446b3eb144833fe344c44bfe44c44bfe44c44bfe447ba58ec4ae8267c466ba31c43ce4f7c3ac538cc3700c83c2e89a1543045eb6434af7104492bf4644da877c4411289944149ab444e730e144ab70e844ab70e844ab70e8440b018fc329f907c359fc6041b4182443d1109d434815e843e08c19441b0f3f4457916444c9098544e7ca9744058caa44224dbd44f647d344f647d344f647d344f647d344'"
      ]
     },
     "execution_count": null,
     "metadata": {},
     "output_type": "execute_result"
    }
   ],
   "source": [
    "d = xcp_calib.data[0]\n",
    "d.address, d.type_size, d.dim, d.value_array_view, d.value_bytes\n",
    "len(d.value_bytes )\n",
    "d.value"
   ]
  },
  {
   "cell_type": "markdown",
   "metadata": {},
   "source": [
    "## set mta"
   ]
  },
  {
   "cell_type": "code",
   "execution_count": null,
   "metadata": {},
   "outputs": [
    {
     "name": "stdout",
     "output_type": "stream",
     "text": [
      "###[ CAN Calibration Protocol ]### \n",
      "  flags     = \n",
      "  identifier= 0x276\n",
      "  length    = 8\n",
      "  reserved  = 0\n",
      "###[ DTO ]### \n",
      "     packet_id = 0x2\n",
      "     return_code= 2\n",
      "     ctr       = 0\n",
      "###[ DEFAULT_DTO ]### \n",
      "        load      = '\\x00p\\x00\\\\xaa*'\n",
      "\n"
     ]
    },
    {
     "data": {
      "text/plain": [
       "<CRO  cmd=SET_MTA ctr=2 |<SET_MTA  address=0x7000aa2a |>>"
      ]
     },
     "execution_count": null,
     "metadata": {},
     "output_type": "execute_result"
    },
    {
     "data": {
      "text/plain": [
       "16"
      ]
     },
     "execution_count": null,
     "metadata": {},
     "output_type": "execute_result"
    },
    {
     "name": "stdout",
     "output_type": "stream",
     "text": [
      "###[ CAN ]### \n",
      "  flags     = \n",
      "  identifier= 0x276\n",
      "  length    = 8\n",
      "  reserved  = 0\n",
      "  data      = '\\x02\\x02\\x00\\x00p\\x00\\\\xaa*'\n",
      "\n"
     ]
    }
   ],
   "source": [
    "ctr += 1\n",
    "cro = CCP(identifier=xcp_calib.config.download_can_id)/CRO(ctr=ctr)/SET_MTA(address=int(d.address, 16))\n",
    "cro.show2()\n",
    "cro.payload\n",
    "sock.send(cro)\n",
    "rx_cro = sock.recv()\n",
    "rx_cro.show2()\n",
    "# dto = sock.sr1(cro)\n",
    "# dto.show2()\n",
    "# assert dto.return_code == 0x00\n"
   ]
  },
  {
   "cell_type": "code",
   "execution_count": null,
   "metadata": {},
   "outputs": [
    {
     "name": "stdout",
     "output_type": "stream",
     "text": [
      "len_in_bytes: 952 = type_size: 4 x dim: [14, 17]\n",
      "download_times: 158, last_download_size: 4\n"
     ]
    }
   ],
   "source": [
    "len_in_bytes = d.type_size * d.dim[0] * d.dim[1]\n",
    "print(f\"len_in_bytes: {len_in_bytes} = type_size: {d.type_size} x dim: {d.dim}\")\n",
    "\n",
    "download_times = len_in_bytes // 6\n",
    "last_download_size = len_in_bytes % 6\n",
    "print(f\"download_times: {download_times}, last_download_size: {last_download_size}\")\n"
   ]
  },
  {
   "cell_type": "code",
   "execution_count": null,
   "metadata": {},
   "outputs": [
    {
     "data": {
      "text/plain": [
       "b'\\x00\\x00\\x00\\x00%\\xea\\x8dD%\\xea\\x8dD%\\xea\\x8dD%\\xea\\x8dD\\xdb4\\x95D\\xb3\\x1e\\xb6D\\x8c\\x08\\xd7Dd\\xf2\\xf7D\\x1en\\x0cE\\x81\\x1d%E\\xe3\\xcc=EF|VE\\x85\\xed\\x83E\\x00\\xa0\\x8aE\\x00\\xa0\\x8aE\\x00\\xa0\\x8aE\\x00\\x00\\x00\\x00\\xed\\x16\\x14C\\xed\\x16\\x14CN\\xba\\x8dC\\x1ay\\x1eD\\xcbL`D>\\x10\\x91D\\x17\\xfa\\xb1D\\xef\\xe3\\xd2D\\xc8\\xcd\\xf3DF\\x96\\x12E\\xa9E+E\\x0b\\xf5CE\\xd0SuE\\x00\\xa0\\x8aE\\x00\\xa0\\x8aE\\x00\\xa0\\x8aE\\x14Q\\xa7\\xc4\\x0bVP\\xc4\\xdd\\x13\\xa4\\xc3\\xb8\\x081CM\\xa9\\xf9CV%AD\\x84|\\x81D\\\\f\\xa2D5P\\xc3D\\r:\\xe4Di\\xcc\\nE\\xcb{#E.+<E\\xf3\\x89mE\\x00\\xa0\\x8aE\\x00\\xa0\\x8aE\\x00\\xa0\\x8aE\\xff\\xfc\\x0f\\xc5\\xa4\\xfc\\xd0\\xc4K\\xff\\x81\\xc4\\xc8\\x07\\xcc\\xc39\\xdb_Cv\\xa0\\tD\\xf8\\xd7GD\\xbd\\x07\\x83D\\x7f#\\xa2D@?\\xc1D\\xe2\\xe8\\xefDBI\\x0fE\\x13\\x9e&E\\xb5GUE\\xab\\xf8\\x81E\\x00\\xa0\\x8aE\\x00\\xa0\\x8aEw\\x1f\\r\\xc5\\x9fj\\xda\\xc4Q\\x96\\x9a\\xc4\\x07\\x845\\xc4\\xabmW\\xc3b\\x9a\\x93C\\xeb\\x8d\\x18D?)SDJ\\xe2\\x86D\\xf4/\\xa4Dt$\\xd0D\\xf3\\x18\\xfcD\\xb9\\x06\\x14E9\\xfb?E\\xb8\\xefkE\\x00\\xa0\\x8aE\\x00\\xa0\\x8aEH>\\t\\xc5\\x1d\\xd0\\xdc\\xc4\\xa9#\\xa7\\xc4l\\xeeb\\xc4\\n+\\xef\\xc3\\xdc\\xc9C\\xc2\\x938\\xbeC\\xbe\\x14)D\\xe4\\x13`D\\x85\\x89\\x8bD\\xe1\\xc8\\xb4D>\\x08\\xdeD\\xcd\\xa3\\x03E*\\xe3,E\\x86\"VE\\xe3a\\x7fE\\x00\\xa0\\x8aEsY\\x04\\xc5\\xaa$\\xda\\xc4l\\x96\\xab\\xc4_\\x10z\\xc4\\xe5\\xf3\\x1c\\xc4\\xac]\\x7f\\xc3y(\\xeaB\\x12\\xc3\\xf4C\\xff\\x0b>D\\xf7nqD\\xb5A\\x9fD\\xef\\xcb\\xc5D(V\\xecDN\\xb5\\x1cE\\x87?CE\\xc1\\xc9iE\\xf17\\x83E\\xef\\xe1\\xfc\\xc4\\xba\\xc2\\xd3\\xc4\\x85\\xa3\\xaa\\xc4O\\x84\\x81\\xc44\\xca0\\xc4\\x91\\x17\\xbd\\xc3\\xdd\\xd5D\\xc2\\x1a\\xe2\\x8bCx/\\x18D\\xd5\\xcaTD\\x82:\\x8eD\\x99\\x0f\\xb2D\\xb0\\xe4\\xd5Do\\xc7\\x0eE\\x86\\x9c2E\\x9eqVE\\xd5,WE\\xab\\t\\xef\\xc4\\xbe\\r\\xca\\xc4\\xd1\\x11\\xa5\\xc4\\xe3\\x15\\x80\\xc4\\xeb36\\xc4!x\\xd8\\xc3\\xd8\\x10\\t\\xc3\\x93\\xce\\x1eC\\xffV\\xe3CZ\\xa3;D\\x99\\xf0\\x82D\\x8d\\x10\\xa4D\\x810\\xc5D5\\xb8\\x03E)\\xd8$EvB5EvB5E\\x1a*\\xdf\\xc4\\x84l\\xbc\\xc4\\xee\\xae\\x99\\xc4\\xb0\\xe2m\\xc4\\x84g(\\xc4\\xaf\\xd8\\xc5\\xc3[\\x89\\xeb\\xc2\\x03( CZ\\n\\xdbCY\\x003D\\x85{xD\\x94\\xa8\\x9aDe\\x13\\xb9D\\x08\\xe9\\xf5DU_\\x19E\\x15G\\x1eE\\x15G\\x1eE<C\\xcd\\xc4\\xc4\\xf8\\xac\\xc4M\\xae\\x8c\\xc4\\xab\\xc7X\\xc4\\xbc2\\x18\\xc4\\x9b;\\xaf\\xc3\\xf6F\\xb8\\xc2@0&C\\xfdA\\xd4C\\xee\\xb5*D\\xdcJkD\\xcc\\xe6\\x96D{\\x9c\\xb2D\\xd8\\x07\\xeaD\\xef&\\x0eE\\xef&\\x0eE\\xef&\\x0eE\\xf4\\x9a\\xa4\\xc4\\x0f\\xcd\\x87\\xc4U\\xfeU\\xc4\\x8cb\\x1c\\xc4\\x86\\x8d\\xc5\\xc3\\xe8\\xab$\\xc3y\\x86\\x83B0\\x19\\x94Ca\\xa8\\x03D*D=D\\xf3\\xdfvD\\xde=\\x98Dk>\\xb1D\\x83?\\xe3D\\xc4K\\xfeD\\xc4K\\xfeD\\xc4K\\xfeD{\\xa5\\x8e\\xc4\\xae\\x82g\\xc4f\\xba1\\xc4<\\xe4\\xf7\\xc3\\xacS\\x8c\\xc3p\\x0c\\x83\\xc2\\xe8\\x9a\\x15C\\x04^\\xb6CJ\\xf7\\x10D\\x92\\xbfFD\\xda\\x87|D\\x11(\\x99D\\x14\\x9a\\xb4D\\xe70\\xe1D\\xabp\\xe8D\\xabp\\xe8D\\xabp\\xe8D\\x0b\\x01\\x8f\\xc3)\\xf9\\x07\\xc3Y\\xfc`A\\xb4\\x18$C\\xd1\\x10\\x9dCH\\x15\\xe8C\\xe0\\x8c\\x19D\\x1b\\x0f?DW\\x91dD\\xc9\\t\\x85D\\xe7\\xca\\x97D\\x05\\x8c\\xaaD\"M\\xbdD\\xf6G\\xd3D\\xf6G\\xd3D\\xf6G\\xd3D\\xf6G\\xd3D'"
      ]
     },
     "execution_count": null,
     "metadata": {},
     "output_type": "execute_result"
    },
    {
     "data": {
      "text/plain": [
       "952"
      ]
     },
     "execution_count": null,
     "metadata": {},
     "output_type": "execute_result"
    },
    {
     "data": {
      "text/plain": [
       "(6, b'\\x00\\x00\\x00\\x00%\\xea', '0000000025ea', bytes)"
      ]
     },
     "execution_count": null,
     "metadata": {},
     "output_type": "execute_result"
    },
    {
     "data": {
      "text/plain": [
       "(6, b'\\x8dD%\\xea\\x8dD', '8d4425ea8d44')"
      ]
     },
     "execution_count": null,
     "metadata": {},
     "output_type": "execute_result"
    }
   ],
   "source": [
    "d.value_bytes\n",
    "len(d.value_bytes)\n",
    "tile0 = d.value_bytes[0:6]\n",
    "len(tile0), tile0, tile0.hex(), type(tile0)\n",
    "tile1 = d.value_bytes[6:12]\n",
    "len(tile1), tile1, tile1.hex()\n"
   ]
  },
  {
   "cell_type": "code",
   "execution_count": null,
   "metadata": {},
   "outputs": [
    {
     "data": {
      "text/plain": [
       "(4, b'\\x00\\x00\\x00\\x00', '00000000', bytes, (0.0,))"
      ]
     },
     "execution_count": null,
     "metadata": {},
     "output_type": "execute_result"
    },
    {
     "data": {
      "text/plain": [
       "(4, b'%\\xea\\x8dD', '25ea8d44', (1135.3170166015625,))"
      ]
     },
     "execution_count": null,
     "metadata": {},
     "output_type": "execute_result"
    },
    {
     "data": {
      "text/plain": [
       "(4, b'%\\xea\\x8dD', '25ea8d44', (1135.3170166015625,))"
      ]
     },
     "execution_count": null,
     "metadata": {},
     "output_type": "execute_result"
    },
    {
     "data": {
      "text/plain": [
       "(4, b'\\x14Q\\xa7\\xc4', '1451a7c4', (-1338.53369140625,))"
      ]
     },
     "execution_count": null,
     "metadata": {},
     "output_type": "execute_result"
    },
    {
     "data": {
      "text/plain": [
       "-1338.5337"
      ]
     },
     "execution_count": null,
     "metadata": {},
     "output_type": "execute_result"
    }
   ],
   "source": [
    "tile0 = d.value_bytes[0:4]\n",
    "len(tile0), tile0, tile0.hex(), type(tile0), struct.unpack(\"<f\", tile0)\n",
    "tile1 = d.value_bytes[4:8]\n",
    "len(tile1), tile1, tile1.hex(), struct.unpack(\"<f\", tile1)\n",
    "tile2 = d.value_bytes[8:12]\n",
    "len(tile1), tile2, tile2.hex(), struct.unpack(\"<f\", tile2)\n",
    "st = 2*17*4\n",
    "tile3 = d.value_bytes[st:st+4]\n",
    "len(tile1), tile3, tile3.hex(), struct.unpack(\"<f\", tile3)\n",
    "d.value_array_view[2,0]\n",
    "test_eq(struct.unpack(\"<f\", tile3), d.value_array_view[2,0])"
   ]
  },
  {
   "cell_type": "code",
   "execution_count": null,
   "metadata": {},
   "outputs": [
    {
     "data": {
      "text/plain": [
       "('1451a7c4', b'1451a7c4')"
      ]
     },
     "execution_count": null,
     "metadata": {},
     "output_type": "execute_result"
    }
   ],
   "source": [
    "tile3.hex(), tile3.hex().encode()"
   ]
  },
  {
   "cell_type": "code",
   "execution_count": null,
   "metadata": {},
   "outputs": [
    {
     "data": {
      "text/plain": [
       "bytes"
      ]
     },
     "execution_count": null,
     "metadata": {},
     "output_type": "execute_result"
    },
    {
     "data": {
      "text/plain": [
       "[20, 81, 167, 196]"
      ]
     },
     "execution_count": null,
     "metadata": {},
     "output_type": "execute_result"
    }
   ],
   "source": [
    "type(tile3)\n",
    "list(tile3)"
   ]
  },
  {
   "cell_type": "code",
   "execution_count": null,
   "metadata": {},
   "outputs": [
    {
     "data": {
      "text/plain": [
       "bytearray(b'\\x14Q\\xa7\\xc4')"
      ]
     },
     "execution_count": null,
     "metadata": {},
     "output_type": "execute_result"
    },
    {
     "data": {
      "text/plain": [
       "(bytearray(b'\\x14Q\\xa7\\xc4%\\xea\\x8dD%\\xea\\x8dD'), 12)"
      ]
     },
     "execution_count": null,
     "metadata": {},
     "output_type": "execute_result"
    }
   ],
   "source": [
    "ba_uploaded = bytearray()\n",
    "ba_uploaded += tile3\n",
    "ba_uploaded\n",
    "ba_uploaded += tile2\n",
    "ba_uploaded += tile1\n",
    "ba_uploaded, len(ba_uploaded)"
   ]
  },
  {
   "cell_type": "code",
   "execution_count": null,
   "metadata": {},
   "outputs": [
    {
     "data": {
      "text/plain": [
       "(952,\n",
       " '0000000025ea8d4425ea8d4425ea8d4425ea8d44db349544b31eb6448c08d74464f2f7441e6e0c45811d2545e3cc3d45467c564585ed834500a08a4500a08a4500a08a4500000000ed161443ed1614434eba8d431a791e44cb4c60443e10914417fab144efe3d244c8cdf34446961245a9452b450bf54345d053754500a08a4500a08a4500a08a451451a7c40b5650c4dd13a4c3b80831434da9f94356254144847c81445c66a2443550c3440d3ae44469cc0a45cb7b23452e2b3c45f3896d4500a08a4500a08a4500a08a45fffc0fc5a4fcd0c44bff81c4c807ccc339db5f4376a00944f8d74744bd0783447f23a244403fc144e2e8ef4442490f45139e2645b5475545abf8814500a08a4500a08a45771f0dc59f6adac451969ac4078435c4ab6d57c3629a9343eb8d18443f2953444ae28644f42fa4447424d044f318fc44b906144539fb3f45b8ef6b4500a08a4500a08a45483e09c51dd0dcc4a923a7c46cee62c40a2befc3dcc943c29338be43be142944e413604485898b44e1c8b4443e08de44cda303452ae32c4586225645e3617f4500a08a45735904c5aa24dac46c96abc45f107ac4e5f31cc4ac5d7fc37928ea4212c3f443ff0b3e44f76e7144b5419f44efcbc5442856ec444eb51c45873f4345c1c96945f1378345efe1fcc4bac2d3c485a3aac44f8481c434ca30c49117bdc3ddd544c21ae28b43782f1844d5ca5444823a8e44990fb244b0e4d5446fc70e45869c32459e715645d52c5745ab09efc4be0dcac4d111a5c4e31580c4eb3336c42178d8c3d81009c393ce1e43ff56e3435aa33b4499f082448d10a4448130c54435b8034529d8244576423545764235451a2adfc4846cbcc4eeae99c4b0e26dc4846728c4afd8c5c35b89ebc2032820435a0adb4359003344857b784494a89a446513b94408e9f544555f194515471e4515471e453c43cdc4c4f8acc44dae8cc4abc758c4bc3218c49b3bafc3f646b8c240302643fd41d443eeb52a44dc4a6b44cce696447b9cb244d807ea44ef260e45ef260e45ef260e45f49aa4c40fcd87c455fe55c48c621cc4868dc5c3e8ab24c3798683423019944361a803442a443d44f3df7644de3d98446b3eb144833fe344c44bfe44c44bfe44c44bfe447ba58ec4ae8267c466ba31c43ce4f7c3ac538cc3700c83c2e89a1543045eb6434af7104492bf4644da877c4411289944149ab444e730e144ab70e844ab70e844ab70e8440b018fc329f907c359fc6041b4182443d1109d434815e843e08c19441b0f3f4457916444c9098544e7ca9744058caa44224dbd44f647d344f647d344f647d344f647d344')"
      ]
     },
     "execution_count": null,
     "metadata": {},
     "output_type": "execute_result"
    },
    {
     "data": {
      "text/plain": [
       "'0000000025ea8d4425ea8d4425ea8d4425ea8d44db349544b31eb6448c08d74464f2f7441e6e0c45811d2545e3cc3d45467c564585ed834500a08a4500a08a4500a08a4500000000ed161443ed1614434eba8d431a791e44cb4c60443e10914417fab144efe3d244c8cdf34446961245a9452b450bf54345d053754500a08a4500a08a4500a08a451451a7c40b5650c4dd13a4c3b80831434da9f94356254144847c81445c66a2443550c3440d3ae44469cc0a45cb7b23452e2b3c45f3896d4500a08a4500a08a4500a08a45fffc0fc5a4fcd0c44bff81c4c807ccc339db5f4376a00944f8d74744bd0783447f23a244403fc144e2e8ef4442490f45139e2645b5475545abf8814500a08a4500a08a45771f0dc59f6adac451969ac4078435c4ab6d57c3629a9343eb8d18443f2953444ae28644f42fa4447424d044f318fc44b906144539fb3f45b8ef6b4500a08a4500a08a45483e09c51dd0dcc4a923a7c46cee62c40a2befc3dcc943c29338be43be142944e413604485898b44e1c8b4443e08de44cda303452ae32c4586225645e3617f4500a08a45735904c5aa24dac46c96abc45f107ac4e5f31cc4ac5d7fc37928ea4212c3f443ff0b3e44f76e7144b5419f44efcbc5442856ec444eb51c45873f4345c1c96945f1378345efe1fcc4bac2d3c485a3aac44f8481c434ca30c49117bdc3ddd544c21ae28b43782f1844d5ca5444823a8e44990fb244b0e4d5446fc70e45869c32459e715645d52c5745ab09efc4be0dcac4d111a5c4e31580c4eb3336c42178d8c3d81009c393ce1e43ff56e3435aa33b4499f082448d10a4448130c54435b8034529d8244576423545764235451a2adfc4846cbcc4eeae99c4b0e26dc4846728c4afd8c5c35b89ebc2032820435a0adb4359003344857b784494a89a446513b94408e9f544555f194515471e4515471e453c43cdc4c4f8acc44dae8cc4abc758c4bc3218c49b3bafc3f646b8c240302643fd41d443eeb52a44dc4a6b44cce696447b9cb244d807ea44ef260e45ef260e45ef260e45f49aa4c40fcd87c455fe55c48c621cc4868dc5c3e8ab24c3798683423019944361a803442a443d44f3df7644de3d98446b3eb144833fe344c44bfe44c44bfe44c44bfe447ba58ec4ae8267c466ba31c43ce4f7c3ac538cc3700c83c2e89a1543045eb6434af7104492bf4644da877c4411289944149ab444e730e144ab70e844ab70e844ab70e8440b018fc329f907c359fc6041b4182443d1109d434815e843e08c19441b0f3f4457916444c9098544e7ca9744058caa44224dbd44f647d344f647d344f647d344f647d344'"
      ]
     },
     "execution_count": null,
     "metadata": {},
     "output_type": "execute_result"
    }
   ],
   "source": [
    "ba_uploaded = bytearray()\n",
    "len_in_bytes = d.type_size * d.dim[0] * d.dim[1]\n",
    "download_times = len_in_bytes // 6\n",
    "last_download_size = len_in_bytes % 6\n",
    "for tile in range(download_times):\n",
    "    ba_uploaded += d.value_bytes[tile*6:(tile+1)*6]\n",
    "if last_download_size:\n",
    "    ba_uploaded += d.value_bytes[download_times*6:download_times*6+last_download_size]\n",
    "\n",
    "len(ba_uploaded), ba_uploaded.hex()\n",
    "test_eq(ba_uploaded, d.value_bytes)\n",
    "test_eq(ba_uploaded.hex(), d.value)\n",
    "ba_uploaded.hex()"
   ]
  },
  {
   "cell_type": "markdown",
   "metadata": {},
   "source": [
    "## loop over XCPCalib data array"
   ]
  },
  {
   "cell_type": "code",
   "execution_count": null,
   "metadata": {},
   "outputs": [
    {
     "name": "stdout",
     "output_type": "stream",
     "text": [
      "i: 0, cro: CCP / CRO / DNLOAD_6\n",
      "###[ CAN Calibration Protocol ]### \n",
      "  flags     = \n",
      "  identifier= 0x276\n",
      "  length    = 8\n",
      "  reserved  = 0\n",
      "###[ DTO ]### \n",
      "     packet_id = 0x23\n",
      "     return_code= 3\n",
      "     ctr       = 0\n",
      "###[ DEFAULT_DTO ]### \n",
      "        load      = '\\x00\\x00\\x00%\\\\xea'\n",
      "\n"
     ]
    },
    {
     "data": {
      "text/plain": [
       "<CRO  cmd=DNLOAD_6 ctr=3 |<DNLOAD_6  data='\\x00\\x00\\x00\\x00%\\\\xea' |>>"
      ]
     },
     "execution_count": null,
     "metadata": {},
     "output_type": "execute_result"
    },
    {
     "name": "stdout",
     "output_type": "stream",
     "text": [
      "i: 100, cro: CCP / CRO / DNLOAD_6\n",
      "###[ CAN Calibration Protocol ]### \n",
      "  flags     = \n",
      "  identifier= 0x276\n",
      "  length    = 8\n",
      "  reserved  = 0\n",
      "###[ DTO ]### \n",
      "     packet_id = 0x23\n",
      "     return_code= 103\n",
      "     ctr       = 41\n",
      "###[ DEFAULT_DTO ]### \n",
      "        load      = '\\\\xd8$EvB'\n",
      "\n"
     ]
    },
    {
     "data": {
      "text/plain": [
       "<CRO  cmd=DNLOAD_6 ctr=103 |<DNLOAD_6  data=')\\\\xd8$EvB' |>>"
      ]
     },
     "execution_count": null,
     "metadata": {},
     "output_type": "execute_result"
    },
    {
     "data": {
      "text/plain": [
       "157"
      ]
     },
     "execution_count": null,
     "metadata": {},
     "output_type": "execute_result"
    }
   ],
   "source": [
    "\n",
    "for i in range(download_times):\n",
    "    ctr += 1\n",
    "    cro = CCP(identifier=xcp_calib.config.download_can_id)/CRO(ctr=ctr)/DNLOAD_6(data=d.value_bytes[i*6:(i+1)*6])\n",
    "    if i%100==0:\n",
    "        print(f\"i: {i}, cro: {cro}\")\n",
    "        cro.show2()\n",
    "        cro.payload\n",
    "    sent_bytes = sock.send(cro)\n",
    "    rx_cro = sock.recv()\n",
    "    # rx_cro.show2()\n",
    "    # dto = sock.sr1(cro)\n",
    "    # dto.show2()\n",
    "    # assert dto.return_code == 0x00\n",
    "i"
   ]
  },
  {
   "cell_type": "code",
   "execution_count": null,
   "metadata": {},
   "outputs": [
    {
     "name": "stdout",
     "output_type": "stream",
     "text": [
      "###[ CAN Calibration Protocol ]### \n",
      "  flags     = \n",
      "  identifier= 0x276\n",
      "  length    = 8\n",
      "  reserved  = 0\n",
      "###[ DTO ]### \n",
      "     packet_id = 0x3\n",
      "     return_code= 161\n",
      "     ctr       = 0\n",
      "###[ DEFAULT_DTO ]### \n",
      "        load      = '\\\\xf6G\\\\xd3D'\n",
      "\n"
     ]
    },
    {
     "data": {
      "text/plain": [
       "<CRO  cmd=DNLOAD ctr=161 |<DNLOAD  data='\\\\xf6G\\\\xd3D' |>>"
      ]
     },
     "execution_count": null,
     "metadata": {},
     "output_type": "execute_result"
    }
   ],
   "source": [
    "start_index = download_times * 6\n",
    "ctr += 1 \n",
    "cro = CCP(identifier=xcp_calib.config.download_can_id)/CRO(ctr=ctr)/DNLOAD(data=d.value_bytes[start_index:start_index+last_download_size])\n",
    "cro.show2()\n",
    "cro.payload\n",
    "sent_bytes = sock.send(cro)\n",
    "rx_cro = sock.recv()"
   ]
  },
  {
   "cell_type": "markdown",
   "metadata": {},
   "source": [
    "## Disconnect target ecu"
   ]
  },
  {
   "cell_type": "code",
   "execution_count": null,
   "metadata": {},
   "outputs": [
    {
     "name": "stdout",
     "output_type": "stream",
     "text": [
      "###[ CAN Calibration Protocol ]### \n",
      "  flags     = \n",
      "  identifier= 0x276\n",
      "  length    = 8\n",
      "  reserved  = 0\n",
      "###[ DTO ]### \n",
      "     packet_id = 0x7\n",
      "     return_code= 162\n",
      "     ctr       = 0\n",
      "###[ DEFAULT_DTO ]### \n",
      "        load      = '\\\\xff\\x00\\x00\\\\xff\\\\xff'\n",
      "\n",
      "###[ CAN ]### \n",
      "  flags     = \n",
      "  identifier= 0x276\n",
      "  length    = 8\n",
      "  reserved  = 0\n",
      "  data      = '\\x07\\\\xa2\\x00\\\\xff\\x00\\x00\\\\xff\\\\xff'\n",
      "\n"
     ]
    }
   ],
   "source": [
    "\n",
    "ctr += 1\n",
    "cro = CCP(identifier=xcp_calib.config.download_can_id)/CRO(ctr=ctr)/DISCONNECT(station_address=0x00)\n",
    "cro.show2()\n",
    "bytes_sent = sock.send(cro)\n",
    "cx_cro = sock.recv()\n",
    "cx_cro.show2()"
   ]
  },
  {
   "cell_type": "code",
   "execution_count": null,
   "metadata": {},
   "outputs": [
    {
     "data": {
      "text/plain": [
       "{'NATIVE', 'PYTHON'}"
      ]
     },
     "execution_count": null,
     "metadata": {},
     "output_type": "execute_result"
    }
   ],
   "source": [
    "#| export\n",
    "CAN_TYPES = set(['NATIVE','PYTHON'])  # Navtive: Native CAN: PYTHON: Python CAN\n",
    "# class CanType(StrEnum):\n",
    "#     NATIVE = \"NATIVE\"\n",
    "#     PYTHON = \"PYTHON\"\n",
    "CAN_TYPES"
   ]
  },
  {
   "cell_type": "code",
   "execution_count": null,
   "metadata": {},
   "outputs": [],
   "source": [
    "#| export\n",
    "def check_can_type(c: str) -> str:\n",
    "    \"\"\"Summary\n",
    "    Check if the CAN type is valid\n",
    "\n",
    "    Args:\n",
    "        can_type (str): CAN type to be checked\n",
    "\n",
    "    Returns:\n",
    "        str: CAN type if valid\n",
    "\n",
    "    Raises:\n",
    "        ValueError: if CAN type is invalid\n",
    "    \"\"\"\n",
    "    if c.upper() not in CAN_TYPES:\n",
    "        raise ValueError(f\"Invalid CAN type: {c}, valid types are: {CAN_TYPES}\")\n",
    "    return c\n",
    "\n",
    "CANType = Annotated[str, AfterValidator(check_can_type)]"
   ]
  },
  {
   "cell_type": "code",
   "execution_count": null,
   "metadata": {},
   "outputs": [],
   "source": [
    "# # CanType\n",
    "# native_can_type = CanType('NATIVE')\n",
    "# native_can_type.lower()\n",
    "# isinstance(native_can_type, CanType)\n",
    "# isinstance('NATIVE', CanType)"
   ]
  },
  {
   "cell_type": "code",
   "execution_count": null,
   "metadata": {},
   "outputs": [],
   "source": [
    "#| export\n",
    "BUS_TYPES = set(['SOCKET', 'VIRTUAL', 'KVASER', 'PCANUSB', 'IXXAT', 'VECTOR', 'SERIAL', 'NEOVI'])\n",
    "# class BusType(StrEnum):\n",
    "#     SOCKET = \"SOCKET\"\n",
    "#     VIRTUAL = \"VIRTUAL\"\n",
    "#     KVASER = \"KVASER\"\n",
    "#     PCANUSB = \"PCANUSB\"\n",
    "#     IXXAT = \"IXXAT\"\n",
    "#     VECTOR = \"VECTOR\"\n",
    "#     SERIAL = \"SERIAL\"\n",
    "#     NEOVI = \"NEOVI\"\n"
   ]
  },
  {
   "cell_type": "code",
   "execution_count": null,
   "metadata": {},
   "outputs": [],
   "source": [
    "#| export\n",
    "def check_bus_type(b: str) -> str:\n",
    "    \"\"\"Summary\n",
    "    Check if the CAN bus type is valid\n",
    "\n",
    "    Args:\n",
    "        b (str): Python CAN bus type to be checked\n",
    "\n",
    "    Returns:\n",
    "        str: Python CAN bus type if valid\n",
    "\n",
    "    Raises:\n",
    "        ValueError: if CAN bus type is invalid\n",
    "    \"\"\"\n",
    "    if b.upper() not in BUS_TYPES:\n",
    "        raise ValueError(f\"Invalid Python CAN bus type: {b}, valid types are: {BUS_TYPES}\")\n",
    "    return b\n",
    "\n",
    "BusType = Annotated[str, AfterValidator(check_bus_type)]"
   ]
  },
  {
   "cell_type": "code",
   "execution_count": null,
   "metadata": {},
   "outputs": [],
   "source": [
    "#|export\n",
    "class CANFilter(BaseModel):\n",
    "    \"\"\"Summary\n",
    "    CAN filter for Python CAN bus\n",
    "\n",
    "    Attributes:\n",
    "        can_id (int): CAN message ID\n",
    "        can_mask (int): CAN message mask\n",
    "    \"\"\"\n",
    "    can_id: int = Field(default=630,gt=0,title=\"CAN message ID\",description=\"CAN message ID\")\n",
    "    can_mask: int = Field(default=0x7ff,gt=0,title=\"CAN message mask\",description=\"CAN message mask\")"
   ]
  },
  {
   "cell_type": "code",
   "execution_count": null,
   "metadata": {},
   "outputs": [],
   "source": [
    "#| export\n",
    "class ScapyCANSpecs(BaseModel):\n",
    "    can_type: CANType = Field(frozen=True, default='NATIVE', description='CAN type: NATIVE/PYTHON')\n",
    "    bus_type: BusType = Field(frozen=True, default='VIRTUAL', description='Python CAN bus type')\n",
    "    channel_serial_number: int = Field(frozen=True, default=3, ge=0, lt=500,description='CAN channel')\n",
    "    can_id: int = Field(default=630, gt=0, description='CAN message ID')\n",
    "    can_filters: Optional[list[CANFilter]] = Field(default=None, description='CAN filters')\n",
    "    bit_rate: int = Field(default=500_000, gt=0, lt=1_000_000, description='CAN bit rate')\n",
    "    time_out: float = Field(default=1.0, gt=0.0, lt=10.0, description='CAN time out')\n",
    "    station_address: int = Field(default=0x00, ge=0, lt=0xff, description='CAN station address')\n",
    "    cntr: int = Field(default=0, ge=0, lt=1_000_000, description='CAN counter')\n",
    "    receive_own_messages: bool = Field(default=True, description='Receive own messages')\n",
    "    download_upload: bool = Field(default=True, description='Download if True or upload if False')\n",
    "    \n",
    "    @computed_field\n",
    "    def channel(self) -> Union[str, int]:\n",
    "        \"\"\"Summary\n",
    "        Get the CAN channel as str for SocketCAN or virtual CAN, as int for Vector\n",
    "\n",
    "        Returns:\n",
    "            str: CAN channel for SocketCAN virtual CAN\n",
    "            int: for Vector CAN\n",
    "        \"\"\"\n",
    "        match self.bus_type:\n",
    "            case 'VIRTUAL':\n",
    "                return 'vcan' + str(self.channel_serial_number)\n",
    "            case 'SOCKET':\n",
    "                return 'can' + str(self.channel_serial_number)\n",
    "            case 'VECTOR' | \"KVASER\":\n",
    "                return self.channel_serial_number\n",
    "            case 'PCAN':\n",
    "                return 'PCAN_USBBUS' + str(self.channel_serial_number)\n",
    "            case _:\n",
    "                raise NotImplementedError(f\"Bus type: {self.bus_type} not implemented yet\")\n",
    "                \n"
   ]
  },
  {
   "cell_type": "code",
   "execution_count": null,
   "metadata": {},
   "outputs": [
    {
     "name": "stdout",
     "output_type": "stream",
     "text": [
      "{'bit_rate': 500000,\n",
      " 'bus_type': 'VIRTUAL',\n",
      " 'can_filters': None,\n",
      " 'can_id': 630,\n",
      " 'can_type': 'NATIVE',\n",
      " 'channel': 'vcan3',\n",
      " 'channel_serial_number': 3,\n",
      " 'cntr': 0,\n",
      " 'download_upload': True,\n",
      " 'receive_own_messages': True,\n",
      " 'station_address': 0,\n",
      " 'time_out': 1.0}\n"
     ]
    }
   ],
   "source": [
    "try:\n",
    "    m = ScapyCANSpecs(can_type='NATIVE', bus_type='VIRTUAL')\n",
    "except ValidationError as exc:\n",
    "    print(exc)\n",
    "\n",
    "pprint(m.model_dump())"
   ]
  },
  {
   "cell_type": "code",
   "execution_count": null,
   "metadata": {},
   "outputs": [
    {
     "name": "stdout",
     "output_type": "stream",
     "text": [
      "0: counter 1\n",
      "1: counter 2\n",
      "2: counter 3\n"
     ]
    }
   ],
   "source": [
    "\n",
    "def emulate_call(m: ScapyCANSpecs):\n",
    "    m.cntr += 1\n",
    "\n",
    "for i in range(3):\n",
    "    emulate_call(m)\n",
    "    print(f\"{i}: counter {m.cntr}\")"
   ]
  },
  {
   "cell_type": "markdown",
   "metadata": {},
   "source": [
    "## download_calib_data"
   ]
  },
  {
   "cell_type": "code",
   "execution_count": null,
   "metadata": {},
   "outputs": [],
   "source": [
    "#| export\n",
    "def downlod_calib_data(xcp_calib: XCPCalib, \n",
    "                        can_type: CANType, \n",
    "                        channel: int,\n",
    "                        bus_type: BusType, \n",
    "                        can_filter=list[dict],  \n",
    "                        bit_rate: int=500_000, \n",
    "                        timeout: float=1.0,\n",
    "                        diff_flashing: bool=False):\n",
    "    \"\"\"Summary\n",
    "    Download XCP calibration data to target\n",
    "\n",
    "    Args:\n",
    "        xcp_calib (XCPCalib): XCP calibration  to be downloaded into the target\n",
    "        diff_flashing (bool): Use differential flashing\n",
    "    \"\"\"\n",
    "    # init counter\n",
    "    ctr = 0\n",
    "    # create a socket\n",
    "    match can_type:\n",
    "        case 'NATIVE':\n",
    "            load_layer(\"can\")\n",
    "            conf.contribs['CANSocket'] = {'use-python-can': False}\n",
    "            load_contrib(\"cansocket\")\n",
    "            match bus_type:\n",
    "                case 'SOCKET':\n",
    "                    sock = CANSocket(channel='can'+str(channel), can_filter=can_filter, bit_rate = bit_rate, receive_own_messages=True)\n",
    "                case 'VIRTUAL':\n",
    "                    sock = CANSocket(channel='vcan'+str(channel), can_filter=can_filter, bit_rate = bit_rate, receive_own_messages=True)\n",
    "                case _:\n",
    "                    raise ValueError(f\"Invalid CAN bus type: {bus_type}, valid types are: SOCKET or VIRTUAL for Native CANSOCKET\")\n",
    "        case 'PYTHON': \n",
    "            assert bus_type is not None, \"Bus type must be specified for PYTHON CAN\"\n",
    "            load_layer(\"can\")\n",
    "            conf.contribs['CANSocket'] = {'use-python-can': True}\n",
    "            load_contrib(\"cansocket\")\n",
    "            match bus_type:\n",
    "                case 'SOCKET':\n",
    "                    sock = CANSocket(bustype='socketcan', channel='can'+channel, can_filter=can_filter, bitrate=bit_rate, receive_own_messages=True)\n",
    "                case 'VIRTUAL':\n",
    "                    sock = CANSocket(bustype='socketcan', channel='vcan'+channel, can_filter=can_filter, bitrate=bit_rate, receive_own_messages=True)\n",
    "                case 'KVASER':\n",
    "                    sock = CANSocket(bustype='kvaser', channel=channel, can_filter=can_filter, bitrate=bit_rate, receive_own_messages=True)\n",
    "                case 'VECTOR':\n",
    "                    sock = CANSocket(bustype='vector', channel=channel, can_filter=can_filter, bitrate=bit_rate, receive_own_messages=True)\n",
    "                case _:\n",
    "                    raise ValueError(f\"Invalid CAN bus type: {bus_type}, implemented valid types are: SOCKET, KVASER, VECTOR for Python-CAN CANSOCKET\")\n",
    "\n",
    "    # CONNECT\n",
    "    ctr += 1\n",
    "    cro = CCP(identifier=xcp_calib.config.download_can_id)/CRO(ctr=ctr)/CONNECT(station_address=0x00)\n",
    "    dto = sock.sr1(cro, timeout=timeout)\n",
    "    assert dto.return_code == 0x00\n",
    "\n",
    "    for d in xcp_calib.data:\n",
    "        # SET_MTA\n",
    "        ctr += 1\n",
    "        cro = CCP(identifier=xcp_calib.config.download_can_id)/CRO(ctr=ctr)/SET_MTA(address=int(d.address, 16))\n",
    "        dto = sock.sr1(cro, timeout=timeout)\n",
    "        assert dto.return_code == 0x00\n",
    "\n",
    "        # Determine message tiling\n",
    "        len_in_bytes = d.type_size * d.dim[0] * d.dim[1]\n",
    "        assert len_in_bytes == len(d.value_bytes)\n",
    "        tile_size = 6  # 6 bytes per tile as defined in CCP for DNLOAD_6\n",
    "        tiles = len_in_bytes // tile_size \n",
    "        last_tile = len_in_bytes % tile_size\n",
    "        # Download full size tiles with DNLOAD_6\n",
    "        for i in range(tiles):\n",
    "            ctr += 1\n",
    "            cro = CCP(identifier=xcp_calib.config.download_can_id)/CRO(ctr=ctr)/DNLOAD_6(data=d.value_bytes[i*tile_size:(i+1)*tile_size])\n",
    "            dto = sock.sr1(cro,timeout=timeout)\n",
    "            assert dto.return_code == 0x00\n",
    "        start_index = tiles * tile_size\n",
    "        ctr += 1 \n",
    "        cro = CCP(identifier=xcp_calib.config.download_can_id)/CRO(ctr=ctr)/DNLOAD(data=d.value_bytes[start_index:start_index+last_tile])\n",
    "        dto = sock.sr1(cro,timeout=timeout)\n",
    "        assert dto.return_code == 0x00\n",
    "\n",
    "    # DISCONNECT\n",
    "    ctr += 1\n",
    "    cro = CCP(identifier=xcp_calib.config.download_can_id)/CRO(ctr=ctr)/DISCONNECT(station_address=0x00)\n",
    "    dto = sock.sr1(cro,timeout=timeout)\n",
    "    assert dto.return_code == 0x00"
   ]
  },
  {
   "cell_type": "markdown",
   "metadata": {},
   "source": [
    "## upload_calib_data"
   ]
  },
  {
   "cell_type": "code",
   "execution_count": null,
   "metadata": {},
   "outputs": [],
   "source": [
    "#| export\n",
    "def upload_calib_data(xcp_calib: XCPCalib, \n",
    "                        can_type: CANType, \n",
    "                        channel: int,\n",
    "                        bus_type: BusType, \n",
    "                        can_filter=list[dict],  \n",
    "                        bit_rate: int=500_000, \n",
    "                        timeout: float=1.0,\n",
    "                        diff_flashing: bool=False)->None:\n",
    "    \"\"\"Summary\n",
    "    Upload XCP calibration data from target to host, the result will update the xcp_calib.data field\n",
    "\n",
    "    Args:\n",
    "        xcp_calib (XCPCalib): XCP calibration  to be uploaded from the target to host\n",
    "        diff_flashing (bool): Use differential flashing\n",
    "    \"\"\"\n",
    "\n",
    "    # init counter\n",
    "    ctr = 0\n",
    "    # create a socket\n",
    "    match can_type:\n",
    "        case 'NATIVE':\n",
    "            load_layer(\"can\")\n",
    "            conf.contribs['CANSocket'] = {'use-python-can': False}\n",
    "            load_contrib(\"cansocket\")\n",
    "            match bus_type:\n",
    "                case 'SOCKET':\n",
    "                    sock = CANSocket(channel='can'+str(channel), can_filter=can_filter, bit_rate = bit_rate, receive_own_messages=True)\n",
    "                case 'VIRTUAL':\n",
    "                    sock = CANSocket(channel='vcan'+str(channel), can_filter=can_filter, bit_rate = bit_rate, receive_own_messages=True)\n",
    "                case _:\n",
    "                    raise ValueError(f\"Invalid CAN bus type: {bus_type}, valid types are: SOCKET or VIRTUAL for Native CANSOCKET\")\n",
    "        case 'PYTHON': \n",
    "            assert bus_type is not None, \"Bus type must be specified for PYTHON CAN\"\n",
    "            load_layer(\"can\")\n",
    "            conf.contribs['CANSocket'] = {'use-python-can': True}\n",
    "            load_contrib(\"cansocket\")\n",
    "            match bus_type:\n",
    "                case 'SOCKET':\n",
    "                    sock = CANSocket(bustype='socketcan', channel='can'+channel, can_filter=can_filter, bitrate=bit_rate, receive_own_messages=True)\n",
    "                case 'VIRTUAL':\n",
    "                    sock = CANSocket(bustype='socketcan', channel='vcan'+channel, can_filter=can_filter, bitrate=bit_rate, receive_own_messages=True)\n",
    "                case 'KVASER':\n",
    "                    sock = CANSocket(bustype='kvaser', channel=channel, can_filter=can_filter, bitrate=bit_rate, receive_own_messages=True)\n",
    "                case 'VECTOR':\n",
    "                    sock = CANSocket(bustype='vector', channel=channel, can_filter=can_filter, bitrate=bit_rate, receive_own_messages=True)\n",
    "                case _:\n",
    "                    raise ValueError(f\"Invalid CAN bus type: {bus_type}, implemented valid types are: SOCKET, KVASER, VECTOR for Python-CAN CANSOCKET\")\n",
    "    # sock = CANSocket(channel='can'+str(xcp_calib.config.channel), receive_own_messages=True)\n",
    "\n",
    "    # CONNECT\n",
    "    ctr += 1\n",
    "    cro = CCP(identifier=xcp_calib.config.download_can_id)/CRO(ctr=ctr)/CONNECT(station_address=0x00)\n",
    "    dto = sock.sr1(cro,timeout=timeout)\n",
    "    assert dto.return_code == 0x00\n",
    "\n",
    "    for d in xcp_calib.data:\n",
    "        # SET_MTA\n",
    "        ctr += 1\n",
    "        cro = CCP(identifier=xcp_calib.config.download_can_id)/CRO(ctr=ctr)/SET_MTA(address=int(d.address, 16))\n",
    "        dto = sock.sr1(cro,timeout=timeout)\n",
    "        assert dto.return_code == 0x00\n",
    "\n",
    "        # Determine message tiling\n",
    "        len_in_bytes = d.type_size * d.dim[0] * d.dim[1]\n",
    "        # assert len_in_bytes == len(d.value_bytes)\n",
    "        tile_size = 5\n",
    "        tiles = len_in_bytes // tile_size \n",
    "        last_tile = len_in_bytes % tile_size\n",
    "        \n",
    "        # Upload tiles with tile_size (maximal 5 as defined by CCP） bytes with UPLOAD\n",
    "        ba_uploaded = bytearray()\n",
    "        for i in range(tiles):\n",
    "            ctr += 1\n",
    "            cro = CCP(identifier=xcp_calib.config.download_can_id)/CRO(ctr=ctr)/UPLOAD(size=tile_size)\n",
    "            upload_dto = sock.sr1(cro,timeout=timeout)\n",
    "            assert upload_dto.return_code == 0x00\n",
    "            ba_uploaded += upload_dto.data\n",
    "            \n",
    "\n",
    "        start_index = tiles * tile_size\n",
    "        ctr += 1 \n",
    "        cro = CCP(identifier=xcp_calib.config.download_can_id)/CRO(ctr=ctr)/UPLOAD(last_tile)\n",
    "        upload_dto = sock.sr1(cro,timeout=timeout)\n",
    "        assert upload_dto.return_code == 0x00\n",
    "        ba_uploaded += upload_dto.data\n",
    "\n",
    "        d.value = ba_uploaded.hex()\n",
    "\n",
    "    # DISCONNECT\n",
    "    ctr += 1\n",
    "    cro = CCP(identifier=xcp_calib.config.download_can_id)/CRO(ctr=ctr)/DISCONNECT(station_address=0x00)\n",
    "    dto = sock.sr1(cro,timeout=timeout)\n",
    "    assert dto.return_code == 0x00"
   ]
  },
  {
   "cell_type": "code",
   "execution_count": null,
   "metadata": {},
   "outputs": [],
   "source": [
    "#| export\n",
    "@contextlib.contextmanager\n",
    "def can_context(can_specs: ScapyCANSpecs):\n",
    "    \"\"\"Summary\n",
    "    Context manager for scapy CAN socket\n",
    "\n",
    "    Args:\n",
    "        can_specs (ScapyCANSpecs): CAN specs including can type, bus type, channel, etc.\n",
    "\n",
    "    Yields:\n",
    "        CANSocket: CAN socket object\n",
    "    \"\"\"\n",
    "    # create a socket\n",
    "    try:\n",
    "        match can_specs.can_type:\n",
    "            case 'NATIVE':\n",
    "                load_layer(\"can\")\n",
    "                conf.contribs['CANSocket'] = {'use-python-can': False}\n",
    "                load_contrib(\"cansocket\")\n",
    "                sock = CANSocket(channel=can_specs.channel, \n",
    "                                    can_filter=can_specs.can_filters, \n",
    "                                    bit_rate = can_specs.bit_rate, \n",
    "                                    receive_own_messages=can_specs.receive_own_messages\n",
    "                                )\n",
    "            case 'PYTHON': \n",
    "                load_layer(\"can\")\n",
    "                conf.contribs['CANSocket'] = {'use-python-can': True}\n",
    "                load_contrib(\"cansocket\")\n",
    "                match bus_type:\n",
    "                    case 'SOCKET' | 'VIRTUAL':\n",
    "                        sock = CANSocket(bustype='socketcan', \n",
    "                                            channel=can_specs.channel, \n",
    "                                            can_filter=can_specs.can_filters, \n",
    "                                            bitrate=can_specs.bit_rate, \n",
    "                                            receive_own_messages=can_specs.receive_own_messages\n",
    "                                        )\n",
    "                    case 'KVASER' | 'VECTOR':\n",
    "                        sock = CANSocket(bustype=can_specs.bus_type.lower(), \n",
    "                                            channel=can_specs.channel, \n",
    "                                            can_filter=can_specs.can_filters, \n",
    "                                            bitrate=can_specs.bit_rate, \n",
    "                                            receive_own_messages=can_specs.receive_own_messages)\n",
    "                    case _:\n",
    "                        raise ValueError(f\"Invalid CAN bus type: {can_specs.bus_type}, implemented valid types are: SOCKET, VIRTUAL, KVASER, VECTOR\")\n",
    "    except Exception as e:\n",
    "        raise Exception(f\"Failed to create CAN socket: {e}\")\n",
    "\n",
    "    # CONNECT\n",
    "    can_specs.cntr += 1\n",
    "    cro = CCP(identifier=can_specs.can_id)/CRO(ctr=can_specs.cntr)/CONNECT(station_address=can_specs.station_address)\n",
    "    dto = sock.sr1(cro, timeout=can_specs.time_out)\n",
    "    assert dto is not None, f\"Failed to connect to target, timeout={can_specs.time_out} seconds\"\n",
    "    assert dto.return_code == 0x00\n",
    "    \n",
    "    try: \n",
    "        yield sock\n",
    "    except TimeoutError:\n",
    "        raise TimeoutError(f\"CAN socket timeout: {can_specs.time_out} seconds\")\n",
    "    except Exception as e:\n",
    "        raise e\n",
    "    finally:\n",
    "        # DISCONNECT\n",
    "        can_specs.cntr += 1\n",
    "        cro = CCP(identifier=can_specs.can_id)/CRO(ctr=can_specs.cntr)/DISCONNECT(station_address=can_specs.station_address)\n",
    "        dto = sock.sr1(cro, timeout=can_specs.time_out)\n",
    "        assert dto.return_code == 0x00"
   ]
  },
  {
   "cell_type": "code",
   "execution_count": null,
   "metadata": {},
   "outputs": [],
   "source": [
    "#| export\n",
    "@contextlib.contextmanager\n",
    "def SET_MTA_context(can_specs: ScapyCANSpecs, sock: CANSocket, data: XCPData) -> CAN:\n",
    "    \"\"\"Summary\n",
    "    Context manager for scapy set_mta \n",
    "\n",
    "    Args:\n",
    "        channel (str): CAN channel to use, default is vcan0\n",
    "\n",
    "    Yields:\n",
    "        CAN: packdet for CAN message \n",
    "    \"\"\"\n",
    "\n",
    "    # SET_MTA \n",
    "    can_specs.cntr += 1\n",
    "    cro = CCP(identifier=can_specs.can_id)/CRO(ctr=can_specs.cntr)/SET_MTA(address=int(data.address, 16))\n",
    "    dto = sock.sr1(cro, timeout=can_specs.time_out)\n",
    "    assert dto.return_code == 0x00\n",
    "    try:\n",
    "        yield dto\n",
    "    except TimeoutError:\n",
    "        raise TimeoutError(f\"CAN socket timeout: {can_specs.time_out} seconds\")\n",
    "    except Exception as e:\n",
    "        raise e\n",
    "    finally:\n",
    "        pass  # do nothing, just pray it'll be OK. Crapy CCP!\n",
    "    \n"
   ]
  },
  {
   "cell_type": "code",
   "execution_count": null,
   "metadata": {},
   "outputs": [],
   "source": [
    "#| export\n",
    "@contextlib.contextmanager\n",
    "def XLOAD_context(can_specs: ScapyCANSpecs, sock: CANSocket, data: XCPData, start_index: int, tile_size: int):\n",
    "    \"\"\"Summary\n",
    "    Context manager for scapy load (download or upload)\n",
    "\n",
    "    Args:\n",
    "        channel (str): CAN channel to use, default is vcan0\n",
    "\n",
    "    Yields:\n",
    "        CANSocket: CAN socket object\n",
    "    \"\"\"\n",
    "\n",
    "    can_specs.cntr += 1\n",
    "    if can_specs.download_upload:\n",
    "        assert tile_size <=6 and tile_size >0, f\"In CCP Tile size must be non-zero and less than 6 bytes, got: {tile_size}\"\n",
    "        if tile_size == 6:\n",
    "            # cro = CCP(identifier=xcp_calib.config.download_can_id)/CRO(ctr=ctr)/DNLOAD_6(data=d.value_bytes[i*tile_size:(i+1)*tile_size])\n",
    "            cro = CCP(identifier=can_specs.can_id)/CRO(ctr=can_specs.cntr)/DNLOAD_6(data=d.value_bytes[start_index:start_index+tile_size])\n",
    "            dto = sock.sr1(cro,timeout=can_specs.time_out)\n",
    "            assert dto.return_code == 0x00\n",
    "        else: \n",
    "            # start_index = tiles * tile_size\n",
    "            # cro = CCP(identifier=xcp_calib.config.download_can_id)/CRO(ctr=ctr)/DNLOAD(data=d.value_bytes[start_index:start_index+last_tile])\n",
    "            cro = CCP(identifier=can_specs.can_id)/CRO(ctr=can_specs.cntr)/DNLOAD(data=d.value_bytes[start_index:start_index+tile_size])\n",
    "            dto = sock.sr1(cro,timeout=can_specs.time_out)\n",
    "            assert dto.return_code == 0x00\n",
    "    else:  # False if in upload mode\n",
    "        assert tile_size <=5 and tile_size >0, f\"In CCP Tile size must be non-zero and less than 5 bytes for Uploading, got: {tile_size}\"\n",
    "        # cro = CCP(identifier=xcp_calib.config.download_can_id)/CRO(ctr=ctr)/DNLOAD_6(data=d.value_bytes[i*tile_size:(i+1)*tile_size])\n",
    "        cro = CCP(identifier=can_specs.can_id)/CRO(ctr=can_specs.cntr)/UPLOAD(size=tile_size)  #start_index or data not used for uploading. target ECU will increment the address!\n",
    "        dto = sock.sr1(cro,timeout=can_specs.time_out)\n",
    "        assert dto.return_code == 0x00\n",
    "    try: \n",
    "        yield dto\n",
    "    except TimeoutError:\n",
    "        raise TimeoutError(f\"CAN socket timeout: {can_specs.time_out} seconds\")\n",
    "    except Exception as e:\n",
    "        raise e\n",
    "    finally:\n",
    "        pass  # do nothing, just pray it'll be OK. Crapy CCP!"
   ]
  },
  {
   "cell_type": "code",
   "execution_count": null,
   "metadata": {},
   "outputs": [
    {
     "data": {
      "text/plain": [
       "ScapyCANSpecs(can_type='NATIVE', bus_type='VIRTUAL', channel_serial_number=0, can_id=630, can_filters=[CANFilter(can_id=631, can_mask=2047)], bit_rate=500000, time_out=1.0, station_address=0, cntr=0, receive_own_messages=True, download_upload=True, channel='vcan0')"
      ]
     },
     "execution_count": null,
     "metadata": {},
     "output_type": "execute_result"
    },
    {
     "data": {
      "text/plain": [
       "{'can_type': 'NATIVE',\n",
       " 'bus_type': 'VIRTUAL',\n",
       " 'channel_serial_number': 0,\n",
       " 'can_id': 630,\n",
       " 'can_filters': [{'can_id': 631, 'can_mask': 2047}],\n",
       " 'bit_rate': 500000,\n",
       " 'time_out': 1.0,\n",
       " 'station_address': 0,\n",
       " 'cntr': 0,\n",
       " 'receive_own_messages': True,\n",
       " 'download_upload': True,\n",
       " 'channel': 'vcan0'}"
      ]
     },
     "execution_count": null,
     "metadata": {},
     "output_type": "execute_result"
    }
   ],
   "source": [
    "can_filters = [{'can_id': xcp_calib.config.upload_can_id, 'can_mask': 0x7FF}]\n",
    "can_specs = ScapyCANSpecs(can_type='NATIVE', \n",
    "                        bus_type='VIRTUAL', \n",
    "                        channel_serial_number=0,\n",
    "                        can_id=630,\n",
    "                        can_filters=can_filters,\n",
    "                        bit_rate=500_000,\n",
    "                        time_out=1.0,\n",
    "                        station_address=0x00,\n",
    "                        cntr=0,\n",
    "                        receive_own_messages=True,\n",
    "                        download_upload=True\n",
    "                        )\n",
    "can_specs\n",
    "can_specs.model_dump()"
   ]
  },
  {
   "cell_type": "code",
   "execution_count": null,
   "metadata": {},
   "outputs": [],
   "source": [
    "#| export\n",
    "def downlod_calib_data2(xcp_calib: XCPCalib, \n",
    "                        can_type: str='NATIVE', \n",
    "                        bus_type: str='VIRTUAL', \n",
    "                        bit_rate: int=500_000, \n",
    "                        timeout: float=1.0,\n",
    "                        station_address: int = 0x00,\n",
    "                        diff_flashing: bool=False):\n",
    "    \"\"\"Summary\n",
    "    Download XCP calibration data to target use scapy_can_context\n",
    "\n",
    "    Args:\n",
    "        xcp_calib (XCPCalib): XCP calibration  to be downloaded into the target\n",
    "        diff_flashing (bool): Use differential flashing\n",
    "    \"\"\"\n",
    "    # init counter\n",
    "    cntr = 0\n",
    "\n",
    "    can_filters = [{'can_id': xcp_calib.config.upload_can_id, 'can_mask': 0x7FF}]\n",
    "    can_specs = ScapyCANSpecs(can_type=can_type,\n",
    "                            bus_type=bus_type,\n",
    "                            channel_serial_number=xcp_calib.config.channel,\n",
    "                            can_id=xcp_calib.config.download_can_id,\n",
    "                            can_filters=can_filters,\n",
    "                            bit_rate=bit_rate,\n",
    "                            time_out=timeout,\n",
    "                            station_address=station_address,\n",
    "                            cntr=cntr,\n",
    "                            download_upload=True,  # CCP Download mode\n",
    "                            receive_own_messages=True\n",
    "                            )\n",
    "    try:\n",
    "        with can_context(can_specs=can_specs) as sock:\n",
    "            for d in xcp_calib.data:\n",
    "                # SET_MTA\n",
    "                with SET_MTA_context(can_specs=can_specs, sock=sock, data=d) as dto:\n",
    "                    assert dto.return_code==0x00, f\"SET_MTA failed for {d.name} at {d.address}\"\n",
    "                    # Determine message tiling\n",
    "                    len_in_bytes = d.type_size * d.dim[0] * d.dim[1]\n",
    "                    assert len_in_bytes == len(d.value_bytes)\n",
    "                    tile_size = 6  # 6 bytes per tile as defined in CCP for DNLOAD_6\n",
    "                    tiles = len_in_bytes //tile_size \n",
    "                    last_tile = len_in_bytes % tile_size\n",
    "                    # Download full size tiles with DNLOAD_6\n",
    "                    for i in range(tiles):\n",
    "                        start_index = i*tile_size\n",
    "                        with XLOAD_context(can_specs=can_specs, sock=sock, data=d, start_index=start_index, tile_size=tile_size) as dto:\n",
    "                            assert dto.return_code == 0x00, f\"DNLOAD_6 failed at tile: {i}\"\n",
    "\n",
    "                    start_index = tiles * tile_size\n",
    "                    with XLOAD_context(can_specs=can_specs, sock=sock, data=d, start_index=start_index, tile_size=last_tile) as dto:\n",
    "                        assert dto.return_code == 0x00, f\"DNLOAD failed at last tile: {i} of size {last_tile}\"\n",
    "    except Exception as e:\n",
    "        print(e)"
   ]
  },
  {
   "cell_type": "code",
   "execution_count": null,
   "metadata": {},
   "outputs": [
    {
     "data": {
      "text/plain": [
       "XCPCalib(config=XCPConfig(channel=0, download_can_id=630, upload_can_id=631), data=[{   'address': '7000aa2a',\n",
       "    'dim': [14, 17],\n",
       "    'name': 'TQD_trqTrqSetNormal_MAP_v',\n",
       "    'type_size': 4,\n",
       "    'value': '0000000025...344',\n",
       "    'value_array_view': array([[    0.   ,  1135.317,  1135.317, ...,  4436.   ,  4436.   ,\n",
       "         4436.   ],\n",
       "       [    0.   ,   148.09 ,   148.09 , ...,  4436.   ,  4436.   ,\n",
       "         4436.   ],\n",
       "       [-1338.534,  -833.344,  -328.155, ...,  4436.   ,  4436.   ,\n",
       "         4436.   ],\n",
       "       ...,\n",
       "       [-1316.842, -1086.408,  -855.974, ...,  2034.368,  2034.368,\n",
       "         2034.368],\n",
       "       [-1141.171,  -926.042,  -710.912, ...,  1859.521,  1859.521,\n",
       "         1859.521],\n",
       "       [ -286.008,  -135.973,    14.062, ...,  1690.249,  1690.249,\n",
       "         1690.249]], dtype=float32),\n",
       "    'value_bytes': b'\\x00\\x00\\x00\\x00%\\xea\\x8dD%\\xea\\x8dD%\\xea\\x8dD%\\xea\\x8dD'\n",
       "                   b'\\xdb4\\x95D\\xb3\\x1e\\xb6D\\x8c\\x08\\xd7Dd\\xf2\\xf7D\\x1en\\x0cE'\n",
       "                   b'\\x81\\x1d%E\\xe3\\xcc=EF|VE\\x85\\xed\\x83E\\x00\\xa0\\x8aE'\n",
       "                   b'\\x00\\xa0\\x8aE\\x00\\xa0\\x8aE\\x00\\x00\\x00\\x00\\xed\\x16\\x14C'\n",
       "                   b'\\xed\\x16\\x14CN\\xba\\x8dC\\x1ay\\x1eD\\xcbL`D>\\x10\\x91D'\n",
       "                   b'\\x17\\xfa\\xb1D\\xef\\xe3\\xd2D\\xc8\\xcd\\xf3DF\\x96\\x12E\\xa9E+E'\n",
       "                   b'\\x0b\\xf5CE\\xd0SuE\\x00\\xa0\\x8aE\\x00\\xa0\\x8aE\\x00\\xa0\\x8aE'\n",
       "                   b'\\x14Q\\xa7\\xc4\\x0bVP\\xc4\\xdd\\x13\\xa4\\xc3\\xb8\\x081C'\n",
       "                   b'M\\xa9\\xf9CV%AD\\x84|\\x81D\\\\f\\xa2D5P\\xc3D\\r:\\xe4Di\\xcc\\nE'\n",
       "                   b'\\xcb{#E.+<E\\xf3\\x89mE\\x00\\xa0\\x8aE\\x00\\xa0\\x8aE'\n",
       "                   b'\\x00\\xa0\\x8aE\\xff\\xfc\\x0f\\xc5\\xa4\\xfc\\xd0\\xc4K\\xff\\x81\\xc4'\n",
       "                   b'\\xc8\\x07\\xcc\\xc39\\xdb_Cv\\xa0\\tD\\xf8\\xd7GD\\xbd\\x07\\x83D'\n",
       "                   b'\\x7f#\\xa2D@?\\xc1D\\xe2\\xe8\\xefDBI\\x0fE\\x13\\x9e&E\\xb5GUE'\n",
       "                   b'\\xab\\xf8\\x81E\\x00\\xa0\\x8aE\\x00\\xa0\\x8aEw\\x1f\\r\\xc5'\n",
       "                   b'\\x9fj\\xda\\xc4Q\\x96\\x9a\\xc4\\x07\\x845\\xc4\\xabmW\\xc3'\n",
       "                   b'b\\x9a\\x93C\\xeb\\x8d\\x18D?)SDJ\\xe2\\x86D\\xf4/\\xa4Dt$\\xd0D'\n",
       "                   b'\\xf3\\x18\\xfcD\\xb9\\x06\\x14E9\\xfb?E\\xb8\\xefkE\\x00\\xa0\\x8aE'\n",
       "                   b'\\x00\\xa0\\x8aEH>\\t\\xc5\\x1d\\xd0\\xdc\\xc4\\xa9#\\xa7\\xc4'\n",
       "                   b'l\\xeeb\\xc4\\n+\\xef\\xc3\\xdc\\xc9C\\xc2\\x938\\xbeC\\xbe\\x14)D'\n",
       "                   b'\\xe4\\x13`D\\x85\\x89\\x8bD\\xe1\\xc8\\xb4D>\\x08\\xdeD'\n",
       "                   b'\\xcd\\xa3\\x03E*\\xe3,E\\x86\"VE\\xe3a\\x7fE\\x00\\xa0\\x8aE'\n",
       "                   b'sY\\x04\\xc5\\xaa$\\xda\\xc4l\\x96\\xab\\xc4_\\x10z\\xc4'\n",
       "                   b'\\xe5\\xf3\\x1c\\xc4\\xac]\\x7f\\xc3y(\\xeaB\\x12\\xc3\\xf4C'\n",
       "                   b'\\xff\\x0b>D\\xf7nqD\\xb5A\\x9fD\\xef\\xcb\\xc5D(V\\xecDN\\xb5\\x1cE'\n",
       "                   b'\\x87?CE\\xc1\\xc9iE\\xf17\\x83E\\xef\\xe1\\xfc\\xc4'\n",
       "                   b'\\xba\\xc2\\xd3\\xc4\\x85\\xa3\\xaa\\xc4O\\x84\\x81\\xc44\\xca0\\xc4'\n",
       "                   b'\\x91\\x17\\xbd\\xc3\\xdd\\xd5D\\xc2\\x1a\\xe2\\x8bCx/\\x18D'\n",
       "                   b'\\xd5\\xcaTD\\x82:\\x8eD\\x99\\x0f\\xb2D\\xb0\\xe4\\xd5Do\\xc7\\x0eE'\n",
       "                   b'\\x86\\x9c2E\\x9eqVE\\xd5,WE\\xab\\t\\xef\\xc4\\xbe\\r\\xca\\xc4'\n",
       "                   b'\\xd1\\x11\\xa5\\xc4\\xe3\\x15\\x80\\xc4\\xeb36\\xc4!x\\xd8\\xc3'\n",
       "                   b'\\xd8\\x10\\t\\xc3\\x93\\xce\\x1eC\\xffV\\xe3CZ\\xa3;D\\x99\\xf0\\x82D'\n",
       "                   b'\\x8d\\x10\\xa4D\\x810\\xc5D5\\xb8\\x03E)\\xd8$EvB5EvB5E'\n",
       "                   b'\\x1a*\\xdf\\xc4\\x84l\\xbc\\xc4\\xee\\xae\\x99\\xc4\\xb0\\xe2m\\xc4'\n",
       "                   b'\\x84g(\\xc4\\xaf\\xd8\\xc5\\xc3[\\x89\\xeb\\xc2\\x03( CZ\\n\\xdbC'\n",
       "                   b'Y\\x003D\\x85{xD\\x94\\xa8\\x9aDe\\x13\\xb9D\\x08\\xe9\\xf5DU_\\x19E'\n",
       "                   b'\\x15G\\x1eE\\x15G\\x1eE<C\\xcd\\xc4\\xc4\\xf8\\xac\\xc4'\n",
       "                   b'M\\xae\\x8c\\xc4\\xab\\xc7X\\xc4\\xbc2\\x18\\xc4\\x9b;\\xaf\\xc3'\n",
       "                   b'\\xf6F\\xb8\\xc2@0&C\\xfdA\\xd4C\\xee\\xb5*D\\xdcJkD\\xcc\\xe6\\x96D'\n",
       "                   b'{\\x9c\\xb2D\\xd8\\x07\\xeaD\\xef&\\x0eE\\xef&\\x0eE\\xef&\\x0eE'\n",
       "                   b'\\xf4\\x9a\\xa4\\xc4\\x0f\\xcd\\x87\\xc4U\\xfeU\\xc4\\x8cb\\x1c\\xc4'\n",
       "                   b'\\x86\\x8d\\xc5\\xc3\\xe8\\xab$\\xc3y\\x86\\x83B0\\x19\\x94C'\n",
       "                   b'a\\xa8\\x03D*D=D\\xf3\\xdfvD\\xde=\\x98Dk>\\xb1D\\x83?\\xe3D'\n",
       "                   b'\\xc4K\\xfeD\\xc4K\\xfeD\\xc4K\\xfeD{\\xa5\\x8e\\xc4\\xae\\x82g\\xc4'\n",
       "                   b'f\\xba1\\xc4<\\xe4\\xf7\\xc3\\xacS\\x8c\\xc3p\\x0c\\x83\\xc2'\n",
       "                   b'\\xe8\\x9a\\x15C\\x04^\\xb6CJ\\xf7\\x10D\\x92\\xbfFD\\xda\\x87|D'\n",
       "                   b'\\x11(\\x99D\\x14\\x9a\\xb4D\\xe70\\xe1D\\xabp\\xe8D\\xabp\\xe8D'\n",
       "                   b'\\xabp\\xe8D\\x0b\\x01\\x8f\\xc3)\\xf9\\x07\\xc3Y\\xfc`A\\xb4\\x18$C'\n",
       "                   b'\\xd1\\x10\\x9dCH\\x15\\xe8C\\xe0\\x8c\\x19D\\x1b\\x0f?DW\\x91dD'\n",
       "                   b'\\xc9\\t\\x85D\\xe7\\xca\\x97D\\x05\\x8c\\xaaD\"M\\xbdD\\xf6G\\xd3D'\n",
       "                   b'\\xf6G\\xd3D\\xf6G\\xd3D\\xf6G\\xd3D',\n",
       "    'value_length': 4,\n",
       "    'value_type': 'FLOAT32_IEEE'}])"
      ]
     },
     "execution_count": null,
     "metadata": {},
     "output_type": "execute_result"
    }
   ],
   "source": [
    "xcp_calib.config.channel = 0\n",
    "xcp_calib"
   ]
  },
  {
   "cell_type": "code",
   "execution_count": null,
   "metadata": {},
   "outputs": [
    {
     "name": "stdout",
     "output_type": "stream",
     "text": [
      "Begin emission:\n",
      "Finished sending 1 packets.\n",
      ".\n",
      "Received 1 packets, got 0 answers, remaining 1 packets\n",
      "Failed to connect to target, timeout=1.0 seconds\n"
     ]
    }
   ],
   "source": [
    "downlod_calib_data2(xcp_calib, can_type='NATIVE', bus_type='VIRTUAL', bit_rate=500_000, timeout=1.0, station_address=0x00, diff_flashing=False)"
   ]
  },
  {
   "cell_type": "code",
   "execution_count": null,
   "metadata": {},
   "outputs": [],
   "source": [
    "#| export\n",
    "def upload_calib_data2(xcp_calib: XCPCalib, \n",
    "                        can_type: str='NATIVE', \n",
    "                        bus_type: str='VIRTUAL', \n",
    "                        bit_rate: int=500_000, \n",
    "                        timeout: float=1.0,\n",
    "                        station_address: int = 0x00,\n",
    "                        diff_flashing: bool=False):\n",
    "\n",
    "    \"\"\"Summary\n",
    "    Upload XCP calibration data from target to host, the result will update the xcp_calib.data field\n",
    "\n",
    "    Args:\n",
    "        xcp_calib (XCPCalib): XCP calibration  to be uploaded from the target to host\n",
    "        diff_flashing (bool): Use differential flashing\n",
    "    \"\"\"\n",
    "\n",
    "    # init counter\n",
    "    cntr = 0\n",
    "\n",
    "    can_filters = [{'can_id': xcp_calib.config.upload_can_id, 'can_mask': 0x7FF}]\n",
    "    can_specs = ScapyCANSpecs(can_type=can_type,\n",
    "                            bus_type=bus_type,\n",
    "                            channel_serial_number=xcp_calib.config.channel,\n",
    "                            can_id=xcp_calib.config.download_can_id,\n",
    "                            can_filters=can_filters,\n",
    "                            bit_rate=bit_rate,\n",
    "                            time_out=timeout,\n",
    "                            station_address=station_address,\n",
    "                            cntr=cntr,\n",
    "                            receive_own_messages=True,\n",
    "                            download_upload=False  # CCP Upload mode\n",
    "                            )\n",
    "    try:\n",
    "        with can_context(can_specs=can_specs) as sock:\n",
    "            for d in xcp_calib.data:\n",
    "                # SET_MTA\n",
    "                with SET_MTA_context(can_specs=can_specs, sock=sock, data=d) as dto:\n",
    "                    assert dto.return_code==0x00, f\"SET_MTA failed for {d.name} at {d.address}\"\n",
    "\n",
    "                    # Determine message tiling\n",
    "                    len_in_bytes = d.type_size * d.dim[0] * d.dim[1]\n",
    "                    # assert len_in_bytes == len(d.value_bytes)\n",
    "                    tile_size = 5\n",
    "                    tiles = len_in_bytes // tile_size \n",
    "                    last_tile = len_in_bytes % tile_size\n",
    "\n",
    "                    # Upload tiles with tile_size (maximal 5 as defined by CCP） bytes with UPLOAD\n",
    "                    ba_uploaded = bytearray()\n",
    "                    for i in range(tiles):\n",
    "                        with XLOAD_context(can_specs=can_specs, sock=sock, data=d, start_index=i*tile_size, tile_size=tile_size) as upload_dto:\n",
    "                            assert upload_dto.return_code == 0x00, f\"UPLOAD failed at tile: {i}\"\n",
    "                            ba_uploaded += upload_dto.data\n",
    "\n",
    "\n",
    "                    with XLOAD_context(can_specs=can_specs, sock=sock, data=d, start_index=i*tile_size, tile_size=last_tile) as upload_dto:\n",
    "                        assert upload_dto.return_code == 0x00, f\"UPLOAD failed at tile: {i}\"\n",
    "                        ba_uploaded += upload_dto.data\n",
    "                        ba_uploaded += upload_dto.data\n",
    "\n",
    "                    d.value = ba_uploaded.hex()\n",
    "    except Exception as e:\n",
    "       print(e)\n"
   ]
  },
  {
   "cell_type": "markdown",
   "metadata": {},
   "source": [
    "# Release CAN device"
   ]
  },
  {
   "cell_type": "code",
   "execution_count": null,
   "metadata": {},
   "outputs": [
    {
     "name": "stderr",
     "output_type": "stream",
     "text": [
      "SSHPASS: searching for password prompt using match \"assword\"\n",
      "SSHPASS: read: [sudo] password for n: \n",
      "SSHPASS: detected prompt. Sending password.\n",
      "SSHPASS: read: \n",
      "\n"
     ]
    },
    {
     "data": {
      "text/plain": [
       "0"
      ]
     },
     "execution_count": null,
     "metadata": {},
     "output_type": "execute_result"
    }
   ],
   "source": [
    "\n",
    "# close and remove vcan0\n",
    "# !sshpass -v -p  asdf sudo ip link delete vcan0 \n",
    "\n",
    "os.system(\"gpg -d -q ~/.sshpasswd.gpg | sshpass -v sudo ip link set down vcan0\")"
   ]
  },
  {
   "cell_type": "code",
   "execution_count": null,
   "metadata": {},
   "outputs": [
    {
     "name": "stderr",
     "output_type": "stream",
     "text": [
      "SSHPASS: searching for password prompt using match \"assword\"\n",
      "SSHPASS: read: [sudo] password for n: \n",
      "SSHPASS: detected prompt. Sending password.\n",
      "SSHPASS: read: \n",
      "\n"
     ]
    },
    {
     "data": {
      "text/plain": [
       "0"
      ]
     },
     "execution_count": null,
     "metadata": {},
     "output_type": "execute_result"
    }
   ],
   "source": [
    "\n",
    "# delete vcan0\n",
    "os.system(\"gpg -d -q ~/.sshpasswd.gpg | sshpass -v sudo ip link delete vcan0\")"
   ]
  },
  {
   "cell_type": "code",
   "execution_count": null,
   "metadata": {},
   "outputs": [],
   "source": []
  },
  {
   "cell_type": "code",
   "execution_count": null,
   "metadata": {},
   "outputs": [],
   "source": [
    "#| export\n",
    "if __name__ == \"__main__\" and \"__file__\" in globals():  # only run if this file is called directly\n",
    "\n",
    "    protocol = inquirer.select(\n",
    "        message=\"What's the protocol?\",\n",
    "        choices=[\n",
    "            Choice(value=\"ccp\", name=\"CCP\"),\n",
    "            Choice(value=\"xcp\", name=\"XCP\"),\n",
    "        ],\n",
    "        default=\"ccp\",\n",
    "    ).execute()\n",
    "\n",
    "    download = inquirer.confirm(\n",
    "        message=\"Downloading(host->target)?\",\n",
    "        confirm_letter=\"y\",\n",
    "        reject_letter=\"n\",\n",
    "        default=True,\n",
    "    ).execute()\n",
    "\n",
    "    differential_flashing = inquirer.confirm(\n",
    "        message=\"Differential Flashing?\",\n",
    "        confirm_letter=\"y\",\n",
    "        reject_letter=\"n\",\n",
    "        default=False,\n",
    "    ).execute()\n",
    "\n",
    "    a2l_file_path = inquirer.text(\n",
    "        message=\"a2l file path\",\n",
    "        validate=EmptyInputValidator(),\n",
    "        default='/res/vbu_ai.json'\n",
    "    ).execute()\n",
    "\n",
    "    # node_path = inquirer.text(\n",
    "    #     message=\"node path\",\n",
    "    #     validate=EmptyInputValidator(),\n",
    "    # \tdefault=r\"/PROJECT/MODULE[]\",\n",
    "    # ).execute()\n",
    "\n",
    "    # leaves = inquirer.text(\n",
    "    #     message=\"leaves\",\n",
    "    #     validate=EmptyInputValidator(),\n",
    "    # \tdefault=r\"TQD_trqTrqSetNormal_MAP_v, VBU_L045A_CWP_05_09T_AImode_CM_single, Lookup2D_FLOAT32_IEEE, Lookup2D_X_FLOAT32_IEEE, Scalar_FLOAT32_IEEE, TQD_vVehSpd, TQD_vSgndSpd_MAP_y, TQD_pctAccPedPosFlt, TQD_pctAccPdl_MAP_x\"\n",
    "    # ).execute()\n",
    "\n",
    "    can_channel = inquirer.number(\n",
    "        message=\"CAN channel for flashing\",\n",
    "        min_allowed=0,\n",
    "        max_allowed=32,\n",
    "        validate=EmptyInputValidator(),\n",
    "        default=3,\n",
    "    ).execute()\n",
    "\n",
    "    download_id = inquirer.number(\n",
    "        message=\"CAN ID for downloading\",\n",
    "        min_allowed=0,\n",
    "        max_allowed=9999,\n",
    "        validate=EmptyInputValidator(),\n",
    "        default=630,\n",
    "    ).execute()\n",
    "\n",
    "    upload_id = inquirer.number(\n",
    "        message=\"CAN ID for uploading\",\n",
    "        min_allowed=0,\n",
    "        max_allowed=9999,\n",
    "        validate=EmptyInputValidator(),\n",
    "        default=631,\n",
    "    ).execute()\n",
    "\n",
    "    input_file_path = inquirer.text(\n",
    "        message=\"Input file path\",\n",
    "        validate=EmptyInputValidator(),\n",
    "        default=\"/res/download.json\",\n",
    "    ).execute()\n",
    "\n",
    "    output_file_path = inquirer.text(\n",
    "        message=\"Output file path\",\n",
    "        validate=EmptyInputValidator(),\n",
    "        default=\"/res/output.json\",\n",
    "    ).execute()\n",
    "\n",
    "    args = get_argparser().parse_args()\n",
    "    args.protocol = protocol\n",
    "    args.download = download\n",
    "    args.diff_flashing = differential_flashing\n",
    "    # args.a2l = a2l_file_path\n",
    "    # args.node_path = node_path\n",
    "    # args.leaves = leaves\n",
    "    args.channel = can_channel\n",
    "    args.download_id = download_id\n",
    "    args.upload_id = upload_id\n",
    "    args.input = repo.working_dir+input_file_path\n",
    "    args.output = repo.working_dir+output_file_path\n",
    "    pprint(args)\n",
    "\n",
    "    xcp_calib_from_xcpjson = Get_XCPCalib_From_XCPJSon(args.input)\n",
    "    xcp_data = Generate_Init_XCPData_From_A2L(\n",
    "        a2l=args.a2l, keys=args.leaves, node_path=args.node_path\n",
    "    )\n",
    "    try:\n",
    "        XCPData.model_validate(xcp_data)\n",
    "    except ValidationError as exc:\n",
    "        print(exc)\n",
    "\n",
    "    xcp_data.value = xcp_calib_from_xcpjson.data[0].value\n",
    "    pprint(xcp_data)\n",
    "\n",
    "    xcp_calib = XCPCalib(\n",
    "        config=XCPConfig(\n",
    "            channel=args.channel, download=args.download_id, upload=args.upload_id\n",
    "        ),\n",
    "        data=[xcp_data],\n",
    "    )\n",
    "    pprint(xcp_calib)"
   ]
  },
  {
   "cell_type": "code",
   "execution_count": null,
   "metadata": {},
   "outputs": [],
   "source": [
    "#| hide\n",
    "import nbdev; nbdev.nbdev_export()"
   ]
  }
 ],
 "metadata": {
  "kernelspec": {
   "display_name": "python3",
   "language": "python",
   "name": "python3"
  }
 },
 "nbformat": 4,
 "nbformat_minor": 4
}
