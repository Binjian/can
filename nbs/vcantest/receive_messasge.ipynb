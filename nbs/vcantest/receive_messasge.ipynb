{
 "cells": [
  {
   "cell_type": "markdown",
   "metadata": {},
   "source": [
    "# receive_message\n",
    "\n",
    "> Receiving a CAN message from a bus\n",
    "> using the python-can library\n",
    "> testing on vcan interface"
   ]
  },
  {
   "cell_type": "code",
   "execution_count": null,
   "metadata": {},
   "outputs": [],
   "source": [
    "#| default_exp receive_message"
   ]
  },
  {
   "cell_type": "code",
   "execution_count": null,
   "metadata": {},
   "outputs": [],
   "source": [
    "#| hide\n",
    "from __future__ import annotations\n",
    "from nbdev.showdoc import *\n",
    "from fastcore.test import *\n"
   ]
  },
  {
   "cell_type": "code",
   "execution_count": null,
   "metadata": {},
   "outputs": [],
   "source": [
    "from pprint import pprint\n",
    "import subprocess"
   ]
  },
  {
   "cell_type": "code",
   "execution_count": null,
   "metadata": {},
   "outputs": [],
   "source": [
    "#| export\n",
    "import os\n",
    "import signal\n",
    "import time\n",
    "import sys\n",
    "import io\n",
    "from multiprocessing import Event\n",
    "from multiprocessing import synchronize, Manager\n",
    "from multiprocessing.managers import DictProxy\n",
    "from typing import Optional\n",
    "from datetime import datetime\n",
    "import json\n",
    "import argparse"
   ]
  },
  {
   "cell_type": "code",
   "execution_count": null,
   "metadata": {},
   "outputs": [],
   "source": [
    "#| export\n",
    "import can\n",
    "# from can.interface import Bus\n",
    "# from can import Message \n",
    "import cantools\n",
    "from cantools.database import Message as MessageTpl\n",
    "from cantools.database.can.database import Database"
   ]
  },
  {
   "cell_type": "code",
   "execution_count": null,
   "metadata": {},
   "outputs": [],
   "source": [
    "#| export\n",
    "def get_argparser() -> argparse.ArgumentParser:\n",
    "    \"\"\"_summary_ get CAN bus, dbc config and the message to send\n",
    "\n",
    "    Returns:\n",
    "        argparse.ArgumentParser: _description_\n",
    "    \"\"\"\n",
    "\n",
    "    parser = argparse.ArgumentParser(\"Get the CAN Bus channel, bitrate and dbc path\")\n",
    "\n",
    "    parser.add_argument(\n",
    "        \"-t\",\n",
    "        \"--type\",\n",
    "        type=str,\n",
    "        default=\"socketcan\",\n",
    "        help=\"The type of the CAN bus\",\n",
    "    )\n",
    "\n",
    "    parser.add_argument(\n",
    "        \"-c\",\n",
    "        \"--channel\",\n",
    "        type=str,\n",
    "        default=\"vcan1\",\n",
    "        help=\"The CAN bus channel to connect to\",\n",
    "    )\n",
    "\n",
    "    parser.add_argument(\n",
    "        \"-b\", \"--bitrate\", type=int, default=250000, help=\"The bitrate of the CAN bus\"\n",
    "    )\n",
    "\n",
    "    parser.add_argument(\n",
    "        \"-d\",\n",
    "        \"--dbc\",\n",
    "        type=str,\n",
    "        default=\"../res/motohawk_new.dbc\",\n",
    "        help=\"The path to the dbc file\",\n",
    "    )\n",
    "\n",
    "    parser.add_argument(\n",
    "        \"-m\",\n",
    "        \"--message\",\n",
    "        type=str,\n",
    "        default=\"ExampleMessage\",\n",
    "        help=\"The message to send\",\n",
    "    )\n",
    "\n",
    "    parser.add_argument(\n",
    "        \"-e\",\n",
    "        \"--extended\",\n",
    "        action=\"store_true\",\n",
    "        help=\"If the arbitration id is extended\",\n",
    "    )\n",
    "\n",
    "    return parser\n"
   ]
  },
  {
   "cell_type": "code",
   "execution_count": null,
   "metadata": {},
   "outputs": [
    {
     "data": {
      "text/plain": [
       "[message('ExampleMessage', 0x1f0, False, 8, {None: 'Example message used as template in MotoHawk models.'}),\n",
       " message('NewMessage', 0x254, False, 8, {None: 'self made message'})]"
      ]
     },
     "execution_count": null,
     "metadata": {},
     "output_type": "execute_result"
    },
    {
     "name": "stdout",
     "output_type": "stream",
     "text": [
      "[signal('Enable', 7, 1, 'big_endian', False, None, 1, 0, None, None, '-', False, None, {0: 'Disabled', 1: 'Enabled'}, None, None),\n",
      " signal('AverageRadius', 6, 6, 'big_endian', False, None, 0.1, 0, 0, 5, 'm', False, None, None, None, None),\n",
      " signal('Temperature', 0, 12, 'big_endian', True, None, 0.01, 250, 229.52, 270.47, 'degK', False, None, None, None, None)]\n"
     ]
    },
    {
     "data": {
      "text/plain": [
       "496"
      ]
     },
     "execution_count": null,
     "metadata": {},
     "output_type": "execute_result"
    }
   ],
   "source": [
    "db = cantools.database.load_file('../res/motohawk_new.dbc')\n",
    "db.messages\n",
    "example_message: MessageTpl = db.get_message_by_name('ExampleMessage')\n",
    "pprint(example_message.signals)\n",
    "# pprint(example_message.__dict__)\n",
    "example_message.frame_id"
   ]
  },
  {
   "cell_type": "code",
   "execution_count": null,
   "metadata": {},
   "outputs": [
    {
     "name": "stdout",
     "output_type": "stream",
     "text": [
      "SSHPASS: searching for password prompt using match \"assword\"\n",
      "SSHPASS: read: [sudo] password for n: \n",
      "SSHPASS: detected prompt. Sending password.\n"
     ]
    },
    {
     "name": "stdout",
     "output_type": "stream",
     "text": [
      "SSHPASS: read: \n",
      "\n",
      "SSHPASS: searching for password prompt using match \"assword\"\n",
      "SSHPASS: read: [sudo] password for n: \n",
      "SSHPASS: detected prompt. Sending password.\n",
      "SSHPASS: read: \n",
      "\n",
      "SSHPASS: read: RTNETLINK answers: File exists\n",
      "\n",
      "42: vcan0: <NOARP,UP,LOWER_UP> mtu 72 qdisc noqueue state UNKNOWN mode DEFAULT group default qlen 1000\n",
      "    link/can \n",
      "SSHPASS: searching for password prompt using match \"assword\"\n",
      "SSHPASS: read: [sudo] password for n: \n",
      "SSHPASS: detected prompt. Sending password.\n",
      "SSHPASS: read: \n",
      "\n"
     ]
    }
   ],
   "source": [
    "!gpg -d -q ~/.sshpasswd.gpg | sshpass -v sudo modprobe vcan\n",
    "!gpg -d -q ~/.sshpasswd.gpg | sshpass -v sudo ip link add dev vcan0 type vcan\n",
    "# sshpass -v -p asdf sudo ip link add dev vcan0 type vcan\n",
    "!ip link show vcan0\n",
    "# !gpg -d -q ~/.sshpasswd.gpg | sshpass -v sudo ip link set vcan0 type vcan bitrate 500000  # vcan Does not SUPPORT set bitrate on command line!\n",
    "# !sshpass -p asdf sudo ip link add dev vcan0 type vcan\n",
    "!gpg -d -q ~/.sshpasswd.gpg | sshpass -v sudo ip link set up vcan0\n",
    "# !sshpass -v -p asdf sudo ip link set up vcan0"
   ]
  },
  {
   "cell_type": "code",
   "execution_count": null,
   "metadata": {},
   "outputs": [
    {
     "data": {
      "text/plain": [
       "b'{\"Temperature\": 250.1, \"AverageRadius\": 3.2, \"Enable\": 1}'"
      ]
     },
     "execution_count": null,
     "metadata": {},
     "output_type": "execute_result"
    },
    {
     "data": {
      "text/plain": [
       "{'Temperature': 250.1, 'AverageRadius': 3.2, 'Enable': 1}"
      ]
     },
     "execution_count": null,
     "metadata": {},
     "output_type": "execute_result"
    },
    {
     "data": {
      "text/plain": [
       "{'Enable': 'Enabled', 'AverageRadius': 3.2, 'Temperature': 250.1}"
      ]
     },
     "execution_count": null,
     "metadata": {},
     "output_type": "execute_result"
    }
   ],
   "source": [
    "data_dict ={'Temperature': 250.1, 'AverageRadius': 3.2, 'Enable': 1}\n",
    "data_json_bytes = json.dumps(data_dict).encode('utf-8')\n",
    "data_json_bytes\n",
    "json.loads(data_json_bytes.decode())\n",
    "\n",
    "can_data = example_message.encode({'Temperature': 250.1, 'AverageRadius': 3.2, 'Enable': 1})\n",
    "example_message.decode(can_data)"
   ]
  },
  {
   "cell_type": "code",
   "execution_count": null,
   "metadata": {},
   "outputs": [],
   "source": [
    "f = io.BytesIO(data_json_bytes)"
   ]
  },
  {
   "cell_type": "code",
   "execution_count": null,
   "metadata": {},
   "outputs": [],
   "source": [
    "bus = can.interface.Bus(bustype='socketcan', channel='vcan0', bitrate=250000)\n",
    "data = example_message.encode({'Temperature': 250.1, 'AverageRadius': 3.2, 'Enable': 1})\n",
    "message_to_send = can.Message(arbitration_id=example_message.frame_id, data=data, is_extended_id=False) \t\n",
    "# can_bus.send(message)"
   ]
  },
  {
   "cell_type": "code",
   "execution_count": null,
   "metadata": {},
   "outputs": [],
   "source": [
    "manager = Manager()\n",
    "message_proxy = manager.dict()"
   ]
  },
  {
   "cell_type": "code",
   "execution_count": null,
   "metadata": {},
   "outputs": [],
   "source": [
    "#| export\n",
    "def receive_msg(db:Database, message:str, channel:str, bitrate:int, bus_type: str) -> dict:\n",
    "\n",
    "    print('Receiving message')\n",
    "    with can.interface.Bus(bustype=bus_type, channel=channel, bitrate=bitrate) as bus:\n",
    "        msg:Message = bus.recv()\n",
    "    print('Received message')\n",
    "\n",
    "    return {'timestamp': datetime.fromtimestamp(msg.timestamp),\n",
    "            'payload': db.decode_message(msg.arbitration_id,msg.data)\n",
    "            }\n"
   ]
  },
  {
   "cell_type": "code",
   "execution_count": null,
   "metadata": {},
   "outputs": [],
   "source": []
  },
  {
   "cell_type": "code",
   "execution_count": null,
   "metadata": {},
   "outputs": [],
   "source": [
    "#| hide \n",
    "import nbdev; nbdev.nbdev_export()"
   ]
  },
  {
   "cell_type": "code",
   "execution_count": null,
   "metadata": {},
   "outputs": [],
   "source": [
    "#| export\n",
    "def receive_message(message_proxy: DictProxy,bus: can.interface.Bus)->None:\n",
    "\tprint('waiting for message')\n",
    "\tmsg:Message = bus.recv()\n",
    "\tprint('message received')\n",
    "\tmessage_proxy['timestamp'] = msg.timestamp\n",
    "\tmessage_proxy['arbitration_id'] = msg.arbitration_id\n",
    "\tmessage_proxy['data']=msg.data"
   ]
  },
  {
   "cell_type": "code",
   "execution_count": null,
   "metadata": {},
   "outputs": [
    {
     "data": {
      "text/plain": [
       "'/home/n/devel/anting_remote/eos/tspace/candycan/nbs'"
      ]
     },
     "execution_count": null,
     "metadata": {},
     "output_type": "execute_result"
    }
   ],
   "source": [
    "\n",
    "os.getcwd()"
   ]
  },
  {
   "cell_type": "code",
   "execution_count": null,
   "metadata": {},
   "outputs": [],
   "source": [
    "# proc = subprocess.Popen(['python', 'message_send.py'], stdout=subprocess.PIPE, stderr=subprocess.PIPE, stdin=subprocess.PIPE)\n",
    "# print(f'PARENT: {proc.pid} before signaling child')\n",
    "# sys.stdout.flush()\n",
    "# time.sleep(1)\n"
   ]
  },
  {
   "cell_type": "code",
   "execution_count": null,
   "metadata": {},
   "outputs": [],
   "source": [
    "\n",
    "# receive_message(message_proxy, bus)"
   ]
  },
  {
   "cell_type": "code",
   "execution_count": null,
   "metadata": {},
   "outputs": [],
   "source": [
    "# print(f'PARENT: {proc.pid} signaling child')\n",
    "# sys.stdout.flush()\n",
    "# os.kill(proc.pid, signal.SIGUSR1)\n",
    "# stdout_value = proc.communicate()[0].decode('utf-8')\n",
    "# print(f'stdout: {repr(stdout_value)}')"
   ]
  },
  {
   "cell_type": "code",
   "execution_count": null,
   "metadata": {},
   "outputs": [],
   "source": [
    "# datetime.fromtimestamp(message_proxy['timestamp']),db.decode_message(message_proxy['arbitration_id'],message_proxy['data'])"
   ]
  },
  {
   "cell_type": "code",
   "execution_count": null,
   "metadata": {},
   "outputs": [
    {
     "name": "stdout",
     "output_type": "stream",
     "text": [
      "SSHPASS: searching for password prompt using match \"assword\"\n",
      "SSHPASS: read: [sudo] password for n: \n",
      "SSHPASS: detected prompt. Sending password.\n",
      "SSHPASS: read: \n",
      "\n"
     ]
    }
   ],
   "source": [
    "# close and remove vcan0\n",
    "# !sshpass -v -p  asdf sudo ip link delete vcan0 \n",
    "\n",
    "!gpg -d -q ~/.sshpasswd.gpg | sshpass -v sudo ip link set down vcan0"
   ]
  },
  {
   "cell_type": "code",
   "execution_count": null,
   "metadata": {},
   "outputs": [
    {
     "name": "stdout",
     "output_type": "stream",
     "text": [
      "SSHPASS: searching for password prompt using match \"assword\"\n",
      "SSHPASS: read: [sudo] password for n: \n",
      "SSHPASS: detected prompt. Sending password.\n",
      "SSHPASS: read: \n",
      "\n"
     ]
    }
   ],
   "source": [
    "\n",
    "!gpg -d -q ~/.sshpasswd.gpg | sshpass -v sudo ip link delete vcan0 "
   ]
  },
  {
   "cell_type": "code",
   "execution_count": null,
   "metadata": {},
   "outputs": [],
   "source": [
    "#| export\n",
    "if __name__ == \"__main__\" and \"__file__\" in globals():   # in order to be compatible for both script and notebnook\n",
    "\n",
    "    # print(os.getcwd())\n",
    "    p = get_argparser()\n",
    "    args = p.parse_args()\n",
    "\n",
    "    try:\n",
    "        db: Database = cantools.database.load_file(args.dbc)\n",
    "    except FileNotFoundError as e:\n",
    "        print(f\"File not found: {e}\")\n",
    "\n",
    "\n",
    "    \n",
    "    msg = receive_msg(db=db,\n",
    "                    message=args.message,\n",
    "                    channel=args.channel,\n",
    "                    bitrate=args.bitrate,\n",
    "                    bus_type=args.type\n",
    "                    )\n",
    "    print(msg)\n",
    "    # sys.stdout.flush()\n",
    "\n"
   ]
  },
  {
   "cell_type": "code",
   "execution_count": null,
   "metadata": {},
   "outputs": [],
   "source": [
    "#| hide \n",
    "import nbdev; nbdev.nbdev_export()"
   ]
  }
 ],
 "metadata": {
  "kernelspec": {
   "display_name": "python3",
   "language": "python",
   "name": "python3"
  }
 },
 "nbformat": 4,
 "nbformat_minor": 2
}
