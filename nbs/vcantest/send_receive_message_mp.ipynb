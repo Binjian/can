{
 "cells": [
  {
   "cell_type": "code",
   "execution_count": null,
   "metadata": {},
   "outputs": [],
   "source": [
    "from IPython.core.interactiveshell import InteractiveShell\n",
    "InteractiveShell.ast_node_interactivity = \"all\""
   ]
  },
  {
   "cell_type": "code",
   "execution_count": null,
   "metadata": {},
   "outputs": [],
   "source": [
    "import time\n",
    "import os\n",
    "from multiprocessing import Process, Event\n",
    "from multiprocessing import synchronize, Manager\n",
    "from multiprocessing.managers import DictProxy\n",
    "from typing import Optional\n",
    "# import threading"
   ]
  },
  {
   "cell_type": "code",
   "execution_count": null,
   "metadata": {},
   "outputs": [],
   "source": [
    "import cantools\n",
    "import can\n",
    "# from can import Message\n",
    "from cantools.database import Message\n",
    "from can.interface import Bus  # virtual interface for testing\n",
    "# from can.interfaces.udp_multicast.bus import GeneralPurposeUdpMulticastBus as GPUDPMCBus\n",
    "# from can.interfaces.udp_multicast import UdpMulticastBus"
   ]
  },
  {
   "cell_type": "code",
   "execution_count": null,
   "metadata": {},
   "outputs": [],
   "source": [
    "db = cantools.database.load_file('../res/motohawk_new.dbc')\n",
    "db.messages\n",
    "example_message = db.get_message_by_name('ExampleMessage')\n",
    "example_message.signals\n",
    "# pprint(example_message.__dict__)\n",
    "example_message.frame_id\n",
    "example_message.signal_groups\n",
    "example_message.signal_tree"
   ]
  },
  {
   "cell_type": "code",
   "execution_count": null,
   "metadata": {},
   "outputs": [],
   "source": [
    "!gpg -d -q ~/.sshpasswd.gpg | sshpass -v sudo modprobe vcan"
   ]
  },
  {
   "cell_type": "code",
   "execution_count": null,
   "metadata": {},
   "outputs": [],
   "source": [
    "!gpg -d -q ~/.sshpasswd.gpg | sshpass -v sudo ip link add dev vcan0 type vcan\n",
    "# sshpass -v -p asdf sudo ip link add dev vcan0 type vcan"
   ]
  },
  {
   "cell_type": "code",
   "execution_count": null,
   "metadata": {},
   "outputs": [],
   "source": [
    "!ip link show vcan0"
   ]
  },
  {
   "cell_type": "code",
   "execution_count": null,
   "metadata": {},
   "outputs": [],
   "source": [
    "# !gpg -d -q ~/.sshpasswd.gpg | sshpass -v sudo ip link set vcan0 type vcan bitrate 500000  # vcan Does not SUPPORT set bitrate on command line!\n",
    "# !sshpass -p asdf sudo ip link add dev vcan0 type vcan"
   ]
  },
  {
   "cell_type": "code",
   "execution_count": null,
   "metadata": {},
   "outputs": [],
   "source": [
    "# !gpg -d -q ~/.sshpasswd.gpg | sshpass -v sudo ip link set up vcan0\n",
    "!gpg -d -q ~/.sshpasswd.gpg | sshpass -v sudo ip link set vcan0 up type vcan\n",
    "# !gpg -d -q ~/.sshpasswd.gpg | sshpass -v sudo ip link set vcan0 up type vcan  bitrate 500000  # vcan Does not SUPPORT set bitrate on command line!\n",
    "# !sshpass -v -p asdf sudo ip link set up vcan0"
   ]
  },
  {
   "cell_type": "code",
   "execution_count": null,
   "metadata": {},
   "outputs": [],
   "source": [
    "bus = Bus(bustype='socketcan', channel='vcan0', bitrate=250000) # interface='virtual'\n",
    "# bus = GPUDPMCBus(group=UdpMulticastBus.DEFAULT_GROUP_IPv6, port=43113, hop_limit=1)\n",
    "# bus = UdpMulticastBus(group=UdpMulticastBus.DEFAULT_GROUP_IPv6)\n",
    "data = example_message.encode({'Temperature': 250.1, 'AverageRadius': 3.2, 'Enable': 1})\n",
    "message_to_send = can.Message(arbitration_id=example_message.frame_id, data=data, is_extended_id=False) \t\n",
    "message_to_send\n",
    "bus\n",
    "bus.fileno()\n",
    "# bus.protocol\n",
    "message_to_send.data\n",
    "message_to_send.arbitration_id\n"
   ]
  },
  {
   "cell_type": "code",
   "execution_count": null,
   "metadata": {},
   "outputs": [],
   "source": [
    "manager = Manager()\n",
    "message_proxy = manager.dict()"
   ]
  },
  {
   "cell_type": "code",
   "execution_count": null,
   "metadata": {},
   "outputs": [],
   "source": [
    "# def receive_message(message_proxy: DictProxy, bus_channel:str='vcan0', bitrate:int=25000):\n",
    "def receive_message(message_proxy: DictProxy, bus:Bus):\n",
    "\tprint('entering receive subprocess')\n",
    "\t# bus = Bus(bustype='socketcan', channel=bus_channel, bitrate=bitrate)\n",
    "\t# os.setsid()\n",
    "\tprint(f'bus: {bus.fileno()} {bus}')\n",
    "\tmsg:Message = bus.recv()\n",
    "\tprint(f'message received: {msg}')\n",
    "\tmessage_proxy['timestamp'] = msg.timestamp\n",
    "\tmessage_proxy['arbitration_id'] = msg.arbitration_id\n",
    "\tmessage_proxy['data']=msg.data"
   ]
  },
  {
   "cell_type": "code",
   "execution_count": null,
   "metadata": {},
   "outputs": [],
   "source": [
    "# def send_message(message: can.Message, done: synchronize.Event, bus_channel:str='vcan0', bitrate:int=25000, timeout: Optional[float]=None)->None:\n",
    "def send_message(message: can.Message, done: synchronize.Event, bus:Bus, timeout: Optional[float]=None)->None:\n",
    "\tprint(\"entering send subprocess\")\n",
    "\t# os.setsid()  # create new process group, become session leader, otherwise a process in a same session could not receive signal from the main process\n",
    "\tos.setpgrp()\n",
    "\tprint((os.getpid(), os.getsid(os.getpid())))\n",
    "\t# bus = Bus(bustype='socketcan', channel=bus_channel, bitrate=bitrate)\n",
    "\tprint(f'bus: {bus.fileno()}, {bus}')\n",
    "\tbus.send(message)\n",
    "\tprint('message sent and waiting')\n",
    "\tstart = time.time_ns()\n",
    "\tdone.wait()\n",
    "\telapsed = (time.time_ns()-start)//1e6\n",
    "\tprint(f'elapsed time: {elapsed:.3f}ms')"
   ]
  },
  {
   "cell_type": "code",
   "execution_count": null,
   "metadata": {},
   "outputs": [],
   "source": [
    "\n",
    "os.getcwd()\n",
    "bus.fileno()\n",
    "bus\n",
    "os.getpid(),os.getsid(os.getpid())"
   ]
  },
  {
   "cell_type": "code",
   "execution_count": null,
   "metadata": {},
   "outputs": [],
   "source": [
    "# shm = shared_memory.SharedMemory(create=True, size=1024)\t"
   ]
  },
  {
   "cell_type": "code",
   "execution_count": null,
   "metadata": {},
   "outputs": [],
   "source": [
    "# def send_message_wrapper(message: Message, bus: Bus)->None:\n",
    "timeout = None\n",
    "done = Event()\n",
    "# message_to_send\n",
    "print(\"before\")\n",
    "process_send = Process(target=send_message, name=\"Sending CAN messasge\", args=(message_to_send, done, bus))\n",
    "# process_send.start()\n",
    "# process_send.pid, process_send\n",
    "# message_to_send"
   ]
  },
  {
   "cell_type": "code",
   "execution_count": null,
   "metadata": {},
   "outputs": [],
   "source": [
    "# receive_message(message_proxy, bus)\n",
    "# process_receive = Process(target=receive_message, name=\"Receiving CAN message\", args=(message_proxy,bus))\n",
    "# process_receive.start()\n",
    "# process_receive"
   ]
  },
  {
   "cell_type": "code",
   "execution_count": null,
   "metadata": {},
   "outputs": [],
   "source": [
    "done.set()"
   ]
  },
  {
   "cell_type": "code",
   "execution_count": null,
   "metadata": {},
   "outputs": [],
   "source": [
    "# process_send"
   ]
  },
  {
   "cell_type": "code",
   "execution_count": null,
   "metadata": {},
   "outputs": [],
   "source": [
    "# datetime.fromtimestamp(message_proxy['timestamp']),db.decode_message(message_proxy['arbitration_id'],message_proxy['data'])"
   ]
  },
  {
   "cell_type": "code",
   "execution_count": null,
   "metadata": {},
   "outputs": [],
   "source": [
    "# Process(target=receive_message, args=(message_proxy, bus, done, timeout)).start()"
   ]
  },
  {
   "cell_type": "code",
   "execution_count": null,
   "metadata": {},
   "outputs": [],
   "source": [
    "# try:\n",
    "# \trecv_message = Message(arbitration_id=recv_message_proxy['arbitration_id'], data=recv_message_proxy['data'], is_extended_id=False)\n",
    "# except KeyError:\n",
    "# \tprint('KeyError')"
   ]
  },
  {
   "cell_type": "code",
   "execution_count": null,
   "metadata": {},
   "outputs": [],
   "source": [
    "# message = bus.recv(timeout=2)\n",
    "# if message is not None:\n",
    "# \tmessage = can.Message(arbitration_id=example_message.frame_id, data=data, is_extended_id=False) \t\n",
    "# \tdb.decode_message(message.arbitration_id, message.data)\n",
    "# else:\n",
    "# \tprint('no message received')"
   ]
  },
  {
   "cell_type": "code",
   "execution_count": null,
   "metadata": {},
   "outputs": [],
   "source": [
    "# done.set()"
   ]
  },
  {
   "cell_type": "code",
   "execution_count": null,
   "metadata": {},
   "outputs": [],
   "source": [
    "# import time\n",
    "# import can\n",
    "# from can.interfaces.udp_multicast import UdpMulticastBus\n",
    "\n",
    "# # The bus can be created using the can.Bus wrapper class or using UdpMulticastBus directly\n",
    "# with can.Bus(channel=UdpMulticastBus.DEFAULT_GROUP_IPv4, interface='udp_multicast') as bus_1:\n",
    "                \n",
    "# \t# bus_2 = can.Bus(channel=UdpMulticastBus.DEFAULT_GROUP_IPv6, interface='udp_multicast')\n",
    "# \tbus_2 = UdpMulticastBus(channel=UdpMulticastBus.DEFAULT_GROUP_IPv4)\n",
    "\n",
    "#     # register a callback on the second bus that prints messages to the standard out\n",
    "# \tnotifier = can.Notifier(bus_2, [can.Printer()])\n",
    "\t\n",
    "# \tmessage = can.Message(arbitration_id=0x123, data=[1, 2, 3])\n",
    "# \tbus_1.send(message)\n",
    "# \t# time.sleep(2.0)\n",
    "# \t# notifier\n",
    "# \t# msg = bus_2.recv(timeout=1)\n",
    "# \t# print(msg)\n",
    "\n",
    "\n",
    "#     # create and send a message with the first bus, which should arrive at the second one\n",
    "#     # give the notifier enough time to get triggered by the second bus\n",
    "    \n",
    "# \ttime.sleep(2.0)\n",
    "\n",
    "#     # msg = bus_2.recv(timeout=2)\n",
    "#     # give the notifier enough time to get triggered by the second bus\n",
    "#     # print(msg)\n",
    "# \tbus_2.shutdown()"
   ]
  },
  {
   "cell_type": "code",
   "execution_count": null,
   "metadata": {},
   "outputs": [],
   "source": [
    "# close and remove vcan0\n",
    "# !sshpass -v -p  asdf sudo ip link delete vcan0 \n",
    "\n",
    "!gpg -d -q ~/.sshpasswd.gpg | sshpass -v sudo ip link set down vcan0"
   ]
  },
  {
   "cell_type": "code",
   "execution_count": null,
   "metadata": {},
   "outputs": [],
   "source": [
    "\n",
    "!gpg -d -q ~/.sshpasswd.gpg | sshpass -v sudo ip link delete vcan0 "
   ]
  }
 ],
 "metadata": {
  "kernelspec": {
   "display_name": "python3",
   "language": "python",
   "name": "python3"
  }
 },
 "nbformat": 4,
 "nbformat_minor": 2
}
