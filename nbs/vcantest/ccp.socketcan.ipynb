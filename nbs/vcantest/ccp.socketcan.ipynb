{
 "cells": [
  {
   "cell_type": "markdown",
   "metadata": {},
   "source": [
    "# CCP over SocketCAN\n",
    "\n",
    "> flashing interface for CCP over SocketCAN\n",
    "> For now, only support CCP on CAN via VCAN or Kvaser CAN interface\n",
    "> caution: requiring can-utils cansend"
   ]
  },
  {
   "cell_type": "markdown",
   "metadata": {},
   "source": []
  },
  {
   "cell_type": "code",
   "execution_count": null,
   "metadata": {},
   "outputs": [],
   "source": [
    "#| default_exp ccp.socketcan"
   ]
  },
  {
   "cell_type": "code",
   "execution_count": null,
   "metadata": {},
   "outputs": [],
   "source": [
    "#| hide\n",
    "from nbdev.showdoc import show_doc\n",
    "from fastcore.test import *"
   ]
  },
  {
   "cell_type": "code",
   "execution_count": null,
   "metadata": {},
   "outputs": [],
   "source": [
    "#| hide\n",
    "from IPython.core.interactiveshell import InteractiveShell "
   ]
  },
  {
   "cell_type": "code",
   "execution_count": null,
   "metadata": {},
   "outputs": [],
   "source": [
    "#| export\n",
    "import os\n",
    "import sys\n",
    "import git\n",
    "import argparse\n",
    "from InquirerPy import inquirer\n",
    "from InquirerPy.validator import EmptyInputValidator\n",
    "from InquirerPy.base.control import Choice\n",
    "from pydantic import BaseModel, Field,  ConfigDict, model_validator, conlist, conint, computed_field, confloat, ValidationError\n",
    "from pydantic.functional_validators import AfterValidator\n",
    "from typing import Optional, TypedDict, Union, Literal\n",
    "from typing_extensions import Annotated\n",
    "from enum import StrEnum\n",
    "from pprint import pprint, PrettyPrinter"
   ]
  },
  {
   "cell_type": "code",
   "execution_count": null,
   "metadata": {},
   "outputs": [],
   "source": [
    "#| export\n",
    "import subprocess\n",
    "from multiprocessing import Manager\n",
    "from multiprocessing.managers import DictProxy\n",
    "import can\n",
    "from cantools.database import Message as MessagerTpl\n",
    "from cantools.database.can.database import Database\n",
    "import contextlib"
   ]
  },
  {
   "cell_type": "code",
   "execution_count": null,
   "metadata": {},
   "outputs": [],
   "source": [
    "#| export\n",
    "import pandas as pd\n",
    "import numpy as np\n",
    "import struct"
   ]
  },
  {
   "cell_type": "code",
   "execution_count": null,
   "metadata": {},
   "outputs": [],
   "source": [
    "# #|export\n",
    "# from candycan.data_link_socketcan import done, send_msg"
   ]
  },
  {
   "cell_type": "code",
   "execution_count": null,
   "metadata": {},
   "outputs": [
    {
     "name": "stdout",
     "output_type": "stream",
     "text": [
      "'/home/veos/devel/candycan'\n"
     ]
    }
   ],
   "source": [
    "#| export \n",
    "from candycan.a2l import (\n",
    "    list_of_strings,\n",
    "    XCPCalib,\n",
    "    XCPData,\n",
    "    XCPConfig,\n",
    "    Get_XCPCalib_From_XCPJSon,\n",
    "    Generate_Init_XCPData_From_A2L,\n",
    ")\n"
   ]
  },
  {
   "cell_type": "code",
   "execution_count": null,
   "metadata": {},
   "outputs": [
    {
     "name": "stdout",
     "output_type": "stream",
     "text": [
      "'/home/veos/devel/candycan'\n"
     ]
    }
   ],
   "source": [
    "#| export\n",
    "# from scapy.all import (\n",
    "#     raw, rdpcap, wrpcap, load_contrib, hexdump,\n",
    "#     ls, conf, load_layer, IP, Ether, TCP\n",
    "# )\n",
    "# Ether, TCP, hexdump, raw, rdpcap, load_contrib, conf, load_layer, \n",
    "# CANSocket, CAN, wrpcap, CCP, CRO, CONNECT, GET_SEED, UNLOCK, GET_DAQ_SIZE\n",
    "from candycan.data_link.socketcan import (\n",
    "    send_msg, done, signal_usr1, receive_message\n",
    ")"
   ]
  },
  {
   "cell_type": "code",
   "execution_count": null,
   "metadata": {},
   "outputs": [],
   "source": [
    "#| hide\n",
    "InteractiveShell.ast_node_interactivity = \"all\""
   ]
  },
  {
   "cell_type": "code",
   "execution_count": null,
   "metadata": {},
   "outputs": [],
   "source": [
    "#| export\n",
    "pp = PrettyPrinter(indent=4, width=80, compact=True)"
   ]
  },
  {
   "cell_type": "code",
   "execution_count": null,
   "metadata": {},
   "outputs": [
    {
     "name": "stdout",
     "output_type": "stream",
     "text": [
      "'/home/veos/devel/candycan'\n"
     ]
    }
   ],
   "source": [
    "#| export \n",
    "repo = git.Repo(\"./\", search_parent_directories=True)  # get the Repo object of tspace\n",
    "if os.path.basename(repo.working_dir) != \"candycan\":  # I'm in the parent repo!\n",
    "    repo = repo.submodule(\"candycan\").module()\n",
    "pprint(repo.working_dir)"
   ]
  },
  {
   "cell_type": "code",
   "execution_count": null,
   "metadata": {},
   "outputs": [],
   "source": [
    "#| export\n",
    "def get_argparser() -> argparse.ArgumentParser:\n",
    "\t\"\"\"Summary\n",
    "\tGet argument parser for command line arguments\n",
    "\n",
    "\tReturns:\n",
    "\t\targparse.ArgumentParser: _description_\n",
    "\t\"\"\"\n",
    "\tparser = argparse.ArgumentParser(description='XCP Processing')\n",
    "\n",
    "\tparser.add_argument(\n",
    "\t\t'--protocol',\n",
    "\t\ttype=str,\n",
    "\t\tchoices=['CCP', 'XCP'],\n",
    "\t\tdefault='CCP',\n",
    "\t\thelp='Protocol to use: CCP/XCP',\n",
    "\t)\n",
    "\n",
    "\tparser.add_argument(\n",
    "\t\t'--bus_type',\n",
    "\t\ttype=str,\n",
    "\t\tchoices=['SOCKET', 'VIRTUAL'],\n",
    "\t\tdefault='SOCKET',\n",
    "\t\thelp='Bus type to use: SOCKET/VIRTUAL',\n",
    "\t)\n",
    "\n",
    "\tparser.add_argument(\n",
    "\t\t'--download',\n",
    "\t\tdefault=False,\n",
    "\t\thelp='Download or upload: default is download(host->target)',\n",
    "\t\taction='store_true',\n",
    "\t)\n",
    "\n",
    "\tparser.add_argument(\n",
    "\t\t'--diff_mode',\n",
    "\t\tdefault=True,\n",
    "\t\thelp='use differential mode for flashing',\n",
    "\t\taction='store_true',\n",
    "\t)\n",
    "\n",
    "\tparser.add_argument(\n",
    "\t\t'--diff_threshold',\n",
    "\t\ttype=float,\n",
    "\t\tdefault=0.001,\n",
    "\t\thelp='Threshold as different float value for differential mode',\n",
    "\t)\n",
    "\n",
    "\tparser.add_argument(\n",
    "\t\t'--bit_rate',\n",
    "\t\ttype=int,\n",
    "\t\tchoices=range(1_000_000),\n",
    "\t\tdefault=500_000,\n",
    "\t\thelp='Bit rate for CAN bus, maximal 1Mbps',\n",
    "\t)\n",
    "\n",
    "\tparser.add_argument(\n",
    "\t\t'--time_out',\n",
    "\t\ttype=float,\n",
    "\t\tdefault=1.0,\n",
    "\t\thelp='Time out for CAN bus response',\n",
    "\t)\n",
    "\n",
    "\tparser.add_argument(\n",
    "\t\t\"--station_address\",\n",
    "\t\ttype=int,\n",
    "\t\tdefault=0,  # 0 for all except for MOVE, which should be 1\n",
    "\t\thelp='Station address of ECU for CCP protocol, MTA number 0/1',\n",
    "\t)\n",
    "\n",
    "\tparser.add_argument(\n",
    "\t\t\"--download_can_id\",\n",
    "\t\ttype=int,\n",
    "\t\tdefault=630,\n",
    "\t\thelp='Download CAN message ID for CCP protocol',\n",
    "\t)\n",
    "\n",
    "\tparser.add_argument(\n",
    "\t\t\"--upload_can_id\",\n",
    "\t\ttype=int,\n",
    "\t\tdefault=631,\n",
    "\t\thelp='Upload CAN message ID for CCP protocol',\n",
    "\t)\n",
    "\n",
    "\tparser.add_argument(\n",
    "\t\t'--a2l', \n",
    "\t\ttype=str,\n",
    "        default=repo.working_dir+'/res/VBU_AI.json',\n",
    "\t\thelp='a2l json file path')\n",
    "\n",
    "\tparser.add_argument(\n",
    "\t\t\"--node-path\",\n",
    "\t\ttype=str,\n",
    "\t\tdefault=r\"/PROJECT/MODULE[]\",\n",
    "\t\thelp=\"node path to search for calibration parameters\",\n",
    "\t)\n",
    "\n",
    "\tparser.add_argument(\n",
    "\t\t\"--leaves\",\n",
    "\t\ttype=list_of_strings,\n",
    "\t\tdefault=r\"TQD_trqTrqSetNormal_MAP_v, \" \n",
    "\t\t\t\tr\"VBU_L045A_CWP_05_09T_AImode_CM_single, \" \n",
    "\t\t\t\tr\"Lookup2D_FLOAT32_IEEE, \" \n",
    "\t\t\t\tr\"Lookup2D_X_FLOAT32_IEEE, \" \n",
    "\t\t\t\tr\"Scalar_FLOAT32_IEEE, \" \n",
    "\t\t\t\tr\"TQD_vVehSpd, \"\n",
    "\t\t\t\tr\"TQD_vSgndSpd_MAP_y, \"\n",
    "\t\t\t\tr\"TQD_pctAccPedPosFlt, \"\n",
    "\t\t\t\tr\"TQD_pctAccPdl_MAP_x\",\n",
    "\t\t\thelp=\"leaf nodes to search for\",\n",
    "\t)\n",
    "\n",
    "\tparser.add_argument(\n",
    "\t\t'--channel_serial_number', \n",
    "\t\ttype=int,\n",
    "\t\tdefault=3,\n",
    "\t\thelp='CAN channel serial number for flashing')\n",
    "\n",
    "\tparser.add_argument(\n",
    "\t\t'--input', \n",
    "\t\ttype=str,\n",
    "        default=repo.working_dir+'/res/download.json',\n",
    "\t\thelp='Input file path')\n",
    "\n",
    "\tparser.add_argument(\n",
    "\t\t'--output', \n",
    "\t\ttype=str, \n",
    "        default=repo.working_dir+'/res/output.json',\n",
    "\t\thelp='Output file path')\n",
    "\treturn parser"
   ]
  },
  {
   "cell_type": "code",
   "execution_count": null,
   "metadata": {},
   "outputs": [
    {
     "data": {
      "text/markdown": [
       "---\n",
       "\n",
       "### get_argparser\n",
       "\n",
       ">      get_argparser ()\n",
       "\n",
       "Summary\n",
       "Get argument parser for command line arguments\n",
       "\n",
       "Returns:\n",
       "        argparse.ArgumentParser: _description_"
      ],
      "text/plain": [
       "---\n",
       "\n",
       "### get_argparser\n",
       "\n",
       ">      get_argparser ()\n",
       "\n",
       "Summary\n",
       "Get argument parser for command line arguments\n",
       "\n",
       "Returns:\n",
       "        argparse.ArgumentParser: _description_"
      ]
     },
     "execution_count": null,
     "metadata": {},
     "output_type": "execute_result"
    }
   ],
   "source": [
    "show_doc(get_argparser)"
   ]
  },
  {
   "cell_type": "code",
   "execution_count": null,
   "metadata": {},
   "outputs": [],
   "source": [
    "parser = get_argparser()\n",
    "args = parser.parse_args(\n",
    "    args=[\n",
    "        '--protocol', 'CCP',\n",
    "        '--bus_type', 'SOCKET', # 'VIRTUAL',  #\n",
    "        '--download',\n",
    "        '--diff_mode',\n",
    "        '--diff_threshold', '0.001',\n",
    "        '--bit_rate', '500_000',\n",
    "        '--time_out', '1.0',\n",
    "        '--station_address', 0,\n",
    "        '--download_can_id', '630',\n",
    "        '--upload_can_id', '631',\n",
    "        '--a2l', repo.working_dir+'/res/VBU_AI.json',\n",
    "        '--node-path', r'/PROJECT/MODULE[]',\n",
    "        '--leaves', r'TQD_trqTrqSetNormal_MAP_v, VBU_L045A_CWP_05_09T_AImode_CM_single, Lookup2D_FLOAT32_IEEE, Lookup2D_X_FLOAT32_IEEE, Scalar_FLOAT32_IEEE, TQD_vVehSpd, TQD_vSgndSpd_MAP_y, TQD_pctAccPedPosFlt, TQD_pctAccPdl_MAP_x',\n",
    "        '--channel_serial_number', '3',\n",
    "        '--input', repo.working_dir+'/res/download.json',\n",
    "        '--output', repo.working_dir+'/res/output.json',\n",
    "    ]\n",
    ")"
   ]
  },
  {
   "cell_type": "code",
   "execution_count": null,
   "metadata": {},
   "outputs": [
    {
     "data": {
      "text/plain": [
       "(630, 3, 631)"
      ]
     },
     "execution_count": null,
     "metadata": {},
     "output_type": "execute_result"
    },
    {
     "data": {
      "text/plain": [
       "(0.001, '0x0', 1.0)"
      ]
     },
     "execution_count": null,
     "metadata": {},
     "output_type": "execute_result"
    },
    {
     "data": {
      "text/plain": [
       "{'protocol': 'CCP',\n",
       " 'bus_type': 'SOCKET',\n",
       " 'download': True,\n",
       " 'diff_mode': True,\n",
       " 'diff_threshold': 0.001,\n",
       " 'bit_rate': 500000,\n",
       " 'time_out': 1.0,\n",
       " 'station_address': 0,\n",
       " 'download_can_id': 630,\n",
       " 'upload_can_id': 631,\n",
       " 'a2l': '/home/veos/devel/candycan/res/VBU_AI.json',\n",
       " 'node_path': '/PROJECT/MODULE[]',\n",
       " 'leaves': ['TQD_trqTrqSetNormal_MAP_v',\n",
       "  'VBU_L045A_CWP_05_09T_AImode_CM_single',\n",
       "  'Lookup2D_FLOAT32_IEEE',\n",
       "  'Lookup2D_X_FLOAT32_IEEE',\n",
       "  'Scalar_FLOAT32_IEEE',\n",
       "  'TQD_vVehSpd',\n",
       "  'TQD_vSgndSpd_MAP_y',\n",
       "  'TQD_pctAccPedPosFlt',\n",
       "  'TQD_pctAccPdl_MAP_x'],\n",
       " 'channel_serial_number': 3,\n",
       " 'input': '/home/veos/devel/candycan/res/download.json',\n",
       " 'output': '/home/veos/devel/candycan/res/output.json'}"
      ]
     },
     "execution_count": null,
     "metadata": {},
     "output_type": "execute_result"
    }
   ],
   "source": [
    "args.download_can_id, args.channel_serial_number, args.upload_can_id\n",
    "args.diff_threshold, hex(args.station_address), args.time_out\n",
    "args.__dict__"
   ]
  },
  {
   "cell_type": "markdown",
   "metadata": {},
   "source": [
    "## Types definition"
   ]
  },
  {
   "cell_type": "code",
   "execution_count": null,
   "metadata": {},
   "outputs": [],
   "source": [
    "#| export\n",
    "BUS_TYPES = set(['SOCKET', 'VIRTUAL'])\n",
    "# class BusType(StrEnum):\n",
    "#     SOCKET = \"SOCKET\"\n",
    "#     VIRTUAL = \"VIRTUAL\""
   ]
  },
  {
   "cell_type": "code",
   "execution_count": null,
   "metadata": {},
   "outputs": [],
   "source": [
    "#| export\n",
    "def check_bus_type(b: str) -> str:\n",
    "    \"\"\"Summary\n",
    "    Check if the CAN bus type is valid\n",
    "\n",
    "    Args:\n",
    "        b (str): Python CAN bus type to be checked\n",
    "\n",
    "    Returns:\n",
    "        str: Python CAN bus type if valid\n",
    "\n",
    "    Raises:\n",
    "        ValueError: if CAN bus type is invalid\n",
    "    \"\"\"\n",
    "    if b.upper() not in BUS_TYPES:\n",
    "        raise ValueError(f\"Invalid Python CAN bus type: {b}, valid types are: {BUS_TYPES}\")\n",
    "    return b\n",
    "\n",
    "BusType = Annotated[str, AfterValidator(check_bus_type)]"
   ]
  },
  {
   "cell_type": "code",
   "execution_count": null,
   "metadata": {},
   "outputs": [],
   "source": [
    "#|export\n",
    "class CANFilter(BaseModel):\n",
    "    \"\"\"Summary\n",
    "    CAN filter for Python CAN bus\n",
    "\n",
    "    Attributes:\n",
    "        can_id (int): CAN message ID\n",
    "        can_mask (int): CAN message mask\n",
    "    \"\"\"\n",
    "    can_id: int = Field(default=630,gt=0,title=\"CAN message ID\",description=\"CAN message ID\")\n",
    "    can_mask: int = Field(default=0x7ff,gt=0,title=\"CAN message mask\",description=\"CAN message mask\")"
   ]
  },
  {
   "cell_type": "code",
   "execution_count": null,
   "metadata": {},
   "outputs": [],
   "source": [
    "#| export\n",
    "class ScapyCANSpecs(BaseModel):\n",
    "    bus_type: BusType = Field(frozen=True, default='VIRTUAL', description='Python CAN bus type')\n",
    "    channel_serial_number: int = Field(frozen=True, default=3, ge=0, lt=500,description='CAN channel')\n",
    "    download_can_id: int = Field(default=630, gt=0, description='Download CAN message ID')\n",
    "    upload_can_id: int = Field(default=630, gt=0, description='Upload CAN message ID')\n",
    "    can_filters: Optional[list[CANFilter]] = Field(default=None, description='CAN filters')\n",
    "    bit_rate: int = Field(default=500_000, gt=0, lt=1_000_000, description='CAN bit rate')\n",
    "    time_out: float = Field(default=1.0, gt=0.0, lt=10.0, description='CAN time out')\n",
    "    station_address: int = Field(default=0x00, ge=0, lt=0xff, description='CAN station address')\n",
    "    cntr: int = Field(default=0, ge=0, lt=1_000_000, description='CAN counter')\n",
    "    receive_own_messages: bool = Field(default=True, description='Receive own messages')\n",
    "    download_upload: bool = Field(default=True, description='Download if True or upload if False')\n",
    "    diff_mode: bool = Field(default=False, description='Differential flashing (download)')\n",
    "    diff_threshold: float = Field(default=1e-3, description='Threshold for float value difference')\n",
    "    last_download_data: Optional[XCPData] = Field(default=None, description='Last download data')\n",
    "    \n",
    "    @computed_field\n",
    "    def channel(self) -> Union[str, int]:\n",
    "        \"\"\"Summary\n",
    "        Get the CAN channel as str for SocketCAN or virtual CAN, as int for Vector\n",
    "\n",
    "        Returns:\n",
    "            str: CAN channel for SocketCAN virtual CAN\n",
    "            int: for Vector CAN\n",
    "        \"\"\"\n",
    "        match self.bus_type:\n",
    "            case 'VIRTUAL':\n",
    "                return 'vcan' + str(self.channel_serial_number)\n",
    "            case 'SOCKET':\n",
    "                return 'can' + str(self.channel_serial_number)\n",
    "            case 'VECTOR' | \"KVASER\":\n",
    "                return self.channel_serial_number\n",
    "            case 'PCAN':\n",
    "                return 'PCAN_USBBUS' + str(self.channel_serial_number)\n",
    "            case _:\n",
    "                raise NotImplementedError(f\"Bus type: {self.bus_type} not implemented yet\")\n",
    "                \n"
   ]
  },
  {
   "cell_type": "code",
   "execution_count": null,
   "metadata": {},
   "outputs": [
    {
     "name": "stdout",
     "output_type": "stream",
     "text": [
      "{'bit_rate': 500000,\n",
      " 'bus_type': 'VIRTUAL',\n",
      " 'can_filters': None,\n",
      " 'channel': 'vcan3',\n",
      " 'channel_serial_number': 3,\n",
      " 'cntr': 0,\n",
      " 'diff_mode': False,\n",
      " 'diff_threshold': 0.001,\n",
      " 'download_can_id': 630,\n",
      " 'download_upload': True,\n",
      " 'last_download_data': None,\n",
      " 'receive_own_messages': True,\n",
      " 'station_address': 0,\n",
      " 'time_out': 1.0,\n",
      " 'upload_can_id': 630}\n"
     ]
    }
   ],
   "source": [
    "try:\n",
    "    m = ScapyCANSpecs(can_type='NATIVE', bus_type='VIRTUAL')\n",
    "except ValidationError as exc:\n",
    "    print(exc)\n",
    "\n",
    "pprint(m.model_dump())"
   ]
  },
  {
   "cell_type": "code",
   "execution_count": null,
   "metadata": {},
   "outputs": [
    {
     "name": "stdout",
     "output_type": "stream",
     "text": [
      "0: counter 1\n",
      "1: counter 2\n",
      "2: counter 3\n"
     ]
    }
   ],
   "source": [
    "\n",
    "def emulate_call(m: ScapyCANSpecs):\n",
    "    m.cntr += 1\n",
    "\n",
    "for i in range(3):\n",
    "    emulate_call(m)\n",
    "    print(f\"{i}: counter {m.cntr}\")"
   ]
  },
  {
   "cell_type": "markdown",
   "metadata": {},
   "source": [
    "## CCP code"
   ]
  },
  {
   "cell_type": "code",
   "execution_count": null,
   "metadata": {},
   "outputs": [
    {
     "data": {
      "text/plain": [
       "{'connect': 1,\n",
       " 'set_mta': 2,\n",
       " 'disconnect': 7,\n",
       " 'download': 3,\n",
       " 'download6': 35,\n",
       " 'upload': 4,\n",
       " 'short_upload': 15,\n",
       " 'get_seed': 18,\n",
       " 'get_ccp_version': 27}"
      ]
     },
     "execution_count": null,
     "metadata": {},
     "output_type": "execute_result"
    }
   ],
   "source": [
    "#| export\n",
    "class CCPCommand(BaseModel):\n",
    "    connect: int = Field(default=0x01, frozen=True, description='CCP connect command')\n",
    "    set_mta: int = Field(default=0x02, frozen=True, description='CCP set memory transfer address command')\n",
    "    disconnect: int = Field(default=0x07, frozen=True, description='CCP disconnect command')\n",
    "    download: int = Field(default=0x03, frozen=True, description='CCP download command DNLOAD')\n",
    "    download6: int = Field(default=0x23, frozen=True, description='CCP download command DNLOAD6')\n",
    "    upload: int = Field(default=0x04, frozen=True, description='CCP upload command UPLOAD')\n",
    "    short_upload: int = Field(default=0x0F, frozen=True, description='CCP short upload command SHORT_UP')\n",
    "    get_seed: int = Field(default=0x12, frozen=True, description='CCP get seed command GET_SEED')\n",
    "    get_ccp_version:  int = Field(default=0x1B, frozen=True, description='CCP get CCP version command GET_CCP_VERSION')\n",
    "    \n",
    "        # 0x01: \"CONNECT\",\n",
    "        # 0x1B: \"GET_CCP_VERSION\",\n",
    "        # 0x17: \"EXCHANGE_ID\",\n",
    "        # 0x12: \"GET_SEED\",\n",
    "        # 0x13: \"UNLOCK\",\n",
    "        # 0x02: \"SET_MTA\",\n",
    "        # 0x03: \"DNLOAD\",\n",
    "        # 0x23: \"DNLOAD_6\",\n",
    "        # 0x04: \"UPLOAD\",\n",
    "        # 0x0F: \"SHORT_UP\",\n",
    "        # 0x11: \"SELECT_CAL_PAGE\",\n",
    "        # 0x14: \"GET_DAQ_SIZE\",\n",
    "        # 0x15: \"SET_DAQ_PTR\",\n",
    "        # 0x16: \"WRITE_DAQ\",\n",
    "        # 0x06: \"START_STOP\",\n",
    "        # 0x07: \"DISCONNECT\",\n",
    "        # 0x0C: \"SET_S_STATUS\",\n",
    "        # 0x0D: \"GET_S_STATUS\",\n",
    "        # 0x0E: \"BUILD_CHKSUM\",\n",
    "        # 0x10: \"CLEAR_MEMORY\",\n",
    "        # 0x18: \"PROGRAM\",\n",
    "        # 0x22: \"PROGRAM_6\",\n",
    "        # 0x19: \"MOVE\",\n",
    "        # 0x05: \"TEST\",\n",
    "        # 0x09: \"GET_ACTIVE_CAL_PAGE\",\n",
    "        # 0x08: \"START_STOP_ALL\",\n",
    "        # 0x20: \"DIAG_SERVICE\",\n",
    "        # 0x21: \"ACTION_SERVICE\"\n",
    "\n",
    "ccp_command =  CCPCommand()\n",
    "ccp_command.model_dump()"
   ]
  },
  {
   "cell_type": "code",
   "execution_count": null,
   "metadata": {},
   "outputs": [
    {
     "data": {
      "text/plain": [
       "XCPCalib(config=XCPConfig(channel=3, download_can_id=630, upload_can_id=631), data=[{   'address': '7000aa2a',\n",
       "    'dim': [14, 17],\n",
       "    'name': 'TQD_trqTrqSetNormal_MAP_v',\n",
       "    'type_size': 4,\n",
       "    'value': '0000000025...344',\n",
       "    'value_array_view': array([[    0.   ,  1135.317,  1135.317, ...,  4436.   ,  4436.   ,\n",
       "         4436.   ],\n",
       "       [    0.   ,   148.09 ,   148.09 , ...,  4436.   ,  4436.   ,\n",
       "         4436.   ],\n",
       "       [-1338.534,  -833.344,  -328.155, ...,  4436.   ,  4436.   ,\n",
       "         4436.   ],\n",
       "       ...,\n",
       "       [-1316.842, -1086.408,  -855.974, ...,  2034.368,  2034.368,\n",
       "         2034.368],\n",
       "       [-1141.171,  -926.042,  -710.912, ...,  1859.521,  1859.521,\n",
       "         1859.521],\n",
       "       [ -286.008,  -135.973,    14.062, ...,  1690.249,  1690.249,\n",
       "         1690.249]], dtype=float32),\n",
       "    'value_bytes': \"b'\\\\x00'...b'D'\",\n",
       "    'value_length': 4,\n",
       "    'value_type': 'FLOAT32_IEEE'}])"
      ]
     },
     "execution_count": null,
     "metadata": {},
     "output_type": "execute_result"
    }
   ],
   "source": [
    "xcp_calib_from_xcpjson = Get_XCPCalib_From_XCPJSon(args.input)\n",
    "xcp_calib_from_xcpjson"
   ]
  },
  {
   "cell_type": "code",
   "execution_count": null,
   "metadata": {},
   "outputs": [
    {
     "data": {
      "text/plain": [
       "{   'address': '7000aa2a',\n",
       "    'dim': [14, 17],\n",
       "    'name': 'TQD_trqTrqSetNormal_MAP_v',\n",
       "    'type_size': 4,\n",
       "    'value': '0000000000...000',\n",
       "    'value_array_view': array([[0., 0., 0., ..., 0., 0., 0.],\n",
       "       [0., 0., 0., ..., 0., 0., 0.],\n",
       "       [0., 0., 0., ..., 0., 0., 0.],\n",
       "       ...,\n",
       "       [0., 0., 0., ..., 0., 0., 0.],\n",
       "       [0., 0., 0., ..., 0., 0., 0.],\n",
       "       [0., 0., 0., ..., 0., 0., 0.]], dtype=float32),\n",
       "    'value_bytes': \"b'\\\\x00'...b'\\\\x00'\",\n",
       "    'value_length': 4,\n",
       "    'value_type': 'FLOAT32_IEEE'}"
      ]
     },
     "execution_count": null,
     "metadata": {},
     "output_type": "execute_result"
    }
   ],
   "source": [
    "\n",
    "xcp_data = Generate_Init_XCPData_From_A2L(\n",
    "    a2l=args.a2l, keys=args.leaves, node_path=args.node_path\n",
    ")\n",
    "\n",
    "#  address from xcp data file should align with the address from xcp calib file\n",
    "test_eq(xcp_data.address, xcp_calib_from_xcpjson.data[0].address)\n",
    "\n",
    "# validate the model\n",
    "try:\n",
    "    XCPData.model_validate(xcp_data)\n",
    "except ValidationError as exc:\n",
    "    print(exc)"
   ]
  },
  {
   "cell_type": "code",
   "execution_count": null,
   "metadata": {},
   "outputs": [],
   "source": [
    "# type(args.channel), type(args.download_id), args.upload_id, args.download, args.diff_flashing"
   ]
  },
  {
   "cell_type": "code",
   "execution_count": null,
   "metadata": {},
   "outputs": [
    {
     "name": "stdout",
     "output_type": "stream",
     "text": [
      "{   'address': '7000aa2a',\n",
      "    'dim': [14, 17],\n",
      "    'name': 'TQD_trqTrqSetNormal_MAP_v',\n",
      "    'type_size': 4,\n",
      "    'value': '0000000025...344',\n",
      "    'value_array_view': array([[    0.   ,  1135.317,  1135.317, ...,  4436.   ,  4436.   ,\n",
      "         4436.   ],\n",
      "       [    0.   ,   148.09 ,   148.09 , ...,  4436.   ,  4436.   ,\n",
      "         4436.   ],\n",
      "       [-1338.534,  -833.344,  -328.155, ...,  4436.   ,  4436.   ,\n",
      "         4436.   ],\n",
      "       ...,\n",
      "       [-1316.842, -1086.408,  -855.974, ...,  2034.368,  2034.368,\n",
      "         2034.368],\n",
      "       [-1141.171,  -926.042,  -710.912, ...,  1859.521,  1859.521,\n",
      "         1859.521],\n",
      "       [ -286.008,  -135.973,    14.062, ...,  1690.249,  1690.249,\n",
      "         1690.249]], dtype=float32),\n",
      "    'value_bytes': \"b'\\\\x00'...b'D'\",\n",
      "    'value_length': 4,\n",
      "    'value_type': 'FLOAT32_IEEE'}\n"
     ]
    },
    {
     "data": {
      "text/plain": [
       "(1135.317, -1338.5337)"
      ]
     },
     "execution_count": null,
     "metadata": {},
     "output_type": "execute_result"
    }
   ],
   "source": [
    "xcp_data.value = xcp_calib_from_xcpjson.data[0].value\n",
    "pprint(xcp_data)\n",
    "xcp_data.value_array_view[0,2], xcp_data.value_array_view[2,0]"
   ]
  },
  {
   "cell_type": "code",
   "execution_count": null,
   "metadata": {},
   "outputs": [],
   "source": [
    "\n",
    "xcp_calib = XCPCalib(\n",
    "    config=XCPConfig(\n",
    "        channel=args.channel_serial_number, download=args.download_can_id, upload=args.upload_can_id\n",
    "    ),\n",
    "    data=[xcp_data],\n",
    ")"
   ]
  },
  {
   "cell_type": "code",
   "execution_count": null,
   "metadata": {},
   "outputs": [
    {
     "name": "stdout",
     "output_type": "stream",
     "text": [
      "XCPCalib(config=XCPConfig(channel=3, download_can_id=630, upload_can_id=631), data=[{   'address': '7000aa2a',\n",
      "    'dim': [14, 17],\n",
      "    'name': 'TQD_trqTrqSetNormal_MAP_v',\n",
      "    'type_size': 4,\n",
      "    'value': '0000000025...344',\n",
      "    'value_array_view': array([[    0.   ,  1135.317,  1135.317, ...,  4436.   ,  4436.   ,\n",
      "         4436.   ],\n",
      "       [    0.   ,   148.09 ,   148.09 , ...,  4436.   ,  4436.   ,\n",
      "         4436.   ],\n",
      "       [-1338.534,  -833.344,  -328.155, ...,  4436.   ,  4436.   ,\n",
      "         4436.   ],\n",
      "       ...,\n",
      "       [-1316.842, -1086.408,  -855.974, ...,  2034.368,  2034.368,\n",
      "         2034.368],\n",
      "       [-1141.171,  -926.042,  -710.912, ...,  1859.521,  1859.521,\n",
      "         1859.521],\n",
      "       [ -286.008,  -135.973,    14.062, ...,  1690.249,  1690.249,\n",
      "         1690.249]], dtype=float32),\n",
      "    'value_bytes': \"b'\\\\x00'...b'D'\",\n",
      "    'value_length': 4,\n",
      "    'value_type': 'FLOAT32_IEEE'}])\n"
     ]
    }
   ],
   "source": [
    "pprint(xcp_calib)"
   ]
  },
  {
   "cell_type": "code",
   "execution_count": null,
   "metadata": {},
   "outputs": [
    {
     "data": {
      "text/plain": [
       "((14, 17),\n",
       " dtype('float32'),\n",
       " array([[    0.   ,  1135.317,  1135.317, ...,  4436.   ,  4436.   ,\n",
       "          4436.   ],\n",
       "        [    0.   ,   148.09 ,   148.09 , ...,  4436.   ,  4436.   ,\n",
       "          4436.   ],\n",
       "        [-1338.534,  -833.344,  -328.155, ...,  4436.   ,  4436.   ,\n",
       "          4436.   ],\n",
       "        ...,\n",
       "        [-1316.842, -1086.408,  -855.974, ...,  2034.368,  2034.368,\n",
       "          2034.368],\n",
       "        [-1141.171,  -926.042,  -710.912, ...,  1859.521,  1859.521,\n",
       "          1859.521],\n",
       "        [ -286.008,  -135.973,    14.062, ...,  1690.249,  1690.249,\n",
       "          1690.249]], dtype=float32))"
      ]
     },
     "execution_count": null,
     "metadata": {},
     "output_type": "execute_result"
    },
    {
     "data": {
      "text/plain": [
       "(952,\n",
       " b'\\x00\\x00\\x00\\x00%\\xea\\x8dD%\\xea\\x8dD%\\xea\\x8dD%\\xea\\x8dD\\xdb4\\x95D\\xb3\\x1e\\xb6D\\x8c\\x08\\xd7Dd\\xf2\\xf7D\\x1en\\x0cE\\x81\\x1d%E\\xe3\\xcc=EF|VE\\x85\\xed\\x83E\\x00\\xa0\\x8aE\\x00\\xa0\\x8aE\\x00\\xa0\\x8aE\\x00\\x00\\x00\\x00\\xed\\x16\\x14C\\xed\\x16\\x14CN\\xba\\x8dC\\x1ay\\x1eD\\xcbL`D>\\x10\\x91D\\x17\\xfa\\xb1D\\xef\\xe3\\xd2D\\xc8\\xcd\\xf3DF\\x96\\x12E\\xa9E+E\\x0b\\xf5CE\\xd0SuE\\x00\\xa0\\x8aE\\x00\\xa0\\x8aE\\x00\\xa0\\x8aE\\x14Q\\xa7\\xc4\\x0bVP\\xc4\\xdd\\x13\\xa4\\xc3\\xb8\\x081CM\\xa9\\xf9CV%AD\\x84|\\x81D\\\\f\\xa2D5P\\xc3D\\r:\\xe4Di\\xcc\\nE\\xcb{#E.+<E\\xf3\\x89mE\\x00\\xa0\\x8aE\\x00\\xa0\\x8aE\\x00\\xa0\\x8aE\\xff\\xfc\\x0f\\xc5\\xa4\\xfc\\xd0\\xc4K\\xff\\x81\\xc4\\xc8\\x07\\xcc\\xc39\\xdb_Cv\\xa0\\tD\\xf8\\xd7GD\\xbd\\x07\\x83D\\x7f#\\xa2D@?\\xc1D\\xe2\\xe8\\xefDBI\\x0fE\\x13\\x9e&E\\xb5GUE\\xab\\xf8\\x81E\\x00\\xa0\\x8aE\\x00\\xa0\\x8aEw\\x1f\\r\\xc5\\x9fj\\xda\\xc4Q\\x96\\x9a\\xc4\\x07\\x845\\xc4\\xabmW\\xc3b\\x9a\\x93C\\xeb\\x8d\\x18D?)SDJ\\xe2\\x86D\\xf4/\\xa4Dt$\\xd0D\\xf3\\x18\\xfcD\\xb9\\x06\\x14E9\\xfb?E\\xb8\\xefkE\\x00\\xa0\\x8aE\\x00\\xa0\\x8aEH>\\t\\xc5\\x1d\\xd0\\xdc\\xc4\\xa9#\\xa7\\xc4l\\xeeb\\xc4\\n+\\xef\\xc3\\xdc\\xc9C\\xc2\\x938\\xbeC\\xbe\\x14)D\\xe4\\x13`D\\x85\\x89\\x8bD\\xe1\\xc8\\xb4D>\\x08\\xdeD\\xcd\\xa3\\x03E*\\xe3,E\\x86\"VE\\xe3a\\x7fE\\x00\\xa0\\x8aEsY\\x04\\xc5\\xaa$\\xda\\xc4l\\x96\\xab\\xc4_\\x10z\\xc4\\xe5\\xf3\\x1c\\xc4\\xac]\\x7f\\xc3y(\\xeaB\\x12\\xc3\\xf4C\\xff\\x0b>D\\xf7nqD\\xb5A\\x9fD\\xef\\xcb\\xc5D(V\\xecDN\\xb5\\x1cE\\x87?CE\\xc1\\xc9iE\\xf17\\x83E\\xef\\xe1\\xfc\\xc4\\xba\\xc2\\xd3\\xc4\\x85\\xa3\\xaa\\xc4O\\x84\\x81\\xc44\\xca0\\xc4\\x91\\x17\\xbd\\xc3\\xdd\\xd5D\\xc2\\x1a\\xe2\\x8bCx/\\x18D\\xd5\\xcaTD\\x82:\\x8eD\\x99\\x0f\\xb2D\\xb0\\xe4\\xd5Do\\xc7\\x0eE\\x86\\x9c2E\\x9eqVE\\xd5,WE\\xab\\t\\xef\\xc4\\xbe\\r\\xca\\xc4\\xd1\\x11\\xa5\\xc4\\xe3\\x15\\x80\\xc4\\xeb36\\xc4!x\\xd8\\xc3\\xd8\\x10\\t\\xc3\\x93\\xce\\x1eC\\xffV\\xe3CZ\\xa3;D\\x99\\xf0\\x82D\\x8d\\x10\\xa4D\\x810\\xc5D5\\xb8\\x03E)\\xd8$EvB5EvB5E\\x1a*\\xdf\\xc4\\x84l\\xbc\\xc4\\xee\\xae\\x99\\xc4\\xb0\\xe2m\\xc4\\x84g(\\xc4\\xaf\\xd8\\xc5\\xc3[\\x89\\xeb\\xc2\\x03( CZ\\n\\xdbCY\\x003D\\x85{xD\\x94\\xa8\\x9aDe\\x13\\xb9D\\x08\\xe9\\xf5DU_\\x19E\\x15G\\x1eE\\x15G\\x1eE<C\\xcd\\xc4\\xc4\\xf8\\xac\\xc4M\\xae\\x8c\\xc4\\xab\\xc7X\\xc4\\xbc2\\x18\\xc4\\x9b;\\xaf\\xc3\\xf6F\\xb8\\xc2@0&C\\xfdA\\xd4C\\xee\\xb5*D\\xdcJkD\\xcc\\xe6\\x96D{\\x9c\\xb2D\\xd8\\x07\\xeaD\\xef&\\x0eE\\xef&\\x0eE\\xef&\\x0eE\\xf4\\x9a\\xa4\\xc4\\x0f\\xcd\\x87\\xc4U\\xfeU\\xc4\\x8cb\\x1c\\xc4\\x86\\x8d\\xc5\\xc3\\xe8\\xab$\\xc3y\\x86\\x83B0\\x19\\x94Ca\\xa8\\x03D*D=D\\xf3\\xdfvD\\xde=\\x98Dk>\\xb1D\\x83?\\xe3D\\xc4K\\xfeD\\xc4K\\xfeD\\xc4K\\xfeD{\\xa5\\x8e\\xc4\\xae\\x82g\\xc4f\\xba1\\xc4<\\xe4\\xf7\\xc3\\xacS\\x8c\\xc3p\\x0c\\x83\\xc2\\xe8\\x9a\\x15C\\x04^\\xb6CJ\\xf7\\x10D\\x92\\xbfFD\\xda\\x87|D\\x11(\\x99D\\x14\\x9a\\xb4D\\xe70\\xe1D\\xabp\\xe8D\\xabp\\xe8D\\xabp\\xe8D\\x0b\\x01\\x8f\\xc3)\\xf9\\x07\\xc3Y\\xfc`A\\xb4\\x18$C\\xd1\\x10\\x9dCH\\x15\\xe8C\\xe0\\x8c\\x19D\\x1b\\x0f?DW\\x91dD\\xc9\\t\\x85D\\xe7\\xca\\x97D\\x05\\x8c\\xaaD\"M\\xbdD\\xf6G\\xd3D\\xf6G\\xd3D\\xf6G\\xd3D\\xf6G\\xd3D')"
      ]
     },
     "execution_count": null,
     "metadata": {},
     "output_type": "execute_result"
    },
    {
     "data": {
      "text/plain": [
       "(952,\n",
       " b'\\x00\\x00\\x00\\x00%\\xea\\x8dD%\\xea\\x8dD%\\xea\\x8dD%\\xea\\x8dD\\xdb4\\x95D\\xb3\\x1e\\xb6D\\x8c\\x08\\xd7Dd\\xf2\\xf7D\\x1en\\x0cE\\x81\\x1d%E\\xe3\\xcc=EF|VE\\x85\\xed\\x83E\\x00\\xa0\\x8aE\\x00\\xa0\\x8aE\\x00\\xa0\\x8aE\\x00\\x00\\x00\\x00\\xed\\x16\\x14C\\xed\\x16\\x14CN\\xba\\x8dC\\x1ay\\x1eD\\xcbL`D>\\x10\\x91D\\x17\\xfa\\xb1D\\xef\\xe3\\xd2D\\xc8\\xcd\\xf3DF\\x96\\x12E\\xa9E+E\\x0b\\xf5CE\\xd0SuE\\x00\\xa0\\x8aE\\x00\\xa0\\x8aE\\x00\\xa0\\x8aE\\x14Q\\xa7\\xc4\\x0bVP\\xc4\\xdd\\x13\\xa4\\xc3\\xb8\\x081CM\\xa9\\xf9CV%AD\\x84|\\x81D\\\\f\\xa2D5P\\xc3D\\r:\\xe4Di\\xcc\\nE\\xcb{#E.+<E\\xf3\\x89mE\\x00\\xa0\\x8aE\\x00\\xa0\\x8aE\\x00\\xa0\\x8aE\\xff\\xfc\\x0f\\xc5\\xa4\\xfc\\xd0\\xc4K\\xff\\x81\\xc4\\xc8\\x07\\xcc\\xc39\\xdb_Cv\\xa0\\tD\\xf8\\xd7GD\\xbd\\x07\\x83D\\x7f#\\xa2D@?\\xc1D\\xe2\\xe8\\xefDBI\\x0fE\\x13\\x9e&E\\xb5GUE\\xab\\xf8\\x81E\\x00\\xa0\\x8aE\\x00\\xa0\\x8aEw\\x1f\\r\\xc5\\x9fj\\xda\\xc4Q\\x96\\x9a\\xc4\\x07\\x845\\xc4\\xabmW\\xc3b\\x9a\\x93C\\xeb\\x8d\\x18D?)SDJ\\xe2\\x86D\\xf4/\\xa4Dt$\\xd0D\\xf3\\x18\\xfcD\\xb9\\x06\\x14E9\\xfb?E\\xb8\\xefkE\\x00\\xa0\\x8aE\\x00\\xa0\\x8aEH>\\t\\xc5\\x1d\\xd0\\xdc\\xc4\\xa9#\\xa7\\xc4l\\xeeb\\xc4\\n+\\xef\\xc3\\xdc\\xc9C\\xc2\\x938\\xbeC\\xbe\\x14)D\\xe4\\x13`D\\x85\\x89\\x8bD\\xe1\\xc8\\xb4D>\\x08\\xdeD\\xcd\\xa3\\x03E*\\xe3,E\\x86\"VE\\xe3a\\x7fE\\x00\\xa0\\x8aEsY\\x04\\xc5\\xaa$\\xda\\xc4l\\x96\\xab\\xc4_\\x10z\\xc4\\xe5\\xf3\\x1c\\xc4\\xac]\\x7f\\xc3y(\\xeaB\\x12\\xc3\\xf4C\\xff\\x0b>D\\xf7nqD\\xb5A\\x9fD\\xef\\xcb\\xc5D(V\\xecDN\\xb5\\x1cE\\x87?CE\\xc1\\xc9iE\\xf17\\x83E\\xef\\xe1\\xfc\\xc4\\xba\\xc2\\xd3\\xc4\\x85\\xa3\\xaa\\xc4O\\x84\\x81\\xc44\\xca0\\xc4\\x91\\x17\\xbd\\xc3\\xdd\\xd5D\\xc2\\x1a\\xe2\\x8bCx/\\x18D\\xd5\\xcaTD\\x82:\\x8eD\\x99\\x0f\\xb2D\\xb0\\xe4\\xd5Do\\xc7\\x0eE\\x86\\x9c2E\\x9eqVE\\xd5,WE\\xab\\t\\xef\\xc4\\xbe\\r\\xca\\xc4\\xd1\\x11\\xa5\\xc4\\xe3\\x15\\x80\\xc4\\xeb36\\xc4!x\\xd8\\xc3\\xd8\\x10\\t\\xc3\\x93\\xce\\x1eC\\xffV\\xe3CZ\\xa3;D\\x99\\xf0\\x82D\\x8d\\x10\\xa4D\\x810\\xc5D5\\xb8\\x03E)\\xd8$EvB5EvB5E\\x1a*\\xdf\\xc4\\x84l\\xbc\\xc4\\xee\\xae\\x99\\xc4\\xb0\\xe2m\\xc4\\x84g(\\xc4\\xaf\\xd8\\xc5\\xc3[\\x89\\xeb\\xc2\\x03( CZ\\n\\xdbCY\\x003D\\x85{xD\\x94\\xa8\\x9aDe\\x13\\xb9D\\x08\\xe9\\xf5DU_\\x19E\\x15G\\x1eE\\x15G\\x1eE<C\\xcd\\xc4\\xc4\\xf8\\xac\\xc4M\\xae\\x8c\\xc4\\xab\\xc7X\\xc4\\xbc2\\x18\\xc4\\x9b;\\xaf\\xc3\\xf6F\\xb8\\xc2@0&C\\xfdA\\xd4C\\xee\\xb5*D\\xdcJkD\\xcc\\xe6\\x96D{\\x9c\\xb2D\\xd8\\x07\\xeaD\\xef&\\x0eE\\xef&\\x0eE\\xef&\\x0eE\\xf4\\x9a\\xa4\\xc4\\x0f\\xcd\\x87\\xc4U\\xfeU\\xc4\\x8cb\\x1c\\xc4\\x86\\x8d\\xc5\\xc3\\xe8\\xab$\\xc3y\\x86\\x83B0\\x19\\x94Ca\\xa8\\x03D*D=D\\xf3\\xdfvD\\xde=\\x98Dk>\\xb1D\\x83?\\xe3D\\xc4K\\xfeD\\xc4K\\xfeD\\xc4K\\xfeD{\\xa5\\x8e\\xc4\\xae\\x82g\\xc4f\\xba1\\xc4<\\xe4\\xf7\\xc3\\xacS\\x8c\\xc3p\\x0c\\x83\\xc2\\xe8\\x9a\\x15C\\x04^\\xb6CJ\\xf7\\x10D\\x92\\xbfFD\\xda\\x87|D\\x11(\\x99D\\x14\\x9a\\xb4D\\xe70\\xe1D\\xabp\\xe8D\\xabp\\xe8D\\xabp\\xe8D\\x0b\\x01\\x8f\\xc3)\\xf9\\x07\\xc3Y\\xfc`A\\xb4\\x18$C\\xd1\\x10\\x9dCH\\x15\\xe8C\\xe0\\x8c\\x19D\\x1b\\x0f?DW\\x91dD\\xc9\\t\\x85D\\xe7\\xca\\x97D\\x05\\x8c\\xaaD\"M\\xbdD\\xf6G\\xd3D\\xf6G\\xd3D\\xf6G\\xd3D\\xf6G\\xd3D')"
      ]
     },
     "execution_count": null,
     "metadata": {},
     "output_type": "execute_result"
    },
    {
     "data": {
      "text/plain": [
       "'0000000025ea8d4425ea8d4425ea8d4425ea8d44db349544b31eb6448c08d74464f2f7441e6e0c45811d2545e3cc3d45467c564585ed834500a08a4500a08a4500a08a4500000000ed161443ed1614434eba8d431a791e44cb4c60443e10914417fab144efe3d244c8cdf34446961245a9452b450bf54345d053754500a08a4500a08a4500a08a451451a7c40b5650c4dd13a4c3b80831434da9f94356254144847c81445c66a2443550c3440d3ae44469cc0a45cb7b23452e2b3c45f3896d4500a08a4500a08a4500a08a45fffc0fc5a4fcd0c44bff81c4c807ccc339db5f4376a00944f8d74744bd0783447f23a244403fc144e2e8ef4442490f45139e2645b5475545abf8814500a08a4500a08a45771f0dc59f6adac451969ac4078435c4ab6d57c3629a9343eb8d18443f2953444ae28644f42fa4447424d044f318fc44b906144539fb3f45b8ef6b4500a08a4500a08a45483e09c51dd0dcc4a923a7c46cee62c40a2befc3dcc943c29338be43be142944e413604485898b44e1c8b4443e08de44cda303452ae32c4586225645e3617f4500a08a45735904c5aa24dac46c96abc45f107ac4e5f31cc4ac5d7fc37928ea4212c3f443ff0b3e44f76e7144b5419f44efcbc5442856ec444eb51c45873f4345c1c96945f1378345efe1fcc4bac2d3c485a3aac44f8481c434ca30c49117bdc3ddd544c21ae28b43782f1844d5ca5444823a8e44990fb244b0e4d5446fc70e45869c32459e715645d52c5745ab09efc4be0dcac4d111a5c4e31580c4eb3336c42178d8c3d81009c393ce1e43ff56e3435aa33b4499f082448d10a4448130c54435b8034529d8244576423545764235451a2adfc4846cbcc4eeae99c4b0e26dc4846728c4afd8c5c35b89ebc2032820435a0adb4359003344857b784494a89a446513b94408e9f544555f194515471e4515471e453c43cdc4c4f8acc44dae8cc4abc758c4bc3218c49b3bafc3f646b8c240302643fd41d443eeb52a44dc4a6b44cce696447b9cb244d807ea44ef260e45ef260e45ef260e45f49aa4c40fcd87c455fe55c48c621cc4868dc5c3e8ab24c3798683423019944361a803442a443d44f3df7644de3d98446b3eb144833fe344c44bfe44c44bfe44c44bfe447ba58ec4ae8267c466ba31c43ce4f7c3ac538cc3700c83c2e89a1543045eb6434af7104492bf4644da877c4411289944149ab444e730e144ab70e844ab70e844ab70e8440b018fc329f907c359fc6041b4182443d1109d434815e843e08c19441b0f3f4457916444c9098544e7ca9744058caa44224dbd44f647d344f647d344f647d344f647d344'"
      ]
     },
     "execution_count": null,
     "metadata": {},
     "output_type": "execute_result"
    }
   ],
   "source": [
    "npa =  xcp_calib.data[0].value_array_view\n",
    "npa.shape, npa.dtype, npa\n",
    "len(xcp_calib.data[0].value_bytes), xcp_calib.data[0].value_bytes\n",
    "\n",
    "len(npa.tobytes()), npa.tobytes()\n",
    "test_eq(npa.tobytes(), xcp_calib.data[0].value_bytes)\n",
    "xcp_calib.data[0].value"
   ]
  },
  {
   "cell_type": "code",
   "execution_count": null,
   "metadata": {},
   "outputs": [
    {
     "data": {
      "text/plain": [
       "1879091754"
      ]
     },
     "execution_count": null,
     "metadata": {},
     "output_type": "execute_result"
    }
   ],
   "source": [
    "addr = bytes('7000aa2a', 'utf-8')\n",
    "a = 0x7000aa2a\n",
    "a"
   ]
  },
  {
   "cell_type": "code",
   "execution_count": null,
   "metadata": {},
   "outputs": [
    {
     "data": {
      "text/plain": [
       "238"
      ]
     },
     "execution_count": null,
     "metadata": {},
     "output_type": "execute_result"
    }
   ],
   "source": [
    "npb = npa[::-1]\n",
    "# npb\n",
    "buffer = [struct.pack(\"<f\", x) for x in np.nditer(npa)]\n",
    "# buffer\n",
    "len(buffer)"
   ]
  },
  {
   "cell_type": "markdown",
   "metadata": {},
   "source": [
    "### investigate int type and type size"
   ]
  },
  {
   "cell_type": "code",
   "execution_count": null,
   "metadata": {},
   "outputs": [
    {
     "data": {
      "text/plain": [
       "('7000aa2a', 1879091754)"
      ]
     },
     "execution_count": null,
     "metadata": {},
     "output_type": "execute_result"
    },
    {
     "data": {
      "text/plain": [
       "('0x7000aa2a', int, 32)"
      ]
     },
     "execution_count": null,
     "metadata": {},
     "output_type": "execute_result"
    },
    {
     "data": {
      "text/plain": [
       "(2, 4, 8, 8)"
      ]
     },
     "execution_count": null,
     "metadata": {},
     "output_type": "execute_result"
    },
    {
     "data": {
      "text/plain": [
       "(str, 8)"
      ]
     },
     "execution_count": null,
     "metadata": {},
     "output_type": "execute_result"
    }
   ],
   "source": [
    "xcp_data = xcp_calib.data[0]\n",
    "add = int(xcp_data.address, base=16)\n",
    "xcp_data.address, add\n",
    "hex(add), type(add), sys.getsizeof(add)\n",
    "struct.calcsize('h'), struct.calcsize('i'), struct.calcsize('l'), struct.calcsize('L')\n",
    "type(xcp_data.address),len(xcp_data.address)"
   ]
  },
  {
   "cell_type": "code",
   "execution_count": null,
   "metadata": {},
   "outputs": [],
   "source": [
    "#| export\n",
    "def npa_to_packed_buffer(a: np.ndarray) -> str:\n",
    "    \"\"\" convert a numpy array to a packed string buffer for flashing\n",
    "    TODO: implementation as numpy ufunc\n",
    "\n",
    "    Args:\n",
    "        a (np.ndarray): input numpy array for flashing\n",
    "\n",
    "    Returns:\n",
    "        str: packed string buffer for flashing\n",
    "    \"\"\"\n",
    "    b = [struct.pack(\"<f\", x).hex() for x in np.nditer(a)]\n",
    "    return ''.join(b)"
   ]
  },
  {
   "cell_type": "code",
   "execution_count": null,
   "metadata": {},
   "outputs": [],
   "source": [
    "\n",
    "# buffer = [struct.pack(\"<f\", x).hex() for x in np.nditer(npa)]\n",
    "# buffer[::-1]\n",
    "# len(buffer)\n",
    "# buffer\n",
    "# data = ''.join(buffer)\n",
    "data = npa_to_packed_buffer(npa)\n",
    "test_eq(data, xcp_calib.data[0].value)\n",
    "# data"
   ]
  },
  {
   "cell_type": "markdown",
   "metadata": {},
   "source": [
    "## convert a numpy array to a continuous hex string"
   ]
  },
  {
   "cell_type": "code",
   "execution_count": null,
   "metadata": {},
   "outputs": [
    {
     "data": {
      "text/plain": [
       "('0000000025ea8d4425ea8d4425ea8d4425ea8d44db349544b31eb6448c08d74464f2f7441e6e0c45811d2545e3cc3d45467c564585ed834500a08a4500a08a4500a08a4500000000ed161443ed1614434eba8d431a791e44cb4c60443e10914417fab144efe3d244c8cdf34446961245a9452b450bf54345d053754500a08a4500a08a4500a08a451451a7c40b5650c4dd13a4c3b80831434da9f94356254144847c81445c66a2443550c3440d3ae44469cc0a45cb7b23452e2b3c45f3896d4500a08a4500a08a4500a08a45fffc0fc5a4fcd0c44bff81c4c807ccc339db5f4376a00944f8d74744bd0783447f23a244403fc144e2e8ef4442490f45139e2645b5475545abf8814500a08a4500a08a45771f0dc59f6adac451969ac4078435c4ab6d57c3629a9343eb8d18443f2953444ae28644f42fa4447424d044f318fc44b906144539fb3f45b8ef6b4500a08a4500a08a45483e09c51dd0dcc4a923a7c46cee62c40a2befc3dcc943c29338be43be142944e413604485898b44e1c8b4443e08de44cda303452ae32c4586225645e3617f4500a08a45735904c5aa24dac46c96abc45f107ac4e5f31cc4ac5d7fc37928ea4212c3f443ff0b3e44f76e7144b5419f44efcbc5442856ec444eb51c45873f4345c1c96945f1378345efe1fcc4bac2d3c485a3aac44f8481c434ca30c49117bdc3ddd544c21ae28b43782f1844d5ca5444823a8e44990fb244b0e4d5446fc70e45869c32459e715645d52c5745ab09efc4be0dcac4d111a5c4e31580c4eb3336c42178d8c3d81009c393ce1e43ff56e3435aa33b4499f082448d10a4448130c54435b8034529d8244576423545764235451a2adfc4846cbcc4eeae99c4b0e26dc4846728c4afd8c5c35b89ebc2032820435a0adb4359003344857b784494a89a446513b94408e9f544555f194515471e4515471e453c43cdc4c4f8acc44dae8cc4abc758c4bc3218c49b3bafc3f646b8c240302643fd41d443eeb52a44dc4a6b44cce696447b9cb244d807ea44ef260e45ef260e45ef260e45f49aa4c40fcd87c455fe55c48c621cc4868dc5c3e8ab24c3798683423019944361a803442a443d44f3df7644de3d98446b3eb144833fe344c44bfe44c44bfe44c44bfe447ba58ec4ae8267c466ba31c43ce4f7c3ac538cc3700c83c2e89a1543045eb6434af7104492bf4644da877c4411289944149ab444e730e144ab70e844ab70e844ab70e8440b018fc329f907c359fc6041b4182443d1109d434815e843e08c19441b0f3f4457916444c9098544e7ca9744058caa44224dbd44f647d344f647d344f647d344f647d344',\n",
       " 1904)"
      ]
     },
     "execution_count": null,
     "metadata": {},
     "output_type": "execute_result"
    }
   ],
   "source": [
    "# npa.astype(np.float32).tobytes().hex()\n",
    "buffer = npa.astype(np.float32).tobytes().hex()  ## == npa_to_packed_buffer(npa)\n",
    "buffer, len(buffer)\n",
    "test_eq(buffer, xcp_calib.data[0].value)"
   ]
  },
  {
   "cell_type": "code",
   "execution_count": null,
   "metadata": {},
   "outputs": [],
   "source": [
    "#| export\n",
    "def flash_xcp(xcp_calib: XCPCalib, data: pd.DataFrame, diff_flashing: bool=False, download: bool=True):\n",
    "    \"\"\"Summary\n",
    "    Flash XCP data to target\n",
    "\n",
    "    Args:\n",
    "        xcp_calib (XCPCalib): XCP calibration as template, contains all the meta information except for data\n",
    "        xcp_data (pd.DataFrame): input XCP data to be flashed, replace the value in xcp_calib\n",
    "        diff_flashing (bool): Use differential flashing\n",
    "        download (bool): Download or upload\n",
    "    \n",
    "    \"\"\"\n",
    "    \n",
    "    # convert dataframe to a hex string to be flashed and assigned to XCPCalib field data\n",
    "    xcp_calib.data = data.astype(np.float32).tobytes().hex()\n",
    "\n",
    "    if download:\n",
    "        if diff_flashing:\n",
    "            raise NotImplementedError(\"Differential flashing not implemented yet\")\n",
    "        else:\n",
    "            pass\n",
    "        \n",
    "\n",
    "    "
   ]
  },
  {
   "cell_type": "markdown",
   "metadata": {},
   "source": [
    "# Caution\n",
    "\n",
    "set the python3 of the virtualenv with the CAP_NET_RAW capability!\n",
    "\n",
    "```bash\n",
    "sudo setcap 'CAP_NET_RAW+eip CAP_NET_ADMIN+eip' /dpt/.pyenv/versions/miniconda3-3.11-24.1.2-0/envs/can/bin/python3.11\n",
    "```\n",
    "\n",
    "install sshpass, and create .sshpasswd.gpg file in home root\n",
    "```bash\n",
    "cd ~\n",
    "sudo apt-get install sshpass\n",
    "echo 'password_in_verbatim\" > .sshpasswd\n",
    "gpg -c .sshpasswd\n",
    "ls | grep 'sshpasswd.gpg'\n",
    "```"
   ]
  },
  {
   "cell_type": "code",
   "execution_count": null,
   "metadata": {},
   "outputs": [
    {
     "data": {
      "text/plain": [
       "3"
      ]
     },
     "execution_count": null,
     "metadata": {},
     "output_type": "execute_result"
    }
   ],
   "source": [
    "args.channel_serial_number\n",
    "bus = 'can'"
   ]
  },
  {
   "cell_type": "code",
   "execution_count": null,
   "metadata": {},
   "outputs": [
    {
     "data": {
      "text/plain": [
       "'can3'"
      ]
     },
     "execution_count": null,
     "metadata": {},
     "output_type": "execute_result"
    }
   ],
   "source": [
    "\n",
    "bus+str(args.channel_serial_number)"
   ]
  },
  {
   "cell_type": "code",
   "execution_count": null,
   "metadata": {},
   "outputs": [
    {
     "name": "stderr",
     "output_type": "stream",
     "text": [
      "SSHPASS: searching for password prompt using match \"assword\"\n",
      "SSHPASS: read: [sudo] password for veos: \n",
      "SSHPASS: detected prompt. Sending password.\n",
      "SSHPASS: read: \n",
      "\n"
     ]
    },
    {
     "data": {
      "text/plain": [
       "0"
      ]
     },
     "execution_count": null,
     "metadata": {},
     "output_type": "execute_result"
    }
   ],
   "source": [
    "# install vcan interface with encrypted password to sudo \n",
    "if args.bus_type == 'SOCKET':\n",
    "    bus='can'\n",
    "else:  # 'VIRTUAL\"\n",
    "    bus='vcan'\n",
    "device = bus+str(args.channel_serial_number)\n",
    "\n",
    "os.system(f\"gpg -d -q ~/.sshpasswd.gpg | sshpass -v sudo modprobe {bus}\")\n"
   ]
  },
  {
   "cell_type": "code",
   "execution_count": null,
   "metadata": {},
   "outputs": [
    {
     "name": "stderr",
     "output_type": "stream",
     "text": [
      "SSHPASS: searching for password prompt using match \"assword\"\n",
      "SSHPASS: read: [sudo] password for veos: \n",
      "SSHPASS: detected prompt. Sending password.\n",
      "SSHPASS: read: \n",
      "\n",
      "RTNETLINK answers: File exists\n"
     ]
    },
    {
     "data": {
      "text/plain": [
       "512"
      ]
     },
     "execution_count": null,
     "metadata": {},
     "output_type": "execute_result"
    }
   ],
   "source": [
    "os.system(f\"gpg -d -q ~/.sshpasswd.gpg | sshpass -v sudo ip link add dev {device} type {bus}\")\n"
   ]
  },
  {
   "cell_type": "code",
   "execution_count": null,
   "metadata": {},
   "outputs": [
    {
     "data": {
      "text/plain": [
       "('vcan3', 'vcan', 500000)"
      ]
     },
     "execution_count": null,
     "metadata": {},
     "output_type": "execute_result"
    }
   ],
   "source": [
    "device, bus, args.bit_rate"
   ]
  },
  {
   "cell_type": "code",
   "execution_count": null,
   "metadata": {},
   "outputs": [
    {
     "name": "stderr",
     "output_type": "stream",
     "text": [
      "SSHPASS: searching for password prompt using match \"assword\"\n",
      "SSHPASS: read: [sudo] password for veos: \n",
      "SSHPASS: detected prompt. Sending password.\n",
      "SSHPASS: read: \n",
      "\n"
     ]
    },
    {
     "data": {
      "text/plain": [
       "0"
      ]
     },
     "execution_count": null,
     "metadata": {},
     "output_type": "execute_result"
    }
   ],
   "source": [
    "os.system(f\"gpg -d -q ~/.sshpasswd.gpg | sshpass -v sudo ip link set {device} up type {bus} bitrate {args.bit_rate}\")\n",
    "# os.system(f\"gpg -d -q ~/.sshpasswd.gpg | sshpass -v sudo ip link set up {device}\")\n",
    "# sudo ip link set can3 up type can bitrate 500000\n"
   ]
  },
  {
   "cell_type": "code",
   "execution_count": null,
   "metadata": {},
   "outputs": [
    {
     "name": "stdout",
     "output_type": "stream",
     "text": [
      "10: can3: <NOARP,UP,LOWER_UP,ECHO> mtu 16 qdisc pfifo_fast state UP mode DEFAULT group default qlen 10\n",
      "    link/can \n"
     ]
    },
    {
     "data": {
      "text/plain": [
       "0"
      ]
     },
     "execution_count": null,
     "metadata": {},
     "output_type": "execute_result"
    }
   ],
   "source": [
    "os.system(f\"ip link show {device}\")"
   ]
  },
  {
   "cell_type": "code",
   "execution_count": null,
   "metadata": {},
   "outputs": [
    {
     "data": {
      "text/plain": [
       "{'socket': <socket.socket fd=81, family=29, type=3, proto=1, laddr=('can3',)>,\n",
       " 'channel': 'can3',\n",
       " 'channel_info': \"socketcan channel 'can3'\",\n",
       " '_bcm_sockets': {},\n",
       " '_is_filtered': True,\n",
       " '_task_id': 0,\n",
       " '_task_id_guard': <unlocked _thread.lock object>,\n",
       " '_can_protocol': <CanProtocol.CAN_20: 1>,\n",
       " '_periodic_tasks': [],\n",
       " '_filters': None}"
      ]
     },
     "execution_count": null,
     "metadata": {},
     "output_type": "execute_result"
    }
   ],
   "source": [
    "bus = can.interface.Bus(bustype='socketcan', channel=device, bitrate=args.bit_rate)\n",
    "bus.__dict__"
   ]
  },
  {
   "cell_type": "code",
   "execution_count": null,
   "metadata": {},
   "outputs": [],
   "source": [
    "# cntr = 0\n",
    "# can_data = 0x12345678\n",
    "# message_to_send = can.Message(arbitration_id=args.download_can_id, \n",
    "#                             data=can_data, \n",
    "#                             is_extended_id=False) \t\n",
    "# message_to_send"
   ]
  },
  {
   "cell_type": "code",
   "execution_count": null,
   "metadata": {},
   "outputs": [
    {
     "data": {
      "text/plain": [
       "3"
      ]
     },
     "execution_count": null,
     "metadata": {},
     "output_type": "execute_result"
    }
   ],
   "source": [
    "args.channel_serial_number"
   ]
  },
  {
   "cell_type": "markdown",
   "metadata": {},
   "source": [
    "# CCP via python-can "
   ]
  },
  {
   "cell_type": "code",
   "execution_count": null,
   "metadata": {},
   "outputs": [
    {
     "data": {
      "text/plain": [
       "'can3'"
      ]
     },
     "execution_count": null,
     "metadata": {},
     "output_type": "execute_result"
    }
   ],
   "source": [
    "channel = 'can' + str(xcp_calib.config.channel)\n",
    "channel"
   ]
  },
  {
   "cell_type": "code",
   "execution_count": null,
   "metadata": {},
   "outputs": [
    {
     "data": {
      "text/plain": [
       "Namespace(protocol='CCP', bus_type='SOCKET', download=True, diff_mode=True, diff_threshold=0.001, bit_rate=500000, time_out=1.0, station_address=0, download_can_id=630, upload_can_id=631, a2l='/home/veos/devel/candycan/res/VBU_AI.json', node_path='/PROJECT/MODULE[]', leaves=['TQD_trqTrqSetNormal_MAP_v', 'VBU_L045A_CWP_05_09T_AImode_CM_single', 'Lookup2D_FLOAT32_IEEE', 'Lookup2D_X_FLOAT32_IEEE', 'Scalar_FLOAT32_IEEE', 'TQD_vVehSpd', 'TQD_vSgndSpd_MAP_y', 'TQD_pctAccPedPosFlt', 'TQD_pctAccPdl_MAP_x'], channel_serial_number=3, input='/home/veos/devel/candycan/res/download.json', output='/home/veos/devel/candycan/res/output.json')"
      ]
     },
     "execution_count": null,
     "metadata": {},
     "output_type": "execute_result"
    }
   ],
   "source": [
    "args"
   ]
  },
  {
   "cell_type": "code",
   "execution_count": null,
   "metadata": {},
   "outputs": [
    {
     "data": {
      "text/plain": [
       "ScapyCANSpecs(bus_type='SOCKET', channel_serial_number=3, download_can_id=630, upload_can_id=631, can_filters=[CANFilter(can_id=631, can_mask=2047)], bit_rate=500000, time_out=1.0, station_address=0, cntr=0, receive_own_messages=True, download_upload=True, diff_mode=False, diff_threshold=0.001, last_download_data=None, channel='can3')"
      ]
     },
     "execution_count": null,
     "metadata": {},
     "output_type": "execute_result"
    },
    {
     "data": {
      "text/plain": [
       "{'bus_type': 'SOCKET',\n",
       " 'channel_serial_number': 3,\n",
       " 'download_can_id': 630,\n",
       " 'upload_can_id': 631,\n",
       " 'can_filters': [{'can_id': 631, 'can_mask': 2047}],\n",
       " 'bit_rate': 500000,\n",
       " 'time_out': 1.0,\n",
       " 'station_address': 0,\n",
       " 'cntr': 0,\n",
       " 'receive_own_messages': True,\n",
       " 'download_upload': True,\n",
       " 'diff_mode': False,\n",
       " 'diff_threshold': 0.001,\n",
       " 'last_download_data': None,\n",
       " 'channel': 'can3'}"
      ]
     },
     "execution_count": null,
     "metadata": {},
     "output_type": "execute_result"
    }
   ],
   "source": [
    "can_filters = [{'can_id': xcp_calib.config.upload_can_id, 'can_mask': 0x7FF}]\n",
    "can_specs = ScapyCANSpecs(can_type='NATIVE', \n",
    "                        bus_type=args.bus_type, \n",
    "                        channel_serial_number=args.channel_serial_number,\n",
    "                        download_can_id=xcp_calib.config.download_can_id,\n",
    "                        upload_can_id=xcp_calib.config.upload_can_id,\n",
    "                        can_filters=can_filters,\n",
    "                        bit_rate=args.bit_rate,\n",
    "                        time_out=1.0,\n",
    "                        station_address=args.station_address,\n",
    "                        cntr=0,\n",
    "                        receive_own_messages=True,\n",
    "                        download_upload=True\n",
    "                        )\n",
    "can_specs\n",
    "can_specs.model_dump()"
   ]
  },
  {
   "cell_type": "markdown",
   "metadata": {},
   "source": [
    "## create sample data for testing"
   ]
  },
  {
   "cell_type": "code",
   "execution_count": null,
   "metadata": {},
   "outputs": [
    {
     "data": {
      "text/plain": [
       "630"
      ]
     },
     "execution_count": null,
     "metadata": {},
     "output_type": "execute_result"
    },
    {
     "data": {
      "text/plain": [
       "'0x276'"
      ]
     },
     "execution_count": null,
     "metadata": {},
     "output_type": "execute_result"
    }
   ],
   "source": [
    "xcp_calib.config.download_can_id\n",
    "hex(xcp_calib.config.download_can_id)"
   ]
  },
  {
   "cell_type": "code",
   "execution_count": null,
   "metadata": {},
   "outputs": [
    {
     "data": {
      "text/plain": [
       "[{   'address': '7000aa2a',\n",
       "     'dim': [14, 17],\n",
       "     'name': 'TQD_trqTrqSetNormal_MAP_v',\n",
       "     'type_size': 4,\n",
       "     'value': '0000000025...344',\n",
       "     'value_array_view': array([[    0.   ,  1135.317,  1135.317, ...,  4436.   ,  4436.   ,\n",
       "          4436.   ],\n",
       "        [    0.   ,   148.09 ,   148.09 , ...,  4436.   ,  4436.   ,\n",
       "          4436.   ],\n",
       "        [-1338.534,  -833.344,  -328.155, ...,  4436.   ,  4436.   ,\n",
       "          4436.   ],\n",
       "        ...,\n",
       "        [-1316.842, -1086.408,  -855.974, ...,  2034.368,  2034.368,\n",
       "          2034.368],\n",
       "        [-1141.171,  -926.042,  -710.912, ...,  1859.521,  1859.521,\n",
       "          1859.521],\n",
       "        [ -286.008,  -135.973,    14.062, ...,  1690.249,  1690.249,\n",
       "          1690.249]], dtype=float32),\n",
       "     'value_bytes': \"b'\\\\x00'...b'D'\",\n",
       "     'value_length': 4,\n",
       "     'value_type': 'FLOAT32_IEEE'}]"
      ]
     },
     "execution_count": null,
     "metadata": {},
     "output_type": "execute_result"
    }
   ],
   "source": [
    "xcp_calib.data"
   ]
  },
  {
   "cell_type": "code",
   "execution_count": null,
   "metadata": {},
   "outputs": [
    {
     "data": {
      "text/plain": [
       "('7000aa2a',\n",
       " 4,\n",
       " [14, 17],\n",
       " array([[    0.   ,  1135.317,  1135.317, ...,  4436.   ,  4436.   ,\n",
       "          4436.   ],\n",
       "        [    0.   ,   148.09 ,   148.09 , ...,  4436.   ,  4436.   ,\n",
       "          4436.   ],\n",
       "        [-1338.534,  -833.344,  -328.155, ...,  4436.   ,  4436.   ,\n",
       "          4436.   ],\n",
       "        ...,\n",
       "        [-1316.842, -1086.408,  -855.974, ...,  2034.368,  2034.368,\n",
       "          2034.368],\n",
       "        [-1141.171,  -926.042,  -710.912, ...,  1859.521,  1859.521,\n",
       "          1859.521],\n",
       "        [ -286.008,  -135.973,    14.062, ...,  1690.249,  1690.249,\n",
       "          1690.249]], dtype=float32),\n",
       " b'\\x00\\x00\\x00\\x00%\\xea\\x8dD%\\xea\\x8dD%\\xea\\x8dD%\\xea\\x8dD\\xdb4\\x95D\\xb3\\x1e\\xb6D\\x8c\\x08\\xd7Dd\\xf2\\xf7D\\x1en\\x0cE\\x81\\x1d%E\\xe3\\xcc=EF|VE\\x85\\xed\\x83E\\x00\\xa0\\x8aE\\x00\\xa0\\x8aE\\x00\\xa0\\x8aE\\x00\\x00\\x00\\x00\\xed\\x16\\x14C\\xed\\x16\\x14CN\\xba\\x8dC\\x1ay\\x1eD\\xcbL`D>\\x10\\x91D\\x17\\xfa\\xb1D\\xef\\xe3\\xd2D\\xc8\\xcd\\xf3DF\\x96\\x12E\\xa9E+E\\x0b\\xf5CE\\xd0SuE\\x00\\xa0\\x8aE\\x00\\xa0\\x8aE\\x00\\xa0\\x8aE\\x14Q\\xa7\\xc4\\x0bVP\\xc4\\xdd\\x13\\xa4\\xc3\\xb8\\x081CM\\xa9\\xf9CV%AD\\x84|\\x81D\\\\f\\xa2D5P\\xc3D\\r:\\xe4Di\\xcc\\nE\\xcb{#E.+<E\\xf3\\x89mE\\x00\\xa0\\x8aE\\x00\\xa0\\x8aE\\x00\\xa0\\x8aE\\xff\\xfc\\x0f\\xc5\\xa4\\xfc\\xd0\\xc4K\\xff\\x81\\xc4\\xc8\\x07\\xcc\\xc39\\xdb_Cv\\xa0\\tD\\xf8\\xd7GD\\xbd\\x07\\x83D\\x7f#\\xa2D@?\\xc1D\\xe2\\xe8\\xefDBI\\x0fE\\x13\\x9e&E\\xb5GUE\\xab\\xf8\\x81E\\x00\\xa0\\x8aE\\x00\\xa0\\x8aEw\\x1f\\r\\xc5\\x9fj\\xda\\xc4Q\\x96\\x9a\\xc4\\x07\\x845\\xc4\\xabmW\\xc3b\\x9a\\x93C\\xeb\\x8d\\x18D?)SDJ\\xe2\\x86D\\xf4/\\xa4Dt$\\xd0D\\xf3\\x18\\xfcD\\xb9\\x06\\x14E9\\xfb?E\\xb8\\xefkE\\x00\\xa0\\x8aE\\x00\\xa0\\x8aEH>\\t\\xc5\\x1d\\xd0\\xdc\\xc4\\xa9#\\xa7\\xc4l\\xeeb\\xc4\\n+\\xef\\xc3\\xdc\\xc9C\\xc2\\x938\\xbeC\\xbe\\x14)D\\xe4\\x13`D\\x85\\x89\\x8bD\\xe1\\xc8\\xb4D>\\x08\\xdeD\\xcd\\xa3\\x03E*\\xe3,E\\x86\"VE\\xe3a\\x7fE\\x00\\xa0\\x8aEsY\\x04\\xc5\\xaa$\\xda\\xc4l\\x96\\xab\\xc4_\\x10z\\xc4\\xe5\\xf3\\x1c\\xc4\\xac]\\x7f\\xc3y(\\xeaB\\x12\\xc3\\xf4C\\xff\\x0b>D\\xf7nqD\\xb5A\\x9fD\\xef\\xcb\\xc5D(V\\xecDN\\xb5\\x1cE\\x87?CE\\xc1\\xc9iE\\xf17\\x83E\\xef\\xe1\\xfc\\xc4\\xba\\xc2\\xd3\\xc4\\x85\\xa3\\xaa\\xc4O\\x84\\x81\\xc44\\xca0\\xc4\\x91\\x17\\xbd\\xc3\\xdd\\xd5D\\xc2\\x1a\\xe2\\x8bCx/\\x18D\\xd5\\xcaTD\\x82:\\x8eD\\x99\\x0f\\xb2D\\xb0\\xe4\\xd5Do\\xc7\\x0eE\\x86\\x9c2E\\x9eqVE\\xd5,WE\\xab\\t\\xef\\xc4\\xbe\\r\\xca\\xc4\\xd1\\x11\\xa5\\xc4\\xe3\\x15\\x80\\xc4\\xeb36\\xc4!x\\xd8\\xc3\\xd8\\x10\\t\\xc3\\x93\\xce\\x1eC\\xffV\\xe3CZ\\xa3;D\\x99\\xf0\\x82D\\x8d\\x10\\xa4D\\x810\\xc5D5\\xb8\\x03E)\\xd8$EvB5EvB5E\\x1a*\\xdf\\xc4\\x84l\\xbc\\xc4\\xee\\xae\\x99\\xc4\\xb0\\xe2m\\xc4\\x84g(\\xc4\\xaf\\xd8\\xc5\\xc3[\\x89\\xeb\\xc2\\x03( CZ\\n\\xdbCY\\x003D\\x85{xD\\x94\\xa8\\x9aDe\\x13\\xb9D\\x08\\xe9\\xf5DU_\\x19E\\x15G\\x1eE\\x15G\\x1eE<C\\xcd\\xc4\\xc4\\xf8\\xac\\xc4M\\xae\\x8c\\xc4\\xab\\xc7X\\xc4\\xbc2\\x18\\xc4\\x9b;\\xaf\\xc3\\xf6F\\xb8\\xc2@0&C\\xfdA\\xd4C\\xee\\xb5*D\\xdcJkD\\xcc\\xe6\\x96D{\\x9c\\xb2D\\xd8\\x07\\xeaD\\xef&\\x0eE\\xef&\\x0eE\\xef&\\x0eE\\xf4\\x9a\\xa4\\xc4\\x0f\\xcd\\x87\\xc4U\\xfeU\\xc4\\x8cb\\x1c\\xc4\\x86\\x8d\\xc5\\xc3\\xe8\\xab$\\xc3y\\x86\\x83B0\\x19\\x94Ca\\xa8\\x03D*D=D\\xf3\\xdfvD\\xde=\\x98Dk>\\xb1D\\x83?\\xe3D\\xc4K\\xfeD\\xc4K\\xfeD\\xc4K\\xfeD{\\xa5\\x8e\\xc4\\xae\\x82g\\xc4f\\xba1\\xc4<\\xe4\\xf7\\xc3\\xacS\\x8c\\xc3p\\x0c\\x83\\xc2\\xe8\\x9a\\x15C\\x04^\\xb6CJ\\xf7\\x10D\\x92\\xbfFD\\xda\\x87|D\\x11(\\x99D\\x14\\x9a\\xb4D\\xe70\\xe1D\\xabp\\xe8D\\xabp\\xe8D\\xabp\\xe8D\\x0b\\x01\\x8f\\xc3)\\xf9\\x07\\xc3Y\\xfc`A\\xb4\\x18$C\\xd1\\x10\\x9dCH\\x15\\xe8C\\xe0\\x8c\\x19D\\x1b\\x0f?DW\\x91dD\\xc9\\t\\x85D\\xe7\\xca\\x97D\\x05\\x8c\\xaaD\"M\\xbdD\\xf6G\\xd3D\\xf6G\\xd3D\\xf6G\\xd3D\\xf6G\\xd3D')"
      ]
     },
     "execution_count": null,
     "metadata": {},
     "output_type": "execute_result"
    },
    {
     "data": {
      "text/plain": [
       "952"
      ]
     },
     "execution_count": null,
     "metadata": {},
     "output_type": "execute_result"
    },
    {
     "data": {
      "text/plain": [
       "'0000000025ea8d4425ea8d4425ea8d4425ea8d44db349544b31eb6448c08d74464f2f7441e6e0c45811d2545e3cc3d45467c564585ed834500a08a4500a08a4500a08a4500000000ed161443ed1614434eba8d431a791e44cb4c60443e10914417fab144efe3d244c8cdf34446961245a9452b450bf54345d053754500a08a4500a08a4500a08a451451a7c40b5650c4dd13a4c3b80831434da9f94356254144847c81445c66a2443550c3440d3ae44469cc0a45cb7b23452e2b3c45f3896d4500a08a4500a08a4500a08a45fffc0fc5a4fcd0c44bff81c4c807ccc339db5f4376a00944f8d74744bd0783447f23a244403fc144e2e8ef4442490f45139e2645b5475545abf8814500a08a4500a08a45771f0dc59f6adac451969ac4078435c4ab6d57c3629a9343eb8d18443f2953444ae28644f42fa4447424d044f318fc44b906144539fb3f45b8ef6b4500a08a4500a08a45483e09c51dd0dcc4a923a7c46cee62c40a2befc3dcc943c29338be43be142944e413604485898b44e1c8b4443e08de44cda303452ae32c4586225645e3617f4500a08a45735904c5aa24dac46c96abc45f107ac4e5f31cc4ac5d7fc37928ea4212c3f443ff0b3e44f76e7144b5419f44efcbc5442856ec444eb51c45873f4345c1c96945f1378345efe1fcc4bac2d3c485a3aac44f8481c434ca30c49117bdc3ddd544c21ae28b43782f1844d5ca5444823a8e44990fb244b0e4d5446fc70e45869c32459e715645d52c5745ab09efc4be0dcac4d111a5c4e31580c4eb3336c42178d8c3d81009c393ce1e43ff56e3435aa33b4499f082448d10a4448130c54435b8034529d8244576423545764235451a2adfc4846cbcc4eeae99c4b0e26dc4846728c4afd8c5c35b89ebc2032820435a0adb4359003344857b784494a89a446513b94408e9f544555f194515471e4515471e453c43cdc4c4f8acc44dae8cc4abc758c4bc3218c49b3bafc3f646b8c240302643fd41d443eeb52a44dc4a6b44cce696447b9cb244d807ea44ef260e45ef260e45ef260e45f49aa4c40fcd87c455fe55c48c621cc4868dc5c3e8ab24c3798683423019944361a803442a443d44f3df7644de3d98446b3eb144833fe344c44bfe44c44bfe44c44bfe447ba58ec4ae8267c466ba31c43ce4f7c3ac538cc3700c83c2e89a1543045eb6434af7104492bf4644da877c4411289944149ab444e730e144ab70e844ab70e844ab70e8440b018fc329f907c359fc6041b4182443d1109d434815e843e08c19441b0f3f4457916444c9098544e7ca9744058caa44224dbd44f647d344f647d344f647d344f647d344'"
      ]
     },
     "execution_count": null,
     "metadata": {},
     "output_type": "execute_result"
    }
   ],
   "source": [
    "xcp_data = xcp_calib.data[0]\n",
    "xcp_data.address, xcp_data.type_size, xcp_data.dim, xcp_data.value_array_view, xcp_data.value_bytes\n",
    "len(xcp_data.value_bytes)\n",
    "xcp_data.value"
   ]
  },
  {
   "cell_type": "markdown",
   "metadata": {},
   "source": [
    "## Test bytes hex encodeing and decoding"
   ]
  },
  {
   "cell_type": "code",
   "execution_count": null,
   "metadata": {},
   "outputs": [
    {
     "name": "stdout",
     "output_type": "stream",
     "text": [
      "len_in_bytes: 952 = type_size: 4 x dim: [14, 17]\n",
      "download_times: 158, last_download_size: 4\n"
     ]
    }
   ],
   "source": [
    "len_in_bytes = xcp_data.type_size * xcp_data.dim[0] * xcp_data.dim[1]\n",
    "print(f\"len_in_bytes: {len_in_bytes} = type_size: {xcp_data.type_size} x dim: {xcp_data.dim}\")\n",
    "\n",
    "download_times = len_in_bytes // 6\n",
    "last_download_size = len_in_bytes % 6\n",
    "print(f\"download_times: {download_times}, last_download_size: {last_download_size}\")\n"
   ]
  },
  {
   "cell_type": "code",
   "execution_count": null,
   "metadata": {},
   "outputs": [
    {
     "data": {
      "text/plain": [
       "b'\\x00\\x00\\x00\\x00%\\xea\\x8dD%\\xea\\x8dD%\\xea\\x8dD%\\xea\\x8dD\\xdb4\\x95D\\xb3\\x1e\\xb6D\\x8c\\x08\\xd7Dd\\xf2\\xf7D\\x1en\\x0cE\\x81\\x1d%E\\xe3\\xcc=EF|VE\\x85\\xed\\x83E\\x00\\xa0\\x8aE\\x00\\xa0\\x8aE\\x00\\xa0\\x8aE\\x00\\x00\\x00\\x00\\xed\\x16\\x14C\\xed\\x16\\x14CN\\xba\\x8dC\\x1ay\\x1eD\\xcbL`D>\\x10\\x91D\\x17\\xfa\\xb1D\\xef\\xe3\\xd2D\\xc8\\xcd\\xf3DF\\x96\\x12E\\xa9E+E\\x0b\\xf5CE\\xd0SuE\\x00\\xa0\\x8aE\\x00\\xa0\\x8aE\\x00\\xa0\\x8aE\\x14Q\\xa7\\xc4\\x0bVP\\xc4\\xdd\\x13\\xa4\\xc3\\xb8\\x081CM\\xa9\\xf9CV%AD\\x84|\\x81D\\\\f\\xa2D5P\\xc3D\\r:\\xe4Di\\xcc\\nE\\xcb{#E.+<E\\xf3\\x89mE\\x00\\xa0\\x8aE\\x00\\xa0\\x8aE\\x00\\xa0\\x8aE\\xff\\xfc\\x0f\\xc5\\xa4\\xfc\\xd0\\xc4K\\xff\\x81\\xc4\\xc8\\x07\\xcc\\xc39\\xdb_Cv\\xa0\\tD\\xf8\\xd7GD\\xbd\\x07\\x83D\\x7f#\\xa2D@?\\xc1D\\xe2\\xe8\\xefDBI\\x0fE\\x13\\x9e&E\\xb5GUE\\xab\\xf8\\x81E\\x00\\xa0\\x8aE\\x00\\xa0\\x8aEw\\x1f\\r\\xc5\\x9fj\\xda\\xc4Q\\x96\\x9a\\xc4\\x07\\x845\\xc4\\xabmW\\xc3b\\x9a\\x93C\\xeb\\x8d\\x18D?)SDJ\\xe2\\x86D\\xf4/\\xa4Dt$\\xd0D\\xf3\\x18\\xfcD\\xb9\\x06\\x14E9\\xfb?E\\xb8\\xefkE\\x00\\xa0\\x8aE\\x00\\xa0\\x8aEH>\\t\\xc5\\x1d\\xd0\\xdc\\xc4\\xa9#\\xa7\\xc4l\\xeeb\\xc4\\n+\\xef\\xc3\\xdc\\xc9C\\xc2\\x938\\xbeC\\xbe\\x14)D\\xe4\\x13`D\\x85\\x89\\x8bD\\xe1\\xc8\\xb4D>\\x08\\xdeD\\xcd\\xa3\\x03E*\\xe3,E\\x86\"VE\\xe3a\\x7fE\\x00\\xa0\\x8aEsY\\x04\\xc5\\xaa$\\xda\\xc4l\\x96\\xab\\xc4_\\x10z\\xc4\\xe5\\xf3\\x1c\\xc4\\xac]\\x7f\\xc3y(\\xeaB\\x12\\xc3\\xf4C\\xff\\x0b>D\\xf7nqD\\xb5A\\x9fD\\xef\\xcb\\xc5D(V\\xecDN\\xb5\\x1cE\\x87?CE\\xc1\\xc9iE\\xf17\\x83E\\xef\\xe1\\xfc\\xc4\\xba\\xc2\\xd3\\xc4\\x85\\xa3\\xaa\\xc4O\\x84\\x81\\xc44\\xca0\\xc4\\x91\\x17\\xbd\\xc3\\xdd\\xd5D\\xc2\\x1a\\xe2\\x8bCx/\\x18D\\xd5\\xcaTD\\x82:\\x8eD\\x99\\x0f\\xb2D\\xb0\\xe4\\xd5Do\\xc7\\x0eE\\x86\\x9c2E\\x9eqVE\\xd5,WE\\xab\\t\\xef\\xc4\\xbe\\r\\xca\\xc4\\xd1\\x11\\xa5\\xc4\\xe3\\x15\\x80\\xc4\\xeb36\\xc4!x\\xd8\\xc3\\xd8\\x10\\t\\xc3\\x93\\xce\\x1eC\\xffV\\xe3CZ\\xa3;D\\x99\\xf0\\x82D\\x8d\\x10\\xa4D\\x810\\xc5D5\\xb8\\x03E)\\xd8$EvB5EvB5E\\x1a*\\xdf\\xc4\\x84l\\xbc\\xc4\\xee\\xae\\x99\\xc4\\xb0\\xe2m\\xc4\\x84g(\\xc4\\xaf\\xd8\\xc5\\xc3[\\x89\\xeb\\xc2\\x03( CZ\\n\\xdbCY\\x003D\\x85{xD\\x94\\xa8\\x9aDe\\x13\\xb9D\\x08\\xe9\\xf5DU_\\x19E\\x15G\\x1eE\\x15G\\x1eE<C\\xcd\\xc4\\xc4\\xf8\\xac\\xc4M\\xae\\x8c\\xc4\\xab\\xc7X\\xc4\\xbc2\\x18\\xc4\\x9b;\\xaf\\xc3\\xf6F\\xb8\\xc2@0&C\\xfdA\\xd4C\\xee\\xb5*D\\xdcJkD\\xcc\\xe6\\x96D{\\x9c\\xb2D\\xd8\\x07\\xeaD\\xef&\\x0eE\\xef&\\x0eE\\xef&\\x0eE\\xf4\\x9a\\xa4\\xc4\\x0f\\xcd\\x87\\xc4U\\xfeU\\xc4\\x8cb\\x1c\\xc4\\x86\\x8d\\xc5\\xc3\\xe8\\xab$\\xc3y\\x86\\x83B0\\x19\\x94Ca\\xa8\\x03D*D=D\\xf3\\xdfvD\\xde=\\x98Dk>\\xb1D\\x83?\\xe3D\\xc4K\\xfeD\\xc4K\\xfeD\\xc4K\\xfeD{\\xa5\\x8e\\xc4\\xae\\x82g\\xc4f\\xba1\\xc4<\\xe4\\xf7\\xc3\\xacS\\x8c\\xc3p\\x0c\\x83\\xc2\\xe8\\x9a\\x15C\\x04^\\xb6CJ\\xf7\\x10D\\x92\\xbfFD\\xda\\x87|D\\x11(\\x99D\\x14\\x9a\\xb4D\\xe70\\xe1D\\xabp\\xe8D\\xabp\\xe8D\\xabp\\xe8D\\x0b\\x01\\x8f\\xc3)\\xf9\\x07\\xc3Y\\xfc`A\\xb4\\x18$C\\xd1\\x10\\x9dCH\\x15\\xe8C\\xe0\\x8c\\x19D\\x1b\\x0f?DW\\x91dD\\xc9\\t\\x85D\\xe7\\xca\\x97D\\x05\\x8c\\xaaD\"M\\xbdD\\xf6G\\xd3D\\xf6G\\xd3D\\xf6G\\xd3D\\xf6G\\xd3D'"
      ]
     },
     "execution_count": null,
     "metadata": {},
     "output_type": "execute_result"
    },
    {
     "data": {
      "text/plain": [
       "952"
      ]
     },
     "execution_count": null,
     "metadata": {},
     "output_type": "execute_result"
    },
    {
     "data": {
      "text/plain": [
       "(6, b'\\x00\\x00\\x00\\x00%\\xea', '0000000025ea', bytes)"
      ]
     },
     "execution_count": null,
     "metadata": {},
     "output_type": "execute_result"
    },
    {
     "data": {
      "text/plain": [
       "(6, b'\\x8dD%\\xea\\x8dD', '8d4425ea8d44')"
      ]
     },
     "execution_count": null,
     "metadata": {},
     "output_type": "execute_result"
    }
   ],
   "source": [
    "xcp_data.value_bytes\n",
    "len(xcp_data.value_bytes)\n",
    "tile0 = xcp_data.value_bytes[0:6]\n",
    "len(tile0), tile0, tile0.hex(), type(tile0)\n",
    "tile1 = xcp_data.value_bytes[6:12]\n",
    "len(tile1), tile1, tile1.hex()\n"
   ]
  },
  {
   "cell_type": "code",
   "execution_count": null,
   "metadata": {},
   "outputs": [
    {
     "data": {
      "text/plain": [
       "(4, b'\\x00\\x00\\x00\\x00', '00000000', bytes, (0.0,))"
      ]
     },
     "execution_count": null,
     "metadata": {},
     "output_type": "execute_result"
    }
   ],
   "source": [
    "tile0 = xcp_data.value_bytes[0:4]\n",
    "len(tile0), tile0, tile0.hex(), type(tile0), struct.unpack(\"<f\", tile0)"
   ]
  },
  {
   "cell_type": "code",
   "execution_count": null,
   "metadata": {},
   "outputs": [
    {
     "data": {
      "text/plain": [
       "(4, b'%\\xea\\x8dD', '25ea8d44', (1135.3170166015625,))"
      ]
     },
     "execution_count": null,
     "metadata": {},
     "output_type": "execute_result"
    }
   ],
   "source": [
    "tile1 = xcp_data.value_bytes[4:8]\n",
    "len(tile1), tile1, tile1.hex(), struct.unpack(\"<f\", tile1)"
   ]
  },
  {
   "cell_type": "code",
   "execution_count": null,
   "metadata": {},
   "outputs": [
    {
     "data": {
      "text/plain": [
       "(4, b'%\\xea\\x8dD', '25ea8d44', (1135.3170166015625,))"
      ]
     },
     "execution_count": null,
     "metadata": {},
     "output_type": "execute_result"
    }
   ],
   "source": [
    "tile2 = xcp_data.value_bytes[8:12]\n",
    "len(tile2), tile2, tile2.hex(), struct.unpack(\"<f\", tile2)"
   ]
  },
  {
   "cell_type": "code",
   "execution_count": null,
   "metadata": {},
   "outputs": [
    {
     "data": {
      "text/plain": [
       "(4, b'\\x14Q\\xa7\\xc4', '1451a7c4', (-1338.53369140625,))"
      ]
     },
     "execution_count": null,
     "metadata": {},
     "output_type": "execute_result"
    },
    {
     "data": {
      "text/plain": [
       "-1338.5337"
      ]
     },
     "execution_count": null,
     "metadata": {},
     "output_type": "execute_result"
    }
   ],
   "source": [
    "st = 2*17*4\n",
    "tile3 = xcp_data.value_bytes[st:st+4]\n",
    "len(tile1), tile3, tile3.hex(), struct.unpack(\"<f\", tile3)\n",
    "xcp_data.value_array_view[2,0]\n",
    "test_eq(struct.unpack(\"<f\", tile3), xcp_data.value_array_view[2,0])"
   ]
  },
  {
   "cell_type": "code",
   "execution_count": null,
   "metadata": {},
   "outputs": [
    {
     "data": {
      "text/plain": [
       "(b'\\x14Q\\xa7\\xc4', 4)"
      ]
     },
     "execution_count": null,
     "metadata": {},
     "output_type": "execute_result"
    },
    {
     "data": {
      "text/plain": [
       "('1451a7c4', 8)"
      ]
     },
     "execution_count": null,
     "metadata": {},
     "output_type": "execute_result"
    },
    {
     "data": {
      "text/plain": [
       "(b'1451a7c4', 8)"
      ]
     },
     "execution_count": null,
     "metadata": {},
     "output_type": "execute_result"
    },
    {
     "data": {
      "text/plain": [
       "('3134353161376334', 16)"
      ]
     },
     "execution_count": null,
     "metadata": {},
     "output_type": "execute_result"
    },
    {
     "name": "stdout",
     "output_type": "stream",
     "text": [
      "'str' object has no attribute 'hex'\n",
      "'utf-8' codec can't decode byte 0xa7 in position 2: invalid start byte\n"
     ]
    }
   ],
   "source": [
    "tile3, len(tile3)\n",
    "tile3.hex(), len(tile3.hex())\n",
    "tile3.hex().encode(), len(tile3.hex().encode()), \n",
    "tile3.hex().encode().hex(), len(tile3.hex().encode().hex())\n",
    "try:\n",
    "    tile3.hex().hex()\n",
    "except Exception as exc:\n",
    "    print(exc)\n",
    "try:\n",
    "    tile3.decode(\"utf-8\"), len(tile3.decode())\n",
    "except Exception as exc:\n",
    "    print(exc)\n"
   ]
  },
  {
   "cell_type": "code",
   "execution_count": null,
   "metadata": {},
   "outputs": [
    {
     "data": {
      "text/plain": [
       "'儔쒧'"
      ]
     },
     "execution_count": null,
     "metadata": {},
     "output_type": "execute_result"
    },
    {
     "data": {
      "text/plain": [
       "'\\\\x14\\\\x51\\\\xa7\\\\xc4'"
      ]
     },
     "execution_count": null,
     "metadata": {},
     "output_type": "execute_result"
    },
    {
     "data": {
      "text/plain": [
       "('\\x14Q\\\\xa7\\\\xc4', 10, str)"
      ]
     },
     "execution_count": null,
     "metadata": {},
     "output_type": "execute_result"
    },
    {
     "data": {
      "text/plain": [
       "('\\x14Q', 2, str)"
      ]
     },
     "execution_count": null,
     "metadata": {},
     "output_type": "execute_result"
    }
   ],
   "source": [
    "tile3.decode('utf-16')\n",
    "tile3.decode('utf-32','backslashreplace')\n",
    "t3  = tile3.decode('utf-8','backslashreplace')\n",
    "t3, len(t3), type(t3)\n",
    "t4  = tile3.decode('utf-8','ignore')\n",
    "t4, len(t4), type(t4)"
   ]
  },
  {
   "cell_type": "code",
   "execution_count": null,
   "metadata": {},
   "outputs": [
    {
     "data": {
      "text/plain": [
       "bytes"
      ]
     },
     "execution_count": null,
     "metadata": {},
     "output_type": "execute_result"
    },
    {
     "data": {
      "text/plain": [
       "[20, 81, 167, 196]"
      ]
     },
     "execution_count": null,
     "metadata": {},
     "output_type": "execute_result"
    }
   ],
   "source": [
    "type(tile3)\n",
    "list(tile3)"
   ]
  },
  {
   "cell_type": "code",
   "execution_count": null,
   "metadata": {},
   "outputs": [
    {
     "data": {
      "text/plain": [
       "bytearray(b'\\x14Q\\xa7\\xc4')"
      ]
     },
     "execution_count": null,
     "metadata": {},
     "output_type": "execute_result"
    },
    {
     "data": {
      "text/plain": [
       "(bytearray(b'\\x14Q\\xa7\\xc4%\\xea\\x8dD%\\xea\\x8dD'), 12)"
      ]
     },
     "execution_count": null,
     "metadata": {},
     "output_type": "execute_result"
    }
   ],
   "source": [
    "ba_uploaded = bytearray()\n",
    "ba_uploaded += tile3\n",
    "ba_uploaded\n",
    "ba_uploaded += tile2\n",
    "ba_uploaded += tile1\n",
    "ba_uploaded, len(ba_uploaded)"
   ]
  },
  {
   "cell_type": "code",
   "execution_count": null,
   "metadata": {},
   "outputs": [
    {
     "data": {
      "text/plain": [
       "(952,\n",
       " '0000000025ea8d4425ea8d4425ea8d4425ea8d44db349544b31eb6448c08d74464f2f7441e6e0c45811d2545e3cc3d45467c564585ed834500a08a4500a08a4500a08a4500000000ed161443ed1614434eba8d431a791e44cb4c60443e10914417fab144efe3d244c8cdf34446961245a9452b450bf54345d053754500a08a4500a08a4500a08a451451a7c40b5650c4dd13a4c3b80831434da9f94356254144847c81445c66a2443550c3440d3ae44469cc0a45cb7b23452e2b3c45f3896d4500a08a4500a08a4500a08a45fffc0fc5a4fcd0c44bff81c4c807ccc339db5f4376a00944f8d74744bd0783447f23a244403fc144e2e8ef4442490f45139e2645b5475545abf8814500a08a4500a08a45771f0dc59f6adac451969ac4078435c4ab6d57c3629a9343eb8d18443f2953444ae28644f42fa4447424d044f318fc44b906144539fb3f45b8ef6b4500a08a4500a08a45483e09c51dd0dcc4a923a7c46cee62c40a2befc3dcc943c29338be43be142944e413604485898b44e1c8b4443e08de44cda303452ae32c4586225645e3617f4500a08a45735904c5aa24dac46c96abc45f107ac4e5f31cc4ac5d7fc37928ea4212c3f443ff0b3e44f76e7144b5419f44efcbc5442856ec444eb51c45873f4345c1c96945f1378345efe1fcc4bac2d3c485a3aac44f8481c434ca30c49117bdc3ddd544c21ae28b43782f1844d5ca5444823a8e44990fb244b0e4d5446fc70e45869c32459e715645d52c5745ab09efc4be0dcac4d111a5c4e31580c4eb3336c42178d8c3d81009c393ce1e43ff56e3435aa33b4499f082448d10a4448130c54435b8034529d8244576423545764235451a2adfc4846cbcc4eeae99c4b0e26dc4846728c4afd8c5c35b89ebc2032820435a0adb4359003344857b784494a89a446513b94408e9f544555f194515471e4515471e453c43cdc4c4f8acc44dae8cc4abc758c4bc3218c49b3bafc3f646b8c240302643fd41d443eeb52a44dc4a6b44cce696447b9cb244d807ea44ef260e45ef260e45ef260e45f49aa4c40fcd87c455fe55c48c621cc4868dc5c3e8ab24c3798683423019944361a803442a443d44f3df7644de3d98446b3eb144833fe344c44bfe44c44bfe44c44bfe447ba58ec4ae8267c466ba31c43ce4f7c3ac538cc3700c83c2e89a1543045eb6434af7104492bf4644da877c4411289944149ab444e730e144ab70e844ab70e844ab70e8440b018fc329f907c359fc6041b4182443d1109d434815e843e08c19441b0f3f4457916444c9098544e7ca9744058caa44224dbd44f647d344f647d344f647d344f647d344')"
      ]
     },
     "execution_count": null,
     "metadata": {},
     "output_type": "execute_result"
    },
    {
     "data": {
      "text/plain": [
       "'0000000025ea8d4425ea8d4425ea8d4425ea8d44db349544b31eb6448c08d74464f2f7441e6e0c45811d2545e3cc3d45467c564585ed834500a08a4500a08a4500a08a4500000000ed161443ed1614434eba8d431a791e44cb4c60443e10914417fab144efe3d244c8cdf34446961245a9452b450bf54345d053754500a08a4500a08a4500a08a451451a7c40b5650c4dd13a4c3b80831434da9f94356254144847c81445c66a2443550c3440d3ae44469cc0a45cb7b23452e2b3c45f3896d4500a08a4500a08a4500a08a45fffc0fc5a4fcd0c44bff81c4c807ccc339db5f4376a00944f8d74744bd0783447f23a244403fc144e2e8ef4442490f45139e2645b5475545abf8814500a08a4500a08a45771f0dc59f6adac451969ac4078435c4ab6d57c3629a9343eb8d18443f2953444ae28644f42fa4447424d044f318fc44b906144539fb3f45b8ef6b4500a08a4500a08a45483e09c51dd0dcc4a923a7c46cee62c40a2befc3dcc943c29338be43be142944e413604485898b44e1c8b4443e08de44cda303452ae32c4586225645e3617f4500a08a45735904c5aa24dac46c96abc45f107ac4e5f31cc4ac5d7fc37928ea4212c3f443ff0b3e44f76e7144b5419f44efcbc5442856ec444eb51c45873f4345c1c96945f1378345efe1fcc4bac2d3c485a3aac44f8481c434ca30c49117bdc3ddd544c21ae28b43782f1844d5ca5444823a8e44990fb244b0e4d5446fc70e45869c32459e715645d52c5745ab09efc4be0dcac4d111a5c4e31580c4eb3336c42178d8c3d81009c393ce1e43ff56e3435aa33b4499f082448d10a4448130c54435b8034529d8244576423545764235451a2adfc4846cbcc4eeae99c4b0e26dc4846728c4afd8c5c35b89ebc2032820435a0adb4359003344857b784494a89a446513b94408e9f544555f194515471e4515471e453c43cdc4c4f8acc44dae8cc4abc758c4bc3218c49b3bafc3f646b8c240302643fd41d443eeb52a44dc4a6b44cce696447b9cb244d807ea44ef260e45ef260e45ef260e45f49aa4c40fcd87c455fe55c48c621cc4868dc5c3e8ab24c3798683423019944361a803442a443d44f3df7644de3d98446b3eb144833fe344c44bfe44c44bfe44c44bfe447ba58ec4ae8267c466ba31c43ce4f7c3ac538cc3700c83c2e89a1543045eb6434af7104492bf4644da877c4411289944149ab444e730e144ab70e844ab70e844ab70e8440b018fc329f907c359fc6041b4182443d1109d434815e843e08c19441b0f3f4457916444c9098544e7ca9744058caa44224dbd44f647d344f647d344f647d344f647d344'"
      ]
     },
     "execution_count": null,
     "metadata": {},
     "output_type": "execute_result"
    }
   ],
   "source": [
    "ba_uploaded = bytearray()\n",
    "len_in_bytes = xcp_data.type_size * xcp_data.dim[0] * xcp_data.dim[1]\n",
    "download_times = len_in_bytes // 6\n",
    "last_download_size = len_in_bytes % 6\n",
    "for tile in range(download_times):\n",
    "    ba_uploaded += xcp_data.value_bytes[tile*6:(tile+1)*6]\n",
    "if last_download_size:\n",
    "    ba_uploaded += xcp_data.value_bytes[download_times*6:download_times*6+last_download_size]\n",
    "\n",
    "len(ba_uploaded), ba_uploaded.hex()\n",
    "test_eq(ba_uploaded, xcp_data.value_bytes)\n",
    "test_eq(ba_uploaded.hex(), xcp_data.value)\n",
    "ba_uploaded.hex()"
   ]
  },
  {
   "cell_type": "markdown",
   "metadata": {},
   "source": [
    "## CRO for connection"
   ]
  },
  {
   "cell_type": "markdown",
   "metadata": {},
   "source": [
    "### Create can data as bytes of little endianness"
   ]
  },
  {
   "cell_type": "code",
   "execution_count": null,
   "metadata": {},
   "outputs": [
    {
     "data": {
      "text/plain": [
       "(1, b'\\x01', '01')"
      ]
     },
     "execution_count": null,
     "metadata": {},
     "output_type": "execute_result"
    },
    {
     "data": {
      "text/plain": [
       "(b'\\x02', '02')"
      ]
     },
     "execution_count": null,
     "metadata": {},
     "output_type": "execute_result"
    },
    {
     "data": {
      "text/plain": [
       "(b'\\x01\\x02', '0102')"
      ]
     },
     "execution_count": null,
     "metadata": {},
     "output_type": "execute_result"
    }
   ],
   "source": [
    "b1 = ccp_command.connect.to_bytes(byteorder='little', length=1)\n",
    "ccp_command.connect, b1, b1.hex()\n",
    "cntr = 2\n",
    "b2 = cntr.to_bytes(byteorder='little', length=1)\n",
    "b2, b2.hex()\n",
    "can_data =  b1 + b2\n",
    "can_data, can_data.hex()\n"
   ]
  },
  {
   "cell_type": "code",
   "execution_count": null,
   "metadata": {},
   "outputs": [
    {
     "data": {
      "text/plain": [
       "(5, 1, 0)"
      ]
     },
     "execution_count": null,
     "metadata": {},
     "output_type": "execute_result"
    },
    {
     "data": {
      "text/plain": [
       "(b'\\x01\\x05\\x00\\x00', b'\\x00\\x00\\x05\\x01')"
      ]
     },
     "execution_count": null,
     "metadata": {},
     "output_type": "execute_result"
    },
    {
     "data": {
      "text/plain": [
       "(b'\\x00\\x00\\x05\\x01', '00000501')"
      ]
     },
     "execution_count": null,
     "metadata": {},
     "output_type": "execute_result"
    },
    {
     "data": {
      "text/plain": [
       "(0, 0, 261)"
      ]
     },
     "execution_count": null,
     "metadata": {},
     "output_type": "execute_result"
    }
   ],
   "source": [
    "cntr, ccp_command.connect, can_specs.station_address\n",
    "\n",
    "cro_little = struct.pack(\"@BB\", ccp_command.connect, cntr) + can_specs.station_address.to_bytes(byteorder='little', length=2)\n",
    "cro_big = can_specs.station_address.to_bytes(byteorder='big', length=2) + struct.pack(\">BB\", cntr, ccp_command.connect) \n",
    "cro_little, cro_big\n",
    "cro = cro_big\n",
    "cro, cro.hex()\n",
    "\n",
    "struct.unpack(\"@BBH\", cro)"
   ]
  },
  {
   "cell_type": "code",
   "execution_count": null,
   "metadata": {},
   "outputs": [
    {
     "data": {
      "text/plain": [
       "(b'\\x01\\x02', '0102')"
      ]
     },
     "execution_count": null,
     "metadata": {},
     "output_type": "execute_result"
    },
    {
     "data": {
      "text/plain": [
       "(1, 2)"
      ]
     },
     "execution_count": null,
     "metadata": {},
     "output_type": "execute_result"
    }
   ],
   "source": [
    "# cro_little = struct.pack(\"@bb\", ccp_command.connect, cntr) + can_specs.station_address.to_bytes(byteorder='little', length=2)\n",
    "# cro_big = can_specs.station_address.to_bytes(byteorder='big', length=2) + struct.pack(\">bb\", cntr, ccp_command.connect) \n",
    "cro_little = struct.pack(\"@bb\", ccp_command.connect, cntr) \n",
    "cro_big = struct.pack(\">bb\", cntr, ccp_command.connect) \n",
    "cro = cro_big\n",
    "cro, cro.hex()\n",
    "# struct.unpack(\"@bbh\", cro)\n",
    "struct.unpack(\"@bb\", cro)"
   ]
  },
  {
   "cell_type": "code",
   "execution_count": null,
   "metadata": {},
   "outputs": [
    {
     "name": "stdout",
     "output_type": "stream",
     "text": [
      "char format requires a bytes object of length 1\n"
     ]
    }
   ],
   "source": [
    "try:\n",
    "    d = struct.pack(\"@cc\", cntr, ccp_command.connect)\n",
    "    d, d.hex()\n",
    "except Exception as exc:\n",
    "    print(exc)"
   ]
  },
  {
   "cell_type": "code",
   "execution_count": null,
   "metadata": {},
   "outputs": [
    {
     "data": {
      "text/plain": [
       "('can3', 500000, [CANFilter(can_id=631, can_mask=2047)], 0)"
      ]
     },
     "execution_count": null,
     "metadata": {},
     "output_type": "execute_result"
    },
    {
     "data": {
      "text/plain": [
       "b'\\x01\\x02'"
      ]
     },
     "execution_count": null,
     "metadata": {},
     "output_type": "execute_result"
    }
   ],
   "source": [
    "device, can_specs.bit_rate, can_specs.can_filters, can_specs.station_address\n",
    "cro"
   ]
  },
  {
   "cell_type": "code",
   "execution_count": null,
   "metadata": {},
   "outputs": [
    {
     "name": "stdout",
     "output_type": "stream",
     "text": [
      "Message sent: Timestamp:        0.000000    ID:      276    S Rx                DL:  2    01 02 on socketcan channel 'can3' cntr: 4\n"
     ]
    }
   ],
   "source": [
    "# send connect message\n",
    "# with can.interface.Bus(bustype='socketcan', channel=device, bitrate=can_specs.bit_rate, filter=can_specs.can_filters) as bus:\n",
    "# with can.interface.Bus(interface='socketcan', channel=device, bitrate=can_specs.bit_rate) as bus:\n",
    "with can.interface.Bus(interface='socketcan', channel=device, bitrate=can_specs.bit_rate, receive_own_message=True) as bus:\n",
    "    msg = can.Message(\n",
    "        arbitration_id=can_specs.download_can_id, \n",
    "        data=cro, \n",
    "        is_extended_id=False)\n",
    "    try:\n",
    "        bus.send(msg)\n",
    "        cntr += 1\n",
    "        print(f\"Message sent: {msg} on {bus.channel_info} cntr: {cntr-1}\")\n",
    "    except can.CanError:\n",
    "        print(\"Message NOT sent\")\n",
    "    \n",
    "    dto = bus.recv(timeout=can_specs.time_out)\n",
    "    dto\n",
    "    "
   ]
  },
  {
   "cell_type": "code",
   "execution_count": null,
   "metadata": {},
   "outputs": [
    {
     "data": {
      "text/plain": [
       "1.0"
      ]
     },
     "execution_count": null,
     "metadata": {},
     "output_type": "execute_result"
    }
   ],
   "source": [
    "can_specs.time_out"
   ]
  },
  {
   "cell_type": "code",
   "execution_count": null,
   "metadata": {},
   "outputs": [
    {
     "name": "stdout",
     "output_type": "stream",
     "text": [
      "None\n"
     ]
    }
   ],
   "source": [
    "# with can.interface.Bus(interface='socketcan', channel=device, bitrate=can_specs.bit_rate, filter=can_specs.can_filters):\n",
    "with can.interface.Bus(interface='socketcan', channel=device, bitrate=can_specs.bit_rate) as bus:\n",
    "    dto: can.Message = bus.recv(timeout=can_specs.time_out)\n",
    "    print(dto)"
   ]
  },
  {
   "cell_type": "code",
   "execution_count": null,
   "metadata": {},
   "outputs": [],
   "source": [
    "# while(True):\n",
    "with can.interface.Bus(interface='socketcan', channel=device, bitrate=can_specs.bit_rate) as bus:\n",
    "    for msg in bus:\n",
    "        print(msg)\n",
    "# print('Message received: ', dto.arbitration_id, dto.data, dto.timestamp, dto.dlc)\n"
   ]
  },
  {
   "cell_type": "code",
   "execution_count": null,
   "metadata": {},
   "outputs": [],
   "source": [
    "# # send connect message\n",
    "# with can.interface.Bus(bustype='socketcan', channel=device, bitrate=can_specs.bit_rate, filter=can_specs.can_filters) as bus:\n",
    "#     bus.send(msg)\n",
    "#     cntr += 1\n",
    "#     print(f\"Message sent: {msg}, cntr: {cntr-1}\")\n",
    "#     while(True):\n",
    "#         bus = can.interface.Bus(bustype='socketcan', channel=device, bitrate=can_specs.bit_rate, filter=can_specs.can_filters)\n",
    "#         dto: can.Message = bus.recv()\n",
    "#         print(dto)\n",
    "#         # print('Message received: ', dto.arbitration_id, dto.data, dto.timestamp, dto.dlc)\n",
    "#         if dto.dlc != 3 or dto.arbitration_id != can_specs.upload_can_id:\n",
    "#             continue\n",
    "#         pid, err_code , cntr_ret = struct.unpack('@BBB', dto.data)\n",
    "#         if pid != 0xff:\n",
    "#             continue\n",
    "#         if cntr_ret == cntr and err_code == 0:\n",
    "#             print(f\"Connected: {pid}, {err_code}, {cntr}\")\n",
    "#             break\n",
    "#         else:\n",
    "#             print(f\"Error: {pid}, {err_code}, {cntr}\")\n",
    "#             break"
   ]
  },
  {
   "cell_type": "markdown",
   "metadata": {},
   "source": [
    "### send SET_MTA message"
   ]
  },
  {
   "cell_type": "code",
   "execution_count": null,
   "metadata": {},
   "outputs": [
    {
     "data": {
      "text/plain": [
       "'7000aa2a'"
      ]
     },
     "execution_count": null,
     "metadata": {},
     "output_type": "execute_result"
    },
    {
     "data": {
      "text/plain": [
       "(1879091754, '0x7000aa2a')"
      ]
     },
     "execution_count": null,
     "metadata": {},
     "output_type": "execute_result"
    },
    {
     "data": {
      "text/plain": [
       "(b'*\\xaa\\x00p', b'p\\x00\\xaa*')"
      ]
     },
     "execution_count": null,
     "metadata": {},
     "output_type": "execute_result"
    }
   ],
   "source": [
    "xcp_data.address\n",
    "addr = int(xcp_data.address, 16)\n",
    "addr, hex(addr)\n",
    "a_bytes_little = struct.pack(\"@I\", addr)\n",
    "a_bytes_big = struct.pack(\">I\", addr)\n",
    "a_bytes_little, a_bytes_big"
   ]
  },
  {
   "cell_type": "code",
   "execution_count": null,
   "metadata": {},
   "outputs": [
    {
     "data": {
      "text/plain": [
       "('7000aa2a', 3, 2, '0x7000aa2a', b'*\\xaa\\x00p')"
      ]
     },
     "execution_count": null,
     "metadata": {},
     "output_type": "execute_result"
    },
    {
     "data": {
      "text/plain": [
       "(b'\\x02\\x03\\x00\\x00*\\xaa\\x00p', b'p\\x00\\xaa*\\x00\\x00\\x03\\x02')"
      ]
     },
     "execution_count": null,
     "metadata": {},
     "output_type": "execute_result"
    },
    {
     "data": {
      "text/plain": [
       "can.Message(timestamp=0.0, arbitration_id=0x276, is_extended_id=False, dlc=8, data=[0x2, 0x3, 0x0, 0x0, 0x2a, 0xaa, 0x0, 0x70])"
      ]
     },
     "execution_count": null,
     "metadata": {},
     "output_type": "execute_result"
    }
   ],
   "source": [
    "# create CAN message for ccp SET_MTA CRO\n",
    "xcp_data.address, cntr, ccp_command.set_mta, hex(addr), struct.pack(\"@I\", addr)\n",
    "can_data_big = struct.pack(\">IBBBB\", int(xcp_data.address,16), 0x00, 0x00, cntr, ccp_command.set_mta)\n",
    "can_data_little = struct.pack(\"@BBBBI\", ccp_command.set_mta, cntr, 0x00, 0x00, int(xcp_data.address,16))\n",
    "can_data_little, can_data_big\n",
    "can_data = can_data_little\n",
    "cro = can.Message(arbitration_id=args.download_can_id, \n",
    "                            data=can_data, \n",
    "                            is_extended_id=False)\t\n",
    "cro"
   ]
  },
  {
   "cell_type": "code",
   "execution_count": null,
   "metadata": {},
   "outputs": [],
   "source": [
    "# # set MTA\n",
    "# with can.interface.Bus(bustype='socketcan', channel=device, bitrate=args.bit_rate, filter=can_specs.can_filters) as bus:\n",
    "#     bus.send(cro)\n",
    "#     cntr += 1\n",
    "#     print(f\"Message sent: {cro}, cntr: {cntr-1}\")\n",
    "    \n",
    "#     while(True):\n",
    "#         dto: can.Message = bus.recv()\n",
    "#         print('Message received: ', dto.arbitration_id, dto.data, dto.timestamp, dto.dlc)\n",
    "        \n",
    "#         if dto.dlc != 3 or dto.arbitration_id != can_specs.upload_can_id:\n",
    "#             continue\n",
    "#         pid, err_code , cntr_ret = struct.unpack('@BBB', dto.data)\n",
    "#         if pid != 0xff:\n",
    "#             continue\n",
    "#         if cntr_ret == cntr and err_code == 0:\n",
    "#             print(f\"Connected: {pid}, {err_code}, {cntr}\")\n",
    "#             break\n",
    "#         else:\n",
    "#             print(f\"Error: {pid}, {err_code}, {cntr}\")\n",
    "#             break"
   ]
  },
  {
   "cell_type": "markdown",
   "metadata": {},
   "source": [
    "## Download from target"
   ]
  },
  {
   "cell_type": "code",
   "execution_count": null,
   "metadata": {},
   "outputs": [
    {
     "data": {
      "text/plain": [
       "(35, 3, b'#\\x03')"
      ]
     },
     "execution_count": null,
     "metadata": {},
     "output_type": "execute_result"
    }
   ],
   "source": [
    "\n",
    "# can_data_big = struct.pack(\">BBBBBBBB\", int(xcp_data.address,16), 0x00, 0x00, cntr, ccp_command.download6)\n",
    "can_data_little = struct.pack(\"@BB\", ccp_command.download6, cntr)\n",
    "ccp_command.download6, cntr, can_data_little\n"
   ]
  },
  {
   "cell_type": "code",
   "execution_count": null,
   "metadata": {},
   "outputs": [
    {
     "data": {
      "text/plain": [
       "b'\\x00\\x00\\x00\\x00%\\xea'"
      ]
     },
     "execution_count": null,
     "metadata": {},
     "output_type": "execute_result"
    },
    {
     "data": {
      "text/plain": [
       "(0, b'\\x00', b'#\\x03\\x00')"
      ]
     },
     "execution_count": null,
     "metadata": {},
     "output_type": "execute_result"
    },
    {
     "data": {
      "text/plain": [
       "b'#\\x03\\x00\\x00\\x00\\x00%\\xea'"
      ]
     },
     "execution_count": null,
     "metadata": {},
     "output_type": "execute_result"
    }
   ],
   "source": [
    "\n",
    "xcp_data.value_bytes[0:6]\n",
    "b = xcp_data.value_bytes[0]\n",
    "b, b.to_bytes(), can_data_little + b.to_bytes()\n",
    "can_data_little + xcp_data.value_bytes[0:6]"
   ]
  },
  {
   "cell_type": "code",
   "execution_count": null,
   "metadata": {},
   "outputs": [
    {
     "data": {
      "text/plain": [
       "(0, b'#\\x03\\x00')"
      ]
     },
     "execution_count": null,
     "metadata": {},
     "output_type": "execute_result"
    },
    {
     "data": {
      "text/plain": [
       "(0, b'#\\x03\\x00\\x00')"
      ]
     },
     "execution_count": null,
     "metadata": {},
     "output_type": "execute_result"
    },
    {
     "data": {
      "text/plain": [
       "(0, b'#\\x03\\x00\\x00\\x00')"
      ]
     },
     "execution_count": null,
     "metadata": {},
     "output_type": "execute_result"
    },
    {
     "data": {
      "text/plain": [
       "(0, b'#\\x03\\x00\\x00\\x00\\x00')"
      ]
     },
     "execution_count": null,
     "metadata": {},
     "output_type": "execute_result"
    },
    {
     "data": {
      "text/plain": [
       "(37, b'#\\x03\\x00\\x00\\x00\\x00%')"
      ]
     },
     "execution_count": null,
     "metadata": {},
     "output_type": "execute_result"
    },
    {
     "data": {
      "text/plain": [
       "(234, b'#\\x03\\x00\\x00\\x00\\x00%\\xea')"
      ]
     },
     "execution_count": null,
     "metadata": {},
     "output_type": "execute_result"
    },
    {
     "data": {
      "text/plain": [
       "b'#\\x03\\x00\\x00\\x00\\x00%\\xea'"
      ]
     },
     "execution_count": null,
     "metadata": {},
     "output_type": "execute_result"
    }
   ],
   "source": [
    "tile = 0\n",
    "for i in range(6):\n",
    "    b = xcp_data.value_bytes[tile+i]\n",
    "    can_data_little += b.to_bytes()\n",
    "    b, can_data_little\n",
    "# xcp_data.value_bytes[i*6:(i+1)*6]\n",
    "can_data_little"
   ]
  },
  {
   "cell_type": "markdown",
   "metadata": {},
   "source": [
    "### loop over XCPCalib data array"
   ]
  },
  {
   "cell_type": "code",
   "execution_count": null,
   "metadata": {},
   "outputs": [
    {
     "data": {
      "text/plain": [
       "CCPCommand(connect=1, set_mta=2, disconnect=7, download=3, download6=35, upload=4, short_upload=15, get_seed=18, get_ccp_version=27)"
      ]
     },
     "execution_count": null,
     "metadata": {},
     "output_type": "execute_result"
    }
   ],
   "source": [
    "ccp_command"
   ]
  },
  {
   "cell_type": "code",
   "execution_count": null,
   "metadata": {},
   "outputs": [],
   "source": [
    "\n",
    "# for i in range(download_times):\n",
    "#     # Create CAN message for ccp DOWNLOAD CRO\n",
    "#     # xcp_data.address, cntr, ccp_command.set_mta, hex(addr), struct.pack(\"@I\", addr)\n",
    "#     # can_data_big = xcp_data.value_bytes[i*6:(i+1)*6:-1] + can_data_big\n",
    "#     can_data_little = struct.pack(\"@BB\", ccp_command.download6, cntr)\n",
    "#     can_data_little += xcp_data.value_bytes[i*6:(i+1)*6]\n",
    "#     # can_data_little, can_data_big\n",
    "#     can_data = can_data_little\n",
    "#     cro = can.Message(arbitration_id=args.download_can_id, data=can_data, is_extended_id=False)\t\n",
    "    \n",
    "#     # Download data \n",
    "#     with can.interface.Bus(bustype='socketcan', channel=device, bitrate=args.bit_rate, filter=can_specs.can_filters) as bus:\n",
    "#         bus.send(cro)\n",
    "#         cntr += 1\n",
    "#         print(f\"Message sent: {cro}, cntr: {cntr-1}\")\n",
    "\n",
    "#         while(True):\n",
    "#             dto: can.Message = bus.recv()\n",
    "#             print('Message received: ', dto.arbitration_id, dto.data, dto.timestamp, dto.dlc)\n",
    "\n",
    "#             # if dto.arbitration_id != can_specs.upload_can_id:\n",
    "#             #     continue\n",
    "#             pid, err_code , cntr_ret, mta0_ext, mta0_addr = struct.unpack('@BBBBI', dto.data)\n",
    "#             if pid != 0xff:\n",
    "#                 continue\n",
    "#             if cntr_ret == cntr and err_code == 0:\n",
    "#                 print(f\"Downloaded: mta0_ext({mta0_ext}), mta0_add({mta0_addr}), {cntr}\")\n",
    "#                 break\n",
    "#             else:\n",
    "#                 print(f\"Error: {pid}, {err_code}, {cntr}\")\n",
    "#                 break\n",
    "#     # cro = CCP(identifier=xcp_calib.config.download_can_id)/CRO(ctr=ctr)/DNLOAD_6(data=d.value_bytes[i*6:(i+1)*6])\n",
    "#     if i%100==0:\n",
    "#         print(f\"i: {i}, cntr: {cntr} cro: {cro}\")"
   ]
  },
  {
   "cell_type": "markdown",
   "metadata": {},
   "source": [
    "### Download the last tile"
   ]
  },
  {
   "cell_type": "code",
   "execution_count": null,
   "metadata": {},
   "outputs": [],
   "source": [
    "# i = download_times * 6\n",
    "# # can_data_big = xcp_data.value_bytes[i*6:(i+1)*6:-1] + can_data_big\n",
    "# can_data_little = struct.pack(\"@BB\", ccp_command.download, cntr)\n",
    "# can_data_little += xcp_data.value_bytes[i:i+last_download_size]\n",
    "# # can_data_little, can_data_big\n",
    "# can_data = can_data_little\n",
    "# cro = can.Message(arbitration_id=args.download_can_id, data=can_data, is_extended_id=False)\t\n",
    "    \n",
    "# # Download data \n",
    "# with can.interface.Bus(bustype='socketcan', channel=device, bitrate=args.bit_rate, filter=can_specs.can_filters) as bus:\n",
    "#     bus.send(cro)\n",
    "#     cntr += 1\n",
    "#     print(f\"Message sent: {cro}, cntr: {cntr-1}\")\n",
    "\n",
    "#     while(True):\n",
    "#         dto: can.Message = bus.recv()\n",
    "#         print('Message received: ', dto.arbitration_id, dto.data, dto.timestamp, dto.dlc)\n",
    "\n",
    "#         # if dto.arbitration_id != can_specs.upload_can_id:\n",
    "#         #     continue\n",
    "#         pid, err_code , cntr_ret, mta0_ext, mta0_addr = struct.unpack('@BBBBI', dto.data)\n",
    "#         if pid != 0xff:\n",
    "#             continue\n",
    "#         if cntr_ret == cntr and err_code == 0:\n",
    "#             print(f\"Downloaded: mta0_ext({mta0_ext}), mta0_add({mta0_addr}), {cntr}\")\n",
    "#             break\n",
    "#         else:\n",
    "#             print(f\"Error: {pid}, {err_code}, {cntr}\")\n",
    "#             break"
   ]
  },
  {
   "cell_type": "markdown",
   "metadata": {},
   "source": [
    "## Disconnect target ecu"
   ]
  },
  {
   "cell_type": "code",
   "execution_count": null,
   "metadata": {},
   "outputs": [],
   "source": [
    "# cro = struct.pack(\"@bbb\", ccp_command.disconnect, cntr, 0x01) + b'\\x00' + can_specs.station_address.to_bytes(byteorder='little', length=2) \n",
    "# cro, cro.hex()\n",
    "# struct.unpack(\"@bbbbh\", cro)"
   ]
  },
  {
   "cell_type": "code",
   "execution_count": null,
   "metadata": {},
   "outputs": [],
   "source": [
    "# # send disconnect message\n",
    "# with can.interface.Bus(bustype='socketcan', channel=device, bitrate=can_specs.bit_rate, filter=can_specs.can_filters) as bus:\n",
    "#     bus.send(cro)\n",
    "#     cntr += 1\n",
    "#     print(f\"Message sent: {cro}, cntr: {cntr-1}\")\n",
    "    \n",
    "#     while(True):\n",
    "#         dto: can.Message = bus.recv()\n",
    "#         print('Message received: ', dto.arbitration_id, dto.data, dto.timestamp, dto.dlc)\n",
    "        \n",
    "#         if dto.dlc != 3 or dto.arbitration_id != can_specs.upload_can_id:\n",
    "#             continue\n",
    "#         pid, err_code , cntr_ret = struct.unpack('@bbb', dto.data)\n",
    "#         if pid != 0xff:\n",
    "#             continue\n",
    "#         if cntr_ret == cntr and err_code == 0:\n",
    "#             print(f\"Connected: {pid}, {err_code}, {cntr}\")\n",
    "#             break\n",
    "#         else:\n",
    "#             print(f\"Error: {pid}, {err_code}, {cntr}\")\n",
    "#             break"
   ]
  },
  {
   "cell_type": "markdown",
   "metadata": {},
   "source": [
    "## Three context managers for CCP"
   ]
  },
  {
   "cell_type": "code",
   "execution_count": null,
   "metadata": {},
   "outputs": [],
   "source": [
    "#| export\n",
    "@contextlib.contextmanager\n",
    "def can_context(can_specs: ScapyCANSpecs):\n",
    "    \"\"\"Summary\n",
    "    Context manager for scapy CAN socket\n",
    "\n",
    "    Args:\n",
    "        can_specs (ScapyCANSpecs): CAN specs including can type, bus type, channel, etc.\n",
    "\n",
    "    Yields:\n",
    "        Bus: Python-CAN Bus object\n",
    "    \"\"\"\n",
    "    # create a socket\n",
    " "
   ]
  },
  {
   "cell_type": "code",
   "execution_count": null,
   "metadata": {},
   "outputs": [],
   "source": [
    "#| export\n",
    "@contextlib.contextmanager\n",
    "def SET_MTA_context(can_specs: ScapyCANSpecs, bus: can.interface.Bus, data: XCPData):\n",
    "    \"\"\"Summary\n",
    "    Context manager for scapy set_mta \n",
    "\n",
    "    Args:\n",
    "        channel (str): CAN channel to use, default is vcan0\n",
    "\n",
    "    Yields:\n",
    "        CAN: packdet for CAN message \n",
    "    \"\"\"\n",
    "\n",
    "    # SET_MTA \n",
    "    # cro = CCP(identifier=can_specs.download_can_id)/CRO(ctr=can_specs.cntr)/SET_MTA(address=int(data.address, 16))\n",
    "    # dto = sock.sr1(cro, timeout=can_specs.time_out)\n",
    "    # assert dto.return_code == 0x00\n",
    "    # can_specs.cntr += 1\n",
    "    # try:\n",
    "    #     yield dto\n",
    "    # except TimeoutError:\n",
    "    #     raise TimeoutError(f\"CAN socket timeout: {can_specs.time_out} seconds\")\n",
    "    # except Exception as e:\n",
    "    #     raise e\n",
    "    # finally:\n",
    "    #     pass  # do nothing, just pray it'll be OK. Crapy CCP!\n",
    "    \n"
   ]
  },
  {
   "cell_type": "code",
   "execution_count": null,
   "metadata": {},
   "outputs": [],
   "source": [
    "#| export\n",
    "@contextlib.contextmanager\n",
    "def XLOAD_context(can_specs: ScapyCANSpecs, bus: can.interface.Bus, data: XCPData, start_index: int, tile_size: int):\n",
    "    \"\"\"Summary\n",
    "    Context manager for scapy load (download or upload)\n",
    "\n",
    "    Args:\n",
    "        channel (str): CAN channel to use, default is vcan0\n",
    "\n",
    "    Yields:\n",
    "        CANSocket: CAN socket object\n",
    "    \"\"\"\n",
    "    pass"
   ]
  },
  {
   "cell_type": "markdown",
   "metadata": {},
   "source": [
    "## Downloading and uploading with context managers"
   ]
  },
  {
   "cell_type": "code",
   "execution_count": null,
   "metadata": {},
   "outputs": [],
   "source": [
    "#| export\n",
    "def upload_calib_data2(xcp_calib: XCPCalib, \n",
    "                        can_specs: ScapyCANSpecs\n",
    "                        )->None:\n",
    "\n",
    "    \"\"\"Summary\n",
    "    Upload XCP calibration data from target to host, the result will update the xcp_calib.data field\n",
    "\n",
    "    Args:\n",
    "        xcp_calib (XCPCalib): XCP calibration  to be uploaded from the target to host\n",
    "        diff_flashing (bool): Use differential flashing\n",
    "    \"\"\"\n",
    "\n",
    "    # init counter\n",
    "    cntr = 0\n",
    "    pass"
   ]
  },
  {
   "cell_type": "code",
   "execution_count": null,
   "metadata": {},
   "outputs": [],
   "source": [
    "#| export\n",
    "def downlod_calib_data2(xcp_calib: XCPCalib, \n",
    "                        can_specs: ScapyCANSpecs\n",
    "                        )->None:\n",
    "    \"\"\"Summary\n",
    "    Download XCP calibration data to target use scapy_can_context\n",
    "\n",
    "    Args:\n",
    "        xcp_calib (XCPCalib): XCP calibration  to be downloaded into the target\n",
    "    \"\"\"\n",
    "\n",
    "    assert can_specs.download_upload==True, f\"Check can_specs.download_upload flag, it should be True for download\"\n",
    "    if can_specs.diff_mode :\n",
    "        if can_specs.last_download_data is None:  # diff mode in the first run, needs to upload first to populate last_download_data\n",
    "            last_xcp_calib = XCPCalib(config=xcp_calib.config, data=xcp_calib.data)\n",
    "            can_specs.download_upload = False\n",
    "            upload_calib_data2(xcp_calib=last_xcp_calib, can_specs=can_specs)\n",
    "            can_specs.last_download_data = last_xcp_calib.data\n",
    "            can_specs.download_upload = True\n",
    "        # calculate the difference between the last downloaded data and the current data\n",
    "        assert len(can_specs.last_download_data)==len(xcp_calib.data), \"XCPData list length is not the same\"\n",
    "        data_pair = zip(can_specs.last_download_data, xcp_calib.data)\n",
    "        xcp_data = []\n",
    "        for d0, d1 in zip(xcp_calib.data, can_specs.last_download_data):\n",
    "            assert d0.is_compatible(d1), f\"incompatible data {d0} vs {d1}\"\n",
    "            diff_array_index_2d = np.where((d0.value_array_view - d1.value_array_view) > can_specs.diff_threshold)\n",
    "            diff_array_index_1d = np.ravel_multi_index(diff_array_index_2d, d0.dim, order='C')\n",
    "            diff_array_value = d0[diff_array_index_2d]\n",
    "            diff_array_address = d0.address_int + diff_array_index_1d * d0.type_size\n",
    "            \n",
    "            xcp_data += [XCPData(address=hex(address), \n",
    "                                value=value, \n",
    "                                name=d0.name, \n",
    "                                dim=d0.dim, \n",
    "                                value_type=d0.value_type, \n",
    "                                value_length=d0.value_length\n",
    "                                ) \n",
    "                            for address, value in zip(diff_array_address, diff_array_value)\n",
    "                        ]\n",
    "    else:  # non-diff mode \n",
    "        xcp_data = xcp_calib.data\n",
    "        \n",
    "    try:\n",
    "        pass\n",
    "        # with can_context(can_specs=can_specs) as sock:\n",
    "        #     for d in xcp_data:\n",
    "        #         # SET_MTA\n",
    "        #         with SET_MTA_context(can_specs=can_specs, sock=sock, data=d) as dto:\n",
    "        #             assert dto.return_code==0x00, f\"SET_MTA failed for {d.name} at {d.address}\"\n",
    "        #             # Determine message tiling\n",
    "        #             len_in_bytes = d.type_size * d.dim[0] * d.dim[1]\n",
    "        #             assert len_in_bytes == len(d.value_bytes)\n",
    "        #             tile_size = 6  # 6 bytes per tile as defined in CCP for DNLOAD_6\n",
    "        #             tiles = len_in_bytes //tile_size \n",
    "        #             last_tile = len_in_bytes % tile_size\n",
    "        #             # Download full size tiles with DNLOAD_6\n",
    "        #             for i in range(tiles):\n",
    "        #                 start_index = i*tile_size\n",
    "        #                 with XLOAD_context(can_specs=can_specs, sock=sock, data=d, start_index=start_index, tile_size=tile_size) as dto:\n",
    "        #                     assert dto.return_code == 0x00, f\"DNLOAD_6 failed at tile: {i}\"\n",
    "\n",
    "        #             start_index = tiles * tile_size\n",
    "        #             with XLOAD_context(can_specs=can_specs, sock=sock, data=d, start_index=start_index, tile_size=last_tile) as dto:\n",
    "        #                 assert dto.return_code == 0x00, f\"DNLOAD failed at last tile: {i} of size {last_tile}\"\n",
    "    except Exception as e:\n",
    "        print(e)\n",
    "    \n",
    "    # keep the last downloaded data for diff mode\n",
    "    can_specs.last_download_data = xcp_calib.data"
   ]
  },
  {
   "cell_type": "code",
   "execution_count": null,
   "metadata": {},
   "outputs": [
    {
     "data": {
      "text/plain": [
       "ScapyCANSpecs(bus_type='SOCKET', channel_serial_number=3, download_can_id=630, upload_can_id=631, can_filters=[CANFilter(can_id=631, can_mask=2047)], bit_rate=500000, time_out=1.0, station_address=0, cntr=0, receive_own_messages=True, download_upload=True, diff_mode=False, diff_threshold=0.001, last_download_data=None, channel='can3')"
      ]
     },
     "execution_count": null,
     "metadata": {},
     "output_type": "execute_result"
    },
    {
     "data": {
      "text/plain": [
       "{'bus_type': 'SOCKET',\n",
       " 'channel_serial_number': 3,\n",
       " 'download_can_id': 630,\n",
       " 'upload_can_id': 631,\n",
       " 'can_filters': [{'can_id': 631, 'can_mask': 2047}],\n",
       " 'bit_rate': 500000,\n",
       " 'time_out': 1.0,\n",
       " 'station_address': 0,\n",
       " 'cntr': 0,\n",
       " 'receive_own_messages': True,\n",
       " 'download_upload': True,\n",
       " 'diff_mode': False,\n",
       " 'diff_threshold': 0.001,\n",
       " 'last_download_data': None,\n",
       " 'channel': 'can3'}"
      ]
     },
     "execution_count": null,
     "metadata": {},
     "output_type": "execute_result"
    }
   ],
   "source": [
    "can_filters = [{'can_id': xcp_calib.config.upload_can_id, 'can_mask': 0x7FF}]\n",
    "can_specs = ScapyCANSpecs(can_type='NATIVE', \n",
    "                        bus_type='SOCKET', \n",
    "                        channel_serial_number=3,\n",
    "                        download_can_id=xcp_calib.config.download_can_id,\n",
    "                        upload_can_id=xcp_calib.config.upload_can_id,\n",
    "                        can_filters=can_filters,\n",
    "                        bit_rate=500_000,\n",
    "                        time_out=1.0,\n",
    "                        station_address=0x00,\n",
    "                        cntr=0,\n",
    "                        receive_own_messages=True,\n",
    "                        download_upload=True\n",
    "                        )\n",
    "can_specs\n",
    "can_specs.model_dump()"
   ]
  },
  {
   "cell_type": "code",
   "execution_count": null,
   "metadata": {},
   "outputs": [
    {
     "data": {
      "text/plain": [
       "XCPCalib(config=XCPConfig(channel=0, download_can_id=630, upload_can_id=631), data=[{   'address': '7000aa2a',\n",
       "    'dim': [14, 17],\n",
       "    'name': 'TQD_trqTrqSetNormal_MAP_v',\n",
       "    'type_size': 4,\n",
       "    'value': '0000000025...344',\n",
       "    'value_array_view': array([[    0.   ,  1135.317,  1135.317, ...,  4436.   ,  4436.   ,\n",
       "         4436.   ],\n",
       "       [    0.   ,   148.09 ,   148.09 , ...,  4436.   ,  4436.   ,\n",
       "         4436.   ],\n",
       "       [-1338.534,  -833.344,  -328.155, ...,  4436.   ,  4436.   ,\n",
       "         4436.   ],\n",
       "       ...,\n",
       "       [-1316.842, -1086.408,  -855.974, ...,  2034.368,  2034.368,\n",
       "         2034.368],\n",
       "       [-1141.171,  -926.042,  -710.912, ...,  1859.521,  1859.521,\n",
       "         1859.521],\n",
       "       [ -286.008,  -135.973,    14.062, ...,  1690.249,  1690.249,\n",
       "         1690.249]], dtype=float32),\n",
       "    'value_bytes': \"b'\\\\x00'...b'D'\",\n",
       "    'value_length': 4,\n",
       "    'value_type': 'FLOAT32_IEEE'}])"
      ]
     },
     "execution_count": null,
     "metadata": {},
     "output_type": "execute_result"
    }
   ],
   "source": [
    "xcp_calib.config.channel = 0\n",
    "xcp_calib"
   ]
  },
  {
   "cell_type": "code",
   "execution_count": null,
   "metadata": {},
   "outputs": [],
   "source": [
    "# TODO cannot run test on CCP without a real or emulated ECU \n",
    "# downlod_calib_data2(xcp_calib, can_type='NATIVE', bus_type='VIRTUAL', bit_rate=500_000, timeout=1.0, station_address=0x00, diff_flashing=False)"
   ]
  },
  {
   "cell_type": "markdown",
   "metadata": {},
   "source": [
    "## Test downloading and uploading"
   ]
  },
  {
   "cell_type": "code",
   "execution_count": null,
   "metadata": {},
   "outputs": [
    {
     "data": {
      "text/plain": [
       "{   'address': '7000aa2a',\n",
       "    'dim': [14, 17],\n",
       "    'name': 'TQD_trqTrqSetNormal_MAP_v',\n",
       "    'type_size': 4,\n",
       "    'value': '0000000000...000',\n",
       "    'value_array_view': array([[0., 0., 0., ..., 0., 0., 0.],\n",
       "       [0., 0., 0., ..., 0., 0., 0.],\n",
       "       [0., 0., 0., ..., 0., 0., 0.],\n",
       "       ...,\n",
       "       [0., 0., 0., ..., 0., 0., 0.],\n",
       "       [0., 0., 0., ..., 0., 0., 0.],\n",
       "       [0., 0., 0., ..., 0., 0., 0.]], dtype=float32),\n",
       "    'value_bytes': \"b'\\\\x00'...b'\\\\x00'\",\n",
       "    'value_length': 4,\n",
       "    'value_type': 'FLOAT32_IEEE'}"
      ]
     },
     "execution_count": null,
     "metadata": {},
     "output_type": "execute_result"
    },
    {
     "name": "stdout",
     "output_type": "stream",
     "text": [
      "{   'address': '7000aa2a',\n",
      "    'dim': [14, 17],\n",
      "    'name': 'TQD_trqTrqSetNormal_MAP_v',\n",
      "    'type_size': 4,\n",
      "    'value': '0000000025...344',\n",
      "    'value_array_view': array([[    0.   ,  1135.317,  1135.317, ...,  4436.   ,  4436.   ,\n",
      "         4436.   ],\n",
      "       [    0.   ,   148.09 ,   148.09 , ...,  4436.   ,  4436.   ,\n",
      "         4436.   ],\n",
      "       [-1338.534,  -833.344,  -328.155, ...,  4436.   ,  4436.   ,\n",
      "         4436.   ],\n",
      "       ...,\n",
      "       [-1316.842, -1086.408,  -855.974, ...,  2034.368,  2034.368,\n",
      "         2034.368],\n",
      "       [-1141.171,  -926.042,  -710.912, ...,  1859.521,  1859.521,\n",
      "         1859.521],\n",
      "       [ -286.008,  -135.973,    14.062, ...,  1690.249,  1690.249,\n",
      "         1690.249]], dtype=float32),\n",
      "    'value_bytes': \"b'\\\\x00'...b'D'\",\n",
      "    'value_length': 4,\n",
      "    'value_type': 'FLOAT32_IEEE'}\n",
      "XCPCalib(config=XCPConfig(channel=3, download_can_id=630, upload_can_id=631), data=[{   'address': '7000aa2a',\n",
      "    'dim': [14, 17],\n",
      "    'name': 'TQD_trqTrqSetNormal_MAP_v',\n",
      "    'type_size': 4,\n",
      "    'value': '0000000025...344',\n",
      "    'value_array_view': array([[    0.   ,  1135.317,  1135.317, ...,  4436.   ,  4436.   ,\n",
      "         4436.   ],\n",
      "       [    0.   ,   148.09 ,   148.09 , ...,  4436.   ,  4436.   ,\n",
      "         4436.   ],\n",
      "       [-1338.534,  -833.344,  -328.155, ...,  4436.   ,  4436.   ,\n",
      "         4436.   ],\n",
      "       ...,\n",
      "       [-1316.842, -1086.408,  -855.974, ...,  2034.368,  2034.368,\n",
      "         2034.368],\n",
      "       [-1141.171,  -926.042,  -710.912, ...,  1859.521,  1859.521,\n",
      "         1859.521],\n",
      "       [ -286.008,  -135.973,    14.062, ...,  1690.249,  1690.249,\n",
      "         1690.249]], dtype=float32),\n",
      "    'value_bytes': \"b'\\\\x00'...b'D'\",\n",
      "    'value_length': 4,\n",
      "    'value_type': 'FLOAT32_IEEE'}])\n"
     ]
    }
   ],
   "source": [
    "\n",
    "xcp_calib_from_xcpjson = Get_XCPCalib_From_XCPJSon(args.input)\n",
    "\n",
    "args.download_can_id = xcp_calib_from_xcpjson.config.download_can_id\n",
    "args.upload_can_id = xcp_calib_from_xcpjson.config.upload_can_id\n",
    "args.channel_serial_number = xcp_calib_from_xcpjson.config.channel\n",
    "\n",
    "xcp_data = Generate_Init_XCPData_From_A2L(\n",
    "    a2l=args.a2l, keys=args.leaves, node_path=args.node_path\n",
    ")  # initial xcp_data has value 0\n",
    "try:\n",
    "    XCPData.model_validate(xcp_data)\n",
    "except ValidationError as exc:\n",
    "    print(exc)\n",
    "\n",
    "# emulate torque table input as numpy array\n",
    "xcp_data_value_npa = xcp_calib_from_xcpjson.data[0].value_array_view\n",
    "xcp_data.value = xcp_data_value_npa.astype(np.float32).tobytes().hex()\n",
    "pprint(xcp_data)\n",
    "\n",
    "xcp_calib = XCPCalib(\n",
    "    config=XCPConfig(\n",
    "        channel=args.channel_serial_number, download=args.download_can_id, upload=args.upload_can_id\n",
    "    ),\n",
    "    data=[xcp_data],\n",
    ")\n",
    "pprint(xcp_calib)\n",
    "\n",
    "can_filters = [{'can_id': xcp_calib.config.upload_can_id, 'can_mask': 0x7FF}]\n",
    "cntr = 0\n",
    "can_specs = ScapyCANSpecs(bus_type=args.bus_type,\n",
    "                        channel_serial_number=args.channel_serial_number,\n",
    "                        download_can_id=xcp_calib.config.download_can_id,\n",
    "                        upload_can_id=xcp_calib.config.upload_can_id,\n",
    "                        can_filters=can_filters,\n",
    "                        bit_rate=args.bit_rate,\n",
    "                        time_out=args.time_out,\n",
    "                        station_address=args.station_address,\n",
    "                        cntr=cntr,\n",
    "                        receive_own_messages=True,\n",
    "                        download_upload=args.download,  # CCP Upload mode\n",
    "                        diff_mode = args.diff_mode,\n",
    "                        diff_threshold= args.diff_threshold\n",
    "                        )\n"
   ]
  },
  {
   "cell_type": "code",
   "execution_count": null,
   "metadata": {},
   "outputs": [
    {
     "data": {
      "text/plain": [
       "ScapyCANSpecs(bus_type='VIRTUAL', channel_serial_number=3, download_can_id=630, upload_can_id=631, can_filters=[CANFilter(can_id=631, can_mask=2047)], bit_rate=500000, time_out=1.0, station_address=0, cntr=0, receive_own_messages=True, download_upload=True, diff_mode=True, diff_threshold=0.001, last_download_data=None, channel='vcan3')"
      ]
     },
     "execution_count": null,
     "metadata": {},
     "output_type": "execute_result"
    }
   ],
   "source": [
    "can_specs"
   ]
  },
  {
   "cell_type": "code",
   "execution_count": null,
   "metadata": {},
   "outputs": [],
   "source": [
    "\n",
    "# test uploading\n",
    "# can_specs.download_upload = False                        \n",
    "# upload_calib_data2(xcp_calib=xcp_calib, can_specs=can_specs)\n"
   ]
  },
  {
   "cell_type": "markdown",
   "metadata": {},
   "source": [
    "# Release CAN device"
   ]
  },
  {
   "cell_type": "code",
   "execution_count": null,
   "metadata": {},
   "outputs": [
    {
     "name": "stderr",
     "output_type": "stream",
     "text": [
      "SSHPASS: searching for password prompt using match \"assword\"\n",
      "SSHPASS: read: [sudo] password for veos: \n",
      "SSHPASS: detected prompt. Sending password.\n",
      "SSHPASS: read: \n",
      "\n"
     ]
    },
    {
     "data": {
      "text/plain": [
       "0"
      ]
     },
     "execution_count": null,
     "metadata": {},
     "output_type": "execute_result"
    }
   ],
   "source": [
    "\n",
    "# close and remove vcan0\n",
    "# !sshpass -v -p  asdf sudo ip link delete vcan0 \n",
    "\n",
    "os.system(f\"gpg -d -q ~/.sshpasswd.gpg | sshpass -v sudo ip link set down {device}\")"
   ]
  },
  {
   "cell_type": "code",
   "execution_count": null,
   "metadata": {},
   "outputs": [
    {
     "name": "stderr",
     "output_type": "stream",
     "text": [
      "SSHPASS: searching for password prompt using match \"assword\"\n",
      "SSHPASS: read: [sudo] password for veos: \n",
      "SSHPASS: detected prompt. Sending password.\n",
      "SSHPASS: read: \n",
      "\n",
      "Cannot find device \"can3\"\n"
     ]
    },
    {
     "data": {
      "text/plain": [
       "256"
      ]
     },
     "execution_count": null,
     "metadata": {},
     "output_type": "execute_result"
    }
   ],
   "source": [
    "\n",
    "# delete vcan0\n",
    "os.system(f\"gpg -d -q ~/.sshpasswd.gpg | sshpass -v sudo ip link delete can{args.channel_serial_number}\")"
   ]
  },
  {
   "cell_type": "code",
   "execution_count": null,
   "metadata": {},
   "outputs": [],
   "source": [
    "#| export\n",
    "if __name__ == \"__main__\" and \"__file__\" in globals():  # only run if this file is called directly\n",
    "\n",
    "    protocol = inquirer.select(\n",
    "        message=\"What's the protocol?\",\n",
    "        choices=[\n",
    "            Choice(value=\"CCP\", name=\"CCP\"),\n",
    "            Choice(value=\"XCP\", name=\"XCP\"),\n",
    "        ],\n",
    "        default=\"CCP\",\n",
    "    ).execute()\n",
    "\n",
    "    can = inquirer.select(\n",
    "        message=\"What's the type of CAN?\",\n",
    "        choices=[\n",
    "            Choice(value=\"NATIVE\", name=\"Native Linux SocketCAN\"),\n",
    "            Choice(value=\"PYTHON\", name=\"Python CAN\"),\n",
    "        ],\n",
    "        default=\"NATIVE\",\n",
    "    ).execute()\n",
    "\n",
    "    if can == 'NATIVE':\n",
    "        bus = inquirer.select(\n",
    "            message=\"What's the type of bus?\",\n",
    "            choices=[\n",
    "                Choice(value=\"SOCKET\", name=\"Physical CAN\"),\n",
    "                Choice(value=\"VIRTUAL\", name=\"Virtual CAN\"),\n",
    "            ],\n",
    "            default=\"SOCKET\",\n",
    "        ).execute()\n",
    "    else:  # can == 'PYTHON'\n",
    "        bus = inquirer.select(\n",
    "            message=\"What's the type of bus?\",\n",
    "            choices=[\n",
    "                Choice(value=\"SOCKET\", name=\"Physical SocketCAN\"),\n",
    "                Choice(value=\"VIRTUAL\", name=\"Virtual SocketCAN\"),\n",
    "                Choice(value=\"KVASER\", name=\"Kvaser CAN\"),\n",
    "            ],\n",
    "            default=\"SOCKET\",\n",
    "        ).execute()\n",
    "\n",
    "    download = inquirer.confirm(\n",
    "        message=\"Downloading(host->target)?\",\n",
    "        confirm_letter=\"y\",\n",
    "        reject_letter=\"n\",\n",
    "        default=True,\n",
    "    ).execute()\n",
    "\n",
    "    differential_flashing = inquirer.confirm(\n",
    "        message=\"Differential Flashing?\",\n",
    "        confirm_letter=\"y\",\n",
    "        reject_letter=\"n\",\n",
    "        default=True,\n",
    "    ).execute()\n",
    "\n",
    "    a2l_file_path = inquirer.text(\n",
    "        message=\"a2l file path\",\n",
    "        validate=EmptyInputValidator(),\n",
    "        default='/res/vbu_ai.json'\n",
    "    ).execute()\n",
    "\n",
    "    # node_path = inquirer.text(\n",
    "    #     message=\"node path\",\n",
    "    #     validate=EmptyInputValidator(),\n",
    "    # \tdefault=r\"/PROJECT/MODULE[]\",\n",
    "    # ).execute()\n",
    "\n",
    "    # leaves = inquirer.text(\n",
    "    #     message=\"leaves\",\n",
    "    #     validate=EmptyInputValidator(),\n",
    "    # \tdefault=r\"TQD_trqTrqSetNormal_MAP_v, VBU_L045A_CWP_05_09T_AImode_CM_single, Lookup2D_FLOAT32_IEEE, Lookup2D_X_FLOAT32_IEEE, Scalar_FLOAT32_IEEE, TQD_vVehSpd, TQD_vSgndSpd_MAP_y, TQD_pctAccPedPosFlt, TQD_pctAccPdl_MAP_x\"\n",
    "    # ).execute()\n",
    "\n",
    "    # can_channel = inquirer.number(\n",
    "    #     message=\"CAN channel for flashing\",\n",
    "    #     min_allowed=0,\n",
    "    #     max_allowed=32,\n",
    "    #     validate=EmptyInputValidator(),\n",
    "    #     default=3,\n",
    "    # ).execute()\n",
    "\n",
    "    input_file_path = inquirer.text(\n",
    "        message=\"Input file path\",\n",
    "        validate=EmptyInputValidator(),\n",
    "        default=\"/res/download.json\",\n",
    "    ).execute()\n",
    "\n",
    "    output_file_path = inquirer.text(\n",
    "        message=\"Output file path\",\n",
    "        validate=EmptyInputValidator(),\n",
    "        default=\"/res/output.json\",\n",
    "    ).execute()\n",
    "\n",
    "    args = get_argparser().parse_args()\n",
    "    args.protocol = protocol\n",
    "    args.can_type = can\n",
    "    args.bus_type = bus\n",
    "    args.download = download\n",
    "    args.diff_mode = differential_flashing\n",
    "    # args.a2l = a2l_file_path\n",
    "    # args.node_path = node_path\n",
    "    # args.leaves = leaves\n",
    "    args.input = repo.working_dir+input_file_path\n",
    "    args.output = repo.working_dir+output_file_path\n",
    "    pprint(args)\n",
    "\n",
    "    xcp_calib_from_xcpjson = Get_XCPCalib_From_XCPJSon(args.input)\n",
    "\n",
    "    args.download_can_id = xcp_calib_from_xcpjson.config.download_can_id\n",
    "    args.upload_can_id = xcp_calib_from_xcpjson.config.upload_can_id\n",
    "    args.channel_serial_number = xcp_calib_from_xcpjson.config.channel\n",
    "\n",
    "    xcp_data = Generate_Init_XCPData_From_A2L(\n",
    "        a2l=args.a2l, keys=args.leaves, node_path=args.node_path\n",
    "    )  # initial xcp_data has value 0\n",
    "    try:\n",
    "        XCPData.model_validate(xcp_data)\n",
    "    except ValidationError as exc:\n",
    "        print(exc)\n",
    "\n",
    "    # emulate torque table input as numpy array\n",
    "    xcp_data_value_npa = xcp_calib_from_xcpjson.data[0].value_array_view\n",
    "    xcp_data.value = xcp_data_value_npa.astype(np.float32).tobytes().hex()\n",
    "    pprint(xcp_data)\n",
    "\n",
    "    xcp_calib = XCPCalib(\n",
    "        config=XCPConfig(\n",
    "            channel=args.channel_serial_number, download=args.download_can_id, upload=args.upload_can_id\n",
    "        ),\n",
    "        data=[xcp_data],\n",
    "    )\n",
    "    pprint(xcp_calib)\n",
    "\n",
    "    can_filters = [{'can_id': xcp_calib.config.upload_can_id, 'can_mask': 0x7FF}]\n",
    "    cntr = 0\n",
    "    can_specs = ScapyCANSpecs(can_type=args.can_type,\n",
    "                            bus_type=args.bus_type,\n",
    "                            channel_serial_number=args.channel_serial_number,\n",
    "                            download_can_id=xcp_calib.config.download_can_id,\n",
    "                            upload_can_id=xcp_calib.config.upload_can_id,\n",
    "                            can_filters=can_filters,\n",
    "                            bit_rate=args.bit_rate,\n",
    "                            time_out=args.time_out,\n",
    "                            station_address=args.station_address,\n",
    "                            cntr=cntr,\n",
    "                            receive_own_messages=True,\n",
    "                            download_upload=args.download,  # CCP Upload mode\n",
    "                            diff_mode = args.diff_mode,\n",
    "                            diff_threshold= args.diff_threshold\n",
    "                            )\n",
    "    can_specs.download_upload = False                        \n",
    "    upload_calib_data2(xcp_calib=xcp_calib, can_specs=can_specs)\n",
    "    can_specs.download_upload = True                       \n",
    "    downlod_calib_data2(xcp_calib=xcp_calib,can_specs=can_specs)\n",
    "    "
   ]
  },
  {
   "cell_type": "code",
   "execution_count": null,
   "metadata": {},
   "outputs": [],
   "source": [
    "#| hide\n",
    "import nbdev; nbdev.nbdev_export()"
   ]
  }
 ],
 "metadata": {
  "kernelspec": {
   "display_name": "python3",
   "language": "python",
   "name": "python3"
  }
 },
 "nbformat": 4,
 "nbformat_minor": 4
}
