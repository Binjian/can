{
 "cells": [
  {
   "cell_type": "markdown",
   "metadata": {},
   "source": [
    "# dbc\n",
    "\n",
    "> dbc manipulation: editing and creating dbc files\n",
    "\n",
    "## Usage\n",
    "\n",
    "install dbc-editor and cantools\n",
    "\n",
    "```bash\n",
    "pip install dbc-editor\n",
    "pip install cantools\n",
    "```\n",
    "\n",
    "for editing the dbc file in a GUI interface, use dbc-editor\n",
    "```bash\n",
    "dbc-editor file.dbc\n",
    "```\n",
    "\n",
    "for creating or modifying the dbc file in a python script, use cantools\n",
    "```python\n",
    "import cantools\n",
    "db = cantools.db.load_file('file.dbc')\n",
    "```"
   ]
  },
  {
   "cell_type": "code",
   "execution_count": null,
   "metadata": {},
   "outputs": [],
   "source": [
    "#| default_exp dbc"
   ]
  },
  {
   "cell_type": "code",
   "execution_count": null,
   "metadata": {},
   "outputs": [],
   "source": [
    "#| hide\n",
    "from __future__ import annotations\n",
    "from nbdev.showdoc import *\n",
    "from pprint import pprint"
   ]
  },
  {
   "cell_type": "code",
   "execution_count": null,
   "metadata": {},
   "outputs": [],
   "source": [
    "#| export#| export"
   ]
  },
  {
   "cell_type": "code",
   "execution_count": null,
   "metadata": {},
   "outputs": [],
   "source": [
    "#| export\n",
    "import cantools\n",
    "from cantools.database import Message as MessageTpl\n",
    "# from can.interface import Bus\n",
    "# from can import Message "
   ]
  },
  {
   "cell_type": "code",
   "execution_count": null,
   "metadata": {},
   "outputs": [],
   "source": [
    "db = cantools.database.load_file('../res/motohawk_new.dbc')\n",
    "db.messages\n",
    "example_message: MessageTpl = db.get_message_by_name('ExampleMessage')\n",
    "pprint(example_message.signals)\n",
    "pprint(example_message.__dict__)\n",
    "example_message.frame_id"
   ]
  },
  {
   "cell_type": "markdown",
   "metadata": {},
   "source": [
    "# Following show how to create a new dbc file from scratch using cantools"
   ]
  },
  {
   "cell_type": "code",
   "execution_count": null,
   "metadata": {},
   "outputs": [],
   "source": [
    "can_id = example_message.frame_id + 10\n",
    "can_id"
   ]
  },
  {
   "cell_type": "code",
   "execution_count": null,
   "metadata": {},
   "outputs": [],
   "source": [
    "can_db = cantools.db\n",
    "db_new = cantools.database.Database(version='0.1')\n",
    "sig = can_db.Signal(name=\"torque_table\", \n",
    "\t\t\t\t\tstart=0, \n",
    "\t\t\t\t\tlength=8, \n",
    "\t\t\t\t\tbyte_order='big_endian', \n",
    "\t\t\t\t\tis_signed=False, \n",
    "\t\t\t\t\tminimum=0, \n",
    "\t\t\t\t\tmaximum=255, \n",
    "\t\t\t\t\tunit='Nm',\n",
    "\t\t\t\t\tcomment=\"self made signal\",\n",
    "\t\t\t\t\tis_multiplexer=False)\n",
    "\n",
    "msg = can_db.Message(frame_id=can_id,\n",
    "\t\t\t\t\tname=\"NewMessage\",\n",
    "\t\t\t\t\tsignals=[sig],\n",
    "\t\t\t\t\tlength=8,\n",
    "\t\t\t\t\tis_extended_frame=False,\n",
    "\t\t\t\t\tis_fd=False,\n",
    "\t\t\t\t\tcomment=\"self made message\",\n",
    "\t\t\t\t\tsend_type=0,\n",
    "\t\t\t\t\tcycle_time=0,\n",
    "\t\t\t\t\tbus_name=\"PT\",\n",
    "\t\t\t\t\t)\n",
    "\n",
    "db_new.messages.append(msg)\n",
    "# can_db.add_message(msg)\n",
    "cantools.database.dump_file(database=db_new,filename='test.dbc')\n",
    "# db.dump('test.dbc')\n"
   ]
  },
  {
   "cell_type": "markdown",
   "metadata": {},
   "source": [
    "# Following show how to append a new message to an existing dbc using cantools"
   ]
  },
  {
   "cell_type": "code",
   "execution_count": null,
   "metadata": {},
   "outputs": [],
   "source": [
    "can_id = example_message.frame_id + 200\n",
    "can_db = cantools.db\n",
    "db.version = '1.1'\n",
    "sig = can_db.Signal(name=\"eco_table\", \n",
    "\t\t\t\t\tstart=0, \n",
    "\t\t\t\t\tlength=8, \n",
    "\t\t\t\t\tbyte_order='big_endian', \n",
    "\t\t\t\t\tis_signed=False, \n",
    "\t\t\t\t\tminimum=0, \n",
    "\t\t\t\t\tmaximum=255, \n",
    "\t\t\t\t\tunit='Nm',\n",
    "\t\t\t\t\tcomment=\"self made signal\",\n",
    "\t\t\t\t\tis_multiplexer=False)\n",
    "\n",
    "msg = can_db.Message(frame_id=can_id,\n",
    "\t\t\t\t\tname=\"AppendedMessage\",\n",
    "\t\t\t\t\tsignals=[sig],\n",
    "\t\t\t\t\tlength=8,\n",
    "\t\t\t\t\tis_extended_frame=False,\n",
    "\t\t\t\t\tis_fd=False,\n",
    "\t\t\t\t\tcomment=\"self made message\",\n",
    "\t\t\t\t\tsend_type=0,\n",
    "\t\t\t\t\tcycle_time=0,\n",
    "\t\t\t\t\tbus_name=\"PT\",\n",
    "\t\t\t\t\t)\n",
    "\n",
    "db.messages.append(msg)\n",
    "# can_db.add_message(msg)\n",
    "cantools.database.dump_file(database=db,filename='../res/motohawk_appended.dbc')\n",
    "# db.dump('test.dbc')\n"
   ]
  },
  {
   "cell_type": "code",
   "execution_count": null,
   "metadata": {},
   "outputs": [],
   "source": [
    "#| hide\n",
    "import nbdev; nbdev.nbdev_export()"
   ]
  }
 ],
 "metadata": {
  "kernelspec": {
   "display_name": "python3",
   "language": "python",
   "name": "python3"
  }
 },
 "nbformat": 4,
 "nbformat_minor": 2
}
