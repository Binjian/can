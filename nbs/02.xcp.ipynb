{
 "cells": [
  {
   "cell_type": "markdown",
   "metadata": {},
   "source": [
    "# XCP\n",
    "\n",
    "> flashing interface for XCP\n",
    "> For now, only support XCP on CAN via Kvaser CAN interface"
   ]
  },
  {
   "cell_type": "code",
   "execution_count": 1,
   "metadata": {},
   "outputs": [],
   "source": [
    "#| default_exp xcp"
   ]
  },
  {
   "cell_type": "code",
   "execution_count": 108,
   "metadata": {},
   "outputs": [],
   "source": [
    "#| hide\n",
    "from nbdev.showdoc import show_doc\n",
    "from fastcore.test import *"
   ]
  },
  {
   "cell_type": "code",
   "execution_count": 145,
   "metadata": {},
   "outputs": [],
   "source": [
    "#| export\n",
    "import os\n",
    "import git\n",
    "import argparse\n",
    "from InquirerPy import inquirer\n",
    "from InquirerPy.validator import EmptyInputValidator\n",
    "from InquirerPy.base.control import Choice\n",
    "from pydantic import ValidationError\n",
    "from pprint import pprint, PrettyPrinter"
   ]
  },
  {
   "cell_type": "code",
   "execution_count": 148,
   "metadata": {},
   "outputs": [],
   "source": [
    "#| export\n",
    "import subprocess\n",
    "from multiprocessing import Manager\n",
    "from multiprocessing.managers import DictProxy\n",
    "import can\n",
    "import cantools\n",
    "from cantools.database import Message as MessagerTpl\n",
    "from cantools.database.can.database import Database"
   ]
  },
  {
   "cell_type": "code",
   "execution_count": 64,
   "metadata": {},
   "outputs": [],
   "source": [
    "#| export\n",
    "import pandas as pd\n",
    "import numpy as np\n",
    "import struct"
   ]
  },
  {
   "cell_type": "code",
   "execution_count": 5,
   "metadata": {},
   "outputs": [
    {
     "name": "stdout",
     "output_type": "stream",
     "text": [
      "'/home/n/devel/anting_remote/eos/tspace/candycan'\n"
     ]
    }
   ],
   "source": [
    "#| export \n",
    "from candycan.a2l import (\n",
    "    list_of_strings,\n",
    "    XCPCalib,\n",
    "    XCPData,\n",
    "    XCPConfig,\n",
    "    Get_XCPCalib_From_XCPJSon,\n",
    "    Generate_Init_XCPData_From_A2L,\n",
    ")\n"
   ]
  },
  {
   "cell_type": "code",
   "execution_count": 6,
   "metadata": {},
   "outputs": [],
   "source": [
    "#| export\n",
    "pp = PrettyPrinter(indent=4, width=80, compact=True)"
   ]
  },
  {
   "cell_type": "code",
   "execution_count": 7,
   "metadata": {},
   "outputs": [
    {
     "name": "stdout",
     "output_type": "stream",
     "text": [
      "'/home/n/devel/anting_remote/eos/tspace/candycan'\n"
     ]
    }
   ],
   "source": [
    "#| export \n",
    "repo = git.Repo(\"./\", search_parent_directories=True)  # get the Repo object of tspace\n",
    "if os.path.basename(repo.working_dir) != \"candycan\":  # I'm in the parent repo!\n",
    "    repo = repo.submodule(\"candycan\").module()\n",
    "pprint(repo.working_dir)"
   ]
  },
  {
   "cell_type": "code",
   "execution_count": 16,
   "metadata": {},
   "outputs": [],
   "source": [
    "#| export\n",
    "def get_argparser() -> argparse.ArgumentParser:\n",
    "\t\"\"\"Summary\n",
    "\tGet argument parser for command line arguments\n",
    "\n",
    "\tReturns:\n",
    "\t\targparse.ArgumentParser: _description_\n",
    "\t\"\"\"\n",
    "\tparser = argparse.ArgumentParser(description='XCP Processing')\n",
    "\n",
    "\tparser.add_argument(\n",
    "\t\t'--protocol',\n",
    "\t\ttype=str,\n",
    "\t\tchoices=['ccp', 'xcp'],\n",
    "\t\tdefault='ccp',\n",
    "\t\thelp='Protocol to use: ccp/xcp',\n",
    "\t)\n",
    "\n",
    "\tparser.add_argument(\n",
    "\t\t'--download',\n",
    "\t\tdefault=False,\n",
    "\t\thelp='Download or upload: default is download(host->target)',\n",
    "\t\taction='store_true',\n",
    "\t)\n",
    "\n",
    "\tparser.add_argument(\n",
    "\t\t'--diff_flashing',\n",
    "\t\tdefault=True,\n",
    "\t\thelp='use differential flashing',\n",
    "\t\taction='store_false',\n",
    "\t)\n",
    "\n",
    "\tparser.add_argument(\n",
    "\t\t'--a2l', \n",
    "\t\ttype=str,\n",
    "        default=repo.working_dir+'/res/VBU_AI.json',\n",
    "\t\thelp='a2l json file path')\n",
    "\t\t\n",
    "\tparser.add_argument(\n",
    "\t\t\"--node-path\",\n",
    "\t\ttype=str,\n",
    "\t\tdefault=r\"/PROJECT/MODULE[]\",\n",
    "\t\thelp=\"node path to search for calibration parameters\",\n",
    "\t)\n",
    "\n",
    "\tparser.add_argument(\n",
    "\t\t\"--leaves\",\n",
    "\t\ttype=list_of_strings,\n",
    "\t\tdefault=r\"TQD_trqTrqSetNormal_MAP_v, \" \n",
    "\t\t\t\tr\"VBU_L045A_CWP_05_09T_AImode_CM_single, \" \n",
    "\t\t\t\tr\"Lookup2D_FLOAT32_IEEE, \" \n",
    "\t\t\t\tr\"Lookup2D_X_FLOAT32_IEEE, \" \n",
    "\t\t\t\tr\"Scalar_FLOAT32_IEEE, \" \n",
    "\t\t\t\tr\"TQD_vVehSpd, \"\n",
    "\t\t\t\tr\"TQD_vSgndSpd_MAP_y, \"\n",
    "\t\t\t\tr\"TQD_pctAccPedPosFlt, \"\n",
    "\t\t\t\tr\"TQD_pctAccPdl_MAP_x\",\n",
    "\t\t\thelp=\"leaf nodes to search for\",\n",
    "\t)\n",
    "\n",
    "\tparser.add_argument(\n",
    "\t\t'--channel', \n",
    "\t\ttype=int,\n",
    "\t\tdefault=3,\n",
    "\t\thelp='CAN channel for flashing')\n",
    "\t\t\n",
    "\tparser.add_argument(\n",
    "\t\t'--download_id', \n",
    "\t\ttype=int,\n",
    "\t\tdefault=630,\n",
    "\t\thelp='CAN message ID for downloading')\n",
    "\t\t\n",
    "\tparser.add_argument(\n",
    "\t\t'--upload_id', \n",
    "\t\ttype=int,\n",
    "\t\tdefault=631,\n",
    "\t\thelp='CAN message ID for downloading')\n",
    "\t\t\n",
    "\tparser.add_argument(\n",
    "\t\t'--input', \n",
    "\t\ttype=str,\n",
    "        default=repo.working_dir+'/res/download.json',\n",
    "\t\thelp='Input file path')\n",
    "\t\n",
    "\tparser.add_argument(\n",
    "\t\t'--output', \n",
    "\t\ttype=str, \n",
    "        default=repo.working_dir+'/res/output.json',\n",
    "\t\thelp='Output file path')\n",
    "\treturn parser"
   ]
  },
  {
   "cell_type": "code",
   "execution_count": 13,
   "metadata": {},
   "outputs": [
    {
     "data": {
      "text/markdown": [
       "---\n",
       "\n",
       "[source](https://github.com/Binjian/candycan/blob/main/candycan/xcp.py#L37){target=\"_blank\" style=\"float:right; font-size:smaller\"}\n",
       "\n",
       "### get_argparser\n",
       "\n",
       ">      get_argparser ()\n",
       "\n",
       "Summary\n",
       "Get argument parser for command line arguments\n",
       "\n",
       "Returns:\n",
       "        argparse.ArgumentParser: _description_"
      ],
      "text/plain": [
       "---\n",
       "\n",
       "[source](https://github.com/Binjian/candycan/blob/main/candycan/xcp.py#L37){target=\"_blank\" style=\"float:right; font-size:smaller\"}\n",
       "\n",
       "### get_argparser\n",
       "\n",
       ">      get_argparser ()\n",
       "\n",
       "Summary\n",
       "Get argument parser for command line arguments\n",
       "\n",
       "Returns:\n",
       "        argparse.ArgumentParser: _description_"
      ]
     },
     "execution_count": 13,
     "metadata": {},
     "output_type": "execute_result"
    }
   ],
   "source": [
    "show_doc(get_argparser)"
   ]
  },
  {
   "cell_type": "code",
   "execution_count": 24,
   "metadata": {},
   "outputs": [
    {
     "name": "stdout",
     "output_type": "stream",
     "text": [
      "Namespace(protocol='xcp', download=True, diff_flashing=True, a2l='/home/n/devel/anting_remote/eos/tspace/candycan/res/VBU_AI.json', node_path='/PROJECT/MODULE[]', leaves=['TQD_trqTrqSetNormal_MAP_v', 'VBU_L045A_CWP_05_09T_AImode_CM_single', 'Lookup2D_FLOAT32_IEEE', 'Lookup2D_X_FLOAT32_IEEE', 'Scalar_FLOAT32_IEEE', 'TQD_vVehSpd', 'TQD_vSgndSpd_MAP_y', 'TQD_pctAccPedPosFlt', 'TQD_pctAccPdl_MAP_x'], channel=3, download_id=630, upload_id=631, input='/home/n/devel/anting_remote/eos/tspace/candycan/res/download.json', output='/home/n/devel/anting_remote/eos/tspace/candycan/res/output.json')\n"
     ]
    }
   ],
   "source": [
    "parser = get_argparser()\n",
    "args = parser.parse_args(\n",
    "    args=[\n",
    "        '--protocol', 'xcp',\n",
    "        '--download',\n",
    "        '--a2l', repo.working_dir+'/res/VBU_AI.json',\n",
    "        '--node-path', r'/PROJECT/MODULE[]',\n",
    "        '--leaves', r'TQD_trqTrqSetNormal_MAP_v, VBU_L045A_CWP_05_09T_AImode_CM_single, Lookup2D_FLOAT32_IEEE, Lookup2D_X_FLOAT32_IEEE, Scalar_FLOAT32_IEEE, TQD_vVehSpd, TQD_vSgndSpd_MAP_y, TQD_pctAccPedPosFlt, TQD_pctAccPdl_MAP_x',\n",
    "        '--channel', '3',\n",
    "        '--download_id', '630',\n",
    "        '--upload_id', '631',\n",
    "        '--input', repo.working_dir+'/res/download.json',\n",
    "        '--output', repo.working_dir+'/res/output.json',\n",
    "    ]\n",
    ")"
   ]
  },
  {
   "cell_type": "code",
   "execution_count": 32,
   "metadata": {},
   "outputs": [
    {
     "data": {
      "text/plain": [
       "{   'address': '7000aa2a',\n",
       "    'dim': [14, 17],\n",
       "    'name': 'TQD_trqTrqSetNormal_MAP_v',\n",
       "    'type_size': 4,\n",
       "    'value': '0000000000...000',\n",
       "    'value_array_view': array([[0., 0., 0., ..., 0., 0., 0.],\n",
       "       [0., 0., 0., ..., 0., 0., 0.],\n",
       "       [0., 0., 0., ..., 0., 0., 0.],\n",
       "       ...,\n",
       "       [0., 0., 0., ..., 0., 0., 0.],\n",
       "       [0., 0., 0., ..., 0., 0., 0.],\n",
       "       [0., 0., 0., ..., 0., 0., 0.]]),\n",
       "    'value_length': 4,\n",
       "    'value_type': 'FLOAT32_IEEE'}"
      ]
     },
     "execution_count": 32,
     "metadata": {},
     "output_type": "execute_result"
    }
   ],
   "source": [
    "xcp_calib_from_xcpjson = Get_XCPCalib_From_XCPJSon(args.input)\n",
    "\n",
    "xcp_data = Generate_Init_XCPData_From_A2L(\n",
    "    a2l=args.a2l, keys=args.leaves, node_path=args.node_path\n",
    ")\n",
    "\n",
    "try:\n",
    "    XCPData.model_validate(xcp_data)\n",
    "except ValidationError as exc:\n",
    "    print(exc)"
   ]
  },
  {
   "cell_type": "code",
   "execution_count": 38,
   "metadata": {},
   "outputs": [
    {
     "data": {
      "text/plain": [
       "(int, int, 631, True, True)"
      ]
     },
     "execution_count": 38,
     "metadata": {},
     "output_type": "execute_result"
    }
   ],
   "source": [
    "# type(args.channel), type(args.download_id), args.upload_id, args.download, args.diff_flashing"
   ]
  },
  {
   "cell_type": "code",
   "execution_count": 37,
   "metadata": {},
   "outputs": [
    {
     "name": "stdout",
     "output_type": "stream",
     "text": [
      "{   'address': '7000aa2a',\n",
      "    'dim': [14, 17],\n",
      "    'name': 'TQD_trqTrqSetNormal_MAP_v',\n",
      "    'type_size': 4,\n",
      "    'value': '0000000025...344',\n",
      "    'value_array_view': array([[    0.   ,  1135.317,  1135.317, ...,  4436.   ,  4436.   ,\n",
      "         4436.   ],\n",
      "       [    0.   ,   148.09 ,   148.09 , ...,  4436.   ,  4436.   ,\n",
      "         4436.   ],\n",
      "       [-1338.534,  -833.344,  -328.155, ...,  4436.   ,  4436.   ,\n",
      "         4436.   ],\n",
      "       ...,\n",
      "       [-1316.842, -1086.408,  -855.974, ...,  2034.368,  2034.368,\n",
      "         2034.368],\n",
      "       [-1141.171,  -926.042,  -710.912, ...,  1859.521,  1859.521,\n",
      "         1859.521],\n",
      "       [ -286.008,  -135.973,    14.062, ...,  1690.249,  1690.249,\n",
      "         1690.249]]),\n",
      "    'value_length': 4,\n",
      "    'value_type': 'FLOAT32_IEEE'}\n",
      "XCPCalib(config=XCPConfig(channel=3, download_can_id='630', upload_can_id='631'), data=[{   'address': '7000aa2a',\n",
      "    'dim': [14, 17],\n",
      "    'name': 'TQD_trqTrqSetNormal_MAP_v',\n",
      "    'type_size': 4,\n",
      "    'value': '0000000025...344',\n",
      "    'value_array_view': array([[    0.   ,  1135.317,  1135.317, ...,  4436.   ,  4436.   ,\n",
      "         4436.   ],\n",
      "       [    0.   ,   148.09 ,   148.09 , ...,  4436.   ,  4436.   ,\n",
      "         4436.   ],\n",
      "       [-1338.534,  -833.344,  -328.155, ...,  4436.   ,  4436.   ,\n",
      "         4436.   ],\n",
      "       ...,\n",
      "       [-1316.842, -1086.408,  -855.974, ...,  2034.368,  2034.368,\n",
      "         2034.368],\n",
      "       [-1141.171,  -926.042,  -710.912, ...,  1859.521,  1859.521,\n",
      "         1859.521],\n",
      "       [ -286.008,  -135.973,    14.062, ...,  1690.249,  1690.249,\n",
      "         1690.249]]),\n",
      "    'value_length': 4,\n",
      "    'value_type': 'FLOAT32_IEEE'}])\n"
     ]
    }
   ],
   "source": [
    "xcp_data.value = xcp_calib_from_xcpjson.data[0].value\n",
    "pprint(xcp_data)\n",
    "\n",
    "xcp_calib = XCPCalib(\n",
    "    config=XCPConfig(\n",
    "        channel=args.channel, download=str(args.download_id), upload=str(args.upload_id)\n",
    "    ),\n",
    "    data=[xcp_data],\n",
    ")\n",
    "# pprint(xcp_calib)"
   ]
  },
  {
   "cell_type": "code",
   "execution_count": 47,
   "metadata": {},
   "outputs": [
    {
     "data": {
      "text/plain": [
       "array([[    0.   ,  1135.317,  1135.317, ...,  4436.   ,  4436.   ,\n",
       "         4436.   ],\n",
       "       [    0.   ,   148.09 ,   148.09 , ...,  4436.   ,  4436.   ,\n",
       "         4436.   ],\n",
       "       [-1338.534,  -833.344,  -328.155, ...,  4436.   ,  4436.   ,\n",
       "         4436.   ],\n",
       "       ...,\n",
       "       [-1316.842, -1086.408,  -855.974, ...,  2034.368,  2034.368,\n",
       "         2034.368],\n",
       "       [-1141.171,  -926.042,  -710.912, ...,  1859.521,  1859.521,\n",
       "         1859.521],\n",
       "       [ -286.008,  -135.973,    14.062, ...,  1690.249,  1690.249,\n",
       "         1690.249]])"
      ]
     },
     "execution_count": 47,
     "metadata": {},
     "output_type": "execute_result"
    }
   ],
   "source": [
    "npa =  xcp_calib.data[0].value_array_view\n",
    "npa"
   ]
  },
  {
   "cell_type": "code",
   "execution_count": 112,
   "metadata": {},
   "outputs": [],
   "source": [
    "# buffer = [i.hex() for x in npa for i in x]\n",
    "# # buffer[::-1]\n",
    "# len(buffer)\n",
    "# buffer"
   ]
  },
  {
   "cell_type": "code",
   "execution_count": 113,
   "metadata": {},
   "outputs": [],
   "source": [
    "\n",
    "# buffer = npa.tobytes()\n",
    "\n",
    "# pprint(buffer), len(buffer)\n",
    "# xcp_calib.data[0].value, len(xcp_calib.data[0].value)"
   ]
  },
  {
   "cell_type": "code",
   "execution_count": 144,
   "metadata": {},
   "outputs": [
    {
     "data": {
      "text/plain": [
       "238"
      ]
     },
     "execution_count": 144,
     "metadata": {},
     "output_type": "execute_result"
    }
   ],
   "source": [
    "npb = npa[::-1]\n",
    "# npb\n",
    "buffer = [struct.pack(\"<f\", x) for x in np.nditer(npa)]\n",
    "# buffer\n",
    "len(buffer)"
   ]
  },
  {
   "cell_type": "code",
   "execution_count": 120,
   "metadata": {},
   "outputs": [],
   "source": [
    "#| export\n",
    "def npa_to_packed_buffer(a: np.ndarray) -> str:\n",
    "    \"\"\" convert a numpy array to a packed string buffer for flashing\n",
    "    TODO: implementation as numpy ufunc\n",
    "\n",
    "    Args:\n",
    "        a (np.ndarray): input numpy array for flashing\n",
    "\n",
    "    Returns:\n",
    "        str: packed string buffer for flashing\n",
    "    \"\"\"\n",
    "    b = [struct.pack(\"<f\", x).hex() for x in np.nditer(a)]\n",
    "    return ''.join(b)"
   ]
  },
  {
   "cell_type": "code",
   "execution_count": 126,
   "metadata": {},
   "outputs": [],
   "source": [
    "\n",
    "# buffer = [struct.pack(\"<f\", x).hex() for x in np.nditer(npa)]\n",
    "# buffer[::-1]\n",
    "# len(buffer)\n",
    "# buffer\n",
    "# data = ''.join(buffer)\n",
    "data = npa_to_packed_buffer(npa)\n",
    "test_eq(data, xcp_calib.data[0].value)\n",
    "# data"
   ]
  },
  {
   "cell_type": "code",
   "execution_count": 143,
   "metadata": {},
   "outputs": [
    {
     "data": {
      "text/plain": [
       "('0000000025ea8d4425ea8d4425ea8d4425ea8d44db349544b31eb6448c08d74464f2f7441e6e0c45811d2545e3cc3d45467c564585ed834500a08a4500a08a4500a08a4500000000ed161443ed1614434eba8d431a791e44cb4c60443e10914417fab144efe3d244c8cdf34446961245a9452b450bf54345d053754500a08a4500a08a4500a08a451451a7c40b5650c4dd13a4c3b80831434da9f94356254144847c81445c66a2443550c3440d3ae44469cc0a45cb7b23452e2b3c45f3896d4500a08a4500a08a4500a08a45fffc0fc5a4fcd0c44bff81c4c807ccc339db5f4376a00944f8d74744bd0783447f23a244403fc144e2e8ef4442490f45139e2645b5475545abf8814500a08a4500a08a45771f0dc59f6adac451969ac4078435c4ab6d57c3629a9343eb8d18443f2953444ae28644f42fa4447424d044f318fc44b906144539fb3f45b8ef6b4500a08a4500a08a45483e09c51dd0dcc4a923a7c46cee62c40a2befc3dcc943c29338be43be142944e413604485898b44e1c8b4443e08de44cda303452ae32c4586225645e3617f4500a08a45735904c5aa24dac46c96abc45f107ac4e5f31cc4ac5d7fc37928ea4212c3f443ff0b3e44f76e7144b5419f44efcbc5442856ec444eb51c45873f4345c1c96945f1378345efe1fcc4bac2d3c485a3aac44f8481c434ca30c49117bdc3ddd544c21ae28b43782f1844d5ca5444823a8e44990fb244b0e4d5446fc70e45869c32459e715645d52c5745ab09efc4be0dcac4d111a5c4e31580c4eb3336c42178d8c3d81009c393ce1e43ff56e3435aa33b4499f082448d10a4448130c54435b8034529d8244576423545764235451a2adfc4846cbcc4eeae99c4b0e26dc4846728c4afd8c5c35b89ebc2032820435a0adb4359003344857b784494a89a446513b94408e9f544555f194515471e4515471e453c43cdc4c4f8acc44dae8cc4abc758c4bc3218c49b3bafc3f646b8c240302643fd41d443eeb52a44dc4a6b44cce696447b9cb244d807ea44ef260e45ef260e45ef260e45f49aa4c40fcd87c455fe55c48c621cc4868dc5c3e8ab24c3798683423019944361a803442a443d44f3df7644de3d98446b3eb144833fe344c44bfe44c44bfe44c44bfe447ba58ec4ae8267c466ba31c43ce4f7c3ac538cc3700c83c2e89a1543045eb6434af7104492bf4644da877c4411289944149ab444e730e144ab70e844ab70e844ab70e8440b018fc329f907c359fc6041b4182443d1109d434815e843e08c19441b0f3f4457916444c9098544e7ca9744058caa44224dbd44f647d344f647d344f647d344f647d344',\n",
       " 1904)"
      ]
     },
     "execution_count": 143,
     "metadata": {},
     "output_type": "execute_result"
    }
   ],
   "source": [
    "# npa.astype(np.float32).tobytes().hex()\n",
    "buffer = npa.astype(np.float32).tobytes().hex()  ## == npa_to_packed_buffer(npa)\n",
    "buffer, len(buffer)\n",
    "test_eq(buffer, xcp_calib.data[0].value)"
   ]
  },
  {
   "cell_type": "code",
   "execution_count": null,
   "metadata": {},
   "outputs": [],
   "source": [
    "#| export\n",
    "def flash_xcp(xcp_calib: XCPCalib, data: pd.DataFrame, diff_flashing: bool=False, download: bool=True):\n",
    "    \"\"\"Summary\n",
    "    Flash XCP data to target\n",
    "\n",
    "    Args:\n",
    "        xcp_calib (XCPCalib): XCP calibration as template, contains all the meta information except for data\n",
    "        xcp_data (pd.DataFrame): input XCP data to be flashed, replace the value in xcp_calib\n",
    "        diff_flashing (bool): Use differential flashing\n",
    "        download (bool): Download or upload\n",
    "    \n",
    "    \"\"\"\n",
    "    \n",
    "    xcp_calib.data = data.astype(np.float32).tobytes().hex()\n",
    "\n",
    "    if download:\n",
    "        if diff_flashing:\n",
    "            raise NotImplementedError(\"Differential flashing not implemented yet\")\n",
    "        else:\n",
    "            pass\n",
    "             \n",
    "        \n",
    "\n",
    "    "
   ]
  },
  {
   "cell_type": "code",
   "execution_count": 8,
   "metadata": {},
   "outputs": [],
   "source": [
    "#| export\n",
    "if __name__ == \"__main__\" and \"__file__\" in globals():  # only run if this file is called directly\n",
    "\n",
    "    protocol = inquirer.select(\n",
    "        message=\"What's the protocol?\",\n",
    "        choices=[\n",
    "            Choice(value=\"ccp\", name=\"CCP\"),\n",
    "            Choice(value=\"xcp\", name=\"XCP\"),\n",
    "        ],\n",
    "        default=\"ccp\",\n",
    "    ).execute()\n",
    "\n",
    "    download = inquirer.confirm(\n",
    "        message=\"Downloading(host->target)?\",\n",
    "        confirm_letter=\"y\",\n",
    "        reject_letter=\"n\",\n",
    "        default=True,\n",
    "    ).execute()\n",
    "\n",
    "    differential_flashing = inquirer.confirm(\n",
    "        message=\"Differential Flashing?\",\n",
    "        confirm_letter=\"y\",\n",
    "        reject_letter=\"n\",\n",
    "        default=False,\n",
    "    ).execute()\n",
    "\n",
    "    a2l_file_path = inquirer.text(\n",
    "        message=\"a2l file path\",\n",
    "        validate=EmptyInputValidator(),\n",
    "        default='/res/vbu_ai.json'\n",
    "    ).execute()\n",
    "\n",
    "    # node_path = inquirer.text(\n",
    "    #     message=\"node path\",\n",
    "    #     validate=EmptyInputValidator(),\n",
    "    # \tdefault=r\"/PROJECT/MODULE[]\",\n",
    "    # ).execute()\n",
    "\n",
    "    # leaves = inquirer.text(\n",
    "    #     message=\"leaves\",\n",
    "    #     validate=EmptyInputValidator(),\n",
    "    # \tdefault=r\"TQD_trqTrqSetNormal_MAP_v, VBU_L045A_CWP_05_09T_AImode_CM_single, Lookup2D_FLOAT32_IEEE, Lookup2D_X_FLOAT32_IEEE, Scalar_FLOAT32_IEEE, TQD_vVehSpd, TQD_vSgndSpd_MAP_y, TQD_pctAccPedPosFlt, TQD_pctAccPdl_MAP_x\"\n",
    "    # ).execute()\n",
    "\n",
    "    can_channel = inquirer.number(\n",
    "        message=\"CAN channel for flashing\",\n",
    "        min_allowed=0,\n",
    "        max_allowed=32,\n",
    "        validate=EmptyInputValidator(),\n",
    "        default=3,\n",
    "    ).execute()\n",
    "\n",
    "    download_id = inquirer.number(\n",
    "        message=\"CAN ID for downloading\",\n",
    "        min_allowed=0,\n",
    "        max_allowed=9999,\n",
    "        validate=EmptyInputValidator(),\n",
    "        default=630,\n",
    "    ).execute()\n",
    "\n",
    "    upload_id = inquirer.number(\n",
    "        message=\"CAN ID for uploading\",\n",
    "        min_allowed=0,\n",
    "        max_allowed=9999,\n",
    "        validate=EmptyInputValidator(),\n",
    "        default=631,\n",
    "    ).execute()\n",
    "\n",
    "    input_file_path = inquirer.text(\n",
    "        message=\"Input file path\",\n",
    "        validate=EmptyInputValidator(),\n",
    "        default=\"/res/download.json\",\n",
    "    ).execute()\n",
    "\n",
    "    output_file_path = inquirer.text(\n",
    "        message=\"Output file path\",\n",
    "        validate=EmptyInputValidator(),\n",
    "        default=\"/res/output.json\",\n",
    "    ).execute()\n",
    "\n",
    "    args = get_argparser().parse_args()\n",
    "    args.protocol = protocol\n",
    "    args.download = download\n",
    "    args.diff_flashing = differential_flashing\n",
    "    # args.a2l = a2l_file_path\n",
    "    # args.node_path = node_path\n",
    "    # args.leaves = leaves\n",
    "    args.channel = can_channel\n",
    "    args.download_id = download_id\n",
    "    args.upload_id = upload_id\n",
    "    args.input = repo.working_dir+input_file_path\n",
    "    args.output = repo.working_dir+output_file_path\n",
    "    pprint(args)\n",
    "\n",
    "    xcp_calib_from_xcpjson = Get_XCPCalib_From_XCPJSon(args.input)\n",
    "    xcp_data = Generate_Init_XCPData_From_A2L(\n",
    "        a2l=args.a2l, keys=args.leaves, node_path=args.node_path\n",
    "    )\n",
    "    try:\n",
    "        XCPData.model_validate(xcp_data)\n",
    "    except ValidationError as exc:\n",
    "        print(exc)\n",
    "\n",
    "    xcp_data.value = xcp_calib_from_xcpjson.data[0].value\n",
    "    pprint(xcp_data)\n",
    "\n",
    "    xcp_calib = XCPCalib(\n",
    "        config=XCPConfig(\n",
    "            channel=args.channel, download=args.download_id, upload=args.upload_id\n",
    "        ),\n",
    "        data=[xcp_data],\n",
    "    )\n",
    "    pprint(xcp_calib)"
   ]
  },
  {
   "cell_type": "code",
   "execution_count": 9,
   "metadata": {},
   "outputs": [],
   "source": [
    "#| hide\n",
    "import nbdev; nbdev.nbdev_export()"
   ]
  }
 ],
 "metadata": {
  "kernelspec": {
   "display_name": "python3",
   "language": "python",
   "name": "python3"
  },
  "language_info": {
   "codemirror_mode": {
    "name": "ipython",
    "version": 3
   },
   "file_extension": ".py",
   "mimetype": "text/x-python",
   "name": "python",
   "nbconvert_exporter": "python",
   "pygments_lexer": "ipython3",
   "version": "3.11.8"
  }
 },
 "nbformat": 4,
 "nbformat_minor": 4
}
