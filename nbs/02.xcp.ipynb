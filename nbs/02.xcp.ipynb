{
 "cells": [
  {
   "cell_type": "markdown",
   "metadata": {},
   "source": [
    "# XCP\n",
    "\n",
    "> flashing interface for XCP\n",
    "> For now, only support XCP on CAN via Kvaser CAN interface"
   ]
  },
  {
   "cell_type": "code",
   "execution_count": 1,
   "metadata": {},
   "outputs": [],
   "source": [
    "#| default_exp xcp"
   ]
  },
  {
   "cell_type": "code",
   "execution_count": 2,
   "metadata": {},
   "outputs": [],
   "source": [
    "#| hide\n",
    "from nbdev.showdoc import show_doc"
   ]
  },
  {
   "cell_type": "code",
   "execution_count": 3,
   "metadata": {},
   "outputs": [],
   "source": [
    "#| exports\n",
    "import argparse\n",
    "from InquirerPy import inquirer\n",
    "from InquirerPy.validator import EmptyInputValidator\n",
    "from InquirerPy.base.control import Choice"
   ]
  },
  {
   "cell_type": "code",
   "execution_count": 4,
   "metadata": {},
   "outputs": [],
   "source": [
    "#| export\n",
    "def get_argparser() -> argparse.ArgumentParser:\n",
    "\t\"\"\"Summary\n",
    "\tGet argument parser for command line arguments\n",
    "\n",
    "\tReturns:\n",
    "\t\targparse.ArgumentParser: _description_\n",
    "\t\"\"\"\n",
    "\tparser = argparse.ArgumentParser(description='XCP Processing')\n",
    "\n",
    "\tparser.add_argument(\n",
    "\t\t'-p',\n",
    "\t\t'--protocol',\n",
    "\t\ttype=str,\n",
    "\t\tchoices=['ccp', 'xcp'],\n",
    "\t\tdefault='ccp',\n",
    "\t\thelp='Protocol to use: ccp/xcp',\n",
    "\t)\n",
    "\n",
    "\tparser.add_argument(\n",
    "\t\t'-u',\n",
    "\t\t'--upload',\n",
    "\t\tdefault=False,\n",
    "\t\thelp='Download or upload: default is download(host->target)',\n",
    "\t\taction='store_false',\n",
    "\t)\n",
    "\n",
    "\tparser.add_argument(\n",
    "\t\t'-d',\n",
    "\t\t'--diff_flashing',\n",
    "\t\ttype=True,\n",
    "\t\thelp='use differential flashing',\n",
    "\t\taction='store_true',\n",
    "\t)\n",
    "\n",
    "\tparser.add_argument(\n",
    "\t\t'-i', \n",
    "\t\t'--input', \n",
    "\t\ttype=str, \n",
    "\t\thelp='Input file path')\n",
    "\t\n",
    "\tparser.add_argument(\n",
    "\t\t'-o'\n",
    "\t\t'--output', \n",
    "\t\ttype=str, \n",
    "\t\thelp='Output file path')\n",
    "\treturn parser"
   ]
  },
  {
   "cell_type": "code",
   "execution_count": 5,
   "metadata": {},
   "outputs": [
    {
     "data": {
      "text/markdown": [
       "---\n",
       "\n",
       "### get_argparser\n",
       "\n",
       ">      get_argparser ()\n",
       "\n",
       "Summary\n",
       "Get argument parser for command line arguments\n",
       "\n",
       "Returns:\n",
       "        argparse.ArgumentParser: _description_"
      ],
      "text/plain": [
       "---\n",
       "\n",
       "### get_argparser\n",
       "\n",
       ">      get_argparser ()\n",
       "\n",
       "Summary\n",
       "Get argument parser for command line arguments\n",
       "\n",
       "Returns:\n",
       "        argparse.ArgumentParser: _description_"
      ]
     },
     "execution_count": 5,
     "metadata": {},
     "output_type": "execute_result"
    }
   ],
   "source": [
    "show_doc(get_argparser)"
   ]
  },
  {
   "cell_type": "code",
   "execution_count": 6,
   "metadata": {},
   "outputs": [],
   "source": [
    "#| export\n",
    "if __name__ == '__main__' and \"__file__\" in globals():  # only run if this file is called directly \n",
    "\n",
    "    protocol = inquirer.select(\n",
    "        message=\"What's the protocol?\",\n",
    "        choices=[\n",
    "            Choice(value=\"ccp\", name=\"CCP\", enabled=True),\n",
    "            Choice(value=\"xcp\", name=\"XCP\", enabled=True),\n",
    "        ],\n",
    "        default=\"ccp\",\n",
    "    ).execute()    \n",
    "\n",
    "    upload = inquirer.confirm(\n",
    "        message=\"Uploading(target->host)?\",\n",
    "        default=False,\n",
    "        confirm_letter=\"y\",\n",
    "        reject_letter=\"n\",\n",
    "    ).execute()\n",
    "\n",
    "    differential_flash = inquirer.confirm(\n",
    "        message=\"Differential Flashing?\",\n",
    "        default=False,\n",
    "        confirm_letter=\"y\",\n",
    "        reject_letter=\"n\",\n",
    "    ).execute()\n",
    "\n",
    "    input_file_path = inquirer.text(\n",
    "        message=\"Input file path\",\n",
    "        validate=EmptyInputValidator()\n",
    "    ).execute()\n",
    "\n",
    "    output_file_path = inquirer.text(\n",
    "        message=\"Output file path\",\n",
    "        validate=EmptyInputValidator()\n",
    "    ).execute()\n",
    "    \n",
    "        \n",
    "    args = get_argparser().parse_args()\n",
    "    args.protocol = protocol\n",
    "    args.upload = upload\n",
    "    args.diff_flashing = differential_flash\n",
    "    args.input = input_file_path\n",
    "    args.output = output_file_path\n",
    "    "
   ]
  },
  {
   "cell_type": "code",
   "execution_count": 7,
   "metadata": {},
   "outputs": [],
   "source": [
    "#| hide\n",
    "import nbdev; nbdev.nbdev_export()"
   ]
  }
 ],
 "metadata": {
  "kernelspec": {
   "display_name": "python3",
   "language": "python",
   "name": "python3"
  },
  "language_info": {
   "codemirror_mode": {
    "name": "ipython",
    "version": 3
   },
   "file_extension": ".py",
   "mimetype": "text/x-python",
   "name": "python",
   "nbconvert_exporter": "python",
   "pygments_lexer": "ipython3",
   "version": "3.11.8"
  }
 },
 "nbformat": 4,
 "nbformat_minor": 4
}
